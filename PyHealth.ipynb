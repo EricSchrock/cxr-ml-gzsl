{
  "nbformat": 4,
  "nbformat_minor": 0,
  "metadata": {
    "colab": {
      "provenance": []
    },
    "kernelspec": {
      "name": "python3",
      "display_name": "Python 3"
    },
    "language_info": {
      "name": "python"
    }
  },
  "cells": [
    {
      "cell_type": "code",
      "execution_count": 1,
      "metadata": {
        "colab": {
          "base_uri": "https://localhost:8080/"
        },
        "id": "IY4y2TbgjbHD",
        "outputId": "61f323bf-aa74-4a6f-905b-6808e678bd6d"
      },
      "outputs": [
        {
          "output_type": "stream",
          "name": "stdout",
          "text": [
            "Collecting numpy==1.26.4\n",
            "  Downloading numpy-1.26.4-cp311-cp311-manylinux_2_17_x86_64.manylinux2014_x86_64.whl.metadata (61 kB)\n",
            "\u001b[?25l     \u001b[90m━━━━━━━━━━━━━━━━━━━━━━━━━━━━━━━━━━━━━━━━\u001b[0m \u001b[32m0.0/61.0 kB\u001b[0m \u001b[31m?\u001b[0m eta \u001b[36m-:--:--\u001b[0m\r\u001b[2K     \u001b[91m━━━━━━━━━━━━━━━━━━━━━━━━━━━━━━━━━\u001b[0m\u001b[91m╸\u001b[0m\u001b[90m━━━━━━\u001b[0m \u001b[32m51.2/61.0 kB\u001b[0m \u001b[31m61.7 MB/s\u001b[0m eta \u001b[36m0:00:01\u001b[0m\r\u001b[2K     \u001b[90m━━━━━━━━━━━━━━━━━━━━━━━━━━━━━━━━━━━━━━━━\u001b[0m \u001b[32m61.0/61.0 kB\u001b[0m \u001b[31m1.1 MB/s\u001b[0m eta \u001b[36m0:00:00\u001b[0m\n",
            "\u001b[?25hDownloading numpy-1.26.4-cp311-cp311-manylinux_2_17_x86_64.manylinux2014_x86_64.whl (18.3 MB)\n",
            "\u001b[2K   \u001b[90m━━━━━━━━━━━━━━━━━━━━━━━━━━━━━━━━━━━━━━━━\u001b[0m \u001b[32m18.3/18.3 MB\u001b[0m \u001b[31m57.4 MB/s\u001b[0m eta \u001b[36m0:00:00\u001b[0m\n",
            "\u001b[?25hInstalling collected packages: numpy\n",
            "  Attempting uninstall: numpy\n",
            "    Found existing installation: numpy 2.0.2\n",
            "    Uninstalling numpy-2.0.2:\n",
            "      Successfully uninstalled numpy-2.0.2\n",
            "\u001b[31mERROR: pip's dependency resolver does not currently take into account all the packages that are installed. This behaviour is the source of the following dependency conflicts.\n",
            "thinc 8.3.6 requires numpy<3.0.0,>=2.0.0, but you have numpy 1.26.4 which is incompatible.\u001b[0m\u001b[31m\n",
            "\u001b[0mSuccessfully installed numpy-1.26.4\n",
            "Collecting pandas==1.5.3\n",
            "  Downloading pandas-1.5.3-cp311-cp311-manylinux_2_17_x86_64.manylinux2014_x86_64.whl.metadata (11 kB)\n",
            "Requirement already satisfied: python-dateutil>=2.8.1 in /usr/local/lib/python3.11/dist-packages (from pandas==1.5.3) (2.9.0.post0)\n",
            "Requirement already satisfied: pytz>=2020.1 in /usr/local/lib/python3.11/dist-packages (from pandas==1.5.3) (2025.2)\n",
            "Requirement already satisfied: numpy>=1.21.0 in /usr/local/lib/python3.11/dist-packages (from pandas==1.5.3) (1.26.4)\n",
            "Requirement already satisfied: six>=1.5 in /usr/local/lib/python3.11/dist-packages (from python-dateutil>=2.8.1->pandas==1.5.3) (1.17.0)\n",
            "Downloading pandas-1.5.3-cp311-cp311-manylinux_2_17_x86_64.manylinux2014_x86_64.whl (12.0 MB)\n",
            "\u001b[2K   \u001b[90m━━━━━━━━━━━━━━━━━━━━━━━━━━━━━━━━━━━━━━━━\u001b[0m \u001b[32m12.0/12.0 MB\u001b[0m \u001b[31m91.9 MB/s\u001b[0m eta \u001b[36m0:00:00\u001b[0m\n",
            "\u001b[?25hInstalling collected packages: pandas\n",
            "  Attempting uninstall: pandas\n",
            "    Found existing installation: pandas 2.2.2\n",
            "    Uninstalling pandas-2.2.2:\n",
            "      Successfully uninstalled pandas-2.2.2\n",
            "\u001b[31mERROR: pip's dependency resolver does not currently take into account all the packages that are installed. This behaviour is the source of the following dependency conflicts.\n",
            "google-colab 1.0.0 requires pandas==2.2.2, but you have pandas 1.5.3 which is incompatible.\n",
            "plotnine 0.14.5 requires pandas>=2.2.0, but you have pandas 1.5.3 which is incompatible.\n",
            "cudf-cu12 25.2.1 requires pandas<2.2.4dev0,>=2.0, but you have pandas 1.5.3 which is incompatible.\n",
            "mizani 0.13.3 requires pandas>=2.2.0, but you have pandas 1.5.3 which is incompatible.\n",
            "dask-cudf-cu12 25.2.2 requires pandas<2.2.4dev0,>=2.0, but you have pandas 1.5.3 which is incompatible.\n",
            "dask-expr 1.1.21 requires pandas>=2, but you have pandas 1.5.3 which is incompatible.\n",
            "xarray 2025.3.1 requires pandas>=2.1, but you have pandas 1.5.3 which is incompatible.\u001b[0m\u001b[31m\n",
            "\u001b[0mSuccessfully installed pandas-1.5.3\n",
            "Collecting mne\n",
            "  Downloading mne-1.9.0-py3-none-any.whl.metadata (20 kB)\n",
            "Collecting pandarallel\n",
            "  Downloading pandarallel-1.6.5.tar.gz (14 kB)\n",
            "  Preparing metadata (setup.py) ... \u001b[?25l\u001b[?25hdone\n",
            "Collecting rdkit\n",
            "  Downloading rdkit-2024.9.6-cp311-cp311-manylinux_2_28_x86_64.whl.metadata (4.0 kB)\n",
            "Requirement already satisfied: transformers in /usr/local/lib/python3.11/dist-packages (4.51.3)\n",
            "Requirement already satisfied: decorator in /usr/local/lib/python3.11/dist-packages (from mne) (4.4.2)\n",
            "Requirement already satisfied: jinja2 in /usr/local/lib/python3.11/dist-packages (from mne) (3.1.6)\n",
            "Requirement already satisfied: lazy-loader>=0.3 in /usr/local/lib/python3.11/dist-packages (from mne) (0.4)\n",
            "Requirement already satisfied: matplotlib>=3.6 in /usr/local/lib/python3.11/dist-packages (from mne) (3.10.0)\n",
            "Requirement already satisfied: numpy<3,>=1.23 in /usr/local/lib/python3.11/dist-packages (from mne) (1.26.4)\n",
            "Requirement already satisfied: packaging in /usr/local/lib/python3.11/dist-packages (from mne) (24.2)\n",
            "Requirement already satisfied: pooch>=1.5 in /usr/local/lib/python3.11/dist-packages (from mne) (1.8.2)\n",
            "Requirement already satisfied: scipy>=1.9 in /usr/local/lib/python3.11/dist-packages (from mne) (1.15.2)\n",
            "Requirement already satisfied: tqdm in /usr/local/lib/python3.11/dist-packages (from mne) (4.67.1)\n",
            "Collecting dill>=0.3.1 (from pandarallel)\n",
            "  Downloading dill-0.4.0-py3-none-any.whl.metadata (10 kB)\n",
            "Requirement already satisfied: pandas>=1 in /usr/local/lib/python3.11/dist-packages (from pandarallel) (1.5.3)\n",
            "Requirement already satisfied: psutil in /usr/local/lib/python3.11/dist-packages (from pandarallel) (5.9.5)\n",
            "Requirement already satisfied: Pillow in /usr/local/lib/python3.11/dist-packages (from rdkit) (11.2.1)\n",
            "Requirement already satisfied: filelock in /usr/local/lib/python3.11/dist-packages (from transformers) (3.18.0)\n",
            "Requirement already satisfied: huggingface-hub<1.0,>=0.30.0 in /usr/local/lib/python3.11/dist-packages (from transformers) (0.30.2)\n",
            "Requirement already satisfied: pyyaml>=5.1 in /usr/local/lib/python3.11/dist-packages (from transformers) (6.0.2)\n",
            "Requirement already satisfied: regex!=2019.12.17 in /usr/local/lib/python3.11/dist-packages (from transformers) (2024.11.6)\n",
            "Requirement already satisfied: requests in /usr/local/lib/python3.11/dist-packages (from transformers) (2.32.3)\n",
            "Requirement already satisfied: tokenizers<0.22,>=0.21 in /usr/local/lib/python3.11/dist-packages (from transformers) (0.21.1)\n",
            "Requirement already satisfied: safetensors>=0.4.3 in /usr/local/lib/python3.11/dist-packages (from transformers) (0.5.3)\n",
            "Requirement already satisfied: fsspec>=2023.5.0 in /usr/local/lib/python3.11/dist-packages (from huggingface-hub<1.0,>=0.30.0->transformers) (2025.3.2)\n",
            "Requirement already satisfied: typing-extensions>=3.7.4.3 in /usr/local/lib/python3.11/dist-packages (from huggingface-hub<1.0,>=0.30.0->transformers) (4.13.2)\n",
            "Requirement already satisfied: contourpy>=1.0.1 in /usr/local/lib/python3.11/dist-packages (from matplotlib>=3.6->mne) (1.3.2)\n",
            "Requirement already satisfied: cycler>=0.10 in /usr/local/lib/python3.11/dist-packages (from matplotlib>=3.6->mne) (0.12.1)\n",
            "Requirement already satisfied: fonttools>=4.22.0 in /usr/local/lib/python3.11/dist-packages (from matplotlib>=3.6->mne) (4.57.0)\n",
            "Requirement already satisfied: kiwisolver>=1.3.1 in /usr/local/lib/python3.11/dist-packages (from matplotlib>=3.6->mne) (1.4.8)\n",
            "Requirement already satisfied: pyparsing>=2.3.1 in /usr/local/lib/python3.11/dist-packages (from matplotlib>=3.6->mne) (3.2.3)\n",
            "Requirement already satisfied: python-dateutil>=2.7 in /usr/local/lib/python3.11/dist-packages (from matplotlib>=3.6->mne) (2.9.0.post0)\n",
            "Requirement already satisfied: pytz>=2020.1 in /usr/local/lib/python3.11/dist-packages (from pandas>=1->pandarallel) (2025.2)\n",
            "Requirement already satisfied: platformdirs>=2.5.0 in /usr/local/lib/python3.11/dist-packages (from pooch>=1.5->mne) (4.3.7)\n",
            "Requirement already satisfied: charset-normalizer<4,>=2 in /usr/local/lib/python3.11/dist-packages (from requests->transformers) (3.4.1)\n",
            "Requirement already satisfied: idna<4,>=2.5 in /usr/local/lib/python3.11/dist-packages (from requests->transformers) (3.10)\n",
            "Requirement already satisfied: urllib3<3,>=1.21.1 in /usr/local/lib/python3.11/dist-packages (from requests->transformers) (2.4.0)\n",
            "Requirement already satisfied: certifi>=2017.4.17 in /usr/local/lib/python3.11/dist-packages (from requests->transformers) (2025.4.26)\n",
            "Requirement already satisfied: MarkupSafe>=2.0 in /usr/local/lib/python3.11/dist-packages (from jinja2->mne) (3.0.2)\n",
            "Requirement already satisfied: six>=1.5 in /usr/local/lib/python3.11/dist-packages (from python-dateutil>=2.7->matplotlib>=3.6->mne) (1.17.0)\n",
            "Downloading mne-1.9.0-py3-none-any.whl (7.4 MB)\n",
            "\u001b[2K   \u001b[90m━━━━━━━━━━━━━━━━━━━━━━━━━━━━━━━━━━━━━━━━\u001b[0m \u001b[32m7.4/7.4 MB\u001b[0m \u001b[31m104.0 MB/s\u001b[0m eta \u001b[36m0:00:00\u001b[0m\n",
            "\u001b[?25hDownloading rdkit-2024.9.6-cp311-cp311-manylinux_2_28_x86_64.whl (34.3 MB)\n",
            "\u001b[2K   \u001b[90m━━━━━━━━━━━━━━━━━━━━━━━━━━━━━━━━━━━━━━━━\u001b[0m \u001b[32m34.3/34.3 MB\u001b[0m \u001b[31m23.0 MB/s\u001b[0m eta \u001b[36m0:00:00\u001b[0m\n",
            "\u001b[?25hDownloading dill-0.4.0-py3-none-any.whl (119 kB)\n",
            "\u001b[2K   \u001b[90m━━━━━━━━━━━━━━━━━━━━━━━━━━━━━━━━━━━━━━━━\u001b[0m \u001b[32m119.7/119.7 kB\u001b[0m \u001b[31m8.6 MB/s\u001b[0m eta \u001b[36m0:00:00\u001b[0m\n",
            "\u001b[?25hBuilding wheels for collected packages: pandarallel\n",
            "  Building wheel for pandarallel (setup.py) ... \u001b[?25l\u001b[?25hdone\n",
            "  Created wheel for pandarallel: filename=pandarallel-1.6.5-py3-none-any.whl size=16674 sha256=7249e4fa8058ba0840d50bed089f9b3ccfae53c88b3fe667ee027d2243b7e484\n",
            "  Stored in directory: /root/.cache/pip/wheels/b9/c6/5a/829298789e94348b81af52ab42c19d49da007306bbcc983827\n",
            "Successfully built pandarallel\n",
            "Installing collected packages: rdkit, dill, pandarallel, mne\n",
            "Successfully installed dill-0.4.0 mne-1.9.0 pandarallel-1.6.5 rdkit-2024.9.6\n"
          ]
        }
      ],
      "source": [
        "!pip install numpy==1.26.4\n",
        "!pip install pandas==1.5.3\n",
        "!pip install mne pandarallel rdkit transformers"
      ]
    },
    {
      "cell_type": "markdown",
      "source": [
        "**Note**: You may need to restart the session to get the correct `numpy` version for the PyHealth install."
      ],
      "metadata": {
        "id": "kgiRv1WAbiqX"
      }
    },
    {
      "cell_type": "code",
      "source": [
        "!rm -rf PyHealth\n",
        "!git clone https://github.com/EricSchrock/PyHealth.git\n",
        "%cd PyHealth\n",
        "!git checkout ChestX-ray14\n",
        "%cd .."
      ],
      "metadata": {
        "colab": {
          "base_uri": "https://localhost:8080/"
        },
        "id": "0FnU3rp11jXH",
        "outputId": "d9a24b6e-56cf-43e8-8608-a7a70def8acf"
      },
      "execution_count": 13,
      "outputs": [
        {
          "output_type": "stream",
          "name": "stdout",
          "text": [
            "Cloning into 'PyHealth'...\n",
            "remote: Enumerating objects: 6913, done.\u001b[K\n",
            "remote: Counting objects: 100% (1331/1331), done.\u001b[K\n",
            "remote: Compressing objects: 100% (447/447), done.\u001b[K\n",
            "remote: Total 6913 (delta 1094), reused 893 (delta 884), pack-reused 5582 (from 3)\u001b[K\n",
            "Receiving objects: 100% (6913/6913), 112.05 MiB | 22.29 MiB/s, done.\n",
            "Resolving deltas: 100% (4367/4367), done.\n",
            "/content/PyHealth\n",
            "Branch 'ChestX-ray14' set up to track remote branch 'ChestX-ray14' from 'origin'.\n",
            "Switched to a new branch 'ChestX-ray14'\n",
            "/content\n"
          ]
        }
      ]
    },
    {
      "cell_type": "markdown",
      "source": [
        "**Note**: You may need to restart the session to get the correct `pyhealth` version."
      ],
      "metadata": {
        "id": "i433qiu6tq2o"
      }
    },
    {
      "cell_type": "code",
      "source": [
        "%cd PyHealth\n",
        "!pip install .\n",
        "%cd .."
      ],
      "metadata": {
        "colab": {
          "base_uri": "https://localhost:8080/",
          "height": 1000
        },
        "id": "sfetp7ItWBoG",
        "outputId": "1b8f2ec6-b9ae-4582-865b-d45ac219892c"
      },
      "execution_count": 14,
      "outputs": [
        {
          "output_type": "stream",
          "name": "stdout",
          "text": [
            "/content/PyHealth\n",
            "Processing /content/PyHealth\n",
            "  Preparing metadata (setup.py) ... \u001b[?25l\u001b[?25hdone\n",
            "Requirement already satisfied: torch>=1.8.0 in /usr/local/lib/python3.11/dist-packages (from pyhealth==1.1.4) (2.6.0+cu124)\n",
            "Requirement already satisfied: torchvision>=0.9.0 in /usr/local/lib/python3.11/dist-packages (from pyhealth==1.1.4) (0.21.0+cu124)\n",
            "Requirement already satisfied: rdkit>=2022.03.4 in /usr/local/lib/python3.11/dist-packages (from pyhealth==1.1.4) (2024.9.6)\n",
            "Requirement already satisfied: scikit-learn>=0.24.2 in /usr/local/lib/python3.11/dist-packages (from pyhealth==1.1.4) (1.6.1)\n",
            "Requirement already satisfied: networkx>=2.6.3 in /usr/local/lib/python3.11/dist-packages (from pyhealth==1.1.4) (3.4.2)\n",
            "Requirement already satisfied: pandas<2,>=1.3.2 in /usr/local/lib/python3.11/dist-packages (from pyhealth==1.1.4) (1.5.3)\n",
            "Requirement already satisfied: pandarallel>=1.5.3 in /usr/local/lib/python3.11/dist-packages (from pyhealth==1.1.4) (1.6.5)\n",
            "Requirement already satisfied: mne>=1.0.3 in /usr/local/lib/python3.11/dist-packages (from pyhealth==1.1.4) (1.9.0)\n",
            "Requirement already satisfied: urllib3<=1.26.15 in /usr/local/lib/python3.11/dist-packages (from pyhealth==1.1.4) (1.26.15)\n",
            "Requirement already satisfied: numpy in /usr/local/lib/python3.11/dist-packages (from pyhealth==1.1.4) (1.26.4)\n",
            "Requirement already satisfied: tqdm in /usr/local/lib/python3.11/dist-packages (from pyhealth==1.1.4) (4.67.1)\n",
            "Requirement already satisfied: polars in /usr/local/lib/python3.11/dist-packages (from pyhealth==1.1.4) (1.21.0)\n",
            "Requirement already satisfied: transformers in /usr/local/lib/python3.11/dist-packages (from pyhealth==1.1.4) (4.51.3)\n",
            "Requirement already satisfied: decorator in /usr/local/lib/python3.11/dist-packages (from mne>=1.0.3->pyhealth==1.1.4) (4.4.2)\n",
            "Requirement already satisfied: jinja2 in /usr/local/lib/python3.11/dist-packages (from mne>=1.0.3->pyhealth==1.1.4) (3.1.6)\n",
            "Requirement already satisfied: lazy-loader>=0.3 in /usr/local/lib/python3.11/dist-packages (from mne>=1.0.3->pyhealth==1.1.4) (0.4)\n",
            "Requirement already satisfied: matplotlib>=3.6 in /usr/local/lib/python3.11/dist-packages (from mne>=1.0.3->pyhealth==1.1.4) (3.10.0)\n",
            "Requirement already satisfied: packaging in /usr/local/lib/python3.11/dist-packages (from mne>=1.0.3->pyhealth==1.1.4) (24.2)\n",
            "Requirement already satisfied: pooch>=1.5 in /usr/local/lib/python3.11/dist-packages (from mne>=1.0.3->pyhealth==1.1.4) (1.8.2)\n",
            "Requirement already satisfied: scipy>=1.9 in /usr/local/lib/python3.11/dist-packages (from mne>=1.0.3->pyhealth==1.1.4) (1.15.2)\n",
            "Requirement already satisfied: dill>=0.3.1 in /usr/local/lib/python3.11/dist-packages (from pandarallel>=1.5.3->pyhealth==1.1.4) (0.4.0)\n",
            "Requirement already satisfied: psutil in /usr/local/lib/python3.11/dist-packages (from pandarallel>=1.5.3->pyhealth==1.1.4) (5.9.5)\n",
            "Requirement already satisfied: python-dateutil>=2.8.1 in /usr/local/lib/python3.11/dist-packages (from pandas<2,>=1.3.2->pyhealth==1.1.4) (2.9.0.post0)\n",
            "Requirement already satisfied: pytz>=2020.1 in /usr/local/lib/python3.11/dist-packages (from pandas<2,>=1.3.2->pyhealth==1.1.4) (2025.2)\n",
            "Requirement already satisfied: Pillow in /usr/local/lib/python3.11/dist-packages (from rdkit>=2022.03.4->pyhealth==1.1.4) (11.2.1)\n",
            "Requirement already satisfied: joblib>=1.2.0 in /usr/local/lib/python3.11/dist-packages (from scikit-learn>=0.24.2->pyhealth==1.1.4) (1.4.2)\n",
            "Requirement already satisfied: threadpoolctl>=3.1.0 in /usr/local/lib/python3.11/dist-packages (from scikit-learn>=0.24.2->pyhealth==1.1.4) (3.6.0)\n",
            "Requirement already satisfied: filelock in /usr/local/lib/python3.11/dist-packages (from torch>=1.8.0->pyhealth==1.1.4) (3.18.0)\n",
            "Requirement already satisfied: typing-extensions>=4.10.0 in /usr/local/lib/python3.11/dist-packages (from torch>=1.8.0->pyhealth==1.1.4) (4.13.2)\n",
            "Requirement already satisfied: fsspec in /usr/local/lib/python3.11/dist-packages (from torch>=1.8.0->pyhealth==1.1.4) (2025.3.2)\n",
            "Requirement already satisfied: nvidia-cuda-nvrtc-cu12==12.4.127 in /usr/local/lib/python3.11/dist-packages (from torch>=1.8.0->pyhealth==1.1.4) (12.4.127)\n",
            "Requirement already satisfied: nvidia-cuda-runtime-cu12==12.4.127 in /usr/local/lib/python3.11/dist-packages (from torch>=1.8.0->pyhealth==1.1.4) (12.4.127)\n",
            "Requirement already satisfied: nvidia-cuda-cupti-cu12==12.4.127 in /usr/local/lib/python3.11/dist-packages (from torch>=1.8.0->pyhealth==1.1.4) (12.4.127)\n",
            "Requirement already satisfied: nvidia-cudnn-cu12==9.1.0.70 in /usr/local/lib/python3.11/dist-packages (from torch>=1.8.0->pyhealth==1.1.4) (9.1.0.70)\n",
            "Requirement already satisfied: nvidia-cublas-cu12==12.4.5.8 in /usr/local/lib/python3.11/dist-packages (from torch>=1.8.0->pyhealth==1.1.4) (12.4.5.8)\n",
            "Requirement already satisfied: nvidia-cufft-cu12==11.2.1.3 in /usr/local/lib/python3.11/dist-packages (from torch>=1.8.0->pyhealth==1.1.4) (11.2.1.3)\n",
            "Requirement already satisfied: nvidia-curand-cu12==10.3.5.147 in /usr/local/lib/python3.11/dist-packages (from torch>=1.8.0->pyhealth==1.1.4) (10.3.5.147)\n",
            "Requirement already satisfied: nvidia-cusolver-cu12==11.6.1.9 in /usr/local/lib/python3.11/dist-packages (from torch>=1.8.0->pyhealth==1.1.4) (11.6.1.9)\n",
            "Requirement already satisfied: nvidia-cusparse-cu12==12.3.1.170 in /usr/local/lib/python3.11/dist-packages (from torch>=1.8.0->pyhealth==1.1.4) (12.3.1.170)\n",
            "Requirement already satisfied: nvidia-cusparselt-cu12==0.6.2 in /usr/local/lib/python3.11/dist-packages (from torch>=1.8.0->pyhealth==1.1.4) (0.6.2)\n",
            "Requirement already satisfied: nvidia-nccl-cu12==2.21.5 in /usr/local/lib/python3.11/dist-packages (from torch>=1.8.0->pyhealth==1.1.4) (2.21.5)\n",
            "Requirement already satisfied: nvidia-nvtx-cu12==12.4.127 in /usr/local/lib/python3.11/dist-packages (from torch>=1.8.0->pyhealth==1.1.4) (12.4.127)\n",
            "Requirement already satisfied: nvidia-nvjitlink-cu12==12.4.127 in /usr/local/lib/python3.11/dist-packages (from torch>=1.8.0->pyhealth==1.1.4) (12.4.127)\n",
            "Requirement already satisfied: triton==3.2.0 in /usr/local/lib/python3.11/dist-packages (from torch>=1.8.0->pyhealth==1.1.4) (3.2.0)\n",
            "Requirement already satisfied: sympy==1.13.1 in /usr/local/lib/python3.11/dist-packages (from torch>=1.8.0->pyhealth==1.1.4) (1.13.1)\n",
            "Requirement already satisfied: mpmath<1.4,>=1.1.0 in /usr/local/lib/python3.11/dist-packages (from sympy==1.13.1->torch>=1.8.0->pyhealth==1.1.4) (1.3.0)\n",
            "Requirement already satisfied: huggingface-hub<1.0,>=0.30.0 in /usr/local/lib/python3.11/dist-packages (from transformers->pyhealth==1.1.4) (0.30.2)\n",
            "Requirement already satisfied: pyyaml>=5.1 in /usr/local/lib/python3.11/dist-packages (from transformers->pyhealth==1.1.4) (6.0.2)\n",
            "Requirement already satisfied: regex!=2019.12.17 in /usr/local/lib/python3.11/dist-packages (from transformers->pyhealth==1.1.4) (2024.11.6)\n",
            "Requirement already satisfied: requests in /usr/local/lib/python3.11/dist-packages (from transformers->pyhealth==1.1.4) (2.32.3)\n",
            "Requirement already satisfied: tokenizers<0.22,>=0.21 in /usr/local/lib/python3.11/dist-packages (from transformers->pyhealth==1.1.4) (0.21.1)\n",
            "Requirement already satisfied: safetensors>=0.4.3 in /usr/local/lib/python3.11/dist-packages (from transformers->pyhealth==1.1.4) (0.5.3)\n",
            "Requirement already satisfied: contourpy>=1.0.1 in /usr/local/lib/python3.11/dist-packages (from matplotlib>=3.6->mne>=1.0.3->pyhealth==1.1.4) (1.3.2)\n",
            "Requirement already satisfied: cycler>=0.10 in /usr/local/lib/python3.11/dist-packages (from matplotlib>=3.6->mne>=1.0.3->pyhealth==1.1.4) (0.12.1)\n",
            "Requirement already satisfied: fonttools>=4.22.0 in /usr/local/lib/python3.11/dist-packages (from matplotlib>=3.6->mne>=1.0.3->pyhealth==1.1.4) (4.57.0)\n",
            "Requirement already satisfied: kiwisolver>=1.3.1 in /usr/local/lib/python3.11/dist-packages (from matplotlib>=3.6->mne>=1.0.3->pyhealth==1.1.4) (1.4.8)\n",
            "Requirement already satisfied: pyparsing>=2.3.1 in /usr/local/lib/python3.11/dist-packages (from matplotlib>=3.6->mne>=1.0.3->pyhealth==1.1.4) (3.2.3)\n",
            "Requirement already satisfied: platformdirs>=2.5.0 in /usr/local/lib/python3.11/dist-packages (from pooch>=1.5->mne>=1.0.3->pyhealth==1.1.4) (4.3.7)\n",
            "Requirement already satisfied: six>=1.5 in /usr/local/lib/python3.11/dist-packages (from python-dateutil>=2.8.1->pandas<2,>=1.3.2->pyhealth==1.1.4) (1.17.0)\n",
            "Requirement already satisfied: charset-normalizer<4,>=2 in /usr/local/lib/python3.11/dist-packages (from requests->transformers->pyhealth==1.1.4) (3.4.1)\n",
            "Requirement already satisfied: idna<4,>=2.5 in /usr/local/lib/python3.11/dist-packages (from requests->transformers->pyhealth==1.1.4) (3.10)\n",
            "Requirement already satisfied: certifi>=2017.4.17 in /usr/local/lib/python3.11/dist-packages (from requests->transformers->pyhealth==1.1.4) (2025.4.26)\n",
            "Requirement already satisfied: MarkupSafe>=2.0 in /usr/local/lib/python3.11/dist-packages (from jinja2->mne>=1.0.3->pyhealth==1.1.4) (3.0.2)\n",
            "Building wheels for collected packages: pyhealth\n",
            "  Building wheel for pyhealth (setup.py) ... \u001b[?25l\u001b[?25hdone\n",
            "  Created wheel for pyhealth: filename=pyhealth-1.1.4-py3-none-any.whl size=324878 sha256=9f7c1297c7fd18aea96c3aded108da3d044d165e784521bed9942bad8d510897\n",
            "  Stored in directory: /tmp/pip-ephem-wheel-cache-ajm5r_eb/wheels/fe/80/ec/c38e2873528c14d8c907179c508544b0676de56dc94d9c6c92\n",
            "Successfully built pyhealth\n",
            "Installing collected packages: pyhealth\n",
            "  Attempting uninstall: pyhealth\n",
            "    Found existing installation: pyhealth 1.1.4\n",
            "    Uninstalling pyhealth-1.1.4:\n",
            "      Successfully uninstalled pyhealth-1.1.4\n",
            "Successfully installed pyhealth-1.1.4\n"
          ]
        },
        {
          "output_type": "display_data",
          "data": {
            "application/vnd.colab-display-data+json": {
              "pip_warning": {
                "packages": [
                  "pyhealth"
                ]
              },
              "id": "5686dbd166224627996026f3d1a68761"
            }
          },
          "metadata": {}
        },
        {
          "output_type": "stream",
          "name": "stdout",
          "text": [
            "/content\n"
          ]
        }
      ]
    },
    {
      "cell_type": "code",
      "source": [
        "!python PyHealth/pyhealth/datasets/chestxray14.py"
      ],
      "metadata": {
        "colab": {
          "base_uri": "https://localhost:8080/"
        },
        "id": "pA6RUfVMWWGe",
        "outputId": "548640dd-8dae-478b-9751-b15bbfaa6629"
      },
      "execution_count": 1,
      "outputs": [
        {
          "output_type": "stream",
          "name": "stdout",
          "text": [
            "\n",
            "Statistics (partial=True):\n",
            "\t- Dataset: ChestX-ray14\n",
            "\t- Paper: https://arxiv.org/abs/1705.02315\n",
            "\t- Source: https://nihcc.app.box.com/v/ChestXray-NIHCC\n",
            "\t- Number of images: 14999\n",
            "\t- Average number of findings per image: 0.62\n",
            "\t- Number with no finding: 8753\n",
            "\t- Number with atelectasis: 1350\n",
            "\t- Number with cardiomegaly: 396\n",
            "\t- Number with consolidation: 557\n",
            "\t- Number with edema: 196\n",
            "\t- Number with effusion: 1382\n",
            "\t- Number with emphysema: 318\n",
            "\t- Number with fibrosis: 379\n",
            "\t- Number with hernia: 46\n",
            "\t- Number with infiltration: 2260\n",
            "\t- Number with mass: 470\n",
            "\t- Number with nodule: 666\n",
            "\t- Number with pleural_thickening: 468\n",
            "\t- Number with pneumonia: 184\n",
            "\t- Number with pneumothorax: 670\n",
            "\n",
            "\n",
            "dataset: index -> Tuple[Image.Image, <ChestXray>]\n",
            "\n",
            "<ChestXray>\n",
            "    - image_name: str\n",
            "    - patient_age: str\n",
            "    - patient_sex: Literal['M', 'F']\n",
            "    - labels: <ChestXrayLabels>\n",
            "\n",
            "    <ChestXrayLabels>\n",
            "        - atelectasis: bool\n",
            "        - cardiomegaly: bool\n",
            "        - consolidation: bool\n",
            "        - edema: bool\n",
            "        - effusion: bool\n",
            "        - emphysema: bool\n",
            "        - fibrosis: bool\n",
            "        - hernia: bool\n",
            "        - infiltration: bool\n",
            "        - mass: bool\n",
            "        - nodule: bool\n",
            "        - pleural_thickening: bool\n",
            "        - pneumonia: bool\n",
            "        - pneumothorax: bool\n",
            "\n",
            "(<PIL.Image.Image image mode=RGB size=1024x1024 at 0x7E43FAE8FF10>, {'image_name': '00000001_000.png', 'patient_age': 57, 'patient_sex': 'M', 'labels': {'atelectasis': False, 'cardiomegaly': True, 'consolidation': False, 'edema': False, 'effusion': False, 'emphysema': False, 'fibrosis': False, 'hernia': False, 'infiltration': False, 'mass': False, 'nodule': False, 'pleural_thickening': False, 'pneumonia': False, 'pneumothorax': False}})\n"
          ]
        }
      ]
    },
    {
      "cell_type": "code",
      "source": [
        "!rm -rf images/\n",
        "!rm -rf Data_Entry_2017_v2020.csv"
      ],
      "metadata": {
        "id": "2ygF6LGCmG3p"
      },
      "execution_count": 2,
      "outputs": []
    },
    {
      "cell_type": "code",
      "source": [
        "!python PyHealth/pyhealth/unittests/test_datasets/test_chestxray14.py"
      ],
      "metadata": {
        "colab": {
          "base_uri": "https://localhost:8080/"
        },
        "id": "48SFnMU6fJbV",
        "outputId": "dcdbc32a-4777-4f4c-bad5-10166a7532fe"
      },
      "execution_count": 3,
      "outputs": [
        {
          "output_type": "stream",
          "name": "stdout",
          "text": [
            "Downloading images_01.tar.gz...\n",
            "Checking MD5 checksum for images_01.tar.gz...\n",
            "Extracting images_01.tar.gz...\n",
            "Deleting images_01.tar.gz...\n",
            "Downloading images_02.tar.gz...\n",
            "Checking MD5 checksum for images_02.tar.gz...\n",
            "Extracting images_02.tar.gz...\n",
            "Deleting images_02.tar.gz...\n",
            "Download complete\n",
            "test_dataset_verification (__main__.TestChestXray14Dataset.test_dataset_verification) ... Dataset path must contain 'Data_Entry_2017_v2020.csv'!\n",
            "Dataset path must contain an 'images' directory!\n",
            "Dataset 'images' directory must contain PNG files!\n",
            "ok\n",
            "test_get_multiple_findings (__main__.TestChestXray14Dataset.test_get_multiple_findings) ... /content/PyHealth/pyhealth/unittests/test_datasets/test_chestxray14.py:42: DeprecationWarning: Please use assertEqual instead.\n",
            "  self.assertEquals(sum(meta['labels'].values()), 2)\n",
            "ok\n",
            "test_get_no_findings (__main__.TestChestXray14Dataset.test_get_no_findings) ... /content/PyHealth/pyhealth/unittests/test_datasets/test_chestxray14.py:31: DeprecationWarning: Please use assertEqual instead.\n",
            "  self.assertEquals(sum(meta['labels'].values()), 0)\n",
            "ok\n",
            "test_get_one_finding (__main__.TestChestXray14Dataset.test_get_one_finding) ... /content/PyHealth/pyhealth/unittests/test_datasets/test_chestxray14.py:36: DeprecationWarning: Please use assertEqual instead.\n",
            "  self.assertEquals(sum(meta['labels'].values()), 1)\n",
            "ok\n",
            "test_len (__main__.TestChestXray14Dataset.test_len) ... ok\n",
            "test_local_dataset (__main__.TestChestXray14Dataset.test_local_dataset) ... ok\n",
            "test_path (__main__.TestChestXray14Dataset.test_path) ... Dataset path does not exist!\n",
            "ok\n",
            "test_patient_age (__main__.TestChestXray14Dataset.test_patient_age) ... ok\n",
            "test_patient_sex (__main__.TestChestXray14Dataset.test_patient_sex) ... ok\n",
            "test_transform (__main__.TestChestXray14Dataset.test_transform) ... ok\n",
            "\n",
            "----------------------------------------------------------------------\n",
            "Ran 10 tests in 8.145s\n",
            "\n",
            "OK\n"
          ]
        }
      ]
    }
  ]
}