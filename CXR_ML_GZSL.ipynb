{
  "nbformat": 4,
  "nbformat_minor": 0,
  "metadata": {
    "colab": {
      "provenance": []
    },
    "kernelspec": {
      "name": "python3",
      "display_name": "Python 3"
    },
    "language_info": {
      "name": "python"
    }
  },
  "cells": [
    {
      "cell_type": "markdown",
      "source": [
        "# CXR-ML-GZSL\n",
        "\n",
        "## Overview\n",
        "\n",
        "The goal of this notebook is to reproduce the findings of the paper, \"Multi-Label Generalized Zero Shot Learning for the Classification of Disease in Chest Radiographs\" using the provided code.\n",
        "\n",
        "* Paper: https://arxiv.org/abs/2107.06563\n",
        "* Code: https://github.com/nyuad-cai/CXR-ML-GZSL/\n",
        "\n",
        "The provided code is four years old, so some changes were needed to resolve deprecation warnings and errors. Additionally, I cleaned up some imports and whitespace and adapted the code for a Jupyter notebook. However, my goal was to use the code as is in all other cases."
      ],
      "metadata": {
        "id": "5-a-wVNbsbVd"
      }
    },
    {
      "cell_type": "code",
      "execution_count": 13,
      "metadata": {
        "id": "JCSEZ3d_rbYa"
      },
      "outputs": [],
      "source": [
        "import os\n",
        "import urllib.request\n",
        "import hashlib\n",
        "import tarfile\n",
        "import time"
      ]
    },
    {
      "cell_type": "markdown",
      "source": [
        "## Dataset\n",
        "\n",
        "The paper used a dataset developed by another paper, initially known as `ChestX-ray8`, but then renamed to `ChestX-ray14` when the dataset was expanded from eight to fourteen distinct disease labels.\n",
        "\n",
        "* Paper: https://arxiv.org/abs/1705.02315\n",
        "* Dataset: https://nihcc.app.box.com/v/ChestXray-NIHCC/folder/36938765345"
      ],
      "metadata": {
        "id": "SD2XmBZYt43o"
      }
    },
    {
      "cell_type": "code",
      "source": [
        "DATA_PATH = \"data/nih_chest_xrays\"\n",
        "\n",
        "if os.path.exists(DATA_PATH):\n",
        "    print(\"Using existing data\")\n",
        "else:\n",
        "    os.makedirs(DATA_PATH)\n",
        "\n",
        "    # Credit: https://nihcc.app.box.com/v/ChestXray-NIHCC/file/371647823217\n",
        "    links = [\n",
        "        'https://nihcc.box.com/shared/static/vfk49d74nhbxq3nqjg0900w5nvkorp5c.gz',\n",
        "        'https://nihcc.box.com/shared/static/i28rlmbvmfjbl8p2n3ril0pptcmcu9d1.gz',\n",
        "        'https://nihcc.box.com/shared/static/f1t00wrtdk94satdfb9olcolqx20z2jp.gz',\n",
        "        'https://nihcc.box.com/shared/static/0aowwzs5lhjrceb3qp67ahp0rd1l1etg.gz',\n",
        "        'https://nihcc.box.com/shared/static/v5e3goj22zr6h8tzualxfsqlqaygfbsn.gz',\n",
        "        'https://nihcc.box.com/shared/static/asi7ikud9jwnkrnkj99jnpfkjdes7l6l.gz',\n",
        "        'https://nihcc.box.com/shared/static/jn1b4mw4n6lnh74ovmcjb8y48h8xj07n.gz',\n",
        "        'https://nihcc.box.com/shared/static/tvpxmn7qyrgl0w8wfh9kqfjskv6nmm1j.gz',\n",
        "        'https://nihcc.box.com/shared/static/upyy3ml7qdumlgk2rfcvlb9k6gvqq2pj.gz',\n",
        "        'https://nihcc.box.com/shared/static/l6nilvfa9cg3s28tqv1qc1olm3gnz54p.gz',\n",
        "        'https://nihcc.box.com/shared/static/hhq8fkdgvcari67vfhs7ppg2w6ni4jze.gz',\n",
        "        'https://nihcc.box.com/shared/static/ioqwiy20ihqwyr8pf4c24eazhh281pbu.gz'\n",
        "    ]\n",
        "\n",
        "    # Credit: https://nihcc.app.box.com/v/ChestXray-NIHCC/file/249502714403\n",
        "    md5_checksums = [\n",
        "        'fe8ed0a6961412fddcbb3603c11b3698',\n",
        "        'ab07a2d7cbe6f65ddd97b4ed7bde10bf',\n",
        "        '2301d03bde4c246388bad3876965d574',\n",
        "        '9f1b7f5aae01b13f4bc8e2c44a4b8ef6',\n",
        "        '1861f3cd0ef7734df8104f2b0309023b',\n",
        "        '456b53a8b351afd92a35bc41444c58c8',\n",
        "        '1075121ea20a137b87f290d6a4a5965e',\n",
        "        'b61f34cec3aa69f295fbb593cbd9d443',\n",
        "        '442a3caa61ae9b64e61c561294d1e183',\n",
        "        '09ec81c4c31e32858ad8cf965c494b74',\n",
        "        '499aefc67207a5a97692424cf5dbeed5',\n",
        "        'dc9fda1757c2de0032b63347a7d2895c'\n",
        "    ]\n",
        "\n",
        "    start_time = time.time()\n",
        "\n",
        "    for idx, link in enumerate(links):\n",
        "        fn = os.path.join(DATA_PATH, 'images_%02d.tar.gz' % (idx + 1))\n",
        "\n",
        "        print(f'downloading {fn}...')\n",
        "        urllib.request.urlretrieve(link, fn)\n",
        "\n",
        "        print(f\"Checking MD5 checksum for {fn}...\")\n",
        "        with open(fn, 'rb') as f:\n",
        "            file_md5 = hashlib.md5(f.read()).hexdigest()\n",
        "\n",
        "        assert file_md5 == md5_checksums[idx], \"Invalid MD5 checksum\"\n",
        "\n",
        "        print(f\"Extracting {fn}...\")\n",
        "        with tarfile.open(fn, 'r:gz') as tar:\n",
        "            tar.extractall(path=DATA_PATH)\n",
        "\n",
        "        print(f\"Deleting {fn}...\")\n",
        "        os.remove(fn)\n",
        "\n",
        "    total_time = time.time() - start_time\n",
        "    print(f\"Total download time: {total_time:.2f} seconds\")\n",
        "    print(\"Download complete\")\n",
        "\n",
        "assert len([f for f in os.listdir(f'{DATA_PATH}/images') if os.path.isfile(os.path.join(f'{DATA_PATH}/images', f))]) == 112120, \"Dataset is not the expected size!\""
      ],
      "metadata": {
        "colab": {
          "base_uri": "https://localhost:8080/"
        },
        "id": "eZEngFTmsa-3",
        "outputId": "c6709dcb-063f-48b9-a2e2-65a0ecc1831e"
      },
      "execution_count": 14,
      "outputs": [
        {
          "output_type": "stream",
          "name": "stdout",
          "text": [
            "Using existing data\n"
          ]
        }
      ]
    }
  ]
}