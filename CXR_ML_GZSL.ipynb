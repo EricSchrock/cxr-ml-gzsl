{
  "nbformat": 4,
  "nbformat_minor": 0,
  "metadata": {
    "colab": {
      "provenance": [],
      "machine_shape": "hm",
      "gpuType": "A100"
    },
    "kernelspec": {
      "name": "python3",
      "display_name": "Python 3"
    },
    "language_info": {
      "name": "python"
    },
    "accelerator": "GPU"
  },
  "cells": [
    {
      "cell_type": "markdown",
      "source": [
        "# CXR-ML-GZSL"
      ],
      "metadata": {
        "id": "5-a-wVNbsbVd"
      }
    },
    {
      "cell_type": "markdown",
      "source": [
        "## Overview\n",
        "\n",
        "The goal of this notebook is to reproduce the findings of the paper, \"Multi-Label Generalized Zero Shot Learning for the Classification of Disease in Chest Radiographs\" using the provided code.\n",
        "\n",
        "* Paper: https://arxiv.org/abs/2107.06563\n",
        "* Code: https://github.com/nyuad-cai/CXR-ML-GZSL/\n",
        "\n",
        "The provided code is four years old, and `conda` could no longer build the provided `environment.yml`, so some changes were needed to resolve errors. Additionally, I cleaned up some imports, whitespace, filenames, etc. and adapted the code for a Jupyter notebook. However, my goal was to use the code as is in most cases."
      ],
      "metadata": {
        "id": "POJObkEsliMM"
      }
    },
    {
      "cell_type": "code",
      "execution_count": 30,
      "metadata": {
        "id": "JCSEZ3d_rbYa"
      },
      "outputs": [],
      "source": [
        "import argparse\n",
        "from datetime import datetime, timedelta\n",
        "import glob\n",
        "import hashlib\n",
        "import os\n",
        "import requests\n",
        "import sys\n",
        "import tarfile\n",
        "import time\n",
        "import urllib.request\n",
        "import zipfile\n",
        "\n",
        "from google.colab import drive\n",
        "import matplotlib.pyplot as plt\n",
        "import numpy as np\n",
        "import pandas as pd\n",
        "from pandas.plotting import table\n",
        "from PIL import Image\n",
        "from sklearn.metrics import roc_auc_score\n",
        "from tqdm import tqdm\n",
        "\n",
        "import torch\n",
        "import torch.backends.cudnn as cudnn\n",
        "import torch.nn as nn\n",
        "from torch.nn.functional import kl_div, softmax, log_softmax\n",
        "import torch.optim as optim\n",
        "from torch.optim.lr_scheduler import ReduceLROnPlateau\n",
        "from torch.utils.data import DataLoader, Dataset\n",
        "\n",
        "import torchvision\n",
        "import torchvision.transforms as transforms"
      ]
    },
    {
      "cell_type": "markdown",
      "source": [
        "## Environment\n",
        "\n",
        "I used [Google Colab](https://colab.research.google.com/) to run this notebook. I had to use the paid version, as the free version does not provide enough RAM or a powerful enough GPU."
      ],
      "metadata": {
        "id": "7rmI8u7yC7aW"
      }
    },
    {
      "cell_type": "code",
      "source": [
        "!python --version\n",
        "!echo\n",
        "!pip list | grep -E \"matplotlib|numpy|pandas|pillow|sklearn|tqdm|torch|torchvision\" | grep -v -E \"geopandas\"\n",
        "!echo\n",
        "!nvidia-smi"
      ],
      "metadata": {
        "colab": {
          "base_uri": "https://localhost:8080/"
        },
        "id": "fJlvnCrxBc24",
        "outputId": "2f53f237-4fe8-4a70-a6ff-8f24d994ea5d"
      },
      "execution_count": 11,
      "outputs": [
        {
          "output_type": "stream",
          "name": "stdout",
          "text": [
            "Python 3.11.12\n",
            "\n",
            "matplotlib                         3.10.0\n",
            "matplotlib-inline                  0.1.7\n",
            "matplotlib-venn                    1.1.2\n",
            "numpy                              2.0.2\n",
            "pandas                             2.2.2\n",
            "pandas-datareader                  0.10.0\n",
            "pandas-gbq                         0.28.0\n",
            "pandas-stubs                       2.2.2.240909\n",
            "pillow                             11.1.0\n",
            "sklearn-compat                     0.1.3\n",
            "sklearn-pandas                     2.2.0\n",
            "torch                              2.6.0+cu124\n",
            "torchaudio                         2.6.0+cu124\n",
            "torchsummary                       1.5.1\n",
            "torchvision                        0.21.0+cu124\n",
            "tqdm                               4.67.1\n",
            "\n",
            "Thu Apr 10 18:30:43 2025       \n",
            "+-----------------------------------------------------------------------------------------+\n",
            "| NVIDIA-SMI 550.54.15              Driver Version: 550.54.15      CUDA Version: 12.4     |\n",
            "|-----------------------------------------+------------------------+----------------------+\n",
            "| GPU  Name                 Persistence-M | Bus-Id          Disp.A | Volatile Uncorr. ECC |\n",
            "| Fan  Temp   Perf          Pwr:Usage/Cap |           Memory-Usage | GPU-Util  Compute M. |\n",
            "|                                         |                        |               MIG M. |\n",
            "|=========================================+========================+======================|\n",
            "|   0  NVIDIA A100-SXM4-40GB          Off |   00000000:00:04.0 Off |                    0 |\n",
            "| N/A   31C    P0             50W /  400W |       0MiB /  40960MiB |      0%      Default |\n",
            "|                                         |                        |             Disabled |\n",
            "+-----------------------------------------+------------------------+----------------------+\n",
            "                                                                                         \n",
            "+-----------------------------------------------------------------------------------------+\n",
            "| Processes:                                                                              |\n",
            "|  GPU   GI   CI        PID   Type   Process name                              GPU Memory |\n",
            "|        ID   ID                                                               Usage      |\n",
            "|=========================================================================================|\n",
            "|  No running processes found                                                             |\n",
            "+-----------------------------------------------------------------------------------------+\n"
          ]
        }
      ]
    },
    {
      "cell_type": "markdown",
      "source": [
        "## Dataset\n",
        "\n",
        "The paper used a dataset developed by another paper, initially known as `ChestX-ray8`, but then renamed to `ChestX-ray14` when the dataset was expanded from eight to fourteen distinct disease labels.\n",
        "\n",
        "* Paper: https://arxiv.org/abs/1705.02315\n",
        "* Dataset: https://nihcc.app.box.com/v/ChestXray-NIHCC/folder/36938765345\n",
        "\n",
        "**Note**: The dataset is over 42 GB, which takes 20+ minutes to download to session storage. Be aware that session storage is wiped for each new session, including runtime changes like switching to a GPU."
      ],
      "metadata": {
        "id": "SD2XmBZYt43o"
      }
    },
    {
      "cell_type": "code",
      "source": [],
      "metadata": {
        "id": "-c0RCS5QLNcf"
      },
      "execution_count": null,
      "outputs": []
    },
    {
      "cell_type": "code",
      "source": [
        "ROOT_PATH = 'CXR-ML-GZSL'\n",
        "\n",
        "if not os.path.exists(ROOT_PATH):\n",
        "    os.mkdir(ROOT_PATH)"
      ],
      "metadata": {
        "id": "BuKlfmq-6ZJD"
      },
      "execution_count": 12,
      "outputs": []
    },
    {
      "cell_type": "code",
      "source": [
        "SAVE_PATH = f'{ROOT_PATH}/checkpoints'\n",
        "\n",
        "if not os.path.exists(SAVE_PATH):\n",
        "    os.mkdir(SAVE_PATH)\n",
        "\n",
        "WEIGHTS_NAME = 'pretrained_checkpoint.pth.tar'\n",
        "WEIGHTS_PATH = f'{SAVE_PATH}/{WEIGHTS_NAME}'\n",
        "\n",
        "if not os.path.exists(WEIGHTS_PATH):\n",
        "    response = requests.get('https://drive.google.com/uc?export=download&id=17ioJMW3qNx1Ktmr-hXn-eqp431cm49Rm')\n",
        "    with open(WEIGHTS_PATH, 'wb') as f:\n",
        "        f.write(response.content)\n",
        "    print(\"Downloaded pretrained weights\")\n",
        "else:\n",
        "    print(\"Using existing pretrained weights\")"
      ],
      "metadata": {
        "colab": {
          "base_uri": "https://localhost:8080/"
        },
        "id": "J5tJXW4uqvwz",
        "outputId": "8ea4dd49-0846-4e08-d6cf-77878c8bf7c7"
      },
      "execution_count": 13,
      "outputs": [
        {
          "output_type": "stream",
          "name": "stdout",
          "text": [
            "Downloaded pretrained weights\n"
          ]
        }
      ]
    },
    {
      "cell_type": "code",
      "source": [
        "SPLITS_PATH = f'{ROOT_PATH}/dataset_splits'\n",
        "\n",
        "if not os.path.exists(SPLITS_PATH):\n",
        "    os.mkdir(SPLITS_PATH)\n",
        "\n",
        "for split in ['train.txt', 'test.txt', 'val.txt']:\n",
        "    if os.path.exists(f'{SPLITS_PATH}/{split}'):\n",
        "        print(f\"Using existing {split} dataset split file\")\n",
        "    else:\n",
        "        response = requests.get(f\"https://raw.githubusercontent.com/nyuad-cai/CXR-ML-GZSL/master/dataset_splits/{split}\")\n",
        "        with open(f'{SPLITS_PATH}/{split}', \"wb\") as file:\n",
        "            file.write(response.content)\n",
        "        print(f\"Downloaded {split} dataset split file\")"
      ],
      "metadata": {
        "colab": {
          "base_uri": "https://localhost:8080/"
        },
        "id": "vfU2dFaLrHxn",
        "outputId": "df2ba278-8124-432c-bb40-ad979dc74b79"
      },
      "execution_count": 14,
      "outputs": [
        {
          "output_type": "stream",
          "name": "stdout",
          "text": [
            "Downloaded train.txt dataset split file\n",
            "Downloaded test.txt dataset split file\n",
            "Downloaded val.txt dataset split file\n"
          ]
        }
      ]
    },
    {
      "cell_type": "code",
      "source": [
        "EMBEDDINGS_PATH = f'{ROOT_PATH}/embeddings'\n",
        "\n",
        "if not os.path.exists(EMBEDDINGS_PATH):\n",
        "    os.mkdir(EMBEDDINGS_PATH)\n",
        "\n",
        "BIOBERT_PATH = f'{EMBEDDINGS_PATH}/nih_chest_xray_biobert.npy'\n",
        "\n",
        "if not os.path.exists(BIOBERT_PATH):\n",
        "    response = requests.get(f\"https://raw.githubusercontent.com/nyuad-cai/CXR-ML-GZSL/master/embeddings/nih_chest_xray_biobert.npy\")\n",
        "    with open(BIOBERT_PATH, \"wb\") as file:\n",
        "        file.write(response.content)\n",
        "    print(\"Downloaded text embeddings\")\n",
        "else:\n",
        "    print(\"Using existing text embeddings\")"
      ],
      "metadata": {
        "colab": {
          "base_uri": "https://localhost:8080/"
        },
        "id": "Na6U7AHAtrYg",
        "outputId": "832281c6-9dc2-4607-b598-6c102683060b"
      },
      "execution_count": 15,
      "outputs": [
        {
          "output_type": "stream",
          "name": "stdout",
          "text": [
            "Downloaded text embeddings\n"
          ]
        }
      ]
    },
    {
      "cell_type": "code",
      "source": [
        "DATA_PATH = f'{ROOT_PATH}/data'\n",
        "\n",
        "if not os.path.exists(DATA_PATH):\n",
        "    os.makedirs(DATA_PATH)\n",
        "\n",
        "ENTRY_PATH = f'{DATA_PATH}/Data_Entry_2017_v2020.csv'\n",
        "\n",
        "if os.path.isfile(ENTRY_PATH):\n",
        "    print(\"Using existing data entry file\")\n",
        "else:\n",
        "    response = requests.get('https://drive.google.com/uc?export=download&id=1mkOZNfYt-Px52b8CJZJANNbM3ULUVO3f')\n",
        "    with open(ENTRY_PATH, \"wb\") as file:\n",
        "        file.write(response.content)\n",
        "    print(\"Downloaded data entry file\")"
      ],
      "metadata": {
        "colab": {
          "base_uri": "https://localhost:8080/"
        },
        "id": "dhiODKkw5s5Y",
        "outputId": "bb2f97c8-c80f-4c39-f1db-bc14516db52c"
      },
      "execution_count": 28,
      "outputs": [
        {
          "output_type": "stream",
          "name": "stdout",
          "text": [
            "Downloaded data entry file\n"
          ]
        }
      ]
    },
    {
      "cell_type": "code",
      "source": [
        "IMAGE_PATH = f'{DATA_PATH}/images'\n",
        "\n",
        "if os.path.exists(IMAGE_PATH):\n",
        "    print(\"Using existing image data\")\n",
        "else:\n",
        "    # Credit: https://nihcc.app.box.com/v/ChestXray-NIHCC/file/371647823217\n",
        "    links = [\n",
        "        'https://nihcc.box.com/shared/static/vfk49d74nhbxq3nqjg0900w5nvkorp5c.gz',\n",
        "        'https://nihcc.box.com/shared/static/i28rlmbvmfjbl8p2n3ril0pptcmcu9d1.gz',\n",
        "        'https://nihcc.box.com/shared/static/f1t00wrtdk94satdfb9olcolqx20z2jp.gz',\n",
        "        'https://nihcc.box.com/shared/static/0aowwzs5lhjrceb3qp67ahp0rd1l1etg.gz',\n",
        "        'https://nihcc.box.com/shared/static/v5e3goj22zr6h8tzualxfsqlqaygfbsn.gz',\n",
        "        'https://nihcc.box.com/shared/static/asi7ikud9jwnkrnkj99jnpfkjdes7l6l.gz',\n",
        "        'https://nihcc.box.com/shared/static/jn1b4mw4n6lnh74ovmcjb8y48h8xj07n.gz',\n",
        "        'https://nihcc.box.com/shared/static/tvpxmn7qyrgl0w8wfh9kqfjskv6nmm1j.gz',\n",
        "        'https://nihcc.box.com/shared/static/upyy3ml7qdumlgk2rfcvlb9k6gvqq2pj.gz',\n",
        "        'https://nihcc.box.com/shared/static/l6nilvfa9cg3s28tqv1qc1olm3gnz54p.gz',\n",
        "        'https://nihcc.box.com/shared/static/hhq8fkdgvcari67vfhs7ppg2w6ni4jze.gz',\n",
        "        'https://nihcc.box.com/shared/static/ioqwiy20ihqwyr8pf4c24eazhh281pbu.gz'\n",
        "    ]\n",
        "\n",
        "    # Credit: https://nihcc.app.box.com/v/ChestXray-NIHCC/file/249502714403\n",
        "    md5_checksums = [\n",
        "        'fe8ed0a6961412fddcbb3603c11b3698',\n",
        "        'ab07a2d7cbe6f65ddd97b4ed7bde10bf',\n",
        "        '2301d03bde4c246388bad3876965d574',\n",
        "        '9f1b7f5aae01b13f4bc8e2c44a4b8ef6',\n",
        "        '1861f3cd0ef7734df8104f2b0309023b',\n",
        "        '456b53a8b351afd92a35bc41444c58c8',\n",
        "        '1075121ea20a137b87f290d6a4a5965e',\n",
        "        'b61f34cec3aa69f295fbb593cbd9d443',\n",
        "        '442a3caa61ae9b64e61c561294d1e183',\n",
        "        '09ec81c4c31e32858ad8cf965c494b74',\n",
        "        '499aefc67207a5a97692424cf5dbeed5',\n",
        "        'dc9fda1757c2de0032b63347a7d2895c'\n",
        "    ]\n",
        "\n",
        "    for idx, link in enumerate(links):\n",
        "        fn = os.path.join(DATA_PATH, 'images_%02d.tar.gz' % (idx + 1))\n",
        "\n",
        "        print(f'Downloading {fn}...')\n",
        "        urllib.request.urlretrieve(link, fn)\n",
        "\n",
        "        print(f\"Checking MD5 checksum for {fn}...\")\n",
        "        with open(fn, 'rb') as f:\n",
        "            file_md5 = hashlib.md5(f.read()).hexdigest()\n",
        "\n",
        "        assert file_md5 == md5_checksums[idx], \"Invalid MD5 checksum\"\n",
        "\n",
        "        print(f\"Extracting {fn}...\")\n",
        "        with tarfile.open(fn, 'r:gz') as tar:\n",
        "            tar.extractall(path=DATA_PATH)\n",
        "\n",
        "        print(f\"Deleting {fn}...\")\n",
        "        os.remove(fn)\n",
        "\n",
        "    assert len([f for f in os.listdir(IMAGE_PATH) if os.path.isfile(os.path.join(IMAGE_PATH, f))]) == 112120, \"Dataset is not the expected size!\"\n",
        "    print(\"Downloaded image data\")"
      ],
      "metadata": {
        "colab": {
          "base_uri": "https://localhost:8080/"
        },
        "id": "eZEngFTmsa-3",
        "outputId": "2b5458a1-335e-4dcd-fe47-3d696c665dec"
      },
      "execution_count": 17,
      "outputs": [
        {
          "output_type": "stream",
          "name": "stdout",
          "text": [
            "Downloading CXR-ML-GZSL/data/images_01.tar.gz...\n",
            "Checking MD5 checksum for CXR-ML-GZSL/data/images_01.tar.gz...\n",
            "Extracting CXR-ML-GZSL/data/images_01.tar.gz...\n",
            "Deleting CXR-ML-GZSL/data/images_01.tar.gz...\n",
            "Downloading CXR-ML-GZSL/data/images_02.tar.gz...\n",
            "Checking MD5 checksum for CXR-ML-GZSL/data/images_02.tar.gz...\n",
            "Extracting CXR-ML-GZSL/data/images_02.tar.gz...\n",
            "Deleting CXR-ML-GZSL/data/images_02.tar.gz...\n",
            "Downloading CXR-ML-GZSL/data/images_03.tar.gz...\n",
            "Checking MD5 checksum for CXR-ML-GZSL/data/images_03.tar.gz...\n",
            "Extracting CXR-ML-GZSL/data/images_03.tar.gz...\n",
            "Deleting CXR-ML-GZSL/data/images_03.tar.gz...\n",
            "Downloading CXR-ML-GZSL/data/images_04.tar.gz...\n",
            "Checking MD5 checksum for CXR-ML-GZSL/data/images_04.tar.gz...\n",
            "Extracting CXR-ML-GZSL/data/images_04.tar.gz...\n",
            "Deleting CXR-ML-GZSL/data/images_04.tar.gz...\n",
            "Downloading CXR-ML-GZSL/data/images_05.tar.gz...\n",
            "Checking MD5 checksum for CXR-ML-GZSL/data/images_05.tar.gz...\n",
            "Extracting CXR-ML-GZSL/data/images_05.tar.gz...\n",
            "Deleting CXR-ML-GZSL/data/images_05.tar.gz...\n",
            "Downloading CXR-ML-GZSL/data/images_06.tar.gz...\n",
            "Checking MD5 checksum for CXR-ML-GZSL/data/images_06.tar.gz...\n",
            "Extracting CXR-ML-GZSL/data/images_06.tar.gz...\n",
            "Deleting CXR-ML-GZSL/data/images_06.tar.gz...\n",
            "Downloading CXR-ML-GZSL/data/images_07.tar.gz...\n",
            "Checking MD5 checksum for CXR-ML-GZSL/data/images_07.tar.gz...\n",
            "Extracting CXR-ML-GZSL/data/images_07.tar.gz...\n",
            "Deleting CXR-ML-GZSL/data/images_07.tar.gz...\n",
            "Downloading CXR-ML-GZSL/data/images_08.tar.gz...\n",
            "Checking MD5 checksum for CXR-ML-GZSL/data/images_08.tar.gz...\n",
            "Extracting CXR-ML-GZSL/data/images_08.tar.gz...\n",
            "Deleting CXR-ML-GZSL/data/images_08.tar.gz...\n",
            "Downloading CXR-ML-GZSL/data/images_09.tar.gz...\n",
            "Checking MD5 checksum for CXR-ML-GZSL/data/images_09.tar.gz...\n",
            "Extracting CXR-ML-GZSL/data/images_09.tar.gz...\n",
            "Deleting CXR-ML-GZSL/data/images_09.tar.gz...\n",
            "Downloading CXR-ML-GZSL/data/images_10.tar.gz...\n",
            "Checking MD5 checksum for CXR-ML-GZSL/data/images_10.tar.gz...\n",
            "Extracting CXR-ML-GZSL/data/images_10.tar.gz...\n",
            "Deleting CXR-ML-GZSL/data/images_10.tar.gz...\n",
            "Downloading CXR-ML-GZSL/data/images_11.tar.gz...\n",
            "Checking MD5 checksum for CXR-ML-GZSL/data/images_11.tar.gz...\n",
            "Extracting CXR-ML-GZSL/data/images_11.tar.gz...\n",
            "Deleting CXR-ML-GZSL/data/images_11.tar.gz...\n",
            "Downloading CXR-ML-GZSL/data/images_12.tar.gz...\n",
            "Checking MD5 checksum for CXR-ML-GZSL/data/images_12.tar.gz...\n",
            "Extracting CXR-ML-GZSL/data/images_12.tar.gz...\n",
            "Deleting CXR-ML-GZSL/data/images_12.tar.gz...\n",
            "Downloaded image data\n"
          ]
        }
      ]
    },
    {
      "cell_type": "markdown",
      "source": [
        "## Model"
      ],
      "metadata": {
        "id": "RwIGiX-JrmdI"
      }
    },
    {
      "cell_type": "markdown",
      "source": [
        "### KLDivLoss"
      ],
      "metadata": {
        "id": "aDcFrrhTCo6M"
      }
    },
    {
      "cell_type": "code",
      "source": [
        "# Credit: https://github.com/nyuad-cai/CXR-ML-GZSL/blob/master/loss.py\n",
        "\n",
        "class KLDivLoss(nn.Module):\n",
        "    def __init__(self, temperature=0.2):\n",
        "        super(KLDivLoss, self).__init__()\n",
        "\n",
        "        self.temperature = temperature\n",
        "\n",
        "    def forward(self, emb1, emb2):\n",
        "        emb1 = softmax(emb1/self.temperature, dim=1).detach()\n",
        "        emb2 = log_softmax(emb2/self.temperature, dim=1)\n",
        "        loss_kldiv = kl_div(emb2, emb1, reduction='none')\n",
        "        loss_kldiv = torch.sum(loss_kldiv, dim=1)\n",
        "        loss_kldiv = torch.mean(loss_kldiv)\n",
        "\n",
        "        return loss_kldiv"
      ],
      "metadata": {
        "id": "mamyKMa4CoTj"
      },
      "execution_count": 18,
      "outputs": []
    },
    {
      "cell_type": "markdown",
      "source": [
        "### RankingLoss"
      ],
      "metadata": {
        "id": "uY2t76EAiFBr"
      }
    },
    {
      "cell_type": "code",
      "source": [
        "# Credit: https://github.com/nyuad-cai/CXR-ML-GZSL/blob/master/loss.py\n",
        "\n",
        "class RankingLoss(nn.Module):\n",
        "    def __init__(self, neg_penalty=0.03):\n",
        "        super(RankingLoss, self).__init__()\n",
        "\n",
        "        self.neg_penalty = neg_penalty\n",
        "\n",
        "    def forward(self, ranks, labels, class_ids_loaded, device):\n",
        "        '''\n",
        "        for each correct it should be higher then the absence\n",
        "        '''\n",
        "        labels = labels[:, class_ids_loaded]\n",
        "        ranks_loaded = ranks[:, class_ids_loaded]\n",
        "        neg_labels = 1+(labels*-1)\n",
        "        loss_rank = torch.zeros(1).to(device)\n",
        "        for i in range(len(labels)):\n",
        "            correct = ranks_loaded[i, labels[i]==1]\n",
        "            wrong = ranks_loaded[i, neg_labels[i]==1]\n",
        "            correct = correct.reshape((-1, 1)).repeat((1, len(wrong)))\n",
        "            wrong = wrong.repeat(len(correct)).reshape(len(correct), -1)\n",
        "            image_level_penalty = ((self.neg_penalty+wrong) - correct)\n",
        "            image_level_penalty[image_level_penalty<0]=0\n",
        "            loss_rank += image_level_penalty.sum()\n",
        "        loss_rank /=len(labels)\n",
        "\n",
        "        return loss_rank"
      ],
      "metadata": {
        "id": "HGFT0qLAiFIx"
      },
      "execution_count": 19,
      "outputs": []
    },
    {
      "cell_type": "markdown",
      "source": [
        "### CosineLoss"
      ],
      "metadata": {
        "id": "RFX6rw5NiFc8"
      }
    },
    {
      "cell_type": "code",
      "source": [
        "# Credit: https://github.com/nyuad-cai/CXR-ML-GZSL/blob/master/loss.py\n",
        "\n",
        "class CosineLoss(nn.Module):\n",
        "    def forward(self, t_emb, v_emb ):\n",
        "        a_norm = v_emb / v_emb.norm(dim=1)[:, None]\n",
        "        b_norm = t_emb / t_emb.norm(dim=1)[:, None]\n",
        "        loss = 1 - torch.mean(torch.diagonal(torch.mm(a_norm, b_norm.t()), 0))\n",
        "\n",
        "        return loss"
      ],
      "metadata": {
        "id": "pwi6_lTOiFkI"
      },
      "execution_count": 20,
      "outputs": []
    },
    {
      "cell_type": "markdown",
      "source": [
        "### ZSLNet"
      ],
      "metadata": {
        "id": "ZsODvFq8iicH"
      }
    },
    {
      "cell_type": "code",
      "source": [
        "# Credit: https://github.com/nyuad-cai/CXR-ML-GZSL/blob/master/zsl_models.py\n",
        "\n",
        "class ZSLNet(nn.Module):\n",
        "    def __init__(self, args, textual_embeddings=None, device='cpu'):\n",
        "        super(ZSLNet, self).__init__()\n",
        "        self.args = args\n",
        "        self.device = device\n",
        "        self.vision_backbone = getattr(torchvision.models, self.args.vision_backbone)(pretrained=self.args.pretrained)\n",
        "        # remove classification layer from visual encoder\n",
        "        classifiers = [ 'classifier', 'fc']\n",
        "        for classifier in classifiers:\n",
        "            cls_layer = getattr(self.vision_backbone, classifier, None)\n",
        "            if cls_layer is None:\n",
        "                continue\n",
        "            d_visual = cls_layer.in_features\n",
        "            setattr(self.vision_backbone, classifier, nn.Identity(d_visual))\n",
        "            break\n",
        "\n",
        "        pretrained_encoder = False\n",
        "        if pretrained_encoder:\n",
        "            self.vision_backbone.classifier = nn.Identity(d_visual)\n",
        "\n",
        "            path = 'checkpoints/bce_only_imagenet/last_epoch_checkpoint.pth.tar'\n",
        "\n",
        "            self.classifier = nn.Sequential(nn.Linear(d_visual, self.args.num_classes), nn.Sigmoid())\n",
        "            checkpoint = torch.load(path, weights_only=False)\n",
        "            self.load_state_dict(checkpoint['state_dict'])\n",
        "\n",
        "            for p in self.vision_backbone.parameters():\n",
        "                p.requires_grad = False\n",
        "\n",
        "        if self.args.bce_only:\n",
        "            self.bce_loss = torch.nn.BCELoss(size_average=True)\n",
        "            self.classifier = nn.Sequential(nn.Linear(d_visual, self.args.num_classes), nn.Sigmoid())\n",
        "        else:\n",
        "            self.emb_loss = CosineLoss()\n",
        "            self.ranking_loss = RankingLoss(neg_penalty=self.args.neg_penalty)\n",
        "            self.textual_embeddings = textual_embeddings\n",
        "            d_textual = self.textual_embeddings.shape[-1]\n",
        "\n",
        "            self.textual_embeddings = torch.from_numpy(self.textual_embeddings).to(self.device)\n",
        "\n",
        "            self.fc_v = nn.Sequential(\n",
        "                nn.Linear(d_visual, 512),\n",
        "                nn.ReLU(),\n",
        "                nn.Linear(512, 256),\n",
        "                nn.ReLU(),\n",
        "                nn.Linear(256, 128),\n",
        "            )\n",
        "\n",
        "            self.fc_t = nn.Sequential(\n",
        "                nn.Linear(d_textual, 512),\n",
        "                nn.ReLU(),\n",
        "                nn.Linear(512, 256),\n",
        "                nn.ReLU(),\n",
        "                nn.Linear(256, 128)\n",
        "            )\n",
        "\n",
        "    def forward(self, x, labels=None, epoch=0, n_crops=0, bs=16):\n",
        "        if self.args.bce_only:\n",
        "            return self.forward_bce_only(x, labels=labels, n_crops=n_crops, bs=bs)\n",
        "        else:\n",
        "            return self.forward_ranking(x, labels=labels, epoch=epoch, n_crops=n_crops, bs=bs)\n",
        "\n",
        "    def forward_bce_only(self, x, labels=None, n_crops=0, bs=16):\n",
        "        lossvalue_bce = torch.zeros(1).to(self.device)\n",
        "\n",
        "        visual_feats = self.vision_backbone(x)\n",
        "        preds = self.classifier(visual_feats)\n",
        "\n",
        "        if labels is not None:\n",
        "            lossvalue_bce = self.bce_loss(preds, labels)\n",
        "\n",
        "        return preds, lossvalue_bce, f'bce:\\t {lossvalue_bce.item():0.4f}'\n",
        "\n",
        "    def forward_ranking(self, x, labels=None, epoch=0, n_crops=0, bs=16):\n",
        "        loss_rank = torch.zeros(1).to(self.device)\n",
        "        loss_allignment_cos = torch.zeros(1).to(self.device)\n",
        "        loss_mapping_consistency = torch.zeros(1).to(self.device)\n",
        "\n",
        "        visual_feats = self.vision_backbone(x)\n",
        "        visual_feats = self.fc_v(visual_feats)\n",
        "        text_feats = self.fc_t(self.textual_embeddings)\n",
        "\n",
        "        if not self.args.wo_con and epoch >= 0:\n",
        "            text_mapped_sim = self.sim_score(text_feats, text_feats.detach())\n",
        "            text_orig_sim = self.sim_score(self.textual_embeddings, self.textual_embeddings)\n",
        "            loss_mapping_consistency = torch.abs(text_orig_sim - text_mapped_sim).mean()\n",
        "\n",
        "        if labels is not None:\n",
        "            mapped_visual, mapped_text = self.map_visual_text(visual_feats, labels, text_feats)\n",
        "            if mapped_visual is not None and not self.args.wo_map and epoch >= 0:\n",
        "                loss_allignment_cos = self.emb_loss(mapped_text, mapped_visual)\n",
        "\n",
        "        ranks = self.sim_score(visual_feats, text_feats)\n",
        "        if n_crops > 0:\n",
        "            ranks = ranks.view(bs, n_crops, -1).mean(1)\n",
        "\n",
        "        if labels is not None:\n",
        "            loss_rank = self.ranking_loss(ranks, labels, self.class_ids_loaded, self.device)\n",
        "        loss_allignment_cos = (self.args.beta_map * loss_allignment_cos)\n",
        "        loss_rank = (self.args.beta_rank * loss_rank)\n",
        "        loss_mapping_consistency = (self.args.beta_con * loss_mapping_consistency)\n",
        "        losses = loss_rank + loss_mapping_consistency + loss_allignment_cos\n",
        "\n",
        "        return ranks, losses\n",
        "\n",
        "    def sim_score(self, a, b):\n",
        "        a_norm = a / a.norm(dim=1)[:, None]\n",
        "        b_norm = b / (1e-6+b.norm(dim=1))[:, None]\n",
        "        score = (torch.mm(a_norm, b_norm.t()))\n",
        "\n",
        "        return score\n",
        "\n",
        "    def map_visual_text(self, visual_feats, labels, labels_embd):\n",
        "        mapped_labels_embd = []\n",
        "        labels == 1\n",
        "        for i in range(0, labels.shape[0]):\n",
        "            class_embd = labels_embd[labels[i]==1].mean(dim=0)[None,:]\n",
        "            mapped_labels_embd.append(class_embd)\n",
        "        mapped_labels_embd = torch.cat(mapped_labels_embd)\n",
        "\n",
        "        return visual_feats.detach(), mapped_labels_embd.detach()"
      ],
      "metadata": {
        "id": "nwlvZTX4iiks"
      },
      "execution_count": 21,
      "outputs": []
    },
    {
      "cell_type": "markdown",
      "source": [
        "### NIHChestXray"
      ],
      "metadata": {
        "id": "81EQt4_QjOWj"
      }
    },
    {
      "cell_type": "code",
      "source": [
        "# Credit: https://github.com/nyuad-cai/CXR-ML-GZSL/blob/master/dataset.py\n",
        "\n",
        "class NIHChestXray(Dataset):\n",
        "    def __init__ (self, args, pathDatasetFile, transform, classes_to_load='seen', exclude_all=True):\n",
        "        self.listImagePaths = []\n",
        "        self.listImageLabels = []\n",
        "        self.transform = transform\n",
        "        self.num_classes = args.num_classes\n",
        "\n",
        "        self._data_path = args.data_root\n",
        "        self.args = args\n",
        "\n",
        "        self.split_path = pathDatasetFile\n",
        "        self.CLASSES = [ 'Atelectasis', 'Cardiomegaly', 'Effusion', 'Infiltration', 'Mass', 'Nodule', 'Pneumonia',\n",
        "                'Pneumothorax', 'Consolidation', 'Edema', 'Emphysema', 'Fibrosis', 'Pleural_Thickening', 'Hernia']\n",
        "\n",
        "        self.unseen_classes = ['Edema', 'Pneumonia', 'Emphysema', 'Fibrosis']\n",
        "\n",
        "        self.seen_classes = [ 'Atelectasis', 'Effusion', 'Infiltration', 'Mass', 'Nodule',\n",
        "                'Pneumothorax', 'Consolidation', 'Cardiomegaly', 'Pleural_Thickening', 'Hernia']\n",
        "\n",
        "        self._class_ids = {v: i for i, v in enumerate(self.CLASSES) if v != 'No Finding'}\n",
        "\n",
        "        self.seen_class_ids = [self._class_ids[label] for label in self.seen_classes]\n",
        "        self.unseen_class_ids = [self._class_ids[label] for label in self.unseen_classes]\n",
        "\n",
        "        self.classes_to_load = classes_to_load\n",
        "        self.exclude_all = exclude_all\n",
        "        self._construct_index()\n",
        "\n",
        "    def _construct_index(self):\n",
        "        # Compile the split data path\n",
        "        max_labels = 0\n",
        "        paths = glob.glob(f'{self._data_path}/images/*.png')\n",
        "        self.names_to_path = {path.split('/')[-1]: path for path in paths}\n",
        "        data_entry_file = 'Data_Entry_2017_v2020.csv'\n",
        "\n",
        "        print(f'data partition path: {self.split_path}')\n",
        "        with open(self.split_path, 'r') as f: file_names = f.readlines()\n",
        "\n",
        "        split_file_names = np.array([file_name.strip().split(' ')[0].split('/')[-1] for file_name in file_names])\n",
        "        df = pd.read_csv(f'{self._data_path}/{data_entry_file}')\n",
        "        image_index = df.iloc[:, 0].values\n",
        "\n",
        "        _, split_index, _ = np.intersect1d(image_index, split_file_names, return_indices=True)\n",
        "\n",
        "        labels = df.iloc[:, 1].values\n",
        "        labels = np.array(labels)[split_index]\n",
        "\n",
        "        labels = [label.split('|') for label in labels]\n",
        "\n",
        "        image_index = image_index[split_index]\n",
        "\n",
        "        # Construct the image db\n",
        "        self._imdb = []\n",
        "        self.class_ids_loaded = []\n",
        "        for index in range(len(split_index)):\n",
        "            if len(labels[index]) == 1 and labels[index][0] == 'No Finding':\n",
        "                continue\n",
        "            if self._should_load_image(labels[index]) is False:\n",
        "                continue\n",
        "            class_ids = [self._class_ids[label] for label in labels[index]]\n",
        "            self.class_ids_loaded +=class_ids\n",
        "            self._imdb.append({\n",
        "                'im_path': self.names_to_path[image_index[index]],\n",
        "                'labels': class_ids,\n",
        "            })\n",
        "            max_labels = max(max_labels, len(class_ids))\n",
        "\n",
        "        self.class_ids_loaded = np.unique(np.array(self.class_ids_loaded))\n",
        "        print(f'Number of images: {len(self._imdb)}')\n",
        "        print(f'Number of max labels per image: {max_labels}')\n",
        "        print(f'Number of classes: {len(self.class_ids_loaded)}')\n",
        "\n",
        "    def _should_load_image(self, labels):\n",
        "        selected_class_labels = self.CLASSES\n",
        "        if self.classes_to_load == 'seen':\n",
        "            selected_class_labels = self.seen_classes\n",
        "        elif self.classes_to_load == 'unseen':\n",
        "            selected_class_labels = self.unseen_classes\n",
        "        elif self.classes_to_load == 'all':\n",
        "            return True\n",
        "\n",
        "        count = 0\n",
        "        for label in labels:\n",
        "            if label in selected_class_labels:\n",
        "                count+=1\n",
        "\n",
        "        if count == len(labels):\n",
        "            # all labels from selected sub set\n",
        "            return True\n",
        "        elif count == 0:\n",
        "            # none label in selected sub set\n",
        "            return False\n",
        "        else:\n",
        "            # some labels in selected sub set\n",
        "            if self.exclude_all is True:\n",
        "                return False\n",
        "            else:\n",
        "                return True\n",
        "\n",
        "    def __getitem__(self, index):\n",
        "        imagePath = self._imdb[index]['im_path']\n",
        "        imageData = Image.open(imagePath).convert('RGB')\n",
        "        labels = torch.tensor(self._imdb[index]['labels'])\n",
        "        labels = labels.unsqueeze(0)\n",
        "        imageLabel = torch.zeros(labels.size(0), self.num_classes).scatter_(1, labels, 1.).squeeze()\n",
        "        img = self.transform(imageData)\n",
        "\n",
        "        return img, imageLabel\n",
        "\n",
        "    def __len__(self):\n",
        "        return len(self._imdb)"
      ],
      "metadata": {
        "id": "p4Nive-pjOel"
      },
      "execution_count": 22,
      "outputs": []
    },
    {
      "cell_type": "markdown",
      "source": [
        "### plot_array"
      ],
      "metadata": {
        "id": "YdyCvcywoH06"
      }
    },
    {
      "cell_type": "code",
      "source": [
        "# Credit: https://github.com/nyuad-cai/CXR-ML-GZSL/blob/master/plots.py\n",
        "\n",
        "def plot_array(array, disc='loss'):\n",
        "    plt.plot(array)\n",
        "    plt.ylabel(disc)\n",
        "    plt.savefig(f'{disc}.pdf')\n",
        "    plt.close()"
      ],
      "metadata": {
        "id": "9XHV1q1xoH-9"
      },
      "execution_count": 23,
      "outputs": []
    },
    {
      "cell_type": "markdown",
      "source": [
        "### ChexnetTrainer"
      ],
      "metadata": {
        "id": "5RvfqMkilbad"
      }
    },
    {
      "cell_type": "code",
      "source": [
        "# Credit: https://github.com/nyuad-cai/CXR-ML-GZSL/blob/master/ChexnetTrainer.py\n",
        "\n",
        "class ChexnetTrainer(object):\n",
        "    def __init__(self, args):\n",
        "        self.args = args\n",
        "        self.device = torch.device('cuda' if torch.cuda.is_available() else 'cpu')\n",
        "\n",
        "        self.textual_embeddings = np.load(args.textual_embeddings)\n",
        "\n",
        "        self.model = ZSLNet(self.args, self.textual_embeddings, self.device).to(self.device)\n",
        "        self.optimizer = optim.Adam (self.model.parameters(), lr=self.args.lr, betas=(0.9, 0.999), eps=1e-08, weight_decay=1e-5)\n",
        "        self.scheduler = ReduceLROnPlateau(self.optimizer, factor=0.01, patience=10, mode='min')\n",
        "\n",
        "        self.loss = torch.nn.BCELoss(size_average=True)\n",
        "        self.auroc_min_loss = 0.0\n",
        "\n",
        "        self.start_epoch = 1\n",
        "        self.lossMIN = float('inf')\n",
        "        self.max_auroc_mean = float('-inf')\n",
        "        self.best_epoch = 1\n",
        "\n",
        "        self.val_losses = []\n",
        "\n",
        "        self.resume_from()\n",
        "        self.load_from()\n",
        "        self.init_dataset()\n",
        "\n",
        "        self.steps = [int(step) for step in self.args.steps.split(',')]\n",
        "        self.time_start = time.time()\n",
        "        self.time_end = time.time()\n",
        "        self.should_test = False\n",
        "        self.model.class_ids_loaded = self.train_dl.dataset.class_ids_loaded\n",
        "\n",
        "    def __call__(self):\n",
        "        self.train()\n",
        "\n",
        "    def load_from(self):\n",
        "        if self.args.load_from is not None:\n",
        "            checkpoint = torch.load(self.args.load_from, weights_only=False)\n",
        "            self.model.load_state_dict(checkpoint['state_dict'])\n",
        "            print(f'loaded checkpoint from {self.args.load_from}')\n",
        "\n",
        "    def resume_from(self):\n",
        "        if self.args.resume_from is not None:\n",
        "            checkpoint = torch.load(self.args.resume_from, weights_only=False)\n",
        "            self.model.load_state_dict(checkpoint['state_dict'])\n",
        "            self.optimizer.load_state_dict(checkpoint['optimizer'])\n",
        "            self.start_epoch = checkpoint['epoch'] + 1\n",
        "            self.lossMIN = checkpoint['lossMIN']\n",
        "            self.max_auroc_mean = checkpoint['max_auroc_mean']\n",
        "            print(f'resuming training from epoch {self.start_epoch}')\n",
        "\n",
        "    def save_checkpoint(self, prefix='best'):\n",
        "        path = f'{self.args.save_dir}/{prefix}_checkpoint.pth.tar'\n",
        "        torch.save(\n",
        "            {\n",
        "            'epoch': self.epoch,\n",
        "            'state_dict': self.model.state_dict(),\n",
        "            'max_auroc_mean': self.max_auroc_mean,\n",
        "            'optimizer' : self.optimizer.state_dict(),\n",
        "            'lossMIN' : self.lossMIN\n",
        "            }, path)\n",
        "        print(f\"saving {prefix} checkpoint\")\n",
        "\n",
        "    def init_dataset(self):\n",
        "        normalize = transforms.Normalize([0.485, 0.456, 0.406], [0.229, 0.224, 0.225])\n",
        "\n",
        "        train_transforms = []\n",
        "        train_transforms.append(transforms.RandomResizedCrop(self.args.crop))\n",
        "        train_transforms.append(transforms.RandomHorizontalFlip())\n",
        "        train_transforms.append(transforms.ToTensor())\n",
        "        train_transforms.append(normalize)\n",
        "\n",
        "        datasetTrain = NIHChestXray(self.args, self.args.train_file, transform=transforms.Compose(train_transforms))\n",
        "\n",
        "        self.train_dl = DataLoader(dataset=datasetTrain, batch_size=self.args.batch_size, shuffle=True,  num_workers=4, pin_memory=True)\n",
        "\n",
        "        test_transforms = []\n",
        "        test_transforms.append(transforms.Resize(self.args.resize))\n",
        "        test_transforms.append(transforms.TenCrop(self.args.crop))\n",
        "        test_transforms.append(transforms.Lambda(lambda crops: torch.stack([transforms.ToTensor()(crop) for crop in crops])))\n",
        "        test_transforms.append(transforms.Lambda(lambda crops: torch.stack([normalize(crop) for crop in crops])))\n",
        "\n",
        "        datasetVal = NIHChestXray(self.args, self.args.val_file, transform=transforms.Compose(test_transforms))\n",
        "        self.val_dl = DataLoader(dataset=datasetVal, batch_size=self.args.batch_size*10, shuffle=False, num_workers=4, pin_memory=True)\n",
        "\n",
        "        datasetTest = NIHChestXray(self.args, self.args.test_file, transform=transforms.Compose(test_transforms), classes_to_load='all')\n",
        "        self.test_dl = DataLoader(dataset=datasetTest, batch_size=self.args.batch_size*3, num_workers=8, shuffle=False, pin_memory=True)\n",
        "        print(datasetTest.CLASSES)\n",
        "\n",
        "    def train(self):\n",
        "        for self.epoch in range(self.start_epoch, self.args.epochs + 1):\n",
        "            self.epochTrain()\n",
        "            lossVal, val_ind_auroc = self.epochVal()\n",
        "            val_ind_auroc = np.array(val_ind_auroc)\n",
        "\n",
        "            aurocMean = val_ind_auroc.mean()\n",
        "            self.save_checkpoint(prefix=f'last_epoch')\n",
        "            self.should_test = False\n",
        "\n",
        "            if aurocMean > self.max_auroc_mean:\n",
        "                self.max_auroc_mean = aurocMean\n",
        "                self.save_checkpoint(prefix='best_auroc')\n",
        "                self.best_epoch = self.epoch\n",
        "                self.should_test = True\n",
        "\n",
        "            if lossVal < self.lossMIN:\n",
        "                self.lossMIN = lossVal\n",
        "                self.auroc_min_loss = aurocMean\n",
        "                self.save_checkpoint(prefix='min_loss')\n",
        "                self.should_test = True\n",
        "\n",
        "            self.print_auroc(val_ind_auroc, self.val_dl.dataset.class_ids_loaded, prefix='val')\n",
        "            if self.should_test is True:\n",
        "                test_ind_auroc = self.test()\n",
        "                test_ind_auroc = np.array(test_ind_auroc)\n",
        "\n",
        "                self.write_results(val_ind_auroc, self.val_dl.dataset.class_ids_loaded, prefix=f'\\n\\nepoch {self.epoch}\\nval', mode='a')\n",
        "\n",
        "                self.write_results(test_ind_auroc[self.test_dl.dataset.seen_class_ids], self.test_dl.dataset.seen_class_ids, prefix='\\ntest_seen', mode='a')\n",
        "                self.write_results(test_ind_auroc[self.test_dl.dataset.unseen_class_ids], self.test_dl.dataset.unseen_class_ids, prefix='\\ntest_unseen', mode='a')\n",
        "\n",
        "                self.print_auroc(test_ind_auroc[self.test_dl.dataset.seen_class_ids], self.test_dl.dataset.seen_class_ids, prefix='\\ntest_seen')\n",
        "                self.print_auroc(test_ind_auroc[self.test_dl.dataset.unseen_class_ids], self.test_dl.dataset.unseen_class_ids, prefix='\\ntest_unseen')\n",
        "\n",
        "            plot_array(self.val_losses, f'{self.args.save_dir}/val_loss')\n",
        "            print(f'best epoch {self.best_epoch} best auroc {self.max_auroc_mean} loss {lossVal:.6f} auroc at min loss {self.auroc_min_loss:0.4f}')\n",
        "\n",
        "            self.scheduler.step(lossVal)\n",
        "\n",
        "    def get_eta(self, epoch, iter):\n",
        "        self.time_end = time.time()\n",
        "        delta = self.time_end - self.time_start\n",
        "        delta = delta * (len(self.train_dl) * ((self.args.epochs + 1) - epoch) - iter)\n",
        "        sec = timedelta(seconds=int(delta))\n",
        "        d = (datetime(1,1,1) + sec)\n",
        "        eta = f\"{d.day-1} Days {d.hour}:{d.minute}:{d.second}\"\n",
        "        self.time_start = time.time()\n",
        "\n",
        "        return eta\n",
        "\n",
        "    def epochTrain(self):\n",
        "        self.model.train()\n",
        "        epoch_loss = 0\n",
        "        for batchID, (inputs, target) in enumerate (self.train_dl):\n",
        "\n",
        "            target = target.to(self.device)\n",
        "            inputs = inputs.to(self.device)\n",
        "            output, loss = self.model(inputs, target, self.epoch)\n",
        "\n",
        "            self.optimizer.zero_grad()\n",
        "            loss.backward()\n",
        "            self.optimizer.step()\n",
        "            eta = self.get_eta(self.epoch, batchID)\n",
        "            epoch_loss +=loss.item()\n",
        "            if batchID % 100 == 99:\n",
        "                print(f\" epoch [{self.epoch:04d} / {self.args.epochs:04d}] eta: {eta:<20} [{batchID:04}/{len(self.train_dl)}] lr: \\t{self.optimizer.param_groups[0]['lr']:0.4E} loss: \\t{epoch_loss/batchID:0.5f}\")\n",
        "\n",
        "    def epochVal(self):\n",
        "        self.model.eval()\n",
        "\n",
        "        lossVal = 0\n",
        "\n",
        "        outGT = torch.FloatTensor().to(self.device)\n",
        "        outPRED = torch.FloatTensor().to(self.device)\n",
        "        for i, (inputs, target) in enumerate (tqdm(self.val_dl)):\n",
        "            with torch.no_grad():\n",
        "                target = target.to(self.device)\n",
        "                inputs = inputs.to(self.device)\n",
        "                varTarget = torch.autograd.Variable(target)\n",
        "                bs, n_crops, c, h, w = inputs.size()\n",
        "\n",
        "                varInput = torch.autograd.Variable(inputs.view(-1, c, h, w).to(self.device))\n",
        "\n",
        "                varOutput, losstensor = self.model(varInput, varTarget, n_crops=n_crops, bs=bs)\n",
        "\n",
        "                outPRED = torch.cat((outPRED, varOutput), 0)\n",
        "                outGT = torch.cat((outGT, target), 0)\n",
        "\n",
        "                lossVal+=losstensor.item()\n",
        "                del varOutput, varTarget, varInput, target, inputs\n",
        "        lossVal = lossVal / len(self.val_dl)\n",
        "\n",
        "        aurocIndividual = self.computeAUROC(outGT, outPRED, self.val_dl.dataset.class_ids_loaded)\n",
        "        self.val_losses.append(lossVal)\n",
        "\n",
        "        return lossVal, aurocIndividual\n",
        "\n",
        "    def test(self):\n",
        "        cudnn.benchmark = True\n",
        "        outGT = torch.FloatTensor().cuda()\n",
        "        outPRED = torch.FloatTensor().cuda()\n",
        "\n",
        "        self.model.eval()\n",
        "\n",
        "        for i, (inputs, target) in enumerate(tqdm(self.test_dl)):\n",
        "            with torch.no_grad():\n",
        "                target = target.to(self.device)\n",
        "                outGT = torch.cat((outGT, target), 0)\n",
        "\n",
        "                bs, n_crops, c, h, w = inputs.size()\n",
        "\n",
        "                varInput = torch.autograd.Variable(inputs.view(-1, c, h, w).to(self.device))\n",
        "\n",
        "                out, _ = self.model(varInput, n_crops=n_crops, bs=bs)\n",
        "\n",
        "                outPRED = torch.cat((outPRED, out.data), 0)\n",
        "\n",
        "        aurocIndividual = self.computeAUROC(outGT, outPRED, self.test_dl.dataset.class_ids_loaded)\n",
        "\n",
        "        return aurocIndividual\n",
        "\n",
        "    def computeAUROC(self, dataGT, dataPRED, class_ids):\n",
        "        outAUROC = []\n",
        "        datanpGT = dataGT.cpu().numpy()\n",
        "        datanpPRED = dataPRED.cpu().numpy()\n",
        "\n",
        "        for i in class_ids:\n",
        "            outAUROC.append(roc_auc_score(datanpGT[:, i], datanpPRED[:, i]))\n",
        "        return outAUROC\n",
        "\n",
        "    def write_results(self, aurocIndividual, class_ids, prefix='val', mode='a'):\n",
        "        with open(f\"{self.args.save_dir}/results.txt\", mode) as results_file:\n",
        "            aurocMean = aurocIndividual.mean()\n",
        "\n",
        "            results_file.write(f'{prefix} AUROC mean {aurocMean:0.4f}\\n')\n",
        "            for i, class_id in enumerate(class_ids):\n",
        "                results_file.write(f'{self.val_dl.dataset.CLASSES[class_id]} {aurocIndividual[i]:0.4f}\\n')\n",
        "\n",
        "    def print_auroc(self, aurocIndividual, class_ids, prefix='val'):\n",
        "        aurocMean = aurocIndividual.mean()\n",
        "\n",
        "        print (f'{prefix} AUROC mean {aurocMean:0.4f}')\n",
        "\n",
        "        for i, class_id in enumerate(class_ids):\n",
        "            print (f'{self.val_dl.dataset.CLASSES[class_id]} {aurocIndividual[i]:0.4f}')"
      ],
      "metadata": {
        "id": "W5pimYcnlbgy"
      },
      "execution_count": 35,
      "outputs": []
    },
    {
      "cell_type": "markdown",
      "source": [
        "### argParser"
      ],
      "metadata": {
        "id": "8IbBrmujsoC0"
      }
    },
    {
      "cell_type": "code",
      "source": [
        "# Credit: https://github.com/nyuad-cai/CXR-ML-GZSL/blob/master/arguments.py\n",
        "\n",
        "argParser = argparse.ArgumentParser(description='arguments')\n",
        "\n",
        "argParser.add_argument('--data-root', default=DATA_PATH, type=str, help='the path to dataset')\n",
        "argParser.add_argument('--save-dir', default=SAVE_PATH, type=str, help='the path to save the checkpoints')\n",
        "argParser.add_argument('--train-file', default=f'{SPLITS_PATH}/train.txt', type=str, help='the path to train list ')\n",
        "argParser.add_argument('--val-file', default=f'{SPLITS_PATH}/val.txt', type=str, help='the path to val list ')\n",
        "argParser.add_argument('--test-file', default=f'{SPLITS_PATH}/test.txt', type=str, help='the path to test list')\n",
        "\n",
        "argParser.add_argument('--pretrained', dest='pretrained', action='store_true',  help='load imagenet pretrained model')\n",
        "argParser.add_argument('--bce-only', dest='bce_only', help='train with only binary cross entropy loss', action='store_true')\n",
        "\n",
        "argParser.add_argument('--num-classes', default=14, type=int, help='number of classes')\n",
        "argParser.add_argument('--batch-size', default=16, type=int, help='training batch size')\n",
        "argParser.add_argument('--epochs', default=40, type=int, help='number of epochs to train')\n",
        "argParser.add_argument('--vision-backbone', default='densenet121', type=str, help='[densenet121, densenet169, densenet201]')\n",
        "argParser.add_argument('--resume-from', default=None, type=str, help='path to checkpoint to resume the training from')\n",
        "argParser.add_argument('--load-from', default=None, type=str, help='path to checkpoint to load the weights from')\n",
        "\n",
        "argParser.add_argument('--resize', default=256, type=int, help='number of epochs to train')\n",
        "argParser.add_argument('--crop', default=224, type=int, help='number of epochs to train')\n",
        "argParser.add_argument('--lr', default=0.0001, type=float, help='learning rate')\n",
        "argParser.add_argument('--steps', default='20, 40, 60, 80', type=str, help='learning rate decay steps comma separated')\n",
        "\n",
        "argParser.add_argument('--beta-map', default=0.1, type=float, help='learning rate')\n",
        "argParser.add_argument('--beta-con', default=0.1, type=float, help='learning rate')\n",
        "argParser.add_argument('--beta-rank', default=1, type=float, help='learning rate')\n",
        "argParser.add_argument('--neg-penalty', default=0.03, type=float, help='learning rate')\n",
        "\n",
        "argParser.add_argument('--wo-con', dest='wo_con', help='train with out semantic consistency regularizer loss', action='store_true')\n",
        "argParser.add_argument('--wo-map', dest='wo_map', help='train with out alignement loss', action='store_true')\n",
        "\n",
        "argParser.add_argument('--textual-embeddings', default=BIOBERT_PATH, type=str, help='the path to labels embeddings')"
      ],
      "metadata": {
        "colab": {
          "base_uri": "https://localhost:8080/"
        },
        "id": "XHONAIP5soMa",
        "outputId": "cfe99fde-8578-4a86-c7fa-bfdcaacde97f"
      },
      "execution_count": 25,
      "outputs": [
        {
          "output_type": "execute_result",
          "data": {
            "text/plain": [
              "_StoreAction(option_strings=['--textual-embeddings'], dest='textual_embeddings', nargs=None, const=None, default='CXR-ML-GZSL/embeddings/nih_chest_xray_biobert.npy', type=<class 'str'>, choices=None, required=False, help='the path to labels embeddings', metavar=None)"
            ]
          },
          "metadata": {},
          "execution_count": 25
        }
      ]
    },
    {
      "cell_type": "markdown",
      "source": [
        "## Training and Testing\n",
        "\n"
      ],
      "metadata": {
        "id": "XrdwFdHCo4qd"
      }
    },
    {
      "cell_type": "markdown",
      "source": [
        "### Train\n",
        "\n",
        "As best I can tell, `--beta-map` maps to $\\gamma_1$ in the paper, `--beta-con` is $\\gamma_2$, and `--neg-penalty` is $\\delta$. Not match\n",
        "\n",
        "* I had to override the default values for `--epochs` and `--neg-penalty`\n",
        "* I had to update the `factor` and `patience` parameters of `ReduceLROnPlateau` in `ChexnetTrainer`\n",
        "* I had to enable the `loss_allignment_cos` part of the loss function in `ZSLNet`, as it was hardcoded out"
      ],
      "metadata": {
        "id": "yjkIuWMV5dXm"
      }
    },
    {
      "cell_type": "code",
      "source": [
        "# Credit: https://github.com/nyuad-cai/CXR-ML-GZSL/blob/master/scripts/train_densenet121.sh\n",
        "# Credit: https://github.com/nyuad-cai/CXR-ML-GZSL/blob/master/train.py\n",
        "\n",
        "seed = 1002\n",
        "torch.manual_seed(seed)\n",
        "np.random.seed(seed)\n",
        "\n",
        "DRIVE_PATH = '/content/drive'\n",
        "\n",
        "if not os.path.ismount(DRIVE_PATH):\n",
        "    drive.mount(DRIVE_PATH)\n",
        "\n",
        "DRIVE_PATH = f'{DRIVE_PATH}/MyDrive'\n",
        "\n",
        "arg_list = ['--epochs', '100',\n",
        "            '--neg-penalty', '0.5',\n",
        "            '--save-dir', DRIVE_PATH]\n",
        "\n",
        "if os.path.exists(f'{DRIVE_PATH}/last_epoch_checkpoint.pth.tar'):\n",
        "    arg_list += ['--resume-from', f'{DRIVE_PATH}/last_epoch_checkpoint.pth.tar']\n",
        "\n",
        "args = argParser.parse_args(arg_list)\n",
        "\n",
        "trainer = ChexnetTrainer(args)\n",
        "trainer()"
      ],
      "metadata": {
        "id": "KqUqQfFW5dg-",
        "collapsed": true,
        "colab": {
          "base_uri": "https://localhost:8080/"
        },
        "outputId": "b3c1391f-1322-4db2-b116-edf0903c69b7"
      },
      "execution_count": 37,
      "outputs": [
        {
          "metadata": {
            "tags": null
          },
          "name": "stderr",
          "output_type": "stream",
          "text": [
            "/usr/local/lib/python3.11/dist-packages/torchvision/models/_utils.py:208: UserWarning: The parameter 'pretrained' is deprecated since 0.13 and may be removed in the future, please use 'weights' instead.\n",
            "  warnings.warn(\n",
            "/usr/local/lib/python3.11/dist-packages/torchvision/models/_utils.py:223: UserWarning: Arguments other than a weight enum or `None` for 'weights' are deprecated since 0.13 and may be removed in the future. The current behavior is equivalent to passing `weights=None`.\n",
            "  warnings.warn(msg)\n",
            "/usr/local/lib/python3.11/dist-packages/torch/nn/_reduction.py:51: UserWarning: size_average and reduce args will be deprecated, please use reduction='mean' instead.\n",
            "  warnings.warn(warning.format(ret))\n"
          ]
        },
        {
          "metadata": {
            "tags": null
          },
          "name": "stdout",
          "output_type": "stream",
          "text": [
            "data partition path: CXR-ML-GZSL/dataset_splits/train.txt\n",
            "Number of images: 30758\n",
            "Number of max labels per image: 7\n",
            "Number of classes: 10\n",
            "data partition path: CXR-ML-GZSL/dataset_splits/val.txt\n",
            "Number of images: 4474\n",
            "Number of max labels per image: 6\n",
            "Number of classes: 10\n",
            "data partition path: CXR-ML-GZSL/dataset_splits/test.txt\n",
            "Number of images: 10510\n",
            "Number of max labels per image: 7\n",
            "Number of classes: 14\n",
            "['Atelectasis', 'Cardiomegaly', 'Effusion', 'Infiltration', 'Mass', 'Nodule', 'Pneumonia', 'Pneumothorax', 'Consolidation', 'Edema', 'Emphysema', 'Fibrosis', 'Pleural_Thickening', 'Hernia']\n",
            " epoch [0001 / 0100] eta: 0 Days 5:18:1        [0099/1923] lr: \t1.0000E-04 loss: \t3.62642\n",
            " epoch [0001 / 0100] eta: 0 Days 4:57:41       [0199/1923] lr: \t1.0000E-04 loss: \t3.54209\n",
            " epoch [0001 / 0100] eta: 0 Days 4:59:36       [0299/1923] lr: \t1.0000E-04 loss: \t3.56804\n",
            " epoch [0001 / 0100] eta: 0 Days 4:56:40       [0399/1923] lr: \t1.0000E-04 loss: \t3.51645\n",
            " epoch [0001 / 0100] eta: 0 Days 4:55:26       [0499/1923] lr: \t1.0000E-04 loss: \t3.49143\n",
            " epoch [0001 / 0100] eta: 0 Days 5:12:3        [0599/1923] lr: \t1.0000E-04 loss: \t3.49867\n",
            " epoch [0001 / 0100] eta: 0 Days 4:58:47       [0699/1923] lr: \t1.0000E-04 loss: \t3.51311\n",
            " epoch [0001 / 0100] eta: 0 Days 5:3:41        [0799/1923] lr: \t1.0000E-04 loss: \t3.51566\n",
            " epoch [0001 / 0100] eta: 0 Days 5:4:59        [0899/1923] lr: \t1.0000E-04 loss: \t3.50975\n",
            " epoch [0001 / 0100] eta: 0 Days 5:1:48        [0999/1923] lr: \t1.0000E-04 loss: \t3.49377\n",
            " epoch [0001 / 0100] eta: 0 Days 4:53:49       [1099/1923] lr: \t1.0000E-04 loss: \t3.50123\n",
            " epoch [0001 / 0100] eta: 0 Days 5:4:43        [1199/1923] lr: \t1.0000E-04 loss: \t3.50755\n",
            " epoch [0001 / 0100] eta: 0 Days 5:2:38        [1299/1923] lr: \t1.0000E-04 loss: \t3.49204\n",
            " epoch [0001 / 0100] eta: 0 Days 4:54:10       [1399/1923] lr: \t1.0000E-04 loss: \t3.48027\n",
            " epoch [0001 / 0100] eta: 0 Days 5:3:0         [1499/1923] lr: \t1.0000E-04 loss: \t3.48597\n",
            " epoch [0001 / 0100] eta: 0 Days 4:50:39       [1599/1923] lr: \t1.0000E-04 loss: \t3.49219\n",
            " epoch [0001 / 0100] eta: 0 Days 6:13:31       [1699/1923] lr: \t1.0000E-04 loss: \t3.49067\n",
            " epoch [0001 / 0100] eta: 0 Days 4:57:28       [1799/1923] lr: \t1.0000E-04 loss: \t3.48754\n",
            " epoch [0001 / 0100] eta: 0 Days 5:9:49        [1899/1923] lr: \t1.0000E-04 loss: \t3.47695\n"
          ]
        },
        {
          "metadata": {
            "tags": null
          },
          "name": "stderr",
          "output_type": "stream",
          "text": [
            "100%|██████████| 28/28 [00:44<00:00,  1.59s/it]\n"
          ]
        },
        {
          "metadata": {
            "tags": null
          },
          "name": "stdout",
          "output_type": "stream",
          "text": [
            "saving last_epoch checkpoint\n",
            "saving best_auroc checkpoint\n",
            "saving min_loss checkpoint\n",
            "val AUROC mean 0.5579\n",
            "Atelectasis 0.6034\n",
            "Cardiomegaly 0.5146\n",
            "Effusion 0.5771\n",
            "Infiltration 0.5481\n",
            "Mass 0.5261\n",
            "Nodule 0.5930\n",
            "Pneumothorax 0.4753\n",
            "Consolidation 0.6359\n",
            "Pleural_Thickening 0.5335\n",
            "Hernia 0.5719\n"
          ]
        },
        {
          "metadata": {
            "tags": null
          },
          "name": "stderr",
          "output_type": "stream",
          "text": [
            "100%|██████████| 219/219 [01:04<00:00,  3.42it/s]\n"
          ]
        },
        {
          "metadata": {
            "tags": null
          },
          "name": "stdout",
          "output_type": "stream",
          "text": [
            "\n",
            "test_seen AUROC mean 0.5728\n",
            "Atelectasis 0.5819\n",
            "Effusion 0.5682\n",
            "Infiltration 0.5501\n",
            "Mass 0.5451\n",
            "Nodule 0.6112\n",
            "Pneumothorax 0.5274\n",
            "Consolidation 0.6198\n",
            "Cardiomegaly 0.5410\n",
            "Pleural_Thickening 0.5459\n",
            "Hernia 0.6369\n",
            "\n",
            "test_unseen AUROC mean 0.4619\n",
            "Edema 0.4454\n",
            "Pneumonia 0.4922\n",
            "Emphysema 0.4742\n",
            "Fibrosis 0.4358\n",
            "best epoch 1 best auroc 0.5578878400677493 loss 3.449730 auroc at min loss 0.5579\n",
            " epoch [0002 / 0100] eta: 0 Days 4:59:34       [0099/1923] lr: \t1.0000E-04 loss: \t3.47974\n",
            " epoch [0002 / 0100] eta: 0 Days 4:52:13       [0199/1923] lr: \t1.0000E-04 loss: \t3.43816\n",
            " epoch [0002 / 0100] eta: 0 Days 4:53:8        [0299/1923] lr: \t1.0000E-04 loss: \t3.43539\n",
            " epoch [0002 / 0100] eta: 0 Days 4:53:23       [0399/1923] lr: \t1.0000E-04 loss: \t3.43166\n",
            " epoch [0002 / 0100] eta: 0 Days 4:58:29       [0499/1923] lr: \t1.0000E-04 loss: \t3.43448\n",
            " epoch [0002 / 0100] eta: 0 Days 5:13:4        [0599/1923] lr: \t1.0000E-04 loss: \t3.43346\n",
            " epoch [0002 / 0100] eta: 0 Days 4:52:24       [0699/1923] lr: \t1.0000E-04 loss: \t3.43013\n",
            " epoch [0002 / 0100] eta: 0 Days 5:4:39        [0799/1923] lr: \t1.0000E-04 loss: \t3.41055\n",
            " epoch [0002 / 0100] eta: 0 Days 4:52:5        [0899/1923] lr: \t1.0000E-04 loss: \t3.40665\n",
            " epoch [0002 / 0100] eta: 0 Days 4:47:49       [0999/1923] lr: \t1.0000E-04 loss: \t3.39736\n",
            " epoch [0002 / 0100] eta: 0 Days 5:1:0         [1099/1923] lr: \t1.0000E-04 loss: \t3.41283\n",
            " epoch [0002 / 0100] eta: 0 Days 5:1:36        [1199/1923] lr: \t1.0000E-04 loss: \t3.41301\n",
            " epoch [0002 / 0100] eta: 0 Days 4:56:30       [1299/1923] lr: \t1.0000E-04 loss: \t3.41017\n",
            " epoch [0002 / 0100] eta: 0 Days 4:59:42       [1399/1923] lr: \t1.0000E-04 loss: \t3.41197\n",
            " epoch [0002 / 0100] eta: 0 Days 4:57:7        [1499/1923] lr: \t1.0000E-04 loss: \t3.40967\n",
            " epoch [0002 / 0100] eta: 0 Days 5:32:12       [1599/1923] lr: \t1.0000E-04 loss: \t3.41212\n",
            " epoch [0002 / 0100] eta: 0 Days 4:57:9        [1699/1923] lr: \t1.0000E-04 loss: \t3.41006\n",
            " epoch [0002 / 0100] eta: 0 Days 5:10:39       [1799/1923] lr: \t1.0000E-04 loss: \t3.41079\n",
            " epoch [0002 / 0100] eta: 0 Days 4:50:35       [1899/1923] lr: \t1.0000E-04 loss: \t3.40619\n"
          ]
        },
        {
          "metadata": {
            "tags": null
          },
          "name": "stderr",
          "output_type": "stream",
          "text": [
            "100%|██████████| 28/28 [00:46<00:00,  1.65s/it]\n"
          ]
        },
        {
          "metadata": {
            "tags": null
          },
          "name": "stdout",
          "output_type": "stream",
          "text": [
            "saving last_epoch checkpoint\n",
            "saving best_auroc checkpoint\n",
            "saving min_loss checkpoint\n",
            "val AUROC mean 0.5775\n",
            "Atelectasis 0.6337\n",
            "Cardiomegaly 0.5570\n",
            "Effusion 0.6208\n",
            "Infiltration 0.5136\n",
            "Mass 0.5475\n",
            "Nodule 0.5875\n",
            "Pneumothorax 0.6014\n",
            "Consolidation 0.6651\n",
            "Pleural_Thickening 0.4767\n",
            "Hernia 0.5714\n"
          ]
        },
        {
          "metadata": {
            "tags": null
          },
          "name": "stderr",
          "output_type": "stream",
          "text": [
            "100%|██████████| 219/219 [01:03<00:00,  3.45it/s]\n"
          ]
        },
        {
          "metadata": {
            "tags": null
          },
          "name": "stdout",
          "output_type": "stream",
          "text": [
            "\n",
            "test_seen AUROC mean 0.5611\n",
            "Atelectasis 0.6127\n",
            "Effusion 0.6000\n",
            "Infiltration 0.4984\n",
            "Mass 0.5553\n",
            "Nodule 0.6154\n",
            "Pneumothorax 0.5847\n",
            "Consolidation 0.6490\n",
            "Cardiomegaly 0.5315\n",
            "Pleural_Thickening 0.4644\n",
            "Hernia 0.4997\n",
            "\n",
            "test_unseen AUROC mean 0.4972\n",
            "Edema 0.6440\n",
            "Pneumonia 0.5359\n",
            "Emphysema 0.4898\n",
            "Fibrosis 0.3190\n",
            "best epoch 2 best auroc 0.5774729818990824 loss 3.355641 auroc at min loss 0.5775\n",
            " epoch [0003 / 0100] eta: 0 Days 4:50:25       [0099/1923] lr: \t1.0000E-04 loss: \t3.31140\n",
            " epoch [0003 / 0100] eta: 0 Days 4:57:15       [0199/1923] lr: \t1.0000E-04 loss: \t3.38737\n",
            " epoch [0003 / 0100] eta: 0 Days 5:1:30        [0299/1923] lr: \t1.0000E-04 loss: \t3.43175\n",
            " epoch [0003 / 0100] eta: 0 Days 4:50:58       [0399/1923] lr: \t1.0000E-04 loss: \t3.45227\n",
            " epoch [0003 / 0100] eta: 0 Days 5:19:11       [0499/1923] lr: \t1.0000E-04 loss: \t3.43643\n",
            " epoch [0003 / 0100] eta: 0 Days 4:52:51       [0599/1923] lr: \t1.0000E-04 loss: \t3.40861\n",
            " epoch [0003 / 0100] eta: 0 Days 4:56:39       [0699/1923] lr: \t1.0000E-04 loss: \t3.40056\n",
            " epoch [0003 / 0100] eta: 0 Days 4:53:48       [0799/1923] lr: \t1.0000E-04 loss: \t3.39956\n",
            " epoch [0003 / 0100] eta: 0 Days 4:59:21       [0899/1923] lr: \t1.0000E-04 loss: \t3.40324\n",
            " epoch [0003 / 0100] eta: 0 Days 4:52:47       [0999/1923] lr: \t1.0000E-04 loss: \t3.39548\n",
            " epoch [0003 / 0100] eta: 0 Days 4:52:44       [1099/1923] lr: \t1.0000E-04 loss: \t3.39840\n",
            " epoch [0003 / 0100] eta: 0 Days 4:48:47       [1199/1923] lr: \t1.0000E-04 loss: \t3.39407\n",
            " epoch [0003 / 0100] eta: 0 Days 4:48:34       [1299/1923] lr: \t1.0000E-04 loss: \t3.39549\n",
            " epoch [0003 / 0100] eta: 0 Days 4:47:54       [1399/1923] lr: \t1.0000E-04 loss: \t3.39897\n",
            " epoch [0003 / 0100] eta: 0 Days 4:50:20       [1499/1923] lr: \t1.0000E-04 loss: \t3.39256\n",
            " epoch [0003 / 0100] eta: 0 Days 4:54:17       [1599/1923] lr: \t1.0000E-04 loss: \t3.39183\n",
            " epoch [0003 / 0100] eta: 0 Days 4:51:0        [1699/1923] lr: \t1.0000E-04 loss: \t3.38597\n",
            " epoch [0003 / 0100] eta: 0 Days 5:1:26        [1799/1923] lr: \t1.0000E-04 loss: \t3.38417\n",
            " epoch [0003 / 0100] eta: 0 Days 5:10:26       [1899/1923] lr: \t1.0000E-04 loss: \t3.38027\n"
          ]
        },
        {
          "metadata": {
            "tags": null
          },
          "name": "stderr",
          "output_type": "stream",
          "text": [
            "100%|██████████| 28/28 [00:45<00:00,  1.62s/it]\n"
          ]
        },
        {
          "metadata": {
            "tags": null
          },
          "name": "stdout",
          "output_type": "stream",
          "text": [
            "saving last_epoch checkpoint\n",
            "saving best_auroc checkpoint\n",
            "val AUROC mean 0.5907\n",
            "Atelectasis 0.6550\n",
            "Cardiomegaly 0.5715\n",
            "Effusion 0.6060\n",
            "Infiltration 0.5678\n",
            "Mass 0.5370\n",
            "Nodule 0.5772\n",
            "Pneumothorax 0.5521\n",
            "Consolidation 0.6427\n",
            "Pleural_Thickening 0.5098\n",
            "Hernia 0.6883\n"
          ]
        },
        {
          "metadata": {
            "tags": null
          },
          "name": "stderr",
          "output_type": "stream",
          "text": [
            "100%|██████████| 219/219 [01:03<00:00,  3.44it/s]\n"
          ]
        },
        {
          "metadata": {
            "tags": null
          },
          "name": "stdout",
          "output_type": "stream",
          "text": [
            "\n",
            "test_seen AUROC mean 0.6050\n",
            "Atelectasis 0.6344\n",
            "Effusion 0.6192\n",
            "Infiltration 0.5737\n",
            "Mass 0.5560\n",
            "Nodule 0.6190\n",
            "Pneumothorax 0.5740\n",
            "Consolidation 0.6368\n",
            "Cardiomegaly 0.5472\n",
            "Pleural_Thickening 0.5302\n",
            "Hernia 0.7594\n",
            "\n",
            "test_unseen AUROC mean 0.4611\n",
            "Edema 0.4867\n",
            "Pneumonia 0.5075\n",
            "Emphysema 0.4592\n",
            "Fibrosis 0.3911\n",
            "best epoch 3 best auroc 0.590741096573467 loss 3.375548 auroc at min loss 0.5775\n",
            " epoch [0004 / 0100] eta: 0 Days 4:48:53       [0099/1923] lr: \t1.0000E-04 loss: \t3.42626\n",
            " epoch [0004 / 0100] eta: 0 Days 4:50:3        [0199/1923] lr: \t1.0000E-04 loss: \t3.42339\n",
            " epoch [0004 / 0100] eta: 0 Days 4:47:33       [0299/1923] lr: \t1.0000E-04 loss: \t3.39418\n",
            " epoch [0004 / 0100] eta: 0 Days 4:52:16       [0399/1923] lr: \t1.0000E-04 loss: \t3.36401\n",
            " epoch [0004 / 0100] eta: 0 Days 4:53:26       [0499/1923] lr: \t1.0000E-04 loss: \t3.34905\n",
            " epoch [0004 / 0100] eta: 0 Days 4:49:49       [0599/1923] lr: \t1.0000E-04 loss: \t3.34014\n",
            " epoch [0004 / 0100] eta: 0 Days 4:50:15       [0699/1923] lr: \t1.0000E-04 loss: \t3.33055\n",
            " epoch [0004 / 0100] eta: 0 Days 5:5:37        [0799/1923] lr: \t1.0000E-04 loss: \t3.34843\n",
            " epoch [0004 / 0100] eta: 0 Days 4:51:3        [0899/1923] lr: \t1.0000E-04 loss: \t3.35552\n",
            " epoch [0004 / 0100] eta: 0 Days 4:49:33       [0999/1923] lr: \t1.0000E-04 loss: \t3.33905\n",
            " epoch [0004 / 0100] eta: 0 Days 4:50:50       [1099/1923] lr: \t1.0000E-04 loss: \t3.34048\n",
            " epoch [0004 / 0100] eta: 0 Days 4:53:47       [1199/1923] lr: \t1.0000E-04 loss: \t3.34571\n",
            " epoch [0004 / 0100] eta: 0 Days 4:41:30       [1299/1923] lr: \t1.0000E-04 loss: \t3.35100\n",
            " epoch [0004 / 0100] eta: 0 Days 4:53:13       [1399/1923] lr: \t1.0000E-04 loss: \t3.34712\n",
            " epoch [0004 / 0100] eta: 0 Days 4:52:50       [1499/1923] lr: \t1.0000E-04 loss: \t3.34938\n",
            " epoch [0004 / 0100] eta: 0 Days 4:50:8        [1599/1923] lr: \t1.0000E-04 loss: \t3.35055\n",
            " epoch [0004 / 0100] eta: 0 Days 4:45:10       [1699/1923] lr: \t1.0000E-04 loss: \t3.34902\n",
            " epoch [0004 / 0100] eta: 0 Days 5:30:50       [1799/1923] lr: \t1.0000E-04 loss: \t3.34834\n",
            " epoch [0004 / 0100] eta: 0 Days 4:43:18       [1899/1923] lr: \t1.0000E-04 loss: \t3.35438\n"
          ]
        },
        {
          "metadata": {
            "tags": null
          },
          "name": "stderr",
          "output_type": "stream",
          "text": [
            "100%|██████████| 28/28 [00:46<00:00,  1.65s/it]\n"
          ]
        },
        {
          "metadata": {
            "tags": null
          },
          "name": "stdout",
          "output_type": "stream",
          "text": [
            "saving last_epoch checkpoint\n",
            "saving best_auroc checkpoint\n",
            "saving min_loss checkpoint\n",
            "val AUROC mean 0.5972\n",
            "Atelectasis 0.6476\n",
            "Cardiomegaly 0.5447\n",
            "Effusion 0.6344\n",
            "Infiltration 0.5051\n",
            "Mass 0.5497\n",
            "Nodule 0.5738\n",
            "Pneumothorax 0.6299\n",
            "Consolidation 0.6523\n",
            "Pleural_Thickening 0.5410\n",
            "Hernia 0.6939\n"
          ]
        },
        {
          "metadata": {
            "tags": null
          },
          "name": "stderr",
          "output_type": "stream",
          "text": [
            "100%|██████████| 219/219 [01:03<00:00,  3.44it/s]\n"
          ]
        },
        {
          "metadata": {
            "tags": null
          },
          "name": "stdout",
          "output_type": "stream",
          "text": [
            "\n",
            "test_seen AUROC mean 0.6062\n",
            "Atelectasis 0.6247\n",
            "Effusion 0.6339\n",
            "Infiltration 0.5188\n",
            "Mass 0.5759\n",
            "Nodule 0.6213\n",
            "Pneumothorax 0.6191\n",
            "Consolidation 0.6354\n",
            "Cardiomegaly 0.5227\n",
            "Pleural_Thickening 0.5688\n",
            "Hernia 0.7410\n",
            "\n",
            "test_unseen AUROC mean 0.4987\n",
            "Edema 0.5510\n",
            "Pneumonia 0.4928\n",
            "Emphysema 0.4900\n",
            "Fibrosis 0.4608\n",
            "best epoch 4 best auroc 0.5972475715124077 loss 3.315157 auroc at min loss 0.5972\n",
            " epoch [0005 / 0100] eta: 0 Days 4:48:28       [0099/1923] lr: \t1.0000E-04 loss: \t3.35112\n",
            " epoch [0005 / 0100] eta: 0 Days 4:47:58       [0199/1923] lr: \t1.0000E-04 loss: \t3.33295\n",
            " epoch [0005 / 0100] eta: 0 Days 4:35:55       [0299/1923] lr: \t1.0000E-04 loss: \t3.32913\n",
            " epoch [0005 / 0100] eta: 0 Days 4:42:46       [0399/1923] lr: \t1.0000E-04 loss: \t3.34121\n",
            " epoch [0005 / 0100] eta: 0 Days 4:48:46       [0499/1923] lr: \t1.0000E-04 loss: \t3.34685\n",
            " epoch [0005 / 0100] eta: 0 Days 5:14:26       [0599/1923] lr: \t1.0000E-04 loss: \t3.33551\n",
            " epoch [0005 / 0100] eta: 0 Days 4:49:7        [0699/1923] lr: \t1.0000E-04 loss: \t3.34293\n",
            " epoch [0005 / 0100] eta: 0 Days 4:55:35       [0799/1923] lr: \t1.0000E-04 loss: \t3.34443\n",
            " epoch [0005 / 0100] eta: 0 Days 5:5:33        [0899/1923] lr: \t1.0000E-04 loss: \t3.34205\n",
            " epoch [0005 / 0100] eta: 0 Days 4:43:6        [0999/1923] lr: \t1.0000E-04 loss: \t3.33382\n",
            " epoch [0005 / 0100] eta: 0 Days 4:50:4        [1099/1923] lr: \t1.0000E-04 loss: \t3.33207\n",
            " epoch [0005 / 0100] eta: 0 Days 4:43:40       [1199/1923] lr: \t1.0000E-04 loss: \t3.33295\n",
            " epoch [0005 / 0100] eta: 0 Days 4:47:19       [1299/1923] lr: \t1.0000E-04 loss: \t3.33339\n",
            " epoch [0005 / 0100] eta: 0 Days 4:44:11       [1399/1923] lr: \t1.0000E-04 loss: \t3.33448\n",
            " epoch [0005 / 0100] eta: 0 Days 4:46:43       [1499/1923] lr: \t1.0000E-04 loss: \t3.32841\n",
            " epoch [0005 / 0100] eta: 0 Days 4:44:22       [1599/1923] lr: \t1.0000E-04 loss: \t3.32305\n",
            " epoch [0005 / 0100] eta: 0 Days 4:42:17       [1699/1923] lr: \t1.0000E-04 loss: \t3.32325\n",
            " epoch [0005 / 0100] eta: 0 Days 4:40:2        [1799/1923] lr: \t1.0000E-04 loss: \t3.31803\n",
            " epoch [0005 / 0100] eta: 0 Days 4:46:30       [1899/1923] lr: \t1.0000E-04 loss: \t3.32200\n"
          ]
        },
        {
          "metadata": {
            "tags": null
          },
          "name": "stderr",
          "output_type": "stream",
          "text": [
            "100%|██████████| 28/28 [00:46<00:00,  1.64s/it]\n"
          ]
        },
        {
          "metadata": {
            "tags": null
          },
          "name": "stdout",
          "output_type": "stream",
          "text": [
            "saving last_epoch checkpoint\n",
            "saving best_auroc checkpoint\n",
            "saving min_loss checkpoint\n",
            "val AUROC mean 0.5996\n",
            "Atelectasis 0.6877\n",
            "Cardiomegaly 0.5449\n",
            "Effusion 0.6419\n",
            "Infiltration 0.5406\n",
            "Mass 0.5375\n",
            "Nodule 0.5904\n",
            "Pneumothorax 0.6383\n",
            "Consolidation 0.6542\n",
            "Pleural_Thickening 0.5074\n",
            "Hernia 0.6532\n"
          ]
        },
        {
          "metadata": {
            "tags": null
          },
          "name": "stderr",
          "output_type": "stream",
          "text": [
            "100%|██████████| 219/219 [01:04<00:00,  3.41it/s]\n"
          ]
        },
        {
          "metadata": {
            "tags": null
          },
          "name": "stdout",
          "output_type": "stream",
          "text": [
            "\n",
            "test_seen AUROC mean 0.6035\n",
            "Atelectasis 0.6524\n",
            "Effusion 0.6526\n",
            "Infiltration 0.5482\n",
            "Mass 0.5638\n",
            "Nodule 0.6242\n",
            "Pneumothorax 0.6209\n",
            "Consolidation 0.6484\n",
            "Cardiomegaly 0.5196\n",
            "Pleural_Thickening 0.5461\n",
            "Hernia 0.6586\n",
            "\n",
            "test_unseen AUROC mean 0.4813\n",
            "Edema 0.5492\n",
            "Pneumonia 0.4887\n",
            "Emphysema 0.4765\n",
            "Fibrosis 0.4106\n",
            "best epoch 5 best auroc 0.599614663478514 loss 3.282195 auroc at min loss 0.5996\n",
            " epoch [0006 / 0100] eta: 0 Days 4:45:24       [0099/1923] lr: \t1.0000E-04 loss: \t3.37918\n",
            " epoch [0006 / 0100] eta: 0 Days 4:44:33       [0199/1923] lr: \t1.0000E-04 loss: \t3.30657\n",
            " epoch [0006 / 0100] eta: 0 Days 5:15:0        [0299/1923] lr: \t1.0000E-04 loss: \t3.30046\n",
            " epoch [0006 / 0100] eta: 0 Days 4:45:10       [0399/1923] lr: \t1.0000E-04 loss: \t3.31756\n",
            " epoch [0006 / 0100] eta: 0 Days 4:40:44       [0499/1923] lr: \t1.0000E-04 loss: \t3.29332\n",
            " epoch [0006 / 0100] eta: 0 Days 4:56:57       [0599/1923] lr: \t1.0000E-04 loss: \t3.29012\n",
            " epoch [0006 / 0100] eta: 0 Days 5:49:40       [0699/1923] lr: \t1.0000E-04 loss: \t3.28805\n",
            " epoch [0006 / 0100] eta: 0 Days 5:19:35       [0799/1923] lr: \t1.0000E-04 loss: \t3.28924\n",
            " epoch [0006 / 0100] eta: 0 Days 4:57:35       [0899/1923] lr: \t1.0000E-04 loss: \t3.29166\n",
            " epoch [0006 / 0100] eta: 0 Days 5:20:22       [0999/1923] lr: \t1.0000E-04 loss: \t3.28718\n",
            " epoch [0006 / 0100] eta: 0 Days 4:36:48       [1099/1923] lr: \t1.0000E-04 loss: \t3.28483\n",
            " epoch [0006 / 0100] eta: 0 Days 5:49:11       [1199/1923] lr: \t1.0000E-04 loss: \t3.28531\n",
            " epoch [0006 / 0100] eta: 0 Days 4:43:44       [1299/1923] lr: \t1.0000E-04 loss: \t3.28838\n",
            " epoch [0006 / 0100] eta: 0 Days 4:46:19       [1399/1923] lr: \t1.0000E-04 loss: \t3.29077\n",
            " epoch [0006 / 0100] eta: 0 Days 4:45:24       [1499/1923] lr: \t1.0000E-04 loss: \t3.29172\n",
            " epoch [0006 / 0100] eta: 0 Days 4:40:11       [1599/1923] lr: \t1.0000E-04 loss: \t3.29018\n",
            " epoch [0006 / 0100] eta: 0 Days 4:52:37       [1699/1923] lr: \t1.0000E-04 loss: \t3.28880\n",
            " epoch [0006 / 0100] eta: 0 Days 4:36:52       [1799/1923] lr: \t1.0000E-04 loss: \t3.28777\n",
            " epoch [0006 / 0100] eta: 0 Days 4:43:49       [1899/1923] lr: \t1.0000E-04 loss: \t3.29219\n"
          ]
        },
        {
          "metadata": {
            "tags": null
          },
          "name": "stderr",
          "output_type": "stream",
          "text": [
            "100%|██████████| 28/28 [00:44<00:00,  1.59s/it]\n"
          ]
        },
        {
          "metadata": {
            "tags": null
          },
          "name": "stdout",
          "output_type": "stream",
          "text": [
            "saving last_epoch checkpoint\n",
            "saving best_auroc checkpoint\n",
            "saving min_loss checkpoint\n",
            "val AUROC mean 0.6052\n",
            "Atelectasis 0.6752\n",
            "Cardiomegaly 0.5569\n",
            "Effusion 0.6560\n",
            "Infiltration 0.5347\n",
            "Mass 0.5282\n",
            "Nodule 0.5921\n",
            "Pneumothorax 0.6712\n",
            "Consolidation 0.6605\n",
            "Pleural_Thickening 0.5221\n",
            "Hernia 0.6547\n"
          ]
        },
        {
          "metadata": {
            "tags": null
          },
          "name": "stderr",
          "output_type": "stream",
          "text": [
            "100%|██████████| 219/219 [01:03<00:00,  3.43it/s]\n"
          ]
        },
        {
          "metadata": {
            "tags": null
          },
          "name": "stdout",
          "output_type": "stream",
          "text": [
            "\n",
            "test_seen AUROC mean 0.6081\n",
            "Atelectasis 0.6520\n",
            "Effusion 0.6679\n",
            "Infiltration 0.5575\n",
            "Mass 0.5551\n",
            "Nodule 0.6129\n",
            "Pneumothorax 0.6427\n",
            "Consolidation 0.6483\n",
            "Cardiomegaly 0.5304\n",
            "Pleural_Thickening 0.5500\n",
            "Hernia 0.6645\n",
            "\n",
            "test_unseen AUROC mean 0.4854\n",
            "Edema 0.5401\n",
            "Pneumonia 0.4558\n",
            "Emphysema 0.4998\n",
            "Fibrosis 0.4460\n",
            "best epoch 6 best auroc 0.605175919108898 loss 3.271279 auroc at min loss 0.6052\n",
            " epoch [0007 / 0100] eta: 0 Days 4:40:11       [0099/1923] lr: \t1.0000E-04 loss: \t3.23770\n",
            " epoch [0007 / 0100] eta: 0 Days 5:25:46       [0199/1923] lr: \t1.0000E-04 loss: \t3.29130\n",
            " epoch [0007 / 0100] eta: 0 Days 4:37:6        [0299/1923] lr: \t1.0000E-04 loss: \t3.31525\n",
            " epoch [0007 / 0100] eta: 0 Days 5:7:55        [0399/1923] lr: \t1.0000E-04 loss: \t3.31405\n",
            " epoch [0007 / 0100] eta: 0 Days 4:39:57       [0499/1923] lr: \t1.0000E-04 loss: \t3.28298\n",
            " epoch [0007 / 0100] eta: 0 Days 5:3:35        [0599/1923] lr: \t1.0000E-04 loss: \t3.27616\n",
            " epoch [0007 / 0100] eta: 0 Days 4:44:2        [0699/1923] lr: \t1.0000E-04 loss: \t3.28206\n",
            " epoch [0007 / 0100] eta: 0 Days 4:38:5        [0799/1923] lr: \t1.0000E-04 loss: \t3.29571\n",
            " epoch [0007 / 0100] eta: 0 Days 4:38:8        [0899/1923] lr: \t1.0000E-04 loss: \t3.30214\n",
            " epoch [0007 / 0100] eta: 0 Days 4:55:44       [0999/1923] lr: \t1.0000E-04 loss: \t3.30842\n",
            " epoch [0007 / 0100] eta: 0 Days 4:58:0        [1099/1923] lr: \t1.0000E-04 loss: \t3.31541\n",
            " epoch [0007 / 0100] eta: 0 Days 4:34:56       [1199/1923] lr: \t1.0000E-04 loss: \t3.31084\n",
            " epoch [0007 / 0100] eta: 0 Days 4:35:35       [1299/1923] lr: \t1.0000E-04 loss: \t3.31131\n",
            " epoch [0007 / 0100] eta: 0 Days 4:52:23       [1399/1923] lr: \t1.0000E-04 loss: \t3.30475\n",
            " epoch [0007 / 0100] eta: 0 Days 5:6:38        [1499/1923] lr: \t1.0000E-04 loss: \t3.29624\n",
            " epoch [0007 / 0100] eta: 0 Days 4:35:39       [1599/1923] lr: \t1.0000E-04 loss: \t3.29137\n",
            " epoch [0007 / 0100] eta: 0 Days 4:40:24       [1699/1923] lr: \t1.0000E-04 loss: \t3.28428\n",
            " epoch [0007 / 0100] eta: 0 Days 4:37:48       [1799/1923] lr: \t1.0000E-04 loss: \t3.28267\n",
            " epoch [0007 / 0100] eta: 0 Days 4:39:23       [1899/1923] lr: \t1.0000E-04 loss: \t3.27908\n"
          ]
        },
        {
          "metadata": {
            "tags": null
          },
          "name": "stderr",
          "output_type": "stream",
          "text": [
            "100%|██████████| 28/28 [00:46<00:00,  1.67s/it]\n"
          ]
        },
        {
          "metadata": {
            "tags": null
          },
          "name": "stdout",
          "output_type": "stream",
          "text": [
            "saving last_epoch checkpoint\n",
            "saving best_auroc checkpoint\n",
            "saving min_loss checkpoint\n",
            "val AUROC mean 0.6067\n",
            "Atelectasis 0.6853\n",
            "Cardiomegaly 0.5535\n",
            "Effusion 0.6685\n",
            "Infiltration 0.5317\n",
            "Mass 0.5620\n",
            "Nodule 0.5973\n",
            "Pneumothorax 0.6367\n",
            "Consolidation 0.6504\n",
            "Pleural_Thickening 0.5234\n",
            "Hernia 0.6582\n"
          ]
        },
        {
          "metadata": {
            "tags": null
          },
          "name": "stderr",
          "output_type": "stream",
          "text": [
            "100%|██████████| 219/219 [01:04<00:00,  3.38it/s]\n"
          ]
        },
        {
          "metadata": {
            "tags": null
          },
          "name": "stdout",
          "output_type": "stream",
          "text": [
            "\n",
            "test_seen AUROC mean 0.6098\n",
            "Atelectasis 0.6547\n",
            "Effusion 0.6857\n",
            "Infiltration 0.5270\n",
            "Mass 0.5708\n",
            "Nodule 0.6248\n",
            "Pneumothorax 0.6311\n",
            "Consolidation 0.6545\n",
            "Cardiomegaly 0.5444\n",
            "Pleural_Thickening 0.5496\n",
            "Hernia 0.6558\n",
            "\n",
            "test_unseen AUROC mean 0.4940\n",
            "Edema 0.5531\n",
            "Pneumonia 0.4832\n",
            "Emphysema 0.4842\n",
            "Fibrosis 0.4556\n",
            "best epoch 7 best auroc 0.6067028128244024 loss 3.244970 auroc at min loss 0.6067\n",
            " epoch [0008 / 0100] eta: 0 Days 4:39:10       [0099/1923] lr: \t1.0000E-04 loss: \t3.21336\n",
            " epoch [0008 / 0100] eta: 0 Days 4:34:52       [0199/1923] lr: \t1.0000E-04 loss: \t3.25266\n",
            " epoch [0008 / 0100] eta: 0 Days 4:36:49       [0299/1923] lr: \t1.0000E-04 loss: \t3.27265\n",
            " epoch [0008 / 0100] eta: 0 Days 5:36:8        [0399/1923] lr: \t1.0000E-04 loss: \t3.27638\n",
            " epoch [0008 / 0100] eta: 0 Days 4:43:29       [0499/1923] lr: \t1.0000E-04 loss: \t3.28087\n",
            " epoch [0008 / 0100] eta: 0 Days 4:39:54       [0599/1923] lr: \t1.0000E-04 loss: \t3.29005\n",
            " epoch [0008 / 0100] eta: 0 Days 4:38:8        [0699/1923] lr: \t1.0000E-04 loss: \t3.29388\n",
            " epoch [0008 / 0100] eta: 0 Days 4:55:52       [0799/1923] lr: \t1.0000E-04 loss: \t3.28248\n",
            " epoch [0008 / 0100] eta: 0 Days 4:36:46       [0899/1923] lr: \t1.0000E-04 loss: \t3.27500\n",
            " epoch [0008 / 0100] eta: 0 Days 4:46:57       [0999/1923] lr: \t1.0000E-04 loss: \t3.26267\n",
            " epoch [0008 / 0100] eta: 0 Days 4:48:47       [1099/1923] lr: \t1.0000E-04 loss: \t3.25782\n",
            " epoch [0008 / 0100] eta: 0 Days 4:40:45       [1199/1923] lr: \t1.0000E-04 loss: \t3.24928\n",
            " epoch [0008 / 0100] eta: 0 Days 4:35:59       [1299/1923] lr: \t1.0000E-04 loss: \t3.24309\n",
            " epoch [0008 / 0100] eta: 0 Days 4:38:2        [1399/1923] lr: \t1.0000E-04 loss: \t3.24359\n",
            " epoch [0008 / 0100] eta: 0 Days 4:37:11       [1499/1923] lr: \t1.0000E-04 loss: \t3.24321\n",
            " epoch [0008 / 0100] eta: 0 Days 4:51:53       [1599/1923] lr: \t1.0000E-04 loss: \t3.24579\n",
            " epoch [0008 / 0100] eta: 0 Days 4:40:51       [1699/1923] lr: \t1.0000E-04 loss: \t3.24842\n",
            " epoch [0008 / 0100] eta: 0 Days 4:42:23       [1799/1923] lr: \t1.0000E-04 loss: \t3.24905\n",
            " epoch [0008 / 0100] eta: 0 Days 4:39:41       [1899/1923] lr: \t1.0000E-04 loss: \t3.25152\n"
          ]
        },
        {
          "metadata": {
            "tags": null
          },
          "name": "stderr",
          "output_type": "stream",
          "text": [
            "100%|██████████| 28/28 [00:43<00:00,  1.56s/it]\n"
          ]
        },
        {
          "metadata": {
            "tags": null
          },
          "name": "stdout",
          "output_type": "stream",
          "text": [
            "saving last_epoch checkpoint\n",
            "val AUROC mean 0.6007\n",
            "Atelectasis 0.6714\n",
            "Cardiomegaly 0.5391\n",
            "Effusion 0.6244\n",
            "Infiltration 0.5860\n",
            "Mass 0.4970\n",
            "Nodule 0.5846\n",
            "Pneumothorax 0.6256\n",
            "Consolidation 0.6867\n",
            "Pleural_Thickening 0.5306\n",
            "Hernia 0.6613\n",
            "best epoch 7 best auroc 0.6067028128244024 loss 3.307541 auroc at min loss 0.6067\n",
            " epoch [0009 / 0100] eta: 0 Days 4:33:6        [0099/1923] lr: \t1.0000E-04 loss: \t3.33647\n",
            " epoch [0009 / 0100] eta: 0 Days 4:35:21       [0199/1923] lr: \t1.0000E-04 loss: \t3.34126\n",
            " epoch [0009 / 0100] eta: 0 Days 4:39:16       [0299/1923] lr: \t1.0000E-04 loss: \t3.31110\n",
            " epoch [0009 / 0100] eta: 0 Days 4:35:51       [0399/1923] lr: \t1.0000E-04 loss: \t3.27246\n",
            " epoch [0009 / 0100] eta: 0 Days 5:47:40       [0499/1923] lr: \t1.0000E-04 loss: \t3.25841\n",
            " epoch [0009 / 0100] eta: 0 Days 5:23:20       [0599/1923] lr: \t1.0000E-04 loss: \t3.25219\n",
            " epoch [0009 / 0100] eta: 0 Days 4:48:16       [0699/1923] lr: \t1.0000E-04 loss: \t3.24525\n",
            " epoch [0009 / 0100] eta: 0 Days 4:33:18       [0799/1923] lr: \t1.0000E-04 loss: \t3.25252\n",
            " epoch [0009 / 0100] eta: 0 Days 4:44:46       [0899/1923] lr: \t1.0000E-04 loss: \t3.24409\n",
            " epoch [0009 / 0100] eta: 0 Days 4:38:48       [0999/1923] lr: \t1.0000E-04 loss: \t3.24594\n",
            " epoch [0009 / 0100] eta: 0 Days 4:42:7        [1099/1923] lr: \t1.0000E-04 loss: \t3.25830\n",
            " epoch [0009 / 0100] eta: 0 Days 4:34:49       [1199/1923] lr: \t1.0000E-04 loss: \t3.24788\n",
            " epoch [0009 / 0100] eta: 0 Days 4:35:16       [1299/1923] lr: \t1.0000E-04 loss: \t3.23723\n",
            " epoch [0009 / 0100] eta: 0 Days 4:28:49       [1399/1923] lr: \t1.0000E-04 loss: \t3.23457\n",
            " epoch [0009 / 0100] eta: 0 Days 4:53:47       [1499/1923] lr: \t1.0000E-04 loss: \t3.22691\n",
            " epoch [0009 / 0100] eta: 0 Days 4:36:36       [1599/1923] lr: \t1.0000E-04 loss: \t3.22351\n",
            " epoch [0009 / 0100] eta: 0 Days 4:36:41       [1699/1923] lr: \t1.0000E-04 loss: \t3.22169\n",
            " epoch [0009 / 0100] eta: 0 Days 4:40:54       [1799/1923] lr: \t1.0000E-04 loss: \t3.22866\n",
            " epoch [0009 / 0100] eta: 0 Days 4:53:14       [1899/1923] lr: \t1.0000E-04 loss: \t3.23131\n"
          ]
        },
        {
          "metadata": {
            "tags": null
          },
          "name": "stderr",
          "output_type": "stream",
          "text": [
            "100%|██████████| 28/28 [00:44<00:00,  1.60s/it]\n"
          ]
        },
        {
          "metadata": {
            "tags": null
          },
          "name": "stdout",
          "output_type": "stream",
          "text": [
            "saving last_epoch checkpoint\n",
            "saving best_auroc checkpoint\n",
            "saving min_loss checkpoint\n",
            "val AUROC mean 0.6101\n",
            "Atelectasis 0.6523\n",
            "Cardiomegaly 0.5933\n",
            "Effusion 0.6864\n",
            "Infiltration 0.5645\n",
            "Mass 0.5441\n",
            "Nodule 0.5920\n",
            "Pneumothorax 0.6676\n",
            "Consolidation 0.6666\n",
            "Pleural_Thickening 0.5208\n",
            "Hernia 0.6133\n"
          ]
        },
        {
          "metadata": {
            "tags": null
          },
          "name": "stderr",
          "output_type": "stream",
          "text": [
            "100%|██████████| 219/219 [01:03<00:00,  3.45it/s]\n"
          ]
        },
        {
          "metadata": {
            "tags": null
          },
          "name": "stdout",
          "output_type": "stream",
          "text": [
            "\n",
            "test_seen AUROC mean 0.5958\n",
            "Atelectasis 0.6349\n",
            "Effusion 0.7037\n",
            "Infiltration 0.5647\n",
            "Mass 0.5418\n",
            "Nodule 0.6195\n",
            "Pneumothorax 0.6233\n",
            "Consolidation 0.6489\n",
            "Cardiomegaly 0.5661\n",
            "Pleural_Thickening 0.5321\n",
            "Hernia 0.5234\n",
            "\n",
            "test_unseen AUROC mean 0.4745\n",
            "Edema 0.6006\n",
            "Pneumonia 0.4547\n",
            "Emphysema 0.4566\n",
            "Fibrosis 0.3859\n",
            "best epoch 9 best auroc 0.6100823080194693 loss 3.243893 auroc at min loss 0.6101\n",
            " epoch [0010 / 0100] eta: 0 Days 4:27:56       [0099/1923] lr: \t1.0000E-04 loss: \t3.16896\n",
            " epoch [0010 / 0100] eta: 0 Days 4:25:57       [0199/1923] lr: \t1.0000E-04 loss: \t3.22009\n",
            " epoch [0010 / 0100] eta: 0 Days 4:28:26       [0299/1923] lr: \t1.0000E-04 loss: \t3.23032\n",
            " epoch [0010 / 0100] eta: 0 Days 4:45:55       [0399/1923] lr: \t1.0000E-04 loss: \t3.23531\n",
            " epoch [0010 / 0100] eta: 0 Days 5:3:12        [0499/1923] lr: \t1.0000E-04 loss: \t3.21400\n",
            " epoch [0010 / 0100] eta: 0 Days 4:38:4        [0599/1923] lr: \t1.0000E-04 loss: \t3.20205\n",
            " epoch [0010 / 0100] eta: 0 Days 4:30:47       [0699/1923] lr: \t1.0000E-04 loss: \t3.20807\n",
            " epoch [0010 / 0100] eta: 0 Days 4:33:28       [0799/1923] lr: \t1.0000E-04 loss: \t3.21324\n",
            " epoch [0010 / 0100] eta: 0 Days 4:38:54       [0899/1923] lr: \t1.0000E-04 loss: \t3.20831\n",
            " epoch [0010 / 0100] eta: 0 Days 4:33:48       [0999/1923] lr: \t1.0000E-04 loss: \t3.22310\n",
            " epoch [0010 / 0100] eta: 0 Days 4:33:9        [1099/1923] lr: \t1.0000E-04 loss: \t3.21198\n",
            " epoch [0010 / 0100] eta: 0 Days 4:29:8        [1199/1923] lr: \t1.0000E-04 loss: \t3.20686\n",
            " epoch [0010 / 0100] eta: 0 Days 4:31:51       [1299/1923] lr: \t1.0000E-04 loss: \t3.20499\n",
            " epoch [0010 / 0100] eta: 0 Days 4:31:33       [1399/1923] lr: \t1.0000E-04 loss: \t3.21221\n",
            " epoch [0010 / 0100] eta: 0 Days 4:31:38       [1499/1923] lr: \t1.0000E-04 loss: \t3.21343\n",
            " epoch [0010 / 0100] eta: 0 Days 4:23:54       [1599/1923] lr: \t1.0000E-04 loss: \t3.21521\n",
            " epoch [0010 / 0100] eta: 0 Days 4:39:57       [1699/1923] lr: \t1.0000E-04 loss: \t3.20776\n",
            " epoch [0010 / 0100] eta: 0 Days 5:52:7        [1799/1923] lr: \t1.0000E-04 loss: \t3.20689\n",
            " epoch [0010 / 0100] eta: 0 Days 4:38:4        [1899/1923] lr: \t1.0000E-04 loss: \t3.20788\n"
          ]
        },
        {
          "metadata": {
            "tags": null
          },
          "name": "stderr",
          "output_type": "stream",
          "text": [
            "100%|██████████| 28/28 [00:44<00:00,  1.57s/it]\n"
          ]
        },
        {
          "metadata": {
            "tags": null
          },
          "name": "stdout",
          "output_type": "stream",
          "text": [
            "saving last_epoch checkpoint\n",
            "saving best_auroc checkpoint\n",
            "saving min_loss checkpoint\n",
            "val AUROC mean 0.6351\n",
            "Atelectasis 0.6881\n",
            "Cardiomegaly 0.6487\n",
            "Effusion 0.6779\n",
            "Infiltration 0.5737\n",
            "Mass 0.5406\n",
            "Nodule 0.6102\n",
            "Pneumothorax 0.7056\n",
            "Consolidation 0.6807\n",
            "Pleural_Thickening 0.5297\n",
            "Hernia 0.6956\n"
          ]
        },
        {
          "metadata": {
            "tags": null
          },
          "name": "stderr",
          "output_type": "stream",
          "text": [
            "100%|██████████| 219/219 [01:04<00:00,  3.40it/s]\n"
          ]
        },
        {
          "metadata": {
            "tags": null
          },
          "name": "stdout",
          "output_type": "stream",
          "text": [
            "\n",
            "test_seen AUROC mean 0.6332\n",
            "Atelectasis 0.6509\n",
            "Effusion 0.7011\n",
            "Infiltration 0.5785\n",
            "Mass 0.5534\n",
            "Nodule 0.6253\n",
            "Pneumothorax 0.6772\n",
            "Consolidation 0.6629\n",
            "Cardiomegaly 0.6207\n",
            "Pleural_Thickening 0.5614\n",
            "Hernia 0.7004\n",
            "\n",
            "test_unseen AUROC mean 0.4948\n",
            "Edema 0.6096\n",
            "Pneumonia 0.4721\n",
            "Emphysema 0.4342\n",
            "Fibrosis 0.4635\n",
            "best epoch 10 best auroc 0.6350865495793063 loss 3.156268 auroc at min loss 0.6351\n",
            " epoch [0011 / 0100] eta: 0 Days 4:39:39       [0099/1923] lr: \t1.0000E-04 loss: \t3.29350\n",
            " epoch [0011 / 0100] eta: 0 Days 4:38:34       [0199/1923] lr: \t1.0000E-04 loss: \t3.26035\n",
            " epoch [0011 / 0100] eta: 0 Days 4:49:57       [0299/1923] lr: \t1.0000E-04 loss: \t3.23830\n",
            " epoch [0011 / 0100] eta: 0 Days 4:34:28       [0399/1923] lr: \t1.0000E-04 loss: \t3.18811\n",
            " epoch [0011 / 0100] eta: 0 Days 4:33:58       [0499/1923] lr: \t1.0000E-04 loss: \t3.17141\n",
            " epoch [0011 / 0100] eta: 0 Days 4:32:17       [0599/1923] lr: \t1.0000E-04 loss: \t3.16942\n",
            " epoch [0011 / 0100] eta: 0 Days 4:37:11       [0699/1923] lr: \t1.0000E-04 loss: \t3.17933\n",
            " epoch [0011 / 0100] eta: 0 Days 4:31:25       [0799/1923] lr: \t1.0000E-04 loss: \t3.17625\n",
            " epoch [0011 / 0100] eta: 0 Days 4:23:14       [0899/1923] lr: \t1.0000E-04 loss: \t3.17677\n",
            " epoch [0011 / 0100] eta: 0 Days 4:37:44       [0999/1923] lr: \t1.0000E-04 loss: \t3.18022\n",
            " epoch [0011 / 0100] eta: 0 Days 4:33:40       [1099/1923] lr: \t1.0000E-04 loss: \t3.17780\n",
            " epoch [0011 / 0100] eta: 0 Days 4:37:19       [1199/1923] lr: \t1.0000E-04 loss: \t3.18059\n",
            " epoch [0011 / 0100] eta: 0 Days 4:39:47       [1299/1923] lr: \t1.0000E-04 loss: \t3.19088\n",
            " epoch [0011 / 0100] eta: 0 Days 4:21:56       [1399/1923] lr: \t1.0000E-04 loss: \t3.18980\n",
            " epoch [0011 / 0100] eta: 0 Days 4:35:13       [1499/1923] lr: \t1.0000E-04 loss: \t3.19300\n",
            " epoch [0011 / 0100] eta: 0 Days 4:37:51       [1599/1923] lr: \t1.0000E-04 loss: \t3.18914\n",
            " epoch [0011 / 0100] eta: 0 Days 4:36:1        [1699/1923] lr: \t1.0000E-04 loss: \t3.19647\n",
            " epoch [0011 / 0100] eta: 0 Days 4:30:8        [1799/1923] lr: \t1.0000E-04 loss: \t3.20146\n",
            " epoch [0011 / 0100] eta: 0 Days 4:26:32       [1899/1923] lr: \t1.0000E-04 loss: \t3.19579\n"
          ]
        },
        {
          "metadata": {
            "tags": null
          },
          "name": "stderr",
          "output_type": "stream",
          "text": [
            "100%|██████████| 28/28 [00:45<00:00,  1.63s/it]\n"
          ]
        },
        {
          "metadata": {
            "tags": null
          },
          "name": "stdout",
          "output_type": "stream",
          "text": [
            "saving last_epoch checkpoint\n",
            "saving best_auroc checkpoint\n",
            "saving min_loss checkpoint\n",
            "val AUROC mean 0.6417\n",
            "Atelectasis 0.6988\n",
            "Cardiomegaly 0.6808\n",
            "Effusion 0.6852\n",
            "Infiltration 0.5687\n",
            "Mass 0.5380\n",
            "Nodule 0.5964\n",
            "Pneumothorax 0.6833\n",
            "Consolidation 0.6815\n",
            "Pleural_Thickening 0.5547\n",
            "Hernia 0.7298\n"
          ]
        },
        {
          "metadata": {
            "tags": null
          },
          "name": "stderr",
          "output_type": "stream",
          "text": [
            "100%|██████████| 219/219 [01:03<00:00,  3.47it/s]\n"
          ]
        },
        {
          "metadata": {
            "tags": null
          },
          "name": "stdout",
          "output_type": "stream",
          "text": [
            "\n",
            "test_seen AUROC mean 0.6448\n",
            "Atelectasis 0.6674\n",
            "Effusion 0.7041\n",
            "Infiltration 0.5825\n",
            "Mass 0.5571\n",
            "Nodule 0.6306\n",
            "Pneumothorax 0.6585\n",
            "Consolidation 0.6681\n",
            "Cardiomegaly 0.6476\n",
            "Pleural_Thickening 0.5751\n",
            "Hernia 0.7567\n",
            "\n",
            "test_unseen AUROC mean 0.4852\n",
            "Edema 0.5612\n",
            "Pneumonia 0.4535\n",
            "Emphysema 0.4688\n",
            "Fibrosis 0.4573\n",
            "best epoch 11 best auroc 0.6417148350706676 loss 3.153965 auroc at min loss 0.6417\n",
            " epoch [0012 / 0100] eta: 0 Days 4:32:4        [0099/1923] lr: \t1.0000E-04 loss: \t3.12250\n",
            " epoch [0012 / 0100] eta: 0 Days 4:24:21       [0199/1923] lr: \t1.0000E-04 loss: \t3.17065\n",
            " epoch [0012 / 0100] eta: 0 Days 4:22:18       [0299/1923] lr: \t1.0000E-04 loss: \t3.17178\n",
            " epoch [0012 / 0100] eta: 0 Days 4:23:1        [0399/1923] lr: \t1.0000E-04 loss: \t3.17776\n",
            " epoch [0012 / 0100] eta: 0 Days 4:23:56       [0499/1923] lr: \t1.0000E-04 loss: \t3.16298\n",
            " epoch [0012 / 0100] eta: 0 Days 5:22:25       [0599/1923] lr: \t1.0000E-04 loss: \t3.15710\n",
            " epoch [0012 / 0100] eta: 0 Days 4:24:0        [0699/1923] lr: \t1.0000E-04 loss: \t3.16099\n",
            " epoch [0012 / 0100] eta: 0 Days 4:20:14       [0799/1923] lr: \t1.0000E-04 loss: \t3.16351\n",
            " epoch [0012 / 0100] eta: 0 Days 4:30:8        [0899/1923] lr: \t1.0000E-04 loss: \t3.16509\n",
            " epoch [0012 / 0100] eta: 0 Days 4:29:24       [0999/1923] lr: \t1.0000E-04 loss: \t3.17181\n",
            " epoch [0012 / 0100] eta: 0 Days 4:39:56       [1099/1923] lr: \t1.0000E-04 loss: \t3.18441\n",
            " epoch [0012 / 0100] eta: 0 Days 4:24:44       [1199/1923] lr: \t1.0000E-04 loss: \t3.18028\n",
            " epoch [0012 / 0100] eta: 0 Days 4:24:25       [1299/1923] lr: \t1.0000E-04 loss: \t3.17143\n",
            " epoch [0012 / 0100] eta: 0 Days 4:30:24       [1399/1923] lr: \t1.0000E-04 loss: \t3.17369\n",
            " epoch [0012 / 0100] eta: 0 Days 4:42:35       [1499/1923] lr: \t1.0000E-04 loss: \t3.16790\n",
            " epoch [0012 / 0100] eta: 0 Days 4:25:25       [1599/1923] lr: \t1.0000E-04 loss: \t3.16923\n",
            " epoch [0012 / 0100] eta: 0 Days 4:28:30       [1699/1923] lr: \t1.0000E-04 loss: \t3.16769\n",
            " epoch [0012 / 0100] eta: 0 Days 4:28:11       [1799/1923] lr: \t1.0000E-04 loss: \t3.16306\n",
            " epoch [0012 / 0100] eta: 0 Days 4:25:42       [1899/1923] lr: \t1.0000E-04 loss: \t3.16934\n"
          ]
        },
        {
          "metadata": {
            "tags": null
          },
          "name": "stderr",
          "output_type": "stream",
          "text": [
            "100%|██████████| 28/28 [00:44<00:00,  1.59s/it]\n"
          ]
        },
        {
          "metadata": {
            "tags": null
          },
          "name": "stdout",
          "output_type": "stream",
          "text": [
            "saving last_epoch checkpoint\n",
            "saving best_auroc checkpoint\n",
            "saving min_loss checkpoint\n",
            "val AUROC mean 0.6626\n",
            "Atelectasis 0.7062\n",
            "Cardiomegaly 0.7289\n",
            "Effusion 0.7271\n",
            "Infiltration 0.5972\n",
            "Mass 0.5887\n",
            "Nodule 0.6034\n",
            "Pneumothorax 0.7218\n",
            "Consolidation 0.6967\n",
            "Pleural_Thickening 0.5590\n",
            "Hernia 0.6973\n"
          ]
        },
        {
          "metadata": {
            "tags": null
          },
          "name": "stderr",
          "output_type": "stream",
          "text": [
            "100%|██████████| 219/219 [01:04<00:00,  3.42it/s]\n"
          ]
        },
        {
          "metadata": {
            "tags": null
          },
          "name": "stdout",
          "output_type": "stream",
          "text": [
            "\n",
            "test_seen AUROC mean 0.6493\n",
            "Atelectasis 0.6694\n",
            "Effusion 0.7345\n",
            "Infiltration 0.5907\n",
            "Mass 0.5689\n",
            "Nodule 0.6155\n",
            "Pneumothorax 0.6849\n",
            "Consolidation 0.6815\n",
            "Cardiomegaly 0.6983\n",
            "Pleural_Thickening 0.5663\n",
            "Hernia 0.6829\n",
            "\n",
            "test_unseen AUROC mean 0.5267\n",
            "Edema 0.6759\n",
            "Pneumonia 0.4882\n",
            "Emphysema 0.4950\n",
            "Fibrosis 0.4477\n",
            "best epoch 12 best auroc 0.6626185195645997 loss 3.081534 auroc at min loss 0.6626\n",
            " epoch [0013 / 0100] eta: 0 Days 4:33:53       [0099/1923] lr: \t1.0000E-04 loss: \t3.17190\n",
            " epoch [0013 / 0100] eta: 0 Days 4:28:19       [0199/1923] lr: \t1.0000E-04 loss: \t3.15402\n",
            " epoch [0013 / 0100] eta: 0 Days 4:23:25       [0299/1923] lr: \t1.0000E-04 loss: \t3.13978\n",
            " epoch [0013 / 0100] eta: 0 Days 4:29:34       [0399/1923] lr: \t1.0000E-04 loss: \t3.12849\n",
            " epoch [0013 / 0100] eta: 0 Days 4:33:22       [0499/1923] lr: \t1.0000E-04 loss: \t3.12537\n",
            " epoch [0013 / 0100] eta: 0 Days 4:23:6        [0599/1923] lr: \t1.0000E-04 loss: \t3.14236\n",
            " epoch [0013 / 0100] eta: 0 Days 4:27:21       [0699/1923] lr: \t1.0000E-04 loss: \t3.15442\n",
            " epoch [0013 / 0100] eta: 0 Days 4:30:35       [0799/1923] lr: \t1.0000E-04 loss: \t3.15133\n",
            " epoch [0013 / 0100] eta: 0 Days 4:27:8        [0899/1923] lr: \t1.0000E-04 loss: \t3.15047\n",
            " epoch [0013 / 0100] eta: 0 Days 4:22:43       [0999/1923] lr: \t1.0000E-04 loss: \t3.15797\n",
            " epoch [0013 / 0100] eta: 0 Days 4:27:5        [1099/1923] lr: \t1.0000E-04 loss: \t3.15603\n",
            " epoch [0013 / 0100] eta: 0 Days 4:29:23       [1199/1923] lr: \t1.0000E-04 loss: \t3.15517\n",
            " epoch [0013 / 0100] eta: 0 Days 4:20:55       [1299/1923] lr: \t1.0000E-04 loss: \t3.16026\n",
            " epoch [0013 / 0100] eta: 0 Days 4:31:34       [1399/1923] lr: \t1.0000E-04 loss: \t3.16022\n",
            " epoch [0013 / 0100] eta: 0 Days 4:25:7        [1499/1923] lr: \t1.0000E-04 loss: \t3.15774\n",
            " epoch [0013 / 0100] eta: 0 Days 4:20:29       [1599/1923] lr: \t1.0000E-04 loss: \t3.15308\n",
            " epoch [0013 / 0100] eta: 0 Days 4:39:49       [1699/1923] lr: \t1.0000E-04 loss: \t3.14963\n",
            " epoch [0013 / 0100] eta: 0 Days 4:28:37       [1799/1923] lr: \t1.0000E-04 loss: \t3.14178\n",
            " epoch [0013 / 0100] eta: 0 Days 4:34:53       [1899/1923] lr: \t1.0000E-04 loss: \t3.13842\n"
          ]
        },
        {
          "metadata": {
            "tags": null
          },
          "name": "stderr",
          "output_type": "stream",
          "text": [
            "100%|██████████| 28/28 [00:44<00:00,  1.59s/it]\n"
          ]
        },
        {
          "metadata": {
            "tags": null
          },
          "name": "stdout",
          "output_type": "stream",
          "text": [
            "saving last_epoch checkpoint\n",
            "val AUROC mean 0.6544\n",
            "Atelectasis 0.6842\n",
            "Cardiomegaly 0.7739\n",
            "Effusion 0.6919\n",
            "Infiltration 0.5694\n",
            "Mass 0.5866\n",
            "Nodule 0.6220\n",
            "Pneumothorax 0.7123\n",
            "Consolidation 0.6743\n",
            "Pleural_Thickening 0.5665\n",
            "Hernia 0.6631\n",
            "best epoch 12 best auroc 0.6626185195645997 loss 3.099492 auroc at min loss 0.6626\n",
            " epoch [0014 / 0100] eta: 0 Days 4:52:48       [0099/1923] lr: \t1.0000E-04 loss: \t3.27530\n",
            " epoch [0014 / 0100] eta: 0 Days 4:18:36       [0199/1923] lr: \t1.0000E-04 loss: \t3.17190\n",
            " epoch [0014 / 0100] eta: 0 Days 4:23:23       [0299/1923] lr: \t1.0000E-04 loss: \t3.09419\n",
            " epoch [0014 / 0100] eta: 0 Days 4:34:51       [0399/1923] lr: \t1.0000E-04 loss: \t3.11068\n",
            " epoch [0014 / 0100] eta: 0 Days 4:27:55       [0499/1923] lr: \t1.0000E-04 loss: \t3.11203\n",
            " epoch [0014 / 0100] eta: 0 Days 5:1:44        [0599/1923] lr: \t1.0000E-04 loss: \t3.13738\n",
            " epoch [0014 / 0100] eta: 0 Days 4:21:57       [0699/1923] lr: \t1.0000E-04 loss: \t3.12436\n",
            " epoch [0014 / 0100] eta: 0 Days 4:20:50       [0799/1923] lr: \t1.0000E-04 loss: \t3.13202\n",
            " epoch [0014 / 0100] eta: 0 Days 4:23:20       [0899/1923] lr: \t1.0000E-04 loss: \t3.13329\n",
            " epoch [0014 / 0100] eta: 0 Days 4:17:28       [0999/1923] lr: \t1.0000E-04 loss: \t3.13242\n",
            " epoch [0014 / 0100] eta: 0 Days 4:23:50       [1099/1923] lr: \t1.0000E-04 loss: \t3.12687\n",
            " epoch [0014 / 0100] eta: 0 Days 4:27:1        [1199/1923] lr: \t1.0000E-04 loss: \t3.12482\n",
            " epoch [0014 / 0100] eta: 0 Days 4:23:8        [1299/1923] lr: \t1.0000E-04 loss: \t3.12162\n",
            " epoch [0014 / 0100] eta: 0 Days 4:16:51       [1399/1923] lr: \t1.0000E-04 loss: \t3.11838\n",
            " epoch [0014 / 0100] eta: 0 Days 4:24:18       [1499/1923] lr: \t1.0000E-04 loss: \t3.10944\n",
            " epoch [0014 / 0100] eta: 0 Days 4:14:30       [1599/1923] lr: \t1.0000E-04 loss: \t3.09888\n",
            " epoch [0014 / 0100] eta: 0 Days 4:13:45       [1699/1923] lr: \t1.0000E-04 loss: \t3.10055\n",
            " epoch [0014 / 0100] eta: 0 Days 5:27:54       [1799/1923] lr: \t1.0000E-04 loss: \t3.11085\n",
            " epoch [0014 / 0100] eta: 0 Days 4:13:25       [1899/1923] lr: \t1.0000E-04 loss: \t3.10996\n"
          ]
        },
        {
          "metadata": {
            "tags": null
          },
          "name": "stderr",
          "output_type": "stream",
          "text": [
            "100%|██████████| 28/28 [00:43<00:00,  1.57s/it]\n"
          ]
        },
        {
          "metadata": {
            "tags": null
          },
          "name": "stdout",
          "output_type": "stream",
          "text": [
            "saving last_epoch checkpoint\n",
            "saving best_auroc checkpoint\n",
            "saving min_loss checkpoint\n",
            "val AUROC mean 0.6736\n",
            "Atelectasis 0.7009\n",
            "Cardiomegaly 0.8050\n",
            "Effusion 0.7281\n",
            "Infiltration 0.5753\n",
            "Mass 0.6044\n",
            "Nodule 0.6155\n",
            "Pneumothorax 0.7262\n",
            "Consolidation 0.6937\n",
            "Pleural_Thickening 0.5991\n",
            "Hernia 0.6873\n"
          ]
        },
        {
          "metadata": {
            "tags": null
          },
          "name": "stderr",
          "output_type": "stream",
          "text": [
            "100%|██████████| 219/219 [01:03<00:00,  3.47it/s]\n"
          ]
        },
        {
          "metadata": {
            "tags": null
          },
          "name": "stdout",
          "output_type": "stream",
          "text": [
            "\n",
            "test_seen AUROC mean 0.6722\n",
            "Atelectasis 0.6654\n",
            "Effusion 0.7383\n",
            "Infiltration 0.5857\n",
            "Mass 0.5809\n",
            "Nodule 0.6503\n",
            "Pneumothorax 0.7224\n",
            "Consolidation 0.6796\n",
            "Cardiomegaly 0.7632\n",
            "Pleural_Thickening 0.6166\n",
            "Hernia 0.7201\n",
            "\n",
            "test_unseen AUROC mean 0.5139\n",
            "Edema 0.5463\n",
            "Pneumonia 0.4849\n",
            "Emphysema 0.5200\n",
            "Fibrosis 0.5044\n",
            "best epoch 14 best auroc 0.6735613768059958 loss 2.989038 auroc at min loss 0.6736\n",
            " epoch [0015 / 0100] eta: 0 Days 4:23:8        [0099/1923] lr: \t1.0000E-04 loss: \t3.16440\n",
            " epoch [0015 / 0100] eta: 0 Days 4:19:14       [0199/1923] lr: \t1.0000E-04 loss: \t3.08423\n",
            " epoch [0015 / 0100] eta: 0 Days 4:40:50       [0299/1923] lr: \t1.0000E-04 loss: \t3.05582\n",
            " epoch [0015 / 0100] eta: 0 Days 4:37:25       [0399/1923] lr: \t1.0000E-04 loss: \t3.08457\n",
            " epoch [0015 / 0100] eta: 0 Days 4:16:28       [0499/1923] lr: \t1.0000E-04 loss: \t3.07075\n",
            " epoch [0015 / 0100] eta: 0 Days 4:13:21       [0599/1923] lr: \t1.0000E-04 loss: \t3.07717\n",
            " epoch [0015 / 0100] eta: 0 Days 4:27:43       [0699/1923] lr: \t1.0000E-04 loss: \t3.08951\n",
            " epoch [0015 / 0100] eta: 0 Days 4:25:17       [0799/1923] lr: \t1.0000E-04 loss: \t3.10375\n",
            " epoch [0015 / 0100] eta: 0 Days 4:18:5        [0899/1923] lr: \t1.0000E-04 loss: \t3.09691\n",
            " epoch [0015 / 0100] eta: 0 Days 4:17:56       [0999/1923] lr: \t1.0000E-04 loss: \t3.09018\n",
            " epoch [0015 / 0100] eta: 0 Days 4:10:45       [1099/1923] lr: \t1.0000E-04 loss: \t3.08796\n",
            " epoch [0015 / 0100] eta: 0 Days 4:19:56       [1199/1923] lr: \t1.0000E-04 loss: \t3.09247\n",
            " epoch [0015 / 0100] eta: 0 Days 4:20:44       [1299/1923] lr: \t1.0000E-04 loss: \t3.09450\n",
            " epoch [0015 / 0100] eta: 0 Days 4:23:38       [1399/1923] lr: \t1.0000E-04 loss: \t3.09092\n",
            " epoch [0015 / 0100] eta: 0 Days 4:23:12       [1499/1923] lr: \t1.0000E-04 loss: \t3.08708\n",
            " epoch [0015 / 0100] eta: 0 Days 4:56:56       [1599/1923] lr: \t1.0000E-04 loss: \t3.08780\n",
            " epoch [0015 / 0100] eta: 0 Days 4:23:13       [1699/1923] lr: \t1.0000E-04 loss: \t3.09141\n",
            " epoch [0015 / 0100] eta: 0 Days 4:16:43       [1799/1923] lr: \t1.0000E-04 loss: \t3.09053\n",
            " epoch [0015 / 0100] eta: 0 Days 4:10:34       [1899/1923] lr: \t1.0000E-04 loss: \t3.08496\n"
          ]
        },
        {
          "metadata": {
            "tags": null
          },
          "name": "stderr",
          "output_type": "stream",
          "text": [
            "100%|██████████| 28/28 [00:44<00:00,  1.58s/it]\n"
          ]
        },
        {
          "metadata": {
            "tags": null
          },
          "name": "stdout",
          "output_type": "stream",
          "text": [
            "saving last_epoch checkpoint\n",
            "saving best_auroc checkpoint\n",
            "val AUROC mean 0.6776\n",
            "Atelectasis 0.6846\n",
            "Cardiomegaly 0.7861\n",
            "Effusion 0.7387\n",
            "Infiltration 0.5877\n",
            "Mass 0.6176\n",
            "Nodule 0.6336\n",
            "Pneumothorax 0.7471\n",
            "Consolidation 0.6765\n",
            "Pleural_Thickening 0.5728\n",
            "Hernia 0.7308\n"
          ]
        },
        {
          "metadata": {
            "tags": null
          },
          "name": "stderr",
          "output_type": "stream",
          "text": [
            "100%|██████████| 219/219 [01:03<00:00,  3.44it/s]\n"
          ]
        },
        {
          "metadata": {
            "tags": null
          },
          "name": "stdout",
          "output_type": "stream",
          "text": [
            "\n",
            "test_seen AUROC mean 0.6673\n",
            "Atelectasis 0.6578\n",
            "Effusion 0.7465\n",
            "Infiltration 0.5668\n",
            "Mass 0.6012\n",
            "Nodule 0.6548\n",
            "Pneumothorax 0.7121\n",
            "Consolidation 0.6691\n",
            "Cardiomegaly 0.7389\n",
            "Pleural_Thickening 0.6107\n",
            "Hernia 0.7151\n",
            "\n",
            "test_unseen AUROC mean 0.5102\n",
            "Edema 0.4351\n",
            "Pneumonia 0.4649\n",
            "Emphysema 0.5481\n",
            "Fibrosis 0.5924\n",
            "best epoch 15 best auroc 0.6775512298633364 loss 3.002237 auroc at min loss 0.6736\n",
            " epoch [0016 / 0100] eta: 0 Days 4:18:3        [0099/1923] lr: \t1.0000E-04 loss: \t3.19310\n",
            " epoch [0016 / 0100] eta: 0 Days 4:18:2        [0199/1923] lr: \t1.0000E-04 loss: \t3.10897\n",
            " epoch [0016 / 0100] eta: 0 Days 4:25:37       [0299/1923] lr: \t1.0000E-04 loss: \t3.12841\n",
            " epoch [0016 / 0100] eta: 0 Days 4:12:59       [0399/1923] lr: \t1.0000E-04 loss: \t3.09786\n",
            " epoch [0016 / 0100] eta: 0 Days 4:19:15       [0499/1923] lr: \t1.0000E-04 loss: \t3.07423\n",
            " epoch [0016 / 0100] eta: 0 Days 4:26:8        [0599/1923] lr: \t1.0000E-04 loss: \t3.08655\n",
            " epoch [0016 / 0100] eta: 0 Days 4:17:49       [0699/1923] lr: \t1.0000E-04 loss: \t3.08815\n",
            " epoch [0016 / 0100] eta: 0 Days 4:11:55       [0799/1923] lr: \t1.0000E-04 loss: \t3.08180\n",
            " epoch [0016 / 0100] eta: 0 Days 4:15:53       [0899/1923] lr: \t1.0000E-04 loss: \t3.08559\n",
            " epoch [0016 / 0100] eta: 0 Days 4:16:24       [0999/1923] lr: \t1.0000E-04 loss: \t3.08950\n",
            " epoch [0016 / 0100] eta: 0 Days 4:19:46       [1099/1923] lr: \t1.0000E-04 loss: \t3.07804\n",
            " epoch [0016 / 0100] eta: 0 Days 4:21:39       [1199/1923] lr: \t1.0000E-04 loss: \t3.06767\n",
            " epoch [0016 / 0100] eta: 0 Days 4:18:38       [1299/1923] lr: \t1.0000E-04 loss: \t3.06712\n",
            " epoch [0016 / 0100] eta: 0 Days 4:11:45       [1399/1923] lr: \t1.0000E-04 loss: \t3.06560\n",
            " epoch [0016 / 0100] eta: 0 Days 4:11:20       [1499/1923] lr: \t1.0000E-04 loss: \t3.05929\n",
            " epoch [0016 / 0100] eta: 0 Days 4:12:40       [1599/1923] lr: \t1.0000E-04 loss: \t3.06010\n",
            " epoch [0016 / 0100] eta: 0 Days 4:10:42       [1699/1923] lr: \t1.0000E-04 loss: \t3.06070\n",
            " epoch [0016 / 0100] eta: 0 Days 4:9:21        [1799/1923] lr: \t1.0000E-04 loss: \t3.05863\n",
            " epoch [0016 / 0100] eta: 0 Days 4:14:23       [1899/1923] lr: \t1.0000E-04 loss: \t3.05695\n"
          ]
        },
        {
          "metadata": {
            "tags": null
          },
          "name": "stderr",
          "output_type": "stream",
          "text": [
            "100%|██████████| 28/28 [00:43<00:00,  1.56s/it]\n"
          ]
        },
        {
          "metadata": {
            "tags": null
          },
          "name": "stdout",
          "output_type": "stream",
          "text": [
            "saving last_epoch checkpoint\n",
            "saving min_loss checkpoint\n",
            "val AUROC mean 0.6745\n",
            "Atelectasis 0.6967\n",
            "Cardiomegaly 0.8089\n",
            "Effusion 0.7362\n",
            "Infiltration 0.6072\n",
            "Mass 0.6275\n",
            "Nodule 0.6299\n",
            "Pneumothorax 0.7009\n",
            "Consolidation 0.6893\n",
            "Pleural_Thickening 0.6018\n",
            "Hernia 0.6469\n"
          ]
        },
        {
          "metadata": {
            "tags": null
          },
          "name": "stderr",
          "output_type": "stream",
          "text": [
            "100%|██████████| 219/219 [01:04<00:00,  3.42it/s]\n"
          ]
        },
        {
          "metadata": {
            "tags": null
          },
          "name": "stdout",
          "output_type": "stream",
          "text": [
            "\n",
            "test_seen AUROC mean 0.6726\n",
            "Atelectasis 0.6724\n",
            "Effusion 0.7483\n",
            "Infiltration 0.5997\n",
            "Mass 0.6043\n",
            "Nodule 0.6622\n",
            "Pneumothorax 0.6815\n",
            "Consolidation 0.6712\n",
            "Cardiomegaly 0.7635\n",
            "Pleural_Thickening 0.6164\n",
            "Hernia 0.7066\n",
            "\n",
            "test_unseen AUROC mean 0.5183\n",
            "Edema 0.4577\n",
            "Pneumonia 0.4788\n",
            "Emphysema 0.5823\n",
            "Fibrosis 0.5545\n",
            "best epoch 15 best auroc 0.6775512298633364 loss 2.978978 auroc at min loss 0.6745\n",
            " epoch [0017 / 0100] eta: 0 Days 4:7:15        [0099/1923] lr: \t1.0000E-04 loss: \t3.02025\n",
            " epoch [0017 / 0100] eta: 0 Days 4:19:57       [0199/1923] lr: \t1.0000E-04 loss: \t2.99966\n",
            " epoch [0017 / 0100] eta: 0 Days 4:7:12        [0299/1923] lr: \t1.0000E-04 loss: \t3.02814\n",
            " epoch [0017 / 0100] eta: 0 Days 4:23:4        [0399/1923] lr: \t1.0000E-04 loss: \t3.03028\n",
            " epoch [0017 / 0100] eta: 0 Days 4:38:19       [0499/1923] lr: \t1.0000E-04 loss: \t3.04776\n",
            " epoch [0017 / 0100] eta: 0 Days 4:14:2        [0599/1923] lr: \t1.0000E-04 loss: \t3.04792\n",
            " epoch [0017 / 0100] eta: 0 Days 4:8:32        [0699/1923] lr: \t1.0000E-04 loss: \t3.04351\n",
            " epoch [0017 / 0100] eta: 0 Days 4:19:14       [0799/1923] lr: \t1.0000E-04 loss: \t3.04657\n",
            " epoch [0017 / 0100] eta: 0 Days 4:21:33       [0899/1923] lr: \t1.0000E-04 loss: \t3.04303\n",
            " epoch [0017 / 0100] eta: 0 Days 4:12:18       [0999/1923] lr: \t1.0000E-04 loss: \t3.04572\n",
            " epoch [0017 / 0100] eta: 0 Days 4:11:21       [1099/1923] lr: \t1.0000E-04 loss: \t3.05494\n",
            " epoch [0017 / 0100] eta: 0 Days 4:20:48       [1199/1923] lr: \t1.0000E-04 loss: \t3.05030\n",
            " epoch [0017 / 0100] eta: 0 Days 4:12:3        [1299/1923] lr: \t1.0000E-04 loss: \t3.05114\n",
            " epoch [0017 / 0100] eta: 0 Days 4:9:37        [1399/1923] lr: \t1.0000E-04 loss: \t3.04897\n",
            " epoch [0017 / 0100] eta: 0 Days 4:15:48       [1499/1923] lr: \t1.0000E-04 loss: \t3.05569\n",
            " epoch [0017 / 0100] eta: 0 Days 4:3:44        [1599/1923] lr: \t1.0000E-04 loss: \t3.04421\n",
            " epoch [0017 / 0100] eta: 0 Days 4:6:30        [1699/1923] lr: \t1.0000E-04 loss: \t3.03647\n",
            " epoch [0017 / 0100] eta: 0 Days 4:8:22        [1799/1923] lr: \t1.0000E-04 loss: \t3.02674\n",
            " epoch [0017 / 0100] eta: 0 Days 4:17:1        [1899/1923] lr: \t1.0000E-04 loss: \t3.02860\n"
          ]
        },
        {
          "metadata": {
            "tags": null
          },
          "name": "stderr",
          "output_type": "stream",
          "text": [
            "100%|██████████| 28/28 [00:44<00:00,  1.57s/it]\n"
          ]
        },
        {
          "metadata": {
            "tags": null
          },
          "name": "stdout",
          "output_type": "stream",
          "text": [
            "saving last_epoch checkpoint\n",
            "saving best_auroc checkpoint\n",
            "saving min_loss checkpoint\n",
            "val AUROC mean 0.6887\n",
            "Atelectasis 0.6522\n",
            "Cardiomegaly 0.8441\n",
            "Effusion 0.7231\n",
            "Infiltration 0.6040\n",
            "Mass 0.6494\n",
            "Nodule 0.6302\n",
            "Pneumothorax 0.7343\n",
            "Consolidation 0.6907\n",
            "Pleural_Thickening 0.5979\n",
            "Hernia 0.7609\n"
          ]
        },
        {
          "metadata": {
            "tags": null
          },
          "name": "stderr",
          "output_type": "stream",
          "text": [
            "100%|██████████| 219/219 [01:03<00:00,  3.43it/s]\n"
          ]
        },
        {
          "metadata": {
            "tags": null
          },
          "name": "stdout",
          "output_type": "stream",
          "text": [
            "\n",
            "test_seen AUROC mean 0.6749\n",
            "Atelectasis 0.6126\n",
            "Effusion 0.7278\n",
            "Infiltration 0.5955\n",
            "Mass 0.6183\n",
            "Nodule 0.6602\n",
            "Pneumothorax 0.7250\n",
            "Consolidation 0.6713\n",
            "Cardiomegaly 0.8025\n",
            "Pleural_Thickening 0.6111\n",
            "Hernia 0.7247\n",
            "\n",
            "test_unseen AUROC mean 0.5276\n",
            "Edema 0.4376\n",
            "Pneumonia 0.4770\n",
            "Emphysema 0.5767\n",
            "Fibrosis 0.6192\n",
            "best epoch 17 best auroc 0.6886920315349868 loss 2.960142 auroc at min loss 0.6887\n",
            " epoch [0018 / 0100] eta: 0 Days 4:18:26       [0099/1923] lr: \t1.0000E-04 loss: \t3.04724\n",
            " epoch [0018 / 0100] eta: 0 Days 5:23:28       [0199/1923] lr: \t1.0000E-04 loss: \t3.09021\n",
            " epoch [0018 / 0100] eta: 0 Days 4:14:51       [0299/1923] lr: \t1.0000E-04 loss: \t3.02016\n",
            " epoch [0018 / 0100] eta: 0 Days 4:4:54        [0399/1923] lr: \t1.0000E-04 loss: \t3.00690\n",
            " epoch [0018 / 0100] eta: 0 Days 4:5:5         [0499/1923] lr: \t1.0000E-04 loss: \t3.00107\n",
            " epoch [0018 / 0100] eta: 0 Days 5:0:0         [0599/1923] lr: \t1.0000E-04 loss: \t3.02720\n",
            " epoch [0018 / 0100] eta: 0 Days 4:9:45        [0699/1923] lr: \t1.0000E-04 loss: \t3.01587\n",
            " epoch [0018 / 0100] eta: 0 Days 4:7:13        [0799/1923] lr: \t1.0000E-04 loss: \t3.01004\n",
            " epoch [0018 / 0100] eta: 0 Days 4:13:12       [0899/1923] lr: \t1.0000E-04 loss: \t2.99698\n",
            " epoch [0018 / 0100] eta: 0 Days 4:9:25        [0999/1923] lr: \t1.0000E-04 loss: \t2.99300\n",
            " epoch [0018 / 0100] eta: 0 Days 4:20:38       [1099/1923] lr: \t1.0000E-04 loss: \t2.99114\n",
            " epoch [0018 / 0100] eta: 0 Days 4:9:5         [1199/1923] lr: \t1.0000E-04 loss: \t2.99526\n",
            " epoch [0018 / 0100] eta: 0 Days 4:4:52        [1299/1923] lr: \t1.0000E-04 loss: \t2.99325\n",
            " epoch [0018 / 0100] eta: 0 Days 4:10:35       [1399/1923] lr: \t1.0000E-04 loss: \t2.99095\n",
            " epoch [0018 / 0100] eta: 0 Days 4:9:4         [1499/1923] lr: \t1.0000E-04 loss: \t2.99353\n",
            " epoch [0018 / 0100] eta: 0 Days 4:11:17       [1599/1923] lr: \t1.0000E-04 loss: \t2.99597\n",
            " epoch [0018 / 0100] eta: 0 Days 4:6:23        [1699/1923] lr: \t1.0000E-04 loss: \t3.00244\n",
            " epoch [0018 / 0100] eta: 0 Days 4:13:43       [1799/1923] lr: \t1.0000E-04 loss: \t3.00349\n",
            " epoch [0018 / 0100] eta: 0 Days 4:12:31       [1899/1923] lr: \t1.0000E-04 loss: \t3.00709\n"
          ]
        },
        {
          "metadata": {
            "tags": null
          },
          "name": "stderr",
          "output_type": "stream",
          "text": [
            "100%|██████████| 28/28 [00:44<00:00,  1.58s/it]\n"
          ]
        },
        {
          "metadata": {
            "tags": null
          },
          "name": "stdout",
          "output_type": "stream",
          "text": [
            "saving last_epoch checkpoint\n",
            "saving best_auroc checkpoint\n",
            "saving min_loss checkpoint\n",
            "val AUROC mean 0.6910\n",
            "Atelectasis 0.7128\n",
            "Cardiomegaly 0.8647\n",
            "Effusion 0.7609\n",
            "Infiltration 0.6229\n",
            "Mass 0.6603\n",
            "Nodule 0.6359\n",
            "Pneumothorax 0.7420\n",
            "Consolidation 0.6816\n",
            "Pleural_Thickening 0.5786\n",
            "Hernia 0.6503\n"
          ]
        },
        {
          "metadata": {
            "tags": null
          },
          "name": "stderr",
          "output_type": "stream",
          "text": [
            "100%|██████████| 219/219 [01:04<00:00,  3.40it/s]\n"
          ]
        },
        {
          "metadata": {
            "tags": null
          },
          "name": "stdout",
          "output_type": "stream",
          "text": [
            "\n",
            "test_seen AUROC mean 0.6795\n",
            "Atelectasis 0.6907\n",
            "Effusion 0.7634\n",
            "Infiltration 0.6032\n",
            "Mass 0.6166\n",
            "Nodule 0.6600\n",
            "Pneumothorax 0.7536\n",
            "Consolidation 0.6768\n",
            "Cardiomegaly 0.8095\n",
            "Pleural_Thickening 0.6051\n",
            "Hernia 0.6157\n",
            "\n",
            "test_unseen AUROC mean 0.5416\n",
            "Edema 0.4561\n",
            "Pneumonia 0.4873\n",
            "Emphysema 0.5824\n",
            "Fibrosis 0.6407\n",
            "best epoch 18 best auroc 0.6909972093865602 loss 2.868301 auroc at min loss 0.6910\n",
            " epoch [0019 / 0100] eta: 0 Days 4:58:29       [0099/1923] lr: \t1.0000E-04 loss: \t3.12643\n",
            " epoch [0019 / 0100] eta: 0 Days 4:5:54        [0199/1923] lr: \t1.0000E-04 loss: \t3.08190\n",
            " epoch [0019 / 0100] eta: 0 Days 4:8:30        [0299/1923] lr: \t1.0000E-04 loss: \t3.02289\n",
            " epoch [0019 / 0100] eta: 0 Days 4:10:8        [0399/1923] lr: \t1.0000E-04 loss: \t3.02023\n",
            " epoch [0019 / 0100] eta: 0 Days 4:6:47        [0499/1923] lr: \t1.0000E-04 loss: \t3.01478\n",
            " epoch [0019 / 0100] eta: 0 Days 4:15:23       [0599/1923] lr: \t1.0000E-04 loss: \t3.02669\n",
            " epoch [0019 / 0100] eta: 0 Days 4:3:2         [0699/1923] lr: \t1.0000E-04 loss: \t3.00985\n",
            " epoch [0019 / 0100] eta: 0 Days 4:4:37        [0799/1923] lr: \t1.0000E-04 loss: \t3.00187\n",
            " epoch [0019 / 0100] eta: 0 Days 4:7:3         [0899/1923] lr: \t1.0000E-04 loss: \t3.00224\n",
            " epoch [0019 / 0100] eta: 0 Days 4:29:33       [0999/1923] lr: \t1.0000E-04 loss: \t3.00733\n",
            " epoch [0019 / 0100] eta: 0 Days 4:8:31        [1099/1923] lr: \t1.0000E-04 loss: \t3.00617\n",
            " epoch [0019 / 0100] eta: 0 Days 4:14:53       [1199/1923] lr: \t1.0000E-04 loss: \t3.00265\n",
            " epoch [0019 / 0100] eta: 0 Days 4:1:42        [1299/1923] lr: \t1.0000E-04 loss: \t3.00179\n",
            " epoch [0019 / 0100] eta: 0 Days 4:37:6        [1399/1923] lr: \t1.0000E-04 loss: \t2.99252\n",
            " epoch [0019 / 0100] eta: 0 Days 4:7:29        [1499/1923] lr: \t1.0000E-04 loss: \t2.99602\n",
            " epoch [0019 / 0100] eta: 0 Days 4:30:18       [1599/1923] lr: \t1.0000E-04 loss: \t2.98760\n",
            " epoch [0019 / 0100] eta: 0 Days 4:8:50        [1699/1923] lr: \t1.0000E-04 loss: \t2.98598\n",
            " epoch [0019 / 0100] eta: 0 Days 4:13:31       [1799/1923] lr: \t1.0000E-04 loss: \t2.98671\n",
            " epoch [0019 / 0100] eta: 0 Days 4:9:27        [1899/1923] lr: \t1.0000E-04 loss: \t2.98063\n"
          ]
        },
        {
          "metadata": {
            "tags": null
          },
          "name": "stderr",
          "output_type": "stream",
          "text": [
            "100%|██████████| 28/28 [00:44<00:00,  1.58s/it]\n"
          ]
        },
        {
          "metadata": {
            "tags": null
          },
          "name": "stdout",
          "output_type": "stream",
          "text": [
            "saving last_epoch checkpoint\n",
            "val AUROC mean 0.6871\n",
            "Atelectasis 0.7158\n",
            "Cardiomegaly 0.8150\n",
            "Effusion 0.7570\n",
            "Infiltration 0.6153\n",
            "Mass 0.6680\n",
            "Nodule 0.6399\n",
            "Pneumothorax 0.7556\n",
            "Consolidation 0.6722\n",
            "Pleural_Thickening 0.6276\n",
            "Hernia 0.6046\n",
            "best epoch 18 best auroc 0.6909972093865602 loss 2.924292 auroc at min loss 0.6910\n",
            " epoch [0020 / 0100] eta: 0 Days 4:44:59       [0099/1923] lr: \t1.0000E-04 loss: \t2.93947\n",
            " epoch [0020 / 0100] eta: 0 Days 4:1:35        [0199/1923] lr: \t1.0000E-04 loss: \t2.91330\n",
            " epoch [0020 / 0100] eta: 0 Days 4:0:44        [0299/1923] lr: \t1.0000E-04 loss: \t2.92998\n",
            " epoch [0020 / 0100] eta: 0 Days 4:2:32        [0399/1923] lr: \t1.0000E-04 loss: \t2.94455\n",
            " epoch [0020 / 0100] eta: 0 Days 4:2:19        [0499/1923] lr: \t1.0000E-04 loss: \t2.95543\n",
            " epoch [0020 / 0100] eta: 0 Days 4:2:27        [0599/1923] lr: \t1.0000E-04 loss: \t2.95018\n",
            " epoch [0020 / 0100] eta: 0 Days 4:3:3         [0699/1923] lr: \t1.0000E-04 loss: \t2.96271\n",
            " epoch [0020 / 0100] eta: 0 Days 4:13:18       [0799/1923] lr: \t1.0000E-04 loss: \t2.98052\n",
            " epoch [0020 / 0100] eta: 0 Days 4:5:51        [0899/1923] lr: \t1.0000E-04 loss: \t2.98577\n",
            " epoch [0020 / 0100] eta: 0 Days 4:48:36       [0999/1923] lr: \t1.0000E-04 loss: \t2.98703\n",
            " epoch [0020 / 0100] eta: 0 Days 4:28:47       [1099/1923] lr: \t1.0000E-04 loss: \t2.98348\n",
            " epoch [0020 / 0100] eta: 0 Days 4:2:7         [1199/1923] lr: \t1.0000E-04 loss: \t2.98449\n",
            " epoch [0020 / 0100] eta: 0 Days 4:14:13       [1299/1923] lr: \t1.0000E-04 loss: \t2.97926\n",
            " epoch [0020 / 0100] eta: 0 Days 4:4:41        [1399/1923] lr: \t1.0000E-04 loss: \t2.96237\n",
            " epoch [0020 / 0100] eta: 0 Days 3:58:59       [1499/1923] lr: \t1.0000E-04 loss: \t2.96272\n",
            " epoch [0020 / 0100] eta: 0 Days 4:56:35       [1599/1923] lr: \t1.0000E-04 loss: \t2.96173\n",
            " epoch [0020 / 0100] eta: 0 Days 4:4:33        [1699/1923] lr: \t1.0000E-04 loss: \t2.95952\n",
            " epoch [0020 / 0100] eta: 0 Days 3:59:24       [1799/1923] lr: \t1.0000E-04 loss: \t2.95499\n",
            " epoch [0020 / 0100] eta: 0 Days 4:0:27        [1899/1923] lr: \t1.0000E-04 loss: \t2.95592\n"
          ]
        },
        {
          "metadata": {
            "tags": null
          },
          "name": "stderr",
          "output_type": "stream",
          "text": [
            "100%|██████████| 28/28 [00:44<00:00,  1.59s/it]\n"
          ]
        },
        {
          "metadata": {
            "tags": null
          },
          "name": "stdout",
          "output_type": "stream",
          "text": [
            "saving last_epoch checkpoint\n",
            "val AUROC mean 0.6863\n",
            "Atelectasis 0.7155\n",
            "Cardiomegaly 0.8558\n",
            "Effusion 0.7615\n",
            "Infiltration 0.6241\n",
            "Mass 0.6532\n",
            "Nodule 0.6351\n",
            "Pneumothorax 0.7160\n",
            "Consolidation 0.6464\n",
            "Pleural_Thickening 0.6066\n",
            "Hernia 0.6487\n",
            "best epoch 18 best auroc 0.6909972093865602 loss 2.870913 auroc at min loss 0.6910\n",
            " epoch [0021 / 0100] eta: 0 Days 4:0:20        [0099/1923] lr: \t1.0000E-04 loss: \t2.93481\n",
            " epoch [0021 / 0100] eta: 0 Days 4:43:52       [0199/1923] lr: \t1.0000E-04 loss: \t2.94688\n",
            " epoch [0021 / 0100] eta: 0 Days 4:0:40        [0299/1923] lr: \t1.0000E-04 loss: \t2.92725\n",
            " epoch [0021 / 0100] eta: 0 Days 4:0:49        [0399/1923] lr: \t1.0000E-04 loss: \t2.93036\n",
            " epoch [0021 / 0100] eta: 0 Days 4:7:45        [0499/1923] lr: \t1.0000E-04 loss: \t2.94206\n",
            " epoch [0021 / 0100] eta: 0 Days 4:2:19        [0599/1923] lr: \t1.0000E-04 loss: \t2.94584\n",
            " epoch [0021 / 0100] eta: 0 Days 4:37:58       [0699/1923] lr: \t1.0000E-04 loss: \t2.92207\n",
            " epoch [0021 / 0100] eta: 0 Days 3:55:36       [0799/1923] lr: \t1.0000E-04 loss: \t2.92772\n",
            " epoch [0021 / 0100] eta: 0 Days 3:56:10       [0899/1923] lr: \t1.0000E-04 loss: \t2.94517\n",
            " epoch [0021 / 0100] eta: 0 Days 4:27:57       [0999/1923] lr: \t1.0000E-04 loss: \t2.95201\n",
            " epoch [0021 / 0100] eta: 0 Days 3:54:25       [1099/1923] lr: \t1.0000E-04 loss: \t2.94556\n",
            " epoch [0021 / 0100] eta: 0 Days 3:56:2        [1199/1923] lr: \t1.0000E-04 loss: \t2.93900\n",
            " epoch [0021 / 0100] eta: 0 Days 4:5:33        [1299/1923] lr: \t1.0000E-04 loss: \t2.93317\n",
            " epoch [0021 / 0100] eta: 0 Days 3:58:39       [1399/1923] lr: \t1.0000E-04 loss: \t2.94052\n",
            " epoch [0021 / 0100] eta: 0 Days 3:59:59       [1499/1923] lr: \t1.0000E-04 loss: \t2.94322\n",
            " epoch [0021 / 0100] eta: 0 Days 3:56:16       [1599/1923] lr: \t1.0000E-04 loss: \t2.94304\n",
            " epoch [0021 / 0100] eta: 0 Days 4:7:41        [1699/1923] lr: \t1.0000E-04 loss: \t2.94061\n",
            " epoch [0021 / 0100] eta: 0 Days 3:53:30       [1799/1923] lr: \t1.0000E-04 loss: \t2.94360\n",
            " epoch [0021 / 0100] eta: 0 Days 3:58:30       [1899/1923] lr: \t1.0000E-04 loss: \t2.93627\n"
          ]
        },
        {
          "metadata": {
            "tags": null
          },
          "name": "stderr",
          "output_type": "stream",
          "text": [
            "100%|██████████| 28/28 [00:44<00:00,  1.58s/it]\n"
          ]
        },
        {
          "metadata": {
            "tags": null
          },
          "name": "stdout",
          "output_type": "stream",
          "text": [
            "saving last_epoch checkpoint\n",
            "saving best_auroc checkpoint\n",
            "saving min_loss checkpoint\n",
            "val AUROC mean 0.6968\n",
            "Atelectasis 0.6848\n",
            "Cardiomegaly 0.8581\n",
            "Effusion 0.7749\n",
            "Infiltration 0.6207\n",
            "Mass 0.6671\n",
            "Nodule 0.6422\n",
            "Pneumothorax 0.7441\n",
            "Consolidation 0.6623\n",
            "Pleural_Thickening 0.6143\n",
            "Hernia 0.6996\n"
          ]
        },
        {
          "metadata": {
            "tags": null
          },
          "name": "stderr",
          "output_type": "stream",
          "text": [
            "100%|██████████| 219/219 [01:04<00:00,  3.42it/s]\n"
          ]
        },
        {
          "metadata": {
            "tags": null
          },
          "name": "stdout",
          "output_type": "stream",
          "text": [
            "\n",
            "test_seen AUROC mean 0.6923\n",
            "Atelectasis 0.6621\n",
            "Effusion 0.7664\n",
            "Infiltration 0.6032\n",
            "Mass 0.6309\n",
            "Nodule 0.6686\n",
            "Pneumothorax 0.7340\n",
            "Consolidation 0.6587\n",
            "Cardiomegaly 0.8363\n",
            "Pleural_Thickening 0.6201\n",
            "Hernia 0.7429\n",
            "\n",
            "test_unseen AUROC mean 0.5520\n",
            "Edema 0.4538\n",
            "Pneumonia 0.5070\n",
            "Emphysema 0.6198\n",
            "Fibrosis 0.6275\n",
            "best epoch 21 best auroc 0.6968054841238353 loss 2.867122 auroc at min loss 0.6968\n",
            " epoch [0022 / 0100] eta: 0 Days 4:10:53       [0099/1923] lr: \t1.0000E-04 loss: \t2.98567\n",
            " epoch [0022 / 0100] eta: 0 Days 3:52:41       [0199/1923] lr: \t1.0000E-04 loss: \t2.91433\n",
            " epoch [0022 / 0100] eta: 0 Days 3:57:21       [0299/1923] lr: \t1.0000E-04 loss: \t2.88879\n",
            " epoch [0022 / 0100] eta: 0 Days 3:55:24       [0399/1923] lr: \t1.0000E-04 loss: \t2.89125\n",
            " epoch [0022 / 0100] eta: 0 Days 3:56:6        [0499/1923] lr: \t1.0000E-04 loss: \t2.89003\n",
            " epoch [0022 / 0100] eta: 0 Days 5:15:13       [0599/1923] lr: \t1.0000E-04 loss: \t2.88780\n",
            " epoch [0022 / 0100] eta: 0 Days 3:54:10       [0699/1923] lr: \t1.0000E-04 loss: \t2.89005\n",
            " epoch [0022 / 0100] eta: 0 Days 3:55:16       [0799/1923] lr: \t1.0000E-04 loss: \t2.89276\n",
            " epoch [0022 / 0100] eta: 0 Days 4:52:6        [0899/1923] lr: \t1.0000E-04 loss: \t2.89776\n",
            " epoch [0022 / 0100] eta: 0 Days 3:57:19       [0999/1923] lr: \t1.0000E-04 loss: \t2.90689\n",
            " epoch [0022 / 0100] eta: 0 Days 3:56:56       [1099/1923] lr: \t1.0000E-04 loss: \t2.90769\n",
            " epoch [0022 / 0100] eta: 0 Days 3:55:37       [1199/1923] lr: \t1.0000E-04 loss: \t2.91197\n",
            " epoch [0022 / 0100] eta: 0 Days 3:56:29       [1299/1923] lr: \t1.0000E-04 loss: \t2.91316\n",
            " epoch [0022 / 0100] eta: 0 Days 4:5:20        [1399/1923] lr: \t1.0000E-04 loss: \t2.90873\n",
            " epoch [0022 / 0100] eta: 0 Days 4:58:46       [1499/1923] lr: \t1.0000E-04 loss: \t2.91558\n",
            " epoch [0022 / 0100] eta: 0 Days 3:59:9        [1599/1923] lr: \t1.0000E-04 loss: \t2.91977\n",
            " epoch [0022 / 0100] eta: 0 Days 3:54:8        [1699/1923] lr: \t1.0000E-04 loss: \t2.92022\n",
            " epoch [0022 / 0100] eta: 0 Days 3:51:47       [1799/1923] lr: \t1.0000E-04 loss: \t2.91605\n",
            " epoch [0022 / 0100] eta: 0 Days 3:52:8        [1899/1923] lr: \t1.0000E-04 loss: \t2.92014\n"
          ]
        },
        {
          "metadata": {
            "tags": null
          },
          "name": "stderr",
          "output_type": "stream",
          "text": [
            "100%|██████████| 28/28 [00:44<00:00,  1.60s/it]\n"
          ]
        },
        {
          "metadata": {
            "tags": null
          },
          "name": "stdout",
          "output_type": "stream",
          "text": [
            "saving last_epoch checkpoint\n",
            "saving best_auroc checkpoint\n",
            "saving min_loss checkpoint\n",
            "val AUROC mean 0.7056\n",
            "Atelectasis 0.7190\n",
            "Cardiomegaly 0.8540\n",
            "Effusion 0.7800\n",
            "Infiltration 0.6314\n",
            "Mass 0.7048\n",
            "Nodule 0.6524\n",
            "Pneumothorax 0.7686\n",
            "Consolidation 0.6803\n",
            "Pleural_Thickening 0.6032\n",
            "Hernia 0.6624\n"
          ]
        },
        {
          "metadata": {
            "tags": null
          },
          "name": "stderr",
          "output_type": "stream",
          "text": [
            "100%|██████████| 219/219 [01:04<00:00,  3.42it/s]\n"
          ]
        },
        {
          "metadata": {
            "tags": null
          },
          "name": "stdout",
          "output_type": "stream",
          "text": [
            "\n",
            "test_seen AUROC mean 0.6973\n",
            "Atelectasis 0.7004\n",
            "Effusion 0.7789\n",
            "Infiltration 0.6271\n",
            "Mass 0.6527\n",
            "Nodule 0.6705\n",
            "Pneumothorax 0.7657\n",
            "Consolidation 0.6648\n",
            "Cardiomegaly 0.8334\n",
            "Pleural_Thickening 0.6244\n",
            "Hernia 0.6547\n",
            "\n",
            "test_unseen AUROC mean 0.5361\n",
            "Edema 0.5095\n",
            "Pneumonia 0.4821\n",
            "Emphysema 0.5918\n",
            "Fibrosis 0.5610\n",
            "best epoch 22 best auroc 0.7056159440962093 loss 2.761423 auroc at min loss 0.7056\n",
            " epoch [0023 / 0100] eta: 0 Days 3:57:8        [0099/1923] lr: \t1.0000E-04 loss: \t2.81375\n",
            " epoch [0023 / 0100] eta: 0 Days 4:34:56       [0199/1923] lr: \t1.0000E-04 loss: \t2.85969\n",
            " epoch [0023 / 0100] eta: 0 Days 3:54:39       [0299/1923] lr: \t1.0000E-04 loss: \t2.88305\n",
            " epoch [0023 / 0100] eta: 0 Days 3:54:23       [0399/1923] lr: \t1.0000E-04 loss: \t2.85992\n",
            " epoch [0023 / 0100] eta: 0 Days 4:31:3        [0499/1923] lr: \t1.0000E-04 loss: \t2.88173\n",
            " epoch [0023 / 0100] eta: 0 Days 3:58:39       [0599/1923] lr: \t1.0000E-04 loss: \t2.90952\n",
            " epoch [0023 / 0100] eta: 0 Days 3:56:15       [0699/1923] lr: \t1.0000E-04 loss: \t2.90414\n",
            " epoch [0023 / 0100] eta: 0 Days 4:3:5         [0799/1923] lr: \t1.0000E-04 loss: \t2.90841\n",
            " epoch [0023 / 0100] eta: 0 Days 3:54:21       [0899/1923] lr: \t1.0000E-04 loss: \t2.90948\n",
            " epoch [0023 / 0100] eta: 0 Days 3:50:39       [0999/1923] lr: \t1.0000E-04 loss: \t2.91085\n",
            " epoch [0023 / 0100] eta: 0 Days 3:51:4        [1099/1923] lr: \t1.0000E-04 loss: \t2.90487\n",
            " epoch [0023 / 0100] eta: 0 Days 3:46:49       [1199/1923] lr: \t1.0000E-04 loss: \t2.90900\n",
            " epoch [0023 / 0100] eta: 0 Days 4:21:0        [1299/1923] lr: \t1.0000E-04 loss: \t2.90017\n",
            " epoch [0023 / 0100] eta: 0 Days 3:55:27       [1399/1923] lr: \t1.0000E-04 loss: \t2.90279\n",
            " epoch [0023 / 0100] eta: 0 Days 4:28:46       [1499/1923] lr: \t1.0000E-04 loss: \t2.90134\n",
            " epoch [0023 / 0100] eta: 0 Days 3:54:8        [1599/1923] lr: \t1.0000E-04 loss: \t2.90934\n",
            " epoch [0023 / 0100] eta: 0 Days 3:52:20       [1699/1923] lr: \t1.0000E-04 loss: \t2.91140\n",
            " epoch [0023 / 0100] eta: 0 Days 3:51:21       [1799/1923] lr: \t1.0000E-04 loss: \t2.91295\n",
            " epoch [0023 / 0100] eta: 0 Days 4:59:41       [1899/1923] lr: \t1.0000E-04 loss: \t2.91266\n"
          ]
        },
        {
          "metadata": {
            "tags": null
          },
          "name": "stderr",
          "output_type": "stream",
          "text": [
            "100%|██████████| 28/28 [00:45<00:00,  1.62s/it]\n"
          ]
        },
        {
          "metadata": {
            "tags": null
          },
          "name": "stdout",
          "output_type": "stream",
          "text": [
            "saving last_epoch checkpoint\n",
            "val AUROC mean 0.6896\n",
            "Atelectasis 0.7164\n",
            "Cardiomegaly 0.8523\n",
            "Effusion 0.7718\n",
            "Infiltration 0.6227\n",
            "Mass 0.6647\n",
            "Nodule 0.6410\n",
            "Pneumothorax 0.7461\n",
            "Consolidation 0.6725\n",
            "Pleural_Thickening 0.6024\n",
            "Hernia 0.6058\n",
            "best epoch 22 best auroc 0.7056159440962093 loss 2.828239 auroc at min loss 0.7056\n",
            " epoch [0024 / 0100] eta: 0 Days 3:55:27       [0099/1923] lr: \t1.0000E-04 loss: \t2.86384\n",
            " epoch [0024 / 0100] eta: 0 Days 3:43:8        [0199/1923] lr: \t1.0000E-04 loss: \t2.79790\n",
            " epoch [0024 / 0100] eta: 0 Days 3:46:58       [0299/1923] lr: \t1.0000E-04 loss: \t2.87113\n",
            " epoch [0024 / 0100] eta: 0 Days 3:51:53       [0399/1923] lr: \t1.0000E-04 loss: \t2.86413\n",
            " epoch [0024 / 0100] eta: 0 Days 4:27:32       [0499/1923] lr: \t1.0000E-04 loss: \t2.86110\n",
            " epoch [0024 / 0100] eta: 0 Days 3:56:57       [0599/1923] lr: \t1.0000E-04 loss: \t2.84831\n",
            " epoch [0024 / 0100] eta: 0 Days 3:56:18       [0699/1923] lr: \t1.0000E-04 loss: \t2.85941\n",
            " epoch [0024 / 0100] eta: 0 Days 3:53:8        [0799/1923] lr: \t1.0000E-04 loss: \t2.87229\n",
            " epoch [0024 / 0100] eta: 0 Days 3:52:30       [0899/1923] lr: \t1.0000E-04 loss: \t2.87879\n",
            " epoch [0024 / 0100] eta: 0 Days 3:51:0        [0999/1923] lr: \t1.0000E-04 loss: \t2.88410\n",
            " epoch [0024 / 0100] eta: 0 Days 3:46:11       [1099/1923] lr: \t1.0000E-04 loss: \t2.88079\n",
            " epoch [0024 / 0100] eta: 0 Days 3:47:31       [1199/1923] lr: \t1.0000E-04 loss: \t2.88539\n",
            " epoch [0024 / 0100] eta: 0 Days 3:55:27       [1299/1923] lr: \t1.0000E-04 loss: \t2.88828\n",
            " epoch [0024 / 0100] eta: 0 Days 4:4:4         [1399/1923] lr: \t1.0000E-04 loss: \t2.88509\n",
            " epoch [0024 / 0100] eta: 0 Days 3:48:23       [1499/1923] lr: \t1.0000E-04 loss: \t2.89240\n",
            " epoch [0024 / 0100] eta: 0 Days 3:46:51       [1599/1923] lr: \t1.0000E-04 loss: \t2.89451\n",
            " epoch [0024 / 0100] eta: 0 Days 3:48:3        [1699/1923] lr: \t1.0000E-04 loss: \t2.89392\n",
            " epoch [0024 / 0100] eta: 0 Days 3:48:0        [1799/1923] lr: \t1.0000E-04 loss: \t2.89128\n",
            " epoch [0024 / 0100] eta: 0 Days 3:50:6        [1899/1923] lr: \t1.0000E-04 loss: \t2.89198\n"
          ]
        },
        {
          "metadata": {
            "tags": null
          },
          "name": "stderr",
          "output_type": "stream",
          "text": [
            "100%|██████████| 28/28 [00:44<00:00,  1.58s/it]\n"
          ]
        },
        {
          "metadata": {
            "tags": null
          },
          "name": "stdout",
          "output_type": "stream",
          "text": [
            "saving last_epoch checkpoint\n",
            "saving best_auroc checkpoint\n",
            "val AUROC mean 0.7139\n",
            "Atelectasis 0.7028\n",
            "Cardiomegaly 0.8797\n",
            "Effusion 0.7766\n",
            "Infiltration 0.6367\n",
            "Mass 0.6882\n",
            "Nodule 0.6480\n",
            "Pneumothorax 0.7550\n",
            "Consolidation 0.6955\n",
            "Pleural_Thickening 0.6372\n",
            "Hernia 0.7196\n"
          ]
        },
        {
          "metadata": {
            "tags": null
          },
          "name": "stderr",
          "output_type": "stream",
          "text": [
            "100%|██████████| 219/219 [01:03<00:00,  3.44it/s]\n"
          ]
        },
        {
          "metadata": {
            "tags": null
          },
          "name": "stdout",
          "output_type": "stream",
          "text": [
            "\n",
            "test_seen AUROC mean 0.7021\n",
            "Atelectasis 0.6678\n",
            "Effusion 0.7748\n",
            "Infiltration 0.6156\n",
            "Mass 0.6548\n",
            "Nodule 0.6725\n",
            "Pneumothorax 0.7514\n",
            "Consolidation 0.6821\n",
            "Cardiomegaly 0.8446\n",
            "Pleural_Thickening 0.6380\n",
            "Hernia 0.7193\n",
            "\n",
            "test_unseen AUROC mean 0.5851\n",
            "Edema 0.5544\n",
            "Pneumonia 0.5013\n",
            "Emphysema 0.6371\n",
            "Fibrosis 0.6476\n",
            "best epoch 24 best auroc 0.7139229926129634 loss 2.802932 auroc at min loss 0.7056\n",
            " epoch [0025 / 0100] eta: 0 Days 3:49:19       [0099/1923] lr: \t1.0000E-04 loss: \t3.02571\n",
            " epoch [0025 / 0100] eta: 0 Days 3:49:1        [0199/1923] lr: \t1.0000E-04 loss: \t2.95706\n",
            " epoch [0025 / 0100] eta: 0 Days 3:43:12       [0299/1923] lr: \t1.0000E-04 loss: \t2.92722\n",
            " epoch [0025 / 0100] eta: 0 Days 3:44:26       [0399/1923] lr: \t1.0000E-04 loss: \t2.90943\n",
            " epoch [0025 / 0100] eta: 0 Days 3:44:54       [0499/1923] lr: \t1.0000E-04 loss: \t2.90588\n",
            " epoch [0025 / 0100] eta: 0 Days 3:50:58       [0599/1923] lr: \t1.0000E-04 loss: \t2.88413\n",
            " epoch [0025 / 0100] eta: 0 Days 3:53:45       [0699/1923] lr: \t1.0000E-04 loss: \t2.88199\n",
            " epoch [0025 / 0100] eta: 0 Days 3:58:25       [0799/1923] lr: \t1.0000E-04 loss: \t2.88213\n",
            " epoch [0025 / 0100] eta: 0 Days 3:43:10       [0899/1923] lr: \t1.0000E-04 loss: \t2.89977\n",
            " epoch [0025 / 0100] eta: 0 Days 3:49:33       [0999/1923] lr: \t1.0000E-04 loss: \t2.89513\n",
            " epoch [0025 / 0100] eta: 0 Days 3:46:25       [1099/1923] lr: \t1.0000E-04 loss: \t2.88516\n",
            " epoch [0025 / 0100] eta: 0 Days 3:42:16       [1199/1923] lr: \t1.0000E-04 loss: \t2.87696\n",
            " epoch [0025 / 0100] eta: 0 Days 3:51:56       [1299/1923] lr: \t1.0000E-04 loss: \t2.87141\n",
            " epoch [0025 / 0100] eta: 0 Days 3:47:51       [1399/1923] lr: \t1.0000E-04 loss: \t2.87120\n",
            " epoch [0025 / 0100] eta: 0 Days 3:44:29       [1499/1923] lr: \t1.0000E-04 loss: \t2.86916\n",
            " epoch [0025 / 0100] eta: 0 Days 3:43:49       [1599/1923] lr: \t1.0000E-04 loss: \t2.86422\n",
            " epoch [0025 / 0100] eta: 0 Days 3:48:45       [1699/1923] lr: \t1.0000E-04 loss: \t2.86611\n",
            " epoch [0025 / 0100] eta: 0 Days 3:44:30       [1799/1923] lr: \t1.0000E-04 loss: \t2.86931\n",
            " epoch [0025 / 0100] eta: 0 Days 3:46:42       [1899/1923] lr: \t1.0000E-04 loss: \t2.86401\n"
          ]
        },
        {
          "metadata": {
            "tags": null
          },
          "name": "stderr",
          "output_type": "stream",
          "text": [
            "100%|██████████| 28/28 [00:44<00:00,  1.58s/it]\n"
          ]
        },
        {
          "metadata": {
            "tags": null
          },
          "name": "stdout",
          "output_type": "stream",
          "text": [
            "saving last_epoch checkpoint\n",
            "val AUROC mean 0.7032\n",
            "Atelectasis 0.7020\n",
            "Cardiomegaly 0.8544\n",
            "Effusion 0.7832\n",
            "Infiltration 0.6283\n",
            "Mass 0.6974\n",
            "Nodule 0.6393\n",
            "Pneumothorax 0.7557\n",
            "Consolidation 0.6471\n",
            "Pleural_Thickening 0.6450\n",
            "Hernia 0.6796\n",
            "best epoch 24 best auroc 0.7139229926129634 loss 2.800102 auroc at min loss 0.7056\n",
            " epoch [0026 / 0100] eta: 0 Days 3:43:1        [0099/1923] lr: \t1.0000E-04 loss: \t2.87097\n",
            " epoch [0026 / 0100] eta: 0 Days 3:56:41       [0199/1923] lr: \t1.0000E-04 loss: \t2.89909\n",
            " epoch [0026 / 0100] eta: 0 Days 3:45:5        [0299/1923] lr: \t1.0000E-04 loss: \t2.87774\n",
            " epoch [0026 / 0100] eta: 0 Days 3:39:47       [0399/1923] lr: \t1.0000E-04 loss: \t2.85052\n",
            " epoch [0026 / 0100] eta: 0 Days 3:42:55       [0499/1923] lr: \t1.0000E-04 loss: \t2.83909\n",
            " epoch [0026 / 0100] eta: 0 Days 3:44:53       [0599/1923] lr: \t1.0000E-04 loss: \t2.84314\n",
            " epoch [0026 / 0100] eta: 0 Days 4:59:23       [0699/1923] lr: \t1.0000E-04 loss: \t2.83512\n",
            " epoch [0026 / 0100] eta: 0 Days 3:51:21       [0799/1923] lr: \t1.0000E-04 loss: \t2.84787\n",
            " epoch [0026 / 0100] eta: 0 Days 3:44:26       [0899/1923] lr: \t1.0000E-04 loss: \t2.85330\n",
            " epoch [0026 / 0100] eta: 0 Days 3:39:51       [0999/1923] lr: \t1.0000E-04 loss: \t2.84689\n",
            " epoch [0026 / 0100] eta: 0 Days 4:36:44       [1099/1923] lr: \t1.0000E-04 loss: \t2.85024\n",
            " epoch [0026 / 0100] eta: 0 Days 3:45:10       [1199/1923] lr: \t1.0000E-04 loss: \t2.85415\n",
            " epoch [0026 / 0100] eta: 0 Days 3:45:4        [1299/1923] lr: \t1.0000E-04 loss: \t2.85722\n",
            " epoch [0026 / 0100] eta: 0 Days 3:41:29       [1399/1923] lr: \t1.0000E-04 loss: \t2.85386\n",
            " epoch [0026 / 0100] eta: 0 Days 3:42:51       [1499/1923] lr: \t1.0000E-04 loss: \t2.85347\n",
            " epoch [0026 / 0100] eta: 0 Days 4:24:32       [1599/1923] lr: \t1.0000E-04 loss: \t2.85288\n",
            " epoch [0026 / 0100] eta: 0 Days 3:42:8        [1699/1923] lr: \t1.0000E-04 loss: \t2.85163\n",
            " epoch [0026 / 0100] eta: 0 Days 4:1:43        [1799/1923] lr: \t1.0000E-04 loss: \t2.84986\n",
            " epoch [0026 / 0100] eta: 0 Days 3:45:59       [1899/1923] lr: \t1.0000E-04 loss: \t2.85074\n"
          ]
        },
        {
          "metadata": {
            "tags": null
          },
          "name": "stderr",
          "output_type": "stream",
          "text": [
            "100%|██████████| 28/28 [00:44<00:00,  1.57s/it]\n"
          ]
        },
        {
          "metadata": {
            "tags": null
          },
          "name": "stdout",
          "output_type": "stream",
          "text": [
            "saving last_epoch checkpoint\n",
            "saving best_auroc checkpoint\n",
            "saving min_loss checkpoint\n",
            "val AUROC mean 0.7148\n",
            "Atelectasis 0.7168\n",
            "Cardiomegaly 0.8779\n",
            "Effusion 0.7795\n",
            "Infiltration 0.6357\n",
            "Mass 0.7322\n",
            "Nodule 0.6536\n",
            "Pneumothorax 0.7679\n",
            "Consolidation 0.6773\n",
            "Pleural_Thickening 0.6440\n",
            "Hernia 0.6631\n"
          ]
        },
        {
          "metadata": {
            "tags": null
          },
          "name": "stderr",
          "output_type": "stream",
          "text": [
            "100%|██████████| 219/219 [01:04<00:00,  3.42it/s]\n"
          ]
        },
        {
          "metadata": {
            "tags": null
          },
          "name": "stdout",
          "output_type": "stream",
          "text": [
            "\n",
            "test_seen AUROC mean 0.6977\n",
            "Atelectasis 0.6929\n",
            "Effusion 0.7731\n",
            "Infiltration 0.6176\n",
            "Mass 0.6769\n",
            "Nodule 0.6768\n",
            "Pneumothorax 0.7626\n",
            "Consolidation 0.6618\n",
            "Cardiomegaly 0.8543\n",
            "Pleural_Thickening 0.6277\n",
            "Hernia 0.6330\n",
            "\n",
            "test_unseen AUROC mean 0.5646\n",
            "Edema 0.4897\n",
            "Pneumonia 0.5030\n",
            "Emphysema 0.6551\n",
            "Fibrosis 0.6105\n",
            "best epoch 26 best auroc 0.714798475959266 loss 2.731184 auroc at min loss 0.7148\n",
            " epoch [0027 / 0100] eta: 0 Days 3:44:17       [0099/1923] lr: \t1.0000E-04 loss: \t2.83321\n",
            " epoch [0027 / 0100] eta: 0 Days 3:40:1        [0199/1923] lr: \t1.0000E-04 loss: \t2.80327\n",
            " epoch [0027 / 0100] eta: 0 Days 3:43:48       [0299/1923] lr: \t1.0000E-04 loss: \t2.82158\n",
            " epoch [0027 / 0100] eta: 0 Days 3:48:2        [0399/1923] lr: \t1.0000E-04 loss: \t2.85812\n",
            " epoch [0027 / 0100] eta: 0 Days 3:40:46       [0499/1923] lr: \t1.0000E-04 loss: \t2.89004\n",
            " epoch [0027 / 0100] eta: 0 Days 3:49:43       [0599/1923] lr: \t1.0000E-04 loss: \t2.88481\n",
            " epoch [0027 / 0100] eta: 0 Days 3:39:17       [0699/1923] lr: \t1.0000E-04 loss: \t2.86917\n",
            " epoch [0027 / 0100] eta: 0 Days 3:40:37       [0799/1923] lr: \t1.0000E-04 loss: \t2.86321\n",
            " epoch [0027 / 0100] eta: 0 Days 3:45:0        [0899/1923] lr: \t1.0000E-04 loss: \t2.86378\n",
            " epoch [0027 / 0100] eta: 0 Days 3:46:50       [0999/1923] lr: \t1.0000E-04 loss: \t2.86852\n",
            " epoch [0027 / 0100] eta: 0 Days 3:48:4        [1099/1923] lr: \t1.0000E-04 loss: \t2.86575\n",
            " epoch [0027 / 0100] eta: 0 Days 3:42:23       [1199/1923] lr: \t1.0000E-04 loss: \t2.86268\n",
            " epoch [0027 / 0100] eta: 0 Days 3:40:4        [1299/1923] lr: \t1.0000E-04 loss: \t2.86007\n",
            " epoch [0027 / 0100] eta: 0 Days 3:46:26       [1399/1923] lr: \t1.0000E-04 loss: \t2.84958\n",
            " epoch [0027 / 0100] eta: 0 Days 4:28:32       [1499/1923] lr: \t1.0000E-04 loss: \t2.85033\n",
            " epoch [0027 / 0100] eta: 0 Days 3:44:37       [1599/1923] lr: \t1.0000E-04 loss: \t2.84893\n",
            " epoch [0027 / 0100] eta: 0 Days 4:9:21        [1699/1923] lr: \t1.0000E-04 loss: \t2.84090\n",
            " epoch [0027 / 0100] eta: 0 Days 3:46:23       [1799/1923] lr: \t1.0000E-04 loss: \t2.84330\n",
            " epoch [0027 / 0100] eta: 0 Days 3:37:30       [1899/1923] lr: \t1.0000E-04 loss: \t2.84383\n"
          ]
        },
        {
          "metadata": {
            "tags": null
          },
          "name": "stderr",
          "output_type": "stream",
          "text": [
            "100%|██████████| 28/28 [00:43<00:00,  1.56s/it]\n"
          ]
        },
        {
          "metadata": {
            "tags": null
          },
          "name": "stdout",
          "output_type": "stream",
          "text": [
            "saving last_epoch checkpoint\n",
            "saving min_loss checkpoint\n",
            "val AUROC mean 0.7116\n",
            "Atelectasis 0.7235\n",
            "Cardiomegaly 0.8518\n",
            "Effusion 0.7972\n",
            "Infiltration 0.6439\n",
            "Mass 0.7254\n",
            "Nodule 0.6535\n",
            "Pneumothorax 0.7831\n",
            "Consolidation 0.6718\n",
            "Pleural_Thickening 0.6247\n",
            "Hernia 0.6415\n"
          ]
        },
        {
          "metadata": {
            "tags": null
          },
          "name": "stderr",
          "output_type": "stream",
          "text": [
            "100%|██████████| 219/219 [01:04<00:00,  3.39it/s]\n"
          ]
        },
        {
          "metadata": {
            "tags": null
          },
          "name": "stdout",
          "output_type": "stream",
          "text": [
            "\n",
            "test_seen AUROC mean 0.7003\n",
            "Atelectasis 0.7036\n",
            "Effusion 0.7928\n",
            "Infiltration 0.6342\n",
            "Mass 0.6769\n",
            "Nodule 0.6729\n",
            "Pneumothorax 0.7527\n",
            "Consolidation 0.6577\n",
            "Cardiomegaly 0.8402\n",
            "Pleural_Thickening 0.6176\n",
            "Hernia 0.6544\n",
            "\n",
            "test_unseen AUROC mean 0.5495\n",
            "Edema 0.5538\n",
            "Pneumonia 0.4945\n",
            "Emphysema 0.5820\n",
            "Fibrosis 0.5675\n",
            "best epoch 26 best auroc 0.714798475959266 loss 2.707288 auroc at min loss 0.7116\n",
            " epoch [0028 / 0100] eta: 0 Days 4:28:50       [0099/1923] lr: \t1.0000E-04 loss: \t2.93540\n",
            " epoch [0028 / 0100] eta: 0 Days 3:37:10       [0199/1923] lr: \t1.0000E-04 loss: \t2.86665\n",
            " epoch [0028 / 0100] eta: 0 Days 3:48:31       [0299/1923] lr: \t1.0000E-04 loss: \t2.86757\n",
            " epoch [0028 / 0100] eta: 0 Days 3:35:35       [0399/1923] lr: \t1.0000E-04 loss: \t2.82832\n",
            " epoch [0028 / 0100] eta: 0 Days 3:48:36       [0499/1923] lr: \t1.0000E-04 loss: \t2.82692\n",
            " epoch [0028 / 0100] eta: 0 Days 3:40:2        [0599/1923] lr: \t1.0000E-04 loss: \t2.82396\n",
            " epoch [0028 / 0100] eta: 0 Days 3:44:35       [0699/1923] lr: \t1.0000E-04 loss: \t2.82218\n",
            " epoch [0028 / 0100] eta: 0 Days 3:39:44       [0799/1923] lr: \t1.0000E-04 loss: \t2.81917\n",
            " epoch [0028 / 0100] eta: 0 Days 3:40:32       [0899/1923] lr: \t1.0000E-04 loss: \t2.81483\n",
            " epoch [0028 / 0100] eta: 0 Days 3:43:32       [0999/1923] lr: \t1.0000E-04 loss: \t2.82278\n",
            " epoch [0028 / 0100] eta: 0 Days 3:43:39       [1099/1923] lr: \t1.0000E-04 loss: \t2.81828\n",
            " epoch [0028 / 0100] eta: 0 Days 3:37:54       [1199/1923] lr: \t1.0000E-04 loss: \t2.82509\n",
            " epoch [0028 / 0100] eta: 0 Days 3:39:49       [1299/1923] lr: \t1.0000E-04 loss: \t2.82634\n",
            " epoch [0028 / 0100] eta: 0 Days 3:38:7        [1399/1923] lr: \t1.0000E-04 loss: \t2.82612\n",
            " epoch [0028 / 0100] eta: 0 Days 3:34:1        [1499/1923] lr: \t1.0000E-04 loss: \t2.81993\n",
            " epoch [0028 / 0100] eta: 0 Days 3:39:51       [1599/1923] lr: \t1.0000E-04 loss: \t2.81237\n",
            " epoch [0028 / 0100] eta: 0 Days 3:36:58       [1699/1923] lr: \t1.0000E-04 loss: \t2.81428\n",
            " epoch [0028 / 0100] eta: 0 Days 3:38:14       [1799/1923] lr: \t1.0000E-04 loss: \t2.81647\n",
            " epoch [0028 / 0100] eta: 0 Days 3:40:48       [1899/1923] lr: \t1.0000E-04 loss: \t2.81568\n"
          ]
        },
        {
          "metadata": {
            "tags": null
          },
          "name": "stderr",
          "output_type": "stream",
          "text": [
            "100%|██████████| 28/28 [00:45<00:00,  1.61s/it]\n"
          ]
        },
        {
          "metadata": {
            "tags": null
          },
          "name": "stdout",
          "output_type": "stream",
          "text": [
            "saving last_epoch checkpoint\n",
            "val AUROC mean 0.7111\n",
            "Atelectasis 0.7298\n",
            "Cardiomegaly 0.8723\n",
            "Effusion 0.7791\n",
            "Infiltration 0.6520\n",
            "Mass 0.6787\n",
            "Nodule 0.6459\n",
            "Pneumothorax 0.7597\n",
            "Consolidation 0.6987\n",
            "Pleural_Thickening 0.6254\n",
            "Hernia 0.6693\n",
            "best epoch 26 best auroc 0.714798475959266 loss 2.742947 auroc at min loss 0.7116\n",
            " epoch [0029 / 0100] eta: 0 Days 4:41:42       [0099/1923] lr: \t1.0000E-04 loss: \t2.78235\n",
            " epoch [0029 / 0100] eta: 0 Days 3:39:51       [0199/1923] lr: \t1.0000E-04 loss: \t2.79790\n",
            " epoch [0029 / 0100] eta: 0 Days 3:43:38       [0299/1923] lr: \t1.0000E-04 loss: \t2.82755\n",
            " epoch [0029 / 0100] eta: 0 Days 3:36:55       [0399/1923] lr: \t1.0000E-04 loss: \t2.79801\n",
            " epoch [0029 / 0100] eta: 0 Days 3:41:40       [0499/1923] lr: \t1.0000E-04 loss: \t2.78926\n",
            " epoch [0029 / 0100] eta: 0 Days 3:52:32       [0599/1923] lr: \t1.0000E-04 loss: \t2.79785\n",
            " epoch [0029 / 0100] eta: 0 Days 3:40:40       [0699/1923] lr: \t1.0000E-04 loss: \t2.79382\n",
            " epoch [0029 / 0100] eta: 0 Days 3:30:25       [0799/1923] lr: \t1.0000E-04 loss: \t2.79748\n",
            " epoch [0029 / 0100] eta: 0 Days 3:40:28       [0899/1923] lr: \t1.0000E-04 loss: \t2.79319\n",
            " epoch [0029 / 0100] eta: 0 Days 3:34:23       [0999/1923] lr: \t1.0000E-04 loss: \t2.79130\n",
            " epoch [0029 / 0100] eta: 0 Days 3:43:38       [1099/1923] lr: \t1.0000E-04 loss: \t2.79981\n",
            " epoch [0029 / 0100] eta: 0 Days 3:37:57       [1199/1923] lr: \t1.0000E-04 loss: \t2.80248\n",
            " epoch [0029 / 0100] eta: 0 Days 3:41:22       [1299/1923] lr: \t1.0000E-04 loss: \t2.80389\n",
            " epoch [0029 / 0100] eta: 0 Days 3:41:56       [1399/1923] lr: \t1.0000E-04 loss: \t2.80353\n",
            " epoch [0029 / 0100] eta: 0 Days 3:43:12       [1499/1923] lr: \t1.0000E-04 loss: \t2.80294\n",
            " epoch [0029 / 0100] eta: 0 Days 3:36:40       [1599/1923] lr: \t1.0000E-04 loss: \t2.80084\n",
            " epoch [0029 / 0100] eta: 0 Days 3:32:8        [1699/1923] lr: \t1.0000E-04 loss: \t2.80135\n",
            " epoch [0029 / 0100] eta: 0 Days 3:40:54       [1799/1923] lr: \t1.0000E-04 loss: \t2.79967\n",
            " epoch [0029 / 0100] eta: 0 Days 3:38:58       [1899/1923] lr: \t1.0000E-04 loss: \t2.80470\n"
          ]
        },
        {
          "metadata": {
            "tags": null
          },
          "name": "stderr",
          "output_type": "stream",
          "text": [
            "100%|██████████| 28/28 [00:46<00:00,  1.65s/it]\n"
          ]
        },
        {
          "metadata": {
            "tags": null
          },
          "name": "stdout",
          "output_type": "stream",
          "text": [
            "saving last_epoch checkpoint\n",
            "saving best_auroc checkpoint\n",
            "saving min_loss checkpoint\n",
            "val AUROC mean 0.7178\n",
            "Atelectasis 0.7495\n",
            "Cardiomegaly 0.8772\n",
            "Effusion 0.7914\n",
            "Infiltration 0.6456\n",
            "Mass 0.7269\n",
            "Nodule 0.6504\n",
            "Pneumothorax 0.7790\n",
            "Consolidation 0.6919\n",
            "Pleural_Thickening 0.6533\n",
            "Hernia 0.6125\n"
          ]
        },
        {
          "metadata": {
            "tags": null
          },
          "name": "stderr",
          "output_type": "stream",
          "text": [
            "100%|██████████| 219/219 [01:04<00:00,  3.40it/s]\n"
          ]
        },
        {
          "metadata": {
            "tags": null
          },
          "name": "stdout",
          "output_type": "stream",
          "text": [
            "\n",
            "test_seen AUROC mean 0.7065\n",
            "Atelectasis 0.7155\n",
            "Effusion 0.7952\n",
            "Infiltration 0.6352\n",
            "Mass 0.6826\n",
            "Nodule 0.6741\n",
            "Pneumothorax 0.7729\n",
            "Consolidation 0.6773\n",
            "Cardiomegaly 0.8670\n",
            "Pleural_Thickening 0.6353\n",
            "Hernia 0.6099\n",
            "\n",
            "test_unseen AUROC mean 0.5563\n",
            "Edema 0.5090\n",
            "Pneumonia 0.5227\n",
            "Emphysema 0.6178\n",
            "Fibrosis 0.5755\n",
            "best epoch 29 best auroc 0.7177628828044136 loss 2.680686 auroc at min loss 0.7178\n",
            " epoch [0030 / 0100] eta: 0 Days 3:57:27       [0099/1923] lr: \t1.0000E-04 loss: \t2.78246\n",
            " epoch [0030 / 0100] eta: 0 Days 3:38:4        [0199/1923] lr: \t1.0000E-04 loss: \t2.78616\n",
            " epoch [0030 / 0100] eta: 0 Days 3:36:48       [0299/1923] lr: \t1.0000E-04 loss: \t2.77593\n",
            " epoch [0030 / 0100] eta: 0 Days 3:28:28       [0399/1923] lr: \t1.0000E-04 loss: \t2.76723\n",
            " epoch [0030 / 0100] eta: 0 Days 3:31:31       [0499/1923] lr: \t1.0000E-04 loss: \t2.77021\n",
            " epoch [0030 / 0100] eta: 0 Days 3:39:56       [0599/1923] lr: \t1.0000E-04 loss: \t2.79030\n",
            " epoch [0030 / 0100] eta: 0 Days 3:30:4        [0699/1923] lr: \t1.0000E-04 loss: \t2.78448\n",
            " epoch [0030 / 0100] eta: 0 Days 3:42:1        [0799/1923] lr: \t1.0000E-04 loss: \t2.76832\n",
            " epoch [0030 / 0100] eta: 0 Days 3:31:5        [0899/1923] lr: \t1.0000E-04 loss: \t2.77639\n",
            " epoch [0030 / 0100] eta: 0 Days 3:32:51       [0999/1923] lr: \t1.0000E-04 loss: \t2.78643\n",
            " epoch [0030 / 0100] eta: 0 Days 3:50:8        [1099/1923] lr: \t1.0000E-04 loss: \t2.78375\n",
            " epoch [0030 / 0100] eta: 0 Days 3:30:24       [1199/1923] lr: \t1.0000E-04 loss: \t2.79071\n",
            " epoch [0030 / 0100] eta: 0 Days 3:39:31       [1299/1923] lr: \t1.0000E-04 loss: \t2.78754\n",
            " epoch [0030 / 0100] eta: 0 Days 3:33:16       [1399/1923] lr: \t1.0000E-04 loss: \t2.78382\n",
            " epoch [0030 / 0100] eta: 0 Days 3:32:44       [1499/1923] lr: \t1.0000E-04 loss: \t2.78829\n",
            " epoch [0030 / 0100] eta: 0 Days 3:54:18       [1599/1923] lr: \t1.0000E-04 loss: \t2.78070\n",
            " epoch [0030 / 0100] eta: 0 Days 3:35:17       [1699/1923] lr: \t1.0000E-04 loss: \t2.78911\n",
            " epoch [0030 / 0100] eta: 0 Days 3:28:33       [1799/1923] lr: \t1.0000E-04 loss: \t2.78718\n",
            " epoch [0030 / 0100] eta: 0 Days 3:35:21       [1899/1923] lr: \t1.0000E-04 loss: \t2.78168\n"
          ]
        },
        {
          "metadata": {
            "tags": null
          },
          "name": "stderr",
          "output_type": "stream",
          "text": [
            "100%|██████████| 28/28 [00:45<00:00,  1.63s/it]\n"
          ]
        },
        {
          "metadata": {
            "tags": null
          },
          "name": "stdout",
          "output_type": "stream",
          "text": [
            "saving last_epoch checkpoint\n",
            "saving best_auroc checkpoint\n",
            "saving min_loss checkpoint\n",
            "val AUROC mean 0.7229\n",
            "Atelectasis 0.7498\n",
            "Cardiomegaly 0.8805\n",
            "Effusion 0.8008\n",
            "Infiltration 0.6546\n",
            "Mass 0.7357\n",
            "Nodule 0.6581\n",
            "Pneumothorax 0.7828\n",
            "Consolidation 0.6931\n",
            "Pleural_Thickening 0.6523\n",
            "Hernia 0.6211\n"
          ]
        },
        {
          "metadata": {
            "tags": null
          },
          "name": "stderr",
          "output_type": "stream",
          "text": [
            "100%|██████████| 219/219 [01:03<00:00,  3.43it/s]\n"
          ]
        },
        {
          "metadata": {
            "tags": null
          },
          "name": "stdout",
          "output_type": "stream",
          "text": [
            "\n",
            "test_seen AUROC mean 0.7169\n",
            "Atelectasis 0.7212\n",
            "Effusion 0.7979\n",
            "Infiltration 0.6361\n",
            "Mass 0.6964\n",
            "Nodule 0.6843\n",
            "Pneumothorax 0.7822\n",
            "Consolidation 0.6734\n",
            "Cardiomegaly 0.8714\n",
            "Pleural_Thickening 0.6408\n",
            "Hernia 0.6655\n",
            "\n",
            "test_unseen AUROC mean 0.5717\n",
            "Edema 0.5431\n",
            "Pneumonia 0.4725\n",
            "Emphysema 0.6649\n",
            "Fibrosis 0.6065\n",
            "best epoch 30 best auroc 0.7228844175542148 loss 2.630655 auroc at min loss 0.7229\n",
            " epoch [0031 / 0100] eta: 0 Days 3:29:59       [0099/1923] lr: \t1.0000E-04 loss: \t2.77707\n",
            " epoch [0031 / 0100] eta: 0 Days 3:33:2        [0199/1923] lr: \t1.0000E-04 loss: \t2.75534\n",
            " epoch [0031 / 0100] eta: 0 Days 3:34:36       [0299/1923] lr: \t1.0000E-04 loss: \t2.72915\n",
            " epoch [0031 / 0100] eta: 0 Days 3:30:34       [0399/1923] lr: \t1.0000E-04 loss: \t2.75215\n",
            " epoch [0031 / 0100] eta: 0 Days 3:28:55       [0499/1923] lr: \t1.0000E-04 loss: \t2.75054\n",
            " epoch [0031 / 0100] eta: 0 Days 4:19:3        [0599/1923] lr: \t1.0000E-04 loss: \t2.75623\n",
            " epoch [0031 / 0100] eta: 0 Days 3:37:41       [0699/1923] lr: \t1.0000E-04 loss: \t2.77654\n",
            " epoch [0031 / 0100] eta: 0 Days 3:44:41       [0799/1923] lr: \t1.0000E-04 loss: \t2.76728\n",
            " epoch [0031 / 0100] eta: 0 Days 3:38:48       [0899/1923] lr: \t1.0000E-04 loss: \t2.75171\n",
            " epoch [0031 / 0100] eta: 0 Days 3:36:37       [0999/1923] lr: \t1.0000E-04 loss: \t2.75289\n",
            " epoch [0031 / 0100] eta: 0 Days 3:28:12       [1099/1923] lr: \t1.0000E-04 loss: \t2.75122\n",
            " epoch [0031 / 0100] eta: 0 Days 3:33:29       [1199/1923] lr: \t1.0000E-04 loss: \t2.76147\n",
            " epoch [0031 / 0100] eta: 0 Days 3:24:41       [1299/1923] lr: \t1.0000E-04 loss: \t2.76047\n",
            " epoch [0031 / 0100] eta: 0 Days 3:40:21       [1399/1923] lr: \t1.0000E-04 loss: \t2.77421\n",
            " epoch [0031 / 0100] eta: 0 Days 3:31:0        [1499/1923] lr: \t1.0000E-04 loss: \t2.77246\n",
            " epoch [0031 / 0100] eta: 0 Days 3:29:16       [1599/1923] lr: \t1.0000E-04 loss: \t2.77599\n",
            " epoch [0031 / 0100] eta: 0 Days 3:32:10       [1699/1923] lr: \t1.0000E-04 loss: \t2.77248\n",
            " epoch [0031 / 0100] eta: 0 Days 3:34:0        [1799/1923] lr: \t1.0000E-04 loss: \t2.77384\n",
            " epoch [0031 / 0100] eta: 0 Days 3:28:51       [1899/1923] lr: \t1.0000E-04 loss: \t2.78237\n"
          ]
        },
        {
          "metadata": {
            "tags": null
          },
          "name": "stderr",
          "output_type": "stream",
          "text": [
            "100%|██████████| 28/28 [00:44<00:00,  1.58s/it]\n"
          ]
        },
        {
          "metadata": {
            "tags": null
          },
          "name": "stdout",
          "output_type": "stream",
          "text": [
            "saving last_epoch checkpoint\n",
            "val AUROC mean 0.7160\n",
            "Atelectasis 0.7303\n",
            "Cardiomegaly 0.8842\n",
            "Effusion 0.7802\n",
            "Infiltration 0.6544\n",
            "Mass 0.7472\n",
            "Nodule 0.6507\n",
            "Pneumothorax 0.7621\n",
            "Consolidation 0.6827\n",
            "Pleural_Thickening 0.6347\n",
            "Hernia 0.6331\n",
            "best epoch 30 best auroc 0.7228844175542148 loss 2.740003 auroc at min loss 0.7229\n",
            " epoch [0032 / 0100] eta: 0 Days 3:34:13       [0099/1923] lr: \t1.0000E-04 loss: \t2.63457\n",
            " epoch [0032 / 0100] eta: 0 Days 3:30:11       [0199/1923] lr: \t1.0000E-04 loss: \t2.64513\n",
            " epoch [0032 / 0100] eta: 0 Days 3:24:10       [0299/1923] lr: \t1.0000E-04 loss: \t2.67327\n",
            " epoch [0032 / 0100] eta: 0 Days 3:25:40       [0399/1923] lr: \t1.0000E-04 loss: \t2.70577\n",
            " epoch [0032 / 0100] eta: 0 Days 3:33:25       [0499/1923] lr: \t1.0000E-04 loss: \t2.73190\n",
            " epoch [0032 / 0100] eta: 0 Days 3:30:12       [0599/1923] lr: \t1.0000E-04 loss: \t2.72268\n",
            " epoch [0032 / 0100] eta: 0 Days 3:32:12       [0699/1923] lr: \t1.0000E-04 loss: \t2.72267\n",
            " epoch [0032 / 0100] eta: 0 Days 3:26:7        [0799/1923] lr: \t1.0000E-04 loss: \t2.73576\n",
            " epoch [0032 / 0100] eta: 0 Days 3:27:52       [0899/1923] lr: \t1.0000E-04 loss: \t2.74749\n",
            " epoch [0032 / 0100] eta: 0 Days 3:48:53       [0999/1923] lr: \t1.0000E-04 loss: \t2.75595\n",
            " epoch [0032 / 0100] eta: 0 Days 3:49:26       [1099/1923] lr: \t1.0000E-04 loss: \t2.74963\n",
            " epoch [0032 / 0100] eta: 0 Days 3:36:54       [1199/1923] lr: \t1.0000E-04 loss: \t2.75503\n",
            " epoch [0032 / 0100] eta: 0 Days 3:31:18       [1299/1923] lr: \t1.0000E-04 loss: \t2.76065\n",
            " epoch [0032 / 0100] eta: 0 Days 3:26:4        [1399/1923] lr: \t1.0000E-04 loss: \t2.76172\n",
            " epoch [0032 / 0100] eta: 0 Days 3:31:40       [1499/1923] lr: \t1.0000E-04 loss: \t2.75981\n",
            " epoch [0032 / 0100] eta: 0 Days 3:39:27       [1599/1923] lr: \t1.0000E-04 loss: \t2.75968\n",
            " epoch [0032 / 0100] eta: 0 Days 3:31:14       [1699/1923] lr: \t1.0000E-04 loss: \t2.76306\n",
            " epoch [0032 / 0100] eta: 0 Days 3:21:37       [1799/1923] lr: \t1.0000E-04 loss: \t2.76493\n",
            " epoch [0032 / 0100] eta: 0 Days 3:27:25       [1899/1923] lr: \t1.0000E-04 loss: \t2.76354\n"
          ]
        },
        {
          "metadata": {
            "tags": null
          },
          "name": "stderr",
          "output_type": "stream",
          "text": [
            "100%|██████████| 28/28 [00:43<00:00,  1.55s/it]\n"
          ]
        },
        {
          "metadata": {
            "tags": null
          },
          "name": "stdout",
          "output_type": "stream",
          "text": [
            "saving last_epoch checkpoint\n",
            "saving best_auroc checkpoint\n",
            "saving min_loss checkpoint\n",
            "val AUROC mean 0.7257\n",
            "Atelectasis 0.7378\n",
            "Cardiomegaly 0.8825\n",
            "Effusion 0.8012\n",
            "Infiltration 0.6610\n",
            "Mass 0.7538\n",
            "Nodule 0.6550\n",
            "Pneumothorax 0.7751\n",
            "Consolidation 0.6898\n",
            "Pleural_Thickening 0.6450\n",
            "Hernia 0.6556\n"
          ]
        },
        {
          "metadata": {
            "tags": null
          },
          "name": "stderr",
          "output_type": "stream",
          "text": [
            "100%|██████████| 219/219 [01:03<00:00,  3.43it/s]\n"
          ]
        },
        {
          "metadata": {
            "tags": null
          },
          "name": "stdout",
          "output_type": "stream",
          "text": [
            "\n",
            "test_seen AUROC mean 0.7105\n",
            "Atelectasis 0.7031\n",
            "Effusion 0.8009\n",
            "Infiltration 0.6412\n",
            "Mass 0.7004\n",
            "Nodule 0.6875\n",
            "Pneumothorax 0.7693\n",
            "Consolidation 0.6752\n",
            "Cardiomegaly 0.8708\n",
            "Pleural_Thickening 0.6406\n",
            "Hernia 0.6162\n",
            "\n",
            "test_unseen AUROC mean 0.5682\n",
            "Edema 0.5475\n",
            "Pneumonia 0.4966\n",
            "Emphysema 0.6074\n",
            "Fibrosis 0.6214\n",
            "best epoch 32 best auroc 0.7256840910483 loss 2.605074 auroc at min loss 0.7257\n",
            " epoch [0033 / 0100] eta: 0 Days 3:20:4        [0099/1923] lr: \t1.0000E-04 loss: \t2.75373\n",
            " epoch [0033 / 0100] eta: 0 Days 3:26:20       [0199/1923] lr: \t1.0000E-04 loss: \t2.77595\n",
            " epoch [0033 / 0100] eta: 0 Days 3:22:42       [0299/1923] lr: \t1.0000E-04 loss: \t2.74279\n",
            " epoch [0033 / 0100] eta: 0 Days 3:25:29       [0399/1923] lr: \t1.0000E-04 loss: \t2.76720\n",
            " epoch [0033 / 0100] eta: 0 Days 3:21:44       [0499/1923] lr: \t1.0000E-04 loss: \t2.75781\n",
            " epoch [0033 / 0100] eta: 0 Days 4:10:5        [0599/1923] lr: \t1.0000E-04 loss: \t2.74194\n",
            " epoch [0033 / 0100] eta: 0 Days 3:16:48       [0699/1923] lr: \t1.0000E-04 loss: \t2.75514\n",
            " epoch [0033 / 0100] eta: 0 Days 3:22:59       [0799/1923] lr: \t1.0000E-04 loss: \t2.75588\n",
            " epoch [0033 / 0100] eta: 0 Days 3:20:12       [0899/1923] lr: \t1.0000E-04 loss: \t2.75052\n",
            " epoch [0033 / 0100] eta: 0 Days 3:20:59       [0999/1923] lr: \t1.0000E-04 loss: \t2.75218\n",
            " epoch [0033 / 0100] eta: 0 Days 3:25:43       [1099/1923] lr: \t1.0000E-04 loss: \t2.74274\n",
            " epoch [0033 / 0100] eta: 0 Days 3:30:23       [1199/1923] lr: \t1.0000E-04 loss: \t2.74209\n",
            " epoch [0033 / 0100] eta: 0 Days 3:21:48       [1299/1923] lr: \t1.0000E-04 loss: \t2.74257\n",
            " epoch [0033 / 0100] eta: 0 Days 3:29:8        [1399/1923] lr: \t1.0000E-04 loss: \t2.74795\n",
            " epoch [0033 / 0100] eta: 0 Days 3:24:27       [1499/1923] lr: \t1.0000E-04 loss: \t2.74345\n",
            " epoch [0033 / 0100] eta: 0 Days 3:16:53       [1599/1923] lr: \t1.0000E-04 loss: \t2.74103\n",
            " epoch [0033 / 0100] eta: 0 Days 3:29:56       [1699/1923] lr: \t1.0000E-04 loss: \t2.74399\n",
            " epoch [0033 / 0100] eta: 0 Days 3:28:54       [1799/1923] lr: \t1.0000E-04 loss: \t2.74826\n",
            " epoch [0033 / 0100] eta: 0 Days 3:19:14       [1899/1923] lr: \t1.0000E-04 loss: \t2.75177\n"
          ]
        },
        {
          "metadata": {
            "tags": null
          },
          "name": "stderr",
          "output_type": "stream",
          "text": [
            "100%|██████████| 28/28 [00:43<00:00,  1.55s/it]\n"
          ]
        },
        {
          "metadata": {
            "tags": null
          },
          "name": "stdout",
          "output_type": "stream",
          "text": [
            "saving last_epoch checkpoint\n",
            "saving best_auroc checkpoint\n",
            "val AUROC mean 0.7291\n",
            "Atelectasis 0.7341\n",
            "Cardiomegaly 0.8761\n",
            "Effusion 0.7920\n",
            "Infiltration 0.6576\n",
            "Mass 0.7577\n",
            "Nodule 0.6545\n",
            "Pneumothorax 0.7760\n",
            "Consolidation 0.6816\n",
            "Pleural_Thickening 0.6595\n",
            "Hernia 0.7023\n"
          ]
        },
        {
          "metadata": {
            "tags": null
          },
          "name": "stderr",
          "output_type": "stream",
          "text": [
            "100%|██████████| 219/219 [01:03<00:00,  3.45it/s]\n"
          ]
        },
        {
          "metadata": {
            "tags": null
          },
          "name": "stdout",
          "output_type": "stream",
          "text": [
            "\n",
            "test_seen AUROC mean 0.7209\n",
            "Atelectasis 0.7036\n",
            "Effusion 0.7906\n",
            "Infiltration 0.6400\n",
            "Mass 0.7106\n",
            "Nodule 0.6829\n",
            "Pneumothorax 0.7692\n",
            "Consolidation 0.6787\n",
            "Cardiomegaly 0.8562\n",
            "Pleural_Thickening 0.6506\n",
            "Hernia 0.7268\n",
            "\n",
            "test_unseen AUROC mean 0.5868\n",
            "Edema 0.5978\n",
            "Pneumonia 0.4983\n",
            "Emphysema 0.6597\n",
            "Fibrosis 0.5912\n",
            "best epoch 33 best auroc 0.7291497232027191 loss 2.638303 auroc at min loss 0.7257\n",
            " epoch [0034 / 0100] eta: 0 Days 4:4:56        [0099/1923] lr: \t1.0000E-04 loss: \t2.73454\n",
            " epoch [0034 / 0100] eta: 0 Days 3:24:55       [0199/1923] lr: \t1.0000E-04 loss: \t2.69089\n",
            " epoch [0034 / 0100] eta: 0 Days 3:18:56       [0299/1923] lr: \t1.0000E-04 loss: \t2.72862\n",
            " epoch [0034 / 0100] eta: 0 Days 3:16:30       [0399/1923] lr: \t1.0000E-04 loss: \t2.73918\n",
            " epoch [0034 / 0100] eta: 0 Days 3:26:21       [0499/1923] lr: \t1.0000E-04 loss: \t2.73449\n",
            " epoch [0034 / 0100] eta: 0 Days 4:2:36        [0599/1923] lr: \t1.0000E-04 loss: \t2.75337\n",
            " epoch [0034 / 0100] eta: 0 Days 3:20:52       [0699/1923] lr: \t1.0000E-04 loss: \t2.76318\n",
            " epoch [0034 / 0100] eta: 0 Days 3:23:54       [0799/1923] lr: \t1.0000E-04 loss: \t2.75876\n",
            " epoch [0034 / 0100] eta: 0 Days 3:48:2        [0899/1923] lr: \t1.0000E-04 loss: \t2.74777\n",
            " epoch [0034 / 0100] eta: 0 Days 3:18:59       [0999/1923] lr: \t1.0000E-04 loss: \t2.74322\n",
            " epoch [0034 / 0100] eta: 0 Days 3:44:10       [1099/1923] lr: \t1.0000E-04 loss: \t2.74541\n",
            " epoch [0034 / 0100] eta: 0 Days 3:20:23       [1199/1923] lr: \t1.0000E-04 loss: \t2.74202\n",
            " epoch [0034 / 0100] eta: 0 Days 3:20:22       [1299/1923] lr: \t1.0000E-04 loss: \t2.73743\n",
            " epoch [0034 / 0100] eta: 0 Days 3:29:6        [1399/1923] lr: \t1.0000E-04 loss: \t2.73883\n",
            " epoch [0034 / 0100] eta: 0 Days 3:18:2        [1499/1923] lr: \t1.0000E-04 loss: \t2.73749\n",
            " epoch [0034 / 0100] eta: 0 Days 3:16:30       [1599/1923] lr: \t1.0000E-04 loss: \t2.73960\n",
            " epoch [0034 / 0100] eta: 0 Days 3:20:28       [1699/1923] lr: \t1.0000E-04 loss: \t2.74507\n",
            " epoch [0034 / 0100] eta: 0 Days 3:16:22       [1799/1923] lr: \t1.0000E-04 loss: \t2.74626\n",
            " epoch [0034 / 0100] eta: 0 Days 3:24:44       [1899/1923] lr: \t1.0000E-04 loss: \t2.75237\n"
          ]
        },
        {
          "metadata": {
            "tags": null
          },
          "name": "stderr",
          "output_type": "stream",
          "text": [
            "100%|██████████| 28/28 [00:43<00:00,  1.56s/it]\n"
          ]
        },
        {
          "metadata": {
            "tags": null
          },
          "name": "stdout",
          "output_type": "stream",
          "text": [
            "saving last_epoch checkpoint\n",
            "val AUROC mean 0.7279\n",
            "Atelectasis 0.7386\n",
            "Cardiomegaly 0.8722\n",
            "Effusion 0.7959\n",
            "Infiltration 0.6709\n",
            "Mass 0.7480\n",
            "Nodule 0.6522\n",
            "Pneumothorax 0.7867\n",
            "Consolidation 0.6847\n",
            "Pleural_Thickening 0.6502\n",
            "Hernia 0.6799\n",
            "best epoch 33 best auroc 0.7291497232027191 loss 2.619179 auroc at min loss 0.7257\n",
            " epoch [0035 / 0100] eta: 0 Days 3:18:30       [0099/1923] lr: \t1.0000E-04 loss: \t2.68834\n",
            " epoch [0035 / 0100] eta: 0 Days 3:21:7        [0199/1923] lr: \t1.0000E-04 loss: \t2.65447\n",
            " epoch [0035 / 0100] eta: 0 Days 3:17:14       [0299/1923] lr: \t1.0000E-04 loss: \t2.67412\n",
            " epoch [0035 / 0100] eta: 0 Days 3:23:29       [0399/1923] lr: \t1.0000E-04 loss: \t2.68693\n",
            " epoch [0035 / 0100] eta: 0 Days 3:18:9        [0499/1923] lr: \t1.0000E-04 loss: \t2.69819\n",
            " epoch [0035 / 0100] eta: 0 Days 3:21:26       [0599/1923] lr: \t1.0000E-04 loss: \t2.71175\n",
            " epoch [0035 / 0100] eta: 0 Days 3:14:42       [0699/1923] lr: \t1.0000E-04 loss: \t2.71297\n",
            " epoch [0035 / 0100] eta: 0 Days 3:17:7        [0799/1923] lr: \t1.0000E-04 loss: \t2.70860\n",
            " epoch [0035 / 0100] eta: 0 Days 3:42:14       [0899/1923] lr: \t1.0000E-04 loss: \t2.70443\n",
            " epoch [0035 / 0100] eta: 0 Days 3:15:45       [0999/1923] lr: \t1.0000E-04 loss: \t2.71539\n",
            " epoch [0035 / 0100] eta: 0 Days 3:23:35       [1099/1923] lr: \t1.0000E-04 loss: \t2.73042\n",
            " epoch [0035 / 0100] eta: 0 Days 3:18:27       [1199/1923] lr: \t1.0000E-04 loss: \t2.72762\n",
            " epoch [0035 / 0100] eta: 0 Days 3:32:46       [1299/1923] lr: \t1.0000E-04 loss: \t2.73085\n",
            " epoch [0035 / 0100] eta: 0 Days 3:24:33       [1399/1923] lr: \t1.0000E-04 loss: \t2.73253\n",
            " epoch [0035 / 0100] eta: 0 Days 3:18:47       [1499/1923] lr: \t1.0000E-04 loss: \t2.74064\n",
            " epoch [0035 / 0100] eta: 0 Days 3:23:18       [1599/1923] lr: \t1.0000E-04 loss: \t2.73398\n",
            " epoch [0035 / 0100] eta: 0 Days 3:13:51       [1699/1923] lr: \t1.0000E-04 loss: \t2.73225\n",
            " epoch [0035 / 0100] eta: 0 Days 3:16:42       [1799/1923] lr: \t1.0000E-04 loss: \t2.73121\n",
            " epoch [0035 / 0100] eta: 0 Days 3:13:56       [1899/1923] lr: \t1.0000E-04 loss: \t2.73600\n"
          ]
        },
        {
          "metadata": {
            "tags": null
          },
          "name": "stderr",
          "output_type": "stream",
          "text": [
            "100%|██████████| 28/28 [00:43<00:00,  1.56s/it]\n"
          ]
        },
        {
          "metadata": {
            "tags": null
          },
          "name": "stdout",
          "output_type": "stream",
          "text": [
            "saving last_epoch checkpoint\n",
            "val AUROC mean 0.7196\n",
            "Atelectasis 0.7401\n",
            "Cardiomegaly 0.8719\n",
            "Effusion 0.7970\n",
            "Infiltration 0.6770\n",
            "Mass 0.7452\n",
            "Nodule 0.6533\n",
            "Pneumothorax 0.7692\n",
            "Consolidation 0.6978\n",
            "Pleural_Thickening 0.6376\n",
            "Hernia 0.6067\n",
            "best epoch 33 best auroc 0.7291497232027191 loss 2.696664 auroc at min loss 0.7257\n",
            " epoch [0036 / 0100] eta: 0 Days 3:29:55       [0099/1923] lr: \t1.0000E-04 loss: \t2.63132\n",
            " epoch [0036 / 0100] eta: 0 Days 3:13:38       [0199/1923] lr: \t1.0000E-04 loss: \t2.64608\n",
            " epoch [0036 / 0100] eta: 0 Days 3:23:2        [0299/1923] lr: \t1.0000E-04 loss: \t2.67338\n",
            " epoch [0036 / 0100] eta: 0 Days 3:12:37       [0399/1923] lr: \t1.0000E-04 loss: \t2.68213\n",
            " epoch [0036 / 0100] eta: 0 Days 3:16:53       [0499/1923] lr: \t1.0000E-04 loss: \t2.69682\n",
            " epoch [0036 / 0100] eta: 0 Days 3:29:50       [0599/1923] lr: \t1.0000E-04 loss: \t2.70338\n",
            " epoch [0036 / 0100] eta: 0 Days 3:14:17       [0699/1923] lr: \t1.0000E-04 loss: \t2.69834\n",
            " epoch [0036 / 0100] eta: 0 Days 3:22:3        [0799/1923] lr: \t1.0000E-04 loss: \t2.69193\n",
            " epoch [0036 / 0100] eta: 0 Days 3:14:14       [0899/1923] lr: \t1.0000E-04 loss: \t2.70474\n",
            " epoch [0036 / 0100] eta: 0 Days 3:13:28       [0999/1923] lr: \t1.0000E-04 loss: \t2.70789\n",
            " epoch [0036 / 0100] eta: 0 Days 3:27:55       [1099/1923] lr: \t1.0000E-04 loss: \t2.71331\n",
            " epoch [0036 / 0100] eta: 0 Days 3:13:29       [1199/1923] lr: \t1.0000E-04 loss: \t2.72105\n",
            " epoch [0036 / 0100] eta: 0 Days 3:11:13       [1299/1923] lr: \t1.0000E-04 loss: \t2.71971\n",
            " epoch [0036 / 0100] eta: 0 Days 3:23:16       [1399/1923] lr: \t1.0000E-04 loss: \t2.71667\n",
            " epoch [0036 / 0100] eta: 0 Days 3:15:47       [1499/1923] lr: \t1.0000E-04 loss: \t2.71640\n",
            " epoch [0036 / 0100] eta: 0 Days 3:20:13       [1599/1923] lr: \t1.0000E-04 loss: \t2.71971\n",
            " epoch [0036 / 0100] eta: 0 Days 3:38:13       [1699/1923] lr: \t1.0000E-04 loss: \t2.71773\n",
            " epoch [0036 / 0100] eta: 0 Days 3:15:29       [1799/1923] lr: \t1.0000E-04 loss: \t2.72416\n",
            " epoch [0036 / 0100] eta: 0 Days 3:16:30       [1899/1923] lr: \t1.0000E-04 loss: \t2.72208\n"
          ]
        },
        {
          "metadata": {
            "tags": null
          },
          "name": "stderr",
          "output_type": "stream",
          "text": [
            "100%|██████████| 28/28 [00:44<00:00,  1.58s/it]\n"
          ]
        },
        {
          "metadata": {
            "tags": null
          },
          "name": "stdout",
          "output_type": "stream",
          "text": [
            "saving last_epoch checkpoint\n",
            "saving best_auroc checkpoint\n",
            "val AUROC mean 0.7337\n",
            "Atelectasis 0.7280\n",
            "Cardiomegaly 0.8884\n",
            "Effusion 0.7913\n",
            "Infiltration 0.6787\n",
            "Mass 0.7595\n",
            "Nodule 0.6527\n",
            "Pneumothorax 0.8031\n",
            "Consolidation 0.7001\n",
            "Pleural_Thickening 0.6551\n",
            "Hernia 0.6804\n"
          ]
        },
        {
          "metadata": {
            "tags": null
          },
          "name": "stderr",
          "output_type": "stream",
          "text": [
            "100%|██████████| 219/219 [01:04<00:00,  3.41it/s]\n"
          ]
        },
        {
          "metadata": {
            "tags": null
          },
          "name": "stdout",
          "output_type": "stream",
          "text": [
            "\n",
            "test_seen AUROC mean 0.7171\n",
            "Atelectasis 0.7007\n",
            "Effusion 0.7966\n",
            "Infiltration 0.6461\n",
            "Mass 0.7121\n",
            "Nodule 0.6812\n",
            "Pneumothorax 0.7943\n",
            "Consolidation 0.6822\n",
            "Cardiomegaly 0.8684\n",
            "Pleural_Thickening 0.6427\n",
            "Hernia 0.6469\n",
            "\n",
            "test_unseen AUROC mean 0.5820\n",
            "Edema 0.5153\n",
            "Pneumonia 0.4972\n",
            "Emphysema 0.6615\n",
            "Fibrosis 0.6542\n",
            "best epoch 36 best auroc 0.7337390233546048 loss 2.625169 auroc at min loss 0.7257\n",
            " epoch [0037 / 0100] eta: 0 Days 3:31:10       [0099/1923] lr: \t1.0000E-04 loss: \t2.65052\n",
            " epoch [0037 / 0100] eta: 0 Days 3:15:45       [0199/1923] lr: \t1.0000E-04 loss: \t2.71568\n",
            " epoch [0037 / 0100] eta: 0 Days 3:13:27       [0299/1923] lr: \t1.0000E-04 loss: \t2.72687\n",
            " epoch [0037 / 0100] eta: 0 Days 3:12:38       [0399/1923] lr: \t1.0000E-04 loss: \t2.72083\n",
            " epoch [0037 / 0100] eta: 0 Days 3:21:35       [0499/1923] lr: \t1.0000E-04 loss: \t2.71265\n",
            " epoch [0037 / 0100] eta: 0 Days 3:18:3        [0599/1923] lr: \t1.0000E-04 loss: \t2.71570\n",
            " epoch [0037 / 0100] eta: 0 Days 3:12:26       [0699/1923] lr: \t1.0000E-04 loss: \t2.72628\n",
            " epoch [0037 / 0100] eta: 0 Days 3:10:52       [0799/1923] lr: \t1.0000E-04 loss: \t2.71392\n",
            " epoch [0037 / 0100] eta: 0 Days 3:15:11       [0899/1923] lr: \t1.0000E-04 loss: \t2.72074\n",
            " epoch [0037 / 0100] eta: 0 Days 3:8:30        [0999/1923] lr: \t1.0000E-04 loss: \t2.70758\n",
            " epoch [0037 / 0100] eta: 0 Days 3:51:57       [1099/1923] lr: \t1.0000E-04 loss: \t2.71837\n",
            " epoch [0037 / 0100] eta: 0 Days 3:19:33       [1199/1923] lr: \t1.0000E-04 loss: \t2.72088\n",
            " epoch [0037 / 0100] eta: 0 Days 3:9:15        [1299/1923] lr: \t1.0000E-04 loss: \t2.72662\n",
            " epoch [0037 / 0100] eta: 0 Days 3:12:42       [1399/1923] lr: \t1.0000E-04 loss: \t2.72516\n",
            " epoch [0037 / 0100] eta: 0 Days 3:13:26       [1499/1923] lr: \t1.0000E-04 loss: \t2.72363\n",
            " epoch [0037 / 0100] eta: 0 Days 3:11:32       [1599/1923] lr: \t1.0000E-04 loss: \t2.73173\n",
            " epoch [0037 / 0100] eta: 0 Days 3:15:29       [1699/1923] lr: \t1.0000E-04 loss: \t2.72148\n",
            " epoch [0037 / 0100] eta: 0 Days 3:19:17       [1799/1923] lr: \t1.0000E-04 loss: \t2.72468\n",
            " epoch [0037 / 0100] eta: 0 Days 3:5:50        [1899/1923] lr: \t1.0000E-04 loss: \t2.72055\n"
          ]
        },
        {
          "metadata": {
            "tags": null
          },
          "name": "stderr",
          "output_type": "stream",
          "text": [
            "100%|██████████| 28/28 [00:46<00:00,  1.66s/it]\n"
          ]
        },
        {
          "metadata": {
            "tags": null
          },
          "name": "stdout",
          "output_type": "stream",
          "text": [
            "saving last_epoch checkpoint\n",
            "val AUROC mean 0.7310\n",
            "Atelectasis 0.7420\n",
            "Cardiomegaly 0.8937\n",
            "Effusion 0.7918\n",
            "Infiltration 0.6746\n",
            "Mass 0.7623\n",
            "Nodule 0.6603\n",
            "Pneumothorax 0.7674\n",
            "Consolidation 0.7089\n",
            "Pleural_Thickening 0.6033\n",
            "Hernia 0.7062\n",
            "best epoch 36 best auroc 0.7337390233546048 loss 2.637762 auroc at min loss 0.7257\n",
            " epoch [0038 / 0100] eta: 0 Days 3:28:1        [0099/1923] lr: \t1.0000E-04 loss: \t2.67788\n",
            " epoch [0038 / 0100] eta: 0 Days 3:20:5        [0199/1923] lr: \t1.0000E-04 loss: \t2.65179\n",
            " epoch [0038 / 0100] eta: 0 Days 3:22:58       [0299/1923] lr: \t1.0000E-04 loss: \t2.63488\n",
            " epoch [0038 / 0100] eta: 0 Days 3:53:44       [0399/1923] lr: \t1.0000E-04 loss: \t2.66291\n",
            " epoch [0038 / 0100] eta: 0 Days 3:19:29       [0499/1923] lr: \t1.0000E-04 loss: \t2.65426\n",
            " epoch [0038 / 0100] eta: 0 Days 3:19:58       [0599/1923] lr: \t1.0000E-04 loss: \t2.65379\n",
            " epoch [0038 / 0100] eta: 0 Days 3:12:28       [0699/1923] lr: \t1.0000E-04 loss: \t2.64839\n",
            " epoch [0038 / 0100] eta: 0 Days 3:12:32       [0799/1923] lr: \t1.0000E-04 loss: \t2.65928\n",
            " epoch [0038 / 0100] eta: 0 Days 3:13:44       [0899/1923] lr: \t1.0000E-04 loss: \t2.66855\n",
            " epoch [0038 / 0100] eta: 0 Days 3:18:21       [0999/1923] lr: \t1.0000E-04 loss: \t2.68509\n",
            " epoch [0038 / 0100] eta: 0 Days 3:11:49       [1099/1923] lr: \t1.0000E-04 loss: \t2.68421\n",
            " epoch [0038 / 0100] eta: 0 Days 3:15:43       [1199/1923] lr: \t1.0000E-04 loss: \t2.68007\n",
            " epoch [0038 / 0100] eta: 0 Days 3:16:41       [1299/1923] lr: \t1.0000E-04 loss: \t2.68450\n",
            " epoch [0038 / 0100] eta: 0 Days 3:14:50       [1399/1923] lr: \t1.0000E-04 loss: \t2.69278\n",
            " epoch [0038 / 0100] eta: 0 Days 3:12:46       [1499/1923] lr: \t1.0000E-04 loss: \t2.68602\n",
            " epoch [0038 / 0100] eta: 0 Days 3:33:36       [1599/1923] lr: \t1.0000E-04 loss: \t2.68464\n",
            " epoch [0038 / 0100] eta: 0 Days 3:24:59       [1699/1923] lr: \t1.0000E-04 loss: \t2.68298\n",
            " epoch [0038 / 0100] eta: 0 Days 3:10:28       [1799/1923] lr: \t1.0000E-04 loss: \t2.68439\n",
            " epoch [0038 / 0100] eta: 0 Days 3:6:38        [1899/1923] lr: \t1.0000E-04 loss: \t2.68266\n"
          ]
        },
        {
          "metadata": {
            "tags": null
          },
          "name": "stderr",
          "output_type": "stream",
          "text": [
            "100%|██████████| 28/28 [00:44<00:00,  1.59s/it]\n"
          ]
        },
        {
          "metadata": {
            "tags": null
          },
          "name": "stdout",
          "output_type": "stream",
          "text": [
            "saving last_epoch checkpoint\n",
            "saving best_auroc checkpoint\n",
            "saving min_loss checkpoint\n",
            "val AUROC mean 0.7411\n",
            "Atelectasis 0.7483\n",
            "Cardiomegaly 0.8840\n",
            "Effusion 0.8045\n",
            "Infiltration 0.6783\n",
            "Mass 0.7847\n",
            "Nodule 0.6565\n",
            "Pneumothorax 0.7903\n",
            "Consolidation 0.6957\n",
            "Pleural_Thickening 0.6562\n",
            "Hernia 0.7123\n"
          ]
        },
        {
          "metadata": {
            "tags": null
          },
          "name": "stderr",
          "output_type": "stream",
          "text": [
            "100%|██████████| 219/219 [01:04<00:00,  3.40it/s]\n"
          ]
        },
        {
          "metadata": {
            "tags": null
          },
          "name": "stdout",
          "output_type": "stream",
          "text": [
            "\n",
            "test_seen AUROC mean 0.7226\n",
            "Atelectasis 0.7146\n",
            "Effusion 0.8019\n",
            "Infiltration 0.6482\n",
            "Mass 0.7330\n",
            "Nodule 0.6776\n",
            "Pneumothorax 0.7960\n",
            "Consolidation 0.6836\n",
            "Cardiomegaly 0.8792\n",
            "Pleural_Thickening 0.6650\n",
            "Hernia 0.6271\n",
            "\n",
            "test_unseen AUROC mean 0.5805\n",
            "Edema 0.5548\n",
            "Pneumonia 0.4918\n",
            "Emphysema 0.6730\n",
            "Fibrosis 0.6025\n",
            "best epoch 38 best auroc 0.7410757253851785 loss 2.553049 auroc at min loss 0.7411\n",
            " epoch [0039 / 0100] eta: 0 Days 3:34:52       [0099/1923] lr: \t1.0000E-04 loss: \t2.74629\n",
            " epoch [0039 / 0100] eta: 0 Days 3:14:58       [0199/1923] lr: \t1.0000E-04 loss: \t2.69587\n",
            " epoch [0039 / 0100] eta: 0 Days 3:17:31       [0299/1923] lr: \t1.0000E-04 loss: \t2.64906\n",
            " epoch [0039 / 0100] eta: 0 Days 3:12:2        [0399/1923] lr: \t1.0000E-04 loss: \t2.68263\n",
            " epoch [0039 / 0100] eta: 0 Days 3:10:41       [0499/1923] lr: \t1.0000E-04 loss: \t2.67710\n",
            " epoch [0039 / 0100] eta: 0 Days 3:11:10       [0599/1923] lr: \t1.0000E-04 loss: \t2.67830\n",
            " epoch [0039 / 0100] eta: 0 Days 3:13:15       [0699/1923] lr: \t1.0000E-04 loss: \t2.66731\n",
            " epoch [0039 / 0100] eta: 0 Days 3:14:32       [0799/1923] lr: \t1.0000E-04 loss: \t2.67445\n",
            " epoch [0039 / 0100] eta: 0 Days 3:7:45        [0899/1923] lr: \t1.0000E-04 loss: \t2.67239\n",
            " epoch [0039 / 0100] eta: 0 Days 3:30:44       [0999/1923] lr: \t1.0000E-04 loss: \t2.67452\n",
            " epoch [0039 / 0100] eta: 0 Days 3:10:14       [1099/1923] lr: \t1.0000E-04 loss: \t2.67173\n",
            " epoch [0039 / 0100] eta: 0 Days 3:9:21        [1199/1923] lr: \t1.0000E-04 loss: \t2.67039\n",
            " epoch [0039 / 0100] eta: 0 Days 3:12:47       [1299/1923] lr: \t1.0000E-04 loss: \t2.67014\n",
            " epoch [0039 / 0100] eta: 0 Days 3:16:58       [1399/1923] lr: \t1.0000E-04 loss: \t2.67212\n",
            " epoch [0039 / 0100] eta: 0 Days 3:11:32       [1499/1923] lr: \t1.0000E-04 loss: \t2.67404\n",
            " epoch [0039 / 0100] eta: 0 Days 3:4:54        [1599/1923] lr: \t1.0000E-04 loss: \t2.67157\n",
            " epoch [0039 / 0100] eta: 0 Days 3:8:44        [1699/1923] lr: \t1.0000E-04 loss: \t2.68000\n",
            " epoch [0039 / 0100] eta: 0 Days 3:10:37       [1799/1923] lr: \t1.0000E-04 loss: \t2.68439\n",
            " epoch [0039 / 0100] eta: 0 Days 3:7:2         [1899/1923] lr: \t1.0000E-04 loss: \t2.67845\n"
          ]
        },
        {
          "metadata": {
            "tags": null
          },
          "name": "stderr",
          "output_type": "stream",
          "text": [
            "100%|██████████| 28/28 [00:44<00:00,  1.60s/it]\n"
          ]
        },
        {
          "metadata": {
            "tags": null
          },
          "name": "stdout",
          "output_type": "stream",
          "text": [
            "saving last_epoch checkpoint\n",
            "val AUROC mean 0.7325\n",
            "Atelectasis 0.7542\n",
            "Cardiomegaly 0.8881\n",
            "Effusion 0.8039\n",
            "Infiltration 0.6833\n",
            "Mass 0.7541\n",
            "Nodule 0.6599\n",
            "Pneumothorax 0.7831\n",
            "Consolidation 0.6893\n",
            "Pleural_Thickening 0.6373\n",
            "Hernia 0.6721\n",
            "best epoch 38 best auroc 0.7410757253851785 loss 2.592470 auroc at min loss 0.7411\n",
            " epoch [0040 / 0100] eta: 0 Days 3:21:47       [0099/1923] lr: \t1.0000E-04 loss: \t2.59838\n",
            " epoch [0040 / 0100] eta: 0 Days 3:8:34        [0199/1923] lr: \t1.0000E-04 loss: \t2.57840\n",
            " epoch [0040 / 0100] eta: 0 Days 3:8:29        [0299/1923] lr: \t1.0000E-04 loss: \t2.60451\n",
            " epoch [0040 / 0100] eta: 0 Days 3:7:9         [0399/1923] lr: \t1.0000E-04 loss: \t2.60449\n",
            " epoch [0040 / 0100] eta: 0 Days 3:11:43       [0499/1923] lr: \t1.0000E-04 loss: \t2.61840\n",
            " epoch [0040 / 0100] eta: 0 Days 3:9:51        [0599/1923] lr: \t1.0000E-04 loss: \t2.61840\n",
            " epoch [0040 / 0100] eta: 0 Days 3:11:56       [0699/1923] lr: \t1.0000E-04 loss: \t2.62533\n",
            " epoch [0040 / 0100] eta: 0 Days 3:11:48       [0799/1923] lr: \t1.0000E-04 loss: \t2.62335\n",
            " epoch [0040 / 0100] eta: 0 Days 3:14:31       [0899/1923] lr: \t1.0000E-04 loss: \t2.63219\n",
            " epoch [0040 / 0100] eta: 0 Days 3:14:30       [0999/1923] lr: \t1.0000E-04 loss: \t2.63995\n",
            " epoch [0040 / 0100] eta: 0 Days 3:6:57        [1099/1923] lr: \t1.0000E-04 loss: \t2.64553\n",
            " epoch [0040 / 0100] eta: 0 Days 3:8:12        [1199/1923] lr: \t1.0000E-04 loss: \t2.64826\n",
            " epoch [0040 / 0100] eta: 0 Days 3:5:24        [1299/1923] lr: \t1.0000E-04 loss: \t2.64936\n",
            " epoch [0040 / 0100] eta: 0 Days 3:8:13        [1399/1923] lr: \t1.0000E-04 loss: \t2.64624\n",
            " epoch [0040 / 0100] eta: 0 Days 3:10:32       [1499/1923] lr: \t1.0000E-04 loss: \t2.65593\n",
            " epoch [0040 / 0100] eta: 0 Days 3:11:11       [1599/1923] lr: \t1.0000E-04 loss: \t2.64986\n",
            " epoch [0040 / 0100] eta: 0 Days 3:7:37        [1699/1923] lr: \t1.0000E-04 loss: \t2.65291\n",
            " epoch [0040 / 0100] eta: 0 Days 3:2:10        [1799/1923] lr: \t1.0000E-04 loss: \t2.65452\n",
            " epoch [0040 / 0100] eta: 0 Days 3:3:26        [1899/1923] lr: \t1.0000E-04 loss: \t2.65701\n"
          ]
        },
        {
          "metadata": {
            "tags": null
          },
          "name": "stderr",
          "output_type": "stream",
          "text": [
            "100%|██████████| 28/28 [00:45<00:00,  1.61s/it]\n"
          ]
        },
        {
          "metadata": {
            "tags": null
          },
          "name": "stdout",
          "output_type": "stream",
          "text": [
            "saving last_epoch checkpoint\n",
            "val AUROC mean 0.7407\n",
            "Atelectasis 0.7375\n",
            "Cardiomegaly 0.8839\n",
            "Effusion 0.8023\n",
            "Infiltration 0.6809\n",
            "Mass 0.7812\n",
            "Nodule 0.6606\n",
            "Pneumothorax 0.7807\n",
            "Consolidation 0.6865\n",
            "Pleural_Thickening 0.6663\n",
            "Hernia 0.7271\n",
            "best epoch 38 best auroc 0.7410757253851785 loss 2.566507 auroc at min loss 0.7411\n",
            " epoch [0041 / 0100] eta: 0 Days 3:8:15        [0099/1923] lr: \t1.0000E-04 loss: \t2.67893\n",
            " epoch [0041 / 0100] eta: 0 Days 3:4:15        [0199/1923] lr: \t1.0000E-04 loss: \t2.70863\n",
            " epoch [0041 / 0100] eta: 0 Days 3:31:7        [0299/1923] lr: \t1.0000E-04 loss: \t2.65360\n",
            " epoch [0041 / 0100] eta: 0 Days 3:8:55        [0399/1923] lr: \t1.0000E-04 loss: \t2.65457\n",
            " epoch [0041 / 0100] eta: 0 Days 3:1:15        [0499/1923] lr: \t1.0000E-04 loss: \t2.65942\n",
            " epoch [0041 / 0100] eta: 0 Days 3:0:33        [0599/1923] lr: \t1.0000E-04 loss: \t2.66707\n",
            " epoch [0041 / 0100] eta: 0 Days 3:10:4        [0699/1923] lr: \t1.0000E-04 loss: \t2.67643\n",
            " epoch [0041 / 0100] eta: 0 Days 3:1:24        [0799/1923] lr: \t1.0000E-04 loss: \t2.66419\n",
            " epoch [0041 / 0100] eta: 0 Days 3:2:58        [0899/1923] lr: \t1.0000E-04 loss: \t2.67841\n",
            " epoch [0041 / 0100] eta: 0 Days 3:10:3        [0999/1923] lr: \t1.0000E-04 loss: \t2.67884\n",
            " epoch [0041 / 0100] eta: 0 Days 3:4:4         [1099/1923] lr: \t1.0000E-04 loss: \t2.67009\n",
            " epoch [0041 / 0100] eta: 0 Days 3:14:3        [1199/1923] lr: \t1.0000E-04 loss: \t2.66645\n",
            " epoch [0041 / 0100] eta: 0 Days 3:1:58        [1299/1923] lr: \t1.0000E-04 loss: \t2.66639\n",
            " epoch [0041 / 0100] eta: 0 Days 2:58:17       [1399/1923] lr: \t1.0000E-04 loss: \t2.66749\n",
            " epoch [0041 / 0100] eta: 0 Days 3:3:3         [1499/1923] lr: \t1.0000E-04 loss: \t2.66432\n",
            " epoch [0041 / 0100] eta: 0 Days 3:48:43       [1599/1923] lr: \t1.0000E-04 loss: \t2.65500\n",
            " epoch [0041 / 0100] eta: 0 Days 3:3:39        [1699/1923] lr: \t1.0000E-04 loss: \t2.65344\n",
            " epoch [0041 / 0100] eta: 0 Days 3:16:19       [1799/1923] lr: \t1.0000E-04 loss: \t2.65566\n",
            " epoch [0041 / 0100] eta: 0 Days 3:20:13       [1899/1923] lr: \t1.0000E-04 loss: \t2.65654\n"
          ]
        },
        {
          "metadata": {
            "tags": null
          },
          "name": "stderr",
          "output_type": "stream",
          "text": [
            "100%|██████████| 28/28 [00:45<00:00,  1.61s/it]\n"
          ]
        },
        {
          "metadata": {
            "tags": null
          },
          "name": "stdout",
          "output_type": "stream",
          "text": [
            "saving last_epoch checkpoint\n",
            "saving best_auroc checkpoint\n",
            "val AUROC mean 0.7416\n",
            "Atelectasis 0.7502\n",
            "Cardiomegaly 0.8891\n",
            "Effusion 0.7965\n",
            "Infiltration 0.6693\n",
            "Mass 0.7737\n",
            "Nodule 0.6606\n",
            "Pneumothorax 0.7797\n",
            "Consolidation 0.7093\n",
            "Pleural_Thickening 0.6571\n",
            "Hernia 0.7306\n"
          ]
        },
        {
          "metadata": {
            "tags": null
          },
          "name": "stderr",
          "output_type": "stream",
          "text": [
            "100%|██████████| 219/219 [01:05<00:00,  3.34it/s]\n"
          ]
        },
        {
          "metadata": {
            "tags": null
          },
          "name": "stdout",
          "output_type": "stream",
          "text": [
            "\n",
            "test_seen AUROC mean 0.7320\n",
            "Atelectasis 0.7193\n",
            "Effusion 0.7984\n",
            "Infiltration 0.6503\n",
            "Mass 0.7316\n",
            "Nodule 0.6959\n",
            "Pneumothorax 0.7781\n",
            "Consolidation 0.6892\n",
            "Cardiomegaly 0.8805\n",
            "Pleural_Thickening 0.6683\n",
            "Hernia 0.7085\n",
            "\n",
            "test_unseen AUROC mean 0.5706\n",
            "Edema 0.5368\n",
            "Pneumonia 0.4518\n",
            "Emphysema 0.6586\n",
            "Fibrosis 0.6353\n",
            "best epoch 41 best auroc 0.7416071959915242 loss 2.593887 auroc at min loss 0.7411\n",
            " epoch [0042 / 0100] eta: 0 Days 3:6:26        [0099/1923] lr: \t1.0000E-04 loss: \t2.76452\n",
            " epoch [0042 / 0100] eta: 0 Days 3:1:47        [0199/1923] lr: \t1.0000E-04 loss: \t2.68217\n",
            " epoch [0042 / 0100] eta: 0 Days 3:3:51        [0299/1923] lr: \t1.0000E-04 loss: \t2.65934\n",
            " epoch [0042 / 0100] eta: 0 Days 3:38:13       [0399/1923] lr: \t1.0000E-04 loss: \t2.64212\n",
            " epoch [0042 / 0100] eta: 0 Days 3:0:8         [0499/1923] lr: \t1.0000E-04 loss: \t2.65920\n",
            " epoch [0042 / 0100] eta: 0 Days 2:58:52       [0599/1923] lr: \t1.0000E-04 loss: \t2.66012\n",
            " epoch [0042 / 0100] eta: 0 Days 3:4:58        [0699/1923] lr: \t1.0000E-04 loss: \t2.64553\n",
            " epoch [0042 / 0100] eta: 0 Days 2:59:15       [0799/1923] lr: \t1.0000E-04 loss: \t2.65070\n",
            " epoch [0042 / 0100] eta: 0 Days 3:26:34       [0899/1923] lr: \t1.0000E-04 loss: \t2.66409\n",
            " epoch [0042 / 0100] eta: 0 Days 2:56:41       [0999/1923] lr: \t1.0000E-04 loss: \t2.66991\n",
            " epoch [0042 / 0100] eta: 0 Days 2:59:8        [1099/1923] lr: \t1.0000E-04 loss: \t2.67438\n",
            " epoch [0042 / 0100] eta: 0 Days 2:55:7        [1199/1923] lr: \t1.0000E-04 loss: \t2.67619\n",
            " epoch [0042 / 0100] eta: 0 Days 3:1:41        [1299/1923] lr: \t1.0000E-04 loss: \t2.67173\n",
            " epoch [0042 / 0100] eta: 0 Days 2:59:39       [1399/1923] lr: \t1.0000E-04 loss: \t2.67606\n",
            " epoch [0042 / 0100] eta: 0 Days 2:58:23       [1499/1923] lr: \t1.0000E-04 loss: \t2.68110\n",
            " epoch [0042 / 0100] eta: 0 Days 2:52:46       [1599/1923] lr: \t1.0000E-04 loss: \t2.67482\n",
            " epoch [0042 / 0100] eta: 0 Days 2:54:6        [1699/1923] lr: \t1.0000E-04 loss: \t2.66867\n",
            " epoch [0042 / 0100] eta: 0 Days 2:55:53       [1799/1923] lr: \t1.0000E-04 loss: \t2.66512\n",
            " epoch [0042 / 0100] eta: 0 Days 2:51:42       [1899/1923] lr: \t1.0000E-04 loss: \t2.66232\n"
          ]
        },
        {
          "metadata": {
            "tags": null
          },
          "name": "stderr",
          "output_type": "stream",
          "text": [
            "100%|██████████| 28/28 [00:43<00:00,  1.55s/it]\n"
          ]
        },
        {
          "metadata": {
            "tags": null
          },
          "name": "stdout",
          "output_type": "stream",
          "text": [
            "saving last_epoch checkpoint\n",
            "val AUROC mean 0.7269\n",
            "Atelectasis 0.7541\n",
            "Cardiomegaly 0.8918\n",
            "Effusion 0.8041\n",
            "Infiltration 0.6842\n",
            "Mass 0.7759\n",
            "Nodule 0.6667\n",
            "Pneumothorax 0.7670\n",
            "Consolidation 0.6938\n",
            "Pleural_Thickening 0.6334\n",
            "Hernia 0.5982\n",
            "best epoch 41 best auroc 0.7416071959915242 loss 2.575896 auroc at min loss 0.7411\n",
            " epoch [0043 / 0100] eta: 0 Days 2:54:40       [0099/1923] lr: \t1.0000E-04 loss: \t2.64452\n",
            " epoch [0043 / 0100] eta: 0 Days 2:56:21       [0199/1923] lr: \t1.0000E-04 loss: \t2.63384\n",
            " epoch [0043 / 0100] eta: 0 Days 2:50:39       [0299/1923] lr: \t1.0000E-04 loss: \t2.63503\n",
            " epoch [0043 / 0100] eta: 0 Days 2:54:23       [0399/1923] lr: \t1.0000E-04 loss: \t2.63404\n",
            " epoch [0043 / 0100] eta: 0 Days 2:52:5        [0499/1923] lr: \t1.0000E-04 loss: \t2.63865\n",
            " epoch [0043 / 0100] eta: 0 Days 2:54:49       [0599/1923] lr: \t1.0000E-04 loss: \t2.63490\n",
            " epoch [0043 / 0100] eta: 0 Days 3:0:46        [0699/1923] lr: \t1.0000E-04 loss: \t2.65958\n",
            " epoch [0043 / 0100] eta: 0 Days 3:1:50        [0799/1923] lr: \t1.0000E-04 loss: \t2.66094\n",
            " epoch [0043 / 0100] eta: 0 Days 2:53:40       [0899/1923] lr: \t1.0000E-04 loss: \t2.64868\n",
            " epoch [0043 / 0100] eta: 0 Days 2:56:2        [0999/1923] lr: \t1.0000E-04 loss: \t2.64889\n",
            " epoch [0043 / 0100] eta: 0 Days 2:59:9        [1099/1923] lr: \t1.0000E-04 loss: \t2.64162\n",
            " epoch [0043 / 0100] eta: 0 Days 2:56:7        [1199/1923] lr: \t1.0000E-04 loss: \t2.63192\n",
            " epoch [0043 / 0100] eta: 0 Days 2:53:3        [1299/1923] lr: \t1.0000E-04 loss: \t2.63557\n",
            " epoch [0043 / 0100] eta: 0 Days 2:55:59       [1399/1923] lr: \t1.0000E-04 loss: \t2.63699\n",
            " epoch [0043 / 0100] eta: 0 Days 2:52:34       [1499/1923] lr: \t1.0000E-04 loss: \t2.63615\n",
            " epoch [0043 / 0100] eta: 0 Days 2:56:11       [1599/1923] lr: \t1.0000E-04 loss: \t2.64461\n",
            " epoch [0043 / 0100] eta: 0 Days 2:54:47       [1699/1923] lr: \t1.0000E-04 loss: \t2.64551\n",
            " epoch [0043 / 0100] eta: 0 Days 3:28:50       [1799/1923] lr: \t1.0000E-04 loss: \t2.64442\n",
            " epoch [0043 / 0100] eta: 0 Days 3:5:41        [1899/1923] lr: \t1.0000E-04 loss: \t2.64387\n"
          ]
        },
        {
          "metadata": {
            "tags": null
          },
          "name": "stderr",
          "output_type": "stream",
          "text": [
            "100%|██████████| 28/28 [00:46<00:00,  1.66s/it]\n"
          ]
        },
        {
          "metadata": {
            "tags": null
          },
          "name": "stdout",
          "output_type": "stream",
          "text": [
            "saving last_epoch checkpoint\n",
            "val AUROC mean 0.7310\n",
            "Atelectasis 0.7467\n",
            "Cardiomegaly 0.8839\n",
            "Effusion 0.8022\n",
            "Infiltration 0.6792\n",
            "Mass 0.7737\n",
            "Nodule 0.6628\n",
            "Pneumothorax 0.7732\n",
            "Consolidation 0.6702\n",
            "Pleural_Thickening 0.6752\n",
            "Hernia 0.6424\n",
            "best epoch 41 best auroc 0.7416071959915242 loss 2.581520 auroc at min loss 0.7411\n",
            " epoch [0044 / 0100] eta: 0 Days 2:53:53       [0099/1923] lr: \t1.0000E-04 loss: \t2.65916\n",
            " epoch [0044 / 0100] eta: 0 Days 2:48:22       [0199/1923] lr: \t1.0000E-04 loss: \t2.65515\n",
            " epoch [0044 / 0100] eta: 0 Days 2:52:40       [0299/1923] lr: \t1.0000E-04 loss: \t2.63577\n",
            " epoch [0044 / 0100] eta: 0 Days 2:46:28       [0399/1923] lr: \t1.0000E-04 loss: \t2.61887\n",
            " epoch [0044 / 0100] eta: 0 Days 2:51:56       [0499/1923] lr: \t1.0000E-04 loss: \t2.61053\n",
            " epoch [0044 / 0100] eta: 0 Days 3:31:32       [0599/1923] lr: \t1.0000E-04 loss: \t2.60064\n",
            " epoch [0044 / 0100] eta: 0 Days 2:55:42       [0699/1923] lr: \t1.0000E-04 loss: \t2.60298\n",
            " epoch [0044 / 0100] eta: 0 Days 2:50:21       [0799/1923] lr: \t1.0000E-04 loss: \t2.59860\n",
            " epoch [0044 / 0100] eta: 0 Days 2:48:35       [0899/1923] lr: \t1.0000E-04 loss: \t2.60591\n",
            " epoch [0044 / 0100] eta: 0 Days 2:49:45       [0999/1923] lr: \t1.0000E-04 loss: \t2.60942\n",
            " epoch [0044 / 0100] eta: 0 Days 3:19:59       [1099/1923] lr: \t1.0000E-04 loss: \t2.61034\n",
            " epoch [0044 / 0100] eta: 0 Days 2:54:21       [1199/1923] lr: \t1.0000E-04 loss: \t2.61124\n",
            " epoch [0044 / 0100] eta: 0 Days 2:59:55       [1299/1923] lr: \t1.0000E-04 loss: \t2.60719\n",
            " epoch [0044 / 0100] eta: 0 Days 2:50:12       [1399/1923] lr: \t1.0000E-04 loss: \t2.61040\n",
            " epoch [0044 / 0100] eta: 0 Days 2:49:58       [1499/1923] lr: \t1.0000E-04 loss: \t2.61585\n",
            " epoch [0044 / 0100] eta: 0 Days 2:48:7        [1599/1923] lr: \t1.0000E-04 loss: \t2.61582\n",
            " epoch [0044 / 0100] eta: 0 Days 2:58:34       [1699/1923] lr: \t1.0000E-04 loss: \t2.61943\n",
            " epoch [0044 / 0100] eta: 0 Days 2:50:35       [1799/1923] lr: \t1.0000E-04 loss: \t2.62320\n",
            " epoch [0044 / 0100] eta: 0 Days 2:48:9        [1899/1923] lr: \t1.0000E-04 loss: \t2.62345\n"
          ]
        },
        {
          "metadata": {
            "tags": null
          },
          "name": "stderr",
          "output_type": "stream",
          "text": [
            "100%|██████████| 28/28 [00:43<00:00,  1.54s/it]\n"
          ]
        },
        {
          "metadata": {
            "tags": null
          },
          "name": "stdout",
          "output_type": "stream",
          "text": [
            "saving last_epoch checkpoint\n",
            "val AUROC mean 0.7407\n",
            "Atelectasis 0.7426\n",
            "Cardiomegaly 0.8803\n",
            "Effusion 0.8000\n",
            "Infiltration 0.6822\n",
            "Mass 0.7857\n",
            "Nodule 0.6697\n",
            "Pneumothorax 0.7823\n",
            "Consolidation 0.6972\n",
            "Pleural_Thickening 0.6739\n",
            "Hernia 0.6926\n",
            "best epoch 41 best auroc 0.7416071959915242 loss 2.557769 auroc at min loss 0.7411\n",
            " epoch [0045 / 0100] eta: 0 Days 2:50:34       [0099/1923] lr: \t1.0000E-04 loss: \t2.62475\n",
            " epoch [0045 / 0100] eta: 0 Days 3:12:54       [0199/1923] lr: \t1.0000E-04 loss: \t2.62843\n",
            " epoch [0045 / 0100] eta: 0 Days 2:50:50       [0299/1923] lr: \t1.0000E-04 loss: \t2.63518\n",
            " epoch [0045 / 0100] eta: 0 Days 3:15:46       [0399/1923] lr: \t1.0000E-04 loss: \t2.62706\n",
            " epoch [0045 / 0100] eta: 0 Days 2:49:20       [0499/1923] lr: \t1.0000E-04 loss: \t2.62997\n",
            " epoch [0045 / 0100] eta: 0 Days 2:46:25       [0599/1923] lr: \t1.0000E-04 loss: \t2.63063\n",
            " epoch [0045 / 0100] eta: 0 Days 2:48:6        [0699/1923] lr: \t1.0000E-04 loss: \t2.64184\n",
            " epoch [0045 / 0100] eta: 0 Days 2:52:53       [0799/1923] lr: \t1.0000E-04 loss: \t2.63405\n",
            " epoch [0045 / 0100] eta: 0 Days 2:52:22       [0899/1923] lr: \t1.0000E-04 loss: \t2.62339\n",
            " epoch [0045 / 0100] eta: 0 Days 2:59:40       [0999/1923] lr: \t1.0000E-04 loss: \t2.62405\n",
            " epoch [0045 / 0100] eta: 0 Days 2:48:6        [1099/1923] lr: \t1.0000E-04 loss: \t2.61767\n",
            " epoch [0045 / 0100] eta: 0 Days 3:29:26       [1199/1923] lr: \t1.0000E-04 loss: \t2.62226\n",
            " epoch [0045 / 0100] eta: 0 Days 2:50:41       [1299/1923] lr: \t1.0000E-04 loss: \t2.63489\n",
            " epoch [0045 / 0100] eta: 0 Days 2:53:29       [1399/1923] lr: \t1.0000E-04 loss: \t2.63449\n",
            " epoch [0045 / 0100] eta: 0 Days 2:54:33       [1499/1923] lr: \t1.0000E-04 loss: \t2.63063\n",
            " epoch [0045 / 0100] eta: 0 Days 2:47:1        [1599/1923] lr: \t1.0000E-04 loss: \t2.62951\n",
            " epoch [0045 / 0100] eta: 0 Days 2:48:16       [1699/1923] lr: \t1.0000E-04 loss: \t2.62481\n",
            " epoch [0045 / 0100] eta: 0 Days 2:50:33       [1799/1923] lr: \t1.0000E-04 loss: \t2.62806\n",
            " epoch [0045 / 0100] eta: 0 Days 2:45:53       [1899/1923] lr: \t1.0000E-04 loss: \t2.62639\n"
          ]
        },
        {
          "metadata": {
            "tags": null
          },
          "name": "stderr",
          "output_type": "stream",
          "text": [
            "100%|██████████| 28/28 [00:46<00:00,  1.64s/it]\n"
          ]
        },
        {
          "metadata": {
            "tags": null
          },
          "name": "stdout",
          "output_type": "stream",
          "text": [
            "saving last_epoch checkpoint\n",
            "val AUROC mean 0.7403\n",
            "Atelectasis 0.7368\n",
            "Cardiomegaly 0.8877\n",
            "Effusion 0.7957\n",
            "Infiltration 0.6884\n",
            "Mass 0.7810\n",
            "Nodule 0.6730\n",
            "Pneumothorax 0.7901\n",
            "Consolidation 0.7045\n",
            "Pleural_Thickening 0.6673\n",
            "Hernia 0.6785\n",
            "best epoch 41 best auroc 0.7416071959915242 loss 2.582204 auroc at min loss 0.7411\n",
            " epoch [0046 / 0100] eta: 0 Days 3:21:54       [0099/1923] lr: \t1.0000E-04 loss: \t2.56598\n",
            " epoch [0046 / 0100] eta: 0 Days 2:51:40       [0199/1923] lr: \t1.0000E-04 loss: \t2.55052\n",
            " epoch [0046 / 0100] eta: 0 Days 2:45:27       [0299/1923] lr: \t1.0000E-04 loss: \t2.56139\n",
            " epoch [0046 / 0100] eta: 0 Days 2:56:16       [0399/1923] lr: \t1.0000E-04 loss: \t2.56728\n",
            " epoch [0046 / 0100] eta: 0 Days 2:48:42       [0499/1923] lr: \t1.0000E-04 loss: \t2.58291\n",
            " epoch [0046 / 0100] eta: 0 Days 2:52:45       [0599/1923] lr: \t1.0000E-04 loss: \t2.60340\n",
            " epoch [0046 / 0100] eta: 0 Days 2:50:8        [0699/1923] lr: \t1.0000E-04 loss: \t2.60928\n",
            " epoch [0046 / 0100] eta: 0 Days 2:53:28       [0799/1923] lr: \t1.0000E-04 loss: \t2.60856\n",
            " epoch [0046 / 0100] eta: 0 Days 2:52:2        [0899/1923] lr: \t1.0000E-04 loss: \t2.61614\n",
            " epoch [0046 / 0100] eta: 0 Days 2:45:24       [0999/1923] lr: \t1.0000E-04 loss: \t2.62271\n",
            " epoch [0046 / 0100] eta: 0 Days 2:41:57       [1099/1923] lr: \t1.0000E-04 loss: \t2.62097\n",
            " epoch [0046 / 0100] eta: 0 Days 2:47:58       [1199/1923] lr: \t1.0000E-04 loss: \t2.62325\n",
            " epoch [0046 / 0100] eta: 0 Days 2:45:59       [1299/1923] lr: \t1.0000E-04 loss: \t2.62126\n",
            " epoch [0046 / 0100] eta: 0 Days 2:47:26       [1399/1923] lr: \t1.0000E-04 loss: \t2.61366\n",
            " epoch [0046 / 0100] eta: 0 Days 2:44:48       [1499/1923] lr: \t1.0000E-04 loss: \t2.60931\n",
            " epoch [0046 / 0100] eta: 0 Days 3:28:2        [1599/1923] lr: \t1.0000E-04 loss: \t2.61106\n",
            " epoch [0046 / 0100] eta: 0 Days 2:43:8        [1699/1923] lr: \t1.0000E-04 loss: \t2.61886\n",
            " epoch [0046 / 0100] eta: 0 Days 2:48:22       [1799/1923] lr: \t1.0000E-04 loss: \t2.61649\n",
            " epoch [0046 / 0100] eta: 0 Days 2:48:25       [1899/1923] lr: \t1.0000E-04 loss: \t2.61805\n"
          ]
        },
        {
          "metadata": {
            "tags": null
          },
          "name": "stderr",
          "output_type": "stream",
          "text": [
            "100%|██████████| 28/28 [00:46<00:00,  1.68s/it]\n"
          ]
        },
        {
          "metadata": {
            "tags": null
          },
          "name": "stdout",
          "output_type": "stream",
          "text": [
            "saving last_epoch checkpoint\n",
            "saving min_loss checkpoint\n",
            "val AUROC mean 0.7408\n",
            "Atelectasis 0.7501\n",
            "Cardiomegaly 0.8947\n",
            "Effusion 0.8111\n",
            "Infiltration 0.6904\n",
            "Mass 0.7804\n",
            "Nodule 0.6560\n",
            "Pneumothorax 0.7976\n",
            "Consolidation 0.6955\n",
            "Pleural_Thickening 0.6357\n",
            "Hernia 0.6968\n"
          ]
        },
        {
          "metadata": {
            "tags": null
          },
          "name": "stderr",
          "output_type": "stream",
          "text": [
            "100%|██████████| 219/219 [01:04<00:00,  3.40it/s]\n"
          ]
        },
        {
          "metadata": {
            "tags": null
          },
          "name": "stdout",
          "output_type": "stream",
          "text": [
            "\n",
            "test_seen AUROC mean 0.7360\n",
            "Atelectasis 0.7156\n",
            "Effusion 0.8091\n",
            "Infiltration 0.6593\n",
            "Mass 0.7436\n",
            "Nodule 0.6977\n",
            "Pneumothorax 0.8093\n",
            "Consolidation 0.6868\n",
            "Cardiomegaly 0.8779\n",
            "Pleural_Thickening 0.6606\n",
            "Hernia 0.7001\n",
            "\n",
            "test_unseen AUROC mean 0.5786\n",
            "Edema 0.4871\n",
            "Pneumonia 0.4861\n",
            "Emphysema 0.6630\n",
            "Fibrosis 0.6780\n",
            "best epoch 41 best auroc 0.7416071959915242 loss 2.539946 auroc at min loss 0.7408\n",
            " epoch [0047 / 0100] eta: 0 Days 2:49:55       [0099/1923] lr: \t1.0000E-04 loss: \t2.64757\n",
            " epoch [0047 / 0100] eta: 0 Days 2:49:38       [0199/1923] lr: \t1.0000E-04 loss: \t2.65283\n",
            " epoch [0047 / 0100] eta: 0 Days 2:49:32       [0299/1923] lr: \t1.0000E-04 loss: \t2.65063\n",
            " epoch [0047 / 0100] eta: 0 Days 3:11:29       [0399/1923] lr: \t1.0000E-04 loss: \t2.64541\n",
            " epoch [0047 / 0100] eta: 0 Days 2:43:36       [0499/1923] lr: \t1.0000E-04 loss: \t2.64000\n",
            " epoch [0047 / 0100] eta: 0 Days 2:41:5        [0599/1923] lr: \t1.0000E-04 loss: \t2.62924\n",
            " epoch [0047 / 0100] eta: 0 Days 2:45:41       [0699/1923] lr: \t1.0000E-04 loss: \t2.61579\n",
            " epoch [0047 / 0100] eta: 0 Days 2:46:47       [0799/1923] lr: \t1.0000E-04 loss: \t2.61304\n",
            " epoch [0047 / 0100] eta: 0 Days 2:48:17       [0899/1923] lr: \t1.0000E-04 loss: \t2.60497\n",
            " epoch [0047 / 0100] eta: 0 Days 2:44:3        [0999/1923] lr: \t1.0000E-04 loss: \t2.61792\n",
            " epoch [0047 / 0100] eta: 0 Days 2:51:54       [1099/1923] lr: \t1.0000E-04 loss: \t2.60975\n",
            " epoch [0047 / 0100] eta: 0 Days 2:46:58       [1199/1923] lr: \t1.0000E-04 loss: \t2.60474\n",
            " epoch [0047 / 0100] eta: 0 Days 2:46:14       [1299/1923] lr: \t1.0000E-04 loss: \t2.60658\n",
            " epoch [0047 / 0100] eta: 0 Days 2:42:7        [1399/1923] lr: \t1.0000E-04 loss: \t2.61182\n",
            " epoch [0047 / 0100] eta: 0 Days 2:54:46       [1499/1923] lr: \t1.0000E-04 loss: \t2.61207\n",
            " epoch [0047 / 0100] eta: 0 Days 2:44:24       [1599/1923] lr: \t1.0000E-04 loss: \t2.61146\n",
            " epoch [0047 / 0100] eta: 0 Days 2:49:22       [1699/1923] lr: \t1.0000E-04 loss: \t2.61863\n",
            " epoch [0047 / 0100] eta: 0 Days 2:44:13       [1799/1923] lr: \t1.0000E-04 loss: \t2.61569\n",
            " epoch [0047 / 0100] eta: 0 Days 2:44:30       [1899/1923] lr: \t1.0000E-04 loss: \t2.61834\n"
          ]
        },
        {
          "metadata": {
            "tags": null
          },
          "name": "stderr",
          "output_type": "stream",
          "text": [
            "100%|██████████| 28/28 [00:44<00:00,  1.58s/it]\n"
          ]
        },
        {
          "metadata": {
            "tags": null
          },
          "name": "stdout",
          "output_type": "stream",
          "text": [
            "saving last_epoch checkpoint\n",
            "val AUROC mean 0.7407\n",
            "Atelectasis 0.7549\n",
            "Cardiomegaly 0.8914\n",
            "Effusion 0.7936\n",
            "Infiltration 0.6919\n",
            "Mass 0.7852\n",
            "Nodule 0.6773\n",
            "Pneumothorax 0.7790\n",
            "Consolidation 0.7019\n",
            "Pleural_Thickening 0.6752\n",
            "Hernia 0.6561\n",
            "best epoch 41 best auroc 0.7416071959915242 loss 2.548095 auroc at min loss 0.7408\n",
            " epoch [0048 / 0100] eta: 0 Days 2:50:55       [0099/1923] lr: \t1.0000E-04 loss: \t2.63415\n",
            " epoch [0048 / 0100] eta: 0 Days 2:43:7        [0199/1923] lr: \t1.0000E-04 loss: \t2.62295\n",
            " epoch [0048 / 0100] eta: 0 Days 2:54:13       [0299/1923] lr: \t1.0000E-04 loss: \t2.61155\n",
            " epoch [0048 / 0100] eta: 0 Days 2:39:41       [0399/1923] lr: \t1.0000E-04 loss: \t2.61480\n",
            " epoch [0048 / 0100] eta: 0 Days 2:37:41       [0499/1923] lr: \t1.0000E-04 loss: \t2.62324\n",
            " epoch [0048 / 0100] eta: 0 Days 2:40:7        [0599/1923] lr: \t1.0000E-04 loss: \t2.59998\n",
            " epoch [0048 / 0100] eta: 0 Days 2:51:52       [0699/1923] lr: \t1.0000E-04 loss: \t2.57417\n",
            " epoch [0048 / 0100] eta: 0 Days 2:36:19       [0799/1923] lr: \t1.0000E-04 loss: \t2.57517\n",
            " epoch [0048 / 0100] eta: 0 Days 2:39:45       [0899/1923] lr: \t1.0000E-04 loss: \t2.57385\n",
            " epoch [0048 / 0100] eta: 0 Days 2:38:9        [0999/1923] lr: \t1.0000E-04 loss: \t2.57569\n",
            " epoch [0048 / 0100] eta: 0 Days 2:50:21       [1099/1923] lr: \t1.0000E-04 loss: \t2.58350\n",
            " epoch [0048 / 0100] eta: 0 Days 2:37:58       [1199/1923] lr: \t1.0000E-04 loss: \t2.58061\n",
            " epoch [0048 / 0100] eta: 0 Days 2:35:16       [1299/1923] lr: \t1.0000E-04 loss: \t2.58231\n",
            " epoch [0048 / 0100] eta: 0 Days 2:35:30       [1399/1923] lr: \t1.0000E-04 loss: \t2.57757\n",
            " epoch [0048 / 0100] eta: 0 Days 2:35:51       [1499/1923] lr: \t1.0000E-04 loss: \t2.57705\n",
            " epoch [0048 / 0100] eta: 0 Days 2:39:59       [1599/1923] lr: \t1.0000E-04 loss: \t2.57397\n",
            " epoch [0048 / 0100] eta: 0 Days 2:39:41       [1699/1923] lr: \t1.0000E-04 loss: \t2.57812\n",
            " epoch [0048 / 0100] eta: 0 Days 2:39:22       [1799/1923] lr: \t1.0000E-04 loss: \t2.58467\n",
            " epoch [0048 / 0100] eta: 0 Days 3:5:17        [1899/1923] lr: \t1.0000E-04 loss: \t2.58510\n"
          ]
        },
        {
          "metadata": {
            "tags": null
          },
          "name": "stderr",
          "output_type": "stream",
          "text": [
            "100%|██████████| 28/28 [00:45<00:00,  1.61s/it]\n"
          ]
        },
        {
          "metadata": {
            "tags": null
          },
          "name": "stdout",
          "output_type": "stream",
          "text": [
            "saving last_epoch checkpoint\n",
            "val AUROC mean 0.7402\n",
            "Atelectasis 0.7641\n",
            "Cardiomegaly 0.8855\n",
            "Effusion 0.8066\n",
            "Infiltration 0.6832\n",
            "Mass 0.7752\n",
            "Nodule 0.6764\n",
            "Pneumothorax 0.7921\n",
            "Consolidation 0.6939\n",
            "Pleural_Thickening 0.6627\n",
            "Hernia 0.6628\n",
            "best epoch 41 best auroc 0.7416071959915242 loss 2.561337 auroc at min loss 0.7408\n",
            " epoch [0049 / 0100] eta: 0 Days 2:38:8        [0099/1923] lr: \t1.0000E-04 loss: \t2.52675\n",
            " epoch [0049 / 0100] eta: 0 Days 3:7:47        [0199/1923] lr: \t1.0000E-04 loss: \t2.62049\n",
            " epoch [0049 / 0100] eta: 0 Days 2:34:44       [0299/1923] lr: \t1.0000E-04 loss: \t2.59239\n",
            " epoch [0049 / 0100] eta: 0 Days 2:31:46       [0399/1923] lr: \t1.0000E-04 loss: \t2.58668\n",
            " epoch [0049 / 0100] eta: 0 Days 2:40:16       [0499/1923] lr: \t1.0000E-04 loss: \t2.57437\n",
            " epoch [0049 / 0100] eta: 0 Days 2:36:47       [0599/1923] lr: \t1.0000E-04 loss: \t2.58813\n",
            " epoch [0049 / 0100] eta: 0 Days 2:34:27       [0699/1923] lr: \t1.0000E-04 loss: \t2.57705\n",
            " epoch [0049 / 0100] eta: 0 Days 2:38:34       [0799/1923] lr: \t1.0000E-04 loss: \t2.57972\n",
            " epoch [0049 / 0100] eta: 0 Days 2:34:55       [0899/1923] lr: \t1.0000E-04 loss: \t2.58996\n",
            " epoch [0049 / 0100] eta: 0 Days 2:39:6        [0999/1923] lr: \t1.0000E-04 loss: \t2.58634\n",
            " epoch [0049 / 0100] eta: 0 Days 2:34:15       [1099/1923] lr: \t1.0000E-04 loss: \t2.57700\n",
            " epoch [0049 / 0100] eta: 0 Days 2:36:2        [1199/1923] lr: \t1.0000E-04 loss: \t2.57455\n",
            " epoch [0049 / 0100] eta: 0 Days 2:38:43       [1299/1923] lr: \t1.0000E-04 loss: \t2.58373\n",
            " epoch [0049 / 0100] eta: 0 Days 2:35:8        [1399/1923] lr: \t1.0000E-04 loss: \t2.58228\n",
            " epoch [0049 / 0100] eta: 0 Days 3:6:50        [1499/1923] lr: \t1.0000E-04 loss: \t2.57657\n",
            " epoch [0049 / 0100] eta: 0 Days 2:28:28       [1599/1923] lr: \t1.0000E-04 loss: \t2.57454\n",
            " epoch [0049 / 0100] eta: 0 Days 2:39:30       [1699/1923] lr: \t1.0000E-04 loss: \t2.57894\n",
            " epoch [0049 / 0100] eta: 0 Days 2:30:43       [1799/1923] lr: \t1.0000E-04 loss: \t2.57865\n",
            " epoch [0049 / 0100] eta: 0 Days 2:30:26       [1899/1923] lr: \t1.0000E-04 loss: \t2.57779\n"
          ]
        },
        {
          "metadata": {
            "tags": null
          },
          "name": "stderr",
          "output_type": "stream",
          "text": [
            "100%|██████████| 28/28 [00:43<00:00,  1.57s/it]\n"
          ]
        },
        {
          "metadata": {
            "tags": null
          },
          "name": "stdout",
          "output_type": "stream",
          "text": [
            "saving last_epoch checkpoint\n",
            "saving best_auroc checkpoint\n",
            "saving min_loss checkpoint\n",
            "val AUROC mean 0.7433\n",
            "Atelectasis 0.7457\n",
            "Cardiomegaly 0.8874\n",
            "Effusion 0.8027\n",
            "Infiltration 0.6827\n",
            "Mass 0.7871\n",
            "Nodule 0.6723\n",
            "Pneumothorax 0.8036\n",
            "Consolidation 0.7000\n",
            "Pleural_Thickening 0.6780\n",
            "Hernia 0.6739\n"
          ]
        },
        {
          "metadata": {
            "tags": null
          },
          "name": "stderr",
          "output_type": "stream",
          "text": [
            "100%|██████████| 219/219 [01:04<00:00,  3.41it/s]\n"
          ]
        },
        {
          "metadata": {
            "tags": null
          },
          "name": "stdout",
          "output_type": "stream",
          "text": [
            "\n",
            "test_seen AUROC mean 0.7316\n",
            "Atelectasis 0.7189\n",
            "Effusion 0.7989\n",
            "Infiltration 0.6553\n",
            "Mass 0.7599\n",
            "Nodule 0.6981\n",
            "Pneumothorax 0.8053\n",
            "Consolidation 0.6736\n",
            "Cardiomegaly 0.8827\n",
            "Pleural_Thickening 0.6707\n",
            "Hernia 0.6529\n",
            "\n",
            "test_unseen AUROC mean 0.5823\n",
            "Edema 0.5408\n",
            "Pneumonia 0.4994\n",
            "Emphysema 0.6792\n",
            "Fibrosis 0.6099\n",
            "best epoch 49 best auroc 0.743346208140722 loss 2.524628 auroc at min loss 0.7433\n",
            " epoch [0050 / 0100] eta: 0 Days 2:34:9        [0099/1923] lr: \t1.0000E-04 loss: \t2.56607\n",
            " epoch [0050 / 0100] eta: 0 Days 2:40:12       [0199/1923] lr: \t1.0000E-04 loss: \t2.57290\n",
            " epoch [0050 / 0100] eta: 0 Days 2:37:55       [0299/1923] lr: \t1.0000E-04 loss: \t2.57262\n",
            " epoch [0050 / 0100] eta: 0 Days 2:39:38       [0399/1923] lr: \t1.0000E-04 loss: \t2.58300\n",
            " epoch [0050 / 0100] eta: 0 Days 2:49:22       [0499/1923] lr: \t1.0000E-04 loss: \t2.58882\n",
            " epoch [0050 / 0100] eta: 0 Days 2:35:42       [0599/1923] lr: \t1.0000E-04 loss: \t2.56604\n",
            " epoch [0050 / 0100] eta: 0 Days 2:39:16       [0699/1923] lr: \t1.0000E-04 loss: \t2.56428\n",
            " epoch [0050 / 0100] eta: 0 Days 2:31:54       [0799/1923] lr: \t1.0000E-04 loss: \t2.56459\n",
            " epoch [0050 / 0100] eta: 0 Days 2:52:57       [0899/1923] lr: \t1.0000E-04 loss: \t2.55223\n",
            " epoch [0050 / 0100] eta: 0 Days 2:58:31       [0999/1923] lr: \t1.0000E-04 loss: \t2.55500\n",
            " epoch [0050 / 0100] eta: 0 Days 2:37:29       [1099/1923] lr: \t1.0000E-04 loss: \t2.55752\n",
            " epoch [0050 / 0100] eta: 0 Days 2:49:15       [1199/1923] lr: \t1.0000E-04 loss: \t2.56553\n",
            " epoch [0050 / 0100] eta: 0 Days 2:36:26       [1299/1923] lr: \t1.0000E-04 loss: \t2.56342\n",
            " epoch [0050 / 0100] eta: 0 Days 2:31:27       [1399/1923] lr: \t1.0000E-04 loss: \t2.56257\n",
            " epoch [0050 / 0100] eta: 0 Days 2:35:50       [1499/1923] lr: \t1.0000E-04 loss: \t2.56440\n",
            " epoch [0050 / 0100] eta: 0 Days 2:27:48       [1599/1923] lr: \t1.0000E-04 loss: \t2.56726\n",
            " epoch [0050 / 0100] eta: 0 Days 2:34:6        [1699/1923] lr: \t1.0000E-04 loss: \t2.56915\n",
            " epoch [0050 / 0100] eta: 0 Days 2:37:39       [1799/1923] lr: \t1.0000E-04 loss: \t2.56421\n",
            " epoch [0050 / 0100] eta: 0 Days 2:31:28       [1899/1923] lr: \t1.0000E-04 loss: \t2.56513\n"
          ]
        },
        {
          "metadata": {
            "tags": null
          },
          "name": "stderr",
          "output_type": "stream",
          "text": [
            "100%|██████████| 28/28 [00:45<00:00,  1.64s/it]\n"
          ]
        },
        {
          "metadata": {
            "tags": null
          },
          "name": "stdout",
          "output_type": "stream",
          "text": [
            "saving last_epoch checkpoint\n",
            "val AUROC mean 0.7394\n",
            "Atelectasis 0.7460\n",
            "Cardiomegaly 0.8928\n",
            "Effusion 0.8090\n",
            "Infiltration 0.6717\n",
            "Mass 0.7942\n",
            "Nodule 0.6815\n",
            "Pneumothorax 0.7877\n",
            "Consolidation 0.7099\n",
            "Pleural_Thickening 0.6574\n",
            "Hernia 0.6434\n",
            "best epoch 49 best auroc 0.743346208140722 loss 2.536829 auroc at min loss 0.7433\n",
            " epoch [0051 / 0100] eta: 0 Days 2:27:13       [0099/1923] lr: \t1.0000E-04 loss: \t2.54304\n",
            " epoch [0051 / 0100] eta: 0 Days 2:56:15       [0199/1923] lr: \t1.0000E-04 loss: \t2.51286\n",
            " epoch [0051 / 0100] eta: 0 Days 2:27:12       [0299/1923] lr: \t1.0000E-04 loss: \t2.54408\n",
            " epoch [0051 / 0100] eta: 0 Days 2:26:28       [0399/1923] lr: \t1.0000E-04 loss: \t2.55221\n",
            " epoch [0051 / 0100] eta: 0 Days 2:37:33       [0499/1923] lr: \t1.0000E-04 loss: \t2.54557\n",
            " epoch [0051 / 0100] eta: 0 Days 2:27:57       [0599/1923] lr: \t1.0000E-04 loss: \t2.54570\n",
            " epoch [0051 / 0100] eta: 0 Days 2:31:26       [0699/1923] lr: \t1.0000E-04 loss: \t2.54456\n",
            " epoch [0051 / 0100] eta: 0 Days 2:41:35       [0799/1923] lr: \t1.0000E-04 loss: \t2.52570\n",
            " epoch [0051 / 0100] eta: 0 Days 2:27:42       [0899/1923] lr: \t1.0000E-04 loss: \t2.53165\n",
            " epoch [0051 / 0100] eta: 0 Days 2:50:24       [0999/1923] lr: \t1.0000E-04 loss: \t2.54070\n",
            " epoch [0051 / 0100] eta: 0 Days 2:27:40       [1099/1923] lr: \t1.0000E-04 loss: \t2.55309\n",
            " epoch [0051 / 0100] eta: 0 Days 2:27:7        [1199/1923] lr: \t1.0000E-04 loss: \t2.55536\n",
            " epoch [0051 / 0100] eta: 0 Days 2:32:7        [1299/1923] lr: \t1.0000E-04 loss: \t2.55901\n",
            " epoch [0051 / 0100] eta: 0 Days 2:29:56       [1399/1923] lr: \t1.0000E-04 loss: \t2.56235\n",
            " epoch [0051 / 0100] eta: 0 Days 2:29:55       [1499/1923] lr: \t1.0000E-04 loss: \t2.56471\n",
            " epoch [0051 / 0100] eta: 0 Days 2:26:34       [1599/1923] lr: \t1.0000E-04 loss: \t2.56594\n",
            " epoch [0051 / 0100] eta: 0 Days 2:29:50       [1699/1923] lr: \t1.0000E-04 loss: \t2.56428\n",
            " epoch [0051 / 0100] eta: 0 Days 2:30:41       [1799/1923] lr: \t1.0000E-04 loss: \t2.56182\n",
            " epoch [0051 / 0100] eta: 0 Days 2:27:4        [1899/1923] lr: \t1.0000E-04 loss: \t2.56278\n"
          ]
        },
        {
          "metadata": {
            "tags": null
          },
          "name": "stderr",
          "output_type": "stream",
          "text": [
            "100%|██████████| 28/28 [00:43<00:00,  1.57s/it]\n"
          ]
        },
        {
          "metadata": {
            "tags": null
          },
          "name": "stdout",
          "output_type": "stream",
          "text": [
            "saving last_epoch checkpoint\n",
            "saving best_auroc checkpoint\n",
            "saving min_loss checkpoint\n",
            "val AUROC mean 0.7468\n",
            "Atelectasis 0.7444\n",
            "Cardiomegaly 0.8956\n",
            "Effusion 0.8137\n",
            "Infiltration 0.6811\n",
            "Mass 0.7843\n",
            "Nodule 0.6850\n",
            "Pneumothorax 0.7977\n",
            "Consolidation 0.7040\n",
            "Pleural_Thickening 0.6632\n",
            "Hernia 0.6991\n"
          ]
        },
        {
          "metadata": {
            "tags": null
          },
          "name": "stderr",
          "output_type": "stream",
          "text": [
            "100%|██████████| 219/219 [01:04<00:00,  3.40it/s]\n"
          ]
        },
        {
          "metadata": {
            "tags": null
          },
          "name": "stdout",
          "output_type": "stream",
          "text": [
            "\n",
            "test_seen AUROC mean 0.7394\n",
            "Atelectasis 0.7188\n",
            "Effusion 0.8056\n",
            "Infiltration 0.6572\n",
            "Mass 0.7463\n",
            "Nodule 0.7045\n",
            "Pneumothorax 0.8017\n",
            "Consolidation 0.6883\n",
            "Cardiomegaly 0.8853\n",
            "Pleural_Thickening 0.6585\n",
            "Hernia 0.7275\n",
            "\n",
            "test_unseen AUROC mean 0.5746\n",
            "Edema 0.4992\n",
            "Pneumonia 0.4927\n",
            "Emphysema 0.6579\n",
            "Fibrosis 0.6485\n",
            "best epoch 51 best auroc 0.746806081574233 loss 2.487436 auroc at min loss 0.7468\n",
            " epoch [0052 / 0100] eta: 0 Days 2:27:14       [0099/1923] lr: \t1.0000E-04 loss: \t2.65178\n",
            " epoch [0052 / 0100] eta: 0 Days 2:27:59       [0199/1923] lr: \t1.0000E-04 loss: \t2.60339\n",
            " epoch [0052 / 0100] eta: 0 Days 2:33:30       [0299/1923] lr: \t1.0000E-04 loss: \t2.59607\n",
            " epoch [0052 / 0100] eta: 0 Days 2:27:47       [0399/1923] lr: \t1.0000E-04 loss: \t2.58886\n",
            " epoch [0052 / 0100] eta: 0 Days 2:25:37       [0499/1923] lr: \t1.0000E-04 loss: \t2.58032\n",
            " epoch [0052 / 0100] eta: 0 Days 2:28:13       [0599/1923] lr: \t1.0000E-04 loss: \t2.57414\n",
            " epoch [0052 / 0100] eta: 0 Days 2:29:10       [0699/1923] lr: \t1.0000E-04 loss: \t2.58675\n",
            " epoch [0052 / 0100] eta: 0 Days 2:33:12       [0799/1923] lr: \t1.0000E-04 loss: \t2.57447\n",
            " epoch [0052 / 0100] eta: 0 Days 2:25:36       [0899/1923] lr: \t1.0000E-04 loss: \t2.56743\n",
            " epoch [0052 / 0100] eta: 0 Days 2:24:10       [0999/1923] lr: \t1.0000E-04 loss: \t2.56193\n",
            " epoch [0052 / 0100] eta: 0 Days 2:25:9        [1099/1923] lr: \t1.0000E-04 loss: \t2.56711\n",
            " epoch [0052 / 0100] eta: 0 Days 2:23:42       [1199/1923] lr: \t1.0000E-04 loss: \t2.56825\n",
            " epoch [0052 / 0100] eta: 0 Days 3:2:45        [1299/1923] lr: \t1.0000E-04 loss: \t2.56895\n",
            " epoch [0052 / 0100] eta: 0 Days 2:22:59       [1399/1923] lr: \t1.0000E-04 loss: \t2.55882\n",
            " epoch [0052 / 0100] eta: 0 Days 2:26:28       [1499/1923] lr: \t1.0000E-04 loss: \t2.56032\n",
            " epoch [0052 / 0100] eta: 0 Days 2:27:5        [1599/1923] lr: \t1.0000E-04 loss: \t2.55901\n",
            " epoch [0052 / 0100] eta: 0 Days 2:30:19       [1699/1923] lr: \t1.0000E-04 loss: \t2.55712\n",
            " epoch [0052 / 0100] eta: 0 Days 2:51:47       [1799/1923] lr: \t1.0000E-04 loss: \t2.56055\n",
            " epoch [0052 / 0100] eta: 0 Days 2:23:47       [1899/1923] lr: \t1.0000E-04 loss: \t2.55805\n"
          ]
        },
        {
          "metadata": {
            "tags": null
          },
          "name": "stderr",
          "output_type": "stream",
          "text": [
            "100%|██████████| 28/28 [00:43<00:00,  1.55s/it]\n"
          ]
        },
        {
          "metadata": {
            "tags": null
          },
          "name": "stdout",
          "output_type": "stream",
          "text": [
            "saving last_epoch checkpoint\n",
            "saving best_auroc checkpoint\n",
            "val AUROC mean 0.7480\n",
            "Atelectasis 0.7567\n",
            "Cardiomegaly 0.8889\n",
            "Effusion 0.8065\n",
            "Infiltration 0.6930\n",
            "Mass 0.8154\n",
            "Nodule 0.6812\n",
            "Pneumothorax 0.7771\n",
            "Consolidation 0.6945\n",
            "Pleural_Thickening 0.6897\n",
            "Hernia 0.6764\n"
          ]
        },
        {
          "metadata": {
            "tags": null
          },
          "name": "stderr",
          "output_type": "stream",
          "text": [
            "100%|██████████| 219/219 [01:04<00:00,  3.41it/s]\n"
          ]
        },
        {
          "metadata": {
            "tags": null
          },
          "name": "stdout",
          "output_type": "stream",
          "text": [
            "\n",
            "test_seen AUROC mean 0.7424\n",
            "Atelectasis 0.7298\n",
            "Effusion 0.8015\n",
            "Infiltration 0.6635\n",
            "Mass 0.7749\n",
            "Nodule 0.7124\n",
            "Pneumothorax 0.7906\n",
            "Consolidation 0.6739\n",
            "Cardiomegaly 0.8786\n",
            "Pleural_Thickening 0.6781\n",
            "Hernia 0.7209\n",
            "\n",
            "test_unseen AUROC mean 0.5877\n",
            "Edema 0.4900\n",
            "Pneumonia 0.5275\n",
            "Emphysema 0.6819\n",
            "Fibrosis 0.6515\n",
            "best epoch 52 best auroc 0.7479504653261703 loss 2.505309 auroc at min loss 0.7468\n",
            " epoch [0053 / 0100] eta: 0 Days 2:24:13       [0099/1923] lr: \t1.0000E-04 loss: \t2.57626\n",
            " epoch [0053 / 0100] eta: 0 Days 2:28:14       [0199/1923] lr: \t1.0000E-04 loss: \t2.60452\n",
            " epoch [0053 / 0100] eta: 0 Days 2:38:0        [0299/1923] lr: \t1.0000E-04 loss: \t2.56825\n",
            " epoch [0053 / 0100] eta: 0 Days 2:23:59       [0399/1923] lr: \t1.0000E-04 loss: \t2.56486\n",
            " epoch [0053 / 0100] eta: 0 Days 2:53:32       [0499/1923] lr: \t1.0000E-04 loss: \t2.56259\n",
            " epoch [0053 / 0100] eta: 0 Days 2:29:11       [0599/1923] lr: \t1.0000E-04 loss: \t2.54732\n",
            " epoch [0053 / 0100] eta: 0 Days 2:27:1        [0699/1923] lr: \t1.0000E-04 loss: \t2.54171\n",
            " epoch [0053 / 0100] eta: 0 Days 2:37:30       [0799/1923] lr: \t1.0000E-04 loss: \t2.55181\n",
            " epoch [0053 / 0100] eta: 0 Days 2:24:43       [0899/1923] lr: \t1.0000E-04 loss: \t2.55025\n",
            " epoch [0053 / 0100] eta: 0 Days 2:21:34       [0999/1923] lr: \t1.0000E-04 loss: \t2.54390\n",
            " epoch [0053 / 0100] eta: 0 Days 2:26:9        [1099/1923] lr: \t1.0000E-04 loss: \t2.55540\n",
            " epoch [0053 / 0100] eta: 0 Days 2:26:42       [1199/1923] lr: \t1.0000E-04 loss: \t2.56829\n",
            " epoch [0053 / 0100] eta: 0 Days 2:25:21       [1299/1923] lr: \t1.0000E-04 loss: \t2.56460\n",
            " epoch [0053 / 0100] eta: 0 Days 2:27:34       [1399/1923] lr: \t1.0000E-04 loss: \t2.56414\n",
            " epoch [0053 / 0100] eta: 0 Days 2:20:52       [1499/1923] lr: \t1.0000E-04 loss: \t2.56599\n",
            " epoch [0053 / 0100] eta: 0 Days 2:19:39       [1599/1923] lr: \t1.0000E-04 loss: \t2.56500\n",
            " epoch [0053 / 0100] eta: 0 Days 2:22:31       [1699/1923] lr: \t1.0000E-04 loss: \t2.55441\n",
            " epoch [0053 / 0100] eta: 0 Days 2:31:32       [1799/1923] lr: \t1.0000E-04 loss: \t2.55768\n",
            " epoch [0053 / 0100] eta: 0 Days 2:19:20       [1899/1923] lr: \t1.0000E-04 loss: \t2.56032\n"
          ]
        },
        {
          "metadata": {
            "tags": null
          },
          "name": "stderr",
          "output_type": "stream",
          "text": [
            "100%|██████████| 28/28 [00:46<00:00,  1.66s/it]\n"
          ]
        },
        {
          "metadata": {
            "tags": null
          },
          "name": "stdout",
          "output_type": "stream",
          "text": [
            "saving last_epoch checkpoint\n",
            "val AUROC mean 0.7408\n",
            "Atelectasis 0.7561\n",
            "Cardiomegaly 0.8847\n",
            "Effusion 0.8074\n",
            "Infiltration 0.6913\n",
            "Mass 0.7993\n",
            "Nodule 0.6873\n",
            "Pneumothorax 0.7887\n",
            "Consolidation 0.6922\n",
            "Pleural_Thickening 0.6546\n",
            "Hernia 0.6467\n",
            "best epoch 52 best auroc 0.7479504653261703 loss 2.503227 auroc at min loss 0.7468\n",
            " epoch [0054 / 0100] eta: 0 Days 2:24:25       [0099/1923] lr: \t1.0000E-04 loss: \t2.50257\n",
            " epoch [0054 / 0100] eta: 0 Days 2:19:53       [0199/1923] lr: \t1.0000E-04 loss: \t2.55292\n",
            " epoch [0054 / 0100] eta: 0 Days 2:26:12       [0299/1923] lr: \t1.0000E-04 loss: \t2.55466\n",
            " epoch [0054 / 0100] eta: 0 Days 2:53:31       [0399/1923] lr: \t1.0000E-04 loss: \t2.56877\n",
            " epoch [0054 / 0100] eta: 0 Days 2:19:24       [0499/1923] lr: \t1.0000E-04 loss: \t2.56317\n",
            " epoch [0054 / 0100] eta: 0 Days 2:18:10       [0599/1923] lr: \t1.0000E-04 loss: \t2.55422\n",
            " epoch [0054 / 0100] eta: 0 Days 2:21:3        [0699/1923] lr: \t1.0000E-04 loss: \t2.52876\n",
            " epoch [0054 / 0100] eta: 0 Days 2:18:53       [0799/1923] lr: \t1.0000E-04 loss: \t2.53522\n",
            " epoch [0054 / 0100] eta: 0 Days 2:20:5        [0899/1923] lr: \t1.0000E-04 loss: \t2.53153\n",
            " epoch [0054 / 0100] eta: 0 Days 2:24:22       [0999/1923] lr: \t1.0000E-04 loss: \t2.54391\n",
            " epoch [0054 / 0100] eta: 0 Days 2:19:34       [1099/1923] lr: \t1.0000E-04 loss: \t2.52977\n",
            " epoch [0054 / 0100] eta: 0 Days 2:19:36       [1199/1923] lr: \t1.0000E-04 loss: \t2.53054\n",
            " epoch [0054 / 0100] eta: 0 Days 2:20:54       [1299/1923] lr: \t1.0000E-04 loss: \t2.53340\n",
            " epoch [0054 / 0100] eta: 0 Days 2:20:38       [1399/1923] lr: \t1.0000E-04 loss: \t2.54012\n",
            " epoch [0054 / 0100] eta: 0 Days 2:35:43       [1499/1923] lr: \t1.0000E-04 loss: \t2.54339\n",
            " epoch [0054 / 0100] eta: 0 Days 2:19:51       [1599/1923] lr: \t1.0000E-04 loss: \t2.53807\n",
            " epoch [0054 / 0100] eta: 0 Days 2:23:54       [1699/1923] lr: \t1.0000E-04 loss: \t2.53582\n",
            " epoch [0054 / 0100] eta: 0 Days 2:16:46       [1799/1923] lr: \t1.0000E-04 loss: \t2.53710\n",
            " epoch [0054 / 0100] eta: 0 Days 2:18:34       [1899/1923] lr: \t1.0000E-04 loss: \t2.54507\n"
          ]
        },
        {
          "metadata": {
            "tags": null
          },
          "name": "stderr",
          "output_type": "stream",
          "text": [
            "100%|██████████| 28/28 [00:43<00:00,  1.55s/it]\n"
          ]
        },
        {
          "metadata": {
            "tags": null
          },
          "name": "stdout",
          "output_type": "stream",
          "text": [
            "saving last_epoch checkpoint\n",
            "val AUROC mean 0.7454\n",
            "Atelectasis 0.7386\n",
            "Cardiomegaly 0.8899\n",
            "Effusion 0.8118\n",
            "Infiltration 0.6833\n",
            "Mass 0.8091\n",
            "Nodule 0.6865\n",
            "Pneumothorax 0.7789\n",
            "Consolidation 0.6937\n",
            "Pleural_Thickening 0.6747\n",
            "Hernia 0.6878\n",
            "best epoch 52 best auroc 0.7479504653261703 loss 2.498095 auroc at min loss 0.7468\n",
            " epoch [0055 / 0100] eta: 0 Days 2:17:13       [0099/1923] lr: \t1.0000E-04 loss: \t2.50420\n",
            " epoch [0055 / 0100] eta: 0 Days 2:20:46       [0199/1923] lr: \t1.0000E-04 loss: \t2.50734\n",
            " epoch [0055 / 0100] eta: 0 Days 2:23:21       [0299/1923] lr: \t1.0000E-04 loss: \t2.52930\n",
            " epoch [0055 / 0100] eta: 0 Days 2:39:51       [0399/1923] lr: \t1.0000E-04 loss: \t2.50744\n",
            " epoch [0055 / 0100] eta: 0 Days 2:21:0        [0499/1923] lr: \t1.0000E-04 loss: \t2.50133\n",
            " epoch [0055 / 0100] eta: 0 Days 2:16:28       [0599/1923] lr: \t1.0000E-04 loss: \t2.50638\n",
            " epoch [0055 / 0100] eta: 0 Days 2:16:33       [0699/1923] lr: \t1.0000E-04 loss: \t2.51456\n",
            " epoch [0055 / 0100] eta: 0 Days 2:16:36       [0799/1923] lr: \t1.0000E-04 loss: \t2.51205\n",
            " epoch [0055 / 0100] eta: 0 Days 2:14:52       [0899/1923] lr: \t1.0000E-04 loss: \t2.52904\n",
            " epoch [0055 / 0100] eta: 0 Days 2:19:23       [0999/1923] lr: \t1.0000E-04 loss: \t2.52456\n",
            " epoch [0055 / 0100] eta: 0 Days 2:18:49       [1099/1923] lr: \t1.0000E-04 loss: \t2.52706\n",
            " epoch [0055 / 0100] eta: 0 Days 2:20:8        [1199/1923] lr: \t1.0000E-04 loss: \t2.52983\n",
            " epoch [0055 / 0100] eta: 0 Days 2:16:25       [1299/1923] lr: \t1.0000E-04 loss: \t2.52802\n",
            " epoch [0055 / 0100] eta: 0 Days 2:15:11       [1399/1923] lr: \t1.0000E-04 loss: \t2.53361\n",
            " epoch [0055 / 0100] eta: 0 Days 2:15:47       [1499/1923] lr: \t1.0000E-04 loss: \t2.53990\n",
            " epoch [0055 / 0100] eta: 0 Days 2:17:14       [1599/1923] lr: \t1.0000E-04 loss: \t2.54325\n",
            " epoch [0055 / 0100] eta: 0 Days 2:25:52       [1699/1923] lr: \t1.0000E-04 loss: \t2.53970\n",
            " epoch [0055 / 0100] eta: 0 Days 2:15:0        [1799/1923] lr: \t1.0000E-04 loss: \t2.53718\n",
            " epoch [0055 / 0100] eta: 0 Days 2:18:16       [1899/1923] lr: \t1.0000E-04 loss: \t2.53255\n"
          ]
        },
        {
          "metadata": {
            "tags": null
          },
          "name": "stderr",
          "output_type": "stream",
          "text": [
            "100%|██████████| 28/28 [00:45<00:00,  1.64s/it]\n"
          ]
        },
        {
          "metadata": {
            "tags": null
          },
          "name": "stdout",
          "output_type": "stream",
          "text": [
            "saving last_epoch checkpoint\n",
            "val AUROC mean 0.7475\n",
            "Atelectasis 0.7503\n",
            "Cardiomegaly 0.8830\n",
            "Effusion 0.8059\n",
            "Infiltration 0.6914\n",
            "Mass 0.7886\n",
            "Nodule 0.6800\n",
            "Pneumothorax 0.8003\n",
            "Consolidation 0.7051\n",
            "Pleural_Thickening 0.6815\n",
            "Hernia 0.6884\n",
            "best epoch 52 best auroc 0.7479504653261703 loss 2.492751 auroc at min loss 0.7468\n",
            " epoch [0056 / 0100] eta: 0 Days 2:14:2        [0099/1923] lr: \t1.0000E-04 loss: \t2.56687\n",
            " epoch [0056 / 0100] eta: 0 Days 2:17:1        [0199/1923] lr: \t1.0000E-04 loss: \t2.55446\n",
            " epoch [0056 / 0100] eta: 0 Days 2:13:0        [0299/1923] lr: \t1.0000E-04 loss: \t2.55442\n",
            " epoch [0056 / 0100] eta: 0 Days 2:14:37       [0399/1923] lr: \t1.0000E-04 loss: \t2.55457\n",
            " epoch [0056 / 0100] eta: 0 Days 2:14:43       [0499/1923] lr: \t1.0000E-04 loss: \t2.56726\n",
            " epoch [0056 / 0100] eta: 0 Days 2:11:50       [0599/1923] lr: \t1.0000E-04 loss: \t2.55569\n",
            " epoch [0056 / 0100] eta: 0 Days 2:44:17       [0699/1923] lr: \t1.0000E-04 loss: \t2.54053\n",
            " epoch [0056 / 0100] eta: 0 Days 2:13:17       [0799/1923] lr: \t1.0000E-04 loss: \t2.54064\n",
            " epoch [0056 / 0100] eta: 0 Days 2:13:44       [0899/1923] lr: \t1.0000E-04 loss: \t2.53160\n",
            " epoch [0056 / 0100] eta: 0 Days 2:37:2        [0999/1923] lr: \t1.0000E-04 loss: \t2.53257\n",
            " epoch [0056 / 0100] eta: 0 Days 2:13:11       [1099/1923] lr: \t1.0000E-04 loss: \t2.53075\n",
            " epoch [0056 / 0100] eta: 0 Days 2:16:21       [1199/1923] lr: \t1.0000E-04 loss: \t2.53916\n",
            " epoch [0056 / 0100] eta: 0 Days 2:13:24       [1299/1923] lr: \t1.0000E-04 loss: \t2.53455\n",
            " epoch [0056 / 0100] eta: 0 Days 2:13:32       [1399/1923] lr: \t1.0000E-04 loss: \t2.53255\n",
            " epoch [0056 / 0100] eta: 0 Days 2:13:54       [1499/1923] lr: \t1.0000E-04 loss: \t2.53408\n",
            " epoch [0056 / 0100] eta: 0 Days 2:10:35       [1599/1923] lr: \t1.0000E-04 loss: \t2.52684\n",
            " epoch [0056 / 0100] eta: 0 Days 2:17:2        [1699/1923] lr: \t1.0000E-04 loss: \t2.52249\n",
            " epoch [0056 / 0100] eta: 0 Days 2:13:7        [1799/1923] lr: \t1.0000E-04 loss: \t2.51981\n",
            " epoch [0056 / 0100] eta: 0 Days 2:12:7        [1899/1923] lr: \t1.0000E-04 loss: \t2.52431\n"
          ]
        },
        {
          "metadata": {
            "tags": null
          },
          "name": "stderr",
          "output_type": "stream",
          "text": [
            "100%|██████████| 28/28 [00:43<00:00,  1.55s/it]\n"
          ]
        },
        {
          "metadata": {
            "tags": null
          },
          "name": "stdout",
          "output_type": "stream",
          "text": [
            "saving last_epoch checkpoint\n",
            "saving best_auroc checkpoint\n",
            "val AUROC mean 0.7493\n",
            "Atelectasis 0.7364\n",
            "Cardiomegaly 0.8937\n",
            "Effusion 0.8131\n",
            "Infiltration 0.6961\n",
            "Mass 0.8026\n",
            "Nodule 0.6932\n",
            "Pneumothorax 0.7840\n",
            "Consolidation 0.6918\n",
            "Pleural_Thickening 0.6869\n",
            "Hernia 0.6948\n"
          ]
        },
        {
          "metadata": {
            "tags": null
          },
          "name": "stderr",
          "output_type": "stream",
          "text": [
            "100%|██████████| 219/219 [01:03<00:00,  3.43it/s]\n"
          ]
        },
        {
          "metadata": {
            "tags": null
          },
          "name": "stdout",
          "output_type": "stream",
          "text": [
            "\n",
            "test_seen AUROC mean 0.7488\n",
            "Atelectasis 0.7071\n",
            "Effusion 0.8094\n",
            "Infiltration 0.6623\n",
            "Mass 0.7638\n",
            "Nodule 0.7122\n",
            "Pneumothorax 0.7952\n",
            "Consolidation 0.6755\n",
            "Cardiomegaly 0.8975\n",
            "Pleural_Thickening 0.6821\n",
            "Hernia 0.7831\n",
            "\n",
            "test_unseen AUROC mean 0.5904\n",
            "Edema 0.4876\n",
            "Pneumonia 0.4999\n",
            "Emphysema 0.7102\n",
            "Fibrosis 0.6639\n",
            "best epoch 56 best auroc 0.749253528699213 loss 2.488829 auroc at min loss 0.7468\n",
            " epoch [0057 / 0100] eta: 0 Days 2:12:48       [0099/1923] lr: \t1.0000E-04 loss: \t2.51387\n",
            " epoch [0057 / 0100] eta: 0 Days 2:21:8        [0199/1923] lr: \t1.0000E-04 loss: \t2.49097\n",
            " epoch [0057 / 0100] eta: 0 Days 2:9:45        [0299/1923] lr: \t1.0000E-04 loss: \t2.50668\n",
            " epoch [0057 / 0100] eta: 0 Days 2:15:12       [0399/1923] lr: \t1.0000E-04 loss: \t2.47557\n",
            " epoch [0057 / 0100] eta: 0 Days 2:12:43       [0499/1923] lr: \t1.0000E-04 loss: \t2.49243\n",
            " epoch [0057 / 0100] eta: 0 Days 2:10:52       [0599/1923] lr: \t1.0000E-04 loss: \t2.48181\n",
            " epoch [0057 / 0100] eta: 0 Days 2:28:21       [0699/1923] lr: \t1.0000E-04 loss: \t2.48384\n",
            " epoch [0057 / 0100] eta: 0 Days 2:22:41       [0799/1923] lr: \t1.0000E-04 loss: \t2.48394\n",
            " epoch [0057 / 0100] eta: 0 Days 2:10:48       [0899/1923] lr: \t1.0000E-04 loss: \t2.48799\n",
            " epoch [0057 / 0100] eta: 0 Days 2:11:31       [0999/1923] lr: \t1.0000E-04 loss: \t2.49772\n",
            " epoch [0057 / 0100] eta: 0 Days 2:12:36       [1099/1923] lr: \t1.0000E-04 loss: \t2.49790\n",
            " epoch [0057 / 0100] eta: 0 Days 2:42:40       [1199/1923] lr: \t1.0000E-04 loss: \t2.50795\n",
            " epoch [0057 / 0100] eta: 0 Days 2:14:6        [1299/1923] lr: \t1.0000E-04 loss: \t2.50185\n",
            " epoch [0057 / 0100] eta: 0 Days 2:14:1        [1399/1923] lr: \t1.0000E-04 loss: \t2.50483\n",
            " epoch [0057 / 0100] eta: 0 Days 2:8:19        [1499/1923] lr: \t1.0000E-04 loss: \t2.50431\n",
            " epoch [0057 / 0100] eta: 0 Days 2:12:41       [1599/1923] lr: \t1.0000E-04 loss: \t2.50568\n",
            " epoch [0057 / 0100] eta: 0 Days 2:26:50       [1699/1923] lr: \t1.0000E-04 loss: \t2.50961\n",
            " epoch [0057 / 0100] eta: 0 Days 2:12:23       [1799/1923] lr: \t1.0000E-04 loss: \t2.51031\n",
            " epoch [0057 / 0100] eta: 0 Days 2:10:43       [1899/1923] lr: \t1.0000E-04 loss: \t2.51546\n"
          ]
        },
        {
          "metadata": {
            "tags": null
          },
          "name": "stderr",
          "output_type": "stream",
          "text": [
            "100%|██████████| 28/28 [00:44<00:00,  1.59s/it]\n"
          ]
        },
        {
          "metadata": {
            "tags": null
          },
          "name": "stdout",
          "output_type": "stream",
          "text": [
            "saving last_epoch checkpoint\n",
            "val AUROC mean 0.7488\n",
            "Atelectasis 0.7384\n",
            "Cardiomegaly 0.8826\n",
            "Effusion 0.8098\n",
            "Infiltration 0.6971\n",
            "Mass 0.7909\n",
            "Nodule 0.6873\n",
            "Pneumothorax 0.8025\n",
            "Consolidation 0.7018\n",
            "Pleural_Thickening 0.6817\n",
            "Hernia 0.6955\n",
            "best epoch 56 best auroc 0.749253528699213 loss 2.524842 auroc at min loss 0.7468\n",
            " epoch [0058 / 0100] eta: 0 Days 2:18:49       [0099/1923] lr: \t1.0000E-04 loss: \t2.58367\n",
            " epoch [0058 / 0100] eta: 0 Days 2:7:22        [0199/1923] lr: \t1.0000E-04 loss: \t2.52386\n",
            " epoch [0058 / 0100] eta: 0 Days 2:12:19       [0299/1923] lr: \t1.0000E-04 loss: \t2.51728\n",
            " epoch [0058 / 0100] eta: 0 Days 2:8:59        [0399/1923] lr: \t1.0000E-04 loss: \t2.52391\n",
            " epoch [0058 / 0100] eta: 0 Days 2:9:51        [0499/1923] lr: \t1.0000E-04 loss: \t2.51035\n",
            " epoch [0058 / 0100] eta: 0 Days 2:8:9         [0599/1923] lr: \t1.0000E-04 loss: \t2.52095\n",
            " epoch [0058 / 0100] eta: 0 Days 2:12:58       [0699/1923] lr: \t1.0000E-04 loss: \t2.51422\n",
            " epoch [0058 / 0100] eta: 0 Days 2:9:57        [0799/1923] lr: \t1.0000E-04 loss: \t2.51149\n",
            " epoch [0058 / 0100] eta: 0 Days 2:10:40       [0899/1923] lr: \t1.0000E-04 loss: \t2.51757\n",
            " epoch [0058 / 0100] eta: 0 Days 2:27:7        [0999/1923] lr: \t1.0000E-04 loss: \t2.52850\n",
            " epoch [0058 / 0100] eta: 0 Days 2:15:30       [1099/1923] lr: \t1.0000E-04 loss: \t2.52625\n",
            " epoch [0058 / 0100] eta: 0 Days 2:6:38        [1199/1923] lr: \t1.0000E-04 loss: \t2.51588\n",
            " epoch [0058 / 0100] eta: 0 Days 2:9:34        [1299/1923] lr: \t1.0000E-04 loss: \t2.51165\n",
            " epoch [0058 / 0100] eta: 0 Days 2:7:14        [1399/1923] lr: \t1.0000E-04 loss: \t2.50851\n",
            " epoch [0058 / 0100] eta: 0 Days 2:13:21       [1499/1923] lr: \t1.0000E-04 loss: \t2.51431\n",
            " epoch [0058 / 0100] eta: 0 Days 2:8:26        [1599/1923] lr: \t1.0000E-04 loss: \t2.51284\n",
            " epoch [0058 / 0100] eta: 0 Days 2:11:48       [1699/1923] lr: \t1.0000E-04 loss: \t2.51076\n",
            " epoch [0058 / 0100] eta: 0 Days 2:6:22        [1799/1923] lr: \t1.0000E-04 loss: \t2.50726\n",
            " epoch [0058 / 0100] eta: 0 Days 2:5:37        [1899/1923] lr: \t1.0000E-04 loss: \t2.50826\n"
          ]
        },
        {
          "metadata": {
            "tags": null
          },
          "name": "stderr",
          "output_type": "stream",
          "text": [
            "100%|██████████| 28/28 [00:43<00:00,  1.55s/it]\n"
          ]
        },
        {
          "metadata": {
            "tags": null
          },
          "name": "stdout",
          "output_type": "stream",
          "text": [
            "saving last_epoch checkpoint\n",
            "saving min_loss checkpoint\n",
            "val AUROC mean 0.7455\n",
            "Atelectasis 0.7599\n",
            "Cardiomegaly 0.8974\n",
            "Effusion 0.8114\n",
            "Infiltration 0.6972\n",
            "Mass 0.7843\n",
            "Nodule 0.6779\n",
            "Pneumothorax 0.8041\n",
            "Consolidation 0.6983\n",
            "Pleural_Thickening 0.6739\n",
            "Hernia 0.6511\n"
          ]
        },
        {
          "metadata": {
            "tags": null
          },
          "name": "stderr",
          "output_type": "stream",
          "text": [
            "100%|██████████| 219/219 [01:02<00:00,  3.48it/s]\n"
          ]
        },
        {
          "metadata": {
            "tags": null
          },
          "name": "stdout",
          "output_type": "stream",
          "text": [
            "\n",
            "test_seen AUROC mean 0.7490\n",
            "Atelectasis 0.7343\n",
            "Effusion 0.8120\n",
            "Infiltration 0.6699\n",
            "Mass 0.7510\n",
            "Nodule 0.7062\n",
            "Pneumothorax 0.8038\n",
            "Consolidation 0.6871\n",
            "Cardiomegaly 0.8893\n",
            "Pleural_Thickening 0.6744\n",
            "Hernia 0.7622\n",
            "\n",
            "test_unseen AUROC mean 0.5802\n",
            "Edema 0.4935\n",
            "Pneumonia 0.4952\n",
            "Emphysema 0.6732\n",
            "Fibrosis 0.6589\n",
            "best epoch 56 best auroc 0.749253528699213 loss 2.471514 auroc at min loss 0.7455\n",
            " epoch [0059 / 0100] eta: 0 Days 2:9:53        [0099/1923] lr: \t1.0000E-04 loss: \t2.49013\n",
            " epoch [0059 / 0100] eta: 0 Days 2:4:7         [0199/1923] lr: \t1.0000E-04 loss: \t2.51921\n",
            " epoch [0059 / 0100] eta: 0 Days 2:6:40        [0299/1923] lr: \t1.0000E-04 loss: \t2.54027\n",
            " epoch [0059 / 0100] eta: 0 Days 2:5:6         [0399/1923] lr: \t1.0000E-04 loss: \t2.52605\n",
            " epoch [0059 / 0100] eta: 0 Days 2:7:53        [0499/1923] lr: \t1.0000E-04 loss: \t2.52391\n",
            " epoch [0059 / 0100] eta: 0 Days 2:13:16       [0599/1923] lr: \t1.0000E-04 loss: \t2.52002\n",
            " epoch [0059 / 0100] eta: 0 Days 2:6:14        [0699/1923] lr: \t1.0000E-04 loss: \t2.52193\n",
            " epoch [0059 / 0100] eta: 0 Days 2:7:20        [0799/1923] lr: \t1.0000E-04 loss: \t2.51667\n",
            " epoch [0059 / 0100] eta: 0 Days 2:5:37        [0899/1923] lr: \t1.0000E-04 loss: \t2.52913\n",
            " epoch [0059 / 0100] eta: 0 Days 2:5:44        [0999/1923] lr: \t1.0000E-04 loss: \t2.51091\n",
            " epoch [0059 / 0100] eta: 0 Days 2:44:24       [1099/1923] lr: \t1.0000E-04 loss: \t2.50695\n",
            " epoch [0059 / 0100] eta: 0 Days 2:6:29        [1199/1923] lr: \t1.0000E-04 loss: \t2.52129\n",
            " epoch [0059 / 0100] eta: 0 Days 2:3:4         [1299/1923] lr: \t1.0000E-04 loss: \t2.50769\n",
            " epoch [0059 / 0100] eta: 0 Days 2:22:16       [1399/1923] lr: \t1.0000E-04 loss: \t2.50229\n",
            " epoch [0059 / 0100] eta: 0 Days 2:4:18        [1499/1923] lr: \t1.0000E-04 loss: \t2.50638\n",
            " epoch [0059 / 0100] eta: 0 Days 2:13:29       [1599/1923] lr: \t1.0000E-04 loss: \t2.50344\n",
            " epoch [0059 / 0100] eta: 0 Days 2:10:25       [1699/1923] lr: \t1.0000E-04 loss: \t2.51080\n",
            " epoch [0059 / 0100] eta: 0 Days 2:12:56       [1799/1923] lr: \t1.0000E-04 loss: \t2.50798\n",
            " epoch [0059 / 0100] eta: 0 Days 2:3:27        [1899/1923] lr: \t1.0000E-04 loss: \t2.50313\n"
          ]
        },
        {
          "metadata": {
            "tags": null
          },
          "name": "stderr",
          "output_type": "stream",
          "text": [
            "100%|██████████| 28/28 [00:45<00:00,  1.62s/it]\n"
          ]
        },
        {
          "metadata": {
            "tags": null
          },
          "name": "stdout",
          "output_type": "stream",
          "text": [
            "saving last_epoch checkpoint\n",
            "val AUROC mean 0.7425\n",
            "Atelectasis 0.7411\n",
            "Cardiomegaly 0.8994\n",
            "Effusion 0.8114\n",
            "Infiltration 0.6887\n",
            "Mass 0.7857\n",
            "Nodule 0.7021\n",
            "Pneumothorax 0.7895\n",
            "Consolidation 0.6935\n",
            "Pleural_Thickening 0.6867\n",
            "Hernia 0.6268\n",
            "best epoch 56 best auroc 0.749253528699213 loss 2.503583 auroc at min loss 0.7455\n",
            " epoch [0060 / 0100] eta: 0 Days 2:8:13        [0099/1923] lr: \t1.0000E-04 loss: \t2.63945\n",
            " epoch [0060 / 0100] eta: 0 Days 2:16:7        [0199/1923] lr: \t1.0000E-04 loss: \t2.53986\n",
            " epoch [0060 / 0100] eta: 0 Days 2:6:10        [0299/1923] lr: \t1.0000E-04 loss: \t2.50694\n",
            " epoch [0060 / 0100] eta: 0 Days 2:2:17        [0399/1923] lr: \t1.0000E-04 loss: \t2.52228\n",
            " epoch [0060 / 0100] eta: 0 Days 2:2:9         [0499/1923] lr: \t1.0000E-04 loss: \t2.50365\n",
            " epoch [0060 / 0100] eta: 0 Days 2:3:27        [0599/1923] lr: \t1.0000E-04 loss: \t2.50974\n",
            " epoch [0060 / 0100] eta: 0 Days 2:4:12        [0699/1923] lr: \t1.0000E-04 loss: \t2.50530\n",
            " epoch [0060 / 0100] eta: 0 Days 2:5:17        [0799/1923] lr: \t1.0000E-04 loss: \t2.51303\n",
            " epoch [0060 / 0100] eta: 0 Days 2:0:48        [0899/1923] lr: \t1.0000E-04 loss: \t2.50600\n",
            " epoch [0060 / 0100] eta: 0 Days 2:1:32        [0999/1923] lr: \t1.0000E-04 loss: \t2.50382\n",
            " epoch [0060 / 0100] eta: 0 Days 2:4:44        [1099/1923] lr: \t1.0000E-04 loss: \t2.50285\n",
            " epoch [0060 / 0100] eta: 0 Days 2:3:35        [1199/1923] lr: \t1.0000E-04 loss: \t2.50386\n",
            " epoch [0060 / 0100] eta: 0 Days 2:25:30       [1299/1923] lr: \t1.0000E-04 loss: \t2.49891\n",
            " epoch [0060 / 0100] eta: 0 Days 1:58:33       [1399/1923] lr: \t1.0000E-04 loss: \t2.49883\n",
            " epoch [0060 / 0100] eta: 0 Days 2:7:1         [1499/1923] lr: \t1.0000E-04 loss: \t2.49955\n",
            " epoch [0060 / 0100] eta: 0 Days 1:59:45       [1599/1923] lr: \t1.0000E-04 loss: \t2.49794\n",
            " epoch [0060 / 0100] eta: 0 Days 2:1:54        [1699/1923] lr: \t1.0000E-04 loss: \t2.49443\n",
            " epoch [0060 / 0100] eta: 0 Days 2:12:46       [1799/1923] lr: \t1.0000E-04 loss: \t2.49309\n",
            " epoch [0060 / 0100] eta: 0 Days 2:1:16        [1899/1923] lr: \t1.0000E-04 loss: \t2.49570\n"
          ]
        },
        {
          "metadata": {
            "tags": null
          },
          "name": "stderr",
          "output_type": "stream",
          "text": [
            "100%|██████████| 28/28 [00:44<00:00,  1.61s/it]\n"
          ]
        },
        {
          "metadata": {
            "tags": null
          },
          "name": "stdout",
          "output_type": "stream",
          "text": [
            "saving last_epoch checkpoint\n",
            "saving min_loss checkpoint\n",
            "val AUROC mean 0.7453\n",
            "Atelectasis 0.7589\n",
            "Cardiomegaly 0.8893\n",
            "Effusion 0.8111\n",
            "Infiltration 0.6987\n",
            "Mass 0.8102\n",
            "Nodule 0.7017\n",
            "Pneumothorax 0.7891\n",
            "Consolidation 0.7025\n",
            "Pleural_Thickening 0.6689\n",
            "Hernia 0.6230\n"
          ]
        },
        {
          "metadata": {
            "tags": null
          },
          "name": "stderr",
          "output_type": "stream",
          "text": [
            "100%|██████████| 219/219 [01:04<00:00,  3.42it/s]\n"
          ]
        },
        {
          "metadata": {
            "tags": null
          },
          "name": "stdout",
          "output_type": "stream",
          "text": [
            "\n",
            "test_seen AUROC mean 0.7431\n",
            "Atelectasis 0.7365\n",
            "Effusion 0.8082\n",
            "Infiltration 0.6644\n",
            "Mass 0.7682\n",
            "Nodule 0.7189\n",
            "Pneumothorax 0.7967\n",
            "Consolidation 0.6848\n",
            "Cardiomegaly 0.8903\n",
            "Pleural_Thickening 0.6806\n",
            "Hernia 0.6825\n",
            "\n",
            "test_unseen AUROC mean 0.6018\n",
            "Edema 0.5008\n",
            "Pneumonia 0.5013\n",
            "Emphysema 0.7173\n",
            "Fibrosis 0.6879\n",
            "best epoch 56 best auroc 0.749253528699213 loss 2.467871 auroc at min loss 0.7453\n",
            " epoch [0061 / 0100] eta: 0 Days 2:0:8         [0099/1923] lr: \t1.0000E-04 loss: \t2.62411\n",
            " epoch [0061 / 0100] eta: 0 Days 2:3:48        [0199/1923] lr: \t1.0000E-04 loss: \t2.54287\n",
            " epoch [0061 / 0100] eta: 0 Days 2:5:23        [0299/1923] lr: \t1.0000E-04 loss: \t2.52825\n",
            " epoch [0061 / 0100] eta: 0 Days 2:3:20        [0399/1923] lr: \t1.0000E-04 loss: \t2.53609\n",
            " epoch [0061 / 0100] eta: 0 Days 1:58:18       [0499/1923] lr: \t1.0000E-04 loss: \t2.52302\n",
            " epoch [0061 / 0100] eta: 0 Days 2:0:29        [0599/1923] lr: \t1.0000E-04 loss: \t2.52060\n",
            " epoch [0061 / 0100] eta: 0 Days 2:16:5        [0699/1923] lr: \t1.0000E-04 loss: \t2.51158\n",
            " epoch [0061 / 0100] eta: 0 Days 2:4:22        [0799/1923] lr: \t1.0000E-04 loss: \t2.51835\n",
            " epoch [0061 / 0100] eta: 0 Days 2:5:48        [0899/1923] lr: \t1.0000E-04 loss: \t2.51963\n",
            " epoch [0061 / 0100] eta: 0 Days 2:11:20       [0999/1923] lr: \t1.0000E-04 loss: \t2.51669\n",
            " epoch [0061 / 0100] eta: 0 Days 2:1:43        [1099/1923] lr: \t1.0000E-04 loss: \t2.51196\n",
            " epoch [0061 / 0100] eta: 0 Days 1:58:29       [1199/1923] lr: \t1.0000E-04 loss: \t2.50914\n",
            " epoch [0061 / 0100] eta: 0 Days 1:58:33       [1299/1923] lr: \t1.0000E-04 loss: \t2.50158\n",
            " epoch [0061 / 0100] eta: 0 Days 2:0:23        [1399/1923] lr: \t1.0000E-04 loss: \t2.50430\n",
            " epoch [0061 / 0100] eta: 0 Days 2:28:41       [1499/1923] lr: \t1.0000E-04 loss: \t2.50332\n",
            " epoch [0061 / 0100] eta: 0 Days 2:1:39        [1599/1923] lr: \t1.0000E-04 loss: \t2.49954\n",
            " epoch [0061 / 0100] eta: 0 Days 1:56:0        [1699/1923] lr: \t1.0000E-04 loss: \t2.50042\n",
            " epoch [0061 / 0100] eta: 0 Days 1:56:55       [1799/1923] lr: \t1.0000E-04 loss: \t2.50598\n",
            " epoch [0061 / 0100] eta: 0 Days 2:0:12        [1899/1923] lr: \t1.0000E-04 loss: \t2.49880\n"
          ]
        },
        {
          "metadata": {
            "tags": null
          },
          "name": "stderr",
          "output_type": "stream",
          "text": [
            "100%|██████████| 28/28 [00:43<00:00,  1.57s/it]\n"
          ]
        },
        {
          "metadata": {
            "tags": null
          },
          "name": "stdout",
          "output_type": "stream",
          "text": [
            "saving last_epoch checkpoint\n",
            "saving best_auroc checkpoint\n",
            "saving min_loss checkpoint\n",
            "val AUROC mean 0.7527\n",
            "Atelectasis 0.7585\n",
            "Cardiomegaly 0.8986\n",
            "Effusion 0.8097\n",
            "Infiltration 0.6980\n",
            "Mass 0.7914\n",
            "Nodule 0.6935\n",
            "Pneumothorax 0.8056\n",
            "Consolidation 0.7082\n",
            "Pleural_Thickening 0.6573\n",
            "Hernia 0.7059\n"
          ]
        },
        {
          "metadata": {
            "tags": null
          },
          "name": "stderr",
          "output_type": "stream",
          "text": [
            "100%|██████████| 219/219 [01:05<00:00,  3.36it/s]\n"
          ]
        },
        {
          "metadata": {
            "tags": null
          },
          "name": "stdout",
          "output_type": "stream",
          "text": [
            "\n",
            "test_seen AUROC mean 0.7550\n",
            "Atelectasis 0.7316\n",
            "Effusion 0.8073\n",
            "Infiltration 0.6689\n",
            "Mass 0.7593\n",
            "Nodule 0.7199\n",
            "Pneumothorax 0.7921\n",
            "Consolidation 0.6829\n",
            "Cardiomegaly 0.9007\n",
            "Pleural_Thickening 0.6881\n",
            "Hernia 0.7996\n",
            "\n",
            "test_unseen AUROC mean 0.5846\n",
            "Edema 0.5148\n",
            "Pneumonia 0.4970\n",
            "Emphysema 0.6546\n",
            "Fibrosis 0.6720\n",
            "best epoch 61 best auroc 0.7526767170882589 loss 2.467865 auroc at min loss 0.7527\n",
            " epoch [0062 / 0100] eta: 0 Days 1:56:44       [0099/1923] lr: \t1.0000E-04 loss: \t2.50164\n",
            " epoch [0062 / 0100] eta: 0 Days 1:56:57       [0199/1923] lr: \t1.0000E-04 loss: \t2.44998\n",
            " epoch [0062 / 0100] eta: 0 Days 1:56:54       [0299/1923] lr: \t1.0000E-04 loss: \t2.43349\n",
            " epoch [0062 / 0100] eta: 0 Days 1:59:12       [0399/1923] lr: \t1.0000E-04 loss: \t2.43200\n",
            " epoch [0062 / 0100] eta: 0 Days 1:57:52       [0499/1923] lr: \t1.0000E-04 loss: \t2.45970\n",
            " epoch [0062 / 0100] eta: 0 Days 1:55:24       [0599/1923] lr: \t1.0000E-04 loss: \t2.45672\n",
            " epoch [0062 / 0100] eta: 0 Days 2:20:46       [0699/1923] lr: \t1.0000E-04 loss: \t2.45285\n",
            " epoch [0062 / 0100] eta: 0 Days 1:59:45       [0799/1923] lr: \t1.0000E-04 loss: \t2.45622\n",
            " epoch [0062 / 0100] eta: 0 Days 1:55:30       [0899/1923] lr: \t1.0000E-04 loss: \t2.46604\n",
            " epoch [0062 / 0100] eta: 0 Days 2:3:16        [0999/1923] lr: \t1.0000E-04 loss: \t2.46600\n",
            " epoch [0062 / 0100] eta: 0 Days 1:56:21       [1099/1923] lr: \t1.0000E-04 loss: \t2.45914\n",
            " epoch [0062 / 0100] eta: 0 Days 2:17:58       [1199/1923] lr: \t1.0000E-04 loss: \t2.45693\n",
            " epoch [0062 / 0100] eta: 0 Days 1:54:37       [1299/1923] lr: \t1.0000E-04 loss: \t2.45139\n",
            " epoch [0062 / 0100] eta: 0 Days 1:57:44       [1399/1923] lr: \t1.0000E-04 loss: \t2.45246\n",
            " epoch [0062 / 0100] eta: 0 Days 1:55:32       [1499/1923] lr: \t1.0000E-04 loss: \t2.45949\n",
            " epoch [0062 / 0100] eta: 0 Days 1:54:29       [1599/1923] lr: \t1.0000E-04 loss: \t2.46653\n",
            " epoch [0062 / 0100] eta: 0 Days 2:1:48        [1699/1923] lr: \t1.0000E-04 loss: \t2.46592\n",
            " epoch [0062 / 0100] eta: 0 Days 1:54:24       [1799/1923] lr: \t1.0000E-04 loss: \t2.47057\n",
            " epoch [0062 / 0100] eta: 0 Days 1:57:28       [1899/1923] lr: \t1.0000E-04 loss: \t2.46893\n"
          ]
        },
        {
          "metadata": {
            "tags": null
          },
          "name": "stderr",
          "output_type": "stream",
          "text": [
            "100%|██████████| 28/28 [00:43<00:00,  1.56s/it]\n"
          ]
        },
        {
          "metadata": {
            "tags": null
          },
          "name": "stdout",
          "output_type": "stream",
          "text": [
            "saving last_epoch checkpoint\n",
            "val AUROC mean 0.7514\n",
            "Atelectasis 0.7605\n",
            "Cardiomegaly 0.8881\n",
            "Effusion 0.8159\n",
            "Infiltration 0.6946\n",
            "Mass 0.7960\n",
            "Nodule 0.6894\n",
            "Pneumothorax 0.8028\n",
            "Consolidation 0.6799\n",
            "Pleural_Thickening 0.6900\n",
            "Hernia 0.6962\n",
            "best epoch 61 best auroc 0.7526767170882589 loss 2.494790 auroc at min loss 0.7527\n",
            " epoch [0063 / 0100] eta: 0 Days 1:56:7        [0099/1923] lr: \t1.0000E-04 loss: \t2.55584\n",
            " epoch [0063 / 0100] eta: 0 Days 1:55:49       [0199/1923] lr: \t1.0000E-04 loss: \t2.47465\n",
            " epoch [0063 / 0100] eta: 0 Days 1:54:23       [0299/1923] lr: \t1.0000E-04 loss: \t2.47474\n",
            " epoch [0063 / 0100] eta: 0 Days 1:54:43       [0399/1923] lr: \t1.0000E-04 loss: \t2.47122\n",
            " epoch [0063 / 0100] eta: 0 Days 1:51:38       [0499/1923] lr: \t1.0000E-04 loss: \t2.46947\n",
            " epoch [0063 / 0100] eta: 0 Days 1:58:6        [0599/1923] lr: \t1.0000E-04 loss: \t2.47002\n",
            " epoch [0063 / 0100] eta: 0 Days 1:55:48       [0699/1923] lr: \t1.0000E-04 loss: \t2.46392\n",
            " epoch [0063 / 0100] eta: 0 Days 2:14:27       [0799/1923] lr: \t1.0000E-04 loss: \t2.47592\n",
            " epoch [0063 / 0100] eta: 0 Days 1:53:0        [0899/1923] lr: \t1.0000E-04 loss: \t2.48483\n",
            " epoch [0063 / 0100] eta: 0 Days 1:54:10       [0999/1923] lr: \t1.0000E-04 loss: \t2.48199\n",
            " epoch [0063 / 0100] eta: 0 Days 1:54:26       [1099/1923] lr: \t1.0000E-04 loss: \t2.48511\n",
            " epoch [0063 / 0100] eta: 0 Days 1:51:28       [1199/1923] lr: \t1.0000E-04 loss: \t2.48623\n",
            " epoch [0063 / 0100] eta: 0 Days 1:50:15       [1299/1923] lr: \t1.0000E-04 loss: \t2.48563\n",
            " epoch [0063 / 0100] eta: 0 Days 1:50:2        [1399/1923] lr: \t1.0000E-04 loss: \t2.48401\n",
            " epoch [0063 / 0100] eta: 0 Days 1:53:43       [1499/1923] lr: \t1.0000E-04 loss: \t2.48754\n",
            " epoch [0063 / 0100] eta: 0 Days 1:55:11       [1599/1923] lr: \t1.0000E-04 loss: \t2.47939\n",
            " epoch [0063 / 0100] eta: 0 Days 1:52:41       [1699/1923] lr: \t1.0000E-04 loss: \t2.48444\n",
            " epoch [0063 / 0100] eta: 0 Days 1:54:52       [1799/1923] lr: \t1.0000E-04 loss: \t2.47730\n",
            " epoch [0063 / 0100] eta: 0 Days 1:50:34       [1899/1923] lr: \t1.0000E-04 loss: \t2.47784\n"
          ]
        },
        {
          "metadata": {
            "tags": null
          },
          "name": "stderr",
          "output_type": "stream",
          "text": [
            "100%|██████████| 28/28 [00:43<00:00,  1.57s/it]\n"
          ]
        },
        {
          "metadata": {
            "tags": null
          },
          "name": "stdout",
          "output_type": "stream",
          "text": [
            "saving last_epoch checkpoint\n",
            "val AUROC mean 0.7446\n",
            "Atelectasis 0.7576\n",
            "Cardiomegaly 0.8855\n",
            "Effusion 0.8131\n",
            "Infiltration 0.6956\n",
            "Mass 0.7851\n",
            "Nodule 0.6939\n",
            "Pneumothorax 0.7719\n",
            "Consolidation 0.7113\n",
            "Pleural_Thickening 0.6781\n",
            "Hernia 0.6536\n",
            "best epoch 61 best auroc 0.7526767170882589 loss 2.520838 auroc at min loss 0.7527\n",
            " epoch [0064 / 0100] eta: 0 Days 2:10:26       [0099/1923] lr: \t1.0000E-04 loss: \t2.48586\n",
            " epoch [0064 / 0100] eta: 0 Days 1:50:5        [0199/1923] lr: \t1.0000E-04 loss: \t2.48942\n",
            " epoch [0064 / 0100] eta: 0 Days 1:48:37       [0299/1923] lr: \t1.0000E-04 loss: \t2.49106\n",
            " epoch [0064 / 0100] eta: 0 Days 1:48:39       [0399/1923] lr: \t1.0000E-04 loss: \t2.47302\n",
            " epoch [0064 / 0100] eta: 0 Days 1:49:48       [0499/1923] lr: \t1.0000E-04 loss: \t2.48147\n",
            " epoch [0064 / 0100] eta: 0 Days 2:28:45       [0599/1923] lr: \t1.0000E-04 loss: \t2.47267\n",
            " epoch [0064 / 0100] eta: 0 Days 1:51:46       [0699/1923] lr: \t1.0000E-04 loss: \t2.47057\n",
            " epoch [0064 / 0100] eta: 0 Days 1:48:54       [0799/1923] lr: \t1.0000E-04 loss: \t2.47090\n",
            " epoch [0064 / 0100] eta: 0 Days 1:49:29       [0899/1923] lr: \t1.0000E-04 loss: \t2.46550\n",
            " epoch [0064 / 0100] eta: 0 Days 1:52:6        [0999/1923] lr: \t1.0000E-04 loss: \t2.47196\n",
            " epoch [0064 / 0100] eta: 0 Days 2:2:16        [1099/1923] lr: \t1.0000E-04 loss: \t2.47741\n",
            " epoch [0064 / 0100] eta: 0 Days 1:49:52       [1199/1923] lr: \t1.0000E-04 loss: \t2.47650\n",
            " epoch [0064 / 0100] eta: 0 Days 1:49:2        [1299/1923] lr: \t1.0000E-04 loss: \t2.47634\n",
            " epoch [0064 / 0100] eta: 0 Days 1:49:13       [1399/1923] lr: \t1.0000E-04 loss: \t2.47145\n",
            " epoch [0064 / 0100] eta: 0 Days 1:51:42       [1499/1923] lr: \t1.0000E-04 loss: \t2.46931\n",
            " epoch [0064 / 0100] eta: 0 Days 1:52:33       [1599/1923] lr: \t1.0000E-04 loss: \t2.46749\n",
            " epoch [0064 / 0100] eta: 0 Days 1:47:35       [1699/1923] lr: \t1.0000E-04 loss: \t2.46125\n",
            " epoch [0064 / 0100] eta: 0 Days 1:50:42       [1799/1923] lr: \t1.0000E-04 loss: \t2.46579\n",
            " epoch [0064 / 0100] eta: 0 Days 1:48:0        [1899/1923] lr: \t1.0000E-04 loss: \t2.46417\n"
          ]
        },
        {
          "metadata": {
            "tags": null
          },
          "name": "stderr",
          "output_type": "stream",
          "text": [
            "100%|██████████| 28/28 [00:44<00:00,  1.58s/it]\n"
          ]
        },
        {
          "metadata": {
            "tags": null
          },
          "name": "stdout",
          "output_type": "stream",
          "text": [
            "saving last_epoch checkpoint\n",
            "saving min_loss checkpoint\n",
            "val AUROC mean 0.7474\n",
            "Atelectasis 0.7479\n",
            "Cardiomegaly 0.8951\n",
            "Effusion 0.8128\n",
            "Infiltration 0.6997\n",
            "Mass 0.8021\n",
            "Nodule 0.6965\n",
            "Pneumothorax 0.7822\n",
            "Consolidation 0.7049\n",
            "Pleural_Thickening 0.6590\n",
            "Hernia 0.6737\n"
          ]
        },
        {
          "metadata": {
            "tags": null
          },
          "name": "stderr",
          "output_type": "stream",
          "text": [
            "100%|██████████| 219/219 [01:04<00:00,  3.39it/s]\n"
          ]
        },
        {
          "metadata": {
            "tags": null
          },
          "name": "stdout",
          "output_type": "stream",
          "text": [
            "\n",
            "test_seen AUROC mean 0.7486\n",
            "Atelectasis 0.7288\n",
            "Effusion 0.8128\n",
            "Infiltration 0.6729\n",
            "Mass 0.7667\n",
            "Nodule 0.7142\n",
            "Pneumothorax 0.7954\n",
            "Consolidation 0.6780\n",
            "Cardiomegaly 0.8982\n",
            "Pleural_Thickening 0.6871\n",
            "Hernia 0.7322\n",
            "\n",
            "test_unseen AUROC mean 0.5711\n",
            "Edema 0.4431\n",
            "Pneumonia 0.5060\n",
            "Emphysema 0.6700\n",
            "Fibrosis 0.6655\n",
            "best epoch 61 best auroc 0.7526767170882589 loss 2.466959 auroc at min loss 0.7474\n",
            " epoch [0065 / 0100] eta: 0 Days 1:50:54       [0099/1923] lr: \t1.0000E-04 loss: \t2.47180\n",
            " epoch [0065 / 0100] eta: 0 Days 1:47:22       [0199/1923] lr: \t1.0000E-04 loss: \t2.51330\n",
            " epoch [0065 / 0100] eta: 0 Days 1:48:33       [0299/1923] lr: \t1.0000E-04 loss: \t2.49429\n",
            " epoch [0065 / 0100] eta: 0 Days 1:46:6        [0399/1923] lr: \t1.0000E-04 loss: \t2.46643\n",
            " epoch [0065 / 0100] eta: 0 Days 1:47:43       [0499/1923] lr: \t1.0000E-04 loss: \t2.47350\n",
            " epoch [0065 / 0100] eta: 0 Days 1:50:9        [0599/1923] lr: \t1.0000E-04 loss: \t2.45633\n",
            " epoch [0065 / 0100] eta: 0 Days 1:47:4        [0699/1923] lr: \t1.0000E-04 loss: \t2.47181\n",
            " epoch [0065 / 0100] eta: 0 Days 1:46:58       [0799/1923] lr: \t1.0000E-04 loss: \t2.47238\n",
            " epoch [0065 / 0100] eta: 0 Days 1:50:9        [0899/1923] lr: \t1.0000E-04 loss: \t2.46390\n",
            " epoch [0065 / 0100] eta: 0 Days 1:50:4        [0999/1923] lr: \t1.0000E-04 loss: \t2.45987\n",
            " epoch [0065 / 0100] eta: 0 Days 1:49:30       [1099/1923] lr: \t1.0000E-04 loss: \t2.44739\n",
            " epoch [0065 / 0100] eta: 0 Days 1:47:4        [1199/1923] lr: \t1.0000E-04 loss: \t2.44307\n",
            " epoch [0065 / 0100] eta: 0 Days 2:3:23        [1299/1923] lr: \t1.0000E-04 loss: \t2.44315\n",
            " epoch [0065 / 0100] eta: 0 Days 1:46:54       [1399/1923] lr: \t1.0000E-04 loss: \t2.44341\n",
            " epoch [0065 / 0100] eta: 0 Days 1:46:3        [1499/1923] lr: \t1.0000E-04 loss: \t2.43811\n",
            " epoch [0065 / 0100] eta: 0 Days 1:46:43       [1599/1923] lr: \t1.0000E-04 loss: \t2.44159\n",
            " epoch [0065 / 0100] eta: 0 Days 2:7:53        [1699/1923] lr: \t1.0000E-04 loss: \t2.43964\n",
            " epoch [0065 / 0100] eta: 0 Days 1:48:7        [1799/1923] lr: \t1.0000E-04 loss: \t2.44324\n",
            " epoch [0065 / 0100] eta: 0 Days 1:46:37       [1899/1923] lr: \t1.0000E-04 loss: \t2.44568\n"
          ]
        },
        {
          "metadata": {
            "tags": null
          },
          "name": "stderr",
          "output_type": "stream",
          "text": [
            "100%|██████████| 28/28 [00:43<00:00,  1.54s/it]\n"
          ]
        },
        {
          "metadata": {
            "tags": null
          },
          "name": "stdout",
          "output_type": "stream",
          "text": [
            "saving last_epoch checkpoint\n",
            "saving min_loss checkpoint\n",
            "val AUROC mean 0.7504\n",
            "Atelectasis 0.7476\n",
            "Cardiomegaly 0.8872\n",
            "Effusion 0.8117\n",
            "Infiltration 0.6989\n",
            "Mass 0.8122\n",
            "Nodule 0.7088\n",
            "Pneumothorax 0.7833\n",
            "Consolidation 0.7037\n",
            "Pleural_Thickening 0.6771\n",
            "Hernia 0.6733\n"
          ]
        },
        {
          "metadata": {
            "tags": null
          },
          "name": "stderr",
          "output_type": "stream",
          "text": [
            "100%|██████████| 219/219 [01:04<00:00,  3.41it/s]\n"
          ]
        },
        {
          "metadata": {
            "tags": null
          },
          "name": "stdout",
          "output_type": "stream",
          "text": [
            "\n",
            "test_seen AUROC mean 0.7443\n",
            "Atelectasis 0.7253\n",
            "Effusion 0.8130\n",
            "Infiltration 0.6733\n",
            "Mass 0.7695\n",
            "Nodule 0.7283\n",
            "Pneumothorax 0.7921\n",
            "Consolidation 0.6771\n",
            "Cardiomegaly 0.8894\n",
            "Pleural_Thickening 0.6723\n",
            "Hernia 0.7024\n",
            "\n",
            "test_unseen AUROC mean 0.5764\n",
            "Edema 0.4820\n",
            "Pneumonia 0.5189\n",
            "Emphysema 0.6460\n",
            "Fibrosis 0.6587\n",
            "best epoch 61 best auroc 0.7526767170882589 loss 2.452543 auroc at min loss 0.7504\n",
            " epoch [0066 / 0100] eta: 0 Days 1:44:24       [0099/1923] lr: \t1.0000E-04 loss: \t2.45917\n",
            " epoch [0066 / 0100] eta: 0 Days 1:46:40       [0199/1923] lr: \t1.0000E-04 loss: \t2.43701\n",
            " epoch [0066 / 0100] eta: 0 Days 1:46:46       [0299/1923] lr: \t1.0000E-04 loss: \t2.42126\n",
            " epoch [0066 / 0100] eta: 0 Days 1:52:11       [0399/1923] lr: \t1.0000E-04 loss: \t2.42166\n",
            " epoch [0066 / 0100] eta: 0 Days 1:43:53       [0499/1923] lr: \t1.0000E-04 loss: \t2.42436\n",
            " epoch [0066 / 0100] eta: 0 Days 1:49:3        [0599/1923] lr: \t1.0000E-04 loss: \t2.43348\n",
            " epoch [0066 / 0100] eta: 0 Days 1:43:6        [0699/1923] lr: \t1.0000E-04 loss: \t2.43603\n",
            " epoch [0066 / 0100] eta: 0 Days 1:46:49       [0799/1923] lr: \t1.0000E-04 loss: \t2.44007\n",
            " epoch [0066 / 0100] eta: 0 Days 1:44:58       [0899/1923] lr: \t1.0000E-04 loss: \t2.45482\n",
            " epoch [0066 / 0100] eta: 0 Days 1:45:17       [0999/1923] lr: \t1.0000E-04 loss: \t2.45161\n",
            " epoch [0066 / 0100] eta: 0 Days 1:46:46       [1099/1923] lr: \t1.0000E-04 loss: \t2.44892\n",
            " epoch [0066 / 0100] eta: 0 Days 1:47:54       [1199/1923] lr: \t1.0000E-04 loss: \t2.45401\n",
            " epoch [0066 / 0100] eta: 0 Days 1:42:48       [1299/1923] lr: \t1.0000E-04 loss: \t2.45830\n",
            " epoch [0066 / 0100] eta: 0 Days 1:49:23       [1399/1923] lr: \t1.0000E-04 loss: \t2.45637\n",
            " epoch [0066 / 0100] eta: 0 Days 1:46:14       [1499/1923] lr: \t1.0000E-04 loss: \t2.46076\n",
            " epoch [0066 / 0100] eta: 0 Days 1:41:22       [1599/1923] lr: \t1.0000E-04 loss: \t2.45429\n",
            " epoch [0066 / 0100] eta: 0 Days 1:43:57       [1699/1923] lr: \t1.0000E-04 loss: \t2.45246\n",
            " epoch [0066 / 0100] eta: 0 Days 1:45:56       [1799/1923] lr: \t1.0000E-04 loss: \t2.44929\n",
            " epoch [0066 / 0100] eta: 0 Days 1:46:40       [1899/1923] lr: \t1.0000E-04 loss: \t2.44974\n"
          ]
        },
        {
          "metadata": {
            "tags": null
          },
          "name": "stderr",
          "output_type": "stream",
          "text": [
            "100%|██████████| 28/28 [00:43<00:00,  1.54s/it]\n"
          ]
        },
        {
          "metadata": {
            "tags": null
          },
          "name": "stdout",
          "output_type": "stream",
          "text": [
            "saving last_epoch checkpoint\n",
            "val AUROC mean 0.7501\n",
            "Atelectasis 0.7511\n",
            "Cardiomegaly 0.8840\n",
            "Effusion 0.8087\n",
            "Infiltration 0.6977\n",
            "Mass 0.8035\n",
            "Nodule 0.7009\n",
            "Pneumothorax 0.7887\n",
            "Consolidation 0.7075\n",
            "Pleural_Thickening 0.6630\n",
            "Hernia 0.6964\n",
            "best epoch 61 best auroc 0.7526767170882589 loss 2.458510 auroc at min loss 0.7504\n",
            " epoch [0067 / 0100] eta: 0 Days 1:44:44       [0099/1923] lr: \t1.0000E-04 loss: \t2.50700\n",
            " epoch [0067 / 0100] eta: 0 Days 1:47:20       [0199/1923] lr: \t1.0000E-04 loss: \t2.53361\n",
            " epoch [0067 / 0100] eta: 0 Days 1:41:50       [0299/1923] lr: \t1.0000E-04 loss: \t2.51482\n",
            " epoch [0067 / 0100] eta: 0 Days 1:45:12       [0399/1923] lr: \t1.0000E-04 loss: \t2.46669\n",
            " epoch [0067 / 0100] eta: 0 Days 1:43:5        [0499/1923] lr: \t1.0000E-04 loss: \t2.45229\n",
            " epoch [0067 / 0100] eta: 0 Days 1:41:22       [0599/1923] lr: \t1.0000E-04 loss: \t2.45641\n",
            " epoch [0067 / 0100] eta: 0 Days 1:41:27       [0699/1923] lr: \t1.0000E-04 loss: \t2.46006\n",
            " epoch [0067 / 0100] eta: 0 Days 1:42:20       [0799/1923] lr: \t1.0000E-04 loss: \t2.44200\n",
            " epoch [0067 / 0100] eta: 0 Days 1:44:35       [0899/1923] lr: \t1.0000E-04 loss: \t2.44561\n",
            " epoch [0067 / 0100] eta: 0 Days 1:40:45       [0999/1923] lr: \t1.0000E-04 loss: \t2.43859\n",
            " epoch [0067 / 0100] eta: 0 Days 1:44:10       [1099/1923] lr: \t1.0000E-04 loss: \t2.43907\n",
            " epoch [0067 / 0100] eta: 0 Days 1:41:16       [1199/1923] lr: \t1.0000E-04 loss: \t2.43104\n",
            " epoch [0067 / 0100] eta: 0 Days 1:42:4        [1299/1923] lr: \t1.0000E-04 loss: \t2.43985\n",
            " epoch [0067 / 0100] eta: 0 Days 1:44:17       [1399/1923] lr: \t1.0000E-04 loss: \t2.44328\n",
            " epoch [0067 / 0100] eta: 0 Days 2:1:53        [1499/1923] lr: \t1.0000E-04 loss: \t2.44360\n",
            " epoch [0067 / 0100] eta: 0 Days 1:40:30       [1599/1923] lr: \t1.0000E-04 loss: \t2.44316\n",
            " epoch [0067 / 0100] eta: 0 Days 1:40:1        [1699/1923] lr: \t1.0000E-04 loss: \t2.44484\n",
            " epoch [0067 / 0100] eta: 0 Days 1:41:39       [1799/1923] lr: \t1.0000E-04 loss: \t2.44218\n",
            " epoch [0067 / 0100] eta: 0 Days 1:41:50       [1899/1923] lr: \t1.0000E-04 loss: \t2.43814\n"
          ]
        },
        {
          "metadata": {
            "tags": null
          },
          "name": "stderr",
          "output_type": "stream",
          "text": [
            "100%|██████████| 28/28 [00:44<00:00,  1.59s/it]\n"
          ]
        },
        {
          "metadata": {
            "tags": null
          },
          "name": "stdout",
          "output_type": "stream",
          "text": [
            "saving last_epoch checkpoint\n",
            "val AUROC mean 0.7448\n",
            "Atelectasis 0.7585\n",
            "Cardiomegaly 0.8864\n",
            "Effusion 0.8158\n",
            "Infiltration 0.6977\n",
            "Mass 0.8063\n",
            "Nodule 0.6851\n",
            "Pneumothorax 0.7753\n",
            "Consolidation 0.7069\n",
            "Pleural_Thickening 0.6462\n",
            "Hernia 0.6701\n",
            "best epoch 61 best auroc 0.7526767170882589 loss 2.528489 auroc at min loss 0.7504\n",
            " epoch [0068 / 0100] eta: 0 Days 1:45:10       [0099/1923] lr: \t1.0000E-04 loss: \t2.45630\n",
            " epoch [0068 / 0100] eta: 0 Days 1:41:36       [0199/1923] lr: \t1.0000E-04 loss: \t2.47604\n",
            " epoch [0068 / 0100] eta: 0 Days 1:51:28       [0299/1923] lr: \t1.0000E-04 loss: \t2.46262\n",
            " epoch [0068 / 0100] eta: 0 Days 1:40:56       [0399/1923] lr: \t1.0000E-04 loss: \t2.45319\n",
            " epoch [0068 / 0100] eta: 0 Days 1:38:16       [0499/1923] lr: \t1.0000E-04 loss: \t2.43996\n",
            " epoch [0068 / 0100] eta: 0 Days 1:39:20       [0599/1923] lr: \t1.0000E-04 loss: \t2.41209\n",
            " epoch [0068 / 0100] eta: 0 Days 1:37:37       [0699/1923] lr: \t1.0000E-04 loss: \t2.40665\n",
            " epoch [0068 / 0100] eta: 0 Days 1:39:13       [0799/1923] lr: \t1.0000E-04 loss: \t2.41315\n",
            " epoch [0068 / 0100] eta: 0 Days 1:39:50       [0899/1923] lr: \t1.0000E-04 loss: \t2.42718\n",
            " epoch [0068 / 0100] eta: 0 Days 1:44:4        [0999/1923] lr: \t1.0000E-04 loss: \t2.43243\n",
            " epoch [0068 / 0100] eta: 0 Days 1:38:52       [1099/1923] lr: \t1.0000E-04 loss: \t2.43910\n",
            " epoch [0068 / 0100] eta: 0 Days 1:40:8        [1199/1923] lr: \t1.0000E-04 loss: \t2.43674\n",
            " epoch [0068 / 0100] eta: 0 Days 1:38:26       [1299/1923] lr: \t1.0000E-04 loss: \t2.44268\n",
            " epoch [0068 / 0100] eta: 0 Days 1:44:1        [1399/1923] lr: \t1.0000E-04 loss: \t2.44212\n",
            " epoch [0068 / 0100] eta: 0 Days 1:38:52       [1499/1923] lr: \t1.0000E-04 loss: \t2.44141\n",
            " epoch [0068 / 0100] eta: 0 Days 1:37:51       [1599/1923] lr: \t1.0000E-04 loss: \t2.44171\n",
            " epoch [0068 / 0100] eta: 0 Days 1:39:8        [1699/1923] lr: \t1.0000E-04 loss: \t2.44208\n",
            " epoch [0068 / 0100] eta: 0 Days 1:38:57       [1799/1923] lr: \t1.0000E-04 loss: \t2.44316\n",
            " epoch [0068 / 0100] eta: 0 Days 1:36:14       [1899/1923] lr: \t1.0000E-04 loss: \t2.44402\n"
          ]
        },
        {
          "metadata": {
            "tags": null
          },
          "name": "stderr",
          "output_type": "stream",
          "text": [
            "100%|██████████| 28/28 [00:43<00:00,  1.56s/it]\n"
          ]
        },
        {
          "metadata": {
            "tags": null
          },
          "name": "stdout",
          "output_type": "stream",
          "text": [
            "saving last_epoch checkpoint\n",
            "saving min_loss checkpoint\n",
            "val AUROC mean 0.7501\n",
            "Atelectasis 0.7519\n",
            "Cardiomegaly 0.8891\n",
            "Effusion 0.8158\n",
            "Infiltration 0.7035\n",
            "Mass 0.8069\n",
            "Nodule 0.6932\n",
            "Pneumothorax 0.7743\n",
            "Consolidation 0.6999\n",
            "Pleural_Thickening 0.6976\n",
            "Hernia 0.6690\n"
          ]
        },
        {
          "metadata": {
            "tags": null
          },
          "name": "stderr",
          "output_type": "stream",
          "text": [
            "100%|██████████| 219/219 [01:03<00:00,  3.43it/s]\n"
          ]
        },
        {
          "metadata": {
            "tags": null
          },
          "name": "stdout",
          "output_type": "stream",
          "text": [
            "\n",
            "test_seen AUROC mean 0.7555\n",
            "Atelectasis 0.7271\n",
            "Effusion 0.8077\n",
            "Infiltration 0.6644\n",
            "Mass 0.7725\n",
            "Nodule 0.7264\n",
            "Pneumothorax 0.7975\n",
            "Consolidation 0.6818\n",
            "Cardiomegaly 0.9021\n",
            "Pleural_Thickening 0.7038\n",
            "Hernia 0.7716\n",
            "\n",
            "test_unseen AUROC mean 0.5727\n",
            "Edema 0.4952\n",
            "Pneumonia 0.4965\n",
            "Emphysema 0.6536\n",
            "Fibrosis 0.6454\n",
            "best epoch 61 best auroc 0.7526767170882589 loss 2.444601 auroc at min loss 0.7501\n",
            " epoch [0069 / 0100] eta: 0 Days 1:37:43       [0099/1923] lr: \t1.0000E-04 loss: \t2.31635\n",
            " epoch [0069 / 0100] eta: 0 Days 1:38:50       [0199/1923] lr: \t1.0000E-04 loss: \t2.35400\n",
            " epoch [0069 / 0100] eta: 0 Days 1:36:21       [0299/1923] lr: \t1.0000E-04 loss: \t2.34859\n",
            " epoch [0069 / 0100] eta: 0 Days 1:34:4        [0399/1923] lr: \t1.0000E-04 loss: \t2.35773\n",
            " epoch [0069 / 0100] eta: 0 Days 1:38:36       [0499/1923] lr: \t1.0000E-04 loss: \t2.37063\n",
            " epoch [0069 / 0100] eta: 0 Days 1:36:59       [0599/1923] lr: \t1.0000E-04 loss: \t2.37383\n",
            " epoch [0069 / 0100] eta: 0 Days 1:38:26       [0699/1923] lr: \t1.0000E-04 loss: \t2.38494\n",
            " epoch [0069 / 0100] eta: 0 Days 1:36:40       [0799/1923] lr: \t1.0000E-04 loss: \t2.40590\n",
            " epoch [0069 / 0100] eta: 0 Days 2:0:4         [0899/1923] lr: \t1.0000E-04 loss: \t2.40394\n",
            " epoch [0069 / 0100] eta: 0 Days 1:33:46       [0999/1923] lr: \t1.0000E-04 loss: \t2.40629\n",
            " epoch [0069 / 0100] eta: 0 Days 1:37:36       [1099/1923] lr: \t1.0000E-04 loss: \t2.40409\n",
            " epoch [0069 / 0100] eta: 0 Days 1:49:54       [1199/1923] lr: \t1.0000E-04 loss: \t2.40735\n",
            " epoch [0069 / 0100] eta: 0 Days 1:35:36       [1299/1923] lr: \t1.0000E-04 loss: \t2.40568\n",
            " epoch [0069 / 0100] eta: 0 Days 1:37:12       [1399/1923] lr: \t1.0000E-04 loss: \t2.41858\n",
            " epoch [0069 / 0100] eta: 0 Days 1:36:6        [1499/1923] lr: \t1.0000E-04 loss: \t2.42651\n",
            " epoch [0069 / 0100] eta: 0 Days 1:36:5        [1599/1923] lr: \t1.0000E-04 loss: \t2.42680\n",
            " epoch [0069 / 0100] eta: 0 Days 1:40:45       [1699/1923] lr: \t1.0000E-04 loss: \t2.42843\n",
            " epoch [0069 / 0100] eta: 0 Days 1:33:31       [1799/1923] lr: \t1.0000E-04 loss: \t2.42698\n",
            " epoch [0069 / 0100] eta: 0 Days 1:38:40       [1899/1923] lr: \t1.0000E-04 loss: \t2.42418\n"
          ]
        },
        {
          "metadata": {
            "tags": null
          },
          "name": "stderr",
          "output_type": "stream",
          "text": [
            "100%|██████████| 28/28 [00:45<00:00,  1.63s/it]\n"
          ]
        },
        {
          "metadata": {
            "tags": null
          },
          "name": "stdout",
          "output_type": "stream",
          "text": [
            "saving last_epoch checkpoint\n",
            "saving best_auroc checkpoint\n",
            "val AUROC mean 0.7527\n",
            "Atelectasis 0.7573\n",
            "Cardiomegaly 0.8757\n",
            "Effusion 0.8185\n",
            "Infiltration 0.6948\n",
            "Mass 0.8130\n",
            "Nodule 0.7026\n",
            "Pneumothorax 0.7872\n",
            "Consolidation 0.7015\n",
            "Pleural_Thickening 0.6927\n",
            "Hernia 0.6839\n"
          ]
        },
        {
          "metadata": {
            "tags": null
          },
          "name": "stderr",
          "output_type": "stream",
          "text": [
            "100%|██████████| 219/219 [01:03<00:00,  3.44it/s]\n"
          ]
        },
        {
          "metadata": {
            "tags": null
          },
          "name": "stdout",
          "output_type": "stream",
          "text": [
            "\n",
            "test_seen AUROC mean 0.7485\n",
            "Atelectasis 0.7337\n",
            "Effusion 0.8191\n",
            "Infiltration 0.6753\n",
            "Mass 0.7717\n",
            "Nodule 0.7261\n",
            "Pneumothorax 0.7850\n",
            "Consolidation 0.6816\n",
            "Cardiomegaly 0.8829\n",
            "Pleural_Thickening 0.6962\n",
            "Hernia 0.7137\n",
            "\n",
            "test_unseen AUROC mean 0.5960\n",
            "Edema 0.5181\n",
            "Pneumonia 0.5383\n",
            "Emphysema 0.6670\n",
            "Fibrosis 0.6605\n",
            "best epoch 69 best auroc 0.752729986721003 loss 2.470601 auroc at min loss 0.7501\n",
            " epoch [0070 / 0100] eta: 0 Days 1:33:26       [0099/1923] lr: \t1.0000E-04 loss: \t2.24290\n",
            " epoch [0070 / 0100] eta: 0 Days 1:54:44       [0199/1923] lr: \t1.0000E-04 loss: \t2.33036\n",
            " epoch [0070 / 0100] eta: 0 Days 1:43:58       [0299/1923] lr: \t1.0000E-04 loss: \t2.35049\n",
            " epoch [0070 / 0100] eta: 0 Days 1:37:5        [0399/1923] lr: \t1.0000E-04 loss: \t2.36570\n",
            " epoch [0070 / 0100] eta: 0 Days 1:32:47       [0499/1923] lr: \t1.0000E-04 loss: \t2.38097\n",
            " epoch [0070 / 0100] eta: 0 Days 1:34:56       [0599/1923] lr: \t1.0000E-04 loss: \t2.39312\n",
            " epoch [0070 / 0100] eta: 0 Days 1:45:3        [0699/1923] lr: \t1.0000E-04 loss: \t2.39455\n",
            " epoch [0070 / 0100] eta: 0 Days 1:32:49       [0799/1923] lr: \t1.0000E-04 loss: \t2.39772\n",
            " epoch [0070 / 0100] eta: 0 Days 1:33:54       [0899/1923] lr: \t1.0000E-04 loss: \t2.39775\n",
            " epoch [0070 / 0100] eta: 0 Days 1:33:21       [0999/1923] lr: \t1.0000E-04 loss: \t2.40560\n",
            " epoch [0070 / 0100] eta: 0 Days 1:32:46       [1099/1923] lr: \t1.0000E-04 loss: \t2.41413\n",
            " epoch [0070 / 0100] eta: 0 Days 1:49:41       [1199/1923] lr: \t1.0000E-04 loss: \t2.41167\n",
            " epoch [0070 / 0100] eta: 0 Days 1:33:53       [1299/1923] lr: \t1.0000E-04 loss: \t2.41042\n",
            " epoch [0070 / 0100] eta: 0 Days 1:30:15       [1399/1923] lr: \t1.0000E-04 loss: \t2.41438\n",
            " epoch [0070 / 0100] eta: 0 Days 1:30:44       [1499/1923] lr: \t1.0000E-04 loss: \t2.41443\n",
            " epoch [0070 / 0100] eta: 0 Days 1:29:56       [1599/1923] lr: \t1.0000E-04 loss: \t2.41547\n",
            " epoch [0070 / 0100] eta: 0 Days 1:30:18       [1699/1923] lr: \t1.0000E-04 loss: \t2.41815\n",
            " epoch [0070 / 0100] eta: 0 Days 1:30:53       [1799/1923] lr: \t1.0000E-04 loss: \t2.41696\n",
            " epoch [0070 / 0100] eta: 0 Days 1:31:1        [1899/1923] lr: \t1.0000E-04 loss: \t2.41548\n"
          ]
        },
        {
          "metadata": {
            "tags": null
          },
          "name": "stderr",
          "output_type": "stream",
          "text": [
            "100%|██████████| 28/28 [00:44<00:00,  1.58s/it]\n"
          ]
        },
        {
          "metadata": {
            "tags": null
          },
          "name": "stdout",
          "output_type": "stream",
          "text": [
            "saving last_epoch checkpoint\n",
            "val AUROC mean 0.7496\n",
            "Atelectasis 0.7510\n",
            "Cardiomegaly 0.8817\n",
            "Effusion 0.8143\n",
            "Infiltration 0.6979\n",
            "Mass 0.7932\n",
            "Nodule 0.7034\n",
            "Pneumothorax 0.8044\n",
            "Consolidation 0.6974\n",
            "Pleural_Thickening 0.6821\n",
            "Hernia 0.6709\n",
            "best epoch 69 best auroc 0.752729986721003 loss 2.467942 auroc at min loss 0.7501\n",
            " epoch [0071 / 0100] eta: 0 Days 1:32:40       [0099/1923] lr: \t1.0000E-04 loss: \t2.40750\n",
            " epoch [0071 / 0100] eta: 0 Days 1:28:24       [0199/1923] lr: \t1.0000E-04 loss: \t2.44029\n",
            " epoch [0071 / 0100] eta: 0 Days 1:29:19       [0299/1923] lr: \t1.0000E-04 loss: \t2.40046\n",
            " epoch [0071 / 0100] eta: 0 Days 1:32:49       [0399/1923] lr: \t1.0000E-04 loss: \t2.41138\n",
            " epoch [0071 / 0100] eta: 0 Days 1:29:39       [0499/1923] lr: \t1.0000E-04 loss: \t2.40005\n",
            " epoch [0071 / 0100] eta: 0 Days 1:29:7        [0599/1923] lr: \t1.0000E-04 loss: \t2.40844\n",
            " epoch [0071 / 0100] eta: 0 Days 1:27:58       [0699/1923] lr: \t1.0000E-04 loss: \t2.39815\n",
            " epoch [0071 / 0100] eta: 0 Days 1:29:51       [0799/1923] lr: \t1.0000E-04 loss: \t2.39153\n",
            " epoch [0071 / 0100] eta: 0 Days 1:28:40       [0899/1923] lr: \t1.0000E-04 loss: \t2.37954\n",
            " epoch [0071 / 0100] eta: 0 Days 1:34:9        [0999/1923] lr: \t1.0000E-04 loss: \t2.39344\n",
            " epoch [0071 / 0100] eta: 0 Days 1:28:36       [1099/1923] lr: \t1.0000E-04 loss: \t2.39359\n",
            " epoch [0071 / 0100] eta: 0 Days 1:29:30       [1199/1923] lr: \t1.0000E-04 loss: \t2.38840\n",
            " epoch [0071 / 0100] eta: 0 Days 1:27:59       [1299/1923] lr: \t1.0000E-04 loss: \t2.40005\n",
            " epoch [0071 / 0100] eta: 0 Days 1:30:0        [1399/1923] lr: \t1.0000E-04 loss: \t2.41115\n",
            " epoch [0071 / 0100] eta: 0 Days 1:30:4        [1499/1923] lr: \t1.0000E-04 loss: \t2.41575\n",
            " epoch [0071 / 0100] eta: 0 Days 1:29:20       [1599/1923] lr: \t1.0000E-04 loss: \t2.41650\n",
            " epoch [0071 / 0100] eta: 0 Days 1:31:26       [1699/1923] lr: \t1.0000E-04 loss: \t2.41843\n",
            " epoch [0071 / 0100] eta: 0 Days 1:27:45       [1799/1923] lr: \t1.0000E-04 loss: \t2.41898\n",
            " epoch [0071 / 0100] eta: 0 Days 1:29:13       [1899/1923] lr: \t1.0000E-04 loss: \t2.41876\n"
          ]
        },
        {
          "metadata": {
            "tags": null
          },
          "name": "stderr",
          "output_type": "stream",
          "text": [
            "100%|██████████| 28/28 [00:44<00:00,  1.58s/it]\n"
          ]
        },
        {
          "metadata": {
            "tags": null
          },
          "name": "stdout",
          "output_type": "stream",
          "text": [
            "saving last_epoch checkpoint\n",
            "saving best_auroc checkpoint\n",
            "saving min_loss checkpoint\n",
            "val AUROC mean 0.7578\n",
            "Atelectasis 0.7490\n",
            "Cardiomegaly 0.8832\n",
            "Effusion 0.8141\n",
            "Infiltration 0.7060\n",
            "Mass 0.8180\n",
            "Nodule 0.6955\n",
            "Pneumothorax 0.7944\n",
            "Consolidation 0.6982\n",
            "Pleural_Thickening 0.6885\n",
            "Hernia 0.7306\n"
          ]
        },
        {
          "metadata": {
            "tags": null
          },
          "name": "stderr",
          "output_type": "stream",
          "text": [
            "100%|██████████| 219/219 [01:05<00:00,  3.35it/s]\n"
          ]
        },
        {
          "metadata": {
            "tags": null
          },
          "name": "stdout",
          "output_type": "stream",
          "text": [
            "\n",
            "test_seen AUROC mean 0.7615\n",
            "Atelectasis 0.7314\n",
            "Effusion 0.8193\n",
            "Infiltration 0.6785\n",
            "Mass 0.7897\n",
            "Nodule 0.7232\n",
            "Pneumothorax 0.7913\n",
            "Consolidation 0.6802\n",
            "Cardiomegaly 0.8889\n",
            "Pleural_Thickening 0.6940\n",
            "Hernia 0.8182\n",
            "\n",
            "test_unseen AUROC mean 0.5851\n",
            "Edema 0.4920\n",
            "Pneumonia 0.5281\n",
            "Emphysema 0.6693\n",
            "Fibrosis 0.6510\n",
            "best epoch 71 best auroc 0.7577627426533564 loss 2.437191 auroc at min loss 0.7578\n",
            " epoch [0072 / 0100] eta: 0 Days 1:42:52       [0099/1923] lr: \t1.0000E-04 loss: \t2.33265\n",
            " epoch [0072 / 0100] eta: 0 Days 1:28:9        [0199/1923] lr: \t1.0000E-04 loss: \t2.37444\n",
            " epoch [0072 / 0100] eta: 0 Days 1:29:37       [0299/1923] lr: \t1.0000E-04 loss: \t2.39340\n",
            " epoch [0072 / 0100] eta: 0 Days 1:29:35       [0399/1923] lr: \t1.0000E-04 loss: \t2.41134\n",
            " epoch [0072 / 0100] eta: 0 Days 1:28:14       [0499/1923] lr: \t1.0000E-04 loss: \t2.39703\n",
            " epoch [0072 / 0100] eta: 0 Days 1:28:39       [0599/1923] lr: \t1.0000E-04 loss: \t2.39868\n",
            " epoch [0072 / 0100] eta: 0 Days 1:37:29       [0699/1923] lr: \t1.0000E-04 loss: \t2.39941\n",
            " epoch [0072 / 0100] eta: 0 Days 1:28:18       [0799/1923] lr: \t1.0000E-04 loss: \t2.39753\n",
            " epoch [0072 / 0100] eta: 0 Days 1:24:25       [0899/1923] lr: \t1.0000E-04 loss: \t2.39620\n",
            " epoch [0072 / 0100] eta: 0 Days 1:26:38       [0999/1923] lr: \t1.0000E-04 loss: \t2.39674\n",
            " epoch [0072 / 0100] eta: 0 Days 1:28:54       [1099/1923] lr: \t1.0000E-04 loss: \t2.39328\n",
            " epoch [0072 / 0100] eta: 0 Days 1:50:40       [1199/1923] lr: \t1.0000E-04 loss: \t2.39383\n",
            " epoch [0072 / 0100] eta: 0 Days 1:27:57       [1299/1923] lr: \t1.0000E-04 loss: \t2.39345\n",
            " epoch [0072 / 0100] eta: 0 Days 1:24:53       [1399/1923] lr: \t1.0000E-04 loss: \t2.39115\n",
            " epoch [0072 / 0100] eta: 0 Days 1:26:44       [1499/1923] lr: \t1.0000E-04 loss: \t2.39005\n",
            " epoch [0072 / 0100] eta: 0 Days 1:27:6        [1599/1923] lr: \t1.0000E-04 loss: \t2.39289\n",
            " epoch [0072 / 0100] eta: 0 Days 1:29:41       [1699/1923] lr: \t1.0000E-04 loss: \t2.38942\n",
            " epoch [0072 / 0100] eta: 0 Days 1:26:21       [1799/1923] lr: \t1.0000E-04 loss: \t2.39142\n",
            " epoch [0072 / 0100] eta: 0 Days 1:24:25       [1899/1923] lr: \t1.0000E-04 loss: \t2.39511\n"
          ]
        },
        {
          "metadata": {
            "tags": null
          },
          "name": "stderr",
          "output_type": "stream",
          "text": [
            "100%|██████████| 28/28 [00:44<00:00,  1.58s/it]\n"
          ]
        },
        {
          "metadata": {
            "tags": null
          },
          "name": "stdout",
          "output_type": "stream",
          "text": [
            "saving last_epoch checkpoint\n",
            "val AUROC mean 0.7458\n",
            "Atelectasis 0.7554\n",
            "Cardiomegaly 0.8821\n",
            "Effusion 0.8099\n",
            "Infiltration 0.7002\n",
            "Mass 0.8064\n",
            "Nodule 0.6953\n",
            "Pneumothorax 0.7603\n",
            "Consolidation 0.7145\n",
            "Pleural_Thickening 0.6944\n",
            "Hernia 0.6392\n",
            "best epoch 71 best auroc 0.7577627426533564 loss 2.478053 auroc at min loss 0.7578\n",
            " epoch [0073 / 0100] eta: 0 Days 1:24:5        [0099/1923] lr: \t1.0000E-04 loss: \t2.34230\n",
            " epoch [0073 / 0100] eta: 0 Days 1:24:20       [0199/1923] lr: \t1.0000E-04 loss: \t2.36887\n",
            " epoch [0073 / 0100] eta: 0 Days 1:34:8        [0299/1923] lr: \t1.0000E-04 loss: \t2.38278\n",
            " epoch [0073 / 0100] eta: 0 Days 1:22:46       [0399/1923] lr: \t1.0000E-04 loss: \t2.38804\n",
            " epoch [0073 / 0100] eta: 0 Days 1:41:42       [0499/1923] lr: \t1.0000E-04 loss: \t2.37002\n",
            " epoch [0073 / 0100] eta: 0 Days 1:23:54       [0599/1923] lr: \t1.0000E-04 loss: \t2.38077\n",
            " epoch [0073 / 0100] eta: 0 Days 1:22:53       [0699/1923] lr: \t1.0000E-04 loss: \t2.38063\n",
            " epoch [0073 / 0100] eta: 0 Days 1:22:36       [0799/1923] lr: \t1.0000E-04 loss: \t2.38311\n",
            " epoch [0073 / 0100] eta: 0 Days 1:42:26       [0899/1923] lr: \t1.0000E-04 loss: \t2.37447\n",
            " epoch [0073 / 0100] eta: 0 Days 1:24:26       [0999/1923] lr: \t1.0000E-04 loss: \t2.37064\n",
            " epoch [0073 / 0100] eta: 0 Days 1:26:19       [1099/1923] lr: \t1.0000E-04 loss: \t2.37012\n",
            " epoch [0073 / 0100] eta: 0 Days 1:26:14       [1199/1923] lr: \t1.0000E-04 loss: \t2.36901\n",
            " epoch [0073 / 0100] eta: 0 Days 1:21:44       [1299/1923] lr: \t1.0000E-04 loss: \t2.37393\n",
            " epoch [0073 / 0100] eta: 0 Days 1:24:33       [1399/1923] lr: \t1.0000E-04 loss: \t2.37446\n",
            " epoch [0073 / 0100] eta: 0 Days 1:23:11       [1499/1923] lr: \t1.0000E-04 loss: \t2.37172\n",
            " epoch [0073 / 0100] eta: 0 Days 1:23:31       [1599/1923] lr: \t1.0000E-04 loss: \t2.37296\n",
            " epoch [0073 / 0100] eta: 0 Days 1:22:22       [1699/1923] lr: \t1.0000E-04 loss: \t2.37856\n",
            " epoch [0073 / 0100] eta: 0 Days 1:19:50       [1799/1923] lr: \t1.0000E-04 loss: \t2.38323\n",
            " epoch [0073 / 0100] eta: 0 Days 1:21:23       [1899/1923] lr: \t1.0000E-04 loss: \t2.38874\n"
          ]
        },
        {
          "metadata": {
            "tags": null
          },
          "name": "stderr",
          "output_type": "stream",
          "text": [
            "100%|██████████| 28/28 [00:44<00:00,  1.59s/it]\n"
          ]
        },
        {
          "metadata": {
            "tags": null
          },
          "name": "stdout",
          "output_type": "stream",
          "text": [
            "saving last_epoch checkpoint\n",
            "val AUROC mean 0.7498\n",
            "Atelectasis 0.7589\n",
            "Cardiomegaly 0.8921\n",
            "Effusion 0.8214\n",
            "Infiltration 0.6985\n",
            "Mass 0.7933\n",
            "Nodule 0.6984\n",
            "Pneumothorax 0.7982\n",
            "Consolidation 0.6966\n",
            "Pleural_Thickening 0.6827\n",
            "Hernia 0.6579\n",
            "best epoch 71 best auroc 0.7577627426533564 loss 2.463044 auroc at min loss 0.7578\n",
            " epoch [0074 / 0100] eta: 0 Days 1:25:30       [0099/1923] lr: \t1.0000E-04 loss: \t2.54284\n",
            " epoch [0074 / 0100] eta: 0 Days 1:21:11       [0199/1923] lr: \t1.0000E-04 loss: \t2.45509\n",
            " epoch [0074 / 0100] eta: 0 Days 1:21:14       [0299/1923] lr: \t1.0000E-04 loss: \t2.41666\n",
            " epoch [0074 / 0100] eta: 0 Days 1:20:41       [0399/1923] lr: \t1.0000E-04 loss: \t2.42427\n",
            " epoch [0074 / 0100] eta: 0 Days 1:22:46       [0499/1923] lr: \t1.0000E-04 loss: \t2.39268\n",
            " epoch [0074 / 0100] eta: 0 Days 1:22:10       [0599/1923] lr: \t1.0000E-04 loss: \t2.39521\n",
            " epoch [0074 / 0100] eta: 0 Days 1:28:29       [0699/1923] lr: \t1.0000E-04 loss: \t2.39208\n",
            " epoch [0074 / 0100] eta: 0 Days 1:22:38       [0799/1923] lr: \t1.0000E-04 loss: \t2.39962\n",
            " epoch [0074 / 0100] eta: 0 Days 1:21:36       [0899/1923] lr: \t1.0000E-04 loss: \t2.41736\n",
            " epoch [0074 / 0100] eta: 0 Days 1:18:45       [0999/1923] lr: \t1.0000E-04 loss: \t2.41704\n",
            " epoch [0074 / 0100] eta: 0 Days 1:22:14       [1099/1923] lr: \t1.0000E-04 loss: \t2.40400\n",
            " epoch [0074 / 0100] eta: 0 Days 1:23:18       [1199/1923] lr: \t1.0000E-04 loss: \t2.40249\n",
            " epoch [0074 / 0100] eta: 0 Days 1:21:16       [1299/1923] lr: \t1.0000E-04 loss: \t2.40438\n",
            " epoch [0074 / 0100] eta: 0 Days 1:21:43       [1399/1923] lr: \t1.0000E-04 loss: \t2.40365\n",
            " epoch [0074 / 0100] eta: 0 Days 1:20:10       [1499/1923] lr: \t1.0000E-04 loss: \t2.40264\n",
            " epoch [0074 / 0100] eta: 0 Days 1:19:46       [1599/1923] lr: \t1.0000E-04 loss: \t2.40329\n",
            " epoch [0074 / 0100] eta: 0 Days 1:19:18       [1699/1923] lr: \t1.0000E-04 loss: \t2.40287\n",
            " epoch [0074 / 0100] eta: 0 Days 1:19:45       [1799/1923] lr: \t1.0000E-04 loss: \t2.40371\n",
            " epoch [0074 / 0100] eta: 0 Days 1:19:39       [1899/1923] lr: \t1.0000E-04 loss: \t2.40204\n"
          ]
        },
        {
          "metadata": {
            "tags": null
          },
          "name": "stderr",
          "output_type": "stream",
          "text": [
            "100%|██████████| 28/28 [00:45<00:00,  1.62s/it]\n"
          ]
        },
        {
          "metadata": {
            "tags": null
          },
          "name": "stdout",
          "output_type": "stream",
          "text": [
            "saving last_epoch checkpoint\n",
            "val AUROC mean 0.7568\n",
            "Atelectasis 0.7522\n",
            "Cardiomegaly 0.8922\n",
            "Effusion 0.8119\n",
            "Infiltration 0.6994\n",
            "Mass 0.8052\n",
            "Nodule 0.7157\n",
            "Pneumothorax 0.7939\n",
            "Consolidation 0.7014\n",
            "Pleural_Thickening 0.6907\n",
            "Hernia 0.7055\n",
            "best epoch 71 best auroc 0.7577627426533564 loss 2.437749 auroc at min loss 0.7578\n",
            " epoch [0075 / 0100] eta: 0 Days 1:18:8        [0099/1923] lr: \t1.0000E-04 loss: \t2.39546\n",
            " epoch [0075 / 0100] eta: 0 Days 1:29:41       [0199/1923] lr: \t1.0000E-04 loss: \t2.44218\n",
            " epoch [0075 / 0100] eta: 0 Days 1:20:50       [0299/1923] lr: \t1.0000E-04 loss: \t2.40871\n",
            " epoch [0075 / 0100] eta: 0 Days 1:19:0        [0399/1923] lr: \t1.0000E-04 loss: \t2.40508\n",
            " epoch [0075 / 0100] eta: 0 Days 1:17:3        [0499/1923] lr: \t1.0000E-04 loss: \t2.38856\n",
            " epoch [0075 / 0100] eta: 0 Days 1:17:36       [0599/1923] lr: \t1.0000E-04 loss: \t2.38267\n",
            " epoch [0075 / 0100] eta: 0 Days 1:17:26       [0699/1923] lr: \t1.0000E-04 loss: \t2.38367\n",
            " epoch [0075 / 0100] eta: 0 Days 1:18:18       [0799/1923] lr: \t1.0000E-04 loss: \t2.38744\n",
            " epoch [0075 / 0100] eta: 0 Days 1:31:47       [0899/1923] lr: \t1.0000E-04 loss: \t2.39448\n",
            " epoch [0075 / 0100] eta: 0 Days 1:20:48       [0999/1923] lr: \t1.0000E-04 loss: \t2.39891\n",
            " epoch [0075 / 0100] eta: 0 Days 1:19:0        [1099/1923] lr: \t1.0000E-04 loss: \t2.40686\n",
            " epoch [0075 / 0100] eta: 0 Days 1:16:53       [1199/1923] lr: \t1.0000E-04 loss: \t2.39783\n",
            " epoch [0075 / 0100] eta: 0 Days 1:17:55       [1299/1923] lr: \t1.0000E-04 loss: \t2.39369\n",
            " epoch [0075 / 0100] eta: 0 Days 1:16:10       [1399/1923] lr: \t1.0000E-04 loss: \t2.38643\n",
            " epoch [0075 / 0100] eta: 0 Days 1:18:32       [1499/1923] lr: \t1.0000E-04 loss: \t2.38798\n",
            " epoch [0075 / 0100] eta: 0 Days 1:16:14       [1599/1923] lr: \t1.0000E-04 loss: \t2.39086\n",
            " epoch [0075 / 0100] eta: 0 Days 1:16:16       [1699/1923] lr: \t1.0000E-04 loss: \t2.39018\n",
            " epoch [0075 / 0100] eta: 0 Days 1:17:3        [1799/1923] lr: \t1.0000E-04 loss: \t2.39193\n",
            " epoch [0075 / 0100] eta: 0 Days 1:27:0        [1899/1923] lr: \t1.0000E-04 loss: \t2.39044\n"
          ]
        },
        {
          "metadata": {
            "tags": null
          },
          "name": "stderr",
          "output_type": "stream",
          "text": [
            "100%|██████████| 28/28 [00:43<00:00,  1.55s/it]\n"
          ]
        },
        {
          "metadata": {
            "tags": null
          },
          "name": "stdout",
          "output_type": "stream",
          "text": [
            "saving last_epoch checkpoint\n",
            "saving best_auroc checkpoint\n",
            "val AUROC mean 0.7578\n",
            "Atelectasis 0.7552\n",
            "Cardiomegaly 0.8971\n",
            "Effusion 0.8136\n",
            "Infiltration 0.6982\n",
            "Mass 0.8147\n",
            "Nodule 0.7075\n",
            "Pneumothorax 0.7960\n",
            "Consolidation 0.6935\n",
            "Pleural_Thickening 0.6948\n",
            "Hernia 0.7072\n"
          ]
        },
        {
          "metadata": {
            "tags": null
          },
          "name": "stderr",
          "output_type": "stream",
          "text": [
            "100%|██████████| 219/219 [01:04<00:00,  3.37it/s]\n"
          ]
        },
        {
          "metadata": {
            "tags": null
          },
          "name": "stdout",
          "output_type": "stream",
          "text": [
            "\n",
            "test_seen AUROC mean 0.7586\n",
            "Atelectasis 0.7337\n",
            "Effusion 0.8142\n",
            "Infiltration 0.6687\n",
            "Mass 0.7830\n",
            "Nodule 0.7303\n",
            "Pneumothorax 0.7882\n",
            "Consolidation 0.6739\n",
            "Cardiomegaly 0.8912\n",
            "Pleural_Thickening 0.6918\n",
            "Hernia 0.8113\n",
            "\n",
            "test_unseen AUROC mean 0.5776\n",
            "Edema 0.5065\n",
            "Pneumonia 0.4814\n",
            "Emphysema 0.6632\n",
            "Fibrosis 0.6594\n",
            "best epoch 75 best auroc 0.7577803620183751 loss 2.439413 auroc at min loss 0.7578\n",
            " epoch [0076 / 0100] eta: 0 Days 1:15:45       [0099/1923] lr: \t1.0000E-04 loss: \t2.31761\n",
            " epoch [0076 / 0100] eta: 0 Days 1:15:43       [0199/1923] lr: \t1.0000E-04 loss: \t2.32183\n",
            " epoch [0076 / 0100] eta: 0 Days 1:16:36       [0299/1923] lr: \t1.0000E-04 loss: \t2.35225\n",
            " epoch [0076 / 0100] eta: 0 Days 1:30:39       [0399/1923] lr: \t1.0000E-04 loss: \t2.36343\n",
            " epoch [0076 / 0100] eta: 0 Days 1:18:16       [0499/1923] lr: \t1.0000E-04 loss: \t2.35670\n",
            " epoch [0076 / 0100] eta: 0 Days 1:14:7        [0599/1923] lr: \t1.0000E-04 loss: \t2.36861\n",
            " epoch [0076 / 0100] eta: 0 Days 1:14:55       [0699/1923] lr: \t1.0000E-04 loss: \t2.37522\n",
            " epoch [0076 / 0100] eta: 0 Days 1:19:29       [0799/1923] lr: \t1.0000E-04 loss: \t2.37174\n",
            " epoch [0076 / 0100] eta: 0 Days 1:39:46       [0899/1923] lr: \t1.0000E-04 loss: \t2.37363\n",
            " epoch [0076 / 0100] eta: 0 Days 1:12:35       [0999/1923] lr: \t1.0000E-04 loss: \t2.37370\n",
            " epoch [0076 / 0100] eta: 0 Days 1:15:1        [1099/1923] lr: \t1.0000E-04 loss: \t2.36615\n",
            " epoch [0076 / 0100] eta: 0 Days 1:16:46       [1199/1923] lr: \t1.0000E-04 loss: \t2.36570\n",
            " epoch [0076 / 0100] eta: 0 Days 1:12:25       [1299/1923] lr: \t1.0000E-04 loss: \t2.36076\n",
            " epoch [0076 / 0100] eta: 0 Days 1:12:20       [1399/1923] lr: \t1.0000E-04 loss: \t2.35779\n",
            " epoch [0076 / 0100] eta: 0 Days 1:13:4        [1499/1923] lr: \t1.0000E-04 loss: \t2.36094\n",
            " epoch [0076 / 0100] eta: 0 Days 1:14:57       [1599/1923] lr: \t1.0000E-04 loss: \t2.36451\n",
            " epoch [0076 / 0100] eta: 0 Days 1:14:8        [1699/1923] lr: \t1.0000E-04 loss: \t2.37036\n",
            " epoch [0076 / 0100] eta: 0 Days 1:13:31       [1799/1923] lr: \t1.0000E-04 loss: \t2.37505\n",
            " epoch [0076 / 0100] eta: 0 Days 1:12:58       [1899/1923] lr: \t1.0000E-04 loss: \t2.37798\n"
          ]
        },
        {
          "metadata": {
            "tags": null
          },
          "name": "stderr",
          "output_type": "stream",
          "text": [
            "100%|██████████| 28/28 [00:43<00:00,  1.56s/it]\n"
          ]
        },
        {
          "metadata": {
            "tags": null
          },
          "name": "stdout",
          "output_type": "stream",
          "text": [
            "saving last_epoch checkpoint\n",
            "val AUROC mean 0.7517\n",
            "Atelectasis 0.7475\n",
            "Cardiomegaly 0.8859\n",
            "Effusion 0.8084\n",
            "Infiltration 0.7015\n",
            "Mass 0.7995\n",
            "Nodule 0.6926\n",
            "Pneumothorax 0.8060\n",
            "Consolidation 0.6948\n",
            "Pleural_Thickening 0.6907\n",
            "Hernia 0.6898\n",
            "best epoch 75 best auroc 0.7577803620183751 loss 2.448071 auroc at min loss 0.7578\n",
            " epoch [0077 / 0100] eta: 0 Days 1:12:10       [0099/1923] lr: \t1.0000E-04 loss: \t2.31679\n",
            " epoch [0077 / 0100] eta: 0 Days 1:11:24       [0199/1923] lr: \t1.0000E-04 loss: \t2.33599\n",
            " epoch [0077 / 0100] eta: 0 Days 1:13:35       [0299/1923] lr: \t1.0000E-04 loss: \t2.34489\n",
            " epoch [0077 / 0100] eta: 0 Days 1:12:57       [0399/1923] lr: \t1.0000E-04 loss: \t2.34957\n",
            " epoch [0077 / 0100] eta: 0 Days 1:34:17       [0499/1923] lr: \t1.0000E-04 loss: \t2.35827\n",
            " epoch [0077 / 0100] eta: 0 Days 1:11:58       [0599/1923] lr: \t1.0000E-04 loss: \t2.35882\n",
            " epoch [0077 / 0100] eta: 0 Days 1:12:32       [0699/1923] lr: \t1.0000E-04 loss: \t2.35991\n",
            " epoch [0077 / 0100] eta: 0 Days 1:11:54       [0799/1923] lr: \t1.0000E-04 loss: \t2.36817\n",
            " epoch [0077 / 0100] eta: 0 Days 1:10:44       [0899/1923] lr: \t1.0000E-04 loss: \t2.36818\n",
            " epoch [0077 / 0100] eta: 0 Days 1:11:26       [0999/1923] lr: \t1.0000E-04 loss: \t2.37198\n",
            " epoch [0077 / 0100] eta: 0 Days 1:13:12       [1099/1923] lr: \t1.0000E-04 loss: \t2.37760\n",
            " epoch [0077 / 0100] eta: 0 Days 1:11:7        [1199/1923] lr: \t1.0000E-04 loss: \t2.37444\n",
            " epoch [0077 / 0100] eta: 0 Days 1:12:12       [1299/1923] lr: \t1.0000E-04 loss: \t2.36598\n",
            " epoch [0077 / 0100] eta: 0 Days 1:10:49       [1399/1923] lr: \t1.0000E-04 loss: \t2.37109\n",
            " epoch [0077 / 0100] eta: 0 Days 1:9:52        [1499/1923] lr: \t1.0000E-04 loss: \t2.37775\n",
            " epoch [0077 / 0100] eta: 0 Days 1:10:11       [1599/1923] lr: \t1.0000E-04 loss: \t2.38227\n",
            " epoch [0077 / 0100] eta: 0 Days 1:9:50        [1699/1923] lr: \t1.0000E-04 loss: \t2.38053\n",
            " epoch [0077 / 0100] eta: 0 Days 1:12:13       [1799/1923] lr: \t1.0000E-04 loss: \t2.37758\n",
            " epoch [0077 / 0100] eta: 0 Days 1:11:15       [1899/1923] lr: \t1.0000E-04 loss: \t2.37557\n"
          ]
        },
        {
          "metadata": {
            "tags": null
          },
          "name": "stderr",
          "output_type": "stream",
          "text": [
            "100%|██████████| 28/28 [00:44<00:00,  1.58s/it]\n"
          ]
        },
        {
          "metadata": {
            "tags": null
          },
          "name": "stdout",
          "output_type": "stream",
          "text": [
            "saving last_epoch checkpoint\n",
            "saving min_loss checkpoint\n",
            "val AUROC mean 0.7540\n",
            "Atelectasis 0.7586\n",
            "Cardiomegaly 0.8947\n",
            "Effusion 0.8177\n",
            "Infiltration 0.7060\n",
            "Mass 0.8112\n",
            "Nodule 0.7114\n",
            "Pneumothorax 0.7745\n",
            "Consolidation 0.6931\n",
            "Pleural_Thickening 0.7017\n",
            "Hernia 0.6713\n"
          ]
        },
        {
          "metadata": {
            "tags": null
          },
          "name": "stderr",
          "output_type": "stream",
          "text": [
            "100%|██████████| 219/219 [01:04<00:00,  3.42it/s]\n"
          ]
        },
        {
          "metadata": {
            "tags": null
          },
          "name": "stdout",
          "output_type": "stream",
          "text": [
            "\n",
            "test_seen AUROC mean 0.7565\n",
            "Atelectasis 0.7371\n",
            "Effusion 0.8129\n",
            "Infiltration 0.6780\n",
            "Mass 0.7855\n",
            "Nodule 0.7351\n",
            "Pneumothorax 0.7834\n",
            "Consolidation 0.6747\n",
            "Cardiomegaly 0.8965\n",
            "Pleural_Thickening 0.6949\n",
            "Hernia 0.7665\n",
            "\n",
            "test_unseen AUROC mean 0.5845\n",
            "Edema 0.5362\n",
            "Pneumonia 0.5334\n",
            "Emphysema 0.6475\n",
            "Fibrosis 0.6207\n",
            "best epoch 75 best auroc 0.7577803620183751 loss 2.432008 auroc at min loss 0.7540\n",
            " epoch [0078 / 0100] eta: 0 Days 1:13:14       [0099/1923] lr: \t1.0000E-04 loss: \t2.41349\n",
            " epoch [0078 / 0100] eta: 0 Days 1:11:6        [0199/1923] lr: \t1.0000E-04 loss: \t2.39739\n",
            " epoch [0078 / 0100] eta: 0 Days 1:8:55        [0299/1923] lr: \t1.0000E-04 loss: \t2.39987\n",
            " epoch [0078 / 0100] eta: 0 Days 1:9:25        [0399/1923] lr: \t1.0000E-04 loss: \t2.38062\n",
            " epoch [0078 / 0100] eta: 0 Days 1:9:43        [0499/1923] lr: \t1.0000E-04 loss: \t2.37838\n",
            " epoch [0078 / 0100] eta: 0 Days 1:9:48        [0599/1923] lr: \t1.0000E-04 loss: \t2.37035\n",
            " epoch [0078 / 0100] eta: 0 Days 1:8:43        [0699/1923] lr: \t1.0000E-04 loss: \t2.37003\n",
            " epoch [0078 / 0100] eta: 0 Days 1:8:33        [0799/1923] lr: \t1.0000E-04 loss: \t2.37140\n",
            " epoch [0078 / 0100] eta: 0 Days 1:8:5         [0899/1923] lr: \t1.0000E-04 loss: \t2.35922\n",
            " epoch [0078 / 0100] eta: 0 Days 1:7:43        [0999/1923] lr: \t1.0000E-04 loss: \t2.36485\n",
            " epoch [0078 / 0100] eta: 0 Days 1:9:33        [1099/1923] lr: \t1.0000E-04 loss: \t2.35718\n",
            " epoch [0078 / 0100] eta: 0 Days 1:9:59        [1199/1923] lr: \t1.0000E-04 loss: \t2.35801\n",
            " epoch [0078 / 0100] eta: 0 Days 1:8:28        [1299/1923] lr: \t1.0000E-04 loss: \t2.36429\n",
            " epoch [0078 / 0100] eta: 0 Days 1:8:15        [1399/1923] lr: \t1.0000E-04 loss: \t2.35842\n",
            " epoch [0078 / 0100] eta: 0 Days 1:11:32       [1499/1923] lr: \t1.0000E-04 loss: \t2.36230\n",
            " epoch [0078 / 0100] eta: 0 Days 1:8:20        [1599/1923] lr: \t1.0000E-04 loss: \t2.36138\n",
            " epoch [0078 / 0100] eta: 0 Days 1:7:42        [1699/1923] lr: \t1.0000E-04 loss: \t2.36323\n",
            " epoch [0078 / 0100] eta: 0 Days 1:10:34       [1799/1923] lr: \t1.0000E-04 loss: \t2.36011\n",
            " epoch [0078 / 0100] eta: 0 Days 1:6:27        [1899/1923] lr: \t1.0000E-04 loss: \t2.36167\n"
          ]
        },
        {
          "metadata": {
            "tags": null
          },
          "name": "stderr",
          "output_type": "stream",
          "text": [
            "100%|██████████| 28/28 [00:45<00:00,  1.64s/it]\n"
          ]
        },
        {
          "metadata": {
            "tags": null
          },
          "name": "stdout",
          "output_type": "stream",
          "text": [
            "saving last_epoch checkpoint\n",
            "val AUROC mean 0.7567\n",
            "Atelectasis 0.7573\n",
            "Cardiomegaly 0.8917\n",
            "Effusion 0.8138\n",
            "Infiltration 0.7036\n",
            "Mass 0.8132\n",
            "Nodule 0.7036\n",
            "Pneumothorax 0.7558\n",
            "Consolidation 0.7090\n",
            "Pleural_Thickening 0.7083\n",
            "Hernia 0.7108\n",
            "best epoch 75 best auroc 0.7577803620183751 loss 2.444866 auroc at min loss 0.7540\n",
            " epoch [0079 / 0100] eta: 0 Days 1:5:41        [0099/1923] lr: \t1.0000E-04 loss: \t2.35766\n",
            " epoch [0079 / 0100] eta: 0 Days 1:6:38        [0199/1923] lr: \t1.0000E-04 loss: \t2.34431\n",
            " epoch [0079 / 0100] eta: 0 Days 1:6:11        [0299/1923] lr: \t1.0000E-04 loss: \t2.35338\n",
            " epoch [0079 / 0100] eta: 0 Days 1:27:7        [0399/1923] lr: \t1.0000E-04 loss: \t2.36858\n",
            " epoch [0079 / 0100] eta: 0 Days 1:5:8         [0499/1923] lr: \t1.0000E-04 loss: \t2.36181\n",
            " epoch [0079 / 0100] eta: 0 Days 1:6:51        [0599/1923] lr: \t1.0000E-04 loss: \t2.36300\n",
            " epoch [0079 / 0100] eta: 0 Days 1:4:9         [0699/1923] lr: \t1.0000E-04 loss: \t2.35491\n",
            " epoch [0079 / 0100] eta: 0 Days 1:6:52        [0799/1923] lr: \t1.0000E-04 loss: \t2.36025\n",
            " epoch [0079 / 0100] eta: 0 Days 1:4:35        [0899/1923] lr: \t1.0000E-04 loss: \t2.34946\n",
            " epoch [0079 / 0100] eta: 0 Days 1:5:39        [0999/1923] lr: \t1.0000E-04 loss: \t2.34003\n",
            " epoch [0079 / 0100] eta: 0 Days 1:3:51        [1099/1923] lr: \t1.0000E-04 loss: \t2.35064\n",
            " epoch [0079 / 0100] eta: 0 Days 1:3:27        [1199/1923] lr: \t1.0000E-04 loss: \t2.35973\n",
            " epoch [0079 / 0100] eta: 0 Days 1:6:1         [1299/1923] lr: \t1.0000E-04 loss: \t2.36110\n",
            " epoch [0079 / 0100] eta: 0 Days 1:3:0         [1399/1923] lr: \t1.0000E-04 loss: \t2.36019\n",
            " epoch [0079 / 0100] eta: 0 Days 1:4:2         [1499/1923] lr: \t1.0000E-04 loss: \t2.36287\n",
            " epoch [0079 / 0100] eta: 0 Days 1:5:8         [1599/1923] lr: \t1.0000E-04 loss: \t2.36136\n",
            " epoch [0079 / 0100] eta: 0 Days 1:4:38        [1699/1923] lr: \t1.0000E-04 loss: \t2.35594\n",
            " epoch [0079 / 0100] eta: 0 Days 1:6:24        [1799/1923] lr: \t1.0000E-04 loss: \t2.35688\n",
            " epoch [0079 / 0100] eta: 0 Days 1:3:52        [1899/1923] lr: \t1.0000E-04 loss: \t2.36256\n"
          ]
        },
        {
          "metadata": {
            "tags": null
          },
          "name": "stderr",
          "output_type": "stream",
          "text": [
            "100%|██████████| 28/28 [00:44<00:00,  1.59s/it]\n"
          ]
        },
        {
          "metadata": {
            "tags": null
          },
          "name": "stdout",
          "output_type": "stream",
          "text": [
            "saving last_epoch checkpoint\n",
            "saving min_loss checkpoint\n",
            "val AUROC mean 0.7552\n",
            "Atelectasis 0.7447\n",
            "Cardiomegaly 0.8987\n",
            "Effusion 0.8205\n",
            "Infiltration 0.6994\n",
            "Mass 0.8117\n",
            "Nodule 0.7166\n",
            "Pneumothorax 0.7772\n",
            "Consolidation 0.7093\n",
            "Pleural_Thickening 0.6960\n",
            "Hernia 0.6776\n"
          ]
        },
        {
          "metadata": {
            "tags": null
          },
          "name": "stderr",
          "output_type": "stream",
          "text": [
            "100%|██████████| 219/219 [01:03<00:00,  3.45it/s]\n"
          ]
        },
        {
          "metadata": {
            "tags": null
          },
          "name": "stdout",
          "output_type": "stream",
          "text": [
            "\n",
            "test_seen AUROC mean 0.7569\n",
            "Atelectasis 0.7235\n",
            "Effusion 0.8162\n",
            "Infiltration 0.6722\n",
            "Mass 0.7729\n",
            "Nodule 0.7297\n",
            "Pneumothorax 0.7800\n",
            "Consolidation 0.6888\n",
            "Cardiomegaly 0.8983\n",
            "Pleural_Thickening 0.6862\n",
            "Hernia 0.8008\n",
            "\n",
            "test_unseen AUROC mean 0.5819\n",
            "Edema 0.5356\n",
            "Pneumonia 0.5216\n",
            "Emphysema 0.6386\n",
            "Fibrosis 0.6316\n",
            "best epoch 75 best auroc 0.7577803620183751 loss 2.427644 auroc at min loss 0.7552\n",
            " epoch [0080 / 0100] eta: 0 Days 1:3:50        [0099/1923] lr: \t1.0000E-04 loss: \t2.35991\n",
            " epoch [0080 / 0100] eta: 0 Days 1:4:45        [0199/1923] lr: \t1.0000E-04 loss: \t2.33160\n",
            " epoch [0080 / 0100] eta: 0 Days 1:4:43        [0299/1923] lr: \t1.0000E-04 loss: \t2.32327\n",
            " epoch [0080 / 0100] eta: 0 Days 1:2:50        [0399/1923] lr: \t1.0000E-04 loss: \t2.31149\n",
            " epoch [0080 / 0100] eta: 0 Days 1:14:45       [0499/1923] lr: \t1.0000E-04 loss: \t2.29763\n",
            " epoch [0080 / 0100] eta: 0 Days 1:7:47        [0599/1923] lr: \t1.0000E-04 loss: \t2.30831\n",
            " epoch [0080 / 0100] eta: 0 Days 1:5:25        [0699/1923] lr: \t1.0000E-04 loss: \t2.32687\n",
            " epoch [0080 / 0100] eta: 0 Days 1:2:21        [0799/1923] lr: \t1.0000E-04 loss: \t2.33408\n",
            " epoch [0080 / 0100] eta: 0 Days 1:2:5         [0899/1923] lr: \t1.0000E-04 loss: \t2.33940\n",
            " epoch [0080 / 0100] eta: 0 Days 1:5:47        [0999/1923] lr: \t1.0000E-04 loss: \t2.34377\n",
            " epoch [0080 / 0100] eta: 0 Days 1:1:7         [1099/1923] lr: \t1.0000E-04 loss: \t2.34636\n",
            " epoch [0080 / 0100] eta: 0 Days 1:0:57        [1199/1923] lr: \t1.0000E-04 loss: \t2.34872\n",
            " epoch [0080 / 0100] eta: 0 Days 1:0:40        [1299/1923] lr: \t1.0000E-04 loss: \t2.35336\n",
            " epoch [0080 / 0100] eta: 0 Days 1:1:29        [1399/1923] lr: \t1.0000E-04 loss: \t2.34866\n",
            " epoch [0080 / 0100] eta: 0 Days 1:0:45        [1499/1923] lr: \t1.0000E-04 loss: \t2.35360\n",
            " epoch [0080 / 0100] eta: 0 Days 1:4:6         [1599/1923] lr: \t1.0000E-04 loss: \t2.34844\n",
            " epoch [0080 / 0100] eta: 0 Days 0:59:55       [1699/1923] lr: \t1.0000E-04 loss: \t2.35241\n",
            " epoch [0080 / 0100] eta: 0 Days 1:0:15        [1799/1923] lr: \t1.0000E-04 loss: \t2.35431\n",
            " epoch [0080 / 0100] eta: 0 Days 0:59:44       [1899/1923] lr: \t1.0000E-04 loss: \t2.35372\n"
          ]
        },
        {
          "metadata": {
            "tags": null
          },
          "name": "stderr",
          "output_type": "stream",
          "text": [
            "100%|██████████| 28/28 [00:44<00:00,  1.59s/it]\n"
          ]
        },
        {
          "metadata": {
            "tags": null
          },
          "name": "stdout",
          "output_type": "stream",
          "text": [
            "saving last_epoch checkpoint\n",
            "saving best_auroc checkpoint\n",
            "saving min_loss checkpoint\n",
            "val AUROC mean 0.7617\n",
            "Atelectasis 0.7526\n",
            "Cardiomegaly 0.8882\n",
            "Effusion 0.8216\n",
            "Infiltration 0.7025\n",
            "Mass 0.8129\n",
            "Nodule 0.6964\n",
            "Pneumothorax 0.7981\n",
            "Consolidation 0.6963\n",
            "Pleural_Thickening 0.7036\n",
            "Hernia 0.7450\n"
          ]
        },
        {
          "metadata": {
            "tags": null
          },
          "name": "stderr",
          "output_type": "stream",
          "text": [
            "100%|██████████| 219/219 [01:03<00:00,  3.43it/s]\n"
          ]
        },
        {
          "metadata": {
            "tags": null
          },
          "name": "stdout",
          "output_type": "stream",
          "text": [
            "\n",
            "test_seen AUROC mean 0.7585\n",
            "Atelectasis 0.7307\n",
            "Effusion 0.8143\n",
            "Infiltration 0.6775\n",
            "Mass 0.7813\n",
            "Nodule 0.7159\n",
            "Pneumothorax 0.8048\n",
            "Consolidation 0.6792\n",
            "Cardiomegaly 0.8949\n",
            "Pleural_Thickening 0.7011\n",
            "Hernia 0.7857\n",
            "\n",
            "test_unseen AUROC mean 0.5755\n",
            "Edema 0.5167\n",
            "Pneumonia 0.5137\n",
            "Emphysema 0.6559\n",
            "Fibrosis 0.6158\n",
            "best epoch 80 best auroc 0.7617164344456888 loss 2.423803 auroc at min loss 0.7617\n",
            " epoch [0081 / 0100] eta: 0 Days 1:0:0         [0099/1923] lr: \t1.0000E-04 loss: \t2.53332\n",
            " epoch [0081 / 0100] eta: 0 Days 1:4:39        [0199/1923] lr: \t1.0000E-04 loss: \t2.40748\n",
            " epoch [0081 / 0100] eta: 0 Days 1:0:59        [0299/1923] lr: \t1.0000E-04 loss: \t2.40619\n",
            " epoch [0081 / 0100] eta: 0 Days 1:0:32        [0399/1923] lr: \t1.0000E-04 loss: \t2.39884\n",
            " epoch [0081 / 0100] eta: 0 Days 1:1:40        [0499/1923] lr: \t1.0000E-04 loss: \t2.38282\n",
            " epoch [0081 / 0100] eta: 0 Days 1:6:45        [0599/1923] lr: \t1.0000E-04 loss: \t2.36824\n",
            " epoch [0081 / 0100] eta: 0 Days 1:12:58       [0699/1923] lr: \t1.0000E-04 loss: \t2.37564\n",
            " epoch [0081 / 0100] eta: 0 Days 0:59:32       [0799/1923] lr: \t1.0000E-04 loss: \t2.37134\n",
            " epoch [0081 / 0100] eta: 0 Days 1:1:43        [0899/1923] lr: \t1.0000E-04 loss: \t2.36528\n",
            " epoch [0081 / 0100] eta: 0 Days 0:57:49       [0999/1923] lr: \t1.0000E-04 loss: \t2.36395\n",
            " epoch [0081 / 0100] eta: 0 Days 0:59:27       [1099/1923] lr: \t1.0000E-04 loss: \t2.36200\n",
            " epoch [0081 / 0100] eta: 0 Days 0:58:50       [1199/1923] lr: \t1.0000E-04 loss: \t2.36775\n",
            " epoch [0081 / 0100] eta: 0 Days 0:59:21       [1299/1923] lr: \t1.0000E-04 loss: \t2.36156\n",
            " epoch [0081 / 0100] eta: 0 Days 0:57:15       [1399/1923] lr: \t1.0000E-04 loss: \t2.35869\n",
            " epoch [0081 / 0100] eta: 0 Days 0:58:26       [1499/1923] lr: \t1.0000E-04 loss: \t2.35099\n",
            " epoch [0081 / 0100] eta: 0 Days 1:0:53        [1599/1923] lr: \t1.0000E-04 loss: \t2.34628\n",
            " epoch [0081 / 0100] eta: 0 Days 0:57:10       [1699/1923] lr: \t1.0000E-04 loss: \t2.34519\n",
            " epoch [0081 / 0100] eta: 0 Days 0:58:26       [1799/1923] lr: \t1.0000E-04 loss: \t2.34877\n",
            " epoch [0081 / 0100] eta: 0 Days 0:57:45       [1899/1923] lr: \t1.0000E-04 loss: \t2.34412\n"
          ]
        },
        {
          "metadata": {
            "tags": null
          },
          "name": "stderr",
          "output_type": "stream",
          "text": [
            "100%|██████████| 28/28 [00:46<00:00,  1.65s/it]\n"
          ]
        },
        {
          "metadata": {
            "tags": null
          },
          "name": "stdout",
          "output_type": "stream",
          "text": [
            "saving last_epoch checkpoint\n",
            "saving min_loss checkpoint\n",
            "val AUROC mean 0.7558\n",
            "Atelectasis 0.7569\n",
            "Cardiomegaly 0.8972\n",
            "Effusion 0.8184\n",
            "Infiltration 0.7035\n",
            "Mass 0.8092\n",
            "Nodule 0.6988\n",
            "Pneumothorax 0.7883\n",
            "Consolidation 0.7069\n",
            "Pleural_Thickening 0.7232\n",
            "Hernia 0.6554\n"
          ]
        },
        {
          "metadata": {
            "tags": null
          },
          "name": "stderr",
          "output_type": "stream",
          "text": [
            "100%|██████████| 219/219 [01:04<00:00,  3.42it/s]\n"
          ]
        },
        {
          "metadata": {
            "tags": null
          },
          "name": "stdout",
          "output_type": "stream",
          "text": [
            "\n",
            "test_seen AUROC mean 0.7605\n",
            "Atelectasis 0.7320\n",
            "Effusion 0.8173\n",
            "Infiltration 0.6849\n",
            "Mass 0.7788\n",
            "Nodule 0.7240\n",
            "Pneumothorax 0.7957\n",
            "Consolidation 0.6794\n",
            "Cardiomegaly 0.8994\n",
            "Pleural_Thickening 0.7035\n",
            "Hernia 0.7902\n",
            "\n",
            "test_unseen AUROC mean 0.5791\n",
            "Edema 0.5068\n",
            "Pneumonia 0.5119\n",
            "Emphysema 0.6430\n",
            "Fibrosis 0.6546\n",
            "best epoch 80 best auroc 0.7617164344456888 loss 2.412238 auroc at min loss 0.7558\n",
            " epoch [0082 / 0100] eta: 0 Days 0:56:46       [0099/1923] lr: \t1.0000E-04 loss: \t2.32603\n",
            " epoch [0082 / 0100] eta: 0 Days 0:57:28       [0199/1923] lr: \t1.0000E-04 loss: \t2.28875\n",
            " epoch [0082 / 0100] eta: 0 Days 1:1:24        [0299/1923] lr: \t1.0000E-04 loss: \t2.33840\n",
            " epoch [0082 / 0100] eta: 0 Days 0:57:14       [0399/1923] lr: \t1.0000E-04 loss: \t2.32471\n",
            " epoch [0082 / 0100] eta: 0 Days 0:56:13       [0499/1923] lr: \t1.0000E-04 loss: \t2.32872\n",
            " epoch [0082 / 0100] eta: 0 Days 0:55:31       [0599/1923] lr: \t1.0000E-04 loss: \t2.33957\n",
            " epoch [0082 / 0100] eta: 0 Days 0:56:53       [0699/1923] lr: \t1.0000E-04 loss: \t2.35573\n",
            " epoch [0082 / 0100] eta: 0 Days 0:56:32       [0799/1923] lr: \t1.0000E-04 loss: \t2.36030\n",
            " epoch [0082 / 0100] eta: 0 Days 0:57:25       [0899/1923] lr: \t1.0000E-04 loss: \t2.35727\n",
            " epoch [0082 / 0100] eta: 0 Days 0:55:21       [0999/1923] lr: \t1.0000E-04 loss: \t2.35459\n",
            " epoch [0082 / 0100] eta: 0 Days 0:54:55       [1099/1923] lr: \t1.0000E-04 loss: \t2.35114\n",
            " epoch [0082 / 0100] eta: 0 Days 0:56:50       [1199/1923] lr: \t1.0000E-04 loss: \t2.35269\n",
            " epoch [0082 / 0100] eta: 0 Days 0:55:38       [1299/1923] lr: \t1.0000E-04 loss: \t2.34931\n",
            " epoch [0082 / 0100] eta: 0 Days 0:54:8        [1399/1923] lr: \t1.0000E-04 loss: \t2.34102\n",
            " epoch [0082 / 0100] eta: 0 Days 0:57:16       [1499/1923] lr: \t1.0000E-04 loss: \t2.34565\n",
            " epoch [0082 / 0100] eta: 0 Days 0:53:27       [1599/1923] lr: \t1.0000E-04 loss: \t2.34634\n",
            " epoch [0082 / 0100] eta: 0 Days 0:55:12       [1699/1923] lr: \t1.0000E-04 loss: \t2.34961\n",
            " epoch [0082 / 0100] eta: 0 Days 1:0:25        [1799/1923] lr: \t1.0000E-04 loss: \t2.34358\n",
            " epoch [0082 / 0100] eta: 0 Days 0:55:42       [1899/1923] lr: \t1.0000E-04 loss: \t2.34243\n"
          ]
        },
        {
          "metadata": {
            "tags": null
          },
          "name": "stderr",
          "output_type": "stream",
          "text": [
            "100%|██████████| 28/28 [00:44<00:00,  1.58s/it]\n"
          ]
        },
        {
          "metadata": {
            "tags": null
          },
          "name": "stdout",
          "output_type": "stream",
          "text": [
            "saving last_epoch checkpoint\n",
            "saving best_auroc checkpoint\n",
            "saving min_loss checkpoint\n",
            "val AUROC mean 0.7618\n",
            "Atelectasis 0.7456\n",
            "Cardiomegaly 0.8936\n",
            "Effusion 0.8231\n",
            "Infiltration 0.7098\n",
            "Mass 0.8127\n",
            "Nodule 0.7008\n",
            "Pneumothorax 0.7900\n",
            "Consolidation 0.7093\n",
            "Pleural_Thickening 0.7133\n",
            "Hernia 0.7196\n"
          ]
        },
        {
          "metadata": {
            "tags": null
          },
          "name": "stderr",
          "output_type": "stream",
          "text": [
            "100%|██████████| 219/219 [01:03<00:00,  3.46it/s]\n"
          ]
        },
        {
          "metadata": {
            "tags": null
          },
          "name": "stdout",
          "output_type": "stream",
          "text": [
            "\n",
            "test_seen AUROC mean 0.7639\n",
            "Atelectasis 0.7177\n",
            "Effusion 0.8141\n",
            "Infiltration 0.6746\n",
            "Mass 0.7804\n",
            "Nodule 0.7217\n",
            "Pneumothorax 0.7901\n",
            "Consolidation 0.6749\n",
            "Cardiomegaly 0.9011\n",
            "Pleural_Thickening 0.7024\n",
            "Hernia 0.8624\n",
            "\n",
            "test_unseen AUROC mean 0.5818\n",
            "Edema 0.4746\n",
            "Pneumonia 0.4986\n",
            "Emphysema 0.6739\n",
            "Fibrosis 0.6802\n",
            "best epoch 82 best auroc 0.7617852810392725 loss 2.398632 auroc at min loss 0.7618\n",
            " epoch [0083 / 0100] eta: 0 Days 0:53:21       [0099/1923] lr: \t1.0000E-04 loss: \t2.22039\n",
            " epoch [0083 / 0100] eta: 0 Days 0:54:19       [0199/1923] lr: \t1.0000E-04 loss: \t2.25969\n",
            " epoch [0083 / 0100] eta: 0 Days 0:54:4        [0299/1923] lr: \t1.0000E-04 loss: \t2.28572\n",
            " epoch [0083 / 0100] eta: 0 Days 0:54:21       [0399/1923] lr: \t1.0000E-04 loss: \t2.30828\n",
            " epoch [0083 / 0100] eta: 0 Days 0:53:26       [0499/1923] lr: \t1.0000E-04 loss: \t2.32105\n",
            " epoch [0083 / 0100] eta: 0 Days 0:53:55       [0599/1923] lr: \t1.0000E-04 loss: \t2.33378\n",
            " epoch [0083 / 0100] eta: 0 Days 0:53:21       [0699/1923] lr: \t1.0000E-04 loss: \t2.34346\n",
            " epoch [0083 / 0100] eta: 0 Days 0:53:20       [0799/1923] lr: \t1.0000E-04 loss: \t2.35442\n",
            " epoch [0083 / 0100] eta: 0 Days 0:54:36       [0899/1923] lr: \t1.0000E-04 loss: \t2.35327\n",
            " epoch [0083 / 0100] eta: 0 Days 0:53:0        [0999/1923] lr: \t1.0000E-04 loss: \t2.35417\n",
            " epoch [0083 / 0100] eta: 0 Days 0:52:18       [1099/1923] lr: \t1.0000E-04 loss: \t2.35390\n",
            " epoch [0083 / 0100] eta: 0 Days 0:51:40       [1199/1923] lr: \t1.0000E-04 loss: \t2.35065\n",
            " epoch [0083 / 0100] eta: 0 Days 0:57:56       [1299/1923] lr: \t1.0000E-04 loss: \t2.34615\n",
            " epoch [0083 / 0100] eta: 0 Days 0:51:57       [1399/1923] lr: \t1.0000E-04 loss: \t2.33897\n",
            " epoch [0083 / 0100] eta: 0 Days 0:50:52       [1499/1923] lr: \t1.0000E-04 loss: \t2.33924\n",
            " epoch [0083 / 0100] eta: 0 Days 0:52:50       [1599/1923] lr: \t1.0000E-04 loss: \t2.33782\n",
            " epoch [0083 / 0100] eta: 0 Days 0:52:42       [1699/1923] lr: \t1.0000E-04 loss: \t2.34030\n",
            " epoch [0083 / 0100] eta: 0 Days 0:50:53       [1799/1923] lr: \t1.0000E-04 loss: \t2.34294\n",
            " epoch [0083 / 0100] eta: 0 Days 0:52:8        [1899/1923] lr: \t1.0000E-04 loss: \t2.34257\n"
          ]
        },
        {
          "metadata": {
            "tags": null
          },
          "name": "stderr",
          "output_type": "stream",
          "text": [
            "100%|██████████| 28/28 [00:46<00:00,  1.65s/it]\n"
          ]
        },
        {
          "metadata": {
            "tags": null
          },
          "name": "stdout",
          "output_type": "stream",
          "text": [
            "saving last_epoch checkpoint\n",
            "val AUROC mean 0.7493\n",
            "Atelectasis 0.7597\n",
            "Cardiomegaly 0.8816\n",
            "Effusion 0.8173\n",
            "Infiltration 0.7035\n",
            "Mass 0.8085\n",
            "Nodule 0.7069\n",
            "Pneumothorax 0.7721\n",
            "Consolidation 0.6958\n",
            "Pleural_Thickening 0.7093\n",
            "Hernia 0.6386\n",
            "best epoch 82 best auroc 0.7617852810392725 loss 2.453434 auroc at min loss 0.7618\n",
            " epoch [0084 / 0100] eta: 0 Days 0:50:53       [0099/1923] lr: \t1.0000E-04 loss: \t2.34167\n",
            " epoch [0084 / 0100] eta: 0 Days 0:50:23       [0199/1923] lr: \t1.0000E-04 loss: \t2.34244\n",
            " epoch [0084 / 0100] eta: 0 Days 0:50:3        [0299/1923] lr: \t1.0000E-04 loss: \t2.33177\n",
            " epoch [0084 / 0100] eta: 0 Days 0:56:47       [0399/1923] lr: \t1.0000E-04 loss: \t2.35822\n",
            " epoch [0084 / 0100] eta: 0 Days 0:49:24       [0499/1923] lr: \t1.0000E-04 loss: \t2.35594\n",
            " epoch [0084 / 0100] eta: 0 Days 1:2:11        [0599/1923] lr: \t1.0000E-04 loss: \t2.35492\n",
            " epoch [0084 / 0100] eta: 0 Days 0:49:40       [0699/1923] lr: \t1.0000E-04 loss: \t2.34478\n",
            " epoch [0084 / 0100] eta: 0 Days 0:48:57       [0799/1923] lr: \t1.0000E-04 loss: \t2.34318\n",
            " epoch [0084 / 0100] eta: 0 Days 0:51:49       [0899/1923] lr: \t1.0000E-04 loss: \t2.33923\n",
            " epoch [0084 / 0100] eta: 0 Days 0:49:36       [0999/1923] lr: \t1.0000E-04 loss: \t2.33944\n",
            " epoch [0084 / 0100] eta: 0 Days 0:49:51       [1099/1923] lr: \t1.0000E-04 loss: \t2.34340\n",
            " epoch [0084 / 0100] eta: 0 Days 0:48:48       [1199/1923] lr: \t1.0000E-04 loss: \t2.34250\n",
            " epoch [0084 / 0100] eta: 0 Days 0:49:25       [1299/1923] lr: \t1.0000E-04 loss: \t2.33944\n",
            " epoch [0084 / 0100] eta: 0 Days 0:53:26       [1399/1923] lr: \t1.0000E-04 loss: \t2.33523\n",
            " epoch [0084 / 0100] eta: 0 Days 0:47:53       [1499/1923] lr: \t1.0000E-04 loss: \t2.33234\n",
            " epoch [0084 / 0100] eta: 0 Days 0:49:24       [1599/1923] lr: \t1.0000E-04 loss: \t2.32988\n",
            " epoch [0084 / 0100] eta: 0 Days 0:49:59       [1699/1923] lr: \t1.0000E-04 loss: \t2.33224\n",
            " epoch [0084 / 0100] eta: 0 Days 0:47:51       [1799/1923] lr: \t1.0000E-04 loss: \t2.33582\n",
            " epoch [0084 / 0100] eta: 0 Days 0:49:43       [1899/1923] lr: \t1.0000E-04 loss: \t2.33391\n"
          ]
        },
        {
          "metadata": {
            "tags": null
          },
          "name": "stderr",
          "output_type": "stream",
          "text": [
            "100%|██████████| 28/28 [00:43<00:00,  1.55s/it]\n"
          ]
        },
        {
          "metadata": {
            "tags": null
          },
          "name": "stdout",
          "output_type": "stream",
          "text": [
            "saving last_epoch checkpoint\n",
            "val AUROC mean 0.7606\n",
            "Atelectasis 0.7535\n",
            "Cardiomegaly 0.8948\n",
            "Effusion 0.8161\n",
            "Infiltration 0.7039\n",
            "Mass 0.8060\n",
            "Nodule 0.7021\n",
            "Pneumothorax 0.8112\n",
            "Consolidation 0.7068\n",
            "Pleural_Thickening 0.7117\n",
            "Hernia 0.6999\n",
            "best epoch 82 best auroc 0.7617852810392725 loss 2.403765 auroc at min loss 0.7618\n",
            " epoch [0085 / 0100] eta: 0 Days 0:48:58       [0099/1923] lr: \t1.0000E-04 loss: \t2.29080\n",
            " epoch [0085 / 0100] eta: 0 Days 0:49:49       [0199/1923] lr: \t1.0000E-04 loss: \t2.32980\n",
            " epoch [0085 / 0100] eta: 0 Days 0:48:28       [0299/1923] lr: \t1.0000E-04 loss: \t2.31521\n",
            " epoch [0085 / 0100] eta: 0 Days 0:51:51       [0399/1923] lr: \t1.0000E-04 loss: \t2.31414\n",
            " epoch [0085 / 0100] eta: 0 Days 0:48:4        [0499/1923] lr: \t1.0000E-04 loss: \t2.32610\n",
            " epoch [0085 / 0100] eta: 0 Days 0:47:8        [0599/1923] lr: \t1.0000E-04 loss: \t2.33190\n",
            " epoch [0085 / 0100] eta: 0 Days 0:46:14       [0699/1923] lr: \t1.0000E-04 loss: \t2.32242\n",
            " epoch [0085 / 0100] eta: 0 Days 0:47:5        [0799/1923] lr: \t1.0000E-04 loss: \t2.31294\n",
            " epoch [0085 / 0100] eta: 0 Days 0:48:13       [0899/1923] lr: \t1.0000E-04 loss: \t2.30469\n",
            " epoch [0085 / 0100] eta: 0 Days 0:47:38       [0999/1923] lr: \t1.0000E-04 loss: \t2.30507\n",
            " epoch [0085 / 0100] eta: 0 Days 0:47:31       [1099/1923] lr: \t1.0000E-04 loss: \t2.30530\n",
            " epoch [0085 / 0100] eta: 0 Days 0:46:52       [1199/1923] lr: \t1.0000E-04 loss: \t2.31308\n",
            " epoch [0085 / 0100] eta: 0 Days 0:46:29       [1299/1923] lr: \t1.0000E-04 loss: \t2.31707\n",
            " epoch [0085 / 0100] eta: 0 Days 0:46:22       [1399/1923] lr: \t1.0000E-04 loss: \t2.31924\n",
            " epoch [0085 / 0100] eta: 0 Days 0:46:0        [1499/1923] lr: \t1.0000E-04 loss: \t2.31852\n",
            " epoch [0085 / 0100] eta: 0 Days 0:47:36       [1599/1923] lr: \t1.0000E-04 loss: \t2.32339\n",
            " epoch [0085 / 0100] eta: 0 Days 0:45:45       [1699/1923] lr: \t1.0000E-04 loss: \t2.32625\n",
            " epoch [0085 / 0100] eta: 0 Days 0:45:26       [1799/1923] lr: \t1.0000E-04 loss: \t2.32954\n",
            " epoch [0085 / 0100] eta: 0 Days 0:45:3        [1899/1923] lr: \t1.0000E-04 loss: \t2.32983\n"
          ]
        },
        {
          "metadata": {
            "tags": null
          },
          "name": "stderr",
          "output_type": "stream",
          "text": [
            "100%|██████████| 28/28 [00:45<00:00,  1.62s/it]\n"
          ]
        },
        {
          "metadata": {
            "tags": null
          },
          "name": "stdout",
          "output_type": "stream",
          "text": [
            "saving last_epoch checkpoint\n",
            "saving best_auroc checkpoint\n",
            "val AUROC mean 0.7651\n",
            "Atelectasis 0.7384\n",
            "Cardiomegaly 0.9056\n",
            "Effusion 0.8217\n",
            "Infiltration 0.7122\n",
            "Mass 0.8131\n",
            "Nodule 0.7075\n",
            "Pneumothorax 0.7993\n",
            "Consolidation 0.7107\n",
            "Pleural_Thickening 0.7040\n",
            "Hernia 0.7385\n"
          ]
        },
        {
          "metadata": {
            "tags": null
          },
          "name": "stderr",
          "output_type": "stream",
          "text": [
            "100%|██████████| 219/219 [01:04<00:00,  3.39it/s]\n"
          ]
        },
        {
          "metadata": {
            "tags": null
          },
          "name": "stdout",
          "output_type": "stream",
          "text": [
            "\n",
            "test_seen AUROC mean 0.7643\n",
            "Atelectasis 0.7105\n",
            "Effusion 0.8212\n",
            "Infiltration 0.6798\n",
            "Mass 0.7815\n",
            "Nodule 0.7269\n",
            "Pneumothorax 0.7988\n",
            "Consolidation 0.6851\n",
            "Cardiomegaly 0.9059\n",
            "Pleural_Thickening 0.7026\n",
            "Hernia 0.8303\n",
            "\n",
            "test_unseen AUROC mean 0.5868\n",
            "Edema 0.4998\n",
            "Pneumonia 0.5159\n",
            "Emphysema 0.6527\n",
            "Fibrosis 0.6788\n",
            "best epoch 85 best auroc 0.7651028661251271 loss 2.402739 auroc at min loss 0.7618\n",
            " epoch [0086 / 0100] eta: 0 Days 0:45:59       [0099/1923] lr: \t1.0000E-04 loss: \t2.26294\n",
            " epoch [0086 / 0100] eta: 0 Days 0:45:14       [0199/1923] lr: \t1.0000E-04 loss: \t2.26887\n",
            " epoch [0086 / 0100] eta: 0 Days 0:45:25       [0299/1923] lr: \t1.0000E-04 loss: \t2.25051\n",
            " epoch [0086 / 0100] eta: 0 Days 0:45:32       [0399/1923] lr: \t1.0000E-04 loss: \t2.22975\n",
            " epoch [0086 / 0100] eta: 0 Days 0:43:57       [0499/1923] lr: \t1.0000E-04 loss: \t2.22391\n",
            " epoch [0086 / 0100] eta: 0 Days 0:57:20       [0599/1923] lr: \t1.0000E-04 loss: \t2.24579\n",
            " epoch [0086 / 0100] eta: 0 Days 0:44:52       [0699/1923] lr: \t1.0000E-04 loss: \t2.25368\n",
            " epoch [0086 / 0100] eta: 0 Days 0:44:4        [0799/1923] lr: \t1.0000E-04 loss: \t2.26782\n",
            " epoch [0086 / 0100] eta: 0 Days 0:45:41       [0899/1923] lr: \t1.0000E-04 loss: \t2.26914\n",
            " epoch [0086 / 0100] eta: 0 Days 0:45:22       [0999/1923] lr: \t1.0000E-04 loss: \t2.28384\n",
            " epoch [0086 / 0100] eta: 0 Days 0:45:17       [1099/1923] lr: \t1.0000E-04 loss: \t2.28746\n",
            " epoch [0086 / 0100] eta: 0 Days 0:43:59       [1199/1923] lr: \t1.0000E-04 loss: \t2.28655\n",
            " epoch [0086 / 0100] eta: 0 Days 0:44:32       [1299/1923] lr: \t1.0000E-04 loss: \t2.28555\n",
            " epoch [0086 / 0100] eta: 0 Days 0:43:1        [1399/1923] lr: \t1.0000E-04 loss: \t2.28751\n",
            " epoch [0086 / 0100] eta: 0 Days 0:43:11       [1499/1923] lr: \t1.0000E-04 loss: \t2.30039\n",
            " epoch [0086 / 0100] eta: 0 Days 0:42:48       [1599/1923] lr: \t1.0000E-04 loss: \t2.30333\n",
            " epoch [0086 / 0100] eta: 0 Days 0:53:33       [1699/1923] lr: \t1.0000E-04 loss: \t2.30591\n",
            " epoch [0086 / 0100] eta: 0 Days 0:43:4        [1799/1923] lr: \t1.0000E-04 loss: \t2.30472\n",
            " epoch [0086 / 0100] eta: 0 Days 0:43:27       [1899/1923] lr: \t1.0000E-04 loss: \t2.31050\n"
          ]
        },
        {
          "output_type": "stream",
          "name": "stderr",
          "text": [
            "100%|██████████| 28/28 [00:44<00:00,  1.61s/it]\n"
          ]
        },
        {
          "output_type": "stream",
          "name": "stdout",
          "text": [
            "saving last_epoch checkpoint\n",
            "saving best_auroc checkpoint\n",
            "saving min_loss checkpoint\n",
            "val AUROC mean 0.7665\n",
            "Atelectasis 0.7494\n",
            "Cardiomegaly 0.8990\n",
            "Effusion 0.8215\n",
            "Infiltration 0.7063\n",
            "Mass 0.8055\n",
            "Nodule 0.7180\n",
            "Pneumothorax 0.8198\n",
            "Consolidation 0.6858\n",
            "Pleural_Thickening 0.7094\n",
            "Hernia 0.7506\n"
          ]
        },
        {
          "output_type": "stream",
          "name": "stderr",
          "text": [
            "100%|██████████| 219/219 [01:03<00:00,  3.44it/s]\n"
          ]
        },
        {
          "output_type": "stream",
          "name": "stdout",
          "text": [
            "\n",
            "test_seen AUROC mean 0.7650\n",
            "Atelectasis 0.7302\n",
            "Effusion 0.8200\n",
            "Infiltration 0.6743\n",
            "Mass 0.7704\n",
            "Nodule 0.7299\n",
            "Pneumothorax 0.8092\n",
            "Consolidation 0.6691\n",
            "Cardiomegaly 0.8973\n",
            "Pleural_Thickening 0.7088\n",
            "Hernia 0.8413\n",
            "\n",
            "test_unseen AUROC mean 0.5941\n",
            "Edema 0.5229\n",
            "Pneumonia 0.5456\n",
            "Emphysema 0.6486\n",
            "Fibrosis 0.6593\n",
            "best epoch 86 best auroc 0.7665256987191288 loss 2.383074 auroc at min loss 0.7665\n",
            " epoch [0087 / 0100] eta: 0 Days 0:42:38       [0099/1923] lr: \t1.0000E-04 loss: \t2.42678\n",
            " epoch [0087 / 0100] eta: 0 Days 0:44:39       [0199/1923] lr: \t1.0000E-04 loss: \t2.37581\n",
            " epoch [0087 / 0100] eta: 0 Days 0:41:41       [0299/1923] lr: \t1.0000E-04 loss: \t2.33382\n",
            " epoch [0087 / 0100] eta: 0 Days 0:42:6        [0399/1923] lr: \t1.0000E-04 loss: \t2.31677\n",
            " epoch [0087 / 0100] eta: 0 Days 0:40:57       [0499/1923] lr: \t1.0000E-04 loss: \t2.31761\n",
            " epoch [0087 / 0100] eta: 0 Days 0:42:6        [0599/1923] lr: \t1.0000E-04 loss: \t2.31621\n",
            " epoch [0087 / 0100] eta: 0 Days 0:41:54       [0699/1923] lr: \t1.0000E-04 loss: \t2.31541\n",
            " epoch [0087 / 0100] eta: 0 Days 0:41:4        [0799/1923] lr: \t1.0000E-04 loss: \t2.31943\n",
            " epoch [0087 / 0100] eta: 0 Days 0:40:26       [0899/1923] lr: \t1.0000E-04 loss: \t2.31666\n",
            " epoch [0087 / 0100] eta: 0 Days 0:40:10       [0999/1923] lr: \t1.0000E-04 loss: \t2.30869\n",
            " epoch [0087 / 0100] eta: 0 Days 0:40:34       [1099/1923] lr: \t1.0000E-04 loss: \t2.30299\n",
            " epoch [0087 / 0100] eta: 0 Days 0:44:6        [1199/1923] lr: \t1.0000E-04 loss: \t2.30358\n",
            " epoch [0087 / 0100] eta: 0 Days 0:41:10       [1299/1923] lr: \t1.0000E-04 loss: \t2.30625\n",
            " epoch [0087 / 0100] eta: 0 Days 0:40:1        [1399/1923] lr: \t1.0000E-04 loss: \t2.31254\n",
            " epoch [0087 / 0100] eta: 0 Days 0:40:36       [1499/1923] lr: \t1.0000E-04 loss: \t2.30992\n",
            " epoch [0087 / 0100] eta: 0 Days 0:39:47       [1599/1923] lr: \t1.0000E-04 loss: \t2.30690\n",
            " epoch [0087 / 0100] eta: 0 Days 0:42:34       [1699/1923] lr: \t1.0000E-04 loss: \t2.30781\n",
            " epoch [0087 / 0100] eta: 0 Days 0:40:15       [1799/1923] lr: \t1.0000E-04 loss: \t2.30798\n",
            " epoch [0087 / 0100] eta: 0 Days 0:38:50       [1899/1923] lr: \t1.0000E-04 loss: \t2.30815\n"
          ]
        },
        {
          "output_type": "stream",
          "name": "stderr",
          "text": [
            "100%|██████████| 28/28 [00:44<00:00,  1.58s/it]\n"
          ]
        },
        {
          "output_type": "stream",
          "name": "stdout",
          "text": [
            "saving last_epoch checkpoint\n",
            "val AUROC mean 0.7601\n",
            "Atelectasis 0.7531\n",
            "Cardiomegaly 0.8918\n",
            "Effusion 0.8162\n",
            "Infiltration 0.7045\n",
            "Mass 0.8114\n",
            "Nodule 0.7242\n",
            "Pneumothorax 0.8127\n",
            "Consolidation 0.6979\n",
            "Pleural_Thickening 0.7069\n",
            "Hernia 0.6820\n",
            "best epoch 86 best auroc 0.7665256987191288 loss 2.394989 auroc at min loss 0.7665\n",
            " epoch [0088 / 0100] eta: 0 Days 0:38:39       [0099/1923] lr: \t1.0000E-04 loss: \t2.35242\n",
            " epoch [0088 / 0100] eta: 0 Days 0:51:28       [0199/1923] lr: \t1.0000E-04 loss: \t2.29979\n",
            " epoch [0088 / 0100] eta: 0 Days 0:42:14       [0299/1923] lr: \t1.0000E-04 loss: \t2.29081\n",
            " epoch [0088 / 0100] eta: 0 Days 0:38:16       [0399/1923] lr: \t1.0000E-04 loss: \t2.29954\n",
            " epoch [0088 / 0100] eta: 0 Days 0:38:14       [0499/1923] lr: \t1.0000E-04 loss: \t2.31699\n",
            " epoch [0088 / 0100] eta: 0 Days 0:38:15       [0599/1923] lr: \t1.0000E-04 loss: \t2.31936\n",
            " epoch [0088 / 0100] eta: 0 Days 0:46:42       [0699/1923] lr: \t1.0000E-04 loss: \t2.31939\n",
            " epoch [0088 / 0100] eta: 0 Days 0:37:32       [0799/1923] lr: \t1.0000E-04 loss: \t2.31875\n",
            " epoch [0088 / 0100] eta: 0 Days 0:37:31       [0899/1923] lr: \t1.0000E-04 loss: \t2.31261\n",
            " epoch [0088 / 0100] eta: 0 Days 0:38:32       [0999/1923] lr: \t1.0000E-04 loss: \t2.31471\n",
            " epoch [0088 / 0100] eta: 0 Days 0:37:30       [1099/1923] lr: \t1.0000E-04 loss: \t2.30464\n",
            " epoch [0088 / 0100] eta: 0 Days 0:41:35       [1199/1923] lr: \t1.0000E-04 loss: \t2.30542\n",
            " epoch [0088 / 0100] eta: 0 Days 0:37:23       [1299/1923] lr: \t1.0000E-04 loss: \t2.30278\n",
            " epoch [0088 / 0100] eta: 0 Days 0:39:19       [1399/1923] lr: \t1.0000E-04 loss: \t2.30205\n",
            " epoch [0088 / 0100] eta: 0 Days 0:36:56       [1499/1923] lr: \t1.0000E-04 loss: \t2.29734\n",
            " epoch [0088 / 0100] eta: 0 Days 0:36:57       [1599/1923] lr: \t1.0000E-04 loss: \t2.30428\n",
            " epoch [0088 / 0100] eta: 0 Days 0:42:18       [1699/1923] lr: \t1.0000E-04 loss: \t2.30016\n",
            " epoch [0088 / 0100] eta: 0 Days 0:36:11       [1799/1923] lr: \t1.0000E-04 loss: \t2.30259\n",
            " epoch [0088 / 0100] eta: 0 Days 0:35:56       [1899/1923] lr: \t1.0000E-04 loss: \t2.30562\n"
          ]
        },
        {
          "output_type": "stream",
          "name": "stderr",
          "text": [
            "100%|██████████| 28/28 [00:43<00:00,  1.54s/it]\n"
          ]
        },
        {
          "output_type": "stream",
          "name": "stdout",
          "text": [
            "saving last_epoch checkpoint\n",
            "val AUROC mean 0.7564\n",
            "Atelectasis 0.7527\n",
            "Cardiomegaly 0.8986\n",
            "Effusion 0.8122\n",
            "Infiltration 0.7007\n",
            "Mass 0.8048\n",
            "Nodule 0.7098\n",
            "Pneumothorax 0.8092\n",
            "Consolidation 0.6983\n",
            "Pleural_Thickening 0.6898\n",
            "Hernia 0.6882\n",
            "best epoch 86 best auroc 0.7665256987191288 loss 2.434499 auroc at min loss 0.7665\n",
            " epoch [0089 / 0100] eta: 0 Days 0:35:25       [0099/1923] lr: \t1.0000E-04 loss: \t2.36730\n",
            " epoch [0089 / 0100] eta: 0 Days 0:35:29       [0199/1923] lr: \t1.0000E-04 loss: \t2.30356\n",
            " epoch [0089 / 0100] eta: 0 Days 0:37:38       [0299/1923] lr: \t1.0000E-04 loss: \t2.33648\n",
            " epoch [0089 / 0100] eta: 0 Days 0:36:22       [0399/1923] lr: \t1.0000E-04 loss: \t2.34725\n",
            " epoch [0089 / 0100] eta: 0 Days 0:34:45       [0499/1923] lr: \t1.0000E-04 loss: \t2.33859\n",
            " epoch [0089 / 0100] eta: 0 Days 0:36:33       [0599/1923] lr: \t1.0000E-04 loss: \t2.33195\n",
            " epoch [0089 / 0100] eta: 0 Days 0:40:7        [0699/1923] lr: \t1.0000E-04 loss: \t2.33748\n",
            " epoch [0089 / 0100] eta: 0 Days 0:35:32       [0799/1923] lr: \t1.0000E-04 loss: \t2.33641\n",
            " epoch [0089 / 0100] eta: 0 Days 0:34:40       [0899/1923] lr: \t1.0000E-04 loss: \t2.33755\n",
            " epoch [0089 / 0100] eta: 0 Days 0:34:11       [0999/1923] lr: \t1.0000E-04 loss: \t2.32533\n",
            " epoch [0089 / 0100] eta: 0 Days 0:34:50       [1099/1923] lr: \t1.0000E-04 loss: \t2.31417\n",
            " epoch [0089 / 0100] eta: 0 Days 0:37:44       [1199/1923] lr: \t1.0000E-04 loss: \t2.30952\n",
            " epoch [0089 / 0100] eta: 0 Days 0:33:47       [1299/1923] lr: \t1.0000E-04 loss: \t2.31784\n",
            " epoch [0089 / 0100] eta: 0 Days 0:33:58       [1399/1923] lr: \t1.0000E-04 loss: \t2.31256\n",
            " epoch [0089 / 0100] eta: 0 Days 0:33:28       [1499/1923] lr: \t1.0000E-04 loss: \t2.31129\n",
            " epoch [0089 / 0100] eta: 0 Days 0:33:34       [1599/1923] lr: \t1.0000E-04 loss: \t2.30951\n",
            " epoch [0089 / 0100] eta: 0 Days 0:33:25       [1699/1923] lr: \t1.0000E-04 loss: \t2.30512\n",
            " epoch [0089 / 0100] eta: 0 Days 0:36:45       [1799/1923] lr: \t1.0000E-04 loss: \t2.30055\n",
            " epoch [0089 / 0100] eta: 0 Days 0:32:39       [1899/1923] lr: \t1.0000E-04 loss: \t2.30019\n"
          ]
        },
        {
          "output_type": "stream",
          "name": "stderr",
          "text": [
            "100%|██████████| 28/28 [00:44<00:00,  1.60s/it]\n"
          ]
        },
        {
          "output_type": "stream",
          "name": "stdout",
          "text": [
            "saving last_epoch checkpoint\n",
            "saving min_loss checkpoint\n",
            "val AUROC mean 0.7634\n",
            "Atelectasis 0.7549\n",
            "Cardiomegaly 0.8982\n",
            "Effusion 0.8241\n",
            "Infiltration 0.7087\n",
            "Mass 0.8075\n",
            "Nodule 0.7134\n",
            "Pneumothorax 0.8079\n",
            "Consolidation 0.7020\n",
            "Pleural_Thickening 0.7025\n",
            "Hernia 0.7147\n"
          ]
        },
        {
          "output_type": "stream",
          "name": "stderr",
          "text": [
            "100%|██████████| 219/219 [01:03<00:00,  3.43it/s]\n"
          ]
        },
        {
          "output_type": "stream",
          "name": "stdout",
          "text": [
            "\n",
            "test_seen AUROC mean 0.7654\n",
            "Atelectasis 0.7351\n",
            "Effusion 0.8160\n",
            "Infiltration 0.6720\n",
            "Mass 0.7799\n",
            "Nodule 0.7325\n",
            "Pneumothorax 0.8057\n",
            "Consolidation 0.6799\n",
            "Cardiomegaly 0.8972\n",
            "Pleural_Thickening 0.7120\n",
            "Hernia 0.8236\n",
            "\n",
            "test_unseen AUROC mean 0.5718\n",
            "Edema 0.5037\n",
            "Pneumonia 0.4969\n",
            "Emphysema 0.6289\n",
            "Fibrosis 0.6577\n",
            "best epoch 86 best auroc 0.7665256987191288 loss 2.371965 auroc at min loss 0.7634\n",
            " epoch [0090 / 0100] eta: 0 Days 0:32:39       [0099/1923] lr: \t1.0000E-04 loss: \t2.20401\n",
            " epoch [0090 / 0100] eta: 0 Days 0:32:51       [0199/1923] lr: \t1.0000E-04 loss: \t2.25145\n",
            " epoch [0090 / 0100] eta: 0 Days 0:33:5        [0299/1923] lr: \t1.0000E-04 loss: \t2.26807\n",
            " epoch [0090 / 0100] eta: 0 Days 0:32:26       [0399/1923] lr: \t1.0000E-04 loss: \t2.24974\n",
            " epoch [0090 / 0100] eta: 0 Days 0:31:31       [0499/1923] lr: \t1.0000E-04 loss: \t2.27400\n",
            " epoch [0090 / 0100] eta: 0 Days 0:32:43       [0599/1923] lr: \t1.0000E-04 loss: \t2.27270\n",
            " epoch [0090 / 0100] eta: 0 Days 0:33:3        [0699/1923] lr: \t1.0000E-04 loss: \t2.28306\n",
            " epoch [0090 / 0100] eta: 0 Days 0:35:20       [0799/1923] lr: \t1.0000E-04 loss: \t2.26747\n",
            " epoch [0090 / 0100] eta: 0 Days 0:32:35       [0899/1923] lr: \t1.0000E-04 loss: \t2.27359\n",
            " epoch [0090 / 0100] eta: 0 Days 0:31:25       [0999/1923] lr: \t1.0000E-04 loss: \t2.27312\n",
            " epoch [0090 / 0100] eta: 0 Days 0:31:11       [1099/1923] lr: \t1.0000E-04 loss: \t2.28091\n",
            " epoch [0090 / 0100] eta: 0 Days 0:30:57       [1199/1923] lr: \t1.0000E-04 loss: \t2.28974\n",
            " epoch [0090 / 0100] eta: 0 Days 0:30:30       [1299/1923] lr: \t1.0000E-04 loss: \t2.28883\n",
            " epoch [0090 / 0100] eta: 0 Days 0:31:14       [1399/1923] lr: \t1.0000E-04 loss: \t2.28463\n",
            " epoch [0090 / 0100] eta: 0 Days 0:31:16       [1499/1923] lr: \t1.0000E-04 loss: \t2.28695\n",
            " epoch [0090 / 0100] eta: 0 Days 0:31:1        [1599/1923] lr: \t1.0000E-04 loss: \t2.29067\n",
            " epoch [0090 / 0100] eta: 0 Days 0:31:33       [1699/1923] lr: \t1.0000E-04 loss: \t2.29259\n",
            " epoch [0090 / 0100] eta: 0 Days 0:32:42       [1799/1923] lr: \t1.0000E-04 loss: \t2.29008\n",
            " epoch [0090 / 0100] eta: 0 Days 0:31:12       [1899/1923] lr: \t1.0000E-04 loss: \t2.29318\n"
          ]
        },
        {
          "output_type": "stream",
          "name": "stderr",
          "text": [
            "100%|██████████| 28/28 [00:45<00:00,  1.62s/it]\n"
          ]
        },
        {
          "output_type": "stream",
          "name": "stdout",
          "text": [
            "saving last_epoch checkpoint\n",
            "saving best_auroc checkpoint\n",
            "val AUROC mean 0.7690\n",
            "Atelectasis 0.7589\n",
            "Cardiomegaly 0.8910\n",
            "Effusion 0.8251\n",
            "Infiltration 0.7072\n",
            "Mass 0.8178\n",
            "Nodule 0.7150\n",
            "Pneumothorax 0.7997\n",
            "Consolidation 0.7026\n",
            "Pleural_Thickening 0.7232\n",
            "Hernia 0.7498\n"
          ]
        },
        {
          "output_type": "stream",
          "name": "stderr",
          "text": [
            "100%|██████████| 219/219 [01:03<00:00,  3.45it/s]\n"
          ]
        },
        {
          "output_type": "stream",
          "name": "stdout",
          "text": [
            "\n",
            "test_seen AUROC mean 0.7725\n",
            "Atelectasis 0.7434\n",
            "Effusion 0.8182\n",
            "Infiltration 0.6737\n",
            "Mass 0.7934\n",
            "Nodule 0.7374\n",
            "Pneumothorax 0.7902\n",
            "Consolidation 0.6816\n",
            "Cardiomegaly 0.8988\n",
            "Pleural_Thickening 0.7169\n",
            "Hernia 0.8717\n",
            "\n",
            "test_unseen AUROC mean 0.5981\n",
            "Edema 0.5567\n",
            "Pneumonia 0.5108\n",
            "Emphysema 0.6643\n",
            "Fibrosis 0.6605\n",
            "best epoch 90 best auroc 0.7690332380675299 loss 2.405813 auroc at min loss 0.7634\n",
            " epoch [0091 / 0100] eta: 0 Days 0:30:34       [0099/1923] lr: \t1.0000E-04 loss: \t2.39905\n",
            " epoch [0091 / 0100] eta: 0 Days 0:31:9        [0199/1923] lr: \t1.0000E-04 loss: \t2.37928\n",
            " epoch [0091 / 0100] eta: 0 Days 0:29:43       [0299/1923] lr: \t1.0000E-04 loss: \t2.34269\n",
            " epoch [0091 / 0100] eta: 0 Days 0:30:34       [0399/1923] lr: \t1.0000E-04 loss: \t2.33789\n",
            " epoch [0091 / 0100] eta: 0 Days 0:32:37       [0499/1923] lr: \t1.0000E-04 loss: \t2.32553\n",
            " epoch [0091 / 0100] eta: 0 Days 0:28:51       [0599/1923] lr: \t1.0000E-04 loss: \t2.30804\n",
            " epoch [0091 / 0100] eta: 0 Days 0:30:0        [0699/1923] lr: \t1.0000E-04 loss: \t2.31164\n",
            " epoch [0091 / 0100] eta: 0 Days 0:28:41       [0799/1923] lr: \t1.0000E-04 loss: \t2.30578\n",
            " epoch [0091 / 0100] eta: 0 Days 0:28:16       [0899/1923] lr: \t1.0000E-04 loss: \t2.31168\n",
            " epoch [0091 / 0100] eta: 0 Days 0:28:3        [0999/1923] lr: \t1.0000E-04 loss: \t2.30247\n",
            " epoch [0091 / 0100] eta: 0 Days 0:29:25       [1099/1923] lr: \t1.0000E-04 loss: \t2.29221\n",
            " epoch [0091 / 0100] eta: 0 Days 0:28:5        [1199/1923] lr: \t1.0000E-04 loss: \t2.28398\n",
            " epoch [0091 / 0100] eta: 0 Days 0:27:31       [1299/1923] lr: \t1.0000E-04 loss: \t2.29668\n",
            " epoch [0091 / 0100] eta: 0 Days 0:28:37       [1399/1923] lr: \t1.0000E-04 loss: \t2.29293\n",
            " epoch [0091 / 0100] eta: 0 Days 0:31:33       [1499/1923] lr: \t1.0000E-04 loss: \t2.29312\n",
            " epoch [0091 / 0100] eta: 0 Days 0:28:19       [1599/1923] lr: \t1.0000E-04 loss: \t2.28949\n",
            " epoch [0091 / 0100] eta: 0 Days 0:27:31       [1699/1923] lr: \t1.0000E-04 loss: \t2.28703\n",
            " epoch [0091 / 0100] eta: 0 Days 0:28:24       [1799/1923] lr: \t1.0000E-04 loss: \t2.28076\n",
            " epoch [0091 / 0100] eta: 0 Days 0:27:2        [1899/1923] lr: \t1.0000E-04 loss: \t2.28324\n"
          ]
        },
        {
          "output_type": "stream",
          "name": "stderr",
          "text": [
            "100%|██████████| 28/28 [00:44<00:00,  1.59s/it]\n"
          ]
        },
        {
          "output_type": "stream",
          "name": "stdout",
          "text": [
            "saving last_epoch checkpoint\n",
            "val AUROC mean 0.7607\n",
            "Atelectasis 0.7628\n",
            "Cardiomegaly 0.8874\n",
            "Effusion 0.8186\n",
            "Infiltration 0.7039\n",
            "Mass 0.8059\n",
            "Nodule 0.7071\n",
            "Pneumothorax 0.8025\n",
            "Consolidation 0.7102\n",
            "Pleural_Thickening 0.7200\n",
            "Hernia 0.6882\n",
            "best epoch 90 best auroc 0.7690332380675299 loss 2.415733 auroc at min loss 0.7634\n",
            " epoch [0092 / 0100] eta: 0 Days 0:28:21       [0099/1923] lr: \t1.0000E-04 loss: \t2.29627\n",
            " epoch [0092 / 0100] eta: 0 Days 0:26:39       [0199/1923] lr: \t1.0000E-04 loss: \t2.30272\n",
            " epoch [0092 / 0100] eta: 0 Days 0:32:36       [0299/1923] lr: \t1.0000E-04 loss: \t2.29651\n",
            " epoch [0092 / 0100] eta: 0 Days 0:26:28       [0399/1923] lr: \t1.0000E-04 loss: \t2.28901\n",
            " epoch [0092 / 0100] eta: 0 Days 0:25:56       [0499/1923] lr: \t1.0000E-04 loss: \t2.28686\n",
            " epoch [0092 / 0100] eta: 0 Days 0:26:6        [0599/1923] lr: \t1.0000E-04 loss: \t2.27046\n",
            " epoch [0092 / 0100] eta: 0 Days 0:29:34       [0699/1923] lr: \t1.0000E-04 loss: \t2.25403\n",
            " epoch [0092 / 0100] eta: 0 Days 0:27:38       [0799/1923] lr: \t1.0000E-04 loss: \t2.26455\n",
            " epoch [0092 / 0100] eta: 0 Days 0:25:32       [0899/1923] lr: \t1.0000E-04 loss: \t2.27613\n",
            " epoch [0092 / 0100] eta: 0 Days 0:25:17       [0999/1923] lr: \t1.0000E-04 loss: \t2.27839\n",
            " epoch [0092 / 0100] eta: 0 Days 0:25:5        [1099/1923] lr: \t1.0000E-04 loss: \t2.28180\n",
            " epoch [0092 / 0100] eta: 0 Days 0:25:16       [1199/1923] lr: \t1.0000E-04 loss: \t2.27450\n",
            " epoch [0092 / 0100] eta: 0 Days 0:28:21       [1299/1923] lr: \t1.0000E-04 loss: \t2.27271\n",
            " epoch [0092 / 0100] eta: 0 Days 0:25:29       [1399/1923] lr: \t1.0000E-04 loss: \t2.27081\n",
            " epoch [0092 / 0100] eta: 0 Days 0:24:48       [1499/1923] lr: \t1.0000E-04 loss: \t2.27413\n",
            " epoch [0092 / 0100] eta: 0 Days 0:24:59       [1599/1923] lr: \t1.0000E-04 loss: \t2.27593\n",
            " epoch [0092 / 0100] eta: 0 Days 0:23:52       [1699/1923] lr: \t1.0000E-04 loss: \t2.26943\n",
            " epoch [0092 / 0100] eta: 0 Days 0:24:35       [1799/1923] lr: \t1.0000E-04 loss: \t2.27351\n",
            " epoch [0092 / 0100] eta: 0 Days 0:31:15       [1899/1923] lr: \t1.0000E-04 loss: \t2.27082\n"
          ]
        },
        {
          "output_type": "stream",
          "name": "stderr",
          "text": [
            "100%|██████████| 28/28 [00:44<00:00,  1.58s/it]\n"
          ]
        },
        {
          "output_type": "stream",
          "name": "stdout",
          "text": [
            "saving last_epoch checkpoint\n",
            "val AUROC mean 0.7593\n",
            "Atelectasis 0.7607\n",
            "Cardiomegaly 0.8810\n",
            "Effusion 0.8190\n",
            "Infiltration 0.6994\n",
            "Mass 0.8171\n",
            "Nodule 0.6959\n",
            "Pneumothorax 0.7920\n",
            "Consolidation 0.7007\n",
            "Pleural_Thickening 0.7307\n",
            "Hernia 0.6963\n",
            "best epoch 90 best auroc 0.7690332380675299 loss 2.425777 auroc at min loss 0.7634\n",
            " epoch [0093 / 0100] eta: 0 Days 0:23:42       [0099/1923] lr: \t1.0000E-04 loss: \t2.28948\n",
            " epoch [0093 / 0100] eta: 0 Days 0:24:3        [0199/1923] lr: \t1.0000E-04 loss: \t2.30486\n",
            " epoch [0093 / 0100] eta: 0 Days 0:23:12       [0299/1923] lr: \t1.0000E-04 loss: \t2.31055\n",
            " epoch [0093 / 0100] eta: 0 Days 0:24:4        [0399/1923] lr: \t1.0000E-04 loss: \t2.29294\n",
            " epoch [0093 / 0100] eta: 0 Days 0:24:41       [0499/1923] lr: \t1.0000E-04 loss: \t2.30985\n",
            " epoch [0093 / 0100] eta: 0 Days 0:23:23       [0599/1923] lr: \t1.0000E-04 loss: \t2.29537\n",
            " epoch [0093 / 0100] eta: 0 Days 0:24:37       [0699/1923] lr: \t1.0000E-04 loss: \t2.28753\n",
            " epoch [0093 / 0100] eta: 0 Days 0:22:53       [0799/1923] lr: \t1.0000E-04 loss: \t2.28273\n",
            " epoch [0093 / 0100] eta: 0 Days 0:22:39       [0899/1923] lr: \t1.0000E-04 loss: \t2.28005\n",
            " epoch [0093 / 0100] eta: 0 Days 0:23:8        [0999/1923] lr: \t1.0000E-04 loss: \t2.27205\n",
            " epoch [0093 / 0100] eta: 0 Days 0:22:9        [1099/1923] lr: \t1.0000E-04 loss: \t2.26420\n",
            " epoch [0093 / 0100] eta: 0 Days 0:22:32       [1199/1923] lr: \t1.0000E-04 loss: \t2.26740\n",
            " epoch [0093 / 0100] eta: 0 Days 0:21:52       [1299/1923] lr: \t1.0000E-04 loss: \t2.26797\n",
            " epoch [0093 / 0100] eta: 0 Days 0:21:22       [1399/1923] lr: \t1.0000E-04 loss: \t2.27412\n",
            " epoch [0093 / 0100] eta: 0 Days 0:23:14       [1499/1923] lr: \t1.0000E-04 loss: \t2.26922\n",
            " epoch [0093 / 0100] eta: 0 Days 0:21:19       [1599/1923] lr: \t1.0000E-04 loss: \t2.26867\n",
            " epoch [0093 / 0100] eta: 0 Days 0:21:29       [1699/1923] lr: \t1.0000E-04 loss: \t2.26388\n",
            " epoch [0093 / 0100] eta: 0 Days 0:22:0        [1799/1923] lr: \t1.0000E-04 loss: \t2.26041\n",
            " epoch [0093 / 0100] eta: 0 Days 0:21:12       [1899/1923] lr: \t1.0000E-04 loss: \t2.26276\n"
          ]
        },
        {
          "output_type": "stream",
          "name": "stderr",
          "text": [
            "100%|██████████| 28/28 [00:43<00:00,  1.55s/it]\n"
          ]
        },
        {
          "output_type": "stream",
          "name": "stdout",
          "text": [
            "saving last_epoch checkpoint\n",
            "val AUROC mean 0.7631\n",
            "Atelectasis 0.7607\n",
            "Cardiomegaly 0.8971\n",
            "Effusion 0.8199\n",
            "Infiltration 0.7080\n",
            "Mass 0.8095\n",
            "Nodule 0.7172\n",
            "Pneumothorax 0.8070\n",
            "Consolidation 0.6984\n",
            "Pleural_Thickening 0.7047\n",
            "Hernia 0.7083\n",
            "best epoch 90 best auroc 0.7690332380675299 loss 2.414418 auroc at min loss 0.7634\n",
            " epoch [0094 / 0100] eta: 0 Days 0:20:46       [0099/1923] lr: \t1.0000E-04 loss: \t2.38234\n",
            " epoch [0094 / 0100] eta: 0 Days 0:22:13       [0199/1923] lr: \t1.0000E-04 loss: \t2.29316\n",
            " epoch [0094 / 0100] eta: 0 Days 0:21:29       [0299/1923] lr: \t1.0000E-04 loss: \t2.26641\n",
            " epoch [0094 / 0100] eta: 0 Days 0:20:19       [0399/1923] lr: \t1.0000E-04 loss: \t2.26859\n",
            " epoch [0094 / 0100] eta: 0 Days 0:23:11       [0499/1923] lr: \t1.0000E-04 loss: \t2.25535\n",
            " epoch [0094 / 0100] eta: 0 Days 0:19:59       [0599/1923] lr: \t1.0000E-04 loss: \t2.24959\n",
            " epoch [0094 / 0100] eta: 0 Days 0:20:7        [0699/1923] lr: \t1.0000E-04 loss: \t2.24822\n",
            " epoch [0094 / 0100] eta: 0 Days 0:19:52       [0799/1923] lr: \t1.0000E-04 loss: \t2.24470\n",
            " epoch [0094 / 0100] eta: 0 Days 0:19:23       [0899/1923] lr: \t1.0000E-04 loss: \t2.26162\n",
            " epoch [0094 / 0100] eta: 0 Days 0:25:26       [0999/1923] lr: \t1.0000E-04 loss: \t2.27044\n",
            " epoch [0094 / 0100] eta: 0 Days 0:19:0        [1099/1923] lr: \t1.0000E-04 loss: \t2.26443\n",
            " epoch [0094 / 0100] eta: 0 Days 0:21:35       [1199/1923] lr: \t1.0000E-04 loss: \t2.26530\n",
            " epoch [0094 / 0100] eta: 0 Days 0:19:23       [1299/1923] lr: \t1.0000E-04 loss: \t2.26734\n",
            " epoch [0094 / 0100] eta: 0 Days 0:18:38       [1399/1923] lr: \t1.0000E-04 loss: \t2.27382\n",
            " epoch [0094 / 0100] eta: 0 Days 0:18:58       [1499/1923] lr: \t1.0000E-04 loss: \t2.27383\n",
            " epoch [0094 / 0100] eta: 0 Days 0:18:31       [1599/1923] lr: \t1.0000E-04 loss: \t2.27123\n",
            " epoch [0094 / 0100] eta: 0 Days 0:18:36       [1699/1923] lr: \t1.0000E-04 loss: \t2.27261\n",
            " epoch [0094 / 0100] eta: 0 Days 0:18:1        [1799/1923] lr: \t1.0000E-04 loss: \t2.27084\n",
            " epoch [0094 / 0100] eta: 0 Days 0:18:35       [1899/1923] lr: \t1.0000E-04 loss: \t2.27341\n"
          ]
        },
        {
          "output_type": "stream",
          "name": "stderr",
          "text": [
            "100%|██████████| 28/28 [00:43<00:00,  1.57s/it]\n"
          ]
        },
        {
          "output_type": "stream",
          "name": "stdout",
          "text": [
            "saving last_epoch checkpoint\n",
            "val AUROC mean 0.7571\n",
            "Atelectasis 0.7613\n",
            "Cardiomegaly 0.8854\n",
            "Effusion 0.8048\n",
            "Infiltration 0.7125\n",
            "Mass 0.8166\n",
            "Nodule 0.7125\n",
            "Pneumothorax 0.7985\n",
            "Consolidation 0.7035\n",
            "Pleural_Thickening 0.6886\n",
            "Hernia 0.6868\n",
            "best epoch 90 best auroc 0.7690332380675299 loss 2.393179 auroc at min loss 0.7634\n",
            " epoch [0095 / 0100] eta: 0 Days 0:17:43       [0099/1923] lr: \t1.0000E-04 loss: \t2.29666\n",
            " epoch [0095 / 0100] eta: 0 Days 0:17:51       [0199/1923] lr: \t1.0000E-04 loss: \t2.23417\n",
            " epoch [0095 / 0100] eta: 0 Days 0:17:28       [0299/1923] lr: \t1.0000E-04 loss: \t2.24070\n",
            " epoch [0095 / 0100] eta: 0 Days 0:17:40       [0399/1923] lr: \t1.0000E-04 loss: \t2.23785\n",
            " epoch [0095 / 0100] eta: 0 Days 0:17:48       [0499/1923] lr: \t1.0000E-04 loss: \t2.23826\n",
            " epoch [0095 / 0100] eta: 0 Days 0:16:50       [0599/1923] lr: \t1.0000E-04 loss: \t2.23945\n",
            " epoch [0095 / 0100] eta: 0 Days 0:17:24       [0699/1923] lr: \t1.0000E-04 loss: \t2.24279\n",
            " epoch [0095 / 0100] eta: 0 Days 0:17:38       [0799/1923] lr: \t1.0000E-04 loss: \t2.24703\n",
            " epoch [0095 / 0100] eta: 0 Days 0:17:6        [0899/1923] lr: \t1.0000E-04 loss: \t2.25628\n",
            " epoch [0095 / 0100] eta: 0 Days 0:16:14       [0999/1923] lr: \t1.0000E-04 loss: \t2.24646\n",
            " epoch [0095 / 0100] eta: 0 Days 0:16:26       [1099/1923] lr: \t1.0000E-04 loss: \t2.24750\n",
            " epoch [0095 / 0100] eta: 0 Days 0:16:22       [1199/1923] lr: \t1.0000E-04 loss: \t2.24463\n",
            " epoch [0095 / 0100] eta: 0 Days 0:17:1        [1299/1923] lr: \t1.0000E-04 loss: \t2.24388\n",
            " epoch [0095 / 0100] eta: 0 Days 0:16:11       [1399/1923] lr: \t1.0000E-04 loss: \t2.24417\n",
            " epoch [0095 / 0100] eta: 0 Days 0:15:28       [1499/1923] lr: \t1.0000E-04 loss: \t2.24836\n",
            " epoch [0095 / 0100] eta: 0 Days 0:15:25       [1599/1923] lr: \t1.0000E-04 loss: \t2.25062\n",
            " epoch [0095 / 0100] eta: 0 Days 0:15:39       [1699/1923] lr: \t1.0000E-04 loss: \t2.25269\n",
            " epoch [0095 / 0100] eta: 0 Days 0:14:59       [1799/1923] lr: \t1.0000E-04 loss: \t2.25886\n",
            " epoch [0095 / 0100] eta: 0 Days 0:14:51       [1899/1923] lr: \t1.0000E-04 loss: \t2.25613\n"
          ]
        },
        {
          "output_type": "stream",
          "name": "stderr",
          "text": [
            "100%|██████████| 28/28 [00:45<00:00,  1.61s/it]\n"
          ]
        },
        {
          "output_type": "stream",
          "name": "stdout",
          "text": [
            "saving last_epoch checkpoint\n",
            "val AUROC mean 0.7667\n",
            "Atelectasis 0.7594\n",
            "Cardiomegaly 0.8955\n",
            "Effusion 0.8182\n",
            "Infiltration 0.7079\n",
            "Mass 0.8056\n",
            "Nodule 0.7089\n",
            "Pneumothorax 0.7995\n",
            "Consolidation 0.7118\n",
            "Pleural_Thickening 0.6990\n",
            "Hernia 0.7613\n",
            "best epoch 90 best auroc 0.7690332380675299 loss 2.438961 auroc at min loss 0.7634\n",
            " epoch [0096 / 0100] eta: 0 Days 0:16:15       [0099/1923] lr: \t1.0000E-04 loss: \t2.28540\n",
            " epoch [0096 / 0100] eta: 0 Days 0:14:21       [0199/1923] lr: \t1.0000E-04 loss: \t2.24828\n",
            " epoch [0096 / 0100] eta: 0 Days 0:14:55       [0299/1923] lr: \t1.0000E-04 loss: \t2.26146\n",
            " epoch [0096 / 0100] eta: 0 Days 0:14:17       [0399/1923] lr: \t1.0000E-04 loss: \t2.26634\n",
            " epoch [0096 / 0100] eta: 0 Days 0:14:13       [0499/1923] lr: \t1.0000E-04 loss: \t2.27628\n",
            " epoch [0096 / 0100] eta: 0 Days 0:13:45       [0599/1923] lr: \t1.0000E-04 loss: \t2.28188\n",
            " epoch [0096 / 0100] eta: 0 Days 0:13:55       [0699/1923] lr: \t1.0000E-04 loss: \t2.27006\n",
            " epoch [0096 / 0100] eta: 0 Days 0:13:53       [0799/1923] lr: \t1.0000E-04 loss: \t2.26764\n",
            " epoch [0096 / 0100] eta: 0 Days 0:13:25       [0899/1923] lr: \t1.0000E-04 loss: \t2.27530\n",
            " epoch [0096 / 0100] eta: 0 Days 0:13:25       [0999/1923] lr: \t1.0000E-04 loss: \t2.26578\n",
            " epoch [0096 / 0100] eta: 0 Days 0:13:9        [1099/1923] lr: \t1.0000E-04 loss: \t2.26237\n",
            " epoch [0096 / 0100] eta: 0 Days 0:13:18       [1199/1923] lr: \t1.0000E-04 loss: \t2.26046\n",
            " epoch [0096 / 0100] eta: 0 Days 0:12:36       [1299/1923] lr: \t1.0000E-04 loss: \t2.25907\n",
            " epoch [0096 / 0100] eta: 0 Days 0:12:44       [1399/1923] lr: \t1.0000E-04 loss: \t2.25534\n",
            " epoch [0096 / 0100] eta: 0 Days 0:13:6        [1499/1923] lr: \t1.0000E-04 loss: \t2.25616\n",
            " epoch [0096 / 0100] eta: 0 Days 0:12:36       [1599/1923] lr: \t1.0000E-04 loss: \t2.25123\n",
            " epoch [0096 / 0100] eta: 0 Days 0:12:8        [1699/1923] lr: \t1.0000E-04 loss: \t2.25285\n",
            " epoch [0096 / 0100] eta: 0 Days 0:13:50       [1799/1923] lr: \t1.0000E-04 loss: \t2.25682\n",
            " epoch [0096 / 0100] eta: 0 Days 0:12:4        [1899/1923] lr: \t1.0000E-04 loss: \t2.25677\n"
          ]
        },
        {
          "output_type": "stream",
          "name": "stderr",
          "text": [
            "100%|██████████| 28/28 [00:45<00:00,  1.64s/it]\n"
          ]
        },
        {
          "output_type": "stream",
          "name": "stdout",
          "text": [
            "saving last_epoch checkpoint\n",
            "val AUROC mean 0.7649\n",
            "Atelectasis 0.7366\n",
            "Cardiomegaly 0.9060\n",
            "Effusion 0.8198\n",
            "Infiltration 0.7114\n",
            "Mass 0.8138\n",
            "Nodule 0.7234\n",
            "Pneumothorax 0.7994\n",
            "Consolidation 0.6950\n",
            "Pleural_Thickening 0.7214\n",
            "Hernia 0.7222\n",
            "best epoch 90 best auroc 0.7690332380675299 loss 2.397134 auroc at min loss 0.7634\n",
            " epoch [0097 / 0100] eta: 0 Days 0:11:52       [0099/1923] lr: \t1.0000E-04 loss: \t2.30588\n",
            " epoch [0097 / 0100] eta: 0 Days 0:11:37       [0199/1923] lr: \t1.0000E-04 loss: \t2.28213\n",
            " epoch [0097 / 0100] eta: 0 Days 0:11:48       [0299/1923] lr: \t1.0000E-04 loss: \t2.25222\n",
            " epoch [0097 / 0100] eta: 0 Days 0:11:15       [0399/1923] lr: \t1.0000E-04 loss: \t2.24009\n",
            " epoch [0097 / 0100] eta: 0 Days 0:13:3        [0499/1923] lr: \t1.0000E-04 loss: \t2.25507\n",
            " epoch [0097 / 0100] eta: 0 Days 0:11:7        [0599/1923] lr: \t1.0000E-04 loss: \t2.24868\n",
            " epoch [0097 / 0100] eta: 0 Days 0:11:3        [0699/1923] lr: \t1.0000E-04 loss: \t2.24116\n",
            " epoch [0097 / 0100] eta: 0 Days 0:10:39       [0799/1923] lr: \t1.0000E-04 loss: \t2.22810\n",
            " epoch [0097 / 0100] eta: 0 Days 0:10:56       [0899/1923] lr: \t1.0000E-04 loss: \t2.22889\n",
            " epoch [0097 / 0100] eta: 0 Days 0:10:31       [0999/1923] lr: \t1.0000E-04 loss: \t2.23052\n",
            " epoch [0097 / 0100] eta: 0 Days 0:10:18       [1099/1923] lr: \t1.0000E-04 loss: \t2.23344\n",
            " epoch [0097 / 0100] eta: 0 Days 0:10:38       [1199/1923] lr: \t1.0000E-04 loss: \t2.24338\n",
            " epoch [0097 / 0100] eta: 0 Days 0:9:55        [1299/1923] lr: \t1.0000E-04 loss: \t2.24739\n",
            " epoch [0097 / 0100] eta: 0 Days 0:10:3        [1399/1923] lr: \t1.0000E-04 loss: \t2.24653\n",
            " epoch [0097 / 0100] eta: 0 Days 0:9:35        [1499/1923] lr: \t1.0000E-04 loss: \t2.24444\n",
            " epoch [0097 / 0100] eta: 0 Days 0:9:21        [1599/1923] lr: \t1.0000E-04 loss: \t2.24420\n",
            " epoch [0097 / 0100] eta: 0 Days 0:9:26        [1699/1923] lr: \t1.0000E-04 loss: \t2.24597\n",
            " epoch [0097 / 0100] eta: 0 Days 0:9:22        [1799/1923] lr: \t1.0000E-04 loss: \t2.24728\n",
            " epoch [0097 / 0100] eta: 0 Days 0:10:12       [1899/1923] lr: \t1.0000E-04 loss: \t2.24549\n"
          ]
        },
        {
          "output_type": "stream",
          "name": "stderr",
          "text": [
            "100%|██████████| 28/28 [00:43<00:00,  1.55s/it]\n"
          ]
        },
        {
          "output_type": "stream",
          "name": "stdout",
          "text": [
            "saving last_epoch checkpoint\n",
            "saving best_auroc checkpoint\n",
            "val AUROC mean 0.7707\n",
            "Atelectasis 0.7557\n",
            "Cardiomegaly 0.8997\n",
            "Effusion 0.8149\n",
            "Infiltration 0.7102\n",
            "Mass 0.8210\n",
            "Nodule 0.7181\n",
            "Pneumothorax 0.8087\n",
            "Consolidation 0.7141\n",
            "Pleural_Thickening 0.7033\n",
            "Hernia 0.7609\n"
          ]
        },
        {
          "output_type": "stream",
          "name": "stderr",
          "text": [
            "100%|██████████| 219/219 [01:03<00:00,  3.44it/s]\n"
          ]
        },
        {
          "output_type": "stream",
          "name": "stdout",
          "text": [
            "\n",
            "test_seen AUROC mean 0.7720\n",
            "Atelectasis 0.7387\n",
            "Effusion 0.8136\n",
            "Infiltration 0.6766\n",
            "Mass 0.8016\n",
            "Nodule 0.7333\n",
            "Pneumothorax 0.8005\n",
            "Consolidation 0.6929\n",
            "Cardiomegaly 0.8947\n",
            "Pleural_Thickening 0.7047\n",
            "Hernia 0.8637\n",
            "\n",
            "test_unseen AUROC mean 0.5884\n",
            "Edema 0.4858\n",
            "Pneumonia 0.5197\n",
            "Emphysema 0.6745\n",
            "Fibrosis 0.6736\n",
            "best epoch 97 best auroc 0.7706727937647313 loss 2.396366 auroc at min loss 0.7634\n",
            " epoch [0098 / 0100] eta: 0 Days 0:8:45        [0099/1923] lr: \t1.0000E-04 loss: \t2.24454\n",
            " epoch [0098 / 0100] eta: 0 Days 0:8:37        [0199/1923] lr: \t1.0000E-04 loss: \t2.26217\n",
            " epoch [0098 / 0100] eta: 0 Days 0:8:44        [0299/1923] lr: \t1.0000E-04 loss: \t2.25295\n",
            " epoch [0098 / 0100] eta: 0 Days 0:8:30        [0399/1923] lr: \t1.0000E-04 loss: \t2.26194\n",
            " epoch [0098 / 0100] eta: 0 Days 0:8:19        [0499/1923] lr: \t1.0000E-04 loss: \t2.25113\n",
            " epoch [0098 / 0100] eta: 0 Days 0:8:54        [0599/1923] lr: \t1.0000E-04 loss: \t2.25405\n",
            " epoch [0098 / 0100] eta: 0 Days 0:8:11        [0699/1923] lr: \t1.0000E-04 loss: \t2.25106\n",
            " epoch [0098 / 0100] eta: 0 Days 0:8:0         [0799/1923] lr: \t1.0000E-04 loss: \t2.24386\n",
            " epoch [0098 / 0100] eta: 0 Days 0:7:44        [0899/1923] lr: \t1.0000E-04 loss: \t2.24329\n",
            " epoch [0098 / 0100] eta: 0 Days 0:7:25        [0999/1923] lr: \t1.0000E-04 loss: \t2.24903\n",
            " epoch [0098 / 0100] eta: 0 Days 0:7:17        [1099/1923] lr: \t1.0000E-04 loss: \t2.25036\n",
            " epoch [0098 / 0100] eta: 0 Days 0:7:11        [1199/1923] lr: \t1.0000E-04 loss: \t2.24781\n",
            " epoch [0098 / 0100] eta: 0 Days 0:7:8         [1299/1923] lr: \t1.0000E-04 loss: \t2.25047\n",
            " epoch [0098 / 0100] eta: 0 Days 0:6:56        [1399/1923] lr: \t1.0000E-04 loss: \t2.24592\n",
            " epoch [0098 / 0100] eta: 0 Days 0:6:37        [1499/1923] lr: \t1.0000E-04 loss: \t2.23573\n",
            " epoch [0098 / 0100] eta: 0 Days 0:6:26        [1599/1923] lr: \t1.0000E-04 loss: \t2.23903\n",
            " epoch [0098 / 0100] eta: 0 Days 0:6:20        [1699/1923] lr: \t1.0000E-04 loss: \t2.23043\n",
            " epoch [0098 / 0100] eta: 0 Days 0:6:15        [1799/1923] lr: \t1.0000E-04 loss: \t2.22444\n",
            " epoch [0098 / 0100] eta: 0 Days 0:5:59        [1899/1923] lr: \t1.0000E-04 loss: \t2.22787\n"
          ]
        },
        {
          "output_type": "stream",
          "name": "stderr",
          "text": [
            "100%|██████████| 28/28 [00:43<00:00,  1.57s/it]\n"
          ]
        },
        {
          "output_type": "stream",
          "name": "stdout",
          "text": [
            "saving last_epoch checkpoint\n",
            "saving best_auroc checkpoint\n",
            "val AUROC mean 0.7709\n",
            "Atelectasis 0.7494\n",
            "Cardiomegaly 0.8956\n",
            "Effusion 0.8208\n",
            "Infiltration 0.7120\n",
            "Mass 0.8236\n",
            "Nodule 0.7170\n",
            "Pneumothorax 0.8049\n",
            "Consolidation 0.6937\n",
            "Pleural_Thickening 0.7341\n",
            "Hernia 0.7584\n"
          ]
        },
        {
          "output_type": "stream",
          "name": "stderr",
          "text": [
            "100%|██████████| 219/219 [01:03<00:00,  3.43it/s]\n"
          ]
        },
        {
          "output_type": "stream",
          "name": "stdout",
          "text": [
            "\n",
            "test_seen AUROC mean 0.7686\n",
            "Atelectasis 0.7226\n",
            "Effusion 0.8193\n",
            "Infiltration 0.6723\n",
            "Mass 0.7906\n",
            "Nodule 0.7341\n",
            "Pneumothorax 0.7940\n",
            "Consolidation 0.6768\n",
            "Cardiomegaly 0.8999\n",
            "Pleural_Thickening 0.7160\n",
            "Hernia 0.8605\n",
            "\n",
            "test_unseen AUROC mean 0.6002\n",
            "Edema 0.5363\n",
            "Pneumonia 0.5499\n",
            "Emphysema 0.6592\n",
            "Fibrosis 0.6556\n",
            "best epoch 98 best auroc 0.7709398782572576 loss 2.380559 auroc at min loss 0.7634\n",
            " epoch [0099 / 0100] eta: 0 Days 0:5:51        [0099/1923] lr: \t1.0000E-04 loss: \t2.29440\n",
            " epoch [0099 / 0100] eta: 0 Days 0:5:39        [0199/1923] lr: \t1.0000E-04 loss: \t2.19481\n",
            " epoch [0099 / 0100] eta: 0 Days 0:5:31        [0299/1923] lr: \t1.0000E-04 loss: \t2.21145\n",
            " epoch [0099 / 0100] eta: 0 Days 0:5:24        [0399/1923] lr: \t1.0000E-04 loss: \t2.24528\n",
            " epoch [0099 / 0100] eta: 0 Days 0:5:15        [0499/1923] lr: \t1.0000E-04 loss: \t2.25295\n",
            " epoch [0099 / 0100] eta: 0 Days 0:5:56        [0599/1923] lr: \t1.0000E-04 loss: \t2.26830\n",
            " epoch [0099 / 0100] eta: 0 Days 0:4:49        [0699/1923] lr: \t1.0000E-04 loss: \t2.26353\n",
            " epoch [0099 / 0100] eta: 0 Days 0:4:41        [0799/1923] lr: \t1.0000E-04 loss: \t2.25430\n",
            " epoch [0099 / 0100] eta: 0 Days 0:4:37        [0899/1923] lr: \t1.0000E-04 loss: \t2.23919\n",
            " epoch [0099 / 0100] eta: 0 Days 0:5:51        [0999/1923] lr: \t1.0000E-04 loss: \t2.24549\n",
            " epoch [0099 / 0100] eta: 0 Days 0:4:18        [1099/1923] lr: \t1.0000E-04 loss: \t2.24596\n",
            " epoch [0099 / 0100] eta: 0 Days 0:4:3         [1199/1923] lr: \t1.0000E-04 loss: \t2.24174\n",
            " epoch [0099 / 0100] eta: 0 Days 0:4:4         [1299/1923] lr: \t1.0000E-04 loss: \t2.24322\n",
            " epoch [0099 / 0100] eta: 0 Days 0:3:48        [1399/1923] lr: \t1.0000E-04 loss: \t2.24040\n",
            " epoch [0099 / 0100] eta: 0 Days 0:3:47        [1499/1923] lr: \t1.0000E-04 loss: \t2.24309\n",
            " epoch [0099 / 0100] eta: 0 Days 0:3:38        [1599/1923] lr: \t1.0000E-04 loss: \t2.24181\n",
            " epoch [0099 / 0100] eta: 0 Days 0:3:23        [1699/1923] lr: \t1.0000E-04 loss: \t2.23604\n",
            " epoch [0099 / 0100] eta: 0 Days 0:3:14        [1799/1923] lr: \t1.0000E-04 loss: \t2.23409\n",
            " epoch [0099 / 0100] eta: 0 Days 0:3:5         [1899/1923] lr: \t1.0000E-04 loss: \t2.23340\n"
          ]
        },
        {
          "output_type": "stream",
          "name": "stderr",
          "text": [
            "100%|██████████| 28/28 [00:44<00:00,  1.58s/it]\n"
          ]
        },
        {
          "output_type": "stream",
          "name": "stdout",
          "text": [
            "saving last_epoch checkpoint\n",
            "val AUROC mean 0.7657\n",
            "Atelectasis 0.7384\n",
            "Cardiomegaly 0.8907\n",
            "Effusion 0.8206\n",
            "Infiltration 0.7049\n",
            "Mass 0.8283\n",
            "Nodule 0.7239\n",
            "Pneumothorax 0.7965\n",
            "Consolidation 0.6855\n",
            "Pleural_Thickening 0.7202\n",
            "Hernia 0.7479\n",
            "best epoch 98 best auroc 0.7709398782572576 loss 2.380461 auroc at min loss 0.7634\n",
            " epoch [0100 / 0100] eta: 0 Days 0:2:50        [0099/1923] lr: \t1.0000E-04 loss: \t2.28975\n",
            " epoch [0100 / 0100] eta: 0 Days 0:2:49        [0199/1923] lr: \t1.0000E-04 loss: \t2.26588\n",
            " epoch [0100 / 0100] eta: 0 Days 0:2:40        [0299/1923] lr: \t1.0000E-04 loss: \t2.26591\n",
            " epoch [0100 / 0100] eta: 0 Days 0:2:33        [0399/1923] lr: \t1.0000E-04 loss: \t2.24796\n",
            " epoch [0100 / 0100] eta: 0 Days 0:2:17        [0499/1923] lr: \t1.0000E-04 loss: \t2.26104\n",
            " epoch [0100 / 0100] eta: 0 Days 0:2:6         [0599/1923] lr: \t1.0000E-04 loss: \t2.23754\n",
            " epoch [0100 / 0100] eta: 0 Days 0:1:52        [0699/1923] lr: \t1.0000E-04 loss: \t2.23587\n",
            " epoch [0100 / 0100] eta: 0 Days 0:1:47        [0799/1923] lr: \t1.0000E-04 loss: \t2.22963\n",
            " epoch [0100 / 0100] eta: 0 Days 0:1:42        [0899/1923] lr: \t1.0000E-04 loss: \t2.22700\n",
            " epoch [0100 / 0100] eta: 0 Days 0:1:29        [0999/1923] lr: \t1.0000E-04 loss: \t2.22596\n",
            " epoch [0100 / 0100] eta: 0 Days 0:1:18        [1099/1923] lr: \t1.0000E-04 loss: \t2.22484\n",
            " epoch [0100 / 0100] eta: 0 Days 0:1:7         [1199/1923] lr: \t1.0000E-04 loss: \t2.22487\n",
            " epoch [0100 / 0100] eta: 0 Days 0:0:58        [1299/1923] lr: \t1.0000E-04 loss: \t2.22656\n",
            " epoch [0100 / 0100] eta: 0 Days 0:0:50        [1399/1923] lr: \t1.0000E-04 loss: \t2.23222\n",
            " epoch [0100 / 0100] eta: 0 Days 0:0:39        [1499/1923] lr: \t1.0000E-04 loss: \t2.23121\n",
            " epoch [0100 / 0100] eta: 0 Days 0:0:31        [1599/1923] lr: \t1.0000E-04 loss: \t2.22312\n",
            " epoch [0100 / 0100] eta: 0 Days 0:0:21        [1699/1923] lr: \t1.0000E-04 loss: \t2.22197\n",
            " epoch [0100 / 0100] eta: 0 Days 0:0:11        [1799/1923] lr: \t1.0000E-04 loss: \t2.22861\n",
            " epoch [0100 / 0100] eta: 0 Days 0:0:2         [1899/1923] lr: \t1.0000E-04 loss: \t2.23002\n"
          ]
        },
        {
          "output_type": "stream",
          "name": "stderr",
          "text": [
            "100%|██████████| 28/28 [00:43<00:00,  1.55s/it]\n"
          ]
        },
        {
          "output_type": "stream",
          "name": "stdout",
          "text": [
            "saving last_epoch checkpoint\n",
            "val AUROC mean 0.7582\n",
            "Atelectasis 0.7499\n",
            "Cardiomegaly 0.8900\n",
            "Effusion 0.8161\n",
            "Infiltration 0.7043\n",
            "Mass 0.8202\n",
            "Nodule 0.7110\n",
            "Pneumothorax 0.8004\n",
            "Consolidation 0.6798\n",
            "Pleural_Thickening 0.7086\n",
            "Hernia 0.7017\n",
            "best epoch 98 best auroc 0.7709398782572576 loss 2.436863 auroc at min loss 0.7634\n"
          ]
        }
      ]
    },
    {
      "cell_type": "markdown",
      "source": [
        "### Test"
      ],
      "metadata": {
        "id": "eIWUiyll-eqR"
      }
    },
    {
      "cell_type": "code",
      "source": [
        "# Credit: https://github.com/nyuad-cai/CXR-ML-GZSL/blob/master/images/results2.png\n",
        "\n",
        "results = {\n",
        "    \"Original Paper\": {\n",
        "        \"Seen Mean\":          0.79,\n",
        "        \"Atelectasis\":        0.76,\n",
        "        \"Cardiomegaly\":       0.90,\n",
        "        \"Effusion\":           0.83,\n",
        "        \"Infiltration\":       0.70,\n",
        "        \"Mass\":               0.80,\n",
        "        \"Nodule\":             0.75,\n",
        "        \"Pneumothorax\":       0.83,\n",
        "        \"Consolidation\":      0.69,\n",
        "        \"Pleural Thickening\": 0.72,\n",
        "        \"Hernia\":             0.90,\n",
        "        \"Unseen Mean\":        0.66,\n",
        "        \"Pneumonia\":          0.62,\n",
        "        \"Edema\":              0.67,\n",
        "        \"Emphysema\":          0.74,\n",
        "        \"Fibrosis\":           0.60\n",
        "    }\n",
        "}"
      ],
      "metadata": {
        "id": "hdaLx-7ZNs_8"
      },
      "execution_count": 38,
      "outputs": []
    },
    {
      "cell_type": "code",
      "source": [
        "# Credit: https://github.com/nyuad-cai/CXR-ML-GZSL/blob/master/scripts/test_densenet121.sh\n",
        "# Credit: https://github.com/nyuad-cai/CXR-ML-GZSL/blob/master/test.py\n",
        "\n",
        "args = argParser.parse_args(['--load-from', WEIGHTS_PATH])\n",
        "\n",
        "trainer = ChexnetTrainer(args)\n",
        "\n",
        "test_ind_auroc = trainer.test()\n",
        "test_ind_auroc = np.array(test_ind_auroc)\n",
        "\n",
        "results[\"Reproduced (pretrained)\"] = {\n",
        "        \"Seen Mean\":          test_ind_auroc[trainer.test_dl.dataset.seen_class_ids].mean(),\n",
        "        \"Atelectasis\":        test_ind_auroc[trainer.test_dl.dataset._class_ids[\"Atelectasis\"]],\n",
        "        \"Cardiomegaly\":       test_ind_auroc[trainer.test_dl.dataset._class_ids[\"Cardiomegaly\"]],\n",
        "        \"Effusion\":           test_ind_auroc[trainer.test_dl.dataset._class_ids[\"Effusion\"]],\n",
        "        \"Infiltration\":       test_ind_auroc[trainer.test_dl.dataset._class_ids[\"Infiltration\"]],\n",
        "        \"Mass\":               test_ind_auroc[trainer.test_dl.dataset._class_ids[\"Mass\"]],\n",
        "        \"Nodule\":             test_ind_auroc[trainer.test_dl.dataset._class_ids[\"Nodule\"]],\n",
        "        \"Pneumothorax\":       test_ind_auroc[trainer.test_dl.dataset._class_ids[\"Pneumothorax\"]],\n",
        "        \"Consolidation\":      test_ind_auroc[trainer.test_dl.dataset._class_ids[\"Consolidation\"]],\n",
        "        \"Pleural Thickening\": test_ind_auroc[trainer.test_dl.dataset._class_ids[\"Pleural_Thickening\"]],\n",
        "        \"Hernia\":             test_ind_auroc[trainer.test_dl.dataset._class_ids[\"Hernia\"]],\n",
        "        \"Unseen Mean\":        test_ind_auroc[trainer.test_dl.dataset.unseen_class_ids].mean(),\n",
        "        \"Pneumonia\":          test_ind_auroc[trainer.test_dl.dataset._class_ids[\"Pneumonia\"]],\n",
        "        \"Edema\":              test_ind_auroc[trainer.test_dl.dataset._class_ids[\"Edema\"]],\n",
        "        \"Emphysema\":          test_ind_auroc[trainer.test_dl.dataset._class_ids[\"Emphysema\"]],\n",
        "        \"Fibrosis\":           test_ind_auroc[trainer.test_dl.dataset._class_ids[\"Fibrosis\"]]\n",
        "}"
      ],
      "metadata": {
        "colab": {
          "base_uri": "https://localhost:8080/"
        },
        "id": "uIEy-yd2NtCu",
        "outputId": "744e6ab6-9d0a-46ef-99ad-768a68b4eefe"
      },
      "execution_count": 39,
      "outputs": [
        {
          "output_type": "stream",
          "name": "stderr",
          "text": [
            "/usr/local/lib/python3.11/dist-packages/torchvision/models/_utils.py:208: UserWarning: The parameter 'pretrained' is deprecated since 0.13 and may be removed in the future, please use 'weights' instead.\n",
            "  warnings.warn(\n",
            "/usr/local/lib/python3.11/dist-packages/torchvision/models/_utils.py:223: UserWarning: Arguments other than a weight enum or `None` for 'weights' are deprecated since 0.13 and may be removed in the future. The current behavior is equivalent to passing `weights=None`.\n",
            "  warnings.warn(msg)\n",
            "/usr/local/lib/python3.11/dist-packages/torch/nn/_reduction.py:51: UserWarning: size_average and reduce args will be deprecated, please use reduction='mean' instead.\n",
            "  warnings.warn(warning.format(ret))\n"
          ]
        },
        {
          "output_type": "stream",
          "name": "stdout",
          "text": [
            "loaded checkpoint from CXR-ML-GZSL/checkpoints/pretrained_checkpoint.pth.tar\n",
            "data partition path: CXR-ML-GZSL/dataset_splits/train.txt\n",
            "Number of images: 30758\n",
            "Number of max labels per image: 7\n",
            "Number of classes: 10\n",
            "data partition path: CXR-ML-GZSL/dataset_splits/val.txt\n",
            "Number of images: 4474\n",
            "Number of max labels per image: 6\n",
            "Number of classes: 10\n",
            "data partition path: CXR-ML-GZSL/dataset_splits/test.txt\n",
            "Number of images: 10510\n",
            "Number of max labels per image: 7\n",
            "Number of classes: 14\n",
            "['Atelectasis', 'Cardiomegaly', 'Effusion', 'Infiltration', 'Mass', 'Nodule', 'Pneumonia', 'Pneumothorax', 'Consolidation', 'Edema', 'Emphysema', 'Fibrosis', 'Pleural_Thickening', 'Hernia']\n"
          ]
        },
        {
          "output_type": "stream",
          "name": "stderr",
          "text": [
            "100%|██████████| 219/219 [01:04<00:00,  3.38it/s]\n"
          ]
        }
      ]
    },
    {
      "cell_type": "code",
      "source": [
        "# Credit: https://github.com/nyuad-cai/CXR-ML-GZSL/blob/master/train.py\n",
        "\n",
        "checkpoint = torch.load(f'{DRIVE_PATH}/best_auroc_checkpoint.pth.tar', weights_only=False)\n",
        "trainer.model.load_state_dict(checkpoint['state_dict'])\n",
        "test_ind_auroc = trainer.test()\n",
        "test_ind_auroc = np.array(test_ind_auroc)\n",
        "\n",
        "results[\"Reproduced (best AUROC)\"] = {\n",
        "        \"Seen Mean\":          test_ind_auroc[trainer.test_dl.dataset.seen_class_ids].mean(),\n",
        "        \"Atelectasis\":        test_ind_auroc[trainer.test_dl.dataset._class_ids[\"Atelectasis\"]],\n",
        "        \"Cardiomegaly\":       test_ind_auroc[trainer.test_dl.dataset._class_ids[\"Cardiomegaly\"]],\n",
        "        \"Effusion\":           test_ind_auroc[trainer.test_dl.dataset._class_ids[\"Effusion\"]],\n",
        "        \"Infiltration\":       test_ind_auroc[trainer.test_dl.dataset._class_ids[\"Infiltration\"]],\n",
        "        \"Mass\":               test_ind_auroc[trainer.test_dl.dataset._class_ids[\"Mass\"]],\n",
        "        \"Nodule\":             test_ind_auroc[trainer.test_dl.dataset._class_ids[\"Nodule\"]],\n",
        "        \"Pneumothorax\":       test_ind_auroc[trainer.test_dl.dataset._class_ids[\"Pneumothorax\"]],\n",
        "        \"Consolidation\":      test_ind_auroc[trainer.test_dl.dataset._class_ids[\"Consolidation\"]],\n",
        "        \"Pleural Thickening\": test_ind_auroc[trainer.test_dl.dataset._class_ids[\"Pleural_Thickening\"]],\n",
        "        \"Hernia\":             test_ind_auroc[trainer.test_dl.dataset._class_ids[\"Hernia\"]],\n",
        "        \"Unseen Mean\":        test_ind_auroc[trainer.test_dl.dataset.unseen_class_ids].mean(),\n",
        "        \"Pneumonia\":          test_ind_auroc[trainer.test_dl.dataset._class_ids[\"Pneumonia\"]],\n",
        "        \"Edema\":              test_ind_auroc[trainer.test_dl.dataset._class_ids[\"Edema\"]],\n",
        "        \"Emphysema\":          test_ind_auroc[trainer.test_dl.dataset._class_ids[\"Emphysema\"]],\n",
        "        \"Fibrosis\":           test_ind_auroc[trainer.test_dl.dataset._class_ids[\"Fibrosis\"]]\n",
        "}"
      ],
      "metadata": {
        "colab": {
          "base_uri": "https://localhost:8080/"
        },
        "id": "scA6UTqQNtF_",
        "outputId": "f06cbbbc-ed4b-4d8e-959d-58d5778da266"
      },
      "execution_count": 41,
      "outputs": [
        {
          "output_type": "stream",
          "name": "stderr",
          "text": [
            "100%|██████████| 219/219 [01:03<00:00,  3.43it/s]\n"
          ]
        }
      ]
    },
    {
      "cell_type": "code",
      "source": [
        "# Credit: https://github.com/nyuad-cai/CXR-ML-GZSL/blob/master/train.py\n",
        "\n",
        "checkpoint = torch.load(f'{DRIVE_PATH}/min_loss_checkpoint.pth.tar', weights_only=False)\n",
        "trainer.model.load_state_dict(checkpoint['state_dict'])\n",
        "test_ind_auroc = trainer.test()\n",
        "test_ind_auroc = np.array(test_ind_auroc)\n",
        "\n",
        "results[\"Reproduced (min loss)\"] = {\n",
        "        \"Seen Mean\":          test_ind_auroc[trainer.test_dl.dataset.seen_class_ids].mean(),\n",
        "        \"Atelectasis\":        test_ind_auroc[trainer.test_dl.dataset._class_ids[\"Atelectasis\"]],\n",
        "        \"Cardiomegaly\":       test_ind_auroc[trainer.test_dl.dataset._class_ids[\"Cardiomegaly\"]],\n",
        "        \"Effusion\":           test_ind_auroc[trainer.test_dl.dataset._class_ids[\"Effusion\"]],\n",
        "        \"Infiltration\":       test_ind_auroc[trainer.test_dl.dataset._class_ids[\"Infiltration\"]],\n",
        "        \"Mass\":               test_ind_auroc[trainer.test_dl.dataset._class_ids[\"Mass\"]],\n",
        "        \"Nodule\":             test_ind_auroc[trainer.test_dl.dataset._class_ids[\"Nodule\"]],\n",
        "        \"Pneumothorax\":       test_ind_auroc[trainer.test_dl.dataset._class_ids[\"Pneumothorax\"]],\n",
        "        \"Consolidation\":      test_ind_auroc[trainer.test_dl.dataset._class_ids[\"Consolidation\"]],\n",
        "        \"Pleural Thickening\": test_ind_auroc[trainer.test_dl.dataset._class_ids[\"Pleural_Thickening\"]],\n",
        "        \"Hernia\":             test_ind_auroc[trainer.test_dl.dataset._class_ids[\"Hernia\"]],\n",
        "        \"Unseen Mean\":        test_ind_auroc[trainer.test_dl.dataset.unseen_class_ids].mean(),\n",
        "        \"Pneumonia\":          test_ind_auroc[trainer.test_dl.dataset._class_ids[\"Pneumonia\"]],\n",
        "        \"Edema\":              test_ind_auroc[trainer.test_dl.dataset._class_ids[\"Edema\"]],\n",
        "        \"Emphysema\":          test_ind_auroc[trainer.test_dl.dataset._class_ids[\"Emphysema\"]],\n",
        "        \"Fibrosis\":           test_ind_auroc[trainer.test_dl.dataset._class_ids[\"Fibrosis\"]]\n",
        "}"
      ],
      "metadata": {
        "id": "rh8jjtGZ-j9z",
        "colab": {
          "base_uri": "https://localhost:8080/"
        },
        "outputId": "974cf720-3fda-4d12-bc87-e681967b5f30"
      },
      "execution_count": 42,
      "outputs": [
        {
          "output_type": "stream",
          "name": "stderr",
          "text": [
            "100%|██████████| 219/219 [01:03<00:00,  3.44it/s]\n"
          ]
        }
      ]
    },
    {
      "cell_type": "markdown",
      "source": [
        "## Results"
      ],
      "metadata": {
        "id": "F7L-wKuI-PYs"
      }
    },
    {
      "cell_type": "code",
      "source": [
        "df = pd.DataFrame(results).T.round(2)\n",
        "\n",
        "fig, ax = plt.subplots()\n",
        "ax.axis('off')\n",
        "\n",
        "tbl = table(ax, df, loc='center', colWidths=[ 0.02 * (len(col)+2) for col in df.columns.tolist() ])\n",
        "tbl.auto_set_font_size(False)\n",
        "tbl.set_fontsize(12)\n",
        "tbl.scale(1.2, 2)\n",
        "\n",
        "plt.show()"
      ],
      "metadata": {
        "id": "RMqPKbIQ-PiD",
        "colab": {
          "base_uri": "https://localhost:8080/",
          "height": 159
        },
        "outputId": "44ee3bc3-ea63-4517-b71d-cff1bb9d9fb5"
      },
      "execution_count": 43,
      "outputs": [
        {
          "output_type": "display_data",
          "data": {
            "text/plain": [
              "<Figure size 640x480 with 1 Axes>"
            ],
            "image/png": "[encoded data removed]"
          },
          "metadata": {}
        }
      ]
    }
  ]
}