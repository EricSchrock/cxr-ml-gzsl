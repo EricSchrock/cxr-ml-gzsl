{
  "nbformat": 4,
  "nbformat_minor": 0,
  "metadata": {
    "colab": {
      "provenance": [],
      "machine_shape": "hm",
      "gpuType": "A100"
    },
    "kernelspec": {
      "name": "python3",
      "display_name": "Python 3"
    },
    "language_info": {
      "name": "python"
    },
    "accelerator": "GPU"
  },
  "cells": [
    {
      "cell_type": "markdown",
      "source": [
        "# CXR-ML-GZSL"
      ],
      "metadata": {
        "id": "5-a-wVNbsbVd"
      }
    },
    {
      "cell_type": "markdown",
      "source": [
        "## Overview\n",
        "\n",
        "The goal of this notebook is to reproduce the findings of the paper, \"Multi-Label Generalized Zero Shot Learning for the Classification of Disease in Chest Radiographs\" using the provided code.\n",
        "\n",
        "* Paper: https://arxiv.org/abs/2107.06563\n",
        "* Code: https://github.com/nyuad-cai/CXR-ML-GZSL/\n",
        "\n",
        "The provided code is four years old, and `conda` could no longer build the provided `environment.yml`, so some changes were needed to resolve errors. Additionally, I cleaned up some imports, whitespace, filenames, etc. and adapted the code for a Jupyter notebook. However, my goal was to use the code as is in most cases."
      ],
      "metadata": {
        "id": "POJObkEsliMM"
      }
    },
    {
      "cell_type": "code",
      "execution_count": 20,
      "metadata": {
        "id": "JCSEZ3d_rbYa"
      },
      "outputs": [],
      "source": [
        "import argparse\n",
        "from datetime import datetime, timedelta\n",
        "import glob\n",
        "import hashlib\n",
        "import os\n",
        "import sys\n",
        "import tarfile\n",
        "import time\n",
        "import urllib.request\n",
        "import zipfile\n",
        "\n",
        "import matplotlib.pyplot as plt\n",
        "import numpy as np\n",
        "import pandas as pd\n",
        "from pandas.plotting import table\n",
        "from PIL import Image\n",
        "from sklearn.metrics import roc_auc_score\n",
        "from tqdm import tqdm\n",
        "\n",
        "import torch\n",
        "import torch.backends.cudnn as cudnn\n",
        "import torch.nn as nn\n",
        "from torch.nn.functional import kl_div, softmax, log_softmax\n",
        "import torch.optim as optim\n",
        "from torch.optim.lr_scheduler import ReduceLROnPlateau\n",
        "from torch.utils.data import DataLoader, Dataset\n",
        "\n",
        "import torchvision\n",
        "import torchvision.transforms as transforms"
      ]
    },
    {
      "cell_type": "markdown",
      "source": [
        "## Environment\n",
        "\n",
        "I used [Google Colab](https://colab.research.google.com/) to run this notebook. I had to use the paid version, as the free version does not provide enough RAM or a powerful enough GPU."
      ],
      "metadata": {
        "id": "7rmI8u7yC7aW"
      }
    },
    {
      "cell_type": "code",
      "source": [
        "!python --version\n",
        "!echo\n",
        "!pip list | grep -E \"matplotlib|numpy|pandas|pillow|sklearn|tqdm|torch|torchvision\" | grep -v -E \"geopandas\"\n",
        "!echo\n",
        "!nvidia-smi"
      ],
      "metadata": {
        "colab": {
          "base_uri": "https://localhost:8080/"
        },
        "id": "fJlvnCrxBc24",
        "outputId": "fd55c5bd-effc-4c25-d3ea-f9a07e3c0d54"
      },
      "execution_count": 21,
      "outputs": [
        {
          "output_type": "stream",
          "name": "stdout",
          "text": [
            "Python 3.11.11\n",
            "\n",
            "matplotlib                         3.10.0\n",
            "matplotlib-inline                  0.1.7\n",
            "matplotlib-venn                    1.1.2\n",
            "numpy                              2.0.2\n",
            "pandas                             2.2.2\n",
            "pandas-datareader                  0.10.0\n",
            "pandas-gbq                         0.28.0\n",
            "pandas-stubs                       2.2.2.240909\n",
            "pillow                             11.1.0\n",
            "sklearn-compat                     0.1.3\n",
            "sklearn-pandas                     2.2.0\n",
            "torch                              2.6.0+cu124\n",
            "torchaudio                         2.6.0+cu124\n",
            "torchsummary                       1.5.1\n",
            "torchvision                        0.21.0+cu124\n",
            "tqdm                               4.67.1\n",
            "\n",
            "Thu Apr 10 02:25:33 2025       \n",
            "+-----------------------------------------------------------------------------------------+\n",
            "| NVIDIA-SMI 550.54.15              Driver Version: 550.54.15      CUDA Version: 12.4     |\n",
            "|-----------------------------------------+------------------------+----------------------+\n",
            "| GPU  Name                 Persistence-M | Bus-Id          Disp.A | Volatile Uncorr. ECC |\n",
            "| Fan  Temp   Perf          Pwr:Usage/Cap |           Memory-Usage | GPU-Util  Compute M. |\n",
            "|                                         |                        |               MIG M. |\n",
            "|=========================================+========================+======================|\n",
            "|   0  NVIDIA A100-SXM4-40GB          Off |   00000000:00:04.0 Off |                    0 |\n",
            "| N/A   33C    P0             52W /  400W |    7289MiB /  40960MiB |      0%      Default |\n",
            "|                                         |                        |             Disabled |\n",
            "+-----------------------------------------+------------------------+----------------------+\n",
            "                                                                                         \n",
            "+-----------------------------------------------------------------------------------------+\n",
            "| Processes:                                                                              |\n",
            "|  GPU   GI   CI        PID   Type   Process name                              GPU Memory |\n",
            "|        ID   ID                                                               Usage      |\n",
            "|=========================================================================================|\n",
            "+-----------------------------------------------------------------------------------------+\n"
          ]
        }
      ]
    },
    {
      "cell_type": "markdown",
      "source": [
        "## Dataset\n",
        "\n",
        "The paper used a dataset developed by another paper, initially known as `ChestX-ray8`, but then renamed to `ChestX-ray14` when the dataset was expanded from eight to fourteen distinct disease labels.\n",
        "\n",
        "* Paper: https://arxiv.org/abs/1705.02315\n",
        "* Dataset: https://nihcc.app.box.com/v/ChestXray-NIHCC/folder/36938765345\n",
        "\n",
        "This notebook provides two different ways of uploading the dataset to session storage.\n",
        "\n",
        "1. The default is to download the image dataset from the official source. The dataset is over 42 GB, which takes 20+ minutes to download to session storage. Additionally, there are several metadata files from the `ChestX-ray14` dataset and `CXR-ML-GZSL` model repository that you will be prompted to manually upload to session storage. Be aware that session storage is wiped for each new session, including runtime changes like switching to a GPU.\n",
        "2. The other option is to download the [this](https://drive.google.com/file/d/11mk4sq5KgMpujdPxxQc8lnkqV18mQvxN/view) mirror of the dataset and metadata, save it to your Google Drive in `MyDrive`, and mount your Google Drive to the Google Colab runtime. Once the dataset is in Google Drive, it only takes 7+ minutes to copy to session storage and unzip."
      ],
      "metadata": {
        "id": "SD2XmBZYt43o"
      }
    },
    {
      "cell_type": "code",
      "source": [
        "ROOT_PATH = 'CXR-ML-GZSL'\n",
        "\n",
        "if not os.path.exists(ROOT_PATH):\n",
        "    drive_path = 'drive/MyDrive/CXR-ML-GZSL.zip'\n",
        "    if os.path.isfile(drive_path):\n",
        "        with zipfile.ZipFile(drive_path, 'r') as zip_ref:\n",
        "            zip_ref.extractall(ROOT_PATH)\n",
        "    else:\n",
        "        os.mkdir(ROOT_PATH)"
      ],
      "metadata": {
        "id": "BuKlfmq-6ZJD"
      },
      "execution_count": 22,
      "outputs": []
    },
    {
      "cell_type": "code",
      "source": [
        "SAVE_PATH = f'{ROOT_PATH}/checkpoints'\n",
        "WEIGHTS_PATH = f'{SAVE_PATH}/best_auroc_checkpoint.pth.tar'\n",
        "\n",
        "if os.path.isfile(WEIGHTS_PATH):\n",
        "    print(\"Using existing pretrained weights\")\n",
        "else:\n",
        "    if not os.path.exists(SAVE_PATH): os.mkdir(SAVE_PATH)\n",
        "    link = 'https://drive.google.com/file/d/17ioJMW3qNx1Ktmr-hXn-eqp431cm49Rm/view'\n",
        "    assert False, f\"Please download the pretrained weights from {link} and place them in {SAVE_PATH}\""
      ],
      "metadata": {
        "colab": {
          "base_uri": "https://localhost:8080/"
        },
        "id": "vfU2dFaLrHxn",
        "outputId": "915ef6c2-75e5-4460-8c57-8304cfdf1817"
      },
      "execution_count": 23,
      "outputs": [
        {
          "output_type": "stream",
          "name": "stdout",
          "text": [
            "Using existing pretrained weights\n"
          ]
        }
      ]
    },
    {
      "cell_type": "code",
      "source": [
        "DATA_PATH = f'{ROOT_PATH}/data/nih_chest_xrays'\n",
        "IMAGE_PATH = f'{DATA_PATH}/images'\n",
        "\n",
        "if not os.path.exists(DATA_PATH):\n",
        "    os.makedirs(DATA_PATH)\n",
        "\n",
        "if os.path.isfile(f'{DATA_PATH}/Data_Entry_2017_v2020.csv'):\n",
        "    print(\"Using existing data entry file\")\n",
        "else:\n",
        "    assert False, f\"Please download Data_Entry_2017_v2020.csv from the ChestX-ray14 dataset link and place it in {DATA_PATH}\"\n",
        "\n",
        "if os.path.exists(IMAGE_PATH):\n",
        "    print(\"Using existing image data\")\n",
        "else:\n",
        "    # Credit: https://nihcc.app.box.com/v/ChestXray-NIHCC/file/371647823217\n",
        "    links = [\n",
        "        'https://nihcc.box.com/shared/static/vfk49d74nhbxq3nqjg0900w5nvkorp5c.gz',\n",
        "        'https://nihcc.box.com/shared/static/i28rlmbvmfjbl8p2n3ril0pptcmcu9d1.gz',\n",
        "        'https://nihcc.box.com/shared/static/f1t00wrtdk94satdfb9olcolqx20z2jp.gz',\n",
        "        'https://nihcc.box.com/shared/static/0aowwzs5lhjrceb3qp67ahp0rd1l1etg.gz',\n",
        "        'https://nihcc.box.com/shared/static/v5e3goj22zr6h8tzualxfsqlqaygfbsn.gz',\n",
        "        'https://nihcc.box.com/shared/static/asi7ikud9jwnkrnkj99jnpfkjdes7l6l.gz',\n",
        "        'https://nihcc.box.com/shared/static/jn1b4mw4n6lnh74ovmcjb8y48h8xj07n.gz',\n",
        "        'https://nihcc.box.com/shared/static/tvpxmn7qyrgl0w8wfh9kqfjskv6nmm1j.gz',\n",
        "        'https://nihcc.box.com/shared/static/upyy3ml7qdumlgk2rfcvlb9k6gvqq2pj.gz',\n",
        "        'https://nihcc.box.com/shared/static/l6nilvfa9cg3s28tqv1qc1olm3gnz54p.gz',\n",
        "        'https://nihcc.box.com/shared/static/hhq8fkdgvcari67vfhs7ppg2w6ni4jze.gz',\n",
        "        'https://nihcc.box.com/shared/static/ioqwiy20ihqwyr8pf4c24eazhh281pbu.gz'\n",
        "    ]\n",
        "\n",
        "    # Credit: https://nihcc.app.box.com/v/ChestXray-NIHCC/file/249502714403\n",
        "    md5_checksums = [\n",
        "        'fe8ed0a6961412fddcbb3603c11b3698',\n",
        "        'ab07a2d7cbe6f65ddd97b4ed7bde10bf',\n",
        "        '2301d03bde4c246388bad3876965d574',\n",
        "        '9f1b7f5aae01b13f4bc8e2c44a4b8ef6',\n",
        "        '1861f3cd0ef7734df8104f2b0309023b',\n",
        "        '456b53a8b351afd92a35bc41444c58c8',\n",
        "        '1075121ea20a137b87f290d6a4a5965e',\n",
        "        'b61f34cec3aa69f295fbb593cbd9d443',\n",
        "        '442a3caa61ae9b64e61c561294d1e183',\n",
        "        '09ec81c4c31e32858ad8cf965c494b74',\n",
        "        '499aefc67207a5a97692424cf5dbeed5',\n",
        "        'dc9fda1757c2de0032b63347a7d2895c'\n",
        "    ]\n",
        "\n",
        "    for idx, link in enumerate(links):\n",
        "        fn = os.path.join(DATA_PATH, 'images_%02d.tar.gz' % (idx + 1))\n",
        "\n",
        "        print(f'Downloading {fn}...')\n",
        "        urllib.request.urlretrieve(link, fn)\n",
        "\n",
        "        print(f\"Checking MD5 checksum for {fn}...\")\n",
        "        with open(fn, 'rb') as f:\n",
        "            file_md5 = hashlib.md5(f.read()).hexdigest()\n",
        "\n",
        "        assert file_md5 == md5_checksums[idx], \"Invalid MD5 checksum\"\n",
        "\n",
        "        print(f\"Extracting {fn}...\")\n",
        "        with tarfile.open(fn, 'r:gz') as tar:\n",
        "            tar.extractall(path=DATA_PATH)\n",
        "\n",
        "        print(f\"Deleting {fn}...\")\n",
        "        os.remove(fn)\n",
        "\n",
        "    assert len([f for f in os.listdir(IMAGE_PATH) if os.path.isfile(os.path.join(IMAGE_PATH, f))]) == 112120, \"Dataset is not the expected size!\"\n",
        "    print(\"Image data download complete\")"
      ],
      "metadata": {
        "colab": {
          "base_uri": "https://localhost:8080/"
        },
        "id": "eZEngFTmsa-3",
        "outputId": "bbc574a1-7896-491e-95ec-4569e49279dc"
      },
      "execution_count": 24,
      "outputs": [
        {
          "output_type": "stream",
          "name": "stdout",
          "text": [
            "Using existing data entry file\n",
            "Using existing image data\n"
          ]
        }
      ]
    },
    {
      "cell_type": "code",
      "source": [
        "SPLITS_PATH = f'{ROOT_PATH}/dataset_splits'\n",
        "\n",
        "files = ['train.txt', 'test.txt', 'val.txt']\n",
        "if all(os.path.exists(f'{SPLITS_PATH}/{f}') for f in files):\n",
        "    print(\"Using existing dataset splits\")\n",
        "else:\n",
        "    if not os.path.exists(SPLITS_PATH): os.mkdir(SPLITS_PATH)\n",
        "    link = 'https://github.com/nyuad-cai/CXR-ML-GZSL/tree/master/dataset_splits'\n",
        "    assert False, f\"Please download the dataset splits from {link} and place them in {SPLITS_PATH}\""
      ],
      "metadata": {
        "colab": {
          "base_uri": "https://localhost:8080/"
        },
        "id": "YgnZHGyyx4So",
        "outputId": "ae30410f-ca4b-4daf-de56-9379fc5a3311"
      },
      "execution_count": 25,
      "outputs": [
        {
          "output_type": "stream",
          "name": "stdout",
          "text": [
            "Using existing dataset splits\n"
          ]
        }
      ]
    },
    {
      "cell_type": "code",
      "source": [
        "EMBEDDINGS_PATH = f'{ROOT_PATH}/embeddings'\n",
        "BIOBERT_PATH = f'{EMBEDDINGS_PATH}/nih_chest_xray_biobert.npy'\n",
        "\n",
        "if os.path.isfile(BIOBERT_PATH):\n",
        "    print(\"Using existing text embeddings\")\n",
        "else:\n",
        "    if not os.path.exists(EMBEDDINGS_PATH): os.mkdir(EMBEDDINGS_PATH)\n",
        "    link = 'https://github.com/nyuad-cai/CXR-ML-GZSL/blob/master/embeddings/nih_chest_xray_biobert.npy'\n",
        "    assert False, f\"Please download the text embeddings from {link} and place them in {EMBEDDINGS_PATH}\""
      ],
      "metadata": {
        "colab": {
          "base_uri": "https://localhost:8080/"
        },
        "id": "U0EaBbm3zjyT",
        "outputId": "a6deb361-d322-41b4-cc9a-19dd2813b356"
      },
      "execution_count": 26,
      "outputs": [
        {
          "output_type": "stream",
          "name": "stdout",
          "text": [
            "Using existing text embeddings\n"
          ]
        }
      ]
    },
    {
      "cell_type": "markdown",
      "source": [
        "## Model"
      ],
      "metadata": {
        "id": "RwIGiX-JrmdI"
      }
    },
    {
      "cell_type": "markdown",
      "source": [
        "### KLDivLoss"
      ],
      "metadata": {
        "id": "aDcFrrhTCo6M"
      }
    },
    {
      "cell_type": "code",
      "source": [
        "# Credit: https://github.com/nyuad-cai/CXR-ML-GZSL/blob/master/loss.py\n",
        "\n",
        "class KLDivLoss(nn.Module):\n",
        "    def __init__(self, temperature=0.2):\n",
        "        super(KLDivLoss, self).__init__()\n",
        "\n",
        "        self.temperature = temperature\n",
        "\n",
        "    def forward(self, emb1, emb2):\n",
        "        emb1 = softmax(emb1/self.temperature, dim=1).detach()\n",
        "        emb2 = log_softmax(emb2/self.temperature, dim=1)\n",
        "        loss_kldiv = kl_div(emb2, emb1, reduction='none')\n",
        "        loss_kldiv = torch.sum(loss_kldiv, dim=1)\n",
        "        loss_kldiv = torch.mean(loss_kldiv)\n",
        "\n",
        "        return loss_kldiv"
      ],
      "metadata": {
        "id": "mamyKMa4CoTj"
      },
      "execution_count": 27,
      "outputs": []
    },
    {
      "cell_type": "markdown",
      "source": [
        "### RankingLoss"
      ],
      "metadata": {
        "id": "uY2t76EAiFBr"
      }
    },
    {
      "cell_type": "code",
      "source": [
        "# Credit: https://github.com/nyuad-cai/CXR-ML-GZSL/blob/master/loss.py\n",
        "\n",
        "class RankingLoss(nn.Module):\n",
        "    def __init__(self, neg_penalty=0.03):\n",
        "        super(RankingLoss, self).__init__()\n",
        "\n",
        "        self.neg_penalty = neg_penalty\n",
        "\n",
        "    def forward(self, ranks, labels, class_ids_loaded, device):\n",
        "        '''\n",
        "        for each correct it should be higher then the absence\n",
        "        '''\n",
        "        labels = labels[:, class_ids_loaded]\n",
        "        ranks_loaded = ranks[:, class_ids_loaded]\n",
        "        neg_labels = 1+(labels*-1)\n",
        "        loss_rank = torch.zeros(1).to(device)\n",
        "        for i in range(len(labels)):\n",
        "            correct = ranks_loaded[i, labels[i]==1]\n",
        "            wrong = ranks_loaded[i, neg_labels[i]==1]\n",
        "            correct = correct.reshape((-1, 1)).repeat((1, len(wrong)))\n",
        "            wrong = wrong.repeat(len(correct)).reshape(len(correct), -1)\n",
        "            image_level_penalty = ((self.neg_penalty+wrong) - correct)\n",
        "            image_level_penalty[image_level_penalty<0]=0\n",
        "            loss_rank += image_level_penalty.sum()\n",
        "        loss_rank /=len(labels)\n",
        "\n",
        "        return loss_rank"
      ],
      "metadata": {
        "id": "HGFT0qLAiFIx"
      },
      "execution_count": 28,
      "outputs": []
    },
    {
      "cell_type": "markdown",
      "source": [
        "### CosineLoss"
      ],
      "metadata": {
        "id": "RFX6rw5NiFc8"
      }
    },
    {
      "cell_type": "code",
      "source": [
        "# Credit: https://github.com/nyuad-cai/CXR-ML-GZSL/blob/master/loss.py\n",
        "\n",
        "class CosineLoss(nn.Module):\n",
        "    def forward(self, t_emb, v_emb ):\n",
        "        a_norm = v_emb / v_emb.norm(dim=1)[:, None]\n",
        "        b_norm = t_emb / t_emb.norm(dim=1)[:, None]\n",
        "        loss = 1 - torch.mean(torch.diagonal(torch.mm(a_norm, b_norm.t()), 0))\n",
        "\n",
        "        return loss"
      ],
      "metadata": {
        "id": "pwi6_lTOiFkI"
      },
      "execution_count": 29,
      "outputs": []
    },
    {
      "cell_type": "markdown",
      "source": [
        "### ZSLNet"
      ],
      "metadata": {
        "id": "ZsODvFq8iicH"
      }
    },
    {
      "cell_type": "code",
      "source": [
        "# Credit: https://github.com/nyuad-cai/CXR-ML-GZSL/blob/master/zsl_models.py\n",
        "\n",
        "class ZSLNet(nn.Module):\n",
        "    def __init__(self, args, textual_embeddings=None, device='cpu'):\n",
        "        super(ZSLNet, self).__init__()\n",
        "        self.args = args\n",
        "        self.device = device\n",
        "        self.vision_backbone = getattr(torchvision.models, self.args.vision_backbone)(pretrained=self.args.pretrained)\n",
        "        # remove classification layer from visual encoder\n",
        "        classifiers = [ 'classifier', 'fc']\n",
        "        for classifier in classifiers:\n",
        "            cls_layer = getattr(self.vision_backbone, classifier, None)\n",
        "            if cls_layer is None:\n",
        "                continue\n",
        "            d_visual = cls_layer.in_features\n",
        "            setattr(self.vision_backbone, classifier, nn.Identity(d_visual))\n",
        "            break\n",
        "\n",
        "        pretrained_encoder = False\n",
        "        if pretrained_encoder:\n",
        "            self.vision_backbone.classifier = nn.Identity(d_visual)\n",
        "\n",
        "            path = 'checkpoints/bce_only_imagenet/last_epoch_checkpoint.pth.tar'\n",
        "\n",
        "            self.classifier = nn.Sequential(nn.Linear(d_visual, self.args.num_classes), nn.Sigmoid())\n",
        "            checkpoint = torch.load(path, weights_only=False)\n",
        "            self.load_state_dict(checkpoint['state_dict'])\n",
        "\n",
        "            for p in self.vision_backbone.parameters():\n",
        "                p.requires_grad = False\n",
        "\n",
        "        if self.args.bce_only:\n",
        "            self.bce_loss = torch.nn.BCELoss(size_average=True)\n",
        "            self.classifier = nn.Sequential(nn.Linear(d_visual, self.args.num_classes), nn.Sigmoid())\n",
        "        else:\n",
        "            self.emb_loss = CosineLoss()\n",
        "            self.ranking_loss = RankingLoss(neg_penalty=self.args.neg_penalty)\n",
        "            self.textual_embeddings = textual_embeddings\n",
        "            d_textual = self.textual_embeddings.shape[-1]\n",
        "\n",
        "            self.textual_embeddings = torch.from_numpy(self.textual_embeddings).to(self.device)\n",
        "\n",
        "            self.fc_v = nn.Sequential(\n",
        "                nn.Linear(d_visual, 512),\n",
        "                nn.ReLU(),\n",
        "                nn.Linear(512, 256),\n",
        "                nn.ReLU(),\n",
        "                nn.Linear(256, 128),\n",
        "            )\n",
        "\n",
        "            self.fc_t = nn.Sequential(\n",
        "                nn.Linear(d_textual, 512),\n",
        "                nn.ReLU(),\n",
        "                nn.Linear(512, 256),\n",
        "                nn.ReLU(),\n",
        "                nn.Linear(256, 128)\n",
        "            )\n",
        "\n",
        "    def forward(self, x, labels=None, epoch=0, n_crops=0, bs=16):\n",
        "        if self.args.bce_only:\n",
        "            return self.forward_bce_only(x, labels=labels, n_crops=n_crops, bs=bs)\n",
        "        else:\n",
        "            return self.forward_ranking(x, labels=labels, epoch=epoch, n_crops=n_crops, bs=bs)\n",
        "\n",
        "    def forward_bce_only(self, x, labels=None, n_crops=0, bs=16):\n",
        "        lossvalue_bce = torch.zeros(1).to(self.device)\n",
        "\n",
        "        visual_feats = self.vision_backbone(x)\n",
        "        preds = self.classifier(visual_feats)\n",
        "\n",
        "        if labels is not None:\n",
        "            lossvalue_bce = self.bce_loss(preds, labels)\n",
        "\n",
        "        return preds, lossvalue_bce, f'bce:\\t {lossvalue_bce.item():0.4f}'\n",
        "\n",
        "    def forward_ranking(self, x, labels=None, epoch=0, n_crops=0, bs=16):\n",
        "        loss_rank = torch.zeros(1).to(self.device)\n",
        "        loss_allignment_cos = torch.zeros(1).to(self.device)\n",
        "        loss_mapping_consistency = torch.zeros(1).to(self.device)\n",
        "\n",
        "        visual_feats = self.vision_backbone(x)\n",
        "        visual_feats = self.fc_v(visual_feats)\n",
        "        text_feats = self.fc_t(self.textual_embeddings)\n",
        "\n",
        "        if not self.args.wo_con and epoch >= 0:\n",
        "            text_mapped_sim = self.sim_score(text_feats, text_feats.detach())\n",
        "            text_orig_sim = self.sim_score(self.textual_embeddings, self.textual_embeddings)\n",
        "            loss_mapping_consistency = torch.abs(text_orig_sim - text_mapped_sim).mean()\n",
        "\n",
        "        if labels is not None:\n",
        "            mapped_visual, mapped_text = self.map_visual_text(visual_feats, labels, text_feats)\n",
        "            if mapped_visual is not None and not self.args.wo_map and epoch >= 0:\n",
        "                loss_allignment_cos = self.emb_loss(mapped_text, mapped_visual)\n",
        "\n",
        "        ranks = self.sim_score(visual_feats, text_feats)\n",
        "        if n_crops > 0:\n",
        "            ranks = ranks.view(bs, n_crops, -1).mean(1)\n",
        "\n",
        "        if labels is not None:\n",
        "            loss_rank = self.ranking_loss(ranks, labels, self.class_ids_loaded, self.device)\n",
        "        loss_allignment_cos = (self.args.beta_map * loss_allignment_cos)\n",
        "        loss_rank = (self.args.beta_rank * loss_rank)\n",
        "        loss_mapping_consistency = (self.args.beta_con * loss_mapping_consistency)\n",
        "        losses = loss_rank + loss_mapping_consistency + 0.0*loss_allignment_cos\n",
        "\n",
        "        return ranks, losses\n",
        "\n",
        "    def sim_score(self, a, b):\n",
        "        a_norm = a / a.norm(dim=1)[:, None]\n",
        "        b_norm = b / (1e-6+b.norm(dim=1))[:, None]\n",
        "        score = (torch.mm(a_norm, b_norm.t()))\n",
        "\n",
        "        return score\n",
        "\n",
        "    def map_visual_text(self, visual_feats, labels, labels_embd):\n",
        "        mapped_labels_embd = []\n",
        "        labels == 1\n",
        "        for i in range(0, labels.shape[0]):\n",
        "            class_embd = labels_embd[labels[i]==1].mean(dim=0)[None,:]\n",
        "            mapped_labels_embd.append(class_embd)\n",
        "        mapped_labels_embd = torch.cat(mapped_labels_embd)\n",
        "\n",
        "        return visual_feats.detach(), mapped_labels_embd.detach()"
      ],
      "metadata": {
        "id": "nwlvZTX4iiks"
      },
      "execution_count": 30,
      "outputs": []
    },
    {
      "cell_type": "markdown",
      "source": [
        "### NIHChestXray"
      ],
      "metadata": {
        "id": "81EQt4_QjOWj"
      }
    },
    {
      "cell_type": "code",
      "source": [
        "# Credit: https://github.com/nyuad-cai/CXR-ML-GZSL/blob/master/dataset.py\n",
        "\n",
        "class NIHChestXray(Dataset):\n",
        "    def __init__ (self, args, pathDatasetFile, transform, classes_to_load='seen', exclude_all=True):\n",
        "        self.listImagePaths = []\n",
        "        self.listImageLabels = []\n",
        "        self.transform = transform\n",
        "        self.num_classes = args.num_classes\n",
        "\n",
        "        self._data_path = args.data_root\n",
        "        self.args = args\n",
        "\n",
        "        self.split_path = pathDatasetFile\n",
        "        self.CLASSES = [ 'Atelectasis', 'Cardiomegaly', 'Effusion', 'Infiltration', 'Mass', 'Nodule', 'Pneumonia',\n",
        "                'Pneumothorax', 'Consolidation', 'Edema', 'Emphysema', 'Fibrosis', 'Pleural_Thickening', 'Hernia']\n",
        "\n",
        "        self.unseen_classes = ['Edema', 'Pneumonia', 'Emphysema', 'Fibrosis']\n",
        "\n",
        "        self.seen_classes = [ 'Atelectasis', 'Effusion', 'Infiltration', 'Mass', 'Nodule',\n",
        "                'Pneumothorax', 'Consolidation', 'Cardiomegaly', 'Pleural_Thickening', 'Hernia']\n",
        "\n",
        "        self._class_ids = {v: i for i, v in enumerate(self.CLASSES) if v != 'No Finding'}\n",
        "\n",
        "        self.seen_class_ids = [self._class_ids[label] for label in self.seen_classes]\n",
        "        self.unseen_class_ids = [self._class_ids[label] for label in self.unseen_classes]\n",
        "\n",
        "        self.classes_to_load = classes_to_load\n",
        "        self.exclude_all = exclude_all\n",
        "        self._construct_index()\n",
        "\n",
        "    def _construct_index(self):\n",
        "        # Compile the split data path\n",
        "        max_labels = 0\n",
        "        paths = glob.glob(f'{self._data_path}/images/*.png')\n",
        "        self.names_to_path = {path.split('/')[-1]: path for path in paths}\n",
        "        data_entry_file = 'Data_Entry_2017_v2020.csv'\n",
        "\n",
        "        print(f'data partition path: {self.split_path}')\n",
        "        with open(self.split_path, 'r') as f: file_names = f.readlines()\n",
        "\n",
        "        split_file_names = np.array([file_name.strip().split(' ')[0].split('/')[-1] for file_name in file_names])\n",
        "        df = pd.read_csv(f'{self._data_path}/{data_entry_file}')\n",
        "        image_index = df.iloc[:, 0].values\n",
        "\n",
        "        _, split_index, _ = np.intersect1d(image_index, split_file_names, return_indices=True)\n",
        "\n",
        "        labels = df.iloc[:, 1].values\n",
        "        labels = np.array(labels)[split_index]\n",
        "\n",
        "        labels = [label.split('|') for label in labels]\n",
        "\n",
        "        image_index = image_index[split_index]\n",
        "\n",
        "        # Construct the image db\n",
        "        self._imdb = []\n",
        "        self.class_ids_loaded = []\n",
        "        for index in range(len(split_index)):\n",
        "            if len(labels[index]) == 1 and labels[index][0] == 'No Finding':\n",
        "                continue\n",
        "            if self._should_load_image(labels[index]) is False:\n",
        "                continue\n",
        "            class_ids = [self._class_ids[label] for label in labels[index]]\n",
        "            self.class_ids_loaded +=class_ids\n",
        "            self._imdb.append({\n",
        "                'im_path': self.names_to_path[image_index[index]],\n",
        "                'labels': class_ids,\n",
        "            })\n",
        "            max_labels = max(max_labels, len(class_ids))\n",
        "\n",
        "        self.class_ids_loaded = np.unique(np.array(self.class_ids_loaded))\n",
        "        print(f'Number of images: {len(self._imdb)}')\n",
        "        print(f'Number of max labels per image: {max_labels}')\n",
        "        print(f'Number of classes: {len(self.class_ids_loaded)}')\n",
        "\n",
        "    def _should_load_image(self, labels):\n",
        "        selected_class_labels = self.CLASSES\n",
        "        if self.classes_to_load == 'seen':\n",
        "            selected_class_labels = self.seen_classes\n",
        "        elif self.classes_to_load == 'unseen':\n",
        "            selected_class_labels = self.unseen_classes\n",
        "        elif self.classes_to_load == 'all':\n",
        "            return True\n",
        "\n",
        "        count = 0\n",
        "        for label in labels:\n",
        "            if label in selected_class_labels:\n",
        "                count+=1\n",
        "\n",
        "        if count == len(labels):\n",
        "            # all labels from selected sub set\n",
        "            return True\n",
        "        elif count == 0:\n",
        "            # none label in selected sub set\n",
        "            return False\n",
        "        else:\n",
        "            # some labels in selected sub set\n",
        "            if self.exclude_all is True:\n",
        "                return False\n",
        "            else:\n",
        "                return True\n",
        "\n",
        "    def __getitem__(self, index):\n",
        "        imagePath = self._imdb[index]['im_path']\n",
        "        imageData = Image.open(imagePath).convert('RGB')\n",
        "        labels = torch.tensor(self._imdb[index]['labels'])\n",
        "        labels = labels.unsqueeze(0)\n",
        "        imageLabel = torch.zeros(labels.size(0), self.num_classes).scatter_(1, labels, 1.).squeeze()\n",
        "        img = self.transform(imageData)\n",
        "\n",
        "        return img, imageLabel\n",
        "\n",
        "    def __len__(self):\n",
        "        return len(self._imdb)"
      ],
      "metadata": {
        "id": "p4Nive-pjOel"
      },
      "execution_count": 31,
      "outputs": []
    },
    {
      "cell_type": "markdown",
      "source": [
        "### plot_array"
      ],
      "metadata": {
        "id": "YdyCvcywoH06"
      }
    },
    {
      "cell_type": "code",
      "source": [
        "# Credit: https://github.com/nyuad-cai/CXR-ML-GZSL/blob/master/plots.py\n",
        "\n",
        "def plot_array(array, disc='loss'):\n",
        "    plt.plot(array)\n",
        "    plt.ylabel(disc)\n",
        "    plt.savefig(f'{disc}.pdf')\n",
        "    plt.close()"
      ],
      "metadata": {
        "id": "9XHV1q1xoH-9"
      },
      "execution_count": 32,
      "outputs": []
    },
    {
      "cell_type": "markdown",
      "source": [
        "### ChexnetTrainer"
      ],
      "metadata": {
        "id": "5RvfqMkilbad"
      }
    },
    {
      "cell_type": "code",
      "source": [
        "# Credit: https://github.com/nyuad-cai/CXR-ML-GZSL/blob/master/ChexnetTrainer.py\n",
        "\n",
        "class ChexnetTrainer(object):\n",
        "    def __init__(self, args):\n",
        "        self.args = args\n",
        "        self.device = torch.device('cuda' if torch.cuda.is_available() else 'cpu')\n",
        "\n",
        "        self.textual_embeddings = np.load(args.textual_embeddings)\n",
        "\n",
        "        self.model = ZSLNet(self.args, self.textual_embeddings, self.device).to(self.device)\n",
        "        self.optimizer = optim.Adam (self.model.parameters(), lr=self.args.lr, betas=(0.9, 0.999), eps=1e-08, weight_decay=1e-5)\n",
        "        self.scheduler = ReduceLROnPlateau(self.optimizer, factor=0.01, patience=10, mode='min')\n",
        "\n",
        "        self.loss = torch.nn.BCELoss(size_average=True)\n",
        "        self.auroc_min_loss = 0.0\n",
        "\n",
        "        self.start_epoch = 1\n",
        "        self.lossMIN = float('inf')\n",
        "        self.max_auroc_mean = float('-inf')\n",
        "        self.best_epoch = 1\n",
        "\n",
        "        self.val_losses = []\n",
        "\n",
        "        self.resume_from()\n",
        "        self.load_from()\n",
        "        self.init_dataset()\n",
        "\n",
        "        self.steps = [int(step) for step in self.args.steps.split(',')]\n",
        "        self.time_start = time.time()\n",
        "        self.time_end = time.time()\n",
        "        self.should_test = False\n",
        "        self.model.class_ids_loaded = self.train_dl.dataset.class_ids_loaded\n",
        "\n",
        "    def __call__(self):\n",
        "        self.train()\n",
        "\n",
        "    def load_from(self):\n",
        "        if self.args.load_from is not None:\n",
        "            checkpoint = torch.load(self.args.load_from, weights_only=False)\n",
        "            self.model.load_state_dict(checkpoint['state_dict'])\n",
        "            print(f'loaded checkpoint from {self.args.load_from}')\n",
        "\n",
        "    def resume_from(self):\n",
        "        if self.args.resume_from is not None:\n",
        "            checkpoint = torch.load(self.args.resume_from, weights_only=False)\n",
        "            self.model.load_state_dict(checkpoint['state_dict'])\n",
        "            self.optimizer.load_state_dict(checkpoint['optimizer'])\n",
        "            self.start_epoch = checkpoint['epoch'] + 1\n",
        "            self.lossMIN = checkpoint['lossMIN']\n",
        "            self.max_auroc_mean = checkpoint['max_auroc_mean']\n",
        "            print(f'resuming training from epoch {self.start_epoch}')\n",
        "\n",
        "    def save_checkpoint(self, prefix='best'):\n",
        "        path = f'{self.args.save_dir}/{prefix}_checkpoint.pth.tar'\n",
        "        torch.save(\n",
        "            {\n",
        "            'epoch': self.epoch,\n",
        "            'state_dict': self.model.state_dict(),\n",
        "            'max_auroc_mean': self.max_auroc_mean,\n",
        "            'optimizer' : self.optimizer.state_dict(),\n",
        "            'lossMIN' : self.lossMIN\n",
        "            }, path)\n",
        "        print(f\"saving {prefix} checkpoint\")\n",
        "\n",
        "    def init_dataset(self):\n",
        "        normalize = transforms.Normalize([0.485, 0.456, 0.406], [0.229, 0.224, 0.225])\n",
        "\n",
        "        train_transforms = []\n",
        "        train_transforms.append(transforms.RandomResizedCrop(self.args.crop))\n",
        "        train_transforms.append(transforms.RandomHorizontalFlip())\n",
        "        train_transforms.append(transforms.ToTensor())\n",
        "        train_transforms.append(normalize)\n",
        "\n",
        "        datasetTrain = NIHChestXray(self.args, self.args.train_file, transform=transforms.Compose(train_transforms))\n",
        "\n",
        "        self.train_dl = DataLoader(dataset=datasetTrain, batch_size=self.args.batch_size, shuffle=True,  num_workers=4, pin_memory=True)\n",
        "\n",
        "        test_transforms = []\n",
        "        test_transforms.append(transforms.Resize(self.args.resize))\n",
        "        test_transforms.append(transforms.TenCrop(self.args.crop))\n",
        "        test_transforms.append(transforms.Lambda(lambda crops: torch.stack([transforms.ToTensor()(crop) for crop in crops])))\n",
        "        test_transforms.append(transforms.Lambda(lambda crops: torch.stack([normalize(crop) for crop in crops])))\n",
        "\n",
        "        datasetVal = NIHChestXray(self.args, self.args.val_file, transform=transforms.Compose(test_transforms))\n",
        "        self.val_dl = DataLoader(dataset=datasetVal, batch_size=self.args.batch_size*10, shuffle=False, num_workers=4, pin_memory=True)\n",
        "\n",
        "        datasetTest = NIHChestXray(self.args, self.args.test_file, transform=transforms.Compose(test_transforms), classes_to_load='all')\n",
        "        self.test_dl = DataLoader(dataset=datasetTest, batch_size=self.args.batch_size*3, num_workers=8, shuffle=False, pin_memory=True)\n",
        "        print(datasetTest.CLASSES)\n",
        "\n",
        "    def train(self):\n",
        "        for self.epoch in range(self.start_epoch, self.args.epochs + 1):\n",
        "            self.epochTrain()\n",
        "            lossVal, val_ind_auroc = self.epochVal()\n",
        "            val_ind_auroc = np.array(val_ind_auroc)\n",
        "\n",
        "            aurocMean = val_ind_auroc.mean()\n",
        "            self.save_checkpoint(prefix=f'last_epoch')\n",
        "            self.should_test = False\n",
        "\n",
        "            if aurocMean > self.max_auroc_mean:\n",
        "                self.max_auroc_mean = aurocMean\n",
        "                self.save_checkpoint(prefix='best_auroc')\n",
        "                self.best_epoch = self.epoch\n",
        "                self.should_test = True\n",
        "\n",
        "            if lossVal < self.lossMIN:\n",
        "                self.lossMIN = lossVal\n",
        "                self.auroc_min_loss = aurocMean\n",
        "                self.save_checkpoint(prefix='min_loss')\n",
        "                self.should_test = True\n",
        "\n",
        "            self.print_auroc(val_ind_auroc, self.val_dl.dataset.class_ids_loaded, prefix='val')\n",
        "            if self.should_test is True:\n",
        "                test_ind_auroc = self.test()\n",
        "                test_ind_auroc = np.array(test_ind_auroc)\n",
        "\n",
        "                self.write_results(val_ind_auroc, self.val_dl.dataset.class_ids_loaded, prefix=f'\\n\\nepoch {self.epoch}\\nval', mode='a')\n",
        "\n",
        "                self.write_results(test_ind_auroc[self.test_dl.dataset.seen_class_ids], self.test_dl.dataset.seen_class_ids, prefix='\\ntest_seen', mode='a')\n",
        "                self.write_results(test_ind_auroc[self.test_dl.dataset.unseen_class_ids], self.test_dl.dataset.unseen_class_ids, prefix='\\ntest_unseen', mode='a')\n",
        "\n",
        "                self.print_auroc(test_ind_auroc[self.test_dl.dataset.seen_class_ids], self.test_dl.dataset.seen_class_ids, prefix='\\ntest_seen')\n",
        "                self.print_auroc(test_ind_auroc[self.test_dl.dataset.unseen_class_ids], self.test_dl.dataset.unseen_class_ids, prefix='\\ntest_unseen')\n",
        "\n",
        "            plot_array(self.val_losses, f'{self.args.save_dir}/val_loss')\n",
        "            print(f'best epoch {self.best_epoch} best auroc {self.max_auroc_mean} loss {lossVal:.6f} auroc at min loss {self.auroc_min_loss:0.4f}')\n",
        "\n",
        "            self.scheduler.step(lossVal)\n",
        "\n",
        "    def get_eta(self, epoch, iter):\n",
        "        self.time_end = time.time()\n",
        "        delta = self.time_end - self.time_start\n",
        "        delta = delta * (len(self.train_dl) * ((self.args.epochs + 1) - epoch) - iter)\n",
        "        sec = timedelta(seconds=int(delta))\n",
        "        d = (datetime(1,1,1) + sec)\n",
        "        eta = f\"{d.day-1} Days {d.hour}:{d.minute}:{d.second}\"\n",
        "        self.time_start = time.time()\n",
        "\n",
        "        return eta\n",
        "\n",
        "    def epochTrain(self):\n",
        "        self.model.train()\n",
        "        epoch_loss = 0\n",
        "        for batchID, (inputs, target) in enumerate (self.train_dl):\n",
        "\n",
        "            target = target.to(self.device)\n",
        "            inputs = inputs.to(self.device)\n",
        "            output, loss = self.model(inputs, target, self.epoch)\n",
        "\n",
        "            self.optimizer.zero_grad()\n",
        "            loss.backward()\n",
        "            self.optimizer.step()\n",
        "            eta = self.get_eta(self.epoch, batchID)\n",
        "            epoch_loss +=loss.item()\n",
        "            if batchID % 10 == 9:\n",
        "                print(f\" epoch [{self.epoch:04d} / {self.args.epochs:04d}] eta: {eta:<20} [{batchID:04}/{len(self.train_dl)}] lr: \\t{self.optimizer.param_groups[0]['lr']:0.4E} loss: \\t{epoch_loss/batchID:0.5f}\")\n",
        "\n",
        "    def epochVal(self):\n",
        "        self.model.eval()\n",
        "\n",
        "        lossVal = 0\n",
        "\n",
        "        outGT = torch.FloatTensor().to(self.device)\n",
        "        outPRED = torch.FloatTensor().to(self.device)\n",
        "        for i, (inputs, target) in enumerate (tqdm(self.val_dl)):\n",
        "            with torch.no_grad():\n",
        "                target = target.to(self.device)\n",
        "                inputs = inputs.to(self.device)\n",
        "                varTarget = torch.autograd.Variable(target)\n",
        "                bs, n_crops, c, h, w = inputs.size()\n",
        "\n",
        "                varInput = torch.autograd.Variable(inputs.view(-1, c, h, w).to(self.device))\n",
        "\n",
        "                varOutput, losstensor = self.model(varInput, varTarget, n_crops=n_crops, bs=bs)\n",
        "\n",
        "                outPRED = torch.cat((outPRED, varOutput), 0)\n",
        "                outGT = torch.cat((outGT, target), 0)\n",
        "\n",
        "                lossVal+=losstensor.item()\n",
        "                del varOutput, varTarget, varInput, target, inputs\n",
        "        lossVal = lossVal / len(self.val_dl)\n",
        "\n",
        "        aurocIndividual = self.computeAUROC(outGT, outPRED, self.val_dl.dataset.class_ids_loaded)\n",
        "        self.val_losses.append(lossVal)\n",
        "\n",
        "        return lossVal, aurocIndividual\n",
        "\n",
        "    def test(self):\n",
        "        cudnn.benchmark = True\n",
        "        outGT = torch.FloatTensor().cuda()\n",
        "        outPRED = torch.FloatTensor().cuda()\n",
        "\n",
        "        self.model.eval()\n",
        "\n",
        "        for i, (inputs, target) in enumerate(tqdm(self.test_dl)):\n",
        "            with torch.no_grad():\n",
        "                target = target.to(self.device)\n",
        "                outGT = torch.cat((outGT, target), 0)\n",
        "\n",
        "                bs, n_crops, c, h, w = inputs.size()\n",
        "\n",
        "                varInput = torch.autograd.Variable(inputs.view(-1, c, h, w).to(self.device))\n",
        "\n",
        "                out, _ = self.model(varInput, n_crops=n_crops, bs=bs)\n",
        "\n",
        "                outPRED = torch.cat((outPRED, out.data), 0)\n",
        "\n",
        "        aurocIndividual = self.computeAUROC(outGT, outPRED, self.test_dl.dataset.class_ids_loaded)\n",
        "\n",
        "        return aurocIndividual\n",
        "\n",
        "    def computeAUROC(self, dataGT, dataPRED, class_ids):\n",
        "        outAUROC = []\n",
        "        datanpGT = dataGT.cpu().numpy()\n",
        "        datanpPRED = dataPRED.cpu().numpy()\n",
        "\n",
        "        for i in class_ids:\n",
        "            outAUROC.append(roc_auc_score(datanpGT[:, i], datanpPRED[:, i]))\n",
        "        return outAUROC\n",
        "\n",
        "    def write_results(self, aurocIndividual, class_ids, prefix='val', mode='a'):\n",
        "        with open(f\"{self.args.save_dir}/results.txt\", mode) as results_file:\n",
        "            aurocMean = aurocIndividual.mean()\n",
        "\n",
        "            results_file.write(f'{prefix} AUROC mean {aurocMean:0.4f}\\n')\n",
        "            for i, class_id in enumerate(class_ids):\n",
        "                results_file.write(f'{self.val_dl.dataset.CLASSES[class_id]} {aurocIndividual[i]:0.4f}\\n')\n",
        "\n",
        "    def print_auroc(self, aurocIndividual, class_ids, prefix='val'):\n",
        "        aurocMean = aurocIndividual.mean()\n",
        "\n",
        "        print (f'{prefix} AUROC mean {aurocMean:0.4f}')\n",
        "\n",
        "        for i, class_id in enumerate(class_ids):\n",
        "            print (f'{self.val_dl.dataset.CLASSES[class_id]} {aurocIndividual[i]:0.4f}')"
      ],
      "metadata": {
        "id": "W5pimYcnlbgy"
      },
      "execution_count": 33,
      "outputs": []
    },
    {
      "cell_type": "markdown",
      "source": [
        "### argParser"
      ],
      "metadata": {
        "id": "8IbBrmujsoC0"
      }
    },
    {
      "cell_type": "code",
      "source": [
        "# Credit: https://github.com/nyuad-cai/CXR-ML-GZSL/blob/master/arguments.py\n",
        "\n",
        "argParser = argparse.ArgumentParser(description='arguments')\n",
        "\n",
        "argParser.add_argument('--data-root', default=DATA_PATH, type=str, help='the path to dataset')\n",
        "argParser.add_argument('--save-dir', default=SAVE_PATH, type=str, help='the path to save the checkpoints')\n",
        "argParser.add_argument('--train-file', default=f'{SPLITS_PATH}/train.txt', type=str, help='the path to train list ')\n",
        "argParser.add_argument('--val-file', default=f'{SPLITS_PATH}/val.txt', type=str, help='the path to val list ')\n",
        "argParser.add_argument('--test-file', default=f'{SPLITS_PATH}/test.txt', type=str, help='the path to test list')\n",
        "\n",
        "argParser.add_argument('--pretrained', dest='pretrained', action='store_true',  help='load imagenet pretrained model')\n",
        "argParser.add_argument('--bce-only', dest='bce_only', help='train with only binary cross entropy loss', action='store_true')\n",
        "\n",
        "argParser.add_argument('--num-classes', default=14, type=int, help='number of classes')\n",
        "argParser.add_argument('--batch-size', default=16, type=int, help='training batch size')\n",
        "argParser.add_argument('--epochs', default=40, type=int, help='number of epochs to train')\n",
        "argParser.add_argument('--vision-backbone', default='densenet121', type=str, help='[densenet121, densenet169, densenet201]')\n",
        "argParser.add_argument('--resume-from', default=None, type=str, help='path to checkpoint to resume the training from')\n",
        "argParser.add_argument('--load-from', default=None, type=str, help='path to checkpoint to load the weights from')\n",
        "\n",
        "argParser.add_argument('--resize', default=256, type=int, help='number of epochs to train')\n",
        "argParser.add_argument('--crop', default=224, type=int, help='number of epochs to train')\n",
        "argParser.add_argument('--lr', default=0.0001, type=float, help='learning rate')\n",
        "argParser.add_argument('--steps', default='20, 40, 60, 80', type=str, help='learning rate decay steps comma separated')\n",
        "\n",
        "argParser.add_argument('--beta-map', default=0.1, type=float, help='learning rate')\n",
        "argParser.add_argument('--beta-con', default=0.1, type=float, help='learning rate')\n",
        "argParser.add_argument('--beta-rank', default=1, type=float, help='learning rate')\n",
        "argParser.add_argument('--neg-penalty', default=0.03, type=float, help='learning rate')\n",
        "\n",
        "argParser.add_argument('--wo-con', dest='wo_con', help='train with out semantic consistency regularizer loss', action='store_true')\n",
        "argParser.add_argument('--wo-map', dest='wo_map', help='train with out alignement loss', action='store_true')\n",
        "\n",
        "argParser.add_argument('--textual-embeddings', default=BIOBERT_PATH, type=str, help='the path to labels embeddings')"
      ],
      "metadata": {
        "colab": {
          "base_uri": "https://localhost:8080/"
        },
        "id": "XHONAIP5soMa",
        "outputId": "7a382181-ee0f-4527-9496-c247b51c143c"
      },
      "execution_count": 34,
      "outputs": [
        {
          "output_type": "execute_result",
          "data": {
            "text/plain": [
              "_StoreAction(option_strings=['--textual-embeddings'], dest='textual_embeddings', nargs=None, const=None, default='CXR-ML-GZSL/embeddings/nih_chest_xray_biobert.npy', type=<class 'str'>, choices=None, required=False, help='the path to labels embeddings', metavar=None)"
            ]
          },
          "metadata": {},
          "execution_count": 34
        }
      ]
    },
    {
      "cell_type": "markdown",
      "source": [
        "## Training and Testing\n",
        "\n"
      ],
      "metadata": {
        "id": "XrdwFdHCo4qd"
      }
    },
    {
      "cell_type": "code",
      "source": [
        "# Credit: https://github.com/nyuad-cai/CXR-ML-GZSL/blob/master/images/results2.png\n",
        "\n",
        "results = {\n",
        "    \"Original Paper\": {\n",
        "        \"Seen Mean\":          0.79,\n",
        "        \"Atelectasis\":        0.76,\n",
        "        \"Cardiomegaly\":       0.90,\n",
        "        \"Effusion\":           0.83,\n",
        "        \"Infiltration\":       0.70,\n",
        "        \"Mass\":               0.80,\n",
        "        \"Nodule\":             0.75,\n",
        "        \"Pneumothorax\":       0.83,\n",
        "        \"Consolidation\":      0.69,\n",
        "        \"Pleural Thickening\": 0.72,\n",
        "        \"Hernia\":             0.90,\n",
        "        \"Unseen Mean\":        0.66,\n",
        "        \"Pneumonia\":          0.62,\n",
        "        \"Edema\":              0.67,\n",
        "        \"Emphysema\":          0.74,\n",
        "        \"Fibrosis\":           0.60\n",
        "    }\n",
        "}"
      ],
      "metadata": {
        "id": "uWwjCH-F55Q2"
      },
      "execution_count": 35,
      "outputs": []
    },
    {
      "cell_type": "markdown",
      "source": [
        "### Test with Pretrained Weights"
      ],
      "metadata": {
        "id": "gYsubhrzt-Sq"
      }
    },
    {
      "cell_type": "code",
      "source": [
        "# Credit: https://github.com/nyuad-cai/CXR-ML-GZSL/blob/master/scripts/test_densenet121.sh\n",
        "# Credit: https://github.com/nyuad-cai/CXR-ML-GZSL/blob/master/test.py\n",
        "\n",
        "args = argParser.parse_args(['--load-from', WEIGHTS_PATH])\n",
        "\n",
        "trainer = ChexnetTrainer(args)\n",
        "\n",
        "test_ind_auroc = trainer.test()\n",
        "test_ind_auroc = np.array(test_ind_auroc)\n",
        "\n",
        "results[\"Reproduced (pretrained)\"] = {\n",
        "        \"Seen Mean\":          test_ind_auroc[trainer.test_dl.dataset.seen_class_ids].mean(),\n",
        "        \"Atelectasis\":        test_ind_auroc[trainer.test_dl.dataset._class_ids[\"Atelectasis\"]],\n",
        "        \"Cardiomegaly\":       test_ind_auroc[trainer.test_dl.dataset._class_ids[\"Cardiomegaly\"]],\n",
        "        \"Effusion\":           test_ind_auroc[trainer.test_dl.dataset._class_ids[\"Effusion\"]],\n",
        "        \"Infiltration\":       test_ind_auroc[trainer.test_dl.dataset._class_ids[\"Infiltration\"]],\n",
        "        \"Mass\":               test_ind_auroc[trainer.test_dl.dataset._class_ids[\"Mass\"]],\n",
        "        \"Nodule\":             test_ind_auroc[trainer.test_dl.dataset._class_ids[\"Nodule\"]],\n",
        "        \"Pneumothorax\":       test_ind_auroc[trainer.test_dl.dataset._class_ids[\"Pneumothorax\"]],\n",
        "        \"Consolidation\":      test_ind_auroc[trainer.test_dl.dataset._class_ids[\"Consolidation\"]],\n",
        "        \"Pleural Thickening\": test_ind_auroc[trainer.test_dl.dataset._class_ids[\"Pleural_Thickening\"]],\n",
        "        \"Hernia\":             test_ind_auroc[trainer.test_dl.dataset._class_ids[\"Hernia\"]],\n",
        "        \"Unseen Mean\":        test_ind_auroc[trainer.test_dl.dataset.unseen_class_ids].mean(),\n",
        "        \"Pneumonia\":          test_ind_auroc[trainer.test_dl.dataset._class_ids[\"Pneumonia\"]],\n",
        "        \"Edema\":              test_ind_auroc[trainer.test_dl.dataset._class_ids[\"Edema\"]],\n",
        "        \"Emphysema\":          test_ind_auroc[trainer.test_dl.dataset._class_ids[\"Emphysema\"]],\n",
        "        \"Fibrosis\":           test_ind_auroc[trainer.test_dl.dataset._class_ids[\"Fibrosis\"]]\n",
        "}"
      ],
      "metadata": {
        "colab": {
          "base_uri": "https://localhost:8080/"
        },
        "id": "pWw5DgZco40u",
        "outputId": "20cc13bf-52cb-4ae5-c9d2-a2ac4e7cba40"
      },
      "execution_count": 36,
      "outputs": [
        {
          "output_type": "stream",
          "name": "stderr",
          "text": [
            "/usr/local/lib/python3.11/dist-packages/torchvision/models/_utils.py:208: UserWarning: The parameter 'pretrained' is deprecated since 0.13 and may be removed in the future, please use 'weights' instead.\n",
            "  warnings.warn(\n",
            "/usr/local/lib/python3.11/dist-packages/torchvision/models/_utils.py:223: UserWarning: Arguments other than a weight enum or `None` for 'weights' are deprecated since 0.13 and may be removed in the future. The current behavior is equivalent to passing `weights=None`.\n",
            "  warnings.warn(msg)\n",
            "/usr/local/lib/python3.11/dist-packages/torch/nn/_reduction.py:51: UserWarning: size_average and reduce args will be deprecated, please use reduction='mean' instead.\n",
            "  warnings.warn(warning.format(ret))\n"
          ]
        },
        {
          "output_type": "stream",
          "name": "stdout",
          "text": [
            "loaded checkpoint from CXR-ML-GZSL/checkpoints/best_auroc_checkpoint.pth.tar\n",
            "data partition path: CXR-ML-GZSL/dataset_splits/train.txt\n",
            "Number of images: 30758\n",
            "Number of max labels per image: 7\n",
            "Number of classes: 10\n",
            "data partition path: CXR-ML-GZSL/dataset_splits/val.txt\n",
            "Number of images: 4474\n",
            "Number of max labels per image: 6\n",
            "Number of classes: 10\n",
            "data partition path: CXR-ML-GZSL/dataset_splits/test.txt\n",
            "Number of images: 10510\n",
            "Number of max labels per image: 7\n",
            "Number of classes: 14\n",
            "['Atelectasis', 'Cardiomegaly', 'Effusion', 'Infiltration', 'Mass', 'Nodule', 'Pneumonia', 'Pneumothorax', 'Consolidation', 'Edema', 'Emphysema', 'Fibrosis', 'Pleural_Thickening', 'Hernia']\n"
          ]
        },
        {
          "output_type": "stream",
          "name": "stderr",
          "text": [
            "100%|██████████| 219/219 [01:04<00:00,  3.38it/s]\n"
          ]
        }
      ]
    },
    {
      "cell_type": "markdown",
      "source": [
        "### Train\n",
        "\n",
        "As best I can tell, `--beta-map` maps to $\\gamma_1$ in the paper, `--beta-con` is $\\gamma_2$, and `--neg-penalty` is $\\delta$. I had to update the default values for `--epochs` and `--neg-penalty` to match the values listed in the paper. I also had to update the `ReduceLROnPlateau` `factor` and `patience` parameters to match the paper."
      ],
      "metadata": {
        "id": "yjkIuWMV5dXm"
      }
    },
    {
      "cell_type": "code",
      "source": [
        "# Credit: https://github.com/nyuad-cai/CXR-ML-GZSL/blob/master/scripts/train_densenet121.sh\n",
        "# Credit: https://github.com/nyuad-cai/CXR-ML-GZSL/blob/master/train.py\n",
        "\n",
        "args = argParser.parse_args(['--epochs', '1',\n",
        "                             '--neg-penalty', '0.5'])\n",
        "\n",
        "seed = 1002\n",
        "torch.manual_seed(seed)\n",
        "np.random.seed(seed)\n",
        "\n",
        "start = time.time()\n",
        "\n",
        "trainer = ChexnetTrainer(args)\n",
        "trainer()\n",
        "\n",
        "elapsed = time.time() - start\n",
        "\n",
        "hours, rem = divmod(elapsed, 3600)\n",
        "minutes, seconds = divmod(rem, 60)\n",
        "\n",
        "print(\"\")\n",
        "print(f\"Runtime: {int(hours):02}:{int(minutes):02}:{int(seconds):02}\")"
      ],
      "metadata": {
        "colab": {
          "base_uri": "https://localhost:8080/"
        },
        "id": "KqUqQfFW5dg-",
        "outputId": "68f2495c-edb2-48d4-a2f7-c50c3485aa44",
        "collapsed": true
      },
      "execution_count": 37,
      "outputs": [
        {
          "output_type": "stream",
          "name": "stderr",
          "text": [
            "/usr/local/lib/python3.11/dist-packages/torchvision/models/_utils.py:208: UserWarning: The parameter 'pretrained' is deprecated since 0.13 and may be removed in the future, please use 'weights' instead.\n",
            "  warnings.warn(\n",
            "/usr/local/lib/python3.11/dist-packages/torchvision/models/_utils.py:223: UserWarning: Arguments other than a weight enum or `None` for 'weights' are deprecated since 0.13 and may be removed in the future. The current behavior is equivalent to passing `weights=None`.\n",
            "  warnings.warn(msg)\n",
            "/usr/local/lib/python3.11/dist-packages/torch/nn/_reduction.py:51: UserWarning: size_average and reduce args will be deprecated, please use reduction='mean' instead.\n",
            "  warnings.warn(warning.format(ret))\n"
          ]
        },
        {
          "output_type": "stream",
          "name": "stdout",
          "text": [
            "data partition path: CXR-ML-GZSL/dataset_splits/train.txt\n",
            "Number of images: 30758\n",
            "Number of max labels per image: 7\n",
            "Number of classes: 10\n",
            "data partition path: CXR-ML-GZSL/dataset_splits/val.txt\n",
            "Number of images: 4474\n",
            "Number of max labels per image: 6\n",
            "Number of classes: 10\n",
            "data partition path: CXR-ML-GZSL/dataset_splits/test.txt\n",
            "Number of images: 10510\n",
            "Number of max labels per image: 7\n",
            "Number of classes: 14\n",
            "['Atelectasis', 'Cardiomegaly', 'Effusion', 'Infiltration', 'Mass', 'Nodule', 'Pneumonia', 'Pneumothorax', 'Consolidation', 'Edema', 'Emphysema', 'Fibrosis', 'Pleural_Thickening', 'Hernia']\n",
            " epoch [0001 / 0001] eta: 0 Days 0:3:6         [0009/1923] lr: \t1.0000E-04 loss: \t5.20655\n",
            " epoch [0001 / 0001] eta: 0 Days 0:3:12        [0019/1923] lr: \t1.0000E-04 loss: \t4.06994\n",
            " epoch [0001 / 0001] eta: 0 Days 0:3:6         [0029/1923] lr: \t1.0000E-04 loss: \t3.73776\n",
            " epoch [0001 / 0001] eta: 0 Days 0:3:6         [0039/1923] lr: \t1.0000E-04 loss: \t3.69859\n",
            " epoch [0001 / 0001] eta: 0 Days 0:3:0         [0049/1923] lr: \t1.0000E-04 loss: \t3.64761\n",
            " epoch [0001 / 0001] eta: 0 Days 0:3:35        [0059/1923] lr: \t1.0000E-04 loss: \t3.64478\n",
            " epoch [0001 / 0001] eta: 0 Days 0:3:8         [0069/1923] lr: \t1.0000E-04 loss: \t3.58162\n",
            " epoch [0001 / 0001] eta: 0 Days 0:3:7         [0079/1923] lr: \t1.0000E-04 loss: \t3.54275\n",
            " epoch [0001 / 0001] eta: 0 Days 0:2:58        [0089/1923] lr: \t1.0000E-04 loss: \t3.53852\n",
            " epoch [0001 / 0001] eta: 0 Days 0:2:56        [0099/1923] lr: \t1.0000E-04 loss: \t3.55832\n",
            " epoch [0001 / 0001] eta: 0 Days 0:3:29        [0109/1923] lr: \t1.0000E-04 loss: \t3.55673\n",
            " epoch [0001 / 0001] eta: 0 Days 0:2:58        [0119/1923] lr: \t1.0000E-04 loss: \t3.52374\n",
            " epoch [0001 / 0001] eta: 0 Days 0:2:56        [0129/1923] lr: \t1.0000E-04 loss: \t3.54859\n",
            " epoch [0001 / 0001] eta: 0 Days 0:2:53        [0139/1923] lr: \t1.0000E-04 loss: \t3.52826\n",
            " epoch [0001 / 0001] eta: 0 Days 0:2:50        [0149/1923] lr: \t1.0000E-04 loss: \t3.51594\n",
            " epoch [0001 / 0001] eta: 0 Days 0:3:28        [0159/1923] lr: \t1.0000E-04 loss: \t3.49491\n",
            " epoch [0001 / 0001] eta: 0 Days 0:2:47        [0169/1923] lr: \t1.0000E-04 loss: \t3.49413\n",
            " epoch [0001 / 0001] eta: 0 Days 0:2:53        [0179/1923] lr: \t1.0000E-04 loss: \t3.48617\n",
            " epoch [0001 / 0001] eta: 0 Days 0:2:46        [0189/1923] lr: \t1.0000E-04 loss: \t3.47829\n",
            " epoch [0001 / 0001] eta: 0 Days 0:3:1         [0199/1923] lr: \t1.0000E-04 loss: \t3.47344\n",
            " epoch [0001 / 0001] eta: 0 Days 0:2:53        [0209/1923] lr: \t1.0000E-04 loss: \t3.48133\n",
            " epoch [0001 / 0001] eta: 0 Days 0:3:8         [0219/1923] lr: \t1.0000E-04 loss: \t3.48628\n",
            " epoch [0001 / 0001] eta: 0 Days 0:2:45        [0229/1923] lr: \t1.0000E-04 loss: \t3.47094\n",
            " epoch [0001 / 0001] eta: 0 Days 0:2:45        [0239/1923] lr: \t1.0000E-04 loss: \t3.46963\n",
            " epoch [0001 / 0001] eta: 0 Days 0:2:46        [0249/1923] lr: \t1.0000E-04 loss: \t3.45909\n",
            " epoch [0001 / 0001] eta: 0 Days 0:2:42        [0259/1923] lr: \t1.0000E-04 loss: \t3.45867\n",
            " epoch [0001 / 0001] eta: 0 Days 0:3:2         [0269/1923] lr: \t1.0000E-04 loss: \t3.49329\n",
            " epoch [0001 / 0001] eta: 0 Days 0:2:35        [0279/1923] lr: \t1.0000E-04 loss: \t3.49497\n",
            " epoch [0001 / 0001] eta: 0 Days 0:2:43        [0289/1923] lr: \t1.0000E-04 loss: \t3.50214\n",
            " epoch [0001 / 0001] eta: 0 Days 0:3:24        [0299/1923] lr: \t1.0000E-04 loss: \t3.50013\n",
            " epoch [0001 / 0001] eta: 0 Days 0:2:42        [0309/1923] lr: \t1.0000E-04 loss: \t3.50136\n",
            " epoch [0001 / 0001] eta: 0 Days 0:2:58        [0319/1923] lr: \t1.0000E-04 loss: \t3.49409\n",
            " epoch [0001 / 0001] eta: 0 Days 0:3:21        [0329/1923] lr: \t1.0000E-04 loss: \t3.48963\n",
            " epoch [0001 / 0001] eta: 0 Days 0:3:13        [0339/1923] lr: \t1.0000E-04 loss: \t3.48889\n",
            " epoch [0001 / 0001] eta: 0 Days 0:3:4         [0349/1923] lr: \t1.0000E-04 loss: \t3.48588\n",
            " epoch [0001 / 0001] eta: 0 Days 0:3:32        [0359/1923] lr: \t1.0000E-04 loss: \t3.46913\n",
            " epoch [0001 / 0001] eta: 0 Days 0:2:40        [0369/1923] lr: \t1.0000E-04 loss: \t3.46630\n",
            " epoch [0001 / 0001] eta: 0 Days 0:2:36        [0379/1923] lr: \t1.0000E-04 loss: \t3.46905\n",
            " epoch [0001 / 0001] eta: 0 Days 0:2:33        [0389/1923] lr: \t1.0000E-04 loss: \t3.45994\n",
            " epoch [0001 / 0001] eta: 0 Days 0:2:27        [0399/1923] lr: \t1.0000E-04 loss: \t3.44913\n",
            " epoch [0001 / 0001] eta: 0 Days 0:2:55        [0409/1923] lr: \t1.0000E-04 loss: \t3.44492\n",
            " epoch [0001 / 0001] eta: 0 Days 0:2:36        [0419/1923] lr: \t1.0000E-04 loss: \t3.44906\n",
            " epoch [0001 / 0001] eta: 0 Days 0:2:23        [0429/1923] lr: \t1.0000E-04 loss: \t3.44302\n",
            " epoch [0001 / 0001] eta: 0 Days 0:2:24        [0439/1923] lr: \t1.0000E-04 loss: \t3.44531\n",
            " epoch [0001 / 0001] eta: 0 Days 0:2:19        [0449/1923] lr: \t1.0000E-04 loss: \t3.44140\n",
            " epoch [0001 / 0001] eta: 0 Days 0:2:21        [0459/1923] lr: \t1.0000E-04 loss: \t3.43750\n",
            " epoch [0001 / 0001] eta: 0 Days 0:2:22        [0469/1923] lr: \t1.0000E-04 loss: \t3.43700\n",
            " epoch [0001 / 0001] eta: 0 Days 0:2:21        [0479/1923] lr: \t1.0000E-04 loss: \t3.43221\n",
            " epoch [0001 / 0001] eta: 0 Days 0:2:29        [0489/1923] lr: \t1.0000E-04 loss: \t3.42832\n",
            " epoch [0001 / 0001] eta: 0 Days 0:2:21        [0499/1923] lr: \t1.0000E-04 loss: \t3.42382\n",
            " epoch [0001 / 0001] eta: 0 Days 0:2:21        [0509/1923] lr: \t1.0000E-04 loss: \t3.42390\n",
            " epoch [0001 / 0001] eta: 0 Days 0:2:15        [0519/1923] lr: \t1.0000E-04 loss: \t3.43216\n",
            " epoch [0001 / 0001] eta: 0 Days 0:2:18        [0529/1923] lr: \t1.0000E-04 loss: \t3.43371\n",
            " epoch [0001 / 0001] eta: 0 Days 0:2:10        [0539/1923] lr: \t1.0000E-04 loss: \t3.43421\n",
            " epoch [0001 / 0001] eta: 0 Days 0:2:12        [0549/1923] lr: \t1.0000E-04 loss: \t3.42923\n",
            " epoch [0001 / 0001] eta: 0 Days 0:2:19        [0559/1923] lr: \t1.0000E-04 loss: \t3.42469\n",
            " epoch [0001 / 0001] eta: 0 Days 0:2:10        [0569/1923] lr: \t1.0000E-04 loss: \t3.42338\n",
            " epoch [0001 / 0001] eta: 0 Days 0:2:13        [0579/1923] lr: \t1.0000E-04 loss: \t3.42520\n",
            " epoch [0001 / 0001] eta: 0 Days 0:2:10        [0589/1923] lr: \t1.0000E-04 loss: \t3.42695\n",
            " epoch [0001 / 0001] eta: 0 Days 0:2:10        [0599/1923] lr: \t1.0000E-04 loss: \t3.43050\n",
            " epoch [0001 / 0001] eta: 0 Days 0:2:7         [0609/1923] lr: \t1.0000E-04 loss: \t3.43243\n",
            " epoch [0001 / 0001] eta: 0 Days 0:2:32        [0619/1923] lr: \t1.0000E-04 loss: \t3.43666\n",
            " epoch [0001 / 0001] eta: 0 Days 0:2:6         [0629/1923] lr: \t1.0000E-04 loss: \t3.44042\n",
            " epoch [0001 / 0001] eta: 0 Days 0:2:13        [0639/1923] lr: \t1.0000E-04 loss: \t3.44068\n",
            " epoch [0001 / 0001] eta: 0 Days 0:2:13        [0649/1923] lr: \t1.0000E-04 loss: \t3.44543\n",
            " epoch [0001 / 0001] eta: 0 Days 0:2:3         [0659/1923] lr: \t1.0000E-04 loss: \t3.44225\n",
            " epoch [0001 / 0001] eta: 0 Days 0:2:2         [0669/1923] lr: \t1.0000E-04 loss: \t3.43831\n",
            " epoch [0001 / 0001] eta: 0 Days 0:1:59        [0679/1923] lr: \t1.0000E-04 loss: \t3.44034\n",
            " epoch [0001 / 0001] eta: 0 Days 0:1:59        [0689/1923] lr: \t1.0000E-04 loss: \t3.44232\n",
            " epoch [0001 / 0001] eta: 0 Days 0:1:57        [0699/1923] lr: \t1.0000E-04 loss: \t3.44190\n",
            " epoch [0001 / 0001] eta: 0 Days 0:2:1         [0709/1923] lr: \t1.0000E-04 loss: \t3.43799\n",
            " epoch [0001 / 0001] eta: 0 Days 0:2:0         [0719/1923] lr: \t1.0000E-04 loss: \t3.43875\n",
            " epoch [0001 / 0001] eta: 0 Days 0:1:55        [0729/1923] lr: \t1.0000E-04 loss: \t3.44075\n",
            " epoch [0001 / 0001] eta: 0 Days 0:1:57        [0739/1923] lr: \t1.0000E-04 loss: \t3.43734\n",
            " epoch [0001 / 0001] eta: 0 Days 0:1:54        [0749/1923] lr: \t1.0000E-04 loss: \t3.43629\n",
            " epoch [0001 / 0001] eta: 0 Days 0:1:50        [0759/1923] lr: \t1.0000E-04 loss: \t3.44301\n",
            " epoch [0001 / 0001] eta: 0 Days 0:2:5         [0769/1923] lr: \t1.0000E-04 loss: \t3.44352\n",
            " epoch [0001 / 0001] eta: 0 Days 0:2:9         [0779/1923] lr: \t1.0000E-04 loss: \t3.44510\n",
            " epoch [0001 / 0001] eta: 0 Days 0:1:50        [0789/1923] lr: \t1.0000E-04 loss: \t3.44558\n",
            " epoch [0001 / 0001] eta: 0 Days 0:1:49        [0799/1923] lr: \t1.0000E-04 loss: \t3.44507\n",
            " epoch [0001 / 0001] eta: 0 Days 0:1:48        [0809/1923] lr: \t1.0000E-04 loss: \t3.44410\n",
            " epoch [0001 / 0001] eta: 0 Days 0:1:49        [0819/1923] lr: \t1.0000E-04 loss: \t3.43931\n",
            " epoch [0001 / 0001] eta: 0 Days 0:1:51        [0829/1923] lr: \t1.0000E-04 loss: \t3.44039\n",
            " epoch [0001 / 0001] eta: 0 Days 0:1:47        [0839/1923] lr: \t1.0000E-04 loss: \t3.43810\n",
            " epoch [0001 / 0001] eta: 0 Days 0:1:45        [0849/1923] lr: \t1.0000E-04 loss: \t3.43680\n",
            " epoch [0001 / 0001] eta: 0 Days 0:1:46        [0859/1923] lr: \t1.0000E-04 loss: \t3.43877\n",
            " epoch [0001 / 0001] eta: 0 Days 0:1:44        [0869/1923] lr: \t1.0000E-04 loss: \t3.43836\n",
            " epoch [0001 / 0001] eta: 0 Days 0:1:46        [0879/1923] lr: \t1.0000E-04 loss: \t3.43988\n",
            " epoch [0001 / 0001] eta: 0 Days 0:1:58        [0889/1923] lr: \t1.0000E-04 loss: \t3.43852\n",
            " epoch [0001 / 0001] eta: 0 Days 0:1:38        [0899/1923] lr: \t1.0000E-04 loss: \t3.43837\n",
            " epoch [0001 / 0001] eta: 0 Days 0:1:37        [0909/1923] lr: \t1.0000E-04 loss: \t3.43668\n",
            " epoch [0001 / 0001] eta: 0 Days 0:1:40        [0919/1923] lr: \t1.0000E-04 loss: \t3.43627\n",
            " epoch [0001 / 0001] eta: 0 Days 0:1:35        [0929/1923] lr: \t1.0000E-04 loss: \t3.43253\n",
            " epoch [0001 / 0001] eta: 0 Days 0:1:41        [0939/1923] lr: \t1.0000E-04 loss: \t3.42978\n",
            " epoch [0001 / 0001] eta: 0 Days 0:1:36        [0949/1923] lr: \t1.0000E-04 loss: \t3.42530\n",
            " epoch [0001 / 0001] eta: 0 Days 0:1:34        [0959/1923] lr: \t1.0000E-04 loss: \t3.42204\n",
            " epoch [0001 / 0001] eta: 0 Days 0:1:34        [0969/1923] lr: \t1.0000E-04 loss: \t3.42134\n",
            " epoch [0001 / 0001] eta: 0 Days 0:1:35        [0979/1923] lr: \t1.0000E-04 loss: \t3.42003\n",
            " epoch [0001 / 0001] eta: 0 Days 0:1:32        [0989/1923] lr: \t1.0000E-04 loss: \t3.42125\n",
            " epoch [0001 / 0001] eta: 0 Days 0:1:32        [0999/1923] lr: \t1.0000E-04 loss: \t3.42397\n",
            " epoch [0001 / 0001] eta: 0 Days 0:1:40        [1009/1923] lr: \t1.0000E-04 loss: \t3.42597\n",
            " epoch [0001 / 0001] eta: 0 Days 0:1:29        [1019/1923] lr: \t1.0000E-04 loss: \t3.42805\n",
            " epoch [0001 / 0001] eta: 0 Days 0:1:31        [1029/1923] lr: \t1.0000E-04 loss: \t3.42956\n",
            " epoch [0001 / 0001] eta: 0 Days 0:1:36        [1039/1923] lr: \t1.0000E-04 loss: \t3.42969\n",
            " epoch [0001 / 0001] eta: 0 Days 0:1:26        [1049/1923] lr: \t1.0000E-04 loss: \t3.43278\n",
            " epoch [0001 / 0001] eta: 0 Days 0:1:23        [1059/1923] lr: \t1.0000E-04 loss: \t3.43478\n",
            " epoch [0001 / 0001] eta: 0 Days 0:1:21        [1069/1923] lr: \t1.0000E-04 loss: \t3.43276\n",
            " epoch [0001 / 0001] eta: 0 Days 0:1:22        [1079/1923] lr: \t1.0000E-04 loss: \t3.43105\n",
            " epoch [0001 / 0001] eta: 0 Days 0:1:22        [1089/1923] lr: \t1.0000E-04 loss: \t3.43271\n",
            " epoch [0001 / 0001] eta: 0 Days 0:1:21        [1099/1923] lr: \t1.0000E-04 loss: \t3.43262\n",
            " epoch [0001 / 0001] eta: 0 Days 0:1:20        [1109/1923] lr: \t1.0000E-04 loss: \t3.43162\n",
            " epoch [0001 / 0001] eta: 0 Days 0:1:19        [1119/1923] lr: \t1.0000E-04 loss: \t3.43367\n",
            " epoch [0001 / 0001] eta: 0 Days 0:1:17        [1129/1923] lr: \t1.0000E-04 loss: \t3.43188\n",
            " epoch [0001 / 0001] eta: 0 Days 0:1:15        [1139/1923] lr: \t1.0000E-04 loss: \t3.42832\n",
            " epoch [0001 / 0001] eta: 0 Days 0:1:16        [1149/1923] lr: \t1.0000E-04 loss: \t3.42686\n",
            " epoch [0001 / 0001] eta: 0 Days 0:1:16        [1159/1923] lr: \t1.0000E-04 loss: \t3.42929\n",
            " epoch [0001 / 0001] eta: 0 Days 0:1:13        [1169/1923] lr: \t1.0000E-04 loss: \t3.43275\n",
            " epoch [0001 / 0001] eta: 0 Days 0:1:12        [1179/1923] lr: \t1.0000E-04 loss: \t3.43201\n",
            " epoch [0001 / 0001] eta: 0 Days 0:1:10        [1189/1923] lr: \t1.0000E-04 loss: \t3.43424\n",
            " epoch [0001 / 0001] eta: 0 Days 0:1:11        [1199/1923] lr: \t1.0000E-04 loss: \t3.43848\n",
            " epoch [0001 / 0001] eta: 0 Days 0:1:10        [1209/1923] lr: \t1.0000E-04 loss: \t3.43450\n",
            " epoch [0001 / 0001] eta: 0 Days 0:1:8         [1219/1923] lr: \t1.0000E-04 loss: \t3.43148\n",
            " epoch [0001 / 0001] eta: 0 Days 0:1:6         [1229/1923] lr: \t1.0000E-04 loss: \t3.43159\n",
            " epoch [0001 / 0001] eta: 0 Days 0:1:8         [1239/1923] lr: \t1.0000E-04 loss: \t3.43023\n",
            " epoch [0001 / 0001] eta: 0 Days 0:1:12        [1249/1923] lr: \t1.0000E-04 loss: \t3.42692\n",
            " epoch [0001 / 0001] eta: 0 Days 0:1:3         [1259/1923] lr: \t1.0000E-04 loss: \t3.42806\n",
            " epoch [0001 / 0001] eta: 0 Days 0:1:3         [1269/1923] lr: \t1.0000E-04 loss: \t3.43019\n",
            " epoch [0001 / 0001] eta: 0 Days 0:1:2         [1279/1923] lr: \t1.0000E-04 loss: \t3.42897\n",
            " epoch [0001 / 0001] eta: 0 Days 0:1:1         [1289/1923] lr: \t1.0000E-04 loss: \t3.42627\n",
            " epoch [0001 / 0001] eta: 0 Days 0:1:1         [1299/1923] lr: \t1.0000E-04 loss: \t3.42317\n",
            " epoch [0001 / 0001] eta: 0 Days 0:1:0         [1309/1923] lr: \t1.0000E-04 loss: \t3.42104\n",
            " epoch [0001 / 0001] eta: 0 Days 0:0:59        [1319/1923] lr: \t1.0000E-04 loss: \t3.41913\n",
            " epoch [0001 / 0001] eta: 0 Days 0:0:56        [1329/1923] lr: \t1.0000E-04 loss: \t3.42045\n",
            " epoch [0001 / 0001] eta: 0 Days 0:0:58        [1339/1923] lr: \t1.0000E-04 loss: \t3.41934\n",
            " epoch [0001 / 0001] eta: 0 Days 0:0:56        [1349/1923] lr: \t1.0000E-04 loss: \t3.41910\n",
            " epoch [0001 / 0001] eta: 0 Days 0:0:59        [1359/1923] lr: \t1.0000E-04 loss: \t3.41685\n",
            " epoch [0001 / 0001] eta: 0 Days 0:0:55        [1369/1923] lr: \t1.0000E-04 loss: \t3.41600\n",
            " epoch [0001 / 0001] eta: 0 Days 0:0:52        [1379/1923] lr: \t1.0000E-04 loss: \t3.41372\n",
            " epoch [0001 / 0001] eta: 0 Days 0:0:52        [1389/1923] lr: \t1.0000E-04 loss: \t3.41381\n",
            " epoch [0001 / 0001] eta: 0 Days 0:0:50        [1399/1923] lr: \t1.0000E-04 loss: \t3.41187\n",
            " epoch [0001 / 0001] eta: 0 Days 0:1:1         [1409/1923] lr: \t1.0000E-04 loss: \t3.41271\n",
            " epoch [0001 / 0001] eta: 0 Days 0:0:49        [1419/1923] lr: \t1.0000E-04 loss: \t3.41175\n",
            " epoch [0001 / 0001] eta: 0 Days 0:0:49        [1429/1923] lr: \t1.0000E-04 loss: \t3.41475\n",
            " epoch [0001 / 0001] eta: 0 Days 0:0:47        [1439/1923] lr: \t1.0000E-04 loss: \t3.41765\n",
            " epoch [0001 / 0001] eta: 0 Days 0:0:48        [1449/1923] lr: \t1.0000E-04 loss: \t3.41762\n",
            " epoch [0001 / 0001] eta: 0 Days 0:0:44        [1459/1923] lr: \t1.0000E-04 loss: \t3.41525\n",
            " epoch [0001 / 0001] eta: 0 Days 0:0:44        [1469/1923] lr: \t1.0000E-04 loss: \t3.41655\n",
            " epoch [0001 / 0001] eta: 0 Days 0:0:53        [1479/1923] lr: \t1.0000E-04 loss: \t3.41670\n",
            " epoch [0001 / 0001] eta: 0 Days 0:0:42        [1489/1923] lr: \t1.0000E-04 loss: \t3.41765\n",
            " epoch [0001 / 0001] eta: 0 Days 0:0:41        [1499/1923] lr: \t1.0000E-04 loss: \t3.41762\n",
            " epoch [0001 / 0001] eta: 0 Days 0:0:40        [1509/1923] lr: \t1.0000E-04 loss: \t3.41842\n",
            " epoch [0001 / 0001] eta: 0 Days 0:0:39        [1519/1923] lr: \t1.0000E-04 loss: \t3.41858\n",
            " epoch [0001 / 0001] eta: 0 Days 0:0:38        [1529/1923] lr: \t1.0000E-04 loss: \t3.42076\n",
            " epoch [0001 / 0001] eta: 0 Days 0:0:37        [1539/1923] lr: \t1.0000E-04 loss: \t3.42173\n",
            " epoch [0001 / 0001] eta: 0 Days 0:0:36        [1549/1923] lr: \t1.0000E-04 loss: \t3.42160\n",
            " epoch [0001 / 0001] eta: 0 Days 0:0:36        [1559/1923] lr: \t1.0000E-04 loss: \t3.42221\n",
            " epoch [0001 / 0001] eta: 0 Days 0:0:34        [1569/1923] lr: \t1.0000E-04 loss: \t3.42390\n",
            " epoch [0001 / 0001] eta: 0 Days 0:0:33        [1579/1923] lr: \t1.0000E-04 loss: \t3.42480\n",
            " epoch [0001 / 0001] eta: 0 Days 0:0:32        [1589/1923] lr: \t1.0000E-04 loss: \t3.42471\n",
            " epoch [0001 / 0001] eta: 0 Days 0:0:31        [1599/1923] lr: \t1.0000E-04 loss: \t3.42534\n",
            " epoch [0001 / 0001] eta: 0 Days 0:0:36        [1609/1923] lr: \t1.0000E-04 loss: \t3.42321\n",
            " epoch [0001 / 0001] eta: 0 Days 0:0:31        [1619/1923] lr: \t1.0000E-04 loss: \t3.42472\n",
            " epoch [0001 / 0001] eta: 0 Days 0:0:29        [1629/1923] lr: \t1.0000E-04 loss: \t3.42574\n",
            " epoch [0001 / 0001] eta: 0 Days 0:0:27        [1639/1923] lr: \t1.0000E-04 loss: \t3.42521\n",
            " epoch [0001 / 0001] eta: 0 Days 0:0:26        [1649/1923] lr: \t1.0000E-04 loss: \t3.42492\n",
            " epoch [0001 / 0001] eta: 0 Days 0:0:28        [1659/1923] lr: \t1.0000E-04 loss: \t3.42365\n",
            " epoch [0001 / 0001] eta: 0 Days 0:0:24        [1669/1923] lr: \t1.0000E-04 loss: \t3.42252\n",
            " epoch [0001 / 0001] eta: 0 Days 0:0:23        [1679/1923] lr: \t1.0000E-04 loss: \t3.42212\n",
            " epoch [0001 / 0001] eta: 0 Days 0:0:23        [1689/1923] lr: \t1.0000E-04 loss: \t3.42339\n",
            " epoch [0001 / 0001] eta: 0 Days 0:0:27        [1699/1923] lr: \t1.0000E-04 loss: \t3.42367\n",
            " epoch [0001 / 0001] eta: 0 Days 0:0:21        [1709/1923] lr: \t1.0000E-04 loss: \t3.42353\n",
            " epoch [0001 / 0001] eta: 0 Days 0:0:20        [1719/1923] lr: \t1.0000E-04 loss: \t3.42321\n",
            " epoch [0001 / 0001] eta: 0 Days 0:0:22        [1729/1923] lr: \t1.0000E-04 loss: \t3.42305\n",
            " epoch [0001 / 0001] eta: 0 Days 0:0:17        [1739/1923] lr: \t1.0000E-04 loss: \t3.42358\n",
            " epoch [0001 / 0001] eta: 0 Days 0:0:17        [1749/1923] lr: \t1.0000E-04 loss: \t3.42330\n",
            " epoch [0001 / 0001] eta: 0 Days 0:0:16        [1759/1923] lr: \t1.0000E-04 loss: \t3.42287\n",
            " epoch [0001 / 0001] eta: 0 Days 0:0:15        [1769/1923] lr: \t1.0000E-04 loss: \t3.42277\n",
            " epoch [0001 / 0001] eta: 0 Days 0:0:13        [1779/1923] lr: \t1.0000E-04 loss: \t3.42194\n",
            " epoch [0001 / 0001] eta: 0 Days 0:0:13        [1789/1923] lr: \t1.0000E-04 loss: \t3.41981\n",
            " epoch [0001 / 0001] eta: 0 Days 0:0:12        [1799/1923] lr: \t1.0000E-04 loss: \t3.42011\n",
            " epoch [0001 / 0001] eta: 0 Days 0:0:11        [1809/1923] lr: \t1.0000E-04 loss: \t3.42285\n",
            " epoch [0001 / 0001] eta: 0 Days 0:0:10        [1819/1923] lr: \t1.0000E-04 loss: \t3.42042\n",
            " epoch [0001 / 0001] eta: 0 Days 0:0:9         [1829/1923] lr: \t1.0000E-04 loss: \t3.41881\n",
            " epoch [0001 / 0001] eta: 0 Days 0:0:10        [1839/1923] lr: \t1.0000E-04 loss: \t3.41647\n",
            " epoch [0001 / 0001] eta: 0 Days 0:0:7         [1849/1923] lr: \t1.0000E-04 loss: \t3.41455\n",
            " epoch [0001 / 0001] eta: 0 Days 0:0:6         [1859/1923] lr: \t1.0000E-04 loss: \t3.41456\n",
            " epoch [0001 / 0001] eta: 0 Days 0:0:5         [1869/1923] lr: \t1.0000E-04 loss: \t3.41231\n",
            " epoch [0001 / 0001] eta: 0 Days 0:0:4         [1879/1923] lr: \t1.0000E-04 loss: \t3.41219\n",
            " epoch [0001 / 0001] eta: 0 Days 0:0:3         [1889/1923] lr: \t1.0000E-04 loss: \t3.41070\n",
            " epoch [0001 / 0001] eta: 0 Days 0:0:2         [1899/1923] lr: \t1.0000E-04 loss: \t3.40919\n",
            " epoch [0001 / 0001] eta: 0 Days 0:0:1         [1909/1923] lr: \t1.0000E-04 loss: \t3.40883\n",
            " epoch [0001 / 0001] eta: 0 Days 0:0:0         [1919/1923] lr: \t1.0000E-04 loss: \t3.40765\n"
          ]
        },
        {
          "output_type": "stream",
          "name": "stderr",
          "text": [
            "100%|██████████| 28/28 [00:44<00:00,  1.60s/it]\n"
          ]
        },
        {
          "output_type": "stream",
          "name": "stdout",
          "text": [
            "saving last_epoch checkpoint\n",
            "saving best_auroc checkpoint\n",
            "saving min_loss checkpoint\n",
            "val AUROC mean 0.5816\n",
            "Atelectasis 0.5833\n",
            "Cardiomegaly 0.5525\n",
            "Effusion 0.5773\n",
            "Infiltration 0.5715\n",
            "Mass 0.5478\n",
            "Nodule 0.5820\n",
            "Pneumothorax 0.5199\n",
            "Consolidation 0.6435\n",
            "Pleural_Thickening 0.5802\n",
            "Hernia 0.6586\n"
          ]
        },
        {
          "output_type": "stream",
          "name": "stderr",
          "text": [
            "100%|██████████| 219/219 [01:03<00:00,  3.42it/s]\n"
          ]
        },
        {
          "output_type": "stream",
          "name": "stdout",
          "text": [
            "\n",
            "test_seen AUROC mean 0.5900\n",
            "Atelectasis 0.5665\n",
            "Effusion 0.5723\n",
            "Infiltration 0.5621\n",
            "Mass 0.5664\n",
            "Nodule 0.6064\n",
            "Pneumothorax 0.5228\n",
            "Consolidation 0.6192\n",
            "Cardiomegaly 0.5538\n",
            "Pleural_Thickening 0.5846\n",
            "Hernia 0.7459\n",
            "\n",
            "test_unseen AUROC mean 0.4784\n",
            "Edema 0.4136\n",
            "Pneumonia 0.4963\n",
            "Emphysema 0.4610\n",
            "Fibrosis 0.5425\n",
            "best epoch 1 best auroc 0.581648587536113 loss 3.377373 auroc at min loss 0.5816\n",
            "\n",
            "Runtime: 00:05:10\n"
          ]
        }
      ]
    },
    {
      "cell_type": "markdown",
      "source": [
        "### Test with Trained Weights"
      ],
      "metadata": {
        "id": "eIWUiyll-eqR"
      }
    },
    {
      "cell_type": "code",
      "source": [
        "# Credit: https://github.com/nyuad-cai/CXR-ML-GZSL/blob/master/train.py\n",
        "\n",
        "checkpoint = torch.load(f'{args.save_dir}/min_loss_checkpoint.pth.tar', weights_only=False)\n",
        "trainer.model.load_state_dict(checkpoint['state_dict'])\n",
        "test_ind_auroc = trainer.test()\n",
        "test_ind_auroc = np.array(test_ind_auroc)\n",
        "\n",
        "results[\"Reproduced (min loss)\"] = {\n",
        "        \"Seen Mean\":          test_ind_auroc[trainer.test_dl.dataset.seen_class_ids].mean(),\n",
        "        \"Atelectasis\":        test_ind_auroc[trainer.test_dl.dataset._class_ids[\"Atelectasis\"]],\n",
        "        \"Cardiomegaly\":       test_ind_auroc[trainer.test_dl.dataset._class_ids[\"Cardiomegaly\"]],\n",
        "        \"Effusion\":           test_ind_auroc[trainer.test_dl.dataset._class_ids[\"Effusion\"]],\n",
        "        \"Infiltration\":       test_ind_auroc[trainer.test_dl.dataset._class_ids[\"Infiltration\"]],\n",
        "        \"Mass\":               test_ind_auroc[trainer.test_dl.dataset._class_ids[\"Mass\"]],\n",
        "        \"Nodule\":             test_ind_auroc[trainer.test_dl.dataset._class_ids[\"Nodule\"]],\n",
        "        \"Pneumothorax\":       test_ind_auroc[trainer.test_dl.dataset._class_ids[\"Pneumothorax\"]],\n",
        "        \"Consolidation\":      test_ind_auroc[trainer.test_dl.dataset._class_ids[\"Consolidation\"]],\n",
        "        \"Pleural Thickening\": test_ind_auroc[trainer.test_dl.dataset._class_ids[\"Pleural_Thickening\"]],\n",
        "        \"Hernia\":             test_ind_auroc[trainer.test_dl.dataset._class_ids[\"Hernia\"]],\n",
        "        \"Unseen Mean\":        test_ind_auroc[trainer.test_dl.dataset.unseen_class_ids].mean(),\n",
        "        \"Pneumonia\":          test_ind_auroc[trainer.test_dl.dataset._class_ids[\"Pneumonia\"]],\n",
        "        \"Edema\":              test_ind_auroc[trainer.test_dl.dataset._class_ids[\"Edema\"]],\n",
        "        \"Emphysema\":          test_ind_auroc[trainer.test_dl.dataset._class_ids[\"Emphysema\"]],\n",
        "        \"Fibrosis\":           test_ind_auroc[trainer.test_dl.dataset._class_ids[\"Fibrosis\"]]\n",
        "}\n",
        "\n",
        "checkpoint = torch.load(f'{args.save_dir}/best_auroc_checkpoint.pth.tar', weights_only=False)\n",
        "trainer.model.load_state_dict(checkpoint['state_dict'])\n",
        "test_ind_auroc = trainer.test()\n",
        "test_ind_auroc = np.array(test_ind_auroc)\n",
        "\n",
        "results[\"Reproduced (best AUROC)\"] = {\n",
        "        \"Seen Mean\":          test_ind_auroc[trainer.test_dl.dataset.seen_class_ids].mean(),\n",
        "        \"Atelectasis\":        test_ind_auroc[trainer.test_dl.dataset._class_ids[\"Atelectasis\"]],\n",
        "        \"Cardiomegaly\":       test_ind_auroc[trainer.test_dl.dataset._class_ids[\"Cardiomegaly\"]],\n",
        "        \"Effusion\":           test_ind_auroc[trainer.test_dl.dataset._class_ids[\"Effusion\"]],\n",
        "        \"Infiltration\":       test_ind_auroc[trainer.test_dl.dataset._class_ids[\"Infiltration\"]],\n",
        "        \"Mass\":               test_ind_auroc[trainer.test_dl.dataset._class_ids[\"Mass\"]],\n",
        "        \"Nodule\":             test_ind_auroc[trainer.test_dl.dataset._class_ids[\"Nodule\"]],\n",
        "        \"Pneumothorax\":       test_ind_auroc[trainer.test_dl.dataset._class_ids[\"Pneumothorax\"]],\n",
        "        \"Consolidation\":      test_ind_auroc[trainer.test_dl.dataset._class_ids[\"Consolidation\"]],\n",
        "        \"Pleural Thickening\": test_ind_auroc[trainer.test_dl.dataset._class_ids[\"Pleural_Thickening\"]],\n",
        "        \"Hernia\":             test_ind_auroc[trainer.test_dl.dataset._class_ids[\"Hernia\"]],\n",
        "        \"Unseen Mean\":        test_ind_auroc[trainer.test_dl.dataset.unseen_class_ids].mean(),\n",
        "        \"Pneumonia\":          test_ind_auroc[trainer.test_dl.dataset._class_ids[\"Pneumonia\"]],\n",
        "        \"Edema\":              test_ind_auroc[trainer.test_dl.dataset._class_ids[\"Edema\"]],\n",
        "        \"Emphysema\":          test_ind_auroc[trainer.test_dl.dataset._class_ids[\"Emphysema\"]],\n",
        "        \"Fibrosis\":           test_ind_auroc[trainer.test_dl.dataset._class_ids[\"Fibrosis\"]]\n",
        "}"
      ],
      "metadata": {
        "colab": {
          "base_uri": "https://localhost:8080/"
        },
        "id": "rh8jjtGZ-j9z",
        "outputId": "fc3208e0-3a9c-44f5-bd71-f89261a075d0"
      },
      "execution_count": 38,
      "outputs": [
        {
          "output_type": "stream",
          "name": "stderr",
          "text": [
            "100%|██████████| 219/219 [01:04<00:00,  3.40it/s]\n",
            "100%|██████████| 219/219 [01:04<00:00,  3.39it/s]\n"
          ]
        }
      ]
    },
    {
      "cell_type": "markdown",
      "source": [
        "## Results"
      ],
      "metadata": {
        "id": "F7L-wKuI-PYs"
      }
    },
    {
      "cell_type": "code",
      "source": [
        "df = pd.DataFrame(results).T.round(2)\n",
        "\n",
        "fig, ax = plt.subplots()\n",
        "ax.axis('off')\n",
        "\n",
        "tbl = table(ax, df, loc='center', colWidths=[ 0.02 * (len(col)+2) for col in df.columns.tolist() ])\n",
        "tbl.auto_set_font_size(False)\n",
        "tbl.set_fontsize(12)\n",
        "tbl.scale(1.2, 2)\n",
        "\n",
        "plt.show()"
      ],
      "metadata": {
        "colab": {
          "base_uri": "https://localhost:8080/",
          "height": 159
        },
        "id": "RMqPKbIQ-PiD",
        "outputId": "e457010a-8e6c-449f-f82b-ff763c0a2679"
      },
      "execution_count": 40,
      "outputs": [
        {
          "output_type": "display_data",
          "data": {
            "text/plain": [
              "<Figure size 640x480 with 1 Axes>"
            ],
            "image/png": "[encoded data removed]"
          },
          "metadata": {}
        }
      ]
    }
  ]
}