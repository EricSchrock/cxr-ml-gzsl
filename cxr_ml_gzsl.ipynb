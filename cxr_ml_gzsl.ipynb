{
  "nbformat": 4,
  "nbformat_minor": 0,
  "metadata": {
    "colab": {
      "provenance": [],
      "gpuType": "A100",
      "machine_shape": "hm"
    },
    "kernelspec": {
      "name": "python3",
      "display_name": "Python 3"
    },
    "language_info": {
      "name": "python"
    },
    "accelerator": "GPU"
  },
  "cells": [
    {
      "cell_type": "markdown",
      "source": [
        "# CXR-ML-GZSL"
      ],
      "metadata": {
        "id": "6bKRAGBpLskG"
      }
    },
    {
      "cell_type": "markdown",
      "source": [
        "## Overview\n",
        "\n",
        "The goal of this notebook is to reproduce the findings of the paper, \"Multi-Label Generalized Zero Shot Learning for the Classification of Disease in Chest Radiographs\" with the help of an LLM. The paper provides code, which was a valuable reference during the development of this notebook.\n",
        "\n",
        "* Paper: https://arxiv.org/abs/2107.06563\n",
        "* Code: https://github.com/nyuad-cai/CXR-ML-GZSL\n",
        "\n",
        "This notebook reuses the dataset training, validation, and test split provided by the original paper, as well as the pre-generated BioBERT text embeddings of the class names.\n",
        "\n",
        "* Dataset split: https://github.com/nyuad-cai/CXR-ML-GZSL/tree/master/dataset_splits\n",
        "* Class embeddings: https://github.com/nyuad-cai/CXR-ML-GZSL/blob/master/embeddings/nih_chest_xray_biobert.npy\n",
        "\n",
        "The paper uses a dataset, initially known as `ChestX-ray8`, but then renamed to `ChestX-ray14` when the dataset was expanded from eight to fourteen distinct disease labels. The dataset contains 112120 labeled chest X-rays.\n",
        "\n",
        "* Dataset paper: https://arxiv.org/abs/1705.02315\n",
        "* Dataset: https://nihcc.app.box.com/v/ChestXray-NIHCC/folder/36938765345\n",
        "\n",
        "The dataset provides an example of how to download the chext X-ray images and a spreadsheet mapping images to classification labels. However, the \"dataset split\" files already contain the image classification labels so this notebook does not use the spreadsheet.\n",
        "\n",
        "* Download script: https://nihcc.app.box.com/v/ChestXray-NIHCC/file/371647823217\n",
        "* Labels: https://nihcc.app.box.com/v/ChestXray-NIHCC/file/219760887468\n",
        "\n",
        "**Note**: The dataset is ~42 GB. Expect significant download times.\n",
        "\n",
        "**Note**: The notebook will request access to Google Drive to save training checkpoints. This is to avoid loosing training progress if Google Colab times out."
      ],
      "metadata": {
        "id": "ijYrSzRsLDkQ"
      }
    },
    {
      "cell_type": "markdown",
      "source": [
        "## Environment"
      ],
      "metadata": {
        "id": "ig7PMke4LVnl"
      }
    },
    {
      "cell_type": "code",
      "source": [
        "!if command -v nvidia-smi &> /dev/null; then nvidia-smi --query-gpu=name --format=csv,noheader; else echo 'No NVIDIA GPU detected'; fi\n",
        "!python --version"
      ],
      "metadata": {
        "colab": {
          "base_uri": "https://localhost:8080/"
        },
        "id": "hnctIu-gLZp5",
        "outputId": "e31dc203-2034-40f7-90ce-cc8bda9e8454"
      },
      "execution_count": 1,
      "outputs": [
        {
          "output_type": "stream",
          "name": "stdout",
          "text": [
            "NVIDIA A100-SXM4-40GB\n",
            "Python 3.11.12\n"
          ]
        }
      ]
    },
    {
      "cell_type": "code",
      "source": [
        "import gc\n",
        "import multiprocessing\n",
        "import os\n",
        "import requests\n",
        "from statistics import mean\n",
        "import tarfile\n",
        "import time\n",
        "import urllib.request\n",
        "\n",
        "from google.colab import drive\n",
        "\n",
        "import matplotlib\n",
        "import matplotlib.pyplot as plt\n",
        "\n",
        "print(f\"matplotlib: {matplotlib.__version__}\")\n",
        "\n",
        "import numpy as np\n",
        "\n",
        "print(f\"numpy: {np.__version__}\")\n",
        "\n",
        "import pandas as pd\n",
        "from pandas.plotting import table\n",
        "\n",
        "print(f\"pandas: {pd.__version__}\")\n",
        "\n",
        "import PIL\n",
        "from PIL import Image\n",
        "\n",
        "print(f\"PIL: {PIL.__version__}\")\n",
        "\n",
        "import sklearn\n",
        "from sklearn.metrics import roc_auc_score\n",
        "\n",
        "print(f\"sklearn: {sklearn.__version__}\")\n",
        "\n",
        "import torch\n",
        "import torch.nn as nn\n",
        "import torch.nn.functional as F\n",
        "from torch.utils.data import DataLoader, Dataset\n",
        "\n",
        "print(f\"torch: {torch.__version__}\")\n",
        "\n",
        "import torchvision\n",
        "from torchvision import models\n",
        "import torchvision.transforms as transforms\n",
        "\n",
        "print(f\"torchvision: {torchvision.__version__}\")\n",
        "\n",
        "import tqdm\n",
        "\n",
        "print(f\"tqdm: {tqdm.__version__}\")"
      ],
      "metadata": {
        "colab": {
          "base_uri": "https://localhost:8080/"
        },
        "id": "0x5zopuELPXB",
        "outputId": "65f636e3-c8ea-4404-85d1-e7b3a5f4fd62"
      },
      "execution_count": 2,
      "outputs": [
        {
          "output_type": "stream",
          "name": "stdout",
          "text": [
            "matplotlib: 3.10.0\n",
            "numpy: 2.0.2\n",
            "pandas: 2.2.2\n",
            "PIL: 11.1.0\n",
            "sklearn: 1.6.1\n",
            "torch: 2.6.0+cu124\n",
            "torchvision: 0.21.0+cu124\n",
            "tqdm: 4.67.1\n"
          ]
        }
      ]
    },
    {
      "cell_type": "code",
      "source": [
        "CORE_COUNT = multiprocessing.cpu_count()\n",
        "\n",
        "print(f\"CPU cores: {CORE_COUNT}\")"
      ],
      "metadata": {
        "colab": {
          "base_uri": "https://localhost:8080/"
        },
        "id": "0JNYihkZ4lS7",
        "outputId": "bf6ac838-1fac-436b-813b-21db8cf30c2c"
      },
      "execution_count": 3,
      "outputs": [
        {
          "output_type": "stream",
          "name": "stdout",
          "text": [
            "CPU cores: 12\n"
          ]
        }
      ]
    },
    {
      "cell_type": "code",
      "source": [
        "seed = 1002\n",
        "torch.manual_seed(seed)\n",
        "np.random.seed(seed)\n",
        "\n",
        "DRIVE_PATH = '/content/drive'\n",
        "\n",
        "if not os.path.ismount(DRIVE_PATH):\n",
        "    drive.mount(DRIVE_PATH)\n",
        "\n",
        "checkpoint_path = f\"{DRIVE_PATH}/MyDrive/ml_gzsl_checkpoint.pt\""
      ],
      "metadata": {
        "colab": {
          "base_uri": "https://localhost:8080/"
        },
        "id": "3cmfRq1xUo7j",
        "outputId": "bbbb5f38-1c05-40ab-abee-538f80822be8"
      },
      "execution_count": 4,
      "outputs": [
        {
          "output_type": "stream",
          "name": "stdout",
          "text": [
            "Mounted at /content/drive\n"
          ]
        }
      ]
    },
    {
      "cell_type": "markdown",
      "source": [
        "## Download"
      ],
      "metadata": {
        "id": "2Gwu5wJDLaJq"
      }
    },
    {
      "cell_type": "code",
      "source": [
        "for filename in [\"train.txt\", \"val.txt\", \"test.txt\"]:\n",
        "    response = requests.get(f\"https://raw.githubusercontent.com/nyuad-cai/CXR-ML-GZSL/master/dataset_splits/{filename}\")\n",
        "\n",
        "    with open(filename, \"w\") as f:\n",
        "        f.write(response.text)\n",
        "\n",
        "    print(f\"Downloaded: {filename}\")"
      ],
      "metadata": {
        "colab": {
          "base_uri": "https://localhost:8080/"
        },
        "id": "oIC65QJdLeEb",
        "outputId": "2f832e70-0fcc-440e-f3e3-f2966e76147f"
      },
      "execution_count": 5,
      "outputs": [
        {
          "output_type": "stream",
          "name": "stdout",
          "text": [
            "Downloaded: train.txt\n",
            "Downloaded: val.txt\n",
            "Downloaded: test.txt\n"
          ]
        }
      ]
    },
    {
      "cell_type": "code",
      "source": [
        "CLASS_EMBEDDINGS = \"nih_chest_xray_biobert.npy\"\n",
        "\n",
        "response = requests.get(f\"https://raw.githubusercontent.com/nyuad-cai/CXR-ML-GZSL/master/embeddings/{CLASS_EMBEDDINGS}\")\n",
        "\n",
        "with open(CLASS_EMBEDDINGS, \"wb\") as f:\n",
        "    f.write(response.content)\n",
        "\n",
        "print(f\"Downloaded: {CLASS_EMBEDDINGS}\")"
      ],
      "metadata": {
        "colab": {
          "base_uri": "https://localhost:8080/"
        },
        "id": "hF2Og6YENJN3",
        "outputId": "545de720-8f7c-494b-ba1e-d901c74f0994"
      },
      "execution_count": 6,
      "outputs": [
        {
          "output_type": "stream",
          "name": "stdout",
          "text": [
            "Downloaded: nih_chest_xray_biobert.npy\n"
          ]
        }
      ]
    },
    {
      "cell_type": "code",
      "source": [
        "dataset = [\n",
        "    {\"filename\": \"images_001.tar.gz\", \"url\": \"https://nihcc.box.com/shared/static/vfk49d74nhbxq3nqjg0900w5nvkorp5c.gz\"},\n",
        "    {\"filename\": \"images_002.tar.gz\", \"url\": \"https://nihcc.box.com/shared/static/i28rlmbvmfjbl8p2n3ril0pptcmcu9d1.gz\"},\n",
        "    {\"filename\": \"images_003.tar.gz\", \"url\": \"https://nihcc.box.com/shared/static/f1t00wrtdk94satdfb9olcolqx20z2jp.gz\"},\n",
        "    {\"filename\": \"images_004.tar.gz\", \"url\": \"https://nihcc.box.com/shared/static/0aowwzs5lhjrceb3qp67ahp0rd1l1etg.gz\"},\n",
        "    {\"filename\": \"images_005.tar.gz\", \"url\": \"https://nihcc.box.com/shared/static/v5e3goj22zr6h8tzualxfsqlqaygfbsn.gz\"},\n",
        "    {\"filename\": \"images_006.tar.gz\", \"url\": \"https://nihcc.box.com/shared/static/asi7ikud9jwnkrnkj99jnpfkjdes7l6l.gz\"},\n",
        "    {\"filename\": \"images_007.tar.gz\", \"url\": \"https://nihcc.box.com/shared/static/jn1b4mw4n6lnh74ovmcjb8y48h8xj07n.gz\"},\n",
        "    {\"filename\": \"images_008.tar.gz\", \"url\": \"https://nihcc.box.com/shared/static/tvpxmn7qyrgl0w8wfh9kqfjskv6nmm1j.gz\"},\n",
        "    {\"filename\": \"images_009.tar.gz\", \"url\": \"https://nihcc.box.com/shared/static/upyy3ml7qdumlgk2rfcvlb9k6gvqq2pj.gz\"},\n",
        "    {\"filename\": \"images_010.tar.gz\", \"url\": \"https://nihcc.box.com/shared/static/l6nilvfa9cg3s28tqv1qc1olm3gnz54p.gz\"},\n",
        "    {\"filename\": \"images_011.tar.gz\", \"url\": \"https://nihcc.box.com/shared/static/hhq8fkdgvcari67vfhs7ppg2w6ni4jze.gz\"},\n",
        "    {\"filename\": \"images_012.tar.gz\", \"url\": \"https://nihcc.box.com/shared/static/ioqwiy20ihqwyr8pf4c24eazhh281pbu.gz\"},\n",
        "]\n",
        "\n",
        "for item in dataset:\n",
        "    filename = item[\"filename\"]\n",
        "    url = item[\"url\"]\n",
        "\n",
        "    urllib.request.urlretrieve(url, filename)\n",
        "\n",
        "    with tarfile.open(filename, \"r:gz\") as tar:\n",
        "        tar.extractall()\n",
        "\n",
        "    os.remove(filename)\n",
        "\n",
        "    print(f\"Downloaded and extracted: {filename}\")\n",
        "\n",
        "IMAGE_PATH = \"images\"\n",
        "\n",
        "assert os.path.exists(IMAGE_PATH), \"Dataset is not in the expected directory!\""
      ],
      "metadata": {
        "colab": {
          "base_uri": "https://localhost:8080/"
        },
        "id": "bVF2OYbERAcX",
        "outputId": "32f8b788-b260-41af-822a-7bec2a721000"
      },
      "execution_count": 7,
      "outputs": [
        {
          "output_type": "stream",
          "name": "stdout",
          "text": [
            "Downloaded and extracted: images_001.tar.gz\n",
            "Downloaded and extracted: images_002.tar.gz\n",
            "Downloaded and extracted: images_003.tar.gz\n",
            "Downloaded and extracted: images_004.tar.gz\n",
            "Downloaded and extracted: images_005.tar.gz\n",
            "Downloaded and extracted: images_006.tar.gz\n",
            "Downloaded and extracted: images_007.tar.gz\n",
            "Downloaded and extracted: images_008.tar.gz\n",
            "Downloaded and extracted: images_009.tar.gz\n",
            "Downloaded and extracted: images_010.tar.gz\n",
            "Downloaded and extracted: images_011.tar.gz\n",
            "Downloaded and extracted: images_012.tar.gz\n"
          ]
        }
      ]
    },
    {
      "cell_type": "markdown",
      "source": [
        "## Preprocessing"
      ],
      "metadata": {
        "id": "RbXv4b33LekL"
      }
    },
    {
      "cell_type": "code",
      "source": [
        "class ChestXrayDataset(Dataset):\n",
        "    def __init__(self, image_dir, labels_file, transform, excluded_classes=None):\n",
        "        self.image_dir = image_dir\n",
        "        self.transform = transform\n",
        "        self.data = []\n",
        "\n",
        "        with open(labels_file, 'r') as f:\n",
        "            for line in f:\n",
        "                parts = line.strip().split()\n",
        "                image_name = os.path.basename(parts[0])\n",
        "                labels = list(map(int, parts[1:]))\n",
        "\n",
        "                if all(l == 0 for l in labels):\n",
        "                    continue\n",
        "\n",
        "                if excluded_classes is not None and any(labels[i] == 1 for i in excluded_classes):\n",
        "                    continue\n",
        "\n",
        "                self.data.append((image_name, torch.tensor(labels, dtype=torch.int64)))\n",
        "\n",
        "    def __len__(self):\n",
        "        return len(self.data)\n",
        "\n",
        "    def __getitem__(self, idx):\n",
        "        image_name, labels = self.data[idx]\n",
        "        image_path = os.path.join(self.image_dir, image_name)\n",
        "\n",
        "        image = Image.open(image_path).convert('RGB')\n",
        "        image = self.transform(image)\n",
        "\n",
        "        return image, labels"
      ],
      "metadata": {
        "id": "XQXR2pkJLmi7"
      },
      "execution_count": 8,
      "outputs": []
    },
    {
      "cell_type": "markdown",
      "source": [
        "**Note**: The validation dataset is not for tuning hyperparameters, but to measure the training loss. Cross-validation is not used."
      ],
      "metadata": {
        "id": "UoIFT5E-4xMZ"
      }
    },
    {
      "cell_type": "code",
      "source": [
        "# Credit: https://github.com/nyuad-cai/CXR-ML-GZSL/blob/master/ChexnetTrainer.py#L104-L130\n",
        "# Credit: https://github.com/nyuad-cai/CXR-ML-GZSL/blob/master/arguments.py#L22-L23\n",
        "\n",
        "normalize = transforms.Normalize([0.485, 0.456, 0.406], [0.229, 0.224, 0.225])\n",
        "\n",
        "training_transform = transforms.Compose([\n",
        "    transforms.RandomResizedCrop(224),\n",
        "    transforms.RandomHorizontalFlip(),\n",
        "    transforms.ToTensor(),\n",
        "    normalize\n",
        "])\n",
        "\n",
        "testing_transform = transforms.Compose([\n",
        "    transforms.Resize(256),\n",
        "    transforms.TenCrop(224),\n",
        "    transforms.Lambda(lambda crops: torch.stack([transforms.ToTensor()(crop) for crop in crops])),\n",
        "    transforms.Lambda(lambda crops: torch.stack([normalize(crop) for crop in crops]))\n",
        "])\n",
        "\n",
        "train_data = ChestXrayDataset(IMAGE_PATH, \"train.txt\", transform=training_transform, excluded_classes=[10, 11, 12, 13])\n",
        "val_data   = ChestXrayDataset(IMAGE_PATH, \"val.txt\",   transform=testing_transform,  excluded_classes=[10, 11, 12, 13])\n",
        "test_data  = ChestXrayDataset(IMAGE_PATH, \"test.txt\",  transform=testing_transform)\n",
        "\n",
        "print(f\"Training samples: {len(train_data)}\")\n",
        "print(f\"Validation samples: {len(val_data)}\")\n",
        "print(f\"Testing samples: {len(test_data)}\")\n",
        "\n",
        "train_loader = DataLoader(train_data, batch_size=64, shuffle=True,  num_workers=CORE_COUNT, pin_memory=True)\n",
        "val_loader   = DataLoader(val_data,   batch_size=64, shuffle=False, num_workers=CORE_COUNT, pin_memory=True)\n",
        "test_loader  = DataLoader(test_data,  batch_size=64, shuffle=False, num_workers=CORE_COUNT, pin_memory=True)"
      ],
      "metadata": {
        "colab": {
          "base_uri": "https://localhost:8080/"
        },
        "id": "kJ0cD0Oms8tx",
        "outputId": "7f9719c6-2a8e-4c04-b215-863b0be68b43"
      },
      "execution_count": 9,
      "outputs": [
        {
          "output_type": "stream",
          "name": "stdout",
          "text": [
            "Training samples: 30935\n",
            "Validation samples: 4383\n",
            "Testing samples: 10505\n"
          ]
        }
      ]
    },
    {
      "cell_type": "markdown",
      "source": [
        "## Model"
      ],
      "metadata": {
        "id": "9DuhrErYLocv"
      }
    },
    {
      "cell_type": "code",
      "source": [
        "class ML_GZSL(nn.Module):\n",
        "    def __init__(self, embedding_path, gamma1, gamma2, delta):\n",
        "        super(ML_GZSL, self).__init__()\n",
        "        self.gamma1 = gamma1\n",
        "        self.gamma2 = gamma2\n",
        "        self.delta = delta\n",
        "\n",
        "        # Load class name embeddings as a buffer so it moves with the model\n",
        "        self.register_buffer(\"class_embeddings\", torch.tensor(np.load(embedding_path), dtype=torch.float32))  # (14, 1024)\n",
        "\n",
        "        # Visual encoder: Densenet-121 without classification head\n",
        "        self.visual_encoder = models.densenet121(weights=None)\n",
        "        self.visual_encoder.classifier = nn.Identity()\n",
        "        visual_out_dim = 1024\n",
        "\n",
        "        # Visual mapping module\n",
        "        self.visual_mapping = nn.Sequential(\n",
        "            nn.Linear(visual_out_dim, 512),\n",
        "            nn.ReLU(),\n",
        "            nn.Linear(512, 256),\n",
        "            nn.ReLU(),\n",
        "            nn.Linear(256, 128)\n",
        "        )\n",
        "\n",
        "        # Semantic mapping module\n",
        "        self.semantic_mapping = nn.Sequential(\n",
        "            nn.Linear(1024, 512),\n",
        "            nn.ReLU(),\n",
        "            nn.Linear(512, 256),\n",
        "            nn.ReLU(),\n",
        "            nn.Linear(256, 128)\n",
        "        )\n",
        "\n",
        "    def forward(self, x, labels):\n",
        "        batch_size, num_crops, C, H, W = x.shape\n",
        "        x = x.view(-1, C, H, W)\n",
        "\n",
        "        visual_features = self.visual_encoder(x)\n",
        "        visual_features = self.visual_mapping(visual_features)\n",
        "        visual_features = visual_features.view(batch_size, num_crops, -1).mean(dim=1)\n",
        "\n",
        "        semantic_features = self.semantic_mapping(self.class_embeddings)\n",
        "\n",
        "        relevance_scores = F.cosine_similarity(\n",
        "            visual_features.unsqueeze(1),\n",
        "            semantic_features.unsqueeze(0),\n",
        "            dim=-1\n",
        "        )\n",
        "\n",
        "        # Ranking Loss\n",
        "        loss_rank = 0\n",
        "        for i in range(batch_size):\n",
        "            y_true = labels[i]\n",
        "            pos_idx = (y_true == 1).nonzero(as_tuple=True)[0]\n",
        "            neg_idx = (y_true == 0).nonzero(as_tuple=True)[0]\n",
        "            for pos in pos_idx:\n",
        "                for neg in neg_idx:\n",
        "                    pos_score = relevance_scores[i, pos]\n",
        "                    neg_score = relevance_scores[i, neg]\n",
        "                    loss_rank += F.relu(self.delta + neg_score - pos_score)\n",
        "        loss_rank /= (batch_size * labels.size(1))\n",
        "\n",
        "        # Alignment Loss\n",
        "        wx_list = []\n",
        "        for i in range(batch_size):\n",
        "            y_true = labels[i]\n",
        "            pos_idx = (y_true == 1).nonzero(as_tuple=True)[0]\n",
        "            if len(pos_idx) > 0:\n",
        "                avg_sem = self.class_embeddings[pos_idx].mean(dim=0)\n",
        "                avg_sem_proj = self.semantic_mapping(avg_sem)\n",
        "                cos_sim = F.cosine_similarity(visual_features[i], avg_sem_proj, dim=0)\n",
        "                wx_list.append(1 - cos_sim)\n",
        "        loss_align = torch.stack(wx_list).mean() if wx_list else torch.tensor(0.0, device=x.device)\n",
        "\n",
        "        # Consistency Loss\n",
        "        orig_sim = F.cosine_similarity(\n",
        "            self.class_embeddings.unsqueeze(1),\n",
        "            self.class_embeddings.unsqueeze(0),\n",
        "            dim=-1\n",
        "        )\n",
        "        proj_sim = F.cosine_similarity(\n",
        "            semantic_features.unsqueeze(1),\n",
        "            semantic_features.unsqueeze(0),\n",
        "            dim=-1\n",
        "        )\n",
        "        loss_con = F.l1_loss(orig_sim, proj_sim)\n",
        "\n",
        "        total_loss = loss_rank + self.gamma1 * loss_align + self.gamma2 * loss_con\n",
        "\n",
        "        return relevance_scores, total_loss"
      ],
      "metadata": {
        "id": "XUMmlAk2Lpk6"
      },
      "execution_count": 10,
      "outputs": []
    },
    {
      "cell_type": "markdown",
      "source": [
        "## Training"
      ],
      "metadata": {
        "id": "GbKfCp0zLp44"
      }
    },
    {
      "cell_type": "code",
      "source": [
        "gc.collect()\n",
        "torch.cuda.empty_cache()\n",
        "\n",
        "device = torch.device(\"cuda\" if torch.cuda.is_available() else \"cpu\")\n",
        "\n",
        "model = ML_GZSL(CLASS_EMBEDDINGS, gamma1=0.1, gamma2=0.1, delta=0.5).to(device)\n",
        "optimizer = torch.optim.Adam(model.parameters(), lr=1e-4, weight_decay=1e-5)\n",
        "scheduler = torch.optim.lr_scheduler.ReduceLROnPlateau(optimizer, mode='min', factor=0.01, patience=10)\n",
        "\n",
        "epochs = 100\n",
        "start_epoch = 1\n",
        "best_val_auroc = 0\n",
        "\n",
        "if os.path.exists(checkpoint_path):\n",
        "    checkpoint = torch.load(checkpoint_path, weights_only=False)\n",
        "    model.load_state_dict(checkpoint['model_state'])\n",
        "    optimizer.load_state_dict(checkpoint['optimizer_state'])\n",
        "    scheduler.load_state_dict(checkpoint['scheduler_state'])\n",
        "    start_epoch = checkpoint['epoch'] + 1\n",
        "    best_val_auroc = checkpoint['best_val_auroc']\n",
        "    print(f\"Resuming from epoch {start_epoch} with best val AUROC {best_val_auroc:.4f}\")\n",
        "\n",
        "# Training loop\n",
        "for epoch in range(start_epoch, epochs + 1):\n",
        "    model.train()\n",
        "    start_time = time.time()\n",
        "    for images, labels in tqdm.tqdm(train_loader, desc=f\"Epoch {epoch} (training)\"):\n",
        "        images = images.unsqueeze(1).to(device)\n",
        "        labels = labels.to(device).float()\n",
        "        optimizer.zero_grad()\n",
        "        _, loss = model(images, labels)\n",
        "        loss.backward()\n",
        "        optimizer.step()\n",
        "\n",
        "    # Validation\n",
        "    model.eval()\n",
        "    val_loss = 0\n",
        "    all_preds = []\n",
        "    all_labels = []\n",
        "    with torch.no_grad():\n",
        "        for images, labels in tqdm.tqdm(val_loader, desc=f\"Epoch {epoch} (validation)\"):\n",
        "            images, labels = images.to(device), labels.to(device).float()\n",
        "            preds, loss = model(images, labels)\n",
        "            val_loss += loss.item() * images.size(0)\n",
        "            all_preds.append(preds[:, :-4].cpu())\n",
        "            all_labels.append(labels[:, :-4].cpu())\n",
        "\n",
        "    val_loss /= len(val_loader.dataset)\n",
        "    all_preds = torch.cat(all_preds)\n",
        "    all_labels = torch.cat(all_labels)\n",
        "    val_auroc = roc_auc_score(all_labels.numpy(), all_preds.numpy(), average='macro')\n",
        "    scheduler.step(val_loss)\n",
        "\n",
        "    if val_auroc > best_val_auroc:\n",
        "        best_val_auroc = val_auroc\n",
        "        torch.save({\n",
        "            'epoch': epoch,\n",
        "            'model_state': model.state_dict(),\n",
        "            'optimizer_state': optimizer.state_dict(),\n",
        "            'scheduler_state': scheduler.state_dict(),\n",
        "            'best_val_auroc': best_val_auroc\n",
        "        }, checkpoint_path)\n",
        "\n",
        "    runtime = time.time() - start_time\n",
        "    print(f\"Epoch {epoch}: Time={runtime:.2f}s, Val Loss={val_loss:.4f}, Val AUROC={val_auroc:.4f}\")"
      ],
      "metadata": {
        "id": "RDanD5MEcV0_",
        "colab": {
          "base_uri": "https://localhost:8080/"
        },
        "outputId": "b757c7da-562b-43f0-8b94-1b4bcdac3d0e"
      },
      "execution_count": 11,
      "outputs": [
        {
          "output_type": "stream",
          "name": "stderr",
          "text": [
            "Epoch 1 (training): 100%|██████████| 484/484 [04:33<00:00,  1.77it/s]\n",
            "Epoch 1 (validation): 100%|██████████| 69/69 [00:41<00:00,  1.65it/s]\n"
          ]
        },
        {
          "output_type": "stream",
          "name": "stdout",
          "text": [
            "Epoch 1: Time=316.81s, Val Loss=0.2871, Val AUROC=0.5788\n"
          ]
        },
        {
          "output_type": "stream",
          "name": "stderr",
          "text": [
            "Epoch 2 (training): 100%|██████████| 484/484 [04:34<00:00,  1.76it/s]\n",
            "Epoch 2 (validation): 100%|██████████| 69/69 [00:42<00:00,  1.61it/s]\n"
          ]
        },
        {
          "output_type": "stream",
          "name": "stdout",
          "text": [
            "Epoch 2: Time=318.09s, Val Loss=0.2829, Val AUROC=0.5867\n"
          ]
        },
        {
          "output_type": "stream",
          "name": "stderr",
          "text": [
            "Epoch 3 (training): 100%|██████████| 484/484 [04:34<00:00,  1.76it/s]\n",
            "Epoch 3 (validation): 100%|██████████| 69/69 [00:42<00:00,  1.60it/s]\n"
          ]
        },
        {
          "output_type": "stream",
          "name": "stdout",
          "text": [
            "Epoch 3: Time=318.31s, Val Loss=0.2803, Val AUROC=0.6006\n"
          ]
        },
        {
          "output_type": "stream",
          "name": "stderr",
          "text": [
            "Epoch 4 (training): 100%|██████████| 484/484 [04:31<00:00,  1.78it/s]\n",
            "Epoch 4 (validation): 100%|██████████| 69/69 [00:37<00:00,  1.85it/s]\n"
          ]
        },
        {
          "output_type": "stream",
          "name": "stdout",
          "text": [
            "Epoch 4: Time=309.30s, Val Loss=0.2778, Val AUROC=0.6160\n"
          ]
        },
        {
          "output_type": "stream",
          "name": "stderr",
          "text": [
            "Epoch 5 (training): 100%|██████████| 484/484 [04:31<00:00,  1.78it/s]\n",
            "Epoch 5 (validation): 100%|██████████| 69/69 [00:38<00:00,  1.81it/s]\n"
          ]
        },
        {
          "output_type": "stream",
          "name": "stdout",
          "text": [
            "Epoch 5: Time=310.48s, Val Loss=0.2764, Val AUROC=0.6244\n"
          ]
        },
        {
          "output_type": "stream",
          "name": "stderr",
          "text": [
            "Epoch 6 (training): 100%|██████████| 484/484 [04:32<00:00,  1.77it/s]\n",
            "Epoch 6 (validation): 100%|██████████| 69/69 [00:37<00:00,  1.84it/s]\n"
          ]
        },
        {
          "output_type": "stream",
          "name": "stdout",
          "text": [
            "Epoch 6: Time=310.98s, Val Loss=0.2738, Val AUROC=0.6253\n"
          ]
        },
        {
          "output_type": "stream",
          "name": "stderr",
          "text": [
            "Epoch 7 (training): 100%|██████████| 484/484 [04:31<00:00,  1.78it/s]\n",
            "Epoch 7 (validation): 100%|██████████| 69/69 [00:37<00:00,  1.86it/s]\n"
          ]
        },
        {
          "output_type": "stream",
          "name": "stdout",
          "text": [
            "Epoch 7: Time=309.15s, Val Loss=0.2730, Val AUROC=0.6365\n"
          ]
        },
        {
          "output_type": "stream",
          "name": "stderr",
          "text": [
            "Epoch 8 (training): 100%|██████████| 484/484 [04:32<00:00,  1.78it/s]\n",
            "Epoch 8 (validation): 100%|██████████| 69/69 [00:37<00:00,  1.85it/s]\n"
          ]
        },
        {
          "output_type": "stream",
          "name": "stdout",
          "text": [
            "Epoch 8: Time=309.63s, Val Loss=0.2741, Val AUROC=0.6343\n"
          ]
        },
        {
          "output_type": "stream",
          "name": "stderr",
          "text": [
            "Epoch 9 (training): 100%|██████████| 484/484 [04:32<00:00,  1.78it/s]\n",
            "Epoch 9 (validation): 100%|██████████| 69/69 [00:38<00:00,  1.80it/s]\n"
          ]
        },
        {
          "output_type": "stream",
          "name": "stdout",
          "text": [
            "Epoch 9: Time=311.49s, Val Loss=0.2687, Val AUROC=0.6456\n"
          ]
        },
        {
          "output_type": "stream",
          "name": "stderr",
          "text": [
            "Epoch 10 (training): 100%|██████████| 484/484 [04:31<00:00,  1.78it/s]\n",
            "Epoch 10 (validation): 100%|██████████| 69/69 [00:37<00:00,  1.85it/s]\n"
          ]
        },
        {
          "output_type": "stream",
          "name": "stdout",
          "text": [
            "Epoch 10: Time=308.82s, Val Loss=0.2712, Val AUROC=0.6414\n"
          ]
        },
        {
          "output_type": "stream",
          "name": "stderr",
          "text": [
            "Epoch 11 (training): 100%|██████████| 484/484 [04:32<00:00,  1.78it/s]\n",
            "Epoch 11 (validation): 100%|██████████| 69/69 [00:37<00:00,  1.84it/s]\n"
          ]
        },
        {
          "output_type": "stream",
          "name": "stdout",
          "text": [
            "Epoch 11: Time=310.10s, Val Loss=0.2717, Val AUROC=0.6422\n"
          ]
        },
        {
          "output_type": "stream",
          "name": "stderr",
          "text": [
            "Epoch 12 (training): 100%|██████████| 484/484 [04:32<00:00,  1.77it/s]\n",
            "Epoch 12 (validation): 100%|██████████| 69/69 [00:37<00:00,  1.83it/s]\n"
          ]
        },
        {
          "output_type": "stream",
          "name": "stdout",
          "text": [
            "Epoch 12: Time=310.52s, Val Loss=0.2699, Val AUROC=0.6424\n"
          ]
        },
        {
          "output_type": "stream",
          "name": "stderr",
          "text": [
            "Epoch 13 (training): 100%|██████████| 484/484 [04:32<00:00,  1.78it/s]\n",
            "Epoch 13 (validation): 100%|██████████| 69/69 [00:37<00:00,  1.85it/s]\n"
          ]
        },
        {
          "output_type": "stream",
          "name": "stdout",
          "text": [
            "Epoch 13: Time=310.17s, Val Loss=0.2691, Val AUROC=0.6456\n"
          ]
        },
        {
          "output_type": "stream",
          "name": "stderr",
          "text": [
            "Epoch 14 (training): 100%|██████████| 484/484 [04:32<00:00,  1.78it/s]\n",
            "Epoch 14 (validation): 100%|██████████| 69/69 [00:37<00:00,  1.83it/s]\n"
          ]
        },
        {
          "output_type": "stream",
          "name": "stdout",
          "text": [
            "Epoch 14: Time=310.77s, Val Loss=0.2643, Val AUROC=0.6488\n"
          ]
        },
        {
          "output_type": "stream",
          "name": "stderr",
          "text": [
            "Epoch 15 (training): 100%|██████████| 484/484 [04:32<00:00,  1.78it/s]\n",
            "Epoch 15 (validation): 100%|██████████| 69/69 [00:37<00:00,  1.86it/s]\n"
          ]
        },
        {
          "output_type": "stream",
          "name": "stdout",
          "text": [
            "Epoch 15: Time=309.22s, Val Loss=0.2662, Val AUROC=0.6431\n"
          ]
        },
        {
          "output_type": "stream",
          "name": "stderr",
          "text": [
            "Epoch 16 (training): 100%|██████████| 484/484 [04:31<00:00,  1.78it/s]\n",
            "Epoch 16 (validation): 100%|██████████| 69/69 [00:36<00:00,  1.87it/s]\n"
          ]
        },
        {
          "output_type": "stream",
          "name": "stdout",
          "text": [
            "Epoch 16: Time=309.34s, Val Loss=0.2649, Val AUROC=0.6517\n"
          ]
        },
        {
          "output_type": "stream",
          "name": "stderr",
          "text": [
            "Epoch 17 (training): 100%|██████████| 484/484 [04:32<00:00,  1.78it/s]\n",
            "Epoch 17 (validation): 100%|██████████| 69/69 [00:36<00:00,  1.87it/s]\n"
          ]
        },
        {
          "output_type": "stream",
          "name": "stdout",
          "text": [
            "Epoch 17: Time=309.78s, Val Loss=0.2635, Val AUROC=0.6642\n"
          ]
        },
        {
          "output_type": "stream",
          "name": "stderr",
          "text": [
            "Epoch 18 (training): 100%|██████████| 484/484 [04:31<00:00,  1.78it/s]\n",
            "Epoch 18 (validation): 100%|██████████| 69/69 [00:37<00:00,  1.84it/s]\n"
          ]
        },
        {
          "output_type": "stream",
          "name": "stdout",
          "text": [
            "Epoch 18: Time=309.44s, Val Loss=0.2653, Val AUROC=0.6409\n"
          ]
        },
        {
          "output_type": "stream",
          "name": "stderr",
          "text": [
            "Epoch 19 (training): 100%|██████████| 484/484 [04:32<00:00,  1.78it/s]\n",
            "Epoch 19 (validation): 100%|██████████| 69/69 [00:37<00:00,  1.83it/s]\n"
          ]
        },
        {
          "output_type": "stream",
          "name": "stdout",
          "text": [
            "Epoch 19: Time=310.90s, Val Loss=0.2635, Val AUROC=0.6678\n"
          ]
        },
        {
          "output_type": "stream",
          "name": "stderr",
          "text": [
            "Epoch 20 (training): 100%|██████████| 484/484 [04:31<00:00,  1.78it/s]\n",
            "Epoch 20 (validation): 100%|██████████| 69/69 [00:37<00:00,  1.82it/s]\n"
          ]
        },
        {
          "output_type": "stream",
          "name": "stdout",
          "text": [
            "Epoch 20: Time=310.08s, Val Loss=0.2589, Val AUROC=0.6799\n"
          ]
        },
        {
          "output_type": "stream",
          "name": "stderr",
          "text": [
            "Epoch 21 (training): 100%|██████████| 484/484 [04:33<00:00,  1.77it/s]\n",
            "Epoch 21 (validation): 100%|██████████| 69/69 [00:37<00:00,  1.83it/s]\n"
          ]
        },
        {
          "output_type": "stream",
          "name": "stdout",
          "text": [
            "Epoch 21: Time=310.85s, Val Loss=0.2646, Val AUROC=0.6602\n"
          ]
        },
        {
          "output_type": "stream",
          "name": "stderr",
          "text": [
            "Epoch 22 (training): 100%|██████████| 484/484 [04:32<00:00,  1.78it/s]\n",
            "Epoch 22 (validation): 100%|██████████| 69/69 [00:37<00:00,  1.84it/s]\n"
          ]
        },
        {
          "output_type": "stream",
          "name": "stdout",
          "text": [
            "Epoch 22: Time=309.62s, Val Loss=0.2651, Val AUROC=0.6453\n"
          ]
        },
        {
          "output_type": "stream",
          "name": "stderr",
          "text": [
            "Epoch 23 (training): 100%|██████████| 484/484 [04:32<00:00,  1.77it/s]\n",
            "Epoch 23 (validation): 100%|██████████| 69/69 [00:37<00:00,  1.86it/s]\n"
          ]
        },
        {
          "output_type": "stream",
          "name": "stdout",
          "text": [
            "Epoch 23: Time=310.31s, Val Loss=0.2577, Val AUROC=0.6816\n"
          ]
        },
        {
          "output_type": "stream",
          "name": "stderr",
          "text": [
            "Epoch 24 (training): 100%|██████████| 484/484 [04:31<00:00,  1.78it/s]\n",
            "Epoch 24 (validation): 100%|██████████| 69/69 [00:37<00:00,  1.85it/s]\n"
          ]
        },
        {
          "output_type": "stream",
          "name": "stdout",
          "text": [
            "Epoch 24: Time=308.90s, Val Loss=0.2603, Val AUROC=0.6720\n"
          ]
        },
        {
          "output_type": "stream",
          "name": "stderr",
          "text": [
            "Epoch 25 (training): 100%|██████████| 484/484 [04:33<00:00,  1.77it/s]\n",
            "Epoch 25 (validation): 100%|██████████| 69/69 [00:37<00:00,  1.86it/s]\n"
          ]
        },
        {
          "output_type": "stream",
          "name": "stdout",
          "text": [
            "Epoch 25: Time=310.29s, Val Loss=0.2575, Val AUROC=0.6635\n"
          ]
        },
        {
          "output_type": "stream",
          "name": "stderr",
          "text": [
            "Epoch 26 (training): 100%|██████████| 484/484 [04:32<00:00,  1.77it/s]\n",
            "Epoch 26 (validation): 100%|██████████| 69/69 [00:37<00:00,  1.83it/s]\n"
          ]
        },
        {
          "output_type": "stream",
          "name": "stdout",
          "text": [
            "Epoch 26: Time=310.44s, Val Loss=0.2583, Val AUROC=0.6761\n"
          ]
        },
        {
          "output_type": "stream",
          "name": "stderr",
          "text": [
            "Epoch 27 (training): 100%|██████████| 484/484 [04:32<00:00,  1.78it/s]\n",
            "Epoch 27 (validation): 100%|██████████| 69/69 [00:37<00:00,  1.84it/s]\n"
          ]
        },
        {
          "output_type": "stream",
          "name": "stdout",
          "text": [
            "Epoch 27: Time=309.77s, Val Loss=0.2558, Val AUROC=0.6765\n"
          ]
        },
        {
          "output_type": "stream",
          "name": "stderr",
          "text": [
            "Epoch 28 (training): 100%|██████████| 484/484 [04:32<00:00,  1.78it/s]\n",
            "Epoch 28 (validation): 100%|██████████| 69/69 [00:37<00:00,  1.82it/s]\n"
          ]
        },
        {
          "output_type": "stream",
          "name": "stdout",
          "text": [
            "Epoch 28: Time=310.71s, Val Loss=0.2545, Val AUROC=0.6876\n"
          ]
        },
        {
          "output_type": "stream",
          "name": "stderr",
          "text": [
            "Epoch 29 (training): 100%|██████████| 484/484 [04:32<00:00,  1.78it/s]\n",
            "Epoch 29 (validation): 100%|██████████| 69/69 [00:37<00:00,  1.85it/s]\n"
          ]
        },
        {
          "output_type": "stream",
          "name": "stdout",
          "text": [
            "Epoch 29: Time=309.62s, Val Loss=0.2557, Val AUROC=0.6812\n"
          ]
        },
        {
          "output_type": "stream",
          "name": "stderr",
          "text": [
            "Epoch 30 (training): 100%|██████████| 484/484 [04:32<00:00,  1.77it/s]\n",
            "Epoch 30 (validation): 100%|██████████| 69/69 [00:37<00:00,  1.86it/s]\n"
          ]
        },
        {
          "output_type": "stream",
          "name": "stdout",
          "text": [
            "Epoch 30: Time=309.88s, Val Loss=0.2532, Val AUROC=0.6779\n"
          ]
        },
        {
          "output_type": "stream",
          "name": "stderr",
          "text": [
            "Epoch 31 (training): 100%|██████████| 484/484 [04:32<00:00,  1.77it/s]\n",
            "Epoch 31 (validation): 100%|██████████| 69/69 [00:37<00:00,  1.83it/s]\n"
          ]
        },
        {
          "output_type": "stream",
          "name": "stdout",
          "text": [
            "Epoch 31: Time=310.43s, Val Loss=0.2525, Val AUROC=0.6822\n"
          ]
        },
        {
          "output_type": "stream",
          "name": "stderr",
          "text": [
            "Epoch 32 (training): 100%|██████████| 484/484 [04:32<00:00,  1.77it/s]\n",
            "Epoch 32 (validation): 100%|██████████| 69/69 [00:37<00:00,  1.83it/s]\n"
          ]
        },
        {
          "output_type": "stream",
          "name": "stdout",
          "text": [
            "Epoch 32: Time=310.88s, Val Loss=0.2501, Val AUROC=0.6926\n"
          ]
        },
        {
          "output_type": "stream",
          "name": "stderr",
          "text": [
            "Epoch 33 (training): 100%|██████████| 484/484 [04:31<00:00,  1.78it/s]\n",
            "Epoch 33 (validation): 100%|██████████| 69/69 [00:37<00:00,  1.85it/s]\n"
          ]
        },
        {
          "output_type": "stream",
          "name": "stdout",
          "text": [
            "Epoch 33: Time=308.98s, Val Loss=0.2518, Val AUROC=0.6877\n"
          ]
        },
        {
          "output_type": "stream",
          "name": "stderr",
          "text": [
            "Epoch 34 (training): 100%|██████████| 484/484 [04:32<00:00,  1.78it/s]\n",
            "Epoch 34 (validation): 100%|██████████| 69/69 [00:37<00:00,  1.85it/s]\n"
          ]
        },
        {
          "output_type": "stream",
          "name": "stdout",
          "text": [
            "Epoch 34: Time=309.43s, Val Loss=0.2501, Val AUROC=0.6866\n"
          ]
        },
        {
          "output_type": "stream",
          "name": "stderr",
          "text": [
            "Epoch 35 (training): 100%|██████████| 484/484 [04:32<00:00,  1.78it/s]\n",
            "Epoch 35 (validation): 100%|██████████| 69/69 [00:37<00:00,  1.84it/s]\n"
          ]
        },
        {
          "output_type": "stream",
          "name": "stdout",
          "text": [
            "Epoch 35: Time=310.16s, Val Loss=0.2507, Val AUROC=0.6973\n"
          ]
        },
        {
          "output_type": "stream",
          "name": "stderr",
          "text": [
            "Epoch 36 (training): 100%|██████████| 484/484 [04:31<00:00,  1.78it/s]\n",
            "Epoch 36 (validation): 100%|██████████| 69/69 [00:37<00:00,  1.84it/s]\n"
          ]
        },
        {
          "output_type": "stream",
          "name": "stdout",
          "text": [
            "Epoch 36: Time=308.66s, Val Loss=0.2557, Val AUROC=0.6840\n"
          ]
        },
        {
          "output_type": "stream",
          "name": "stderr",
          "text": [
            "Epoch 37 (training): 100%|██████████| 484/484 [04:32<00:00,  1.77it/s]\n",
            "Epoch 37 (validation): 100%|██████████| 69/69 [00:37<00:00,  1.84it/s]\n"
          ]
        },
        {
          "output_type": "stream",
          "name": "stdout",
          "text": [
            "Epoch 37: Time=310.21s, Val Loss=0.2492, Val AUROC=0.6949\n"
          ]
        },
        {
          "output_type": "stream",
          "name": "stderr",
          "text": [
            "Epoch 38 (training): 100%|██████████| 484/484 [04:32<00:00,  1.77it/s]\n",
            "Epoch 38 (validation): 100%|██████████| 69/69 [00:37<00:00,  1.84it/s]\n"
          ]
        },
        {
          "output_type": "stream",
          "name": "stdout",
          "text": [
            "Epoch 38: Time=310.29s, Val Loss=0.2478, Val AUROC=0.6872\n"
          ]
        },
        {
          "output_type": "stream",
          "name": "stderr",
          "text": [
            "Epoch 39 (training): 100%|██████████| 484/484 [04:33<00:00,  1.77it/s]\n",
            "Epoch 39 (validation): 100%|██████████| 69/69 [00:37<00:00,  1.82it/s]\n"
          ]
        },
        {
          "output_type": "stream",
          "name": "stdout",
          "text": [
            "Epoch 39: Time=311.22s, Val Loss=0.2510, Val AUROC=0.6851\n"
          ]
        },
        {
          "output_type": "stream",
          "name": "stderr",
          "text": [
            "Epoch 40 (training): 100%|██████████| 484/484 [04:32<00:00,  1.78it/s]\n",
            "Epoch 40 (validation): 100%|██████████| 69/69 [00:37<00:00,  1.84it/s]\n"
          ]
        },
        {
          "output_type": "stream",
          "name": "stdout",
          "text": [
            "Epoch 40: Time=309.91s, Val Loss=0.2518, Val AUROC=0.6948\n"
          ]
        },
        {
          "output_type": "stream",
          "name": "stderr",
          "text": [
            "Epoch 41 (training): 100%|██████████| 484/484 [04:32<00:00,  1.78it/s]\n",
            "Epoch 41 (validation): 100%|██████████| 69/69 [00:37<00:00,  1.83it/s]\n"
          ]
        },
        {
          "output_type": "stream",
          "name": "stdout",
          "text": [
            "Epoch 41: Time=309.79s, Val Loss=0.2484, Val AUROC=0.6917\n"
          ]
        },
        {
          "output_type": "stream",
          "name": "stderr",
          "text": [
            "Epoch 42 (training): 100%|██████████| 484/484 [04:32<00:00,  1.78it/s]\n",
            "Epoch 42 (validation): 100%|██████████| 69/69 [00:37<00:00,  1.84it/s]\n"
          ]
        },
        {
          "output_type": "stream",
          "name": "stdout",
          "text": [
            "Epoch 42: Time=309.74s, Val Loss=0.2501, Val AUROC=0.6882\n"
          ]
        },
        {
          "output_type": "stream",
          "name": "stderr",
          "text": [
            "Epoch 43 (training): 100%|██████████| 484/484 [04:31<00:00,  1.78it/s]\n",
            "Epoch 43 (validation): 100%|██████████| 69/69 [00:37<00:00,  1.82it/s]\n"
          ]
        },
        {
          "output_type": "stream",
          "name": "stdout",
          "text": [
            "Epoch 43: Time=309.21s, Val Loss=0.2502, Val AUROC=0.6910\n"
          ]
        },
        {
          "output_type": "stream",
          "name": "stderr",
          "text": [
            "Epoch 44 (training): 100%|██████████| 484/484 [04:32<00:00,  1.78it/s]\n",
            "Epoch 44 (validation): 100%|██████████| 69/69 [00:37<00:00,  1.83it/s]\n"
          ]
        },
        {
          "output_type": "stream",
          "name": "stdout",
          "text": [
            "Epoch 44: Time=309.93s, Val Loss=0.2506, Val AUROC=0.6834\n"
          ]
        },
        {
          "output_type": "stream",
          "name": "stderr",
          "text": [
            "Epoch 45 (training): 100%|██████████| 484/484 [04:31<00:00,  1.78it/s]\n",
            "Epoch 45 (validation): 100%|██████████| 69/69 [00:38<00:00,  1.82it/s]\n"
          ]
        },
        {
          "output_type": "stream",
          "name": "stdout",
          "text": [
            "Epoch 45: Time=310.03s, Val Loss=0.2482, Val AUROC=0.6954\n"
          ]
        },
        {
          "output_type": "stream",
          "name": "stderr",
          "text": [
            "Epoch 46 (training): 100%|██████████| 484/484 [04:32<00:00,  1.78it/s]\n",
            "Epoch 46 (validation): 100%|██████████| 69/69 [00:38<00:00,  1.80it/s]\n"
          ]
        },
        {
          "output_type": "stream",
          "name": "stdout",
          "text": [
            "Epoch 46: Time=310.75s, Val Loss=0.2471, Val AUROC=0.7003\n"
          ]
        },
        {
          "output_type": "stream",
          "name": "stderr",
          "text": [
            "Epoch 47 (training): 100%|██████████| 484/484 [04:31<00:00,  1.78it/s]\n",
            "Epoch 47 (validation): 100%|██████████| 69/69 [00:37<00:00,  1.83it/s]\n"
          ]
        },
        {
          "output_type": "stream",
          "name": "stdout",
          "text": [
            "Epoch 47: Time=309.96s, Val Loss=0.2484, Val AUROC=0.7065\n"
          ]
        },
        {
          "output_type": "stream",
          "name": "stderr",
          "text": [
            "Epoch 48 (training): 100%|██████████| 484/484 [04:32<00:00,  1.78it/s]\n",
            "Epoch 48 (validation): 100%|██████████| 69/69 [00:37<00:00,  1.84it/s]\n"
          ]
        },
        {
          "output_type": "stream",
          "name": "stdout",
          "text": [
            "Epoch 48: Time=309.70s, Val Loss=0.2481, Val AUROC=0.6940\n"
          ]
        },
        {
          "output_type": "stream",
          "name": "stderr",
          "text": [
            "Epoch 49 (training): 100%|██████████| 484/484 [04:32<00:00,  1.78it/s]\n",
            "Epoch 49 (validation): 100%|██████████| 69/69 [00:37<00:00,  1.86it/s]\n"
          ]
        },
        {
          "output_type": "stream",
          "name": "stdout",
          "text": [
            "Epoch 49: Time=309.60s, Val Loss=0.2454, Val AUROC=0.7042\n"
          ]
        },
        {
          "output_type": "stream",
          "name": "stderr",
          "text": [
            "Epoch 50 (training): 100%|██████████| 484/484 [04:31<00:00,  1.78it/s]\n",
            "Epoch 50 (validation): 100%|██████████| 69/69 [00:37<00:00,  1.82it/s]\n"
          ]
        },
        {
          "output_type": "stream",
          "name": "stdout",
          "text": [
            "Epoch 50: Time=309.87s, Val Loss=0.2489, Val AUROC=0.7015\n"
          ]
        },
        {
          "output_type": "stream",
          "name": "stderr",
          "text": [
            "Epoch 51 (training): 100%|██████████| 484/484 [04:32<00:00,  1.78it/s]\n",
            "Epoch 51 (validation): 100%|██████████| 69/69 [00:37<00:00,  1.85it/s]\n"
          ]
        },
        {
          "output_type": "stream",
          "name": "stdout",
          "text": [
            "Epoch 51: Time=309.61s, Val Loss=0.2479, Val AUROC=0.7055\n"
          ]
        },
        {
          "output_type": "stream",
          "name": "stderr",
          "text": [
            "Epoch 52 (training): 100%|██████████| 484/484 [04:32<00:00,  1.78it/s]\n",
            "Epoch 52 (validation): 100%|██████████| 69/69 [00:37<00:00,  1.85it/s]\n"
          ]
        },
        {
          "output_type": "stream",
          "name": "stdout",
          "text": [
            "Epoch 52: Time=309.75s, Val Loss=0.2454, Val AUROC=0.7053\n"
          ]
        },
        {
          "output_type": "stream",
          "name": "stderr",
          "text": [
            "Epoch 53 (training): 100%|██████████| 484/484 [04:32<00:00,  1.78it/s]\n",
            "Epoch 53 (validation): 100%|██████████| 69/69 [00:37<00:00,  1.85it/s]\n"
          ]
        },
        {
          "output_type": "stream",
          "name": "stdout",
          "text": [
            "Epoch 53: Time=309.63s, Val Loss=0.2458, Val AUROC=0.7014\n"
          ]
        },
        {
          "output_type": "stream",
          "name": "stderr",
          "text": [
            "Epoch 54 (training): 100%|██████████| 484/484 [04:31<00:00,  1.78it/s]\n",
            "Epoch 54 (validation): 100%|██████████| 69/69 [00:37<00:00,  1.86it/s]\n"
          ]
        },
        {
          "output_type": "stream",
          "name": "stdout",
          "text": [
            "Epoch 54: Time=308.78s, Val Loss=0.2477, Val AUROC=0.7027\n"
          ]
        },
        {
          "output_type": "stream",
          "name": "stderr",
          "text": [
            "Epoch 55 (training): 100%|██████████| 484/484 [04:31<00:00,  1.78it/s]\n",
            "Epoch 55 (validation): 100%|██████████| 69/69 [00:37<00:00,  1.82it/s]\n"
          ]
        },
        {
          "output_type": "stream",
          "name": "stdout",
          "text": [
            "Epoch 55: Time=309.39s, Val Loss=0.2477, Val AUROC=0.6976\n"
          ]
        },
        {
          "output_type": "stream",
          "name": "stderr",
          "text": [
            "Epoch 56 (training): 100%|██████████| 484/484 [04:33<00:00,  1.77it/s]\n",
            "Epoch 56 (validation): 100%|██████████| 69/69 [00:37<00:00,  1.84it/s]\n"
          ]
        },
        {
          "output_type": "stream",
          "name": "stdout",
          "text": [
            "Epoch 56: Time=311.14s, Val Loss=0.2468, Val AUROC=0.7068\n"
          ]
        },
        {
          "output_type": "stream",
          "name": "stderr",
          "text": [
            "Epoch 57 (training): 100%|██████████| 484/484 [04:31<00:00,  1.78it/s]\n",
            "Epoch 57 (validation): 100%|██████████| 69/69 [00:37<00:00,  1.85it/s]\n"
          ]
        },
        {
          "output_type": "stream",
          "name": "stdout",
          "text": [
            "Epoch 57: Time=309.61s, Val Loss=0.2478, Val AUROC=0.7078\n"
          ]
        },
        {
          "output_type": "stream",
          "name": "stderr",
          "text": [
            "Epoch 58 (training): 100%|██████████| 484/484 [04:31<00:00,  1.78it/s]\n",
            "Epoch 58 (validation): 100%|██████████| 69/69 [00:37<00:00,  1.86it/s]\n"
          ]
        },
        {
          "output_type": "stream",
          "name": "stdout",
          "text": [
            "Epoch 58: Time=309.51s, Val Loss=0.2455, Val AUROC=0.7130\n"
          ]
        },
        {
          "output_type": "stream",
          "name": "stderr",
          "text": [
            "Epoch 59 (training): 100%|██████████| 484/484 [04:33<00:00,  1.77it/s]\n",
            "Epoch 59 (validation): 100%|██████████| 69/69 [00:37<00:00,  1.85it/s]\n"
          ]
        },
        {
          "output_type": "stream",
          "name": "stdout",
          "text": [
            "Epoch 59: Time=310.29s, Val Loss=0.2429, Val AUROC=0.7068\n"
          ]
        },
        {
          "output_type": "stream",
          "name": "stderr",
          "text": [
            "Epoch 60 (training): 100%|██████████| 484/484 [04:32<00:00,  1.78it/s]\n",
            "Epoch 60 (validation): 100%|██████████| 69/69 [00:37<00:00,  1.84it/s]\n"
          ]
        },
        {
          "output_type": "stream",
          "name": "stdout",
          "text": [
            "Epoch 60: Time=309.53s, Val Loss=0.2441, Val AUROC=0.7108\n"
          ]
        },
        {
          "output_type": "stream",
          "name": "stderr",
          "text": [
            "Epoch 61 (training): 100%|██████████| 484/484 [04:31<00:00,  1.78it/s]\n",
            "Epoch 61 (validation): 100%|██████████| 69/69 [00:37<00:00,  1.85it/s]\n"
          ]
        },
        {
          "output_type": "stream",
          "name": "stdout",
          "text": [
            "Epoch 61: Time=308.92s, Val Loss=0.2441, Val AUROC=0.7084\n"
          ]
        },
        {
          "output_type": "stream",
          "name": "stderr",
          "text": [
            "Epoch 62 (training): 100%|██████████| 484/484 [04:32<00:00,  1.78it/s]\n",
            "Epoch 62 (validation): 100%|██████████| 69/69 [00:38<00:00,  1.81it/s]\n"
          ]
        },
        {
          "output_type": "stream",
          "name": "stdout",
          "text": [
            "Epoch 62: Time=310.59s, Val Loss=0.2471, Val AUROC=0.7026\n"
          ]
        },
        {
          "output_type": "stream",
          "name": "stderr",
          "text": [
            "Epoch 63 (training): 100%|██████████| 484/484 [04:32<00:00,  1.78it/s]\n",
            "Epoch 63 (validation): 100%|██████████| 69/69 [00:37<00:00,  1.84it/s]\n"
          ]
        },
        {
          "output_type": "stream",
          "name": "stdout",
          "text": [
            "Epoch 63: Time=309.67s, Val Loss=0.2455, Val AUROC=0.7034\n"
          ]
        },
        {
          "output_type": "stream",
          "name": "stderr",
          "text": [
            "Epoch 64 (training): 100%|██████████| 484/484 [04:31<00:00,  1.78it/s]\n",
            "Epoch 64 (validation): 100%|██████████| 69/69 [00:37<00:00,  1.84it/s]\n"
          ]
        },
        {
          "output_type": "stream",
          "name": "stdout",
          "text": [
            "Epoch 64: Time=309.16s, Val Loss=0.2432, Val AUROC=0.7085\n"
          ]
        },
        {
          "output_type": "stream",
          "name": "stderr",
          "text": [
            "Epoch 65 (training): 100%|██████████| 484/484 [04:32<00:00,  1.78it/s]\n",
            "Epoch 65 (validation): 100%|██████████| 69/69 [00:37<00:00,  1.85it/s]\n"
          ]
        },
        {
          "output_type": "stream",
          "name": "stdout",
          "text": [
            "Epoch 65: Time=309.57s, Val Loss=0.2449, Val AUROC=0.7121\n"
          ]
        },
        {
          "output_type": "stream",
          "name": "stderr",
          "text": [
            "Epoch 66 (training): 100%|██████████| 484/484 [04:30<00:00,  1.79it/s]\n",
            "Epoch 66 (validation): 100%|██████████| 69/69 [00:37<00:00,  1.85it/s]\n"
          ]
        },
        {
          "output_type": "stream",
          "name": "stdout",
          "text": [
            "Epoch 66: Time=307.79s, Val Loss=0.2441, Val AUROC=0.7057\n"
          ]
        },
        {
          "output_type": "stream",
          "name": "stderr",
          "text": [
            "Epoch 67 (training): 100%|██████████| 484/484 [04:32<00:00,  1.78it/s]\n",
            "Epoch 67 (validation): 100%|██████████| 69/69 [00:37<00:00,  1.84it/s]\n"
          ]
        },
        {
          "output_type": "stream",
          "name": "stdout",
          "text": [
            "Epoch 67: Time=309.70s, Val Loss=0.2470, Val AUROC=0.6944\n"
          ]
        },
        {
          "output_type": "stream",
          "name": "stderr",
          "text": [
            "Epoch 68 (training): 100%|██████████| 484/484 [04:32<00:00,  1.78it/s]\n",
            "Epoch 68 (validation): 100%|██████████| 69/69 [00:37<00:00,  1.85it/s]\n"
          ]
        },
        {
          "output_type": "stream",
          "name": "stdout",
          "text": [
            "Epoch 68: Time=309.46s, Val Loss=0.2484, Val AUROC=0.6874\n"
          ]
        },
        {
          "output_type": "stream",
          "name": "stderr",
          "text": [
            "Epoch 69 (training): 100%|██████████| 484/484 [04:31<00:00,  1.78it/s]\n",
            "Epoch 69 (validation): 100%|██████████| 69/69 [00:37<00:00,  1.85it/s]\n"
          ]
        },
        {
          "output_type": "stream",
          "name": "stdout",
          "text": [
            "Epoch 69: Time=309.35s, Val Loss=0.2428, Val AUROC=0.7196\n"
          ]
        },
        {
          "output_type": "stream",
          "name": "stderr",
          "text": [
            "Epoch 70 (training): 100%|██████████| 484/484 [04:31<00:00,  1.78it/s]\n",
            "Epoch 70 (validation): 100%|██████████| 69/69 [00:37<00:00,  1.85it/s]\n"
          ]
        },
        {
          "output_type": "stream",
          "name": "stdout",
          "text": [
            "Epoch 70: Time=309.16s, Val Loss=0.2464, Val AUROC=0.6967\n"
          ]
        },
        {
          "output_type": "stream",
          "name": "stderr",
          "text": [
            "Epoch 71 (training): 100%|██████████| 484/484 [04:31<00:00,  1.78it/s]\n",
            "Epoch 71 (validation): 100%|██████████| 69/69 [00:38<00:00,  1.81it/s]\n"
          ]
        },
        {
          "output_type": "stream",
          "name": "stdout",
          "text": [
            "Epoch 71: Time=309.70s, Val Loss=0.2480, Val AUROC=0.7051\n"
          ]
        },
        {
          "output_type": "stream",
          "name": "stderr",
          "text": [
            "Epoch 72 (training): 100%|██████████| 484/484 [04:32<00:00,  1.78it/s]\n",
            "Epoch 72 (validation): 100%|██████████| 69/69 [00:37<00:00,  1.83it/s]\n"
          ]
        },
        {
          "output_type": "stream",
          "name": "stdout",
          "text": [
            "Epoch 72: Time=309.87s, Val Loss=0.2510, Val AUROC=0.6929\n"
          ]
        },
        {
          "output_type": "stream",
          "name": "stderr",
          "text": [
            "Epoch 73 (training): 100%|██████████| 484/484 [04:32<00:00,  1.78it/s]\n",
            "Epoch 73 (validation): 100%|██████████| 69/69 [00:36<00:00,  1.89it/s]\n"
          ]
        },
        {
          "output_type": "stream",
          "name": "stdout",
          "text": [
            "Epoch 73: Time=309.18s, Val Loss=0.2446, Val AUROC=0.7060\n"
          ]
        },
        {
          "output_type": "stream",
          "name": "stderr",
          "text": [
            "Epoch 74 (training): 100%|██████████| 484/484 [04:32<00:00,  1.78it/s]\n",
            "Epoch 74 (validation): 100%|██████████| 69/69 [00:37<00:00,  1.86it/s]\n"
          ]
        },
        {
          "output_type": "stream",
          "name": "stdout",
          "text": [
            "Epoch 74: Time=309.27s, Val Loss=0.2481, Val AUROC=0.7092\n"
          ]
        },
        {
          "output_type": "stream",
          "name": "stderr",
          "text": [
            "Epoch 75 (training): 100%|██████████| 484/484 [04:32<00:00,  1.77it/s]\n",
            "Epoch 75 (validation): 100%|██████████| 69/69 [00:37<00:00,  1.85it/s]\n"
          ]
        },
        {
          "output_type": "stream",
          "name": "stdout",
          "text": [
            "Epoch 75: Time=310.02s, Val Loss=0.2427, Val AUROC=0.7156\n"
          ]
        },
        {
          "output_type": "stream",
          "name": "stderr",
          "text": [
            "Epoch 76 (training): 100%|██████████| 484/484 [04:32<00:00,  1.77it/s]\n",
            "Epoch 76 (validation): 100%|██████████| 69/69 [00:37<00:00,  1.82it/s]\n"
          ]
        },
        {
          "output_type": "stream",
          "name": "stdout",
          "text": [
            "Epoch 76: Time=310.88s, Val Loss=0.2455, Val AUROC=0.7121\n"
          ]
        },
        {
          "output_type": "stream",
          "name": "stderr",
          "text": [
            "Epoch 77 (training): 100%|██████████| 484/484 [04:32<00:00,  1.78it/s]\n",
            "Epoch 77 (validation): 100%|██████████| 69/69 [00:37<00:00,  1.85it/s]\n"
          ]
        },
        {
          "output_type": "stream",
          "name": "stdout",
          "text": [
            "Epoch 77: Time=309.99s, Val Loss=0.2417, Val AUROC=0.7159\n"
          ]
        },
        {
          "output_type": "stream",
          "name": "stderr",
          "text": [
            "Epoch 78 (training): 100%|██████████| 484/484 [04:31<00:00,  1.78it/s]\n",
            "Epoch 78 (validation): 100%|██████████| 69/69 [00:37<00:00,  1.83it/s]\n"
          ]
        },
        {
          "output_type": "stream",
          "name": "stdout",
          "text": [
            "Epoch 78: Time=309.02s, Val Loss=0.2430, Val AUROC=0.7140\n"
          ]
        },
        {
          "output_type": "stream",
          "name": "stderr",
          "text": [
            "Epoch 79 (training): 100%|██████████| 484/484 [04:32<00:00,  1.78it/s]\n",
            "Epoch 79 (validation): 100%|██████████| 69/69 [00:37<00:00,  1.82it/s]\n"
          ]
        },
        {
          "output_type": "stream",
          "name": "stdout",
          "text": [
            "Epoch 79: Time=310.09s, Val Loss=0.2454, Val AUROC=0.7148\n"
          ]
        },
        {
          "output_type": "stream",
          "name": "stderr",
          "text": [
            "Epoch 80 (training): 100%|██████████| 484/484 [04:32<00:00,  1.78it/s]\n",
            "Epoch 80 (validation): 100%|██████████| 69/69 [00:37<00:00,  1.85it/s]\n"
          ]
        },
        {
          "output_type": "stream",
          "name": "stdout",
          "text": [
            "Epoch 80: Time=309.37s, Val Loss=0.2459, Val AUROC=0.6991\n"
          ]
        },
        {
          "output_type": "stream",
          "name": "stderr",
          "text": [
            "Epoch 81 (training): 100%|██████████| 484/484 [04:31<00:00,  1.78it/s]\n",
            "Epoch 81 (validation): 100%|██████████| 69/69 [00:38<00:00,  1.81it/s]\n"
          ]
        },
        {
          "output_type": "stream",
          "name": "stdout",
          "text": [
            "Epoch 81: Time=309.74s, Val Loss=0.2422, Val AUROC=0.7180\n"
          ]
        },
        {
          "output_type": "stream",
          "name": "stderr",
          "text": [
            "Epoch 82 (training): 100%|██████████| 484/484 [04:31<00:00,  1.78it/s]\n",
            "Epoch 82 (validation): 100%|██████████| 69/69 [00:37<00:00,  1.84it/s]\n"
          ]
        },
        {
          "output_type": "stream",
          "name": "stdout",
          "text": [
            "Epoch 82: Time=309.47s, Val Loss=0.2457, Val AUROC=0.7075\n"
          ]
        },
        {
          "output_type": "stream",
          "name": "stderr",
          "text": [
            "Epoch 83 (training): 100%|██████████| 484/484 [04:32<00:00,  1.77it/s]\n",
            "Epoch 83 (validation): 100%|██████████| 69/69 [00:37<00:00,  1.82it/s]\n"
          ]
        },
        {
          "output_type": "stream",
          "name": "stdout",
          "text": [
            "Epoch 83: Time=310.68s, Val Loss=0.2447, Val AUROC=0.7084\n"
          ]
        },
        {
          "output_type": "stream",
          "name": "stderr",
          "text": [
            "Epoch 84 (training): 100%|██████████| 484/484 [04:32<00:00,  1.78it/s]\n",
            "Epoch 84 (validation): 100%|██████████| 69/69 [00:37<00:00,  1.86it/s]\n"
          ]
        },
        {
          "output_type": "stream",
          "name": "stdout",
          "text": [
            "Epoch 84: Time=309.33s, Val Loss=0.2417, Val AUROC=0.7180\n"
          ]
        },
        {
          "output_type": "stream",
          "name": "stderr",
          "text": [
            "Epoch 85 (training): 100%|██████████| 484/484 [04:31<00:00,  1.78it/s]\n",
            "Epoch 85 (validation): 100%|██████████| 69/69 [00:37<00:00,  1.84it/s]\n"
          ]
        },
        {
          "output_type": "stream",
          "name": "stdout",
          "text": [
            "Epoch 85: Time=309.30s, Val Loss=0.2429, Val AUROC=0.7216\n"
          ]
        },
        {
          "output_type": "stream",
          "name": "stderr",
          "text": [
            "Epoch 86 (training): 100%|██████████| 484/484 [04:31<00:00,  1.78it/s]\n",
            "Epoch 86 (validation): 100%|██████████| 69/69 [00:37<00:00,  1.82it/s]\n"
          ]
        },
        {
          "output_type": "stream",
          "name": "stdout",
          "text": [
            "Epoch 86: Time=309.73s, Val Loss=0.2425, Val AUROC=0.7202\n"
          ]
        },
        {
          "output_type": "stream",
          "name": "stderr",
          "text": [
            "Epoch 87 (training): 100%|██████████| 484/484 [04:32<00:00,  1.77it/s]\n",
            "Epoch 87 (validation): 100%|██████████| 69/69 [00:37<00:00,  1.83it/s]\n"
          ]
        },
        {
          "output_type": "stream",
          "name": "stdout",
          "text": [
            "Epoch 87: Time=310.45s, Val Loss=0.2443, Val AUROC=0.7196\n"
          ]
        },
        {
          "output_type": "stream",
          "name": "stderr",
          "text": [
            "Epoch 88 (training): 100%|██████████| 484/484 [04:31<00:00,  1.78it/s]\n",
            "Epoch 88 (validation): 100%|██████████| 69/69 [00:37<00:00,  1.86it/s]\n"
          ]
        },
        {
          "output_type": "stream",
          "name": "stdout",
          "text": [
            "Epoch 88: Time=308.52s, Val Loss=0.2433, Val AUROC=0.7156\n"
          ]
        },
        {
          "output_type": "stream",
          "name": "stderr",
          "text": [
            "Epoch 89 (training): 100%|██████████| 484/484 [04:32<00:00,  1.78it/s]\n",
            "Epoch 89 (validation): 100%|██████████| 69/69 [00:37<00:00,  1.83it/s]\n"
          ]
        },
        {
          "output_type": "stream",
          "name": "stdout",
          "text": [
            "Epoch 89: Time=309.84s, Val Loss=0.2395, Val AUROC=0.7200\n"
          ]
        },
        {
          "output_type": "stream",
          "name": "stderr",
          "text": [
            "Epoch 90 (training): 100%|██████████| 484/484 [04:36<00:00,  1.75it/s]\n",
            "Epoch 90 (validation): 100%|██████████| 69/69 [00:37<00:00,  1.84it/s]\n"
          ]
        },
        {
          "output_type": "stream",
          "name": "stdout",
          "text": [
            "Epoch 90: Time=313.83s, Val Loss=0.2392, Val AUROC=0.7205\n"
          ]
        },
        {
          "output_type": "stream",
          "name": "stderr",
          "text": [
            "Epoch 91 (training): 100%|██████████| 484/484 [04:31<00:00,  1.78it/s]\n",
            "Epoch 91 (validation): 100%|██████████| 69/69 [00:37<00:00,  1.82it/s]\n"
          ]
        },
        {
          "output_type": "stream",
          "name": "stdout",
          "text": [
            "Epoch 91: Time=309.55s, Val Loss=0.2389, Val AUROC=0.7212\n"
          ]
        },
        {
          "output_type": "stream",
          "name": "stderr",
          "text": [
            "Epoch 92 (training): 100%|██████████| 484/484 [04:31<00:00,  1.78it/s]\n",
            "Epoch 92 (validation): 100%|██████████| 69/69 [00:37<00:00,  1.86it/s]\n"
          ]
        },
        {
          "output_type": "stream",
          "name": "stdout",
          "text": [
            "Epoch 92: Time=309.10s, Val Loss=0.2387, Val AUROC=0.7220\n"
          ]
        },
        {
          "output_type": "stream",
          "name": "stderr",
          "text": [
            "Epoch 93 (training): 100%|██████████| 484/484 [04:32<00:00,  1.78it/s]\n",
            "Epoch 93 (validation): 100%|██████████| 69/69 [00:37<00:00,  1.84it/s]\n"
          ]
        },
        {
          "output_type": "stream",
          "name": "stdout",
          "text": [
            "Epoch 93: Time=310.60s, Val Loss=0.2386, Val AUROC=0.7233\n"
          ]
        },
        {
          "output_type": "stream",
          "name": "stderr",
          "text": [
            "Epoch 94 (training): 100%|██████████| 484/484 [04:31<00:00,  1.78it/s]\n",
            "Epoch 94 (validation): 100%|██████████| 69/69 [00:37<00:00,  1.84it/s]\n"
          ]
        },
        {
          "output_type": "stream",
          "name": "stdout",
          "text": [
            "Epoch 94: Time=308.78s, Val Loss=0.2386, Val AUROC=0.7230\n"
          ]
        },
        {
          "output_type": "stream",
          "name": "stderr",
          "text": [
            "Epoch 95 (training): 100%|██████████| 484/484 [04:30<00:00,  1.79it/s]\n",
            "Epoch 95 (validation): 100%|██████████| 69/69 [00:37<00:00,  1.85it/s]\n"
          ]
        },
        {
          "output_type": "stream",
          "name": "stdout",
          "text": [
            "Epoch 95: Time=307.72s, Val Loss=0.2386, Val AUROC=0.7229\n"
          ]
        },
        {
          "output_type": "stream",
          "name": "stderr",
          "text": [
            "Epoch 96 (training): 100%|██████████| 484/484 [04:31<00:00,  1.78it/s]\n",
            "Epoch 96 (validation): 100%|██████████| 69/69 [00:37<00:00,  1.84it/s]\n"
          ]
        },
        {
          "output_type": "stream",
          "name": "stdout",
          "text": [
            "Epoch 96: Time=309.18s, Val Loss=0.2384, Val AUROC=0.7229\n"
          ]
        },
        {
          "output_type": "stream",
          "name": "stderr",
          "text": [
            "Epoch 97 (training): 100%|██████████| 484/484 [04:31<00:00,  1.78it/s]\n",
            "Epoch 97 (validation): 100%|██████████| 69/69 [00:37<00:00,  1.86it/s]\n"
          ]
        },
        {
          "output_type": "stream",
          "name": "stdout",
          "text": [
            "Epoch 97: Time=309.30s, Val Loss=0.2385, Val AUROC=0.7234\n"
          ]
        },
        {
          "output_type": "stream",
          "name": "stderr",
          "text": [
            "Epoch 98 (training): 100%|██████████| 484/484 [04:31<00:00,  1.79it/s]\n",
            "Epoch 98 (validation): 100%|██████████| 69/69 [00:37<00:00,  1.84it/s]\n"
          ]
        },
        {
          "output_type": "stream",
          "name": "stdout",
          "text": [
            "Epoch 98: Time=308.67s, Val Loss=0.2384, Val AUROC=0.7231\n"
          ]
        },
        {
          "output_type": "stream",
          "name": "stderr",
          "text": [
            "Epoch 99 (training): 100%|██████████| 484/484 [04:32<00:00,  1.78it/s]\n",
            "Epoch 99 (validation): 100%|██████████| 69/69 [00:37<00:00,  1.86it/s]\n"
          ]
        },
        {
          "output_type": "stream",
          "name": "stdout",
          "text": [
            "Epoch 99: Time=309.63s, Val Loss=0.2387, Val AUROC=0.7224\n"
          ]
        },
        {
          "output_type": "stream",
          "name": "stderr",
          "text": [
            "Epoch 100 (training): 100%|██████████| 484/484 [04:30<00:00,  1.79it/s]\n",
            "Epoch 100 (validation): 100%|██████████| 69/69 [00:37<00:00,  1.84it/s]\n"
          ]
        },
        {
          "output_type": "stream",
          "name": "stdout",
          "text": [
            "Epoch 100: Time=308.92s, Val Loss=0.2383, Val AUROC=0.7235\n"
          ]
        }
      ]
    },
    {
      "cell_type": "markdown",
      "source": [
        "## Evaluation"
      ],
      "metadata": {
        "id": "x89hnxU-cWGG"
      }
    },
    {
      "cell_type": "code",
      "source": [
        "gc.collect()\n",
        "torch.cuda.empty_cache()\n",
        "\n",
        "checkpoint = torch.load(checkpoint_path, weights_only=False)\n",
        "model.load_state_dict(checkpoint['model_state'])\n",
        "\n",
        "model.eval()\n",
        "model.to(device)\n",
        "\n",
        "all_preds = []\n",
        "all_labels = []\n",
        "\n",
        "with torch.no_grad():\n",
        "    for images, labels in tqdm.tqdm(test_loader, desc=\"Testing\"):\n",
        "        images = images.to(device)\n",
        "        labels = labels.to(device).float()\n",
        "        preds, _ = model(images, labels)\n",
        "        all_preds.append(preds.cpu())\n",
        "        all_labels.append(labels.cpu())\n",
        "\n",
        "all_preds = torch.cat(all_preds)\n",
        "all_labels = torch.cat(all_labels)\n",
        "\n",
        "auroc_per_class = []\n",
        "for i in range(14):\n",
        "    auroc = roc_auc_score(all_labels[:, i], all_preds[:, i])\n",
        "    auroc_per_class.append(auroc)"
      ],
      "metadata": {
        "id": "xFUZsa4mcYgY",
        "colab": {
          "base_uri": "https://localhost:8080/"
        },
        "outputId": "b3b8c00c-b00d-4d8f-daa3-28dda5fc475f"
      },
      "execution_count": 12,
      "outputs": [
        {
          "output_type": "stream",
          "name": "stderr",
          "text": [
            "Testing: 100%|██████████| 165/165 [01:30<00:00,  1.81it/s]\n"
          ]
        }
      ]
    },
    {
      "cell_type": "markdown",
      "source": [
        "## Results"
      ],
      "metadata": {
        "id": "kMdzScKScZAd"
      }
    },
    {
      "cell_type": "code",
      "source": [
        "# Credit: https://github.com/nyuad-cai/CXR-ML-GZSL/blob/master/images/results2.png\n",
        "\n",
        "results = {\n",
        "    \"Original Paper\": {\n",
        "        \"Seen Mean\":          0.79,\n",
        "        \"Atelectasis\":        0.76,\n",
        "        \"Cardiomegaly\":       0.90,\n",
        "        \"Effusion\":           0.83,\n",
        "        \"Infiltration\":       0.70,\n",
        "        \"Mass\":               0.80,\n",
        "        \"Nodule\":             0.75,\n",
        "        \"Pneumothorax\":       0.83,\n",
        "        \"Consolidation\":      0.69,\n",
        "        \"Pleural Thickening\": 0.72,\n",
        "        \"Hernia\":             0.90,\n",
        "        \"Unseen Mean\":        0.66,\n",
        "        \"Pneumonia\":          0.62,\n",
        "        \"Edema\":              0.67,\n",
        "        \"Emphysema\":          0.74,\n",
        "        \"Fibrosis\":           0.60\n",
        "    }\n",
        "}\n",
        "\n",
        "results[\"Reproduced (best AUROC)\"] = {\n",
        "        \"Seen Mean\":          mean(auroc_per_class[:10]),\n",
        "        \"Atelectasis\":        auroc_per_class[0],\n",
        "        \"Cardiomegaly\":       auroc_per_class[1],\n",
        "        \"Effusion\":           auroc_per_class[2],\n",
        "        \"Infiltration\":       auroc_per_class[3],\n",
        "        \"Mass\":               auroc_per_class[4],\n",
        "        \"Nodule\":             auroc_per_class[5],\n",
        "        \"Pneumothorax\":       auroc_per_class[6],\n",
        "        \"Consolidation\":      auroc_per_class[7],\n",
        "        \"Pleural Thickening\": auroc_per_class[8],\n",
        "        \"Hernia\":             auroc_per_class[9],\n",
        "        \"Unseen Mean\":        mean(auroc_per_class[10:]),\n",
        "        \"Pneumonia\":          auroc_per_class[10],\n",
        "        \"Edema\":              auroc_per_class[11],\n",
        "        \"Emphysema\":          auroc_per_class[12],\n",
        "        \"Fibrosis\":           auroc_per_class[13]\n",
        "}\n",
        "\n",
        "df = pd.DataFrame(results).T.round(2)\n",
        "\n",
        "fig, ax = plt.subplots()\n",
        "ax.axis('off')\n",
        "\n",
        "tbl = table(ax, df, loc='center', colWidths=[ 0.02 * (len(col)+2) for col in df.columns.tolist() ])\n",
        "tbl.auto_set_font_size(False)\n",
        "tbl.set_fontsize(12)\n",
        "tbl.scale(1.2, 2)\n",
        "\n",
        "plt.show()"
      ],
      "metadata": {
        "id": "jKmO6PLKcaan",
        "colab": {
          "base_uri": "https://localhost:8080/",
          "height": 283
        },
        "outputId": "f87b7647-0096-4ed4-cfc5-4e478be26a3b"
      },
      "execution_count": 13,
      "outputs": [
        {
          "output_type": "display_data",
          "data": {
            "text/plain": [
              "<Figure size 640x480 with 1 Axes>"
            ],
            "image/png": "[encoded data removed]"
          },
          "metadata": {}
        }
      ]
    }
  ]
}