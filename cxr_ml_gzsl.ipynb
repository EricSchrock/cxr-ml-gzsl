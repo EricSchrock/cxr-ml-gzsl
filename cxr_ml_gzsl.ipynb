{
  "nbformat": 4,
  "nbformat_minor": 0,
  "metadata": {
    "colab": {
      "provenance": [],
      "machine_shape": "hm"
    },
    "kernelspec": {
      "name": "python3",
      "display_name": "Python 3"
    },
    "language_info": {
      "name": "python"
    }
  },
  "cells": [
    {
      "cell_type": "markdown",
      "source": [
        "# CXR-ML-GZSL"
      ],
      "metadata": {
        "id": "6bKRAGBpLskG"
      }
    },
    {
      "cell_type": "markdown",
      "source": [
        "## Overview\n",
        "\n",
        "The goal of this notebook is to reproduce the findings of the paper, \"Multi-Label Generalized Zero Shot Learning for the Classification of Disease in Chest Radiographs\" with the help of an LLM. The paper provides code, which was a valuable reference during the development of this notebook.\n",
        "\n",
        "* Paper: https://arxiv.org/abs/2107.06563\n",
        "* Code: https://github.com/nyuad-cai/CXR-ML-GZSL\n",
        "\n",
        "This notebook reuses the dataset training, validation, and test split provided by the original paper, as well as the pre-generated BioBERT text embeddings of the class names.\n",
        "\n",
        "* Dataset split: https://github.com/nyuad-cai/CXR-ML-GZSL/tree/master/dataset_splits\n",
        "* Class embeddings: https://github.com/nyuad-cai/CXR-ML-GZSL/blob/master/embeddings/nih_chest_xray_biobert.npy\n",
        "\n",
        "The paper uses a dataset, initially known as `ChestX-ray8`, but then renamed to `ChestX-ray14` when the dataset was expanded from eight to fourteen distinct disease labels. The dataset contains 112120 labeled chest X-rays.\n",
        "\n",
        "* Dataset paper: https://arxiv.org/abs/1705.02315\n",
        "* Dataset: https://nihcc.app.box.com/v/ChestXray-NIHCC/folder/36938765345\n",
        "\n",
        "The dataset provides an example of how to download the chext X-ray images and a spreadsheet mapping images to classification labels. However, the \"dataset split\" files already contain the image classification labels so this notebook does not use the spreadsheet.\n",
        "\n",
        "* Download script: https://nihcc.app.box.com/v/ChestXray-NIHCC/file/371647823217\n",
        "* Labels: https://nihcc.app.box.com/v/ChestXray-NIHCC/file/219760887468\n",
        "\n",
        "**Note**: The dataset is ~42 GB. Expect significant download times."
      ],
      "metadata": {
        "id": "ijYrSzRsLDkQ"
      }
    },
    {
      "cell_type": "markdown",
      "source": [
        "## Environment"
      ],
      "metadata": {
        "id": "ig7PMke4LVnl"
      }
    },
    {
      "cell_type": "code",
      "source": [
        "!if command -v nvidia-smi &> /dev/null; then nvidia-smi --query-gpu=name --format=csv,noheader; else echo 'No NVIDIA GPU detected'; fi\n",
        "!python --version"
      ],
      "metadata": {
        "colab": {
          "base_uri": "https://localhost:8080/"
        },
        "id": "hnctIu-gLZp5",
        "outputId": "74a2e68b-e30b-427d-a3b6-96d83dc22ef5"
      },
      "execution_count": 1,
      "outputs": [
        {
          "output_type": "stream",
          "name": "stdout",
          "text": [
            "No NVIDIA GPU detected\n",
            "Python 3.11.12\n"
          ]
        }
      ]
    },
    {
      "cell_type": "code",
      "source": [
        "import multiprocessing\n",
        "import os\n",
        "import requests\n",
        "import tarfile\n",
        "import urllib.request\n",
        "\n",
        "import numpy as np\n",
        "\n",
        "print(f\"numpy: {np.__version__}\")\n",
        "\n",
        "import PIL\n",
        "from PIL import Image\n",
        "\n",
        "print(f\"PIL: {PIL.__version__}\")\n",
        "\n",
        "import torch\n",
        "from torch.utils.data import DataLoader, Dataset\n",
        "\n",
        "print(f\"torch: {torch.__version__}\")\n",
        "\n",
        "import torchvision\n",
        "import torchvision.transforms as transforms\n",
        "\n",
        "print(f\"torchvision: {torchvision.__version__}\")"
      ],
      "metadata": {
        "colab": {
          "base_uri": "https://localhost:8080/"
        },
        "id": "0x5zopuELPXB",
        "outputId": "9ff32deb-39d5-46d2-d0d2-c3cb5f47d660"
      },
      "execution_count": 2,
      "outputs": [
        {
          "output_type": "stream",
          "name": "stdout",
          "text": [
            "numpy: 2.0.2\n",
            "PIL: 11.1.0\n",
            "torch: 2.6.0+cu124\n",
            "torchvision: 0.21.0+cu124\n"
          ]
        }
      ]
    },
    {
      "cell_type": "markdown",
      "source": [
        "## Download"
      ],
      "metadata": {
        "id": "2Gwu5wJDLaJq"
      }
    },
    {
      "cell_type": "code",
      "source": [
        "for filename in [\"train.txt\", \"val.txt\", \"test.txt\"]:\n",
        "    response = requests.get(f\"https://raw.githubusercontent.com/nyuad-cai/CXR-ML-GZSL/master/dataset_splits/{filename}\")\n",
        "\n",
        "    with open(filename, \"w\") as f:\n",
        "        f.write(response.text)\n",
        "\n",
        "    print(f\"Downloaded: {filename}\")"
      ],
      "metadata": {
        "colab": {
          "base_uri": "https://localhost:8080/"
        },
        "id": "oIC65QJdLeEb",
        "outputId": "8405bdbc-dd92-4b1a-9117-a3b1287ce034"
      },
      "execution_count": 3,
      "outputs": [
        {
          "output_type": "stream",
          "name": "stdout",
          "text": [
            "Downloaded: train.txt\n",
            "Downloaded: val.txt\n",
            "Downloaded: test.txt\n"
          ]
        }
      ]
    },
    {
      "cell_type": "code",
      "source": [
        "CLASS_EMBEDDINGS = \"nih_chest_xray_biobert.npy\"\n",
        "\n",
        "response = requests.get(f\"https://raw.githubusercontent.com/nyuad-cai/CXR-ML-GZSL/master/embeddings/{CLASS_EMBEDDINGS}\")\n",
        "\n",
        "with open(CLASS_EMBEDDINGS, \"wb\") as f:\n",
        "    f.write(response.content)\n",
        "\n",
        "print(f\"Downloaded: {CLASS_EMBEDDINGS}\")\n",
        "\n",
        "class_embeddings = np.load(CLASS_EMBEDDINGS)"
      ],
      "metadata": {
        "colab": {
          "base_uri": "https://localhost:8080/"
        },
        "id": "hF2Og6YENJN3",
        "outputId": "57185315-5200-409c-873a-300d3416ff17"
      },
      "execution_count": 4,
      "outputs": [
        {
          "output_type": "stream",
          "name": "stdout",
          "text": [
            "Downloaded: nih_chest_xray_biobert.npy\n"
          ]
        }
      ]
    },
    {
      "cell_type": "code",
      "source": [
        "# dataset = [\n",
        "#     {\"filename\": \"images_001.tar.gz\", \"url\": \"https://nihcc.box.com/shared/static/vfk49d74nhbxq3nqjg0900w5nvkorp5c.gz\"} #todo: Add the rest of the dataset\n",
        "# ]\n",
        "\n",
        "dataset = [\n",
        "    {\"filename\": \"images_001.tar.gz\", \"url\": \"https://nihcc.box.com/shared/static/vfk49d74nhbxq3nqjg0900w5nvkorp5c.gz\"},\n",
        "    {\"filename\": \"images_002.tar.gz\", \"url\": \"https://nihcc.box.com/shared/static/i28rlmbvmfjbl8p2n3ril0pptcmcu9d1.gz\"},\n",
        "    {\"filename\": \"images_003.tar.gz\", \"url\": \"https://nihcc.box.com/shared/static/f1t00wrtdk94satdfb9olcolqx20z2jp.gz\"},\n",
        "    {\"filename\": \"images_004.tar.gz\", \"url\": \"https://nihcc.box.com/shared/static/0aowwzs5lhjrceb3qp67ahp0rd1l1etg.gz\"},\n",
        "    {\"filename\": \"images_005.tar.gz\", \"url\": \"https://nihcc.box.com/shared/static/v5e3goj22zr6h8tzualxfsqlqaygfbsn.gz\"},\n",
        "    {\"filename\": \"images_006.tar.gz\", \"url\": \"https://nihcc.box.com/shared/static/asi7ikud9jwnkrnkj99jnpfkjdes7l6l.gz\"},\n",
        "    {\"filename\": \"images_007.tar.gz\", \"url\": \"https://nihcc.box.com/shared/static/jn1b4mw4n6lnh74ovmcjb8y48h8xj07n.gz\"},\n",
        "    {\"filename\": \"images_008.tar.gz\", \"url\": \"https://nihcc.box.com/shared/static/tvpxmn7qyrgl0w8wfh9kqfjskv6nmm1j.gz\"},\n",
        "    {\"filename\": \"images_009.tar.gz\", \"url\": \"https://nihcc.box.com/shared/static/upyy3ml7qdumlgk2rfcvlb9k6gvqq2pj.gz\"},\n",
        "    {\"filename\": \"images_010.tar.gz\", \"url\": \"https://nihcc.box.com/shared/static/l6nilvfa9cg3s28tqv1qc1olm3gnz54p.gz\"},\n",
        "    {\"filename\": \"images_011.tar.gz\", \"url\": \"https://nihcc.box.com/shared/static/hhq8fkdgvcari67vfhs7ppg2w6ni4jze.gz\"},\n",
        "    {\"filename\": \"images_012.tar.gz\", \"url\": \"https://nihcc.box.com/shared/static/ioqwiy20ihqwyr8pf4c24eazhh281pbu.gz\"},\n",
        "]\n",
        "\n",
        "for item in dataset:\n",
        "    filename = item[\"filename\"]\n",
        "    url = item[\"url\"]\n",
        "\n",
        "    urllib.request.urlretrieve(url, filename)\n",
        "\n",
        "    with tarfile.open(filename, \"r:gz\") as tar:\n",
        "        tar.extractall()\n",
        "\n",
        "    os.remove(filename)\n",
        "\n",
        "    print(f\"Downloaded and extracted: {filename}\")\n",
        "\n",
        "IMAGE_PATH = \"images\"\n",
        "NUM_IMAGES = 112120\n",
        "\n",
        "assert os.path.exists(IMAGE_PATH), \"Dataset is not in the expected directory!\"\n",
        "assert len([f for f in os.listdir(IMAGE_PATH) if os.path.isfile(os.path.join(IMAGE_PATH, f))]) == NUM_IMAGES, \"Dataset is not the expected size!\""
      ],
      "metadata": {
        "colab": {
          "base_uri": "https://localhost:8080/"
        },
        "id": "bVF2OYbERAcX",
        "outputId": "ce93ea5c-af08-45c1-a871-73c3db06d469"
      },
      "execution_count": 5,
      "outputs": [
        {
          "output_type": "stream",
          "name": "stdout",
          "text": [
            "Downloaded and extracted: images_001.tar.gz\n",
            "Downloaded and extracted: images_002.tar.gz\n",
            "Downloaded and extracted: images_003.tar.gz\n",
            "Downloaded and extracted: images_004.tar.gz\n",
            "Downloaded and extracted: images_005.tar.gz\n",
            "Downloaded and extracted: images_006.tar.gz\n",
            "Downloaded and extracted: images_007.tar.gz\n",
            "Downloaded and extracted: images_008.tar.gz\n",
            "Downloaded and extracted: images_009.tar.gz\n",
            "Downloaded and extracted: images_010.tar.gz\n",
            "Downloaded and extracted: images_011.tar.gz\n",
            "Downloaded and extracted: images_012.tar.gz\n"
          ]
        }
      ]
    },
    {
      "cell_type": "markdown",
      "source": [
        "## Preprocessing"
      ],
      "metadata": {
        "id": "RbXv4b33LekL"
      }
    },
    {
      "cell_type": "code",
      "source": [
        "class ChestXrayDataset(Dataset):\n",
        "    def __init__(self, image_dir, labels_file, transform, excluded_classes=None):\n",
        "        self.image_dir = image_dir\n",
        "        self.transform = transform\n",
        "        self.data = []\n",
        "\n",
        "        with open(labels_file, 'r') as f:\n",
        "            for line in f:\n",
        "                parts = line.strip().split()\n",
        "                image_name = os.path.basename(parts[0])\n",
        "                labels = list(map(int, parts[1:]))\n",
        "\n",
        "                if all(l == 0 for l in labels):\n",
        "                    continue\n",
        "\n",
        "                if excluded_classes is not None and any(labels[i] == 1 for i in excluded_classes):\n",
        "                    continue\n",
        "\n",
        "                # if not os.path.isfile(f\"{self.image_dir}/{image_name}\"): #todo: Remove once we add the full database\n",
        "                #     continue\n",
        "\n",
        "                self.data.append((image_name, torch.tensor(labels, dtype=torch.int64)))\n",
        "\n",
        "    def __len__(self):\n",
        "        return len(self.data)\n",
        "\n",
        "    def __getitem__(self, idx):\n",
        "        image_name, labels = self.data[idx]\n",
        "        image_path = os.path.join(self.image_dir, image_name)\n",
        "\n",
        "        image = Image.open(image_path).convert('RGB')\n",
        "        image = self.transform(image)\n",
        "\n",
        "        return image, labels"
      ],
      "metadata": {
        "id": "XQXR2pkJLmi7"
      },
      "execution_count": 13,
      "outputs": []
    },
    {
      "cell_type": "markdown",
      "source": [
        "**Note**: The validation dataset is not for tuning hyperparameters, but to measure the training loss. Cross-validation is not used."
      ],
      "metadata": {
        "id": "UoIFT5E-4xMZ"
      }
    },
    {
      "cell_type": "code",
      "source": [
        "# Credit: https://github.com/nyuad-cai/CXR-ML-GZSL/blob/master/ChexnetTrainer.py#L104-L130\n",
        "# Credit: https://github.com/nyuad-cai/CXR-ML-GZSL/blob/master/arguments.py#L22-L23\n",
        "\n",
        "normalize = transforms.Normalize([0.485, 0.456, 0.406], [0.229, 0.224, 0.225])\n",
        "\n",
        "training_transform = transforms.Compose([\n",
        "    transforms.RandomResizedCrop(224),\n",
        "    transforms.RandomHorizontalFlip(),\n",
        "    transforms.ToTensor(),\n",
        "    normalize\n",
        "])\n",
        "\n",
        "testing_transform = transforms.Compose([\n",
        "    transforms.Resize(256),\n",
        "    transforms.TenCrop(224),\n",
        "    transforms.Lambda(lambda crops: torch.stack([transforms.ToTensor()(crop) for crop in crops])),\n",
        "    transforms.Lambda(lambda crops: torch.stack([normalize(crop) for crop in crops]))\n",
        "])\n",
        "\n",
        "train_data = ChestXrayDataset(IMAGE_PATH, \"train.txt\", transform=training_transform, excluded_classes=[10, 11, 12, 13])\n",
        "val_data   = ChestXrayDataset(IMAGE_PATH, \"val.txt\",   transform=testing_transform,  excluded_classes=[10, 11, 12, 13])\n",
        "test_data  = ChestXrayDataset(IMAGE_PATH, \"test.txt\",  transform=testing_transform)\n",
        "\n",
        "print(f\"Training samples: {len(train_data)}\")\n",
        "print(f\"Validation samples: {len(val_data)}\")\n",
        "print(f\"Testing samples: {len(test_data)}\")\n",
        "\n",
        "train_loader = DataLoader(train_data, batch_size=16,    shuffle=True,  num_workers=multiprocessing.cpu_count(), pin_memory=True)\n",
        "val_loader   = DataLoader(val_data,   batch_size=16*10, shuffle=False, num_workers=multiprocessing.cpu_count(), pin_memory=True)\n",
        "test_loader  = DataLoader(test_data,  batch_size=16*3,  shuffle=False, num_workers=multiprocessing.cpu_count(), pin_memory=True)"
      ],
      "metadata": {
        "colab": {
          "base_uri": "https://localhost:8080/"
        },
        "id": "kJ0cD0Oms8tx",
        "outputId": "b648481a-9a1b-44ed-af3f-7e3f2e5c2b29"
      },
      "execution_count": 15,
      "outputs": [
        {
          "output_type": "stream",
          "name": "stdout",
          "text": [
            "Training samples: 30935\n",
            "Validation samples: 4383\n",
            "Testing samples: 10505\n"
          ]
        }
      ]
    },
    {
      "cell_type": "markdown",
      "source": [
        "## Model"
      ],
      "metadata": {
        "id": "9DuhrErYLocv"
      }
    },
    {
      "cell_type": "code",
      "source": [],
      "metadata": {
        "id": "XUMmlAk2Lpk6"
      },
      "execution_count": 15,
      "outputs": []
    },
    {
      "cell_type": "markdown",
      "source": [
        "## Training"
      ],
      "metadata": {
        "id": "GbKfCp0zLp44"
      }
    },
    {
      "cell_type": "code",
      "source": [],
      "metadata": {
        "id": "RDanD5MEcV0_"
      },
      "execution_count": 15,
      "outputs": []
    },
    {
      "cell_type": "markdown",
      "source": [
        "## Evaluation"
      ],
      "metadata": {
        "id": "x89hnxU-cWGG"
      }
    },
    {
      "cell_type": "code",
      "source": [],
      "metadata": {
        "id": "xFUZsa4mcYgY"
      },
      "execution_count": 15,
      "outputs": []
    },
    {
      "cell_type": "markdown",
      "source": [
        "## Results"
      ],
      "metadata": {
        "id": "kMdzScKScZAd"
      }
    },
    {
      "cell_type": "code",
      "source": [],
      "metadata": {
        "id": "jKmO6PLKcaan"
      },
      "execution_count": 15,
      "outputs": []
    }
  ]
}