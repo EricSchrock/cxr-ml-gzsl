{
  "nbformat": 4,
  "nbformat_minor": 0,
  "metadata": {
    "colab": {
      "provenance": [],
      "gpuType": "A100",
      "machine_shape": "hm"
    },
    "kernelspec": {
      "name": "python3",
      "display_name": "Python 3"
    },
    "language_info": {
      "name": "python"
    },
    "accelerator": "GPU"
  },
  "cells": [
    {
      "cell_type": "markdown",
      "source": [
        "# CXR-ML-GZSL"
      ],
      "metadata": {
        "id": "6bKRAGBpLskG"
      }
    },
    {
      "cell_type": "markdown",
      "source": [
        "## Overview\n",
        "\n",
        "The goal of this notebook is to reproduce the findings of the paper, \"Multi-Label Generalized Zero Shot Learning for the Classification of Disease in Chest Radiographs\" with the help of an LLM. The paper provides code, which was a valuable reference during the development of this notebook.\n",
        "\n",
        "* Paper: https://arxiv.org/abs/2107.06563\n",
        "* Code: https://github.com/nyuad-cai/CXR-ML-GZSL\n",
        "\n",
        "This notebook reuses the dataset training, validation, and test split provided by the original paper, as well as the pre-generated BioBERT text embeddings of the class names.\n",
        "\n",
        "* Dataset split: https://github.com/nyuad-cai/CXR-ML-GZSL/tree/master/dataset_splits\n",
        "* Class embeddings: https://github.com/nyuad-cai/CXR-ML-GZSL/blob/master/embeddings/nih_chest_xray_biobert.npy\n",
        "\n",
        "The paper uses a dataset, initially known as `ChestX-ray8`, but then renamed to `ChestX-ray14` when the dataset was expanded from eight to fourteen distinct disease labels. The dataset contains 112120 labeled chest X-rays.\n",
        "\n",
        "* Dataset paper: https://arxiv.org/abs/1705.02315\n",
        "* Dataset: https://nihcc.app.box.com/v/ChestXray-NIHCC/folder/36938765345\n",
        "\n",
        "The dataset provides an example of how to download the chext X-ray images and a spreadsheet mapping images to classification labels. However, the \"dataset split\" files already contain the image classification labels so this notebook does not use the spreadsheet.\n",
        "\n",
        "* Download script: https://nihcc.app.box.com/v/ChestXray-NIHCC/file/371647823217\n",
        "* Labels: https://nihcc.app.box.com/v/ChestXray-NIHCC/file/219760887468\n",
        "\n",
        "**Note**: The dataset is ~42 GB. Expect significant download times.\n",
        "\n",
        "**Note**: The notebook will request access to Google Drive to save training checkpoints. This is to avoid loosing training progress if Google Colab times out."
      ],
      "metadata": {
        "id": "ijYrSzRsLDkQ"
      }
    },
    {
      "cell_type": "markdown",
      "source": [
        "## Environment"
      ],
      "metadata": {
        "id": "ig7PMke4LVnl"
      }
    },
    {
      "cell_type": "code",
      "source": [
        "!if command -v nvidia-smi &> /dev/null; then nvidia-smi --query-gpu=name --format=csv,noheader; else echo 'No NVIDIA GPU detected'; fi\n",
        "!python --version"
      ],
      "metadata": {
        "colab": {
          "base_uri": "https://localhost:8080/"
        },
        "id": "hnctIu-gLZp5",
        "outputId": "a81e1728-5d92-4790-9056-c460bf52d918"
      },
      "execution_count": 1,
      "outputs": [
        {
          "output_type": "stream",
          "name": "stdout",
          "text": [
            "NVIDIA A100-SXM4-40GB\n",
            "Python 3.11.12\n"
          ]
        }
      ]
    },
    {
      "cell_type": "code",
      "source": [
        "import multiprocessing\n",
        "import os\n",
        "import requests\n",
        "from statistics import mean\n",
        "import tarfile\n",
        "import time\n",
        "import urllib.request\n",
        "\n",
        "from google.colab import drive\n",
        "\n",
        "import matplotlib\n",
        "import matplotlib.pyplot as plt\n",
        "\n",
        "print(f\"matplotlib: {matplotlib.__version__}\")\n",
        "\n",
        "import numpy as np\n",
        "\n",
        "print(f\"numpy: {np.__version__}\")\n",
        "\n",
        "import pandas as pd\n",
        "from pandas.plotting import table\n",
        "\n",
        "print(f\"pandas: {pd.__version__}\")\n",
        "\n",
        "import PIL\n",
        "from PIL import Image\n",
        "\n",
        "print(f\"PIL: {PIL.__version__}\")\n",
        "\n",
        "import sklearn\n",
        "from sklearn.metrics import roc_auc_score\n",
        "\n",
        "print(f\"sklearn: {sklearn.__version__}\")\n",
        "\n",
        "import torch\n",
        "import torch.nn as nn\n",
        "import torch.nn.functional as F\n",
        "from torch.utils.data import DataLoader, Dataset\n",
        "\n",
        "print(f\"torch: {torch.__version__}\")\n",
        "\n",
        "import torchvision\n",
        "from torchvision import models\n",
        "import torchvision.transforms as transforms\n",
        "\n",
        "print(f\"torchvision: {torchvision.__version__}\")\n",
        "\n",
        "import tqdm\n",
        "\n",
        "print(f\"tqdm: {tqdm.__version__}\")\n",
        "\n",
        "seed = 1002\n",
        "torch.manual_seed(seed)\n",
        "np.random.seed(seed)"
      ],
      "metadata": {
        "colab": {
          "base_uri": "https://localhost:8080/"
        },
        "id": "0x5zopuELPXB",
        "outputId": "56775930-5fac-49fb-db21-cac5aa19714a"
      },
      "execution_count": 22,
      "outputs": [
        {
          "output_type": "stream",
          "name": "stdout",
          "text": [
            "matplotlib: 3.10.0\n",
            "numpy: 2.0.2\n",
            "pandas: 2.2.2\n",
            "PIL: 11.1.0\n",
            "sklearn: 1.6.1\n",
            "torch: 2.6.0+cu124\n",
            "torchvision: 0.21.0+cu124\n",
            "tqdm: 4.67.1\n"
          ]
        }
      ]
    },
    {
      "cell_type": "markdown",
      "source": [
        "## Download"
      ],
      "metadata": {
        "id": "2Gwu5wJDLaJq"
      }
    },
    {
      "cell_type": "code",
      "source": [
        "for filename in [\"train.txt\", \"val.txt\", \"test.txt\"]:\n",
        "    response = requests.get(f\"https://raw.githubusercontent.com/nyuad-cai/CXR-ML-GZSL/master/dataset_splits/{filename}\")\n",
        "\n",
        "    with open(filename, \"w\") as f:\n",
        "        f.write(response.text)\n",
        "\n",
        "    print(f\"Downloaded: {filename}\")"
      ],
      "metadata": {
        "colab": {
          "base_uri": "https://localhost:8080/"
        },
        "id": "oIC65QJdLeEb",
        "outputId": "5f84135a-0bfb-4322-823c-6b8962054e4b"
      },
      "execution_count": 3,
      "outputs": [
        {
          "output_type": "stream",
          "name": "stdout",
          "text": [
            "Downloaded: train.txt\n",
            "Downloaded: val.txt\n",
            "Downloaded: test.txt\n"
          ]
        }
      ]
    },
    {
      "cell_type": "code",
      "source": [
        "CLASS_EMBEDDINGS = \"nih_chest_xray_biobert.npy\"\n",
        "\n",
        "response = requests.get(f\"https://raw.githubusercontent.com/nyuad-cai/CXR-ML-GZSL/master/embeddings/{CLASS_EMBEDDINGS}\")\n",
        "\n",
        "with open(CLASS_EMBEDDINGS, \"wb\") as f:\n",
        "    f.write(response.content)\n",
        "\n",
        "print(f\"Downloaded: {CLASS_EMBEDDINGS}\")"
      ],
      "metadata": {
        "colab": {
          "base_uri": "https://localhost:8080/"
        },
        "id": "hF2Og6YENJN3",
        "outputId": "f6ca2a2c-51bd-4867-fa21-cb3dc9b7738e"
      },
      "execution_count": 4,
      "outputs": [
        {
          "output_type": "stream",
          "name": "stdout",
          "text": [
            "Downloaded: nih_chest_xray_biobert.npy\n"
          ]
        }
      ]
    },
    {
      "cell_type": "code",
      "source": [
        "dataset = [\n",
        "    {\"filename\": \"images_001.tar.gz\", \"url\": \"https://nihcc.box.com/shared/static/vfk49d74nhbxq3nqjg0900w5nvkorp5c.gz\"} #todo: Add the rest of the dataset\n",
        "]\n",
        "\n",
        "# dataset = [\n",
        "#     {\"filename\": \"images_001.tar.gz\", \"url\": \"https://nihcc.box.com/shared/static/vfk49d74nhbxq3nqjg0900w5nvkorp5c.gz\"},\n",
        "#     {\"filename\": \"images_002.tar.gz\", \"url\": \"https://nihcc.box.com/shared/static/i28rlmbvmfjbl8p2n3ril0pptcmcu9d1.gz\"},\n",
        "#     {\"filename\": \"images_003.tar.gz\", \"url\": \"https://nihcc.box.com/shared/static/f1t00wrtdk94satdfb9olcolqx20z2jp.gz\"},\n",
        "#     {\"filename\": \"images_004.tar.gz\", \"url\": \"https://nihcc.box.com/shared/static/0aowwzs5lhjrceb3qp67ahp0rd1l1etg.gz\"},\n",
        "#     {\"filename\": \"images_005.tar.gz\", \"url\": \"https://nihcc.box.com/shared/static/v5e3goj22zr6h8tzualxfsqlqaygfbsn.gz\"},\n",
        "#     {\"filename\": \"images_006.tar.gz\", \"url\": \"https://nihcc.box.com/shared/static/asi7ikud9jwnkrnkj99jnpfkjdes7l6l.gz\"},\n",
        "#     {\"filename\": \"images_007.tar.gz\", \"url\": \"https://nihcc.box.com/shared/static/jn1b4mw4n6lnh74ovmcjb8y48h8xj07n.gz\"},\n",
        "#     {\"filename\": \"images_008.tar.gz\", \"url\": \"https://nihcc.box.com/shared/static/tvpxmn7qyrgl0w8wfh9kqfjskv6nmm1j.gz\"},\n",
        "#     {\"filename\": \"images_009.tar.gz\", \"url\": \"https://nihcc.box.com/shared/static/upyy3ml7qdumlgk2rfcvlb9k6gvqq2pj.gz\"},\n",
        "#     {\"filename\": \"images_010.tar.gz\", \"url\": \"https://nihcc.box.com/shared/static/l6nilvfa9cg3s28tqv1qc1olm3gnz54p.gz\"},\n",
        "#     {\"filename\": \"images_011.tar.gz\", \"url\": \"https://nihcc.box.com/shared/static/hhq8fkdgvcari67vfhs7ppg2w6ni4jze.gz\"},\n",
        "#     {\"filename\": \"images_012.tar.gz\", \"url\": \"https://nihcc.box.com/shared/static/ioqwiy20ihqwyr8pf4c24eazhh281pbu.gz\"},\n",
        "# ]\n",
        "\n",
        "for item in dataset:\n",
        "    filename = item[\"filename\"]\n",
        "    url = item[\"url\"]\n",
        "\n",
        "    urllib.request.urlretrieve(url, filename)\n",
        "\n",
        "    with tarfile.open(filename, \"r:gz\") as tar:\n",
        "        tar.extractall()\n",
        "\n",
        "    os.remove(filename)\n",
        "\n",
        "    print(f\"Downloaded and extracted: {filename}\")\n",
        "\n",
        "IMAGE_PATH = \"images\"\n",
        "\n",
        "assert os.path.exists(IMAGE_PATH), \"Dataset is not in the expected directory!\""
      ],
      "metadata": {
        "colab": {
          "base_uri": "https://localhost:8080/"
        },
        "id": "bVF2OYbERAcX",
        "outputId": "35f6c550-f5b3-40b0-bd2a-418f99eed4d2"
      },
      "execution_count": 5,
      "outputs": [
        {
          "output_type": "stream",
          "name": "stdout",
          "text": [
            "Downloaded and extracted: images_001.tar.gz\n"
          ]
        }
      ]
    },
    {
      "cell_type": "markdown",
      "source": [
        "## Preprocessing"
      ],
      "metadata": {
        "id": "RbXv4b33LekL"
      }
    },
    {
      "cell_type": "code",
      "source": [
        "class ChestXrayDataset(Dataset):\n",
        "    def __init__(self, image_dir, labels_file, transform, excluded_classes=None):\n",
        "        self.image_dir = image_dir\n",
        "        self.transform = transform\n",
        "        self.data = []\n",
        "\n",
        "        with open(labels_file, 'r') as f:\n",
        "            for line in f:\n",
        "                parts = line.strip().split()\n",
        "                image_name = os.path.basename(parts[0])\n",
        "                labels = list(map(int, parts[1:]))\n",
        "\n",
        "                if all(l == 0 for l in labels):\n",
        "                    continue\n",
        "\n",
        "                if excluded_classes is not None and any(labels[i] == 1 for i in excluded_classes):\n",
        "                    continue\n",
        "\n",
        "                if not os.path.isfile(f\"{self.image_dir}/{image_name}\"): #todo: Remove once we add the full database\n",
        "                    continue\n",
        "\n",
        "                self.data.append((image_name, torch.tensor(labels, dtype=torch.int64)))\n",
        "\n",
        "    def __len__(self):\n",
        "        return len(self.data)\n",
        "\n",
        "    def __getitem__(self, idx):\n",
        "        image_name, labels = self.data[idx]\n",
        "        image_path = os.path.join(self.image_dir, image_name)\n",
        "\n",
        "        image = Image.open(image_path).convert('RGB')\n",
        "        image = self.transform(image)\n",
        "\n",
        "        return image, labels"
      ],
      "metadata": {
        "id": "XQXR2pkJLmi7"
      },
      "execution_count": 6,
      "outputs": []
    },
    {
      "cell_type": "markdown",
      "source": [
        "**Note**: The validation dataset is not for tuning hyperparameters, but to measure the training loss. Cross-validation is not used."
      ],
      "metadata": {
        "id": "UoIFT5E-4xMZ"
      }
    },
    {
      "cell_type": "code",
      "source": [
        "# Credit: https://github.com/nyuad-cai/CXR-ML-GZSL/blob/master/ChexnetTrainer.py#L104-L130\n",
        "# Credit: https://github.com/nyuad-cai/CXR-ML-GZSL/blob/master/arguments.py#L22-L23\n",
        "\n",
        "normalize = transforms.Normalize([0.485, 0.456, 0.406], [0.229, 0.224, 0.225])\n",
        "\n",
        "training_transform = transforms.Compose([\n",
        "    transforms.RandomResizedCrop(224),\n",
        "    transforms.RandomHorizontalFlip(),\n",
        "    transforms.ToTensor(),\n",
        "    normalize\n",
        "])\n",
        "\n",
        "testing_transform = transforms.Compose([\n",
        "    transforms.Resize(256),\n",
        "    transforms.TenCrop(224),\n",
        "    transforms.Lambda(lambda crops: torch.stack([transforms.ToTensor()(crop) for crop in crops])),\n",
        "    transforms.Lambda(lambda crops: torch.stack([normalize(crop) for crop in crops]))\n",
        "])\n",
        "\n",
        "train_data = ChestXrayDataset(IMAGE_PATH, \"train.txt\", transform=training_transform, excluded_classes=[10, 11, 12, 13])\n",
        "val_data   = ChestXrayDataset(IMAGE_PATH, \"val.txt\",   transform=testing_transform,  excluded_classes=[10, 11, 12, 13])\n",
        "test_data  = ChestXrayDataset(IMAGE_PATH, \"test.txt\",  transform=testing_transform)\n",
        "\n",
        "print(f\"Training samples: {len(train_data)}\")\n",
        "print(f\"Validation samples: {len(val_data)}\")\n",
        "print(f\"Testing samples: {len(test_data)}\")\n",
        "\n",
        "train_loader = DataLoader(train_data, batch_size=16,    shuffle=True,  num_workers=multiprocessing.cpu_count(), pin_memory=True)\n",
        "val_loader   = DataLoader(val_data,   batch_size=16*10, shuffle=False, num_workers=multiprocessing.cpu_count(), pin_memory=True)\n",
        "test_loader  = DataLoader(test_data,  batch_size=16*3,  shuffle=False, num_workers=multiprocessing.cpu_count(), pin_memory=True)"
      ],
      "metadata": {
        "colab": {
          "base_uri": "https://localhost:8080/"
        },
        "id": "kJ0cD0Oms8tx",
        "outputId": "98c5f94e-f7bd-4e96-ae7d-ac2f0832de9c"
      },
      "execution_count": 7,
      "outputs": [
        {
          "output_type": "stream",
          "name": "stdout",
          "text": [
            "Training samples: 1246\n",
            "Validation samples: 142\n",
            "Testing samples: 506\n"
          ]
        }
      ]
    },
    {
      "cell_type": "markdown",
      "source": [
        "## Model"
      ],
      "metadata": {
        "id": "9DuhrErYLocv"
      }
    },
    {
      "cell_type": "code",
      "source": [
        "class ML_GZSL(nn.Module):\n",
        "    def __init__(self, embedding_path, gamma1, gamma2, delta):\n",
        "        super(ML_GZSL, self).__init__()\n",
        "        self.gamma1 = gamma1\n",
        "        self.gamma2 = gamma2\n",
        "        self.delta = delta\n",
        "\n",
        "        # Load class name embeddings as a buffer so it moves with the model\n",
        "        self.register_buffer(\"class_embeddings\", torch.tensor(np.load(embedding_path), dtype=torch.float32))  # (14, 1024)\n",
        "\n",
        "        # Visual encoder: Densenet-121 without classification head\n",
        "        self.visual_encoder = models.densenet121(weights=None)\n",
        "        self.visual_encoder.classifier = nn.Identity()\n",
        "        visual_out_dim = 1024\n",
        "\n",
        "        # Visual mapping module\n",
        "        self.visual_mapping = nn.Sequential(\n",
        "            nn.Linear(visual_out_dim, 512),\n",
        "            nn.ReLU(),\n",
        "            nn.Linear(512, 256),\n",
        "            nn.ReLU(),\n",
        "            nn.Linear(256, 128)\n",
        "        )\n",
        "\n",
        "        # Semantic mapping module\n",
        "        self.semantic_mapping = nn.Sequential(\n",
        "            nn.Linear(1024, 512),\n",
        "            nn.ReLU(),\n",
        "            nn.Linear(512, 256),\n",
        "            nn.ReLU(),\n",
        "            nn.Linear(256, 128)\n",
        "        )\n",
        "\n",
        "    def forward(self, x, labels):\n",
        "        batch_size, num_crops, C, H, W = x.shape\n",
        "        x = x.view(-1, C, H, W)\n",
        "\n",
        "        visual_features = self.visual_encoder(x)\n",
        "        visual_features = self.visual_mapping(visual_features)\n",
        "        visual_features = visual_features.view(batch_size, num_crops, -1).mean(dim=1)\n",
        "\n",
        "        semantic_features = self.semantic_mapping(self.class_embeddings)\n",
        "\n",
        "        relevance_scores = F.cosine_similarity(\n",
        "            visual_features.unsqueeze(1),\n",
        "            semantic_features.unsqueeze(0),\n",
        "            dim=-1\n",
        "        )\n",
        "\n",
        "        # Ranking Loss\n",
        "        loss_rank = 0\n",
        "        for i in range(batch_size):\n",
        "            y_true = labels[i]\n",
        "            pos_idx = (y_true == 1).nonzero(as_tuple=True)[0]\n",
        "            neg_idx = (y_true == 0).nonzero(as_tuple=True)[0]\n",
        "            for pos in pos_idx:\n",
        "                for neg in neg_idx:\n",
        "                    pos_score = relevance_scores[i, pos]\n",
        "                    neg_score = relevance_scores[i, neg]\n",
        "                    loss_rank += F.relu(self.delta + neg_score - pos_score)\n",
        "        loss_rank /= (batch_size * labels.size(1))\n",
        "\n",
        "        # Alignment Loss\n",
        "        wx_list = []\n",
        "        for i in range(batch_size):\n",
        "            y_true = labels[i]\n",
        "            pos_idx = (y_true == 1).nonzero(as_tuple=True)[0]\n",
        "            if len(pos_idx) > 0:\n",
        "                avg_sem = self.class_embeddings[pos_idx].mean(dim=0)\n",
        "                avg_sem_proj = self.semantic_mapping(avg_sem)\n",
        "                cos_sim = F.cosine_similarity(visual_features[i], avg_sem_proj, dim=0)\n",
        "                wx_list.append(1 - cos_sim)\n",
        "        loss_align = torch.stack(wx_list).mean() if wx_list else torch.tensor(0.0, device=x.device)\n",
        "\n",
        "        # Consistency Loss\n",
        "        orig_sim = F.cosine_similarity(\n",
        "            self.class_embeddings.unsqueeze(1),\n",
        "            self.class_embeddings.unsqueeze(0),\n",
        "            dim=-1\n",
        "        )\n",
        "        proj_sim = F.cosine_similarity(\n",
        "            semantic_features.unsqueeze(1),\n",
        "            semantic_features.unsqueeze(0),\n",
        "            dim=-1\n",
        "        )\n",
        "        loss_con = F.l1_loss(orig_sim, proj_sim)\n",
        "\n",
        "        total_loss = loss_rank + self.gamma1 * loss_align + self.gamma2 * loss_con\n",
        "\n",
        "        return relevance_scores, total_loss"
      ],
      "metadata": {
        "id": "XUMmlAk2Lpk6"
      },
      "execution_count": 8,
      "outputs": []
    },
    {
      "cell_type": "markdown",
      "source": [
        "## Training"
      ],
      "metadata": {
        "id": "GbKfCp0zLp44"
      }
    },
    {
      "cell_type": "code",
      "source": [
        "DRIVE_PATH = '/content/drive'\n",
        "\n",
        "if not os.path.ismount(DRIVE_PATH):\n",
        "    drive.mount(DRIVE_PATH)\n",
        "\n",
        "checkpoint_path = f\"{DRIVE_PATH}/MyDrive/ml_gzsl_checkpoint.pt\"\n",
        "\n",
        "device = torch.device(\"cuda\" if torch.cuda.is_available() else \"cpu\")\n",
        "\n",
        "model = ML_GZSL(CLASS_EMBEDDINGS, gamma1=0.1, gamma2=0.1, delta=0.5).to(device)\n",
        "optimizer = torch.optim.Adam(model.parameters(), lr=1e-4, weight_decay=1e-5)\n",
        "scheduler = torch.optim.lr_scheduler.ReduceLROnPlateau(optimizer, mode='min', factor=0.01, patience=10)\n",
        "\n",
        "start_epoch = 0\n",
        "best_val_auroc = 0\n",
        "\n",
        "if os.path.exists(checkpoint_path):\n",
        "    checkpoint = torch.load(checkpoint_path, weights_only=False)\n",
        "    model.load_state_dict(checkpoint['model_state'])\n",
        "    optimizer.load_state_dict(checkpoint['optimizer_state'])\n",
        "    scheduler.load_state_dict(checkpoint['scheduler_state'])\n",
        "    start_epoch = checkpoint['epoch'] + 1\n",
        "    best_val_auroc = checkpoint['best_val_auroc']\n",
        "    print(f\"Resuming from epoch {start_epoch} with best val AUROC {best_val_auroc:.4f}\")\n",
        "\n",
        "# Training loop\n",
        "for epoch in range(start_epoch, 15): #todo: Update to 100\n",
        "    model.train()\n",
        "    start_time = time.time()\n",
        "    for images, labels in tqdm.tqdm(train_loader, desc=f\"Epoch {epoch}\"):\n",
        "        images = images.unsqueeze(1).to(device)\n",
        "        labels = labels.to(device).float()\n",
        "        optimizer.zero_grad()\n",
        "        _, loss = model(images, labels)\n",
        "        loss.backward()\n",
        "        optimizer.step()\n",
        "\n",
        "    # Validation\n",
        "    model.eval()\n",
        "    val_loss = 0\n",
        "    all_preds = []\n",
        "    all_labels = []\n",
        "    with torch.no_grad():\n",
        "        for images, labels in val_loader:\n",
        "            images, labels = images.to(device), labels.to(device).float()\n",
        "            preds, loss = model(images, labels)\n",
        "            val_loss += loss.item() * images.size(0)\n",
        "            all_preds.append(preds[:, :-4].cpu())\n",
        "            all_labels.append(labels[:, :-4].cpu())\n",
        "\n",
        "    val_loss /= len(val_loader.dataset)\n",
        "    all_preds = torch.cat(all_preds)\n",
        "    all_labels = torch.cat(all_labels)\n",
        "    val_auroc = roc_auc_score(all_labels.numpy(), all_preds.numpy(), average='macro')\n",
        "    scheduler.step(val_loss)\n",
        "\n",
        "    if val_auroc > best_val_auroc:\n",
        "        best_val_auroc = val_auroc\n",
        "        torch.save({\n",
        "            'epoch': epoch,\n",
        "            'model_state': model.state_dict(),\n",
        "            'optimizer_state': optimizer.state_dict(),\n",
        "            'scheduler_state': scheduler.state_dict(),\n",
        "            'best_val_auroc': best_val_auroc\n",
        "        }, checkpoint_path)\n",
        "\n",
        "    runtime = time.time() - start_time\n",
        "    print(f\"Epoch {epoch}: Time={runtime:.2f}s, Val Loss={val_loss:.4f}, Val AUROC={val_auroc:.4f}\")"
      ],
      "metadata": {
        "id": "RDanD5MEcV0_",
        "colab": {
          "base_uri": "https://localhost:8080/"
        },
        "outputId": "bbfd755d-c1c6-4dd7-9125-c0471ebe4825"
      },
      "execution_count": 15,
      "outputs": [
        {
          "output_type": "stream",
          "name": "stdout",
          "text": [
            "Resuming from epoch 14 with best val AUROC 0.6261\n"
          ]
        },
        {
          "output_type": "stream",
          "name": "stderr",
          "text": [
            "Epoch 14: 100%|██████████| 78/78 [00:15<00:00,  5.11it/s]\n"
          ]
        },
        {
          "output_type": "stream",
          "name": "stdout",
          "text": [
            "Epoch 14: Time=21.88s, Val Loss=0.2608, Val AUROC=0.5350\n"
          ]
        }
      ]
    },
    {
      "cell_type": "markdown",
      "source": [
        "## Evaluation"
      ],
      "metadata": {
        "id": "x89hnxU-cWGG"
      }
    },
    {
      "cell_type": "code",
      "source": [
        "# Set model to eval mode and move to the correct device\n",
        "model.eval()\n",
        "model.to(device)\n",
        "\n",
        "all_preds = []\n",
        "all_labels = []\n",
        "\n",
        "with torch.no_grad():\n",
        "    for images, labels in tqdm.tqdm(test_loader, desc=\"Testing\"):\n",
        "        images = images.to(device)\n",
        "        labels = labels.to(device).float()\n",
        "        preds, _ = model(images, labels)\n",
        "        all_preds.append(preds.cpu())\n",
        "        all_labels.append(labels.cpu())\n",
        "\n",
        "# Concatenate all predictions and labels\n",
        "all_preds = torch.cat(all_preds)\n",
        "all_labels = torch.cat(all_labels)\n",
        "\n",
        "# Compute AUROC for each class\n",
        "auroc_per_class = []\n",
        "for i in range(14):\n",
        "    try:\n",
        "        auroc = roc_auc_score(all_labels[:, i], all_preds[:, i])\n",
        "    except ValueError:\n",
        "        auroc = float('nan')  # If only one class present in labels\n",
        "    auroc_per_class.append(auroc)"
      ],
      "metadata": {
        "id": "xFUZsa4mcYgY",
        "colab": {
          "base_uri": "https://localhost:8080/"
        },
        "outputId": "6a05eb08-2936-43d4-ecc4-9ff9ae2384bd"
      },
      "execution_count": 18,
      "outputs": [
        {
          "output_type": "stream",
          "name": "stderr",
          "text": [
            "Testing: 100%|██████████| 11/11 [00:07<00:00,  1.48it/s]"
          ]
        },
        {
          "output_type": "stream",
          "name": "stdout",
          "text": [
            "Class 0: AUROC = 0.4783\n",
            "Class 1: AUROC = 0.3966\n",
            "Class 2: AUROC = 0.5636\n",
            "Class 3: AUROC = 0.5751\n",
            "Class 4: AUROC = 0.5959\n",
            "Class 5: AUROC = 0.6177\n",
            "Class 6: AUROC = 0.6351\n",
            "Class 7: AUROC = 0.4645\n",
            "Class 8: AUROC = 0.6477\n",
            "Class 9: AUROC = 0.7115\n",
            "Class 10: AUROC = 0.6946\n",
            "Class 11: AUROC = 0.5481\n",
            "Class 12: AUROC = 0.4870\n",
            "Class 13: AUROC = 0.3565\n"
          ]
        },
        {
          "output_type": "stream",
          "name": "stderr",
          "text": [
            "\n"
          ]
        }
      ]
    },
    {
      "cell_type": "markdown",
      "source": [
        "## Results"
      ],
      "metadata": {
        "id": "kMdzScKScZAd"
      }
    },
    {
      "cell_type": "code",
      "source": [
        "# Credit: https://github.com/nyuad-cai/CXR-ML-GZSL/blob/master/images/results2.png\n",
        "\n",
        "results = {\n",
        "    \"Original Paper\": {\n",
        "        \"Seen Mean\":          0.79,\n",
        "        \"Atelectasis\":        0.76,\n",
        "        \"Cardiomegaly\":       0.90,\n",
        "        \"Effusion\":           0.83,\n",
        "        \"Infiltration\":       0.70,\n",
        "        \"Mass\":               0.80,\n",
        "        \"Nodule\":             0.75,\n",
        "        \"Pneumothorax\":       0.83,\n",
        "        \"Consolidation\":      0.69,\n",
        "        \"Pleural Thickening\": 0.72,\n",
        "        \"Hernia\":             0.90,\n",
        "        \"Unseen Mean\":        0.66,\n",
        "        \"Pneumonia\":          0.62,\n",
        "        \"Edema\":              0.67,\n",
        "        \"Emphysema\":          0.74,\n",
        "        \"Fibrosis\":           0.60\n",
        "    }\n",
        "}\n",
        "\n",
        "results[\"Reproduced (best AUROC)\"] = {\n",
        "        \"Seen Mean\":          mean(auroc_per_class[:10]),\n",
        "        \"Atelectasis\":        auroc_per_class[0],\n",
        "        \"Cardiomegaly\":       auroc_per_class[1],\n",
        "        \"Effusion\":           auroc_per_class[2],\n",
        "        \"Infiltration\":       auroc_per_class[3],\n",
        "        \"Mass\":               auroc_per_class[4],\n",
        "        \"Nodule\":             auroc_per_class[5],\n",
        "        \"Pneumothorax\":       auroc_per_class[6],\n",
        "        \"Consolidation\":      auroc_per_class[7],\n",
        "        \"Pleural Thickening\": auroc_per_class[8],\n",
        "        \"Hernia\":             auroc_per_class[9],\n",
        "        \"Unseen Mean\":        mean(auroc_per_class[10:]),\n",
        "        \"Pneumonia\":          auroc_per_class[10],\n",
        "        \"Edema\":              auroc_per_class[11],\n",
        "        \"Emphysema\":          auroc_per_class[12],\n",
        "        \"Fibrosis\":           auroc_per_class[13]\n",
        "}\n",
        "\n",
        "df = pd.DataFrame(results).T.round(2)\n",
        "\n",
        "fig, ax = plt.subplots()\n",
        "ax.axis('off')\n",
        "\n",
        "tbl = table(ax, df, loc='center', colWidths=[ 0.02 * (len(col)+2) for col in df.columns.tolist() ])\n",
        "tbl.auto_set_font_size(False)\n",
        "tbl.set_fontsize(12)\n",
        "tbl.scale(1.2, 2)\n",
        "\n",
        "plt.show()"
      ],
      "metadata": {
        "id": "jKmO6PLKcaan",
        "colab": {
          "base_uri": "https://localhost:8080/",
          "height": 283
        },
        "outputId": "aab27bf0-0214-4577-a92f-e9dddb032e51"
      },
      "execution_count": 23,
      "outputs": [
        {
          "output_type": "display_data",
          "data": {
            "text/plain": [
              "<Figure size 640x480 with 1 Axes>"
            ],
            "image/png": "[encoded data removed]"
          },
          "metadata": {}
        }
      ]
    }
  ]
}