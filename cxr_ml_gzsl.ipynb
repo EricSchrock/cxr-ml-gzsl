{
  "nbformat": 4,
  "nbformat_minor": 0,
  "metadata": {
    "colab": {
      "provenance": [],
      "gpuType": "T4"
    },
    "kernelspec": {
      "name": "python3",
      "display_name": "Python 3"
    },
    "language_info": {
      "name": "python"
    },
    "accelerator": "GPU"
  },
  "cells": [
    {
      "cell_type": "markdown",
      "source": [
        "# CXR-ML-GZSL"
      ],
      "metadata": {
        "id": "6bKRAGBpLskG"
      }
    },
    {
      "cell_type": "markdown",
      "source": [
        "## Overview\n",
        "\n",
        "The goal of this notebook is to reproduce the findings of the paper, \"Multi-Label Generalized Zero Shot Learning for the Classification of Disease in Chest Radiographs\" with the help of an LLM. The paper provides code, but this notebook will only reuse the provided split of the dataset into training, test, and validation data.\n",
        "\n",
        "* Paper: https://arxiv.org/abs/2107.06563\n",
        "* Dataset split: https://github.com/nyuad-cai/CXR-ML-GZSL/tree/master/dataset_splits\n",
        "\n",
        "The paper used a dataset, initially known as `ChestX-ray8`, but then renamed to `ChestX-ray14` when the dataset was expanded from eight to fourteen distinct disease labels. The dataset contains 112120 labeled chest X-rays.\n",
        "\n",
        "* Dataset paper: https://arxiv.org/abs/1705.02315\n",
        "* Dataset: https://nihcc.app.box.com/v/ChestXray-NIHCC/folder/36938765345\n",
        "\n",
        "The dataset provides an example of how to download the chext X-ray images and a spreadsheet mapping images to classification labels. I could not figure out a way to download the labels spreadsheet in code, so I saved a copy to a publically available Google Drive link.\n",
        "\n",
        "* Download script: https://nihcc.app.box.com/v/ChestXray-NIHCC/file/371647823217\n",
        "* Labels: https://nihcc.app.box.com/v/ChestXray-NIHCC/file/219760887468\n",
        "* Labels (copy): https://drive.google.com/file/d/1mkOZNfYt-Px52b8CJZJANNbM3ULUVO3f/view?usp=drive_link\n",
        "\n",
        "**Note**: The dataset is 42+ GB. Expect significant download times."
      ],
      "metadata": {
        "id": "ijYrSzRsLDkQ"
      }
    },
    {
      "cell_type": "markdown",
      "source": [
        "## Environment"
      ],
      "metadata": {
        "id": "ig7PMke4LVnl"
      }
    },
    {
      "cell_type": "code",
      "source": [
        "!if command -v nvidia-smi &> /dev/null; then nvidia-smi --query-gpu=name --format=csv,noheader; else echo 'No NVIDIA GPU detected'; fi\n",
        "!python --version"
      ],
      "metadata": {
        "colab": {
          "base_uri": "https://localhost:8080/"
        },
        "id": "hnctIu-gLZp5",
        "outputId": "f05f74ff-467f-447a-b5f2-2db297354490"
      },
      "execution_count": 9,
      "outputs": [
        {
          "output_type": "stream",
          "name": "stdout",
          "text": [
            "Tesla T4\n",
            "Python 3.11.12\n"
          ]
        }
      ]
    },
    {
      "cell_type": "code",
      "source": [
        "import os\n",
        "import requests\n",
        "import tarfile\n",
        "import urllib.request\n",
        "\n",
        "import torch\n",
        "import torchvision\n",
        "\n",
        "print(f\"torch: {torch.__version__}\")\n",
        "print(f\"torchvision: {torchvision.__version__}\")"
      ],
      "metadata": {
        "colab": {
          "base_uri": "https://localhost:8080/"
        },
        "id": "0x5zopuELPXB",
        "outputId": "1a660c13-429a-4961-e977-79f8ab94a8cc"
      },
      "execution_count": 10,
      "outputs": [
        {
          "output_type": "stream",
          "name": "stdout",
          "text": [
            "torch: 2.6.0+cu124\n",
            "torchvision: 0.21.0+cu124\n"
          ]
        }
      ]
    },
    {
      "cell_type": "markdown",
      "source": [
        "## Download"
      ],
      "metadata": {
        "id": "2Gwu5wJDLaJq"
      }
    },
    {
      "cell_type": "code",
      "source": [
        "for filename in [\"train.txt\", \"test.txt\", \"val.txt\"]:\n",
        "    response = requests.get(f\"https://raw.githubusercontent.com/nyuad-cai/CXR-ML-GZSL/master/dataset_splits/{filename}\")\n",
        "\n",
        "    with open(filename, \"w\") as f:\n",
        "        f.write(response.text)\n",
        "\n",
        "    print(f\"Downloaded: {filename}\")"
      ],
      "metadata": {
        "colab": {
          "base_uri": "https://localhost:8080/"
        },
        "id": "oIC65QJdLeEb",
        "outputId": "e753b69a-3838-4e84-bf06-71fb1156046d"
      },
      "execution_count": 11,
      "outputs": [
        {
          "output_type": "stream",
          "name": "stdout",
          "text": [
            "Downloaded: train.txt\n",
            "Downloaded: test.txt\n",
            "Downloaded: val.txt\n"
          ]
        }
      ]
    },
    {
      "cell_type": "code",
      "source": [
        "LABELS_FILE = \"Data_Entry_2017_v2020.csv\"\n",
        "\n",
        "response = requests.get('https://drive.google.com/uc?export=download&id=1mkOZNfYt-Px52b8CJZJANNbM3ULUVO3f')\n",
        "with open(LABELS_FILE, \"wb\") as f:\n",
        "    f.write(response.content)\n",
        "\n",
        "print(f\"Downloaded: {LABELS_FILE}\")"
      ],
      "metadata": {
        "colab": {
          "base_uri": "https://localhost:8080/"
        },
        "id": "93g8EMSDZg1F",
        "outputId": "9a2538e1-6788-429b-8ab2-d3d9ce009ff3"
      },
      "execution_count": 12,
      "outputs": [
        {
          "output_type": "stream",
          "name": "stdout",
          "text": [
            "Downloaded: Data_Entry_2017_v2020.csv\n"
          ]
        }
      ]
    },
    {
      "cell_type": "code",
      "source": [
        "dataset = [\n",
        "    {\"filename\": \"images_001.tar.gz\", \"url\": \"https://nihcc.box.com/shared/static/vfk49d74nhbxq3nqjg0900w5nvkorp5c.gz\"},\n",
        "    {\"filename\": \"images_002.tar.gz\", \"url\": \"https://nihcc.box.com/shared/static/i28rlmbvmfjbl8p2n3ril0pptcmcu9d1.gz\"} #todo: Add the rest of the dataset\n",
        "]\n",
        "\n",
        "for item in dataset:\n",
        "    filename = item[\"filename\"]\n",
        "    url = item[\"url\"]\n",
        "\n",
        "    urllib.request.urlretrieve(url, filename)\n",
        "\n",
        "    with tarfile.open(filename, \"r:gz\") as tar:\n",
        "        tar.extractall()\n",
        "\n",
        "    print(f\"Downloaded: {filename}\")\n",
        "\n",
        "IMAGE_PATH = \"images\"\n",
        "NUM_IMAGES = 112120\n",
        "\n",
        "assert os.path.exists(IMAGE_PATH), \"Dataset is not in the expected directory!\"\n",
        "# assert len([f for f in os.listdir(IMAGE_PATH) if os.path.isfile(os.path.join(IMAGE_PATH, f))]) == NUM_IMAGES, \"Dataset is not the expected size!\""
      ],
      "metadata": {
        "colab": {
          "base_uri": "https://localhost:8080/"
        },
        "id": "bVF2OYbERAcX",
        "outputId": "faafee0c-c518-439b-9046-26f0d535ff62"
      },
      "execution_count": 13,
      "outputs": [
        {
          "output_type": "stream",
          "name": "stdout",
          "text": [
            "Downloaded: images_001.tar.gz\n",
            "Downloaded: images_002.tar.gz\n"
          ]
        }
      ]
    },
    {
      "cell_type": "markdown",
      "source": [
        "## Preprocessing"
      ],
      "metadata": {
        "id": "RbXv4b33LekL"
      }
    },
    {
      "cell_type": "code",
      "source": [],
      "metadata": {
        "id": "XQXR2pkJLmi7"
      },
      "execution_count": 13,
      "outputs": []
    },
    {
      "cell_type": "markdown",
      "source": [
        "## Model"
      ],
      "metadata": {
        "id": "9DuhrErYLocv"
      }
    },
    {
      "cell_type": "code",
      "source": [],
      "metadata": {
        "id": "XUMmlAk2Lpk6"
      },
      "execution_count": 13,
      "outputs": []
    },
    {
      "cell_type": "markdown",
      "source": [
        "## Training"
      ],
      "metadata": {
        "id": "GbKfCp0zLp44"
      }
    },
    {
      "cell_type": "code",
      "source": [],
      "metadata": {
        "id": "RDanD5MEcV0_"
      },
      "execution_count": 13,
      "outputs": []
    },
    {
      "cell_type": "markdown",
      "source": [
        "## Evaluation"
      ],
      "metadata": {
        "id": "x89hnxU-cWGG"
      }
    },
    {
      "cell_type": "code",
      "source": [],
      "metadata": {
        "id": "xFUZsa4mcYgY"
      },
      "execution_count": 13,
      "outputs": []
    },
    {
      "cell_type": "markdown",
      "source": [
        "## Results"
      ],
      "metadata": {
        "id": "kMdzScKScZAd"
      }
    },
    {
      "cell_type": "code",
      "source": [],
      "metadata": {
        "id": "jKmO6PLKcaan"
      },
      "execution_count": 13,
      "outputs": []
    }
  ]
}