{
  "nbformat": 4,
  "nbformat_minor": 0,
  "metadata": {
    "colab": {
      "provenance": [],
      "machine_shape": "hm",
      "gpuType": "A100"
    },
    "kernelspec": {
      "name": "python3",
      "display_name": "Python 3"
    },
    "language_info": {
      "name": "python"
    },
    "accelerator": "GPU"
  },
  "cells": [
    {
      "cell_type": "markdown",
      "source": [
        "# CXR-ML-GZSL Extension"
      ],
      "metadata": {
        "id": "8GpPIrWTmtva"
      }
    },
    {
      "cell_type": "markdown",
      "source": [
        "## Overview\n",
        "\n",
        "This notebook tests the model described by the paper, [\"Multi-Label Generalized Zero Shot Learning for the Classification of Disease in Chest Radiographs\"](https://arxiv.org/abs/2107.06563), but with a different visual encoder (EfficientNet-B0). The goal is to measure the impact on AUROC and training time. Due to the project deadline, I cut the dataset and the number of epochs in half.\n",
        "\n",
        "**Note**: The dataset is ~42 GB. Expect significant download times.\n",
        "\n",
        "**Note**: The notebook will request access to Google Drive to save training checkpoints. This is to avoid loosing training progress if Google Colab times out."
      ],
      "metadata": {
        "id": "w5eH6S0Cm0Zk"
      }
    },
    {
      "cell_type": "code",
      "source": [
        "import argparse\n",
        "from datetime import datetime, timedelta\n",
        "import glob\n",
        "import multiprocessing\n",
        "import os\n",
        "import requests\n",
        "from statistics import mean\n",
        "import tarfile\n",
        "import time\n",
        "import urllib.request\n",
        "\n",
        "from google.colab import drive\n",
        "\n",
        "import matplotlib.pyplot as plt\n",
        "import numpy as np\n",
        "import pandas as pd\n",
        "from pandas.plotting import table\n",
        "from PIL import Image\n",
        "from sklearn.metrics import roc_auc_score\n",
        "import torch\n",
        "import torch.backends.cudnn as cudnn\n",
        "import torch.nn as nn\n",
        "import torch.nn.functional as F\n",
        "import torch.optim as optim\n",
        "from torch.optim.lr_scheduler import ReduceLROnPlateau\n",
        "from torch.utils.data import DataLoader, Dataset\n",
        "import torchvision\n",
        "from torchvision import models\n",
        "import torchvision.transforms as transforms\n",
        "from tqdm import tqdm"
      ],
      "metadata": {
        "id": "joTxgkRZm0l-"
      },
      "execution_count": 1,
      "outputs": []
    },
    {
      "cell_type": "code",
      "source": [
        "DRIVE_PATH = '/content/drive'\n",
        "\n",
        "if not os.path.ismount(DRIVE_PATH):\n",
        "    drive.mount(DRIVE_PATH)\n",
        "\n",
        "DRIVE_PATH = f'{DRIVE_PATH}/MyDrive'"
      ],
      "metadata": {
        "colab": {
          "base_uri": "https://localhost:8080/"
        },
        "id": "kDFLItJqpQ3d",
        "outputId": "e044e76b-46df-429c-d897-d88a37412ba1"
      },
      "execution_count": 2,
      "outputs": [
        {
          "output_type": "stream",
          "name": "stdout",
          "text": [
            "Mounted at /content/drive\n"
          ]
        }
      ]
    },
    {
      "cell_type": "code",
      "source": [
        "seed = 1002\n",
        "torch.manual_seed(seed)\n",
        "np.random.seed(seed)"
      ],
      "metadata": {
        "id": "-38ZtQXdoMlG"
      },
      "execution_count": 3,
      "outputs": []
    },
    {
      "cell_type": "markdown",
      "source": [
        "## Environment"
      ],
      "metadata": {
        "id": "-_skedoanth0"
      }
    },
    {
      "cell_type": "code",
      "source": [
        "!if command -v nvidia-smi &> /dev/null; then nvidia-smi --query-gpu=name --format=csv,noheader; else echo 'No NVIDIA GPU detected'; fi\n",
        "!echo\n",
        "!python --version\n",
        "!echo\n",
        "!pip list | grep -E \"matplotlib|numpy|pandas|pillow|scikit-learn|tqdm|torch|torchvision\""
      ],
      "metadata": {
        "colab": {
          "base_uri": "https://localhost:8080/"
        },
        "id": "mdIZXA5YnqOR",
        "outputId": "4f7a24db-d99f-4acf-ee01-f6b1ea86942c"
      },
      "execution_count": 4,
      "outputs": [
        {
          "output_type": "stream",
          "name": "stdout",
          "text": [
            "NVIDIA A100-SXM4-40GB\n",
            "\n",
            "Python 3.11.12\n",
            "\n",
            "geopandas                             1.0.1\n",
            "matplotlib                            3.10.0\n",
            "matplotlib-inline                     0.1.7\n",
            "matplotlib-venn                       1.1.2\n",
            "numpy                                 2.0.2\n",
            "pandas                                2.2.2\n",
            "pandas-datareader                     0.10.0\n",
            "pandas-gbq                            0.28.0\n",
            "pandas-stubs                          2.2.2.240909\n",
            "pillow                                11.1.0\n",
            "scikit-learn                          1.6.1\n",
            "sklearn-pandas                        2.2.0\n",
            "torch                                 2.6.0+cu124\n",
            "torchaudio                            2.6.0+cu124\n",
            "torchsummary                          1.5.1\n",
            "torchvision                           0.21.0+cu124\n",
            "tqdm                                  4.67.1\n"
          ]
        }
      ]
    },
    {
      "cell_type": "markdown",
      "source": [
        "## Download"
      ],
      "metadata": {
        "id": "9gHR5WMrn_IH"
      }
    },
    {
      "cell_type": "code",
      "source": [
        "for filename in [\"train.txt\", \"val.txt\", \"test.txt\"]:\n",
        "    response = requests.get(f\"https://raw.githubusercontent.com/nyuad-cai/CXR-ML-GZSL/master/dataset_splits/{filename}\")\n",
        "\n",
        "    with open(filename, \"w\") as f:\n",
        "        f.write(response.text)\n",
        "\n",
        "    print(f\"Downloaded: {filename}\")"
      ],
      "metadata": {
        "colab": {
          "base_uri": "https://localhost:8080/"
        },
        "id": "HuscYh5An_Og",
        "outputId": "cccbadb1-5519-4f90-a0b1-1076cdcac95b"
      },
      "execution_count": 5,
      "outputs": [
        {
          "output_type": "stream",
          "name": "stdout",
          "text": [
            "Downloaded: train.txt\n",
            "Downloaded: val.txt\n",
            "Downloaded: test.txt\n"
          ]
        }
      ]
    },
    {
      "cell_type": "code",
      "source": [
        "filename = \"Data_Entry_2017_v2020.csv\"\n",
        "response = requests.get('https://drive.google.com/uc?export=download&id=1mkOZNfYt-Px52b8CJZJANNbM3ULUVO3f')\n",
        "\n",
        "with open(filename, \"wb\") as file:\n",
        "    file.write(response.content)\n",
        "\n",
        "print(f\"Downloaded: {filename}\")"
      ],
      "metadata": {
        "colab": {
          "base_uri": "https://localhost:8080/"
        },
        "id": "h1VV543RoUWs",
        "outputId": "76ec6d90-d237-4fd5-8bed-de82cbc874b1"
      },
      "execution_count": 6,
      "outputs": [
        {
          "output_type": "stream",
          "name": "stdout",
          "text": [
            "Downloaded: Data_Entry_2017_v2020.csv\n"
          ]
        }
      ]
    },
    {
      "cell_type": "code",
      "source": [
        "CLASS_EMBEDDINGS = \"nih_chest_xray_biobert.npy\"\n",
        "\n",
        "response = requests.get(f\"https://raw.githubusercontent.com/nyuad-cai/CXR-ML-GZSL/master/embeddings/{CLASS_EMBEDDINGS}\")\n",
        "\n",
        "with open(CLASS_EMBEDDINGS, \"wb\") as f:\n",
        "    f.write(response.content)\n",
        "\n",
        "print(f\"Downloaded: {CLASS_EMBEDDINGS}\")"
      ],
      "metadata": {
        "colab": {
          "base_uri": "https://localhost:8080/"
        },
        "id": "JSXMRXMzoYiC",
        "outputId": "2992af59-fa88-4b40-d494-26e7efbda0f2"
      },
      "execution_count": 7,
      "outputs": [
        {
          "output_type": "stream",
          "name": "stdout",
          "text": [
            "Downloaded: nih_chest_xray_biobert.npy\n"
          ]
        }
      ]
    },
    {
      "cell_type": "code",
      "source": [
        "dataset = [\n",
        "    {\"filename\": \"images_001.tar.gz\", \"url\": \"https://nihcc.box.com/shared/static/vfk49d74nhbxq3nqjg0900w5nvkorp5c.gz\"},\n",
        "    {\"filename\": \"images_002.tar.gz\", \"url\": \"https://nihcc.box.com/shared/static/i28rlmbvmfjbl8p2n3ril0pptcmcu9d1.gz\"},\n",
        "    {\"filename\": \"images_003.tar.gz\", \"url\": \"https://nihcc.box.com/shared/static/f1t00wrtdk94satdfb9olcolqx20z2jp.gz\"},\n",
        "    {\"filename\": \"images_004.tar.gz\", \"url\": \"https://nihcc.box.com/shared/static/0aowwzs5lhjrceb3qp67ahp0rd1l1etg.gz\"},\n",
        "    {\"filename\": \"images_005.tar.gz\", \"url\": \"https://nihcc.box.com/shared/static/v5e3goj22zr6h8tzualxfsqlqaygfbsn.gz\"},\n",
        "    {\"filename\": \"images_006.tar.gz\", \"url\": \"https://nihcc.box.com/shared/static/asi7ikud9jwnkrnkj99jnpfkjdes7l6l.gz\"},\n",
        "]\n",
        "\n",
        "for item in dataset:\n",
        "    filename = item[\"filename\"]\n",
        "    url = item[\"url\"]\n",
        "\n",
        "    urllib.request.urlretrieve(url, filename)\n",
        "\n",
        "    with tarfile.open(filename, \"r:gz\") as tar:\n",
        "        tar.extractall()\n",
        "\n",
        "    os.remove(filename)\n",
        "\n",
        "    print(f\"Downloaded and extracted: {filename}\")\n",
        "\n",
        "IMAGE_PATH = \"images\"\n",
        "\n",
        "assert os.path.exists(IMAGE_PATH), \"Dataset is not in the expected directory!\""
      ],
      "metadata": {
        "colab": {
          "base_uri": "https://localhost:8080/"
        },
        "id": "9e2y32M6oZTT",
        "outputId": "b3324b50-f31c-4bce-f905-b9e64324469f"
      },
      "execution_count": 8,
      "outputs": [
        {
          "output_type": "stream",
          "name": "stdout",
          "text": [
            "Downloaded and extracted: images_001.tar.gz\n",
            "Downloaded and extracted: images_002.tar.gz\n",
            "Downloaded and extracted: images_003.tar.gz\n",
            "Downloaded and extracted: images_004.tar.gz\n",
            "Downloaded and extracted: images_005.tar.gz\n",
            "Downloaded and extracted: images_006.tar.gz\n"
          ]
        }
      ]
    },
    {
      "cell_type": "markdown",
      "source": [
        "## Dataset"
      ],
      "metadata": {
        "id": "2at94CtIoca_"
      }
    },
    {
      "cell_type": "code",
      "source": [
        "class NIHChestXray(Dataset):\n",
        "    def __init__ (self, args, pathDatasetFile, transform, classes_to_load='seen', exclude_all=True):\n",
        "        self.listImagePaths = []\n",
        "        self.listImageLabels = []\n",
        "        self.transform = transform\n",
        "        self.num_classes = args.num_classes\n",
        "\n",
        "        self._data_path = args.data_root\n",
        "        self.args = args\n",
        "\n",
        "        self.split_path = pathDatasetFile\n",
        "        self.CLASSES = [ 'Atelectasis', 'Cardiomegaly', 'Effusion', 'Infiltration', 'Mass', 'Nodule', 'Pneumonia',\n",
        "                'Pneumothorax', 'Consolidation', 'Edema', 'Emphysema', 'Fibrosis', 'Pleural_Thickening', 'Hernia']\n",
        "\n",
        "        self.unseen_classes = ['Edema', 'Pneumonia', 'Emphysema', 'Fibrosis']\n",
        "\n",
        "        self.seen_classes = [ 'Atelectasis', 'Effusion', 'Infiltration', 'Mass', 'Nodule',\n",
        "                'Pneumothorax', 'Consolidation', 'Cardiomegaly', 'Pleural_Thickening', 'Hernia']\n",
        "\n",
        "        self._class_ids = {v: i for i, v in enumerate(self.CLASSES) if v != 'No Finding'}\n",
        "\n",
        "        self.seen_class_ids = [self._class_ids[label] for label in self.seen_classes]\n",
        "        self.unseen_class_ids = [self._class_ids[label] for label in self.unseen_classes]\n",
        "\n",
        "        self.classes_to_load = classes_to_load\n",
        "        self.exclude_all = exclude_all\n",
        "        self._construct_index()\n",
        "\n",
        "    def _construct_index(self):\n",
        "        # Compile the split data path\n",
        "        max_labels = 0\n",
        "        paths = glob.glob('images/*.png' if self._data_path == '' else f'{self._data_path}/images/*.png')\n",
        "        self.names_to_path = {path.split('/')[-1]: path for path in paths}\n",
        "        data_entry_file = 'Data_Entry_2017_v2020.csv'\n",
        "\n",
        "        print(f'data partition path: {self.split_path}')\n",
        "        with open(self.split_path, 'r') as f: file_names = f.readlines()\n",
        "\n",
        "        split_file_names = np.array([file_name.strip().split(' ')[0].split('/')[-1] for file_name in file_names])\n",
        "        df = pd.read_csv(f'{data_entry_file}' if self._data_path == '' else f'{self._data_path}/{data_entry_file}')\n",
        "        image_index = df.iloc[:, 0].values\n",
        "\n",
        "        _, split_index, _ = np.intersect1d(image_index, split_file_names, return_indices=True)\n",
        "\n",
        "        labels = df.iloc[:, 1].values\n",
        "        labels = np.array(labels)[split_index]\n",
        "\n",
        "        labels = [label.split('|') for label in labels]\n",
        "\n",
        "        image_index = image_index[split_index]\n",
        "\n",
        "        # Construct the image db\n",
        "        self._imdb = []\n",
        "        self.class_ids_loaded = []\n",
        "        for index in range(len(split_index)):\n",
        "            if len(labels[index]) == 1 and labels[index][0] == 'No Finding':\n",
        "                continue\n",
        "            if self._should_load_image(labels[index]) is False:\n",
        "                continue\n",
        "            if image_index[index] not in self.names_to_path.keys():\n",
        "                continue\n",
        "            class_ids = [self._class_ids[label] for label in labels[index]]\n",
        "            self.class_ids_loaded +=class_ids\n",
        "            self._imdb.append({\n",
        "                'im_path': self.names_to_path[image_index[index]],\n",
        "                'labels': class_ids,\n",
        "            })\n",
        "            max_labels = max(max_labels, len(class_ids))\n",
        "\n",
        "        self.class_ids_loaded = np.unique(np.array(self.class_ids_loaded))\n",
        "        print(f'Number of images: {len(self._imdb)}')\n",
        "        print(f'Number of max labels per image: {max_labels}')\n",
        "        print(f'Number of classes: {len(self.class_ids_loaded)}')\n",
        "\n",
        "    def _should_load_image(self, labels):\n",
        "        selected_class_labels = self.CLASSES\n",
        "        if self.classes_to_load == 'seen':\n",
        "            selected_class_labels = self.seen_classes\n",
        "        elif self.classes_to_load == 'unseen':\n",
        "            selected_class_labels = self.unseen_classes\n",
        "        elif self.classes_to_load == 'all':\n",
        "            return True\n",
        "\n",
        "        count = 0\n",
        "        for label in labels:\n",
        "            if label in selected_class_labels:\n",
        "                count+=1\n",
        "\n",
        "        if count == len(labels):\n",
        "            # all labels from selected sub set\n",
        "            return True\n",
        "        elif count == 0:\n",
        "            # none label in selected sub set\n",
        "            return False\n",
        "        else:\n",
        "            # some labels in selected sub set\n",
        "            if self.exclude_all is True:\n",
        "                return False\n",
        "            else:\n",
        "                return True\n",
        "\n",
        "    def __getitem__(self, index):\n",
        "        imagePath = self._imdb[index]['im_path']\n",
        "        imageData = Image.open(imagePath).convert('RGB')\n",
        "        labels = torch.tensor(self._imdb[index]['labels'])\n",
        "        labels = labels.unsqueeze(0)\n",
        "        imageLabel = torch.zeros(labels.size(0), self.num_classes).scatter_(1, labels, 1.).squeeze()\n",
        "        img = self.transform(imageData)\n",
        "\n",
        "        return img, imageLabel\n",
        "\n",
        "    def __len__(self):\n",
        "        return len(self._imdb)"
      ],
      "metadata": {
        "id": "8_FNZd4oodnr"
      },
      "execution_count": 9,
      "outputs": []
    },
    {
      "cell_type": "markdown",
      "source": [
        "## Model"
      ],
      "metadata": {
        "id": "FjkdiOOXoiHp"
      }
    },
    {
      "cell_type": "code",
      "source": [
        "class RankingLoss(nn.Module):\n",
        "    def __init__(self, neg_penalty=0.03):\n",
        "        super(RankingLoss, self).__init__()\n",
        "\n",
        "        self.neg_penalty = neg_penalty\n",
        "\n",
        "    def forward(self, ranks, labels, class_ids_loaded, device):\n",
        "        '''\n",
        "        for each correct it should be higher then the absence\n",
        "        '''\n",
        "        labels = labels[:, class_ids_loaded]\n",
        "        ranks_loaded = ranks[:, class_ids_loaded]\n",
        "        neg_labels = 1+(labels*-1)\n",
        "        loss_rank = torch.zeros(1).to(device)\n",
        "        for i in range(len(labels)):\n",
        "            correct = ranks_loaded[i, labels[i]==1]\n",
        "            wrong = ranks_loaded[i, neg_labels[i]==1]\n",
        "            correct = correct.reshape((-1, 1)).repeat((1, len(wrong)))\n",
        "            wrong = wrong.repeat(len(correct)).reshape(len(correct), -1)\n",
        "            image_level_penalty = ((self.neg_penalty+wrong) - correct)\n",
        "            image_level_penalty[image_level_penalty<0]=0\n",
        "            loss_rank += image_level_penalty.sum()\n",
        "        loss_rank /=len(labels)\n",
        "\n",
        "        return loss_rank\n",
        "\n",
        "class CosineLoss(nn.Module):\n",
        "    def forward(self, t_emb, v_emb ):\n",
        "        a_norm = v_emb / v_emb.norm(dim=1)[:, None]\n",
        "        b_norm = t_emb / t_emb.norm(dim=1)[:, None]\n",
        "        loss = 1 - torch.mean(torch.diagonal(torch.mm(a_norm, b_norm.t()), 0))\n",
        "\n",
        "        return loss\n",
        "\n",
        "class ZSLNet(nn.Module):\n",
        "    def __init__(self, args, textual_embeddings=None, device='cpu'):\n",
        "        super(ZSLNet, self).__init__()\n",
        "        self.args = args\n",
        "        self.device = device\n",
        "        self.vision_backbone = getattr(torchvision.models, self.args.vision_backbone)(pretrained=self.args.pretrained)\n",
        "        # remove classification layer from visual encoder\n",
        "        classifiers = [ 'classifier', 'fc']\n",
        "        for classifier in classifiers:\n",
        "            cls_layer = getattr(self.vision_backbone, classifier, None)\n",
        "            if cls_layer is None:\n",
        "                continue\n",
        "            if isinstance(cls_layer, nn.Sequential):\n",
        "                last_layer = cls_layer[-1]\n",
        "                d_visual = last_layer.in_features\n",
        "            else:\n",
        "                d_visual = cls_layer.in_features\n",
        "            setattr(self.vision_backbone, classifier, nn.Identity(d_visual))\n",
        "            break\n",
        "\n",
        "        pretrained_encoder = False\n",
        "        if pretrained_encoder:\n",
        "            self.vision_backbone.classifier = nn.Identity(d_visual)\n",
        "\n",
        "            path = 'checkpoints/bce_only_imagenet/last_epoch_checkpoint.pth.tar'\n",
        "\n",
        "            self.classifier = nn.Sequential(nn.Linear(d_visual, self.args.num_classes), nn.Sigmoid())\n",
        "            checkpoint = torch.load(path, weights_only=False)\n",
        "            self.load_state_dict(checkpoint['state_dict'])\n",
        "\n",
        "            for p in self.vision_backbone.parameters():\n",
        "                p.requires_grad = False\n",
        "\n",
        "        if self.args.bce_only:\n",
        "            self.bce_loss = torch.nn.BCELoss(size_average=True)\n",
        "            self.classifier = nn.Sequential(nn.Linear(d_visual, self.args.num_classes), nn.Sigmoid())\n",
        "        else:\n",
        "            self.emb_loss = CosineLoss()\n",
        "            self.ranking_loss = RankingLoss(neg_penalty=self.args.neg_penalty)\n",
        "            self.textual_embeddings = textual_embeddings\n",
        "            d_textual = self.textual_embeddings.shape[-1]\n",
        "\n",
        "            self.textual_embeddings = torch.from_numpy(self.textual_embeddings).to(self.device)\n",
        "\n",
        "            self.fc_v = nn.Sequential(\n",
        "                nn.Linear(d_visual, 512),\n",
        "                nn.ReLU(),\n",
        "                nn.Linear(512, 256),\n",
        "                nn.ReLU(),\n",
        "                nn.Linear(256, 128),\n",
        "            )\n",
        "\n",
        "            self.fc_t = nn.Sequential(\n",
        "                nn.Linear(d_textual, 512),\n",
        "                nn.ReLU(),\n",
        "                nn.Linear(512, 256),\n",
        "                nn.ReLU(),\n",
        "                nn.Linear(256, 128)\n",
        "            )\n",
        "\n",
        "    def forward(self, x, labels=None, epoch=0, n_crops=0, bs=16):\n",
        "        if self.args.bce_only:\n",
        "            return self.forward_bce_only(x, labels=labels, n_crops=n_crops, bs=bs)\n",
        "        else:\n",
        "            return self.forward_ranking(x, labels=labels, epoch=epoch, n_crops=n_crops, bs=bs)\n",
        "\n",
        "    def forward_bce_only(self, x, labels=None, n_crops=0, bs=16):\n",
        "        lossvalue_bce = torch.zeros(1).to(self.device)\n",
        "\n",
        "        visual_feats = self.vision_backbone(x)\n",
        "        preds = self.classifier(visual_feats)\n",
        "\n",
        "        if labels is not None:\n",
        "            lossvalue_bce = self.bce_loss(preds, labels)\n",
        "\n",
        "        return preds, lossvalue_bce, f'bce:\\t {lossvalue_bce.item():0.4f}'\n",
        "\n",
        "    def forward_ranking(self, x, labels=None, epoch=0, n_crops=0, bs=16):\n",
        "        loss_rank = torch.zeros(1).to(self.device)\n",
        "        loss_allignment_cos = torch.zeros(1).to(self.device)\n",
        "        loss_mapping_consistency = torch.zeros(1).to(self.device)\n",
        "\n",
        "        visual_feats = self.vision_backbone(x)\n",
        "        visual_feats = self.fc_v(visual_feats)\n",
        "        text_feats = self.fc_t(self.textual_embeddings)\n",
        "\n",
        "        if not self.args.wo_con and epoch >= 0:\n",
        "            text_mapped_sim = self.sim_score(text_feats, text_feats.detach())\n",
        "            text_orig_sim = self.sim_score(self.textual_embeddings, self.textual_embeddings)\n",
        "            loss_mapping_consistency = torch.abs(text_orig_sim - text_mapped_sim).mean()\n",
        "\n",
        "        if labels is not None:\n",
        "            mapped_visual, mapped_text = self.map_visual_text(visual_feats, labels, text_feats)\n",
        "            if mapped_visual is not None and not self.args.wo_map and epoch >= 0:\n",
        "                loss_allignment_cos = self.emb_loss(mapped_text, mapped_visual)\n",
        "\n",
        "        ranks = self.sim_score(visual_feats, text_feats)\n",
        "        if n_crops > 0:\n",
        "            ranks = ranks.view(bs, n_crops, -1).mean(1)\n",
        "\n",
        "        if labels is not None:\n",
        "            loss_rank = self.ranking_loss(ranks, labels, self.class_ids_loaded, self.device)\n",
        "        loss_allignment_cos = (self.args.beta_map * loss_allignment_cos)\n",
        "        loss_rank = (self.args.beta_rank * loss_rank)\n",
        "        loss_mapping_consistency = (self.args.beta_con * loss_mapping_consistency)\n",
        "        losses = loss_rank + loss_mapping_consistency + loss_allignment_cos\n",
        "\n",
        "        return ranks, losses\n",
        "\n",
        "    def sim_score(self, a, b):\n",
        "        a_norm = a / a.norm(dim=1)[:, None]\n",
        "        b_norm = b / (1e-6+b.norm(dim=1))[:, None]\n",
        "        score = (torch.mm(a_norm, b_norm.t()))\n",
        "\n",
        "        return score\n",
        "\n",
        "    def map_visual_text(self, visual_feats, labels, labels_embd):\n",
        "        mapped_labels_embd = []\n",
        "        labels == 1\n",
        "        for i in range(0, labels.shape[0]):\n",
        "            class_embd = labels_embd[labels[i]==1].mean(dim=0)[None,:]\n",
        "            mapped_labels_embd.append(class_embd)\n",
        "        mapped_labels_embd = torch.cat(mapped_labels_embd)\n",
        "\n",
        "        return visual_feats.detach(), mapped_labels_embd.detach()"
      ],
      "metadata": {
        "id": "8NZ_2A3loifE"
      },
      "execution_count": 10,
      "outputs": []
    },
    {
      "cell_type": "markdown",
      "source": [
        "## Training"
      ],
      "metadata": {
        "id": "La5HaDGdopV5"
      }
    },
    {
      "cell_type": "code",
      "source": [
        "def plot_array(array, disc='loss'):\n",
        "    plt.plot(array)\n",
        "    plt.ylabel(disc)\n",
        "    plt.savefig(f'{disc}.pdf')\n",
        "    plt.close()\n",
        "\n",
        "class ChexnetTrainer(object):\n",
        "    def __init__(self, args):\n",
        "        self.args = args\n",
        "        self.device = torch.device('cuda' if torch.cuda.is_available() else 'cpu')\n",
        "\n",
        "        self.textual_embeddings = np.load(args.textual_embeddings)\n",
        "\n",
        "        self.model = ZSLNet(self.args, self.textual_embeddings, self.device).to(self.device)\n",
        "        self.optimizer = optim.Adam (self.model.parameters(), lr=self.args.lr, betas=(0.9, 0.999), eps=1e-08, weight_decay=1e-5)\n",
        "        self.scheduler = ReduceLROnPlateau(self.optimizer, factor=0.01, patience=10, mode='min')\n",
        "\n",
        "        self.loss = torch.nn.BCELoss(size_average=True)\n",
        "        self.auroc_min_loss = 0.0\n",
        "\n",
        "        self.start_epoch = 1\n",
        "        self.lossMIN = float('inf')\n",
        "        self.max_auroc_mean = float('-inf')\n",
        "        self.best_epoch = 1\n",
        "\n",
        "        self.val_losses = []\n",
        "\n",
        "        self.resume_from()\n",
        "        self.load_from()\n",
        "        self.init_dataset()\n",
        "\n",
        "        self.steps = [int(step) for step in self.args.steps.split(',')]\n",
        "        self.time_start = time.time()\n",
        "        self.time_end = time.time()\n",
        "        self.should_test = False\n",
        "        self.model.class_ids_loaded = self.train_dl.dataset.class_ids_loaded\n",
        "\n",
        "    def __call__(self):\n",
        "        self.train()\n",
        "\n",
        "    def load_from(self):\n",
        "        if self.args.load_from is not None:\n",
        "            checkpoint = torch.load(self.args.load_from, weights_only=False)\n",
        "            self.model.load_state_dict(checkpoint['state_dict'])\n",
        "            print(f'loaded checkpoint from {self.args.load_from}')\n",
        "\n",
        "    def resume_from(self):\n",
        "        if self.args.resume_from is not None:\n",
        "            checkpoint = torch.load(self.args.resume_from, weights_only=False)\n",
        "            self.model.load_state_dict(checkpoint['state_dict'])\n",
        "            self.optimizer.load_state_dict(checkpoint['optimizer'])\n",
        "            self.start_epoch = checkpoint['epoch'] + 1\n",
        "            self.lossMIN = checkpoint['lossMIN']\n",
        "            self.max_auroc_mean = checkpoint['max_auroc_mean']\n",
        "            print(f'resuming training from epoch {self.start_epoch}')\n",
        "\n",
        "    def save_checkpoint(self, prefix='best'):\n",
        "        path = f'{self.args.save_dir}/{prefix}_checkpoint.pth.tar'\n",
        "        torch.save(\n",
        "            {\n",
        "            'epoch': self.epoch,\n",
        "            'state_dict': self.model.state_dict(),\n",
        "            'max_auroc_mean': self.max_auroc_mean,\n",
        "            'optimizer' : self.optimizer.state_dict(),\n",
        "            'lossMIN' : self.lossMIN\n",
        "            }, path)\n",
        "        print(f\"saving {prefix} checkpoint\")\n",
        "\n",
        "    def init_dataset(self):\n",
        "        normalize = transforms.Normalize([0.485, 0.456, 0.406], [0.229, 0.224, 0.225])\n",
        "\n",
        "        train_transforms = []\n",
        "        train_transforms.append(transforms.RandomResizedCrop(self.args.crop))\n",
        "        train_transforms.append(transforms.RandomHorizontalFlip())\n",
        "        train_transforms.append(transforms.ToTensor())\n",
        "        train_transforms.append(normalize)\n",
        "\n",
        "        datasetTrain = NIHChestXray(self.args, self.args.train_file, transform=transforms.Compose(train_transforms))\n",
        "\n",
        "        self.train_dl = DataLoader(dataset=datasetTrain, batch_size=self.args.batch_size, shuffle=True,  num_workers=4, pin_memory=True)\n",
        "\n",
        "        test_transforms = []\n",
        "        test_transforms.append(transforms.Resize(self.args.resize))\n",
        "        test_transforms.append(transforms.TenCrop(self.args.crop))\n",
        "        test_transforms.append(transforms.Lambda(lambda crops: torch.stack([transforms.ToTensor()(crop) for crop in crops])))\n",
        "        test_transforms.append(transforms.Lambda(lambda crops: torch.stack([normalize(crop) for crop in crops])))\n",
        "\n",
        "        datasetVal = NIHChestXray(self.args, self.args.val_file, transform=transforms.Compose(test_transforms))\n",
        "        self.val_dl = DataLoader(dataset=datasetVal, batch_size=self.args.batch_size*10, shuffle=False, num_workers=4, pin_memory=True)\n",
        "\n",
        "        datasetTest = NIHChestXray(self.args, self.args.test_file, transform=transforms.Compose(test_transforms), classes_to_load='all')\n",
        "        self.test_dl = DataLoader(dataset=datasetTest, batch_size=self.args.batch_size*3, num_workers=8, shuffle=False, pin_memory=True)\n",
        "        print(datasetTest.CLASSES)\n",
        "\n",
        "    def train(self):\n",
        "        for self.epoch in range(self.start_epoch, self.args.epochs + 1):\n",
        "            self.epochTrain()\n",
        "            lossVal, val_ind_auroc = self.epochVal()\n",
        "            val_ind_auroc = np.array(val_ind_auroc)\n",
        "\n",
        "            aurocMean = val_ind_auroc.mean()\n",
        "            self.save_checkpoint(prefix=f'last_epoch')\n",
        "            self.should_test = False\n",
        "\n",
        "            if aurocMean > self.max_auroc_mean:\n",
        "                self.max_auroc_mean = aurocMean\n",
        "                self.save_checkpoint(prefix='best_auroc')\n",
        "                self.best_epoch = self.epoch\n",
        "                self.should_test = True\n",
        "\n",
        "            if lossVal < self.lossMIN:\n",
        "                self.lossMIN = lossVal\n",
        "                self.auroc_min_loss = aurocMean\n",
        "                self.save_checkpoint(prefix='min_loss')\n",
        "                self.should_test = True\n",
        "\n",
        "            self.print_auroc(val_ind_auroc, self.val_dl.dataset.class_ids_loaded, prefix='val')\n",
        "            if self.should_test is True:\n",
        "                test_ind_auroc = self.test()\n",
        "                test_ind_auroc = np.array(test_ind_auroc)\n",
        "\n",
        "                self.write_results(val_ind_auroc, self.val_dl.dataset.class_ids_loaded, prefix=f'\\n\\nepoch {self.epoch}\\nval', mode='a')\n",
        "\n",
        "                self.write_results(test_ind_auroc[self.test_dl.dataset.seen_class_ids], self.test_dl.dataset.seen_class_ids, prefix='\\ntest_seen', mode='a')\n",
        "                self.write_results(test_ind_auroc[self.test_dl.dataset.unseen_class_ids], self.test_dl.dataset.unseen_class_ids, prefix='\\ntest_unseen', mode='a')\n",
        "\n",
        "                self.print_auroc(test_ind_auroc[self.test_dl.dataset.seen_class_ids], self.test_dl.dataset.seen_class_ids, prefix='\\ntest_seen')\n",
        "                self.print_auroc(test_ind_auroc[self.test_dl.dataset.unseen_class_ids], self.test_dl.dataset.unseen_class_ids, prefix='\\ntest_unseen')\n",
        "\n",
        "            plot_array(self.val_losses, f'{self.args.save_dir}/val_loss')\n",
        "            print(f'best epoch {self.best_epoch} best auroc {self.max_auroc_mean} loss {lossVal:.6f} auroc at min loss {self.auroc_min_loss:0.4f}')\n",
        "\n",
        "            self.scheduler.step(lossVal)\n",
        "\n",
        "    def get_eta(self, epoch, iter):\n",
        "        self.time_end = time.time()\n",
        "        delta = self.time_end - self.time_start\n",
        "        delta = delta * (len(self.train_dl) * ((self.args.epochs + 1) - epoch) - iter)\n",
        "        sec = timedelta(seconds=int(delta))\n",
        "        d = (datetime(1,1,1) + sec)\n",
        "        eta = f\"{d.day-1} Days {d.hour}:{d.minute}:{d.second}\"\n",
        "        self.time_start = time.time()\n",
        "\n",
        "        return eta\n",
        "\n",
        "    def epochTrain(self):\n",
        "        self.model.train()\n",
        "        epoch_loss = 0\n",
        "        for batchID, (inputs, target) in enumerate (self.train_dl):\n",
        "\n",
        "            target = target.to(self.device)\n",
        "            inputs = inputs.to(self.device)\n",
        "            output, loss = self.model(inputs, target, self.epoch)\n",
        "\n",
        "            self.optimizer.zero_grad()\n",
        "            loss.backward()\n",
        "            self.optimizer.step()\n",
        "            eta = self.get_eta(self.epoch, batchID)\n",
        "            epoch_loss +=loss.item()\n",
        "            if batchID % 100 == 99:\n",
        "                print(f\" epoch [{self.epoch:04d} / {self.args.epochs:04d}] eta: {eta:<20} [{batchID:04}/{len(self.train_dl)}] lr: \\t{self.optimizer.param_groups[0]['lr']:0.4E} loss: \\t{epoch_loss/batchID:0.5f}\")\n",
        "\n",
        "    def epochVal(self):\n",
        "        self.model.eval()\n",
        "\n",
        "        lossVal = 0\n",
        "\n",
        "        outGT = torch.FloatTensor().to(self.device)\n",
        "        outPRED = torch.FloatTensor().to(self.device)\n",
        "        for i, (inputs, target) in enumerate (tqdm(self.val_dl)):\n",
        "            with torch.no_grad():\n",
        "                target = target.to(self.device)\n",
        "                inputs = inputs.to(self.device)\n",
        "                varTarget = torch.autograd.Variable(target)\n",
        "                bs, n_crops, c, h, w = inputs.size()\n",
        "\n",
        "                varInput = torch.autograd.Variable(inputs.view(-1, c, h, w).to(self.device))\n",
        "\n",
        "                varOutput, losstensor = self.model(varInput, varTarget, n_crops=n_crops, bs=bs)\n",
        "\n",
        "                outPRED = torch.cat((outPRED, varOutput), 0)\n",
        "                outGT = torch.cat((outGT, target), 0)\n",
        "\n",
        "                lossVal+=losstensor.item()\n",
        "                del varOutput, varTarget, varInput, target, inputs\n",
        "        lossVal = lossVal / len(self.val_dl)\n",
        "\n",
        "        aurocIndividual = self.computeAUROC(outGT, outPRED, self.val_dl.dataset.class_ids_loaded)\n",
        "        self.val_losses.append(lossVal)\n",
        "\n",
        "        return lossVal, aurocIndividual\n",
        "\n",
        "    def test(self):\n",
        "        cudnn.benchmark = True\n",
        "        outGT = torch.FloatTensor().cuda()\n",
        "        outPRED = torch.FloatTensor().cuda()\n",
        "\n",
        "        self.model.eval()\n",
        "\n",
        "        for i, (inputs, target) in enumerate(tqdm(self.test_dl)):\n",
        "            with torch.no_grad():\n",
        "                target = target.to(self.device)\n",
        "                outGT = torch.cat((outGT, target), 0)\n",
        "\n",
        "                bs, n_crops, c, h, w = inputs.size()\n",
        "\n",
        "                varInput = torch.autograd.Variable(inputs.view(-1, c, h, w).to(self.device))\n",
        "\n",
        "                out, _ = self.model(varInput, n_crops=n_crops, bs=bs)\n",
        "\n",
        "                outPRED = torch.cat((outPRED, out.data), 0)\n",
        "\n",
        "        aurocIndividual = self.computeAUROC(outGT, outPRED, self.test_dl.dataset.class_ids_loaded)\n",
        "\n",
        "        return aurocIndividual\n",
        "\n",
        "    def computeAUROC(self, dataGT, dataPRED, class_ids):\n",
        "        outAUROC = []\n",
        "        datanpGT = dataGT.cpu().numpy()\n",
        "        datanpPRED = dataPRED.cpu().numpy()\n",
        "\n",
        "        for i in class_ids:\n",
        "            outAUROC.append(roc_auc_score(datanpGT[:, i], datanpPRED[:, i]))\n",
        "        return outAUROC\n",
        "\n",
        "    def write_results(self, aurocIndividual, class_ids, prefix='val', mode='a'):\n",
        "        with open(f\"{self.args.save_dir}/results.txt\", mode) as results_file:\n",
        "            aurocMean = aurocIndividual.mean()\n",
        "\n",
        "            results_file.write(f'{prefix} AUROC mean {aurocMean:0.4f}\\n')\n",
        "            for i, class_id in enumerate(class_ids):\n",
        "                results_file.write(f'{self.val_dl.dataset.CLASSES[class_id]} {aurocIndividual[i]:0.4f}\\n')\n",
        "\n",
        "    def print_auroc(self, aurocIndividual, class_ids, prefix='val'):\n",
        "        aurocMean = aurocIndividual.mean()\n",
        "\n",
        "        print (f'{prefix} AUROC mean {aurocMean:0.4f}')\n",
        "\n",
        "        for i, class_id in enumerate(class_ids):\n",
        "            print (f'{self.val_dl.dataset.CLASSES[class_id]} {aurocIndividual[i]:0.4f}')"
      ],
      "metadata": {
        "id": "T24vragaopeZ"
      },
      "execution_count": 11,
      "outputs": []
    },
    {
      "cell_type": "code",
      "source": [
        "argParser = argparse.ArgumentParser(description='arguments')\n",
        "\n",
        "argParser.add_argument('--data-root', default='', type=str, help='the path to dataset')\n",
        "argParser.add_argument('--save-dir', default='', type=str, help='the path to save the checkpoints')\n",
        "argParser.add_argument('--train-file', default=f'train.txt', type=str, help='the path to train list ')\n",
        "argParser.add_argument('--val-file', default=f'val.txt', type=str, help='the path to val list ')\n",
        "argParser.add_argument('--test-file', default=f'test.txt', type=str, help='the path to test list')\n",
        "\n",
        "argParser.add_argument('--pretrained', dest='pretrained', action='store_true',  help='load imagenet pretrained model')\n",
        "argParser.add_argument('--bce-only', dest='bce_only', help='train with only binary cross entropy loss', action='store_true')\n",
        "\n",
        "argParser.add_argument('--num-classes', default=14, type=int, help='number of classes')\n",
        "argParser.add_argument('--batch-size', default=16, type=int, help='training batch size')\n",
        "argParser.add_argument('--epochs', default=40, type=int, help='number of epochs to train')\n",
        "argParser.add_argument('--vision-backbone', default='densenet121', type=str, help='[densenet121, densenet169, densenet201]')\n",
        "argParser.add_argument('--resume-from', default=None, type=str, help='path to checkpoint to resume the training from')\n",
        "argParser.add_argument('--load-from', default=None, type=str, help='path to checkpoint to load the weights from')\n",
        "\n",
        "argParser.add_argument('--resize', default=256, type=int, help='number of epochs to train')\n",
        "argParser.add_argument('--crop', default=224, type=int, help='number of epochs to train')\n",
        "argParser.add_argument('--lr', default=0.0001, type=float, help='learning rate')\n",
        "argParser.add_argument('--steps', default='20, 40, 60, 80', type=str, help='learning rate decay steps comma separated')\n",
        "\n",
        "argParser.add_argument('--beta-map', default=0.1, type=float, help='learning rate')\n",
        "argParser.add_argument('--beta-con', default=0.1, type=float, help='learning rate')\n",
        "argParser.add_argument('--beta-rank', default=1, type=float, help='learning rate')\n",
        "argParser.add_argument('--neg-penalty', default=0.03, type=float, help='learning rate')\n",
        "\n",
        "argParser.add_argument('--wo-con', dest='wo_con', help='train with out semantic consistency regularizer loss', action='store_true')\n",
        "argParser.add_argument('--wo-map', dest='wo_map', help='train with out alignement loss', action='store_true')\n",
        "\n",
        "argParser.add_argument('--textual-embeddings', default=CLASS_EMBEDDINGS, type=str, help='the path to labels embeddings')"
      ],
      "metadata": {
        "colab": {
          "base_uri": "https://localhost:8080/"
        },
        "id": "MtX9ha2Io3K1",
        "outputId": "f411c25e-9938-48eb-c63d-c5cd985c521d"
      },
      "execution_count": 12,
      "outputs": [
        {
          "output_type": "execute_result",
          "data": {
            "text/plain": [
              "_StoreAction(option_strings=['--textual-embeddings'], dest='textual_embeddings', nargs=None, const=None, default='nih_chest_xray_biobert.npy', type=<class 'str'>, choices=None, required=False, help='the path to labels embeddings', metavar=None)"
            ]
          },
          "metadata": {},
          "execution_count": 12
        }
      ]
    },
    {
      "cell_type": "code",
      "source": [
        "results = {}\n",
        "\n",
        "def harmonic_mean(a, b):\n",
        "    return (2 * a * b) / (a + b)"
      ],
      "metadata": {
        "id": "QsisAU1Lr9P1"
      },
      "execution_count": 13,
      "outputs": []
    },
    {
      "cell_type": "markdown",
      "source": [
        "### DenseNet-121"
      ],
      "metadata": {
        "id": "9sutLLxUpf0n"
      }
    },
    {
      "cell_type": "code",
      "source": [
        "arg_list = ['--epochs', '50',\n",
        "            '--neg-penalty', '0.5',\n",
        "            '--save-dir', DRIVE_PATH,\n",
        "            '--vision-backbone', 'densenet121']\n",
        "\n",
        "args = argParser.parse_args(arg_list)\n",
        "\n",
        "trainer = ChexnetTrainer(args)\n",
        "\n",
        "start = time.time()\n",
        "trainer()\n",
        "end = time.time()\n",
        "\n",
        "checkpoint = torch.load(f'{DRIVE_PATH}/best_auroc_checkpoint.pth.tar', weights_only=False)\n",
        "trainer.model.load_state_dict(checkpoint['state_dict'])\n",
        "test_ind_auroc = trainer.test()\n",
        "test_ind_auroc = np.array(test_ind_auroc)\n",
        "\n",
        "results[\"DenseNet-121\"] = {\n",
        "        \"Seen Mean (AUROC)\":          test_ind_auroc[trainer.test_dl.dataset.seen_class_ids].mean(),\n",
        "        \"Unseen Mean (AUROC)\":        test_ind_auroc[trainer.test_dl.dataset.unseen_class_ids].mean(),\n",
        "        \"Harmonic Mean (AUROC)\":      harmonic_mean(test_ind_auroc[trainer.test_dl.dataset.seen_class_ids].mean(), test_ind_auroc[trainer.test_dl.dataset.unseen_class_ids].mean()),\n",
        "        \"Training Time (hours)\":      (end - start) / (60 * 60)\n",
        "}\n",
        "\n",
        "os.rename(f'{DRIVE_PATH}/best_auroc_checkpoint.pth.tar', f'{DRIVE_PATH}/best_auroc_checkpoint_densenet121.pth.tar')"
      ],
      "metadata": {
        "colab": {
          "base_uri": "https://localhost:8080/"
        },
        "id": "RXpsvZcno87t",
        "outputId": "cfb82afe-8120-4daa-b343-d48f4f71f38d"
      },
      "execution_count": 14,
      "outputs": [
        {
          "output_type": "stream",
          "name": "stderr",
          "text": [
            "/usr/local/lib/python3.11/dist-packages/torchvision/models/_utils.py:208: UserWarning: The parameter 'pretrained' is deprecated since 0.13 and may be removed in the future, please use 'weights' instead.\n",
            "  warnings.warn(\n",
            "/usr/local/lib/python3.11/dist-packages/torchvision/models/_utils.py:223: UserWarning: Arguments other than a weight enum or `None` for 'weights' are deprecated since 0.13 and may be removed in the future. The current behavior is equivalent to passing `weights=None`.\n",
            "  warnings.warn(msg)\n",
            "/usr/local/lib/python3.11/dist-packages/torch/nn/_reduction.py:51: UserWarning: size_average and reduce args will be deprecated, please use reduction='mean' instead.\n",
            "  warnings.warn(warning.format(ret))\n"
          ]
        },
        {
          "output_type": "stream",
          "name": "stdout",
          "text": [
            "data partition path: train.txt\n",
            "Number of images: 14160\n",
            "Number of max labels per image: 6\n",
            "Number of classes: 10\n",
            "data partition path: val.txt\n",
            "Number of images: 1979\n",
            "Number of max labels per image: 6\n",
            "Number of classes: 10\n",
            "data partition path: test.txt\n",
            "Number of images: 4737\n",
            "Number of max labels per image: 7\n",
            "Number of classes: 14\n",
            "['Atelectasis', 'Cardiomegaly', 'Effusion', 'Infiltration', 'Mass', 'Nodule', 'Pneumonia', 'Pneumothorax', 'Consolidation', 'Edema', 'Emphysema', 'Fibrosis', 'Pleural_Thickening', 'Hernia']\n",
            " epoch [0001 / 0050] eta: 0 Days 1:11:43       [0099/885] lr: \t1.0000E-04 loss: \t3.74312\n",
            " epoch [0001 / 0050] eta: 0 Days 1:12:32       [0199/885] lr: \t1.0000E-04 loss: \t3.72663\n",
            " epoch [0001 / 0050] eta: 0 Days 1:11:0        [0299/885] lr: \t1.0000E-04 loss: \t3.71584\n",
            " epoch [0001 / 0050] eta: 0 Days 1:9:37        [0399/885] lr: \t1.0000E-04 loss: \t3.67421\n",
            " epoch [0001 / 0050] eta: 0 Days 1:9:45        [0499/885] lr: \t1.0000E-04 loss: \t3.64674\n",
            " epoch [0001 / 0050] eta: 0 Days 1:11:20       [0599/885] lr: \t1.0000E-04 loss: \t3.63750\n",
            " epoch [0001 / 0050] eta: 0 Days 1:15:24       [0699/885] lr: \t1.0000E-04 loss: \t3.62910\n",
            " epoch [0001 / 0050] eta: 0 Days 1:10:53       [0799/885] lr: \t1.0000E-04 loss: \t3.61849\n"
          ]
        },
        {
          "output_type": "stream",
          "name": "stderr",
          "text": [
            "100%|██████████| 13/13 [00:23<00:00,  1.77s/it]\n"
          ]
        },
        {
          "output_type": "stream",
          "name": "stdout",
          "text": [
            "saving last_epoch checkpoint\n",
            "saving best_auroc checkpoint\n",
            "saving min_loss checkpoint\n",
            "val AUROC mean 0.6169\n",
            "Atelectasis 0.6276\n",
            "Cardiomegaly 0.5858\n",
            "Effusion 0.6163\n",
            "Infiltration 0.5654\n",
            "Mass 0.5247\n",
            "Nodule 0.6029\n",
            "Pneumothorax 0.6067\n",
            "Consolidation 0.6632\n",
            "Pleural_Thickening 0.5803\n",
            "Hernia 0.7956\n"
          ]
        },
        {
          "output_type": "stream",
          "name": "stderr",
          "text": [
            "100%|██████████| 99/99 [00:34<00:00,  2.84it/s]\n"
          ]
        },
        {
          "output_type": "stream",
          "name": "stdout",
          "text": [
            "\n",
            "test_seen AUROC mean 0.6033\n",
            "Atelectasis 0.5829\n",
            "Effusion 0.6087\n",
            "Infiltration 0.5663\n",
            "Mass 0.5364\n",
            "Nodule 0.6465\n",
            "Pneumothorax 0.5362\n",
            "Consolidation 0.6402\n",
            "Cardiomegaly 0.5871\n",
            "Pleural_Thickening 0.5864\n",
            "Hernia 0.7426\n",
            "\n",
            "test_unseen AUROC mean 0.4808\n",
            "Edema 0.6268\n",
            "Pneumonia 0.4609\n",
            "Emphysema 0.4647\n",
            "Fibrosis 0.3707\n",
            "best epoch 1 best auroc 0.6168627382880437 loss 3.437547 auroc at min loss 0.6169\n",
            " epoch [0002 / 0050] eta: 0 Days 1:8:50        [0099/885] lr: \t1.0000E-04 loss: \t3.51329\n",
            " epoch [0002 / 0050] eta: 0 Days 1:10:45       [0199/885] lr: \t1.0000E-04 loss: \t3.55583\n",
            " epoch [0002 / 0050] eta: 0 Days 1:9:16        [0299/885] lr: \t1.0000E-04 loss: \t3.53812\n",
            " epoch [0002 / 0050] eta: 0 Days 1:8:19        [0399/885] lr: \t1.0000E-04 loss: \t3.54368\n",
            " epoch [0002 / 0050] eta: 0 Days 1:18:43       [0499/885] lr: \t1.0000E-04 loss: \t3.52608\n",
            " epoch [0002 / 0050] eta: 0 Days 1:8:7         [0599/885] lr: \t1.0000E-04 loss: \t3.53067\n",
            " epoch [0002 / 0050] eta: 0 Days 1:8:8         [0699/885] lr: \t1.0000E-04 loss: \t3.52386\n",
            " epoch [0002 / 0050] eta: 0 Days 1:9:3         [0799/885] lr: \t1.0000E-04 loss: \t3.52319\n"
          ]
        },
        {
          "output_type": "stream",
          "name": "stderr",
          "text": [
            "100%|██████████| 13/13 [00:22<00:00,  1.70s/it]\n"
          ]
        },
        {
          "output_type": "stream",
          "name": "stdout",
          "text": [
            "saving last_epoch checkpoint\n",
            "saving min_loss checkpoint\n",
            "val AUROC mean 0.6061\n",
            "Atelectasis 0.6260\n",
            "Cardiomegaly 0.5158\n",
            "Effusion 0.5587\n",
            "Infiltration 0.5611\n",
            "Mass 0.5941\n",
            "Nodule 0.6171\n",
            "Pneumothorax 0.6054\n",
            "Consolidation 0.6108\n",
            "Pleural_Thickening 0.5863\n",
            "Hernia 0.7861\n"
          ]
        },
        {
          "output_type": "stream",
          "name": "stderr",
          "text": [
            "100%|██████████| 99/99 [00:29<00:00,  3.30it/s]\n"
          ]
        },
        {
          "output_type": "stream",
          "name": "stdout",
          "text": [
            "\n",
            "test_seen AUROC mean 0.5928\n",
            "Atelectasis 0.5618\n",
            "Effusion 0.5646\n",
            "Infiltration 0.5604\n",
            "Mass 0.5714\n",
            "Nodule 0.6357\n",
            "Pneumothorax 0.5509\n",
            "Consolidation 0.6050\n",
            "Cardiomegaly 0.5358\n",
            "Pleural_Thickening 0.5906\n",
            "Hernia 0.7517\n",
            "\n",
            "test_unseen AUROC mean 0.4763\n",
            "Edema 0.4191\n",
            "Pneumonia 0.4671\n",
            "Emphysema 0.4975\n",
            "Fibrosis 0.5214\n",
            "best epoch 1 best auroc 0.6168627382880437 loss 3.396542 auroc at min loss 0.6061\n",
            " epoch [0003 / 0050] eta: 0 Days 1:23:6        [0099/885] lr: \t1.0000E-04 loss: \t3.65663\n",
            " epoch [0003 / 0050] eta: 0 Days 1:6:25        [0199/885] lr: \t1.0000E-04 loss: \t3.60207\n",
            " epoch [0003 / 0050] eta: 0 Days 1:6:36        [0299/885] lr: \t1.0000E-04 loss: \t3.57751\n",
            " epoch [0003 / 0050] eta: 0 Days 1:7:52        [0399/885] lr: \t1.0000E-04 loss: \t3.55128\n",
            " epoch [0003 / 0050] eta: 0 Days 1:6:3         [0499/885] lr: \t1.0000E-04 loss: \t3.51474\n",
            " epoch [0003 / 0050] eta: 0 Days 1:18:22       [0599/885] lr: \t1.0000E-04 loss: \t3.50162\n",
            " epoch [0003 / 0050] eta: 0 Days 1:8:30        [0699/885] lr: \t1.0000E-04 loss: \t3.48848\n",
            " epoch [0003 / 0050] eta: 0 Days 1:6:29        [0799/885] lr: \t1.0000E-04 loss: \t3.48582\n"
          ]
        },
        {
          "output_type": "stream",
          "name": "stderr",
          "text": [
            "100%|██████████| 13/13 [00:22<00:00,  1.73s/it]\n"
          ]
        },
        {
          "output_type": "stream",
          "name": "stdout",
          "text": [
            "saving last_epoch checkpoint\n",
            "val AUROC mean 0.5953\n",
            "Atelectasis 0.5587\n",
            "Cardiomegaly 0.5790\n",
            "Effusion 0.5029\n",
            "Infiltration 0.5879\n",
            "Mass 0.6062\n",
            "Nodule 0.5983\n",
            "Pneumothorax 0.6392\n",
            "Consolidation 0.5638\n",
            "Pleural_Thickening 0.5752\n",
            "Hernia 0.7423\n",
            "best epoch 1 best auroc 0.6168627382880437 loss 3.429231 auroc at min loss 0.6061\n",
            " epoch [0004 / 0050] eta: 0 Days 1:15:58       [0099/885] lr: \t1.0000E-04 loss: \t3.41449\n",
            " epoch [0004 / 0050] eta: 0 Days 1:6:18        [0199/885] lr: \t1.0000E-04 loss: \t3.43976\n",
            " epoch [0004 / 0050] eta: 0 Days 1:6:21        [0299/885] lr: \t1.0000E-04 loss: \t3.44952\n",
            " epoch [0004 / 0050] eta: 0 Days 1:5:31        [0399/885] lr: \t1.0000E-04 loss: \t3.45152\n",
            " epoch [0004 / 0050] eta: 0 Days 1:6:17        [0499/885] lr: \t1.0000E-04 loss: \t3.45619\n",
            " epoch [0004 / 0050] eta: 0 Days 1:6:41        [0599/885] lr: \t1.0000E-04 loss: \t3.45121\n",
            " epoch [0004 / 0050] eta: 0 Days 1:6:19        [0699/885] lr: \t1.0000E-04 loss: \t3.45209\n",
            " epoch [0004 / 0050] eta: 0 Days 1:5:48        [0799/885] lr: \t1.0000E-04 loss: \t3.45919\n"
          ]
        },
        {
          "output_type": "stream",
          "name": "stderr",
          "text": [
            "100%|██████████| 13/13 [00:22<00:00,  1.73s/it]\n"
          ]
        },
        {
          "output_type": "stream",
          "name": "stdout",
          "text": [
            "saving last_epoch checkpoint\n",
            "saving min_loss checkpoint\n",
            "val AUROC mean 0.6092\n",
            "Atelectasis 0.6208\n",
            "Cardiomegaly 0.5256\n",
            "Effusion 0.5974\n",
            "Infiltration 0.5823\n",
            "Mass 0.5982\n",
            "Nodule 0.6092\n",
            "Pneumothorax 0.5810\n",
            "Consolidation 0.6322\n",
            "Pleural_Thickening 0.5523\n",
            "Hernia 0.7926\n"
          ]
        },
        {
          "output_type": "stream",
          "name": "stderr",
          "text": [
            "100%|██████████| 99/99 [00:29<00:00,  3.32it/s]\n"
          ]
        },
        {
          "output_type": "stream",
          "name": "stdout",
          "text": [
            "\n",
            "test_seen AUROC mean 0.6004\n",
            "Atelectasis 0.5684\n",
            "Effusion 0.5893\n",
            "Infiltration 0.5790\n",
            "Mass 0.5697\n",
            "Nodule 0.6323\n",
            "Pneumothorax 0.5342\n",
            "Consolidation 0.6359\n",
            "Cardiomegaly 0.5522\n",
            "Pleural_Thickening 0.5740\n",
            "Hernia 0.7694\n",
            "\n",
            "test_unseen AUROC mean 0.4622\n",
            "Edema 0.4330\n",
            "Pneumonia 0.4233\n",
            "Emphysema 0.4572\n",
            "Fibrosis 0.5351\n",
            "best epoch 1 best auroc 0.6168627382880437 loss 3.326457 auroc at min loss 0.6092\n",
            " epoch [0005 / 0050] eta: 0 Days 1:4:37        [0099/885] lr: \t1.0000E-04 loss: \t3.47244\n",
            " epoch [0005 / 0050] eta: 0 Days 1:15:37       [0199/885] lr: \t1.0000E-04 loss: \t3.40296\n",
            " epoch [0005 / 0050] eta: 0 Days 1:3:24        [0299/885] lr: \t1.0000E-04 loss: \t3.43270\n",
            " epoch [0005 / 0050] eta: 0 Days 1:3:59        [0399/885] lr: \t1.0000E-04 loss: \t3.42533\n",
            " epoch [0005 / 0050] eta: 0 Days 1:4:57        [0499/885] lr: \t1.0000E-04 loss: \t3.42488\n",
            " epoch [0005 / 0050] eta: 0 Days 1:6:16        [0599/885] lr: \t1.0000E-04 loss: \t3.40773\n",
            " epoch [0005 / 0050] eta: 0 Days 1:5:29        [0699/885] lr: \t1.0000E-04 loss: \t3.42252\n",
            " epoch [0005 / 0050] eta: 0 Days 1:4:19        [0799/885] lr: \t1.0000E-04 loss: \t3.44252\n"
          ]
        },
        {
          "output_type": "stream",
          "name": "stderr",
          "text": [
            "100%|██████████| 13/13 [00:22<00:00,  1.73s/it]\n"
          ]
        },
        {
          "output_type": "stream",
          "name": "stdout",
          "text": [
            "saving last_epoch checkpoint\n",
            "saving best_auroc checkpoint\n",
            "val AUROC mean 0.6169\n",
            "Atelectasis 0.5937\n",
            "Cardiomegaly 0.6227\n",
            "Effusion 0.5298\n",
            "Infiltration 0.5845\n",
            "Mass 0.6213\n",
            "Nodule 0.6130\n",
            "Pneumothorax 0.6414\n",
            "Consolidation 0.6486\n",
            "Pleural_Thickening 0.5609\n",
            "Hernia 0.7534\n"
          ]
        },
        {
          "output_type": "stream",
          "name": "stderr",
          "text": [
            "100%|██████████| 99/99 [00:29<00:00,  3.31it/s]\n"
          ]
        },
        {
          "output_type": "stream",
          "name": "stdout",
          "text": [
            "\n",
            "test_seen AUROC mean 0.6116\n",
            "Atelectasis 0.5726\n",
            "Effusion 0.5612\n",
            "Infiltration 0.5823\n",
            "Mass 0.5736\n",
            "Nodule 0.6622\n",
            "Pneumothorax 0.5540\n",
            "Consolidation 0.6353\n",
            "Cardiomegaly 0.6048\n",
            "Pleural_Thickening 0.5847\n",
            "Hernia 0.7852\n",
            "\n",
            "test_unseen AUROC mean 0.4627\n",
            "Edema 0.3308\n",
            "Pneumonia 0.4880\n",
            "Emphysema 0.4798\n",
            "Fibrosis 0.5520\n",
            "best epoch 5 best auroc 0.616933879599192 loss 3.331462 auroc at min loss 0.6092\n",
            " epoch [0006 / 0050] eta: 0 Days 1:3:24        [0099/885] lr: \t1.0000E-04 loss: \t3.42949\n",
            " epoch [0006 / 0050] eta: 0 Days 1:3:21        [0199/885] lr: \t1.0000E-04 loss: \t3.38982\n",
            " epoch [0006 / 0050] eta: 0 Days 1:12:17       [0299/885] lr: \t1.0000E-04 loss: \t3.44161\n",
            " epoch [0006 / 0050] eta: 0 Days 1:11:16       [0399/885] lr: \t1.0000E-04 loss: \t3.43299\n",
            " epoch [0006 / 0050] eta: 0 Days 1:2:23        [0499/885] lr: \t1.0000E-04 loss: \t3.43883\n",
            " epoch [0006 / 0050] eta: 0 Days 1:3:19        [0599/885] lr: \t1.0000E-04 loss: \t3.44264\n",
            " epoch [0006 / 0050] eta: 0 Days 1:1:36        [0699/885] lr: \t1.0000E-04 loss: \t3.45139\n",
            " epoch [0006 / 0050] eta: 0 Days 1:2:50        [0799/885] lr: \t1.0000E-04 loss: \t3.45245\n"
          ]
        },
        {
          "output_type": "stream",
          "name": "stderr",
          "text": [
            "100%|██████████| 13/13 [00:22<00:00,  1.73s/it]\n"
          ]
        },
        {
          "output_type": "stream",
          "name": "stdout",
          "text": [
            "saving last_epoch checkpoint\n",
            "saving best_auroc checkpoint\n",
            "saving min_loss checkpoint\n",
            "val AUROC mean 0.6222\n",
            "Atelectasis 0.6607\n",
            "Cardiomegaly 0.5722\n",
            "Effusion 0.6114\n",
            "Infiltration 0.5736\n",
            "Mass 0.5925\n",
            "Nodule 0.6128\n",
            "Pneumothorax 0.6057\n",
            "Consolidation 0.6586\n",
            "Pleural_Thickening 0.5169\n",
            "Hernia 0.8177\n"
          ]
        },
        {
          "output_type": "stream",
          "name": "stderr",
          "text": [
            "100%|██████████| 99/99 [00:30<00:00,  3.27it/s]\n"
          ]
        },
        {
          "output_type": "stream",
          "name": "stdout",
          "text": [
            "\n",
            "test_seen AUROC mean 0.5812\n",
            "Atelectasis 0.5993\n",
            "Effusion 0.5772\n",
            "Infiltration 0.5835\n",
            "Mass 0.5742\n",
            "Nodule 0.6428\n",
            "Pneumothorax 0.5355\n",
            "Consolidation 0.6523\n",
            "Cardiomegaly 0.5395\n",
            "Pleural_Thickening 0.5347\n",
            "Hernia 0.5730\n",
            "\n",
            "test_unseen AUROC mean 0.4573\n",
            "Edema 0.4506\n",
            "Pneumonia 0.4708\n",
            "Emphysema 0.4824\n",
            "Fibrosis 0.4253\n",
            "best epoch 6 best auroc 0.6222263096318101 loss 3.284991 auroc at min loss 0.6222\n",
            " epoch [0007 / 0050] eta: 0 Days 1:11:38       [0099/885] lr: \t1.0000E-04 loss: \t3.36437\n",
            " epoch [0007 / 0050] eta: 0 Days 1:2:2         [0199/885] lr: \t1.0000E-04 loss: \t3.38703\n",
            " epoch [0007 / 0050] eta: 0 Days 1:1:3         [0299/885] lr: \t1.0000E-04 loss: \t3.41812\n",
            " epoch [0007 / 0050] eta: 0 Days 1:0:1         [0399/885] lr: \t1.0000E-04 loss: \t3.42417\n",
            " epoch [0007 / 0050] eta: 0 Days 1:1:42        [0499/885] lr: \t1.0000E-04 loss: \t3.42445\n",
            " epoch [0007 / 0050] eta: 0 Days 1:1:27        [0599/885] lr: \t1.0000E-04 loss: \t3.41655\n",
            " epoch [0007 / 0050] eta: 0 Days 1:2:13        [0699/885] lr: \t1.0000E-04 loss: \t3.41564\n",
            " epoch [0007 / 0050] eta: 0 Days 1:0:52        [0799/885] lr: \t1.0000E-04 loss: \t3.42999\n"
          ]
        },
        {
          "output_type": "stream",
          "name": "stderr",
          "text": [
            "100%|██████████| 13/13 [00:22<00:00,  1.73s/it]\n"
          ]
        },
        {
          "output_type": "stream",
          "name": "stdout",
          "text": [
            "saving last_epoch checkpoint\n",
            "saving min_loss checkpoint\n",
            "val AUROC mean 0.6197\n",
            "Atelectasis 0.6466\n",
            "Cardiomegaly 0.5707\n",
            "Effusion 0.6351\n",
            "Infiltration 0.5586\n",
            "Mass 0.5774\n",
            "Nodule 0.6315\n",
            "Pneumothorax 0.6095\n",
            "Consolidation 0.6323\n",
            "Pleural_Thickening 0.5414\n",
            "Hernia 0.7938\n"
          ]
        },
        {
          "output_type": "stream",
          "name": "stderr",
          "text": [
            "100%|██████████| 99/99 [00:29<00:00,  3.33it/s]\n"
          ]
        },
        {
          "output_type": "stream",
          "name": "stdout",
          "text": [
            "\n",
            "test_seen AUROC mean 0.5979\n",
            "Atelectasis 0.5983\n",
            "Effusion 0.6213\n",
            "Infiltration 0.5613\n",
            "Mass 0.5866\n",
            "Nodule 0.6492\n",
            "Pneumothorax 0.5294\n",
            "Consolidation 0.6125\n",
            "Cardiomegaly 0.5474\n",
            "Pleural_Thickening 0.5648\n",
            "Hernia 0.7082\n",
            "\n",
            "test_unseen AUROC mean 0.4435\n",
            "Edema 0.3763\n",
            "Pneumonia 0.4260\n",
            "Emphysema 0.4263\n",
            "Fibrosis 0.5455\n",
            "best epoch 6 best auroc 0.6222263096318101 loss 3.271959 auroc at min loss 0.6197\n",
            " epoch [0008 / 0050] eta: 0 Days 1:10:40       [0099/885] lr: \t1.0000E-04 loss: \t3.43888\n",
            " epoch [0008 / 0050] eta: 0 Days 1:2:37        [0199/885] lr: \t1.0000E-04 loss: \t3.43057\n",
            " epoch [0008 / 0050] eta: 0 Days 0:59:59       [0299/885] lr: \t1.0000E-04 loss: \t3.40036\n",
            " epoch [0008 / 0050] eta: 0 Days 0:59:39       [0399/885] lr: \t1.0000E-04 loss: \t3.40990\n",
            " epoch [0008 / 0050] eta: 0 Days 1:0:3         [0499/885] lr: \t1.0000E-04 loss: \t3.41728\n",
            " epoch [0008 / 0050] eta: 0 Days 0:58:49       [0599/885] lr: \t1.0000E-04 loss: \t3.41283\n",
            " epoch [0008 / 0050] eta: 0 Days 1:0:18        [0699/885] lr: \t1.0000E-04 loss: \t3.42295\n",
            " epoch [0008 / 0050] eta: 0 Days 1:1:19        [0799/885] lr: \t1.0000E-04 loss: \t3.41987\n"
          ]
        },
        {
          "output_type": "stream",
          "name": "stderr",
          "text": [
            "100%|██████████| 13/13 [00:22<00:00,  1.76s/it]\n"
          ]
        },
        {
          "output_type": "stream",
          "name": "stdout",
          "text": [
            "saving last_epoch checkpoint\n",
            "saving best_auroc checkpoint\n",
            "val AUROC mean 0.6240\n",
            "Atelectasis 0.6652\n",
            "Cardiomegaly 0.5541\n",
            "Effusion 0.6324\n",
            "Infiltration 0.5749\n",
            "Mass 0.5701\n",
            "Nodule 0.6237\n",
            "Pneumothorax 0.5864\n",
            "Consolidation 0.6635\n",
            "Pleural_Thickening 0.5552\n",
            "Hernia 0.8143\n"
          ]
        },
        {
          "output_type": "stream",
          "name": "stderr",
          "text": [
            "100%|██████████| 99/99 [00:30<00:00,  3.21it/s]\n"
          ]
        },
        {
          "output_type": "stream",
          "name": "stdout",
          "text": [
            "\n",
            "test_seen AUROC mean 0.6010\n",
            "Atelectasis 0.6061\n",
            "Effusion 0.6229\n",
            "Infiltration 0.5769\n",
            "Mass 0.5777\n",
            "Nodule 0.6383\n",
            "Pneumothorax 0.5402\n",
            "Consolidation 0.6459\n",
            "Cardiomegaly 0.5680\n",
            "Pleural_Thickening 0.5756\n",
            "Hernia 0.6579\n",
            "\n",
            "test_unseen AUROC mean 0.4737\n",
            "Edema 0.4109\n",
            "Pneumonia 0.4546\n",
            "Emphysema 0.5017\n",
            "Fibrosis 0.5276\n",
            "best epoch 8 best auroc 0.6239639856681765 loss 3.297992 auroc at min loss 0.6197\n",
            " epoch [0009 / 0050] eta: 0 Days 0:59:16       [0099/885] lr: \t1.0000E-04 loss: \t3.34339\n",
            " epoch [0009 / 0050] eta: 0 Days 0:57:37       [0199/885] lr: \t1.0000E-04 loss: \t3.37685\n",
            " epoch [0009 / 0050] eta: 0 Days 1:10:4        [0299/885] lr: \t1.0000E-04 loss: \t3.41202\n",
            " epoch [0009 / 0050] eta: 0 Days 0:58:18       [0399/885] lr: \t1.0000E-04 loss: \t3.39770\n",
            " epoch [0009 / 0050] eta: 0 Days 1:12:33       [0499/885] lr: \t1.0000E-04 loss: \t3.39159\n",
            " epoch [0009 / 0050] eta: 0 Days 0:58:2        [0599/885] lr: \t1.0000E-04 loss: \t3.39865\n",
            " epoch [0009 / 0050] eta: 0 Days 0:59:50       [0699/885] lr: \t1.0000E-04 loss: \t3.39900\n",
            " epoch [0009 / 0050] eta: 0 Days 1:0:17        [0799/885] lr: \t1.0000E-04 loss: \t3.41158\n"
          ]
        },
        {
          "output_type": "stream",
          "name": "stderr",
          "text": [
            "100%|██████████| 13/13 [00:22<00:00,  1.76s/it]\n"
          ]
        },
        {
          "output_type": "stream",
          "name": "stdout",
          "text": [
            "saving last_epoch checkpoint\n",
            "saving best_auroc checkpoint\n",
            "saving min_loss checkpoint\n",
            "val AUROC mean 0.6248\n",
            "Atelectasis 0.6580\n",
            "Cardiomegaly 0.5815\n",
            "Effusion 0.5980\n",
            "Infiltration 0.5712\n",
            "Mass 0.5884\n",
            "Nodule 0.6286\n",
            "Pneumothorax 0.6452\n",
            "Consolidation 0.6673\n",
            "Pleural_Thickening 0.5567\n",
            "Hernia 0.7535\n"
          ]
        },
        {
          "output_type": "stream",
          "name": "stderr",
          "text": [
            "100%|██████████| 99/99 [00:29<00:00,  3.31it/s]\n"
          ]
        },
        {
          "output_type": "stream",
          "name": "stdout",
          "text": [
            "\n",
            "test_seen AUROC mean 0.6105\n",
            "Atelectasis 0.6068\n",
            "Effusion 0.6082\n",
            "Infiltration 0.5682\n",
            "Mass 0.5693\n",
            "Nodule 0.6604\n",
            "Pneumothorax 0.5571\n",
            "Consolidation 0.6392\n",
            "Cardiomegaly 0.5580\n",
            "Pleural_Thickening 0.5697\n",
            "Hernia 0.7679\n",
            "\n",
            "test_unseen AUROC mean 0.4796\n",
            "Edema 0.4489\n",
            "Pneumonia 0.4424\n",
            "Emphysema 0.4922\n",
            "Fibrosis 0.5347\n",
            "best epoch 9 best auroc 0.6248418325962554 loss 3.255012 auroc at min loss 0.6248\n",
            " epoch [0010 / 0050] eta: 0 Days 0:57:29       [0099/885] lr: \t1.0000E-04 loss: \t3.44052\n",
            " epoch [0010 / 0050] eta: 0 Days 0:57:27       [0199/885] lr: \t1.0000E-04 loss: \t3.46050\n",
            " epoch [0010 / 0050] eta: 0 Days 0:57:34       [0299/885] lr: \t1.0000E-04 loss: \t3.45453\n",
            " epoch [0010 / 0050] eta: 0 Days 1:14:8        [0399/885] lr: \t1.0000E-04 loss: \t3.43223\n",
            " epoch [0010 / 0050] eta: 0 Days 0:56:9        [0499/885] lr: \t1.0000E-04 loss: \t3.44069\n",
            " epoch [0010 / 0050] eta: 0 Days 0:57:52       [0599/885] lr: \t1.0000E-04 loss: \t3.44136\n",
            " epoch [0010 / 0050] eta: 0 Days 0:55:0        [0699/885] lr: \t1.0000E-04 loss: \t3.42062\n",
            " epoch [0010 / 0050] eta: 0 Days 0:55:17       [0799/885] lr: \t1.0000E-04 loss: \t3.42016\n"
          ]
        },
        {
          "output_type": "stream",
          "name": "stderr",
          "text": [
            "100%|██████████| 13/13 [00:22<00:00,  1.71s/it]\n"
          ]
        },
        {
          "output_type": "stream",
          "name": "stdout",
          "text": [
            "saving last_epoch checkpoint\n",
            "saving best_auroc checkpoint\n",
            "val AUROC mean 0.6258\n",
            "Atelectasis 0.6080\n",
            "Cardiomegaly 0.6116\n",
            "Effusion 0.6027\n",
            "Infiltration 0.6071\n",
            "Mass 0.5962\n",
            "Nodule 0.6080\n",
            "Pneumothorax 0.6220\n",
            "Consolidation 0.6471\n",
            "Pleural_Thickening 0.5607\n",
            "Hernia 0.7944\n"
          ]
        },
        {
          "output_type": "stream",
          "name": "stderr",
          "text": [
            "100%|██████████| 99/99 [00:30<00:00,  3.30it/s]\n"
          ]
        },
        {
          "output_type": "stream",
          "name": "stdout",
          "text": [
            "\n",
            "test_seen AUROC mean 0.5891\n",
            "Atelectasis 0.6007\n",
            "Effusion 0.6097\n",
            "Infiltration 0.5927\n",
            "Mass 0.5674\n",
            "Nodule 0.6433\n",
            "Pneumothorax 0.5344\n",
            "Consolidation 0.6326\n",
            "Cardiomegaly 0.5631\n",
            "Pleural_Thickening 0.5388\n",
            "Hernia 0.6088\n",
            "\n",
            "test_unseen AUROC mean 0.4659\n",
            "Edema 0.4249\n",
            "Pneumonia 0.4510\n",
            "Emphysema 0.4643\n",
            "Fibrosis 0.5236\n",
            "best epoch 10 best auroc 0.6257902563193052 loss 3.325802 auroc at min loss 0.6248\n",
            " epoch [0011 / 0050] eta: 0 Days 0:59:49       [0099/885] lr: \t1.0000E-04 loss: \t3.43832\n",
            " epoch [0011 / 0050] eta: 0 Days 0:54:18       [0199/885] lr: \t1.0000E-04 loss: \t3.40763\n",
            " epoch [0011 / 0050] eta: 0 Days 0:56:20       [0299/885] lr: \t1.0000E-04 loss: \t3.37798\n",
            " epoch [0011 / 0050] eta: 0 Days 0:56:3        [0399/885] lr: \t1.0000E-04 loss: \t3.37275\n",
            " epoch [0011 / 0050] eta: 0 Days 1:9:37        [0499/885] lr: \t1.0000E-04 loss: \t3.37935\n",
            " epoch [0011 / 0050] eta: 0 Days 0:54:51       [0599/885] lr: \t1.0000E-04 loss: \t3.39635\n",
            " epoch [0011 / 0050] eta: 0 Days 0:55:29       [0699/885] lr: \t1.0000E-04 loss: \t3.40380\n",
            " epoch [0011 / 0050] eta: 0 Days 0:54:58       [0799/885] lr: \t1.0000E-04 loss: \t3.38072\n"
          ]
        },
        {
          "output_type": "stream",
          "name": "stderr",
          "text": [
            "100%|██████████| 13/13 [00:22<00:00,  1.72s/it]\n"
          ]
        },
        {
          "output_type": "stream",
          "name": "stdout",
          "text": [
            "saving last_epoch checkpoint\n",
            "saving best_auroc checkpoint\n",
            "saving min_loss checkpoint\n",
            "val AUROC mean 0.6290\n",
            "Atelectasis 0.6876\n",
            "Cardiomegaly 0.5449\n",
            "Effusion 0.6240\n",
            "Infiltration 0.5832\n",
            "Mass 0.5963\n",
            "Nodule 0.6350\n",
            "Pneumothorax 0.6251\n",
            "Consolidation 0.6568\n",
            "Pleural_Thickening 0.5507\n",
            "Hernia 0.7859\n"
          ]
        },
        {
          "output_type": "stream",
          "name": "stderr",
          "text": [
            "100%|██████████| 99/99 [00:30<00:00,  3.30it/s]\n"
          ]
        },
        {
          "output_type": "stream",
          "name": "stdout",
          "text": [
            "\n",
            "test_seen AUROC mean 0.5962\n",
            "Atelectasis 0.6196\n",
            "Effusion 0.6030\n",
            "Infiltration 0.5783\n",
            "Mass 0.5948\n",
            "Nodule 0.6490\n",
            "Pneumothorax 0.5402\n",
            "Consolidation 0.6350\n",
            "Cardiomegaly 0.5127\n",
            "Pleural_Thickening 0.5606\n",
            "Hernia 0.6688\n",
            "\n",
            "test_unseen AUROC mean 0.4617\n",
            "Edema 0.4144\n",
            "Pneumonia 0.4564\n",
            "Emphysema 0.4542\n",
            "Fibrosis 0.5218\n",
            "best epoch 11 best auroc 0.6289513106956941 loss 3.227484 auroc at min loss 0.6290\n",
            " epoch [0012 / 0050] eta: 0 Days 0:55:12       [0099/885] lr: \t1.0000E-04 loss: \t3.54277\n",
            " epoch [0012 / 0050] eta: 0 Days 1:7:22        [0199/885] lr: \t1.0000E-04 loss: \t3.43615\n",
            " epoch [0012 / 0050] eta: 0 Days 0:55:39       [0299/885] lr: \t1.0000E-04 loss: \t3.37826\n",
            " epoch [0012 / 0050] eta: 0 Days 0:53:6        [0399/885] lr: \t1.0000E-04 loss: \t3.36374\n",
            " epoch [0012 / 0050] eta: 0 Days 0:54:40       [0499/885] lr: \t1.0000E-04 loss: \t3.38687\n",
            " epoch [0012 / 0050] eta: 0 Days 0:54:53       [0599/885] lr: \t1.0000E-04 loss: \t3.40040\n",
            " epoch [0012 / 0050] eta: 0 Days 0:54:59       [0699/885] lr: \t1.0000E-04 loss: \t3.39785\n",
            " epoch [0012 / 0050] eta: 0 Days 0:53:8        [0799/885] lr: \t1.0000E-04 loss: \t3.39650\n"
          ]
        },
        {
          "output_type": "stream",
          "name": "stderr",
          "text": [
            "100%|██████████| 13/13 [00:22<00:00,  1.73s/it]\n"
          ]
        },
        {
          "output_type": "stream",
          "name": "stdout",
          "text": [
            "saving last_epoch checkpoint\n",
            "val AUROC mean 0.6277\n",
            "Atelectasis 0.6309\n",
            "Cardiomegaly 0.5548\n",
            "Effusion 0.5467\n",
            "Infiltration 0.5879\n",
            "Mass 0.5941\n",
            "Nodule 0.6302\n",
            "Pneumothorax 0.6869\n",
            "Consolidation 0.6479\n",
            "Pleural_Thickening 0.5958\n",
            "Hernia 0.8019\n",
            "best epoch 11 best auroc 0.6289513106956941 loss 3.258405 auroc at min loss 0.6290\n",
            " epoch [0013 / 0050] eta: 0 Days 0:53:27       [0099/885] lr: \t1.0000E-04 loss: \t3.51588\n",
            " epoch [0013 / 0050] eta: 0 Days 0:52:10       [0199/885] lr: \t1.0000E-04 loss: \t3.43454\n",
            " epoch [0013 / 0050] eta: 0 Days 0:54:16       [0299/885] lr: \t1.0000E-04 loss: \t3.37789\n",
            " epoch [0013 / 0050] eta: 0 Days 0:52:22       [0399/885] lr: \t1.0000E-04 loss: \t3.39656\n",
            " epoch [0013 / 0050] eta: 0 Days 0:51:16       [0499/885] lr: \t1.0000E-04 loss: \t3.39111\n",
            " epoch [0013 / 0050] eta: 0 Days 0:53:1        [0599/885] lr: \t1.0000E-04 loss: \t3.40941\n",
            " epoch [0013 / 0050] eta: 0 Days 1:4:8         [0699/885] lr: \t1.0000E-04 loss: \t3.38594\n",
            " epoch [0013 / 0050] eta: 0 Days 0:53:31       [0799/885] lr: \t1.0000E-04 loss: \t3.37615\n"
          ]
        },
        {
          "output_type": "stream",
          "name": "stderr",
          "text": [
            "100%|██████████| 13/13 [00:21<00:00,  1.68s/it]\n"
          ]
        },
        {
          "output_type": "stream",
          "name": "stdout",
          "text": [
            "saving last_epoch checkpoint\n",
            "saving min_loss checkpoint\n",
            "val AUROC mean 0.6267\n",
            "Atelectasis 0.6663\n",
            "Cardiomegaly 0.5265\n",
            "Effusion 0.6088\n",
            "Infiltration 0.5723\n",
            "Mass 0.5939\n",
            "Nodule 0.6210\n",
            "Pneumothorax 0.6313\n",
            "Consolidation 0.6716\n",
            "Pleural_Thickening 0.5571\n",
            "Hernia 0.8180\n"
          ]
        },
        {
          "output_type": "stream",
          "name": "stderr",
          "text": [
            "100%|██████████| 99/99 [00:30<00:00,  3.23it/s]\n"
          ]
        },
        {
          "output_type": "stream",
          "name": "stdout",
          "text": [
            "\n",
            "test_seen AUROC mean 0.6001\n",
            "Atelectasis 0.6244\n",
            "Effusion 0.6312\n",
            "Infiltration 0.5738\n",
            "Mass 0.5604\n",
            "Nodule 0.6450\n",
            "Pneumothorax 0.5687\n",
            "Consolidation 0.6249\n",
            "Cardiomegaly 0.5085\n",
            "Pleural_Thickening 0.5761\n",
            "Hernia 0.6878\n",
            "\n",
            "test_unseen AUROC mean 0.4789\n",
            "Edema 0.3951\n",
            "Pneumonia 0.4486\n",
            "Emphysema 0.4976\n",
            "Fibrosis 0.5745\n",
            "best epoch 11 best auroc 0.6289513106956941 loss 3.216349 auroc at min loss 0.6267\n",
            " epoch [0014 / 0050] eta: 0 Days 0:54:42       [0099/885] lr: \t1.0000E-04 loss: \t3.37155\n",
            " epoch [0014 / 0050] eta: 0 Days 0:52:39       [0199/885] lr: \t1.0000E-04 loss: \t3.37930\n",
            " epoch [0014 / 0050] eta: 0 Days 0:53:18       [0299/885] lr: \t1.0000E-04 loss: \t3.37724\n",
            " epoch [0014 / 0050] eta: 0 Days 0:52:37       [0399/885] lr: \t1.0000E-04 loss: \t3.34852\n",
            " epoch [0014 / 0050] eta: 0 Days 0:51:26       [0499/885] lr: \t1.0000E-04 loss: \t3.31793\n",
            " epoch [0014 / 0050] eta: 0 Days 0:52:59       [0599/885] lr: \t1.0000E-04 loss: \t3.33696\n",
            " epoch [0014 / 0050] eta: 0 Days 0:52:43       [0699/885] lr: \t1.0000E-04 loss: \t3.34850\n",
            " epoch [0014 / 0050] eta: 0 Days 0:50:30       [0799/885] lr: \t1.0000E-04 loss: \t3.36245\n"
          ]
        },
        {
          "output_type": "stream",
          "name": "stderr",
          "text": [
            "100%|██████████| 13/13 [00:22<00:00,  1.72s/it]\n"
          ]
        },
        {
          "output_type": "stream",
          "name": "stdout",
          "text": [
            "saving last_epoch checkpoint\n",
            "saving best_auroc checkpoint\n",
            "val AUROC mean 0.6326\n",
            "Atelectasis 0.6739\n",
            "Cardiomegaly 0.5453\n",
            "Effusion 0.6126\n",
            "Infiltration 0.5944\n",
            "Mass 0.5779\n",
            "Nodule 0.6412\n",
            "Pneumothorax 0.6262\n",
            "Consolidation 0.6660\n",
            "Pleural_Thickening 0.5760\n",
            "Hernia 0.8129\n"
          ]
        },
        {
          "output_type": "stream",
          "name": "stderr",
          "text": [
            "100%|██████████| 99/99 [00:30<00:00,  3.28it/s]\n"
          ]
        },
        {
          "output_type": "stream",
          "name": "stdout",
          "text": [
            "\n",
            "test_seen AUROC mean 0.6121\n",
            "Atelectasis 0.6249\n",
            "Effusion 0.6310\n",
            "Infiltration 0.5816\n",
            "Mass 0.5728\n",
            "Nodule 0.6559\n",
            "Pneumothorax 0.5702\n",
            "Consolidation 0.6255\n",
            "Cardiomegaly 0.5566\n",
            "Pleural_Thickening 0.5785\n",
            "Hernia 0.7240\n",
            "\n",
            "test_unseen AUROC mean 0.4832\n",
            "Edema 0.4541\n",
            "Pneumonia 0.4395\n",
            "Emphysema 0.4811\n",
            "Fibrosis 0.5580\n",
            "best epoch 14 best auroc 0.6326244219915582 loss 3.218712 auroc at min loss 0.6267\n",
            " epoch [0015 / 0050] eta: 0 Days 0:50:46       [0099/885] lr: \t1.0000E-04 loss: \t3.40831\n",
            " epoch [0015 / 0050] eta: 0 Days 0:51:11       [0199/885] lr: \t1.0000E-04 loss: \t3.42396\n",
            " epoch [0015 / 0050] eta: 0 Days 0:49:52       [0299/885] lr: \t1.0000E-04 loss: \t3.43284\n",
            " epoch [0015 / 0050] eta: 0 Days 0:51:1        [0399/885] lr: \t1.0000E-04 loss: \t3.42448\n",
            " epoch [0015 / 0050] eta: 0 Days 0:49:54       [0499/885] lr: \t1.0000E-04 loss: \t3.43084\n",
            " epoch [0015 / 0050] eta: 0 Days 0:50:6        [0599/885] lr: \t1.0000E-04 loss: \t3.39122\n",
            " epoch [0015 / 0050] eta: 0 Days 0:50:29       [0699/885] lr: \t1.0000E-04 loss: \t3.37253\n",
            " epoch [0015 / 0050] eta: 0 Days 0:48:41       [0799/885] lr: \t1.0000E-04 loss: \t3.36083\n"
          ]
        },
        {
          "output_type": "stream",
          "name": "stderr",
          "text": [
            "100%|██████████| 13/13 [00:22<00:00,  1.74s/it]\n"
          ]
        },
        {
          "output_type": "stream",
          "name": "stdout",
          "text": [
            "saving last_epoch checkpoint\n",
            "val AUROC mean 0.6135\n",
            "Atelectasis 0.6255\n",
            "Cardiomegaly 0.5491\n",
            "Effusion 0.5543\n",
            "Infiltration 0.6027\n",
            "Mass 0.5690\n",
            "Nodule 0.6345\n",
            "Pneumothorax 0.6338\n",
            "Consolidation 0.6578\n",
            "Pleural_Thickening 0.5249\n",
            "Hernia 0.7832\n",
            "best epoch 14 best auroc 0.6326244219915582 loss 3.334046 auroc at min loss 0.6267\n",
            " epoch [0016 / 0050] eta: 0 Days 0:51:55       [0099/885] lr: \t1.0000E-04 loss: \t3.49320\n",
            " epoch [0016 / 0050] eta: 0 Days 0:49:37       [0199/885] lr: \t1.0000E-04 loss: \t3.44396\n",
            " epoch [0016 / 0050] eta: 0 Days 0:50:30       [0299/885] lr: \t1.0000E-04 loss: \t3.42847\n",
            " epoch [0016 / 0050] eta: 0 Days 0:50:27       [0399/885] lr: \t1.0000E-04 loss: \t3.40963\n",
            " epoch [0016 / 0050] eta: 0 Days 0:50:13       [0499/885] lr: \t1.0000E-04 loss: \t3.38777\n",
            " epoch [0016 / 0050] eta: 0 Days 0:48:23       [0599/885] lr: \t1.0000E-04 loss: \t3.39348\n",
            " epoch [0016 / 0050] eta: 0 Days 0:49:15       [0699/885] lr: \t1.0000E-04 loss: \t3.37554\n",
            " epoch [0016 / 0050] eta: 0 Days 0:48:17       [0799/885] lr: \t1.0000E-04 loss: \t3.36629\n"
          ]
        },
        {
          "output_type": "stream",
          "name": "stderr",
          "text": [
            "100%|██████████| 13/13 [00:22<00:00,  1.74s/it]\n"
          ]
        },
        {
          "output_type": "stream",
          "name": "stdout",
          "text": [
            "saving last_epoch checkpoint\n",
            "saving best_auroc checkpoint\n",
            "val AUROC mean 0.6376\n",
            "Atelectasis 0.6504\n",
            "Cardiomegaly 0.5525\n",
            "Effusion 0.6237\n",
            "Infiltration 0.6010\n",
            "Mass 0.5831\n",
            "Nodule 0.6416\n",
            "Pneumothorax 0.6535\n",
            "Consolidation 0.6674\n",
            "Pleural_Thickening 0.5565\n",
            "Hernia 0.8467\n"
          ]
        },
        {
          "output_type": "stream",
          "name": "stderr",
          "text": [
            "100%|██████████| 99/99 [00:30<00:00,  3.26it/s]\n"
          ]
        },
        {
          "output_type": "stream",
          "name": "stdout",
          "text": [
            "\n",
            "test_seen AUROC mean 0.6092\n",
            "Atelectasis 0.6250\n",
            "Effusion 0.6366\n",
            "Infiltration 0.5771\n",
            "Mass 0.5810\n",
            "Nodule 0.6493\n",
            "Pneumothorax 0.5870\n",
            "Consolidation 0.6514\n",
            "Cardiomegaly 0.5456\n",
            "Pleural_Thickening 0.5572\n",
            "Hernia 0.6818\n",
            "\n",
            "test_unseen AUROC mean 0.5188\n",
            "Edema 0.5458\n",
            "Pneumonia 0.4642\n",
            "Emphysema 0.4862\n",
            "Fibrosis 0.5789\n",
            "best epoch 16 best auroc 0.6376378615910647 loss 3.224558 auroc at min loss 0.6267\n",
            " epoch [0017 / 0050] eta: 0 Days 0:48:21       [0099/885] lr: \t1.0000E-04 loss: \t3.31944\n",
            " epoch [0017 / 0050] eta: 0 Days 0:47:45       [0199/885] lr: \t1.0000E-04 loss: \t3.28072\n",
            " epoch [0017 / 0050] eta: 0 Days 0:53:44       [0299/885] lr: \t1.0000E-04 loss: \t3.32841\n",
            " epoch [0017 / 0050] eta: 0 Days 0:47:51       [0399/885] lr: \t1.0000E-04 loss: \t3.34543\n",
            " epoch [0017 / 0050] eta: 0 Days 0:47:5        [0499/885] lr: \t1.0000E-04 loss: \t3.35033\n",
            " epoch [0017 / 0050] eta: 0 Days 0:46:39       [0599/885] lr: \t1.0000E-04 loss: \t3.34351\n",
            " epoch [0017 / 0050] eta: 0 Days 0:47:19       [0699/885] lr: \t1.0000E-04 loss: \t3.35552\n",
            " epoch [0017 / 0050] eta: 0 Days 0:47:56       [0799/885] lr: \t1.0000E-04 loss: \t3.35045\n"
          ]
        },
        {
          "output_type": "stream",
          "name": "stderr",
          "text": [
            "100%|██████████| 13/13 [00:22<00:00,  1.72s/it]\n"
          ]
        },
        {
          "output_type": "stream",
          "name": "stdout",
          "text": [
            "saving last_epoch checkpoint\n",
            "saving min_loss checkpoint\n",
            "val AUROC mean 0.6317\n",
            "Atelectasis 0.6565\n",
            "Cardiomegaly 0.5499\n",
            "Effusion 0.6034\n",
            "Infiltration 0.5914\n",
            "Mass 0.5812\n",
            "Nodule 0.6525\n",
            "Pneumothorax 0.6592\n",
            "Consolidation 0.6740\n",
            "Pleural_Thickening 0.5728\n",
            "Hernia 0.7763\n"
          ]
        },
        {
          "output_type": "stream",
          "name": "stderr",
          "text": [
            "100%|██████████| 99/99 [00:29<00:00,  3.36it/s]\n"
          ]
        },
        {
          "output_type": "stream",
          "name": "stdout",
          "text": [
            "\n",
            "test_seen AUROC mean 0.6147\n",
            "Atelectasis 0.6180\n",
            "Effusion 0.6271\n",
            "Infiltration 0.5816\n",
            "Mass 0.6033\n",
            "Nodule 0.6573\n",
            "Pneumothorax 0.5782\n",
            "Consolidation 0.6313\n",
            "Cardiomegaly 0.5530\n",
            "Pleural_Thickening 0.5685\n",
            "Hernia 0.7285\n",
            "\n",
            "test_unseen AUROC mean 0.5024\n",
            "Edema 0.4761\n",
            "Pneumonia 0.4415\n",
            "Emphysema 0.4981\n",
            "Fibrosis 0.5939\n",
            "best epoch 16 best auroc 0.6376378615910647 loss 3.199587 auroc at min loss 0.6317\n",
            " epoch [0018 / 0050] eta: 0 Days 0:47:7        [0099/885] lr: \t1.0000E-04 loss: \t3.44347\n",
            " epoch [0018 / 0050] eta: 0 Days 0:48:9        [0199/885] lr: \t1.0000E-04 loss: \t3.44353\n",
            " epoch [0018 / 0050] eta: 0 Days 0:47:3        [0299/885] lr: \t1.0000E-04 loss: \t3.41365\n",
            " epoch [0018 / 0050] eta: 0 Days 0:49:11       [0399/885] lr: \t1.0000E-04 loss: \t3.36499\n",
            " epoch [0018 / 0050] eta: 0 Days 0:46:29       [0499/885] lr: \t1.0000E-04 loss: \t3.35508\n",
            " epoch [0018 / 0050] eta: 0 Days 0:46:10       [0599/885] lr: \t1.0000E-04 loss: \t3.36785\n",
            " epoch [0018 / 0050] eta: 0 Days 0:44:57       [0699/885] lr: \t1.0000E-04 loss: \t3.36956\n",
            " epoch [0018 / 0050] eta: 0 Days 0:45:15       [0799/885] lr: \t1.0000E-04 loss: \t3.35269\n"
          ]
        },
        {
          "output_type": "stream",
          "name": "stderr",
          "text": [
            "100%|██████████| 13/13 [00:22<00:00,  1.70s/it]\n"
          ]
        },
        {
          "output_type": "stream",
          "name": "stdout",
          "text": [
            "saving last_epoch checkpoint\n",
            "saving min_loss checkpoint\n",
            "val AUROC mean 0.6339\n",
            "Atelectasis 0.6837\n",
            "Cardiomegaly 0.5433\n",
            "Effusion 0.6678\n",
            "Infiltration 0.5887\n",
            "Mass 0.5689\n",
            "Nodule 0.6436\n",
            "Pneumothorax 0.6091\n",
            "Consolidation 0.6719\n",
            "Pleural_Thickening 0.5507\n",
            "Hernia 0.8116\n"
          ]
        },
        {
          "output_type": "stream",
          "name": "stderr",
          "text": [
            "100%|██████████| 99/99 [00:30<00:00,  3.27it/s]\n"
          ]
        },
        {
          "output_type": "stream",
          "name": "stdout",
          "text": [
            "\n",
            "test_seen AUROC mean 0.6073\n",
            "Atelectasis 0.6422\n",
            "Effusion 0.6737\n",
            "Infiltration 0.5805\n",
            "Mass 0.5803\n",
            "Nodule 0.6625\n",
            "Pneumothorax 0.5796\n",
            "Consolidation 0.6311\n",
            "Cardiomegaly 0.5718\n",
            "Pleural_Thickening 0.5614\n",
            "Hernia 0.5902\n",
            "\n",
            "test_unseen AUROC mean 0.4882\n",
            "Edema 0.4900\n",
            "Pneumonia 0.4294\n",
            "Emphysema 0.4858\n",
            "Fibrosis 0.5475\n",
            "best epoch 16 best auroc 0.6376378615910647 loss 3.199350 auroc at min loss 0.6339\n",
            " epoch [0019 / 0050] eta: 0 Days 0:45:33       [0099/885] lr: \t1.0000E-04 loss: \t3.25898\n",
            " epoch [0019 / 0050] eta: 0 Days 0:44:31       [0199/885] lr: \t1.0000E-04 loss: \t3.34636\n",
            " epoch [0019 / 0050] eta: 0 Days 0:49:19       [0299/885] lr: \t1.0000E-04 loss: \t3.33388\n",
            " epoch [0019 / 0050] eta: 0 Days 0:44:54       [0399/885] lr: \t1.0000E-04 loss: \t3.30238\n",
            " epoch [0019 / 0050] eta: 0 Days 0:45:12       [0499/885] lr: \t1.0000E-04 loss: \t3.30815\n",
            " epoch [0019 / 0050] eta: 0 Days 0:44:17       [0599/885] lr: \t1.0000E-04 loss: \t3.33013\n",
            " epoch [0019 / 0050] eta: 0 Days 0:43:41       [0699/885] lr: \t1.0000E-04 loss: \t3.33143\n",
            " epoch [0019 / 0050] eta: 0 Days 0:44:50       [0799/885] lr: \t1.0000E-04 loss: \t3.32839\n"
          ]
        },
        {
          "output_type": "stream",
          "name": "stderr",
          "text": [
            "100%|██████████| 13/13 [00:22<00:00,  1.73s/it]\n"
          ]
        },
        {
          "output_type": "stream",
          "name": "stdout",
          "text": [
            "saving last_epoch checkpoint\n",
            "val AUROC mean 0.6296\n",
            "Atelectasis 0.6633\n",
            "Cardiomegaly 0.5459\n",
            "Effusion 0.6797\n",
            "Infiltration 0.5832\n",
            "Mass 0.5772\n",
            "Nodule 0.6155\n",
            "Pneumothorax 0.6655\n",
            "Consolidation 0.6674\n",
            "Pleural_Thickening 0.5050\n",
            "Hernia 0.7933\n",
            "best epoch 16 best auroc 0.6376378615910647 loss 3.265544 auroc at min loss 0.6339\n",
            " epoch [0020 / 0050] eta: 0 Days 0:51:29       [0099/885] lr: \t1.0000E-04 loss: \t3.29709\n",
            " epoch [0020 / 0050] eta: 0 Days 0:43:39       [0199/885] lr: \t1.0000E-04 loss: \t3.30613\n",
            " epoch [0020 / 0050] eta: 0 Days 0:46:34       [0299/885] lr: \t1.0000E-04 loss: \t3.33180\n",
            " epoch [0020 / 0050] eta: 0 Days 0:43:46       [0399/885] lr: \t1.0000E-04 loss: \t3.32873\n",
            " epoch [0020 / 0050] eta: 0 Days 0:43:37       [0499/885] lr: \t1.0000E-04 loss: \t3.34477\n",
            " epoch [0020 / 0050] eta: 0 Days 0:43:25       [0599/885] lr: \t1.0000E-04 loss: \t3.35558\n",
            " epoch [0020 / 0050] eta: 0 Days 0:44:24       [0699/885] lr: \t1.0000E-04 loss: \t3.35418\n",
            " epoch [0020 / 0050] eta: 0 Days 0:46:56       [0799/885] lr: \t1.0000E-04 loss: \t3.34652\n"
          ]
        },
        {
          "output_type": "stream",
          "name": "stderr",
          "text": [
            "100%|██████████| 13/13 [00:22<00:00,  1.74s/it]\n"
          ]
        },
        {
          "output_type": "stream",
          "name": "stdout",
          "text": [
            "saving last_epoch checkpoint\n",
            "saving best_auroc checkpoint\n",
            "saving min_loss checkpoint\n",
            "val AUROC mean 0.6452\n",
            "Atelectasis 0.6824\n",
            "Cardiomegaly 0.5409\n",
            "Effusion 0.6193\n",
            "Infiltration 0.6127\n",
            "Mass 0.5994\n",
            "Nodule 0.6448\n",
            "Pneumothorax 0.6749\n",
            "Consolidation 0.6807\n",
            "Pleural_Thickening 0.5587\n",
            "Hernia 0.8385\n"
          ]
        },
        {
          "output_type": "stream",
          "name": "stderr",
          "text": [
            "100%|██████████| 99/99 [00:30<00:00,  3.25it/s]\n"
          ]
        },
        {
          "output_type": "stream",
          "name": "stdout",
          "text": [
            "\n",
            "test_seen AUROC mean 0.6165\n",
            "Atelectasis 0.6427\n",
            "Effusion 0.6397\n",
            "Infiltration 0.5879\n",
            "Mass 0.5747\n",
            "Nodule 0.6568\n",
            "Pneumothorax 0.5821\n",
            "Consolidation 0.6430\n",
            "Cardiomegaly 0.5815\n",
            "Pleural_Thickening 0.5453\n",
            "Hernia 0.7118\n",
            "\n",
            "test_unseen AUROC mean 0.5031\n",
            "Edema 0.5278\n",
            "Pneumonia 0.4515\n",
            "Emphysema 0.4722\n",
            "Fibrosis 0.5610\n",
            "best epoch 20 best auroc 0.6452254331545413 loss 3.169709 auroc at min loss 0.6452\n",
            " epoch [0021 / 0050] eta: 0 Days 0:43:15       [0099/885] lr: \t1.0000E-04 loss: \t3.37337\n",
            " epoch [0021 / 0050] eta: 0 Days 0:43:43       [0199/885] lr: \t1.0000E-04 loss: \t3.39133\n",
            " epoch [0021 / 0050] eta: 0 Days 0:42:3        [0299/885] lr: \t1.0000E-04 loss: \t3.40210\n",
            " epoch [0021 / 0050] eta: 0 Days 0:42:35       [0399/885] lr: \t1.0000E-04 loss: \t3.38705\n",
            " epoch [0021 / 0050] eta: 0 Days 0:45:58       [0499/885] lr: \t1.0000E-04 loss: \t3.36019\n",
            " epoch [0021 / 0050] eta: 0 Days 0:40:42       [0599/885] lr: \t1.0000E-04 loss: \t3.35599\n",
            " epoch [0021 / 0050] eta: 0 Days 0:41:18       [0699/885] lr: \t1.0000E-04 loss: \t3.33258\n",
            " epoch [0021 / 0050] eta: 0 Days 0:41:35       [0799/885] lr: \t1.0000E-04 loss: \t3.32436\n"
          ]
        },
        {
          "output_type": "stream",
          "name": "stderr",
          "text": [
            "100%|██████████| 13/13 [00:22<00:00,  1.71s/it]\n"
          ]
        },
        {
          "output_type": "stream",
          "name": "stdout",
          "text": [
            "saving last_epoch checkpoint\n",
            "saving best_auroc checkpoint\n",
            "saving min_loss checkpoint\n",
            "val AUROC mean 0.6474\n",
            "Atelectasis 0.6875\n",
            "Cardiomegaly 0.5369\n",
            "Effusion 0.6805\n",
            "Infiltration 0.5912\n",
            "Mass 0.6005\n",
            "Nodule 0.6437\n",
            "Pneumothorax 0.6750\n",
            "Consolidation 0.6675\n",
            "Pleural_Thickening 0.5701\n",
            "Hernia 0.8214\n"
          ]
        },
        {
          "output_type": "stream",
          "name": "stderr",
          "text": [
            "100%|██████████| 99/99 [00:30<00:00,  3.27it/s]\n"
          ]
        },
        {
          "output_type": "stream",
          "name": "stdout",
          "text": [
            "\n",
            "test_seen AUROC mean 0.6108\n",
            "Atelectasis 0.6590\n",
            "Effusion 0.6766\n",
            "Infiltration 0.5795\n",
            "Mass 0.5717\n",
            "Nodule 0.6638\n",
            "Pneumothorax 0.5812\n",
            "Consolidation 0.6394\n",
            "Cardiomegaly 0.5355\n",
            "Pleural_Thickening 0.5536\n",
            "Hernia 0.6480\n",
            "\n",
            "test_unseen AUROC mean 0.4797\n",
            "Edema 0.4959\n",
            "Pneumonia 0.4524\n",
            "Emphysema 0.4987\n",
            "Fibrosis 0.4720\n",
            "best epoch 21 best auroc 0.6474266486580055 loss 3.167147 auroc at min loss 0.6474\n",
            " epoch [0022 / 0050] eta: 0 Days 0:46:12       [0099/885] lr: \t1.0000E-04 loss: \t3.39011\n",
            " epoch [0022 / 0050] eta: 0 Days 0:40:55       [0199/885] lr: \t1.0000E-04 loss: \t3.31257\n",
            " epoch [0022 / 0050] eta: 0 Days 0:40:45       [0299/885] lr: \t1.0000E-04 loss: \t3.30851\n",
            " epoch [0022 / 0050] eta: 0 Days 0:40:49       [0399/885] lr: \t1.0000E-04 loss: \t3.30627\n",
            " epoch [0022 / 0050] eta: 0 Days 0:41:23       [0499/885] lr: \t1.0000E-04 loss: \t3.31631\n",
            " epoch [0022 / 0050] eta: 0 Days 0:39:17       [0599/885] lr: \t1.0000E-04 loss: \t3.33156\n",
            " epoch [0022 / 0050] eta: 0 Days 0:40:23       [0699/885] lr: \t1.0000E-04 loss: \t3.33562\n",
            " epoch [0022 / 0050] eta: 0 Days 0:40:45       [0799/885] lr: \t1.0000E-04 loss: \t3.32437\n"
          ]
        },
        {
          "output_type": "stream",
          "name": "stderr",
          "text": [
            "100%|██████████| 13/13 [00:22<00:00,  1.73s/it]\n"
          ]
        },
        {
          "output_type": "stream",
          "name": "stdout",
          "text": [
            "saving last_epoch checkpoint\n",
            "val AUROC mean 0.6235\n",
            "Atelectasis 0.6914\n",
            "Cardiomegaly 0.4997\n",
            "Effusion 0.6607\n",
            "Infiltration 0.6171\n",
            "Mass 0.5803\n",
            "Nodule 0.6122\n",
            "Pneumothorax 0.5950\n",
            "Consolidation 0.6563\n",
            "Pleural_Thickening 0.5214\n",
            "Hernia 0.8005\n",
            "best epoch 21 best auroc 0.6474266486580055 loss 3.271135 auroc at min loss 0.6474\n",
            " epoch [0023 / 0050] eta: 0 Days 0:41:54       [0099/885] lr: \t1.0000E-04 loss: \t3.48377\n",
            " epoch [0023 / 0050] eta: 0 Days 0:43:27       [0199/885] lr: \t1.0000E-04 loss: \t3.39596\n",
            " epoch [0023 / 0050] eta: 0 Days 0:39:5        [0299/885] lr: \t1.0000E-04 loss: \t3.37128\n",
            " epoch [0023 / 0050] eta: 0 Days 0:40:39       [0399/885] lr: \t1.0000E-04 loss: \t3.38092\n",
            " epoch [0023 / 0050] eta: 0 Days 0:40:14       [0499/885] lr: \t1.0000E-04 loss: \t3.36566\n",
            " epoch [0023 / 0050] eta: 0 Days 0:39:40       [0599/885] lr: \t1.0000E-04 loss: \t3.36128\n",
            " epoch [0023 / 0050] eta: 0 Days 0:45:29       [0699/885] lr: \t1.0000E-04 loss: \t3.34109\n",
            " epoch [0023 / 0050] eta: 0 Days 0:39:15       [0799/885] lr: \t1.0000E-04 loss: \t3.33021\n"
          ]
        },
        {
          "output_type": "stream",
          "name": "stderr",
          "text": [
            "100%|██████████| 13/13 [00:21<00:00,  1.68s/it]\n"
          ]
        },
        {
          "output_type": "stream",
          "name": "stdout",
          "text": [
            "saving last_epoch checkpoint\n",
            "saving best_auroc checkpoint\n",
            "val AUROC mean 0.6492\n",
            "Atelectasis 0.6582\n",
            "Cardiomegaly 0.5665\n",
            "Effusion 0.6790\n",
            "Infiltration 0.5912\n",
            "Mass 0.5874\n",
            "Nodule 0.6547\n",
            "Pneumothorax 0.6804\n",
            "Consolidation 0.6815\n",
            "Pleural_Thickening 0.6019\n",
            "Hernia 0.7915\n"
          ]
        },
        {
          "output_type": "stream",
          "name": "stderr",
          "text": [
            "100%|██████████| 99/99 [00:30<00:00,  3.22it/s]\n"
          ]
        },
        {
          "output_type": "stream",
          "name": "stdout",
          "text": [
            "\n",
            "test_seen AUROC mean 0.6273\n",
            "Atelectasis 0.6265\n",
            "Effusion 0.6864\n",
            "Infiltration 0.5749\n",
            "Mass 0.5748\n",
            "Nodule 0.6702\n",
            "Pneumothorax 0.5900\n",
            "Consolidation 0.6500\n",
            "Cardiomegaly 0.5990\n",
            "Pleural_Thickening 0.5700\n",
            "Hernia 0.7315\n",
            "\n",
            "test_unseen AUROC mean 0.5326\n",
            "Edema 0.5813\n",
            "Pneumonia 0.4541\n",
            "Emphysema 0.4964\n",
            "Fibrosis 0.5987\n",
            "best epoch 23 best auroc 0.6492262340430204 loss 3.231467 auroc at min loss 0.6474\n",
            " epoch [0024 / 0050] eta: 0 Days 0:38:56       [0099/885] lr: \t1.0000E-04 loss: \t3.40913\n",
            " epoch [0024 / 0050] eta: 0 Days 0:45:39       [0199/885] lr: \t1.0000E-04 loss: \t3.40172\n",
            " epoch [0024 / 0050] eta: 0 Days 0:40:7        [0299/885] lr: \t1.0000E-04 loss: \t3.38408\n",
            " epoch [0024 / 0050] eta: 0 Days 0:38:26       [0399/885] lr: \t1.0000E-04 loss: \t3.37370\n",
            " epoch [0024 / 0050] eta: 0 Days 0:38:14       [0499/885] lr: \t1.0000E-04 loss: \t3.34666\n",
            " epoch [0024 / 0050] eta: 0 Days 0:39:34       [0599/885] lr: \t1.0000E-04 loss: \t3.34821\n",
            " epoch [0024 / 0050] eta: 0 Days 0:38:37       [0699/885] lr: \t1.0000E-04 loss: \t3.34255\n",
            " epoch [0024 / 0050] eta: 0 Days 0:37:24       [0799/885] lr: \t1.0000E-04 loss: \t3.32531\n"
          ]
        },
        {
          "output_type": "stream",
          "name": "stderr",
          "text": [
            "100%|██████████| 13/13 [00:22<00:00,  1.73s/it]\n"
          ]
        },
        {
          "output_type": "stream",
          "name": "stdout",
          "text": [
            "saving last_epoch checkpoint\n",
            "saving best_auroc checkpoint\n",
            "saving min_loss checkpoint\n",
            "val AUROC mean 0.6582\n",
            "Atelectasis 0.6986\n",
            "Cardiomegaly 0.5769\n",
            "Effusion 0.6542\n",
            "Infiltration 0.6069\n",
            "Mass 0.5891\n",
            "Nodule 0.6564\n",
            "Pneumothorax 0.7066\n",
            "Consolidation 0.6780\n",
            "Pleural_Thickening 0.5887\n",
            "Hernia 0.8261\n"
          ]
        },
        {
          "output_type": "stream",
          "name": "stderr",
          "text": [
            "100%|██████████| 99/99 [00:29<00:00,  3.32it/s]\n"
          ]
        },
        {
          "output_type": "stream",
          "name": "stdout",
          "text": [
            "\n",
            "test_seen AUROC mean 0.6351\n",
            "Atelectasis 0.6499\n",
            "Effusion 0.6697\n",
            "Infiltration 0.6031\n",
            "Mass 0.5765\n",
            "Nodule 0.6652\n",
            "Pneumothorax 0.6050\n",
            "Consolidation 0.6462\n",
            "Cardiomegaly 0.6270\n",
            "Pleural_Thickening 0.5614\n",
            "Hernia 0.7467\n",
            "\n",
            "test_unseen AUROC mean 0.5263\n",
            "Edema 0.6466\n",
            "Pneumonia 0.4454\n",
            "Emphysema 0.4793\n",
            "Fibrosis 0.5339\n",
            "best epoch 24 best auroc 0.6581540447420432 loss 3.118260 auroc at min loss 0.6582\n",
            " epoch [0025 / 0050] eta: 0 Days 0:36:36       [0099/885] lr: \t1.0000E-04 loss: \t3.39060\n",
            " epoch [0025 / 0050] eta: 0 Days 0:36:22       [0199/885] lr: \t1.0000E-04 loss: \t3.34145\n",
            " epoch [0025 / 0050] eta: 0 Days 0:37:4        [0299/885] lr: \t1.0000E-04 loss: \t3.30518\n",
            " epoch [0025 / 0050] eta: 0 Days 0:36:24       [0399/885] lr: \t1.0000E-04 loss: \t3.27834\n",
            " epoch [0025 / 0050] eta: 0 Days 0:37:37       [0499/885] lr: \t1.0000E-04 loss: \t3.30468\n",
            " epoch [0025 / 0050] eta: 0 Days 0:35:19       [0599/885] lr: \t1.0000E-04 loss: \t3.30698\n",
            " epoch [0025 / 0050] eta: 0 Days 0:35:16       [0699/885] lr: \t1.0000E-04 loss: \t3.31505\n",
            " epoch [0025 / 0050] eta: 0 Days 0:36:7        [0799/885] lr: \t1.0000E-04 loss: \t3.31539\n"
          ]
        },
        {
          "output_type": "stream",
          "name": "stderr",
          "text": [
            "100%|██████████| 13/13 [00:22<00:00,  1.71s/it]\n"
          ]
        },
        {
          "output_type": "stream",
          "name": "stdout",
          "text": [
            "saving last_epoch checkpoint\n",
            "val AUROC mean 0.6510\n",
            "Atelectasis 0.7111\n",
            "Cardiomegaly 0.5770\n",
            "Effusion 0.6555\n",
            "Infiltration 0.6147\n",
            "Mass 0.5865\n",
            "Nodule 0.6512\n",
            "Pneumothorax 0.6652\n",
            "Consolidation 0.6755\n",
            "Pleural_Thickening 0.5508\n",
            "Hernia 0.8222\n",
            "best epoch 24 best auroc 0.6581540447420432 loss 3.155225 auroc at min loss 0.6582\n",
            " epoch [0026 / 0050] eta: 0 Days 0:37:48       [0099/885] lr: \t1.0000E-04 loss: \t3.37068\n",
            " epoch [0026 / 0050] eta: 0 Days 0:36:3        [0199/885] lr: \t1.0000E-04 loss: \t3.32381\n",
            " epoch [0026 / 0050] eta: 0 Days 0:35:38       [0299/885] lr: \t1.0000E-04 loss: \t3.28610\n",
            " epoch [0026 / 0050] eta: 0 Days 0:34:53       [0399/885] lr: \t1.0000E-04 loss: \t3.30789\n",
            " epoch [0026 / 0050] eta: 0 Days 0:34:21       [0499/885] lr: \t1.0000E-04 loss: \t3.31549\n",
            " epoch [0026 / 0050] eta: 0 Days 0:37:47       [0599/885] lr: \t1.0000E-04 loss: \t3.32921\n",
            " epoch [0026 / 0050] eta: 0 Days 0:35:0        [0699/885] lr: \t1.0000E-04 loss: \t3.30712\n",
            " epoch [0026 / 0050] eta: 0 Days 0:33:58       [0799/885] lr: \t1.0000E-04 loss: \t3.30291\n"
          ]
        },
        {
          "output_type": "stream",
          "name": "stderr",
          "text": [
            "100%|██████████| 13/13 [00:22<00:00,  1.71s/it]\n"
          ]
        },
        {
          "output_type": "stream",
          "name": "stdout",
          "text": [
            "saving last_epoch checkpoint\n",
            "val AUROC mean 0.6500\n",
            "Atelectasis 0.7008\n",
            "Cardiomegaly 0.5564\n",
            "Effusion 0.6494\n",
            "Infiltration 0.6185\n",
            "Mass 0.6164\n",
            "Nodule 0.6563\n",
            "Pneumothorax 0.6570\n",
            "Consolidation 0.6862\n",
            "Pleural_Thickening 0.5301\n",
            "Hernia 0.8294\n",
            "best epoch 24 best auroc 0.6581540447420432 loss 3.157333 auroc at min loss 0.6582\n",
            " epoch [0027 / 0050] eta: 0 Days 0:37:27       [0099/885] lr: \t1.0000E-04 loss: \t3.17870\n",
            " epoch [0027 / 0050] eta: 0 Days 0:34:2        [0199/885] lr: \t1.0000E-04 loss: \t3.26323\n",
            " epoch [0027 / 0050] eta: 0 Days 0:34:19       [0299/885] lr: \t1.0000E-04 loss: \t3.28153\n",
            " epoch [0027 / 0050] eta: 0 Days 0:33:43       [0399/885] lr: \t1.0000E-04 loss: \t3.27869\n",
            " epoch [0027 / 0050] eta: 0 Days 0:33:40       [0499/885] lr: \t1.0000E-04 loss: \t3.29284\n",
            " epoch [0027 / 0050] eta: 0 Days 0:35:31       [0599/885] lr: \t1.0000E-04 loss: \t3.28226\n",
            " epoch [0027 / 0050] eta: 0 Days 0:33:24       [0699/885] lr: \t1.0000E-04 loss: \t3.28537\n",
            " epoch [0027 / 0050] eta: 0 Days 0:34:8        [0799/885] lr: \t1.0000E-04 loss: \t3.29277\n"
          ]
        },
        {
          "output_type": "stream",
          "name": "stderr",
          "text": [
            "100%|██████████| 13/13 [00:22<00:00,  1.71s/it]\n"
          ]
        },
        {
          "output_type": "stream",
          "name": "stdout",
          "text": [
            "saving last_epoch checkpoint\n",
            "saving best_auroc checkpoint\n",
            "val AUROC mean 0.6594\n",
            "Atelectasis 0.7112\n",
            "Cardiomegaly 0.5975\n",
            "Effusion 0.6898\n",
            "Infiltration 0.6287\n",
            "Mass 0.5777\n",
            "Nodule 0.6441\n",
            "Pneumothorax 0.6716\n",
            "Consolidation 0.6749\n",
            "Pleural_Thickening 0.5606\n",
            "Hernia 0.8374\n"
          ]
        },
        {
          "output_type": "stream",
          "name": "stderr",
          "text": [
            "100%|██████████| 99/99 [00:29<00:00,  3.31it/s]\n"
          ]
        },
        {
          "output_type": "stream",
          "name": "stdout",
          "text": [
            "\n",
            "test_seen AUROC mean 0.6277\n",
            "Atelectasis 0.6650\n",
            "Effusion 0.6906\n",
            "Infiltration 0.6028\n",
            "Mass 0.5517\n",
            "Nodule 0.6604\n",
            "Pneumothorax 0.6024\n",
            "Consolidation 0.6470\n",
            "Cardiomegaly 0.6262\n",
            "Pleural_Thickening 0.5302\n",
            "Hernia 0.7011\n",
            "\n",
            "test_unseen AUROC mean 0.4951\n",
            "Edema 0.5903\n",
            "Pneumonia 0.4667\n",
            "Emphysema 0.4779\n",
            "Fibrosis 0.4455\n",
            "best epoch 27 best auroc 0.6593537279311253 loss 3.119957 auroc at min loss 0.6582\n",
            " epoch [0028 / 0050] eta: 0 Days 0:33:16       [0099/885] lr: \t1.0000E-04 loss: \t3.21888\n",
            " epoch [0028 / 0050] eta: 0 Days 0:34:25       [0199/885] lr: \t1.0000E-04 loss: \t3.23582\n",
            " epoch [0028 / 0050] eta: 0 Days 0:32:39       [0299/885] lr: \t1.0000E-04 loss: \t3.21111\n",
            " epoch [0028 / 0050] eta: 0 Days 0:32:19       [0399/885] lr: \t1.0000E-04 loss: \t3.23349\n",
            " epoch [0028 / 0050] eta: 0 Days 0:32:15       [0499/885] lr: \t1.0000E-04 loss: \t3.24320\n",
            " epoch [0028 / 0050] eta: 0 Days 0:31:40       [0599/885] lr: \t1.0000E-04 loss: \t3.24364\n",
            " epoch [0028 / 0050] eta: 0 Days 0:32:18       [0699/885] lr: \t1.0000E-04 loss: \t3.26106\n",
            " epoch [0028 / 0050] eta: 0 Days 0:32:15       [0799/885] lr: \t1.0000E-04 loss: \t3.28045\n"
          ]
        },
        {
          "output_type": "stream",
          "name": "stderr",
          "text": [
            "100%|██████████| 13/13 [00:22<00:00,  1.75s/it]\n"
          ]
        },
        {
          "output_type": "stream",
          "name": "stdout",
          "text": [
            "saving last_epoch checkpoint\n",
            "saving best_auroc checkpoint\n",
            "saving min_loss checkpoint\n",
            "val AUROC mean 0.6720\n",
            "Atelectasis 0.7077\n",
            "Cardiomegaly 0.6617\n",
            "Effusion 0.7125\n",
            "Infiltration 0.6208\n",
            "Mass 0.5883\n",
            "Nodule 0.6537\n",
            "Pneumothorax 0.6834\n",
            "Consolidation 0.6806\n",
            "Pleural_Thickening 0.6127\n",
            "Hernia 0.7988\n"
          ]
        },
        {
          "output_type": "stream",
          "name": "stderr",
          "text": [
            "100%|██████████| 99/99 [00:30<00:00,  3.24it/s]\n"
          ]
        },
        {
          "output_type": "stream",
          "name": "stdout",
          "text": [
            "\n",
            "test_seen AUROC mean 0.6405\n",
            "Atelectasis 0.6551\n",
            "Effusion 0.7135\n",
            "Infiltration 0.5904\n",
            "Mass 0.5553\n",
            "Nodule 0.6648\n",
            "Pneumothorax 0.6253\n",
            "Consolidation 0.6528\n",
            "Cardiomegaly 0.6805\n",
            "Pleural_Thickening 0.5723\n",
            "Hernia 0.6949\n",
            "\n",
            "test_unseen AUROC mean 0.5345\n",
            "Edema 0.6430\n",
            "Pneumonia 0.4771\n",
            "Emphysema 0.5063\n",
            "Fibrosis 0.5115\n",
            "best epoch 28 best auroc 0.6720037848184439 loss 3.100943 auroc at min loss 0.6720\n",
            " epoch [0029 / 0050] eta: 0 Days 0:31:23       [0099/885] lr: \t1.0000E-04 loss: \t3.34493\n",
            " epoch [0029 / 0050] eta: 0 Days 0:31:29       [0199/885] lr: \t1.0000E-04 loss: \t3.29014\n",
            " epoch [0029 / 0050] eta: 0 Days 0:31:0        [0299/885] lr: \t1.0000E-04 loss: \t3.30503\n",
            " epoch [0029 / 0050] eta: 0 Days 0:30:46       [0399/885] lr: \t1.0000E-04 loss: \t3.27321\n",
            " epoch [0029 / 0050] eta: 0 Days 0:36:9        [0499/885] lr: \t1.0000E-04 loss: \t3.28646\n",
            " epoch [0029 / 0050] eta: 0 Days 0:30:52       [0599/885] lr: \t1.0000E-04 loss: \t3.25297\n",
            " epoch [0029 / 0050] eta: 0 Days 0:30:17       [0699/885] lr: \t1.0000E-04 loss: \t3.23750\n",
            " epoch [0029 / 0050] eta: 0 Days 0:30:1        [0799/885] lr: \t1.0000E-04 loss: \t3.25779\n"
          ]
        },
        {
          "output_type": "stream",
          "name": "stderr",
          "text": [
            "100%|██████████| 13/13 [00:22<00:00,  1.74s/it]\n"
          ]
        },
        {
          "output_type": "stream",
          "name": "stdout",
          "text": [
            "saving last_epoch checkpoint\n",
            "val AUROC mean 0.6648\n",
            "Atelectasis 0.7154\n",
            "Cardiomegaly 0.6072\n",
            "Effusion 0.6851\n",
            "Infiltration 0.6231\n",
            "Mass 0.5985\n",
            "Nodule 0.6602\n",
            "Pneumothorax 0.7069\n",
            "Consolidation 0.6771\n",
            "Pleural_Thickening 0.5713\n",
            "Hernia 0.8037\n",
            "best epoch 28 best auroc 0.6720037848184439 loss 3.117479 auroc at min loss 0.6720\n",
            " epoch [0030 / 0050] eta: 0 Days 0:29:22       [0099/885] lr: \t1.0000E-04 loss: \t3.22554\n",
            " epoch [0030 / 0050] eta: 0 Days 0:28:59       [0199/885] lr: \t1.0000E-04 loss: \t3.23588\n",
            " epoch [0030 / 0050] eta: 0 Days 0:30:8        [0299/885] lr: \t1.0000E-04 loss: \t3.25369\n",
            " epoch [0030 / 0050] eta: 0 Days 0:28:58       [0399/885] lr: \t1.0000E-04 loss: \t3.28872\n",
            " epoch [0030 / 0050] eta: 0 Days 0:32:41       [0499/885] lr: \t1.0000E-04 loss: \t3.28045\n",
            " epoch [0030 / 0050] eta: 0 Days 0:29:16       [0599/885] lr: \t1.0000E-04 loss: \t3.26463\n",
            " epoch [0030 / 0050] eta: 0 Days 0:29:3        [0699/885] lr: \t1.0000E-04 loss: \t3.26091\n",
            " epoch [0030 / 0050] eta: 0 Days 0:29:27       [0799/885] lr: \t1.0000E-04 loss: \t3.25772\n"
          ]
        },
        {
          "output_type": "stream",
          "name": "stderr",
          "text": [
            "100%|██████████| 13/13 [00:22<00:00,  1.72s/it]\n"
          ]
        },
        {
          "output_type": "stream",
          "name": "stdout",
          "text": [
            "saving last_epoch checkpoint\n",
            "saving best_auroc checkpoint\n",
            "saving min_loss checkpoint\n",
            "val AUROC mean 0.6851\n",
            "Atelectasis 0.7126\n",
            "Cardiomegaly 0.7416\n",
            "Effusion 0.6915\n",
            "Infiltration 0.6164\n",
            "Mass 0.6274\n",
            "Nodule 0.6540\n",
            "Pneumothorax 0.7055\n",
            "Consolidation 0.6637\n",
            "Pleural_Thickening 0.6144\n",
            "Hernia 0.8244\n"
          ]
        },
        {
          "output_type": "stream",
          "name": "stderr",
          "text": [
            "100%|██████████| 99/99 [00:30<00:00,  3.26it/s]\n"
          ]
        },
        {
          "output_type": "stream",
          "name": "stdout",
          "text": [
            "\n",
            "test_seen AUROC mean 0.6507\n",
            "Atelectasis 0.6736\n",
            "Effusion 0.6874\n",
            "Infiltration 0.5995\n",
            "Mass 0.5843\n",
            "Nodule 0.6768\n",
            "Pneumothorax 0.6481\n",
            "Consolidation 0.6340\n",
            "Cardiomegaly 0.7367\n",
            "Pleural_Thickening 0.5744\n",
            "Hernia 0.6917\n",
            "\n",
            "test_unseen AUROC mean 0.4922\n",
            "Edema 0.4827\n",
            "Pneumonia 0.4655\n",
            "Emphysema 0.5084\n",
            "Fibrosis 0.5121\n",
            "best epoch 30 best auroc 0.6851367359392736 loss 3.046648 auroc at min loss 0.6851\n",
            " epoch [0031 / 0050] eta: 0 Days 0:27:47       [0099/885] lr: \t1.0000E-04 loss: \t3.25306\n",
            " epoch [0031 / 0050] eta: 0 Days 0:29:30       [0199/885] lr: \t1.0000E-04 loss: \t3.29176\n",
            " epoch [0031 / 0050] eta: 0 Days 0:28:22       [0299/885] lr: \t1.0000E-04 loss: \t3.26098\n",
            " epoch [0031 / 0050] eta: 0 Days 0:28:31       [0399/885] lr: \t1.0000E-04 loss: \t3.25194\n",
            " epoch [0031 / 0050] eta: 0 Days 0:27:46       [0499/885] lr: \t1.0000E-04 loss: \t3.25631\n",
            " epoch [0031 / 0050] eta: 0 Days 0:28:9        [0599/885] lr: \t1.0000E-04 loss: \t3.23849\n",
            " epoch [0031 / 0050] eta: 0 Days 0:27:6        [0699/885] lr: \t1.0000E-04 loss: \t3.24082\n",
            " epoch [0031 / 0050] eta: 0 Days 0:27:43       [0799/885] lr: \t1.0000E-04 loss: \t3.25221\n"
          ]
        },
        {
          "output_type": "stream",
          "name": "stderr",
          "text": [
            "100%|██████████| 13/13 [00:22<00:00,  1.74s/it]\n"
          ]
        },
        {
          "output_type": "stream",
          "name": "stdout",
          "text": [
            "saving last_epoch checkpoint\n",
            "val AUROC mean 0.6814\n",
            "Atelectasis 0.6916\n",
            "Cardiomegaly 0.7583\n",
            "Effusion 0.6662\n",
            "Infiltration 0.6247\n",
            "Mass 0.6239\n",
            "Nodule 0.6561\n",
            "Pneumothorax 0.6965\n",
            "Consolidation 0.6839\n",
            "Pleural_Thickening 0.5922\n",
            "Hernia 0.8208\n",
            "best epoch 30 best auroc 0.6851367359392736 loss 3.084932 auroc at min loss 0.6851\n",
            " epoch [0032 / 0050] eta: 0 Days 0:26:58       [0099/885] lr: \t1.0000E-04 loss: \t3.31110\n",
            " epoch [0032 / 0050] eta: 0 Days 0:26:47       [0199/885] lr: \t1.0000E-04 loss: \t3.22522\n",
            " epoch [0032 / 0050] eta: 0 Days 0:27:0        [0299/885] lr: \t1.0000E-04 loss: \t3.23469\n",
            " epoch [0032 / 0050] eta: 0 Days 0:26:4        [0399/885] lr: \t1.0000E-04 loss: \t3.22814\n",
            " epoch [0032 / 0050] eta: 0 Days 0:26:43       [0499/885] lr: \t1.0000E-04 loss: \t3.22482\n",
            " epoch [0032 / 0050] eta: 0 Days 0:25:43       [0599/885] lr: \t1.0000E-04 loss: \t3.22103\n",
            " epoch [0032 / 0050] eta: 0 Days 0:28:15       [0699/885] lr: \t1.0000E-04 loss: \t3.22395\n",
            " epoch [0032 / 0050] eta: 0 Days 0:28:43       [0799/885] lr: \t1.0000E-04 loss: \t3.20506\n"
          ]
        },
        {
          "output_type": "stream",
          "name": "stderr",
          "text": [
            "100%|██████████| 13/13 [00:22<00:00,  1.74s/it]\n"
          ]
        },
        {
          "output_type": "stream",
          "name": "stdout",
          "text": [
            "saving last_epoch checkpoint\n",
            "saving best_auroc checkpoint\n",
            "saving min_loss checkpoint\n",
            "val AUROC mean 0.6879\n",
            "Atelectasis 0.7206\n",
            "Cardiomegaly 0.7120\n",
            "Effusion 0.7383\n",
            "Infiltration 0.6256\n",
            "Mass 0.6166\n",
            "Nodule 0.6584\n",
            "Pneumothorax 0.6975\n",
            "Consolidation 0.6770\n",
            "Pleural_Thickening 0.6166\n",
            "Hernia 0.8169\n"
          ]
        },
        {
          "output_type": "stream",
          "name": "stderr",
          "text": [
            "100%|██████████| 99/99 [00:30<00:00,  3.26it/s]\n"
          ]
        },
        {
          "output_type": "stream",
          "name": "stdout",
          "text": [
            "\n",
            "test_seen AUROC mean 0.6567\n",
            "Atelectasis 0.6752\n",
            "Effusion 0.7357\n",
            "Infiltration 0.5987\n",
            "Mass 0.5637\n",
            "Nodule 0.6809\n",
            "Pneumothorax 0.6662\n",
            "Consolidation 0.6409\n",
            "Cardiomegaly 0.7861\n",
            "Pleural_Thickening 0.5772\n",
            "Hernia 0.6426\n",
            "\n",
            "test_unseen AUROC mean 0.5031\n",
            "Edema 0.5748\n",
            "Pneumonia 0.4246\n",
            "Emphysema 0.4878\n",
            "Fibrosis 0.5251\n",
            "best epoch 32 best auroc 0.6879436296749762 loss 2.994420 auroc at min loss 0.6879\n",
            " epoch [0033 / 0050] eta: 0 Days 0:26:23       [0099/885] lr: \t1.0000E-04 loss: \t3.21600\n",
            " epoch [0033 / 0050] eta: 0 Days 0:25:2        [0199/885] lr: \t1.0000E-04 loss: \t3.20447\n",
            " epoch [0033 / 0050] eta: 0 Days 0:25:46       [0299/885] lr: \t1.0000E-04 loss: \t3.20544\n",
            " epoch [0033 / 0050] eta: 0 Days 0:25:21       [0399/885] lr: \t1.0000E-04 loss: \t3.18773\n",
            " epoch [0033 / 0050] eta: 0 Days 0:25:12       [0499/885] lr: \t1.0000E-04 loss: \t3.19973\n",
            " epoch [0033 / 0050] eta: 0 Days 0:27:1        [0599/885] lr: \t1.0000E-04 loss: \t3.19637\n",
            " epoch [0033 / 0050] eta: 0 Days 0:24:36       [0699/885] lr: \t1.0000E-04 loss: \t3.19612\n",
            " epoch [0033 / 0050] eta: 0 Days 0:24:38       [0799/885] lr: \t1.0000E-04 loss: \t3.18904\n"
          ]
        },
        {
          "output_type": "stream",
          "name": "stderr",
          "text": [
            "100%|██████████| 13/13 [00:22<00:00,  1.75s/it]\n"
          ]
        },
        {
          "output_type": "stream",
          "name": "stdout",
          "text": [
            "saving last_epoch checkpoint\n",
            "val AUROC mean 0.6863\n",
            "Atelectasis 0.6943\n",
            "Cardiomegaly 0.7694\n",
            "Effusion 0.6815\n",
            "Infiltration 0.6223\n",
            "Mass 0.6378\n",
            "Nodule 0.6659\n",
            "Pneumothorax 0.6784\n",
            "Consolidation 0.6867\n",
            "Pleural_Thickening 0.6074\n",
            "Hernia 0.8191\n",
            "best epoch 32 best auroc 0.6879436296749762 loss 3.083447 auroc at min loss 0.6879\n",
            " epoch [0034 / 0050] eta: 0 Days 0:24:14       [0099/885] lr: \t1.0000E-04 loss: \t3.28163\n",
            " epoch [0034 / 0050] eta: 0 Days 0:23:30       [0199/885] lr: \t1.0000E-04 loss: \t3.20380\n",
            " epoch [0034 / 0050] eta: 0 Days 0:24:10       [0299/885] lr: \t1.0000E-04 loss: \t3.18971\n",
            " epoch [0034 / 0050] eta: 0 Days 0:23:40       [0399/885] lr: \t1.0000E-04 loss: \t3.20199\n",
            " epoch [0034 / 0050] eta: 0 Days 0:23:39       [0499/885] lr: \t1.0000E-04 loss: \t3.19028\n",
            " epoch [0034 / 0050] eta: 0 Days 0:23:21       [0599/885] lr: \t1.0000E-04 loss: \t3.19079\n",
            " epoch [0034 / 0050] eta: 0 Days 0:23:18       [0699/885] lr: \t1.0000E-04 loss: \t3.19314\n",
            " epoch [0034 / 0050] eta: 0 Days 0:22:53       [0799/885] lr: \t1.0000E-04 loss: \t3.18758\n"
          ]
        },
        {
          "output_type": "stream",
          "name": "stderr",
          "text": [
            "100%|██████████| 13/13 [00:21<00:00,  1.68s/it]\n"
          ]
        },
        {
          "output_type": "stream",
          "name": "stdout",
          "text": [
            "saving last_epoch checkpoint\n",
            "saving best_auroc checkpoint\n",
            "val AUROC mean 0.6915\n",
            "Atelectasis 0.6965\n",
            "Cardiomegaly 0.8103\n",
            "Effusion 0.7420\n",
            "Infiltration 0.6255\n",
            "Mass 0.6118\n",
            "Nodule 0.6444\n",
            "Pneumothorax 0.6809\n",
            "Consolidation 0.6887\n",
            "Pleural_Thickening 0.6175\n",
            "Hernia 0.7979\n"
          ]
        },
        {
          "output_type": "stream",
          "name": "stderr",
          "text": [
            "100%|██████████| 99/99 [00:29<00:00,  3.31it/s]\n"
          ]
        },
        {
          "output_type": "stream",
          "name": "stdout",
          "text": [
            "\n",
            "test_seen AUROC mean 0.6590\n",
            "Atelectasis 0.6567\n",
            "Effusion 0.7398\n",
            "Infiltration 0.6017\n",
            "Mass 0.5767\n",
            "Nodule 0.6723\n",
            "Pneumothorax 0.6414\n",
            "Consolidation 0.6510\n",
            "Cardiomegaly 0.8141\n",
            "Pleural_Thickening 0.5967\n",
            "Hernia 0.6399\n",
            "\n",
            "test_unseen AUROC mean 0.5286\n",
            "Edema 0.5926\n",
            "Pneumonia 0.4526\n",
            "Emphysema 0.5089\n",
            "Fibrosis 0.5603\n",
            "best epoch 34 best auroc 0.6915442861817065 loss 3.062239 auroc at min loss 0.6879\n",
            " epoch [0035 / 0050] eta: 0 Days 0:26:1        [0099/885] lr: \t1.0000E-04 loss: \t3.25023\n",
            " epoch [0035 / 0050] eta: 0 Days 0:24:19       [0199/885] lr: \t1.0000E-04 loss: \t3.15460\n",
            " epoch [0035 / 0050] eta: 0 Days 0:22:49       [0299/885] lr: \t1.0000E-04 loss: \t3.16890\n",
            " epoch [0035 / 0050] eta: 0 Days 0:22:50       [0399/885] lr: \t1.0000E-04 loss: \t3.17257\n",
            " epoch [0035 / 0050] eta: 0 Days 0:22:8        [0499/885] lr: \t1.0000E-04 loss: \t3.16038\n",
            " epoch [0035 / 0050] eta: 0 Days 0:21:46       [0599/885] lr: \t1.0000E-04 loss: \t3.16424\n",
            " epoch [0035 / 0050] eta: 0 Days 0:22:59       [0699/885] lr: \t1.0000E-04 loss: \t3.17680\n",
            " epoch [0035 / 0050] eta: 0 Days 0:22:42       [0799/885] lr: \t1.0000E-04 loss: \t3.16670\n"
          ]
        },
        {
          "output_type": "stream",
          "name": "stderr",
          "text": [
            "100%|██████████| 13/13 [00:22<00:00,  1.74s/it]\n"
          ]
        },
        {
          "output_type": "stream",
          "name": "stdout",
          "text": [
            "saving last_epoch checkpoint\n",
            "saving best_auroc checkpoint\n",
            "saving min_loss checkpoint\n",
            "val AUROC mean 0.6958\n",
            "Atelectasis 0.7131\n",
            "Cardiomegaly 0.8252\n",
            "Effusion 0.7505\n",
            "Infiltration 0.6269\n",
            "Mass 0.6204\n",
            "Nodule 0.6443\n",
            "Pneumothorax 0.6970\n",
            "Consolidation 0.6792\n",
            "Pleural_Thickening 0.6260\n",
            "Hernia 0.7754\n"
          ]
        },
        {
          "output_type": "stream",
          "name": "stderr",
          "text": [
            "100%|██████████| 99/99 [00:30<00:00,  3.25it/s]\n"
          ]
        },
        {
          "output_type": "stream",
          "name": "stdout",
          "text": [
            "\n",
            "test_seen AUROC mean 0.6491\n",
            "Atelectasis 0.6597\n",
            "Effusion 0.7399\n",
            "Infiltration 0.6000\n",
            "Mass 0.5742\n",
            "Nodule 0.6751\n",
            "Pneumothorax 0.6466\n",
            "Consolidation 0.6414\n",
            "Cardiomegaly 0.8130\n",
            "Pleural_Thickening 0.5949\n",
            "Hernia 0.5459\n",
            "\n",
            "test_unseen AUROC mean 0.4981\n",
            "Edema 0.4794\n",
            "Pneumonia 0.4600\n",
            "Emphysema 0.5201\n",
            "Fibrosis 0.5329\n",
            "best epoch 35 best auroc 0.6958009525137403 loss 2.975743 auroc at min loss 0.6958\n",
            " epoch [0036 / 0050] eta: 0 Days 0:21:32       [0099/885] lr: \t1.0000E-04 loss: \t3.18724\n",
            " epoch [0036 / 0050] eta: 0 Days 0:21:21       [0199/885] lr: \t1.0000E-04 loss: \t3.17352\n",
            " epoch [0036 / 0050] eta: 0 Days 0:21:11       [0299/885] lr: \t1.0000E-04 loss: \t3.15134\n",
            " epoch [0036 / 0050] eta: 0 Days 0:20:43       [0399/885] lr: \t1.0000E-04 loss: \t3.16993\n",
            " epoch [0036 / 0050] eta: 0 Days 0:20:40       [0499/885] lr: \t1.0000E-04 loss: \t3.18469\n",
            " epoch [0036 / 0050] eta: 0 Days 0:20:31       [0599/885] lr: \t1.0000E-04 loss: \t3.17233\n",
            " epoch [0036 / 0050] eta: 0 Days 0:20:48       [0699/885] lr: \t1.0000E-04 loss: \t3.15987\n",
            " epoch [0036 / 0050] eta: 0 Days 0:21:5        [0799/885] lr: \t1.0000E-04 loss: \t3.16190\n"
          ]
        },
        {
          "output_type": "stream",
          "name": "stderr",
          "text": [
            "100%|██████████| 13/13 [00:22<00:00,  1.75s/it]\n"
          ]
        },
        {
          "output_type": "stream",
          "name": "stdout",
          "text": [
            "saving last_epoch checkpoint\n",
            "saving best_auroc checkpoint\n",
            "saving min_loss checkpoint\n",
            "val AUROC mean 0.7009\n",
            "Atelectasis 0.7417\n",
            "Cardiomegaly 0.8495\n",
            "Effusion 0.7330\n",
            "Infiltration 0.6122\n",
            "Mass 0.6107\n",
            "Nodule 0.6443\n",
            "Pneumothorax 0.7020\n",
            "Consolidation 0.6990\n",
            "Pleural_Thickening 0.6351\n",
            "Hernia 0.7820\n"
          ]
        },
        {
          "output_type": "stream",
          "name": "stderr",
          "text": [
            "100%|██████████| 99/99 [00:30<00:00,  3.29it/s]\n"
          ]
        },
        {
          "output_type": "stream",
          "name": "stdout",
          "text": [
            "\n",
            "test_seen AUROC mean 0.6714\n",
            "Atelectasis 0.6985\n",
            "Effusion 0.7343\n",
            "Infiltration 0.5959\n",
            "Mass 0.5922\n",
            "Nodule 0.6782\n",
            "Pneumothorax 0.6525\n",
            "Consolidation 0.6582\n",
            "Cardiomegaly 0.8366\n",
            "Pleural_Thickening 0.6018\n",
            "Hernia 0.6658\n",
            "\n",
            "test_unseen AUROC mean 0.5155\n",
            "Edema 0.5165\n",
            "Pneumonia 0.4559\n",
            "Emphysema 0.5479\n",
            "Fibrosis 0.5418\n",
            "best epoch 36 best auroc 0.7009483950592863 loss 2.937429 auroc at min loss 0.7009\n",
            " epoch [0037 / 0050] eta: 0 Days 0:19:54       [0099/885] lr: \t1.0000E-04 loss: \t3.03626\n",
            " epoch [0037 / 0050] eta: 0 Days 0:20:2        [0199/885] lr: \t1.0000E-04 loss: \t3.11391\n",
            " epoch [0037 / 0050] eta: 0 Days 0:20:40       [0299/885] lr: \t1.0000E-04 loss: \t3.09773\n",
            " epoch [0037 / 0050] eta: 0 Days 0:19:37       [0399/885] lr: \t1.0000E-04 loss: \t3.10511\n",
            " epoch [0037 / 0050] eta: 0 Days 0:19:17       [0499/885] lr: \t1.0000E-04 loss: \t3.11087\n",
            " epoch [0037 / 0050] eta: 0 Days 0:19:47       [0599/885] lr: \t1.0000E-04 loss: \t3.12725\n",
            " epoch [0037 / 0050] eta: 0 Days 0:18:32       [0699/885] lr: \t1.0000E-04 loss: \t3.12283\n",
            " epoch [0037 / 0050] eta: 0 Days 0:18:41       [0799/885] lr: \t1.0000E-04 loss: \t3.12685\n"
          ]
        },
        {
          "output_type": "stream",
          "name": "stderr",
          "text": [
            "100%|██████████| 13/13 [00:22<00:00,  1.76s/it]\n"
          ]
        },
        {
          "output_type": "stream",
          "name": "stdout",
          "text": [
            "saving last_epoch checkpoint\n",
            "val AUROC mean 0.6784\n",
            "Atelectasis 0.6925\n",
            "Cardiomegaly 0.8420\n",
            "Effusion 0.7198\n",
            "Infiltration 0.6273\n",
            "Mass 0.6102\n",
            "Nodule 0.6572\n",
            "Pneumothorax 0.6673\n",
            "Consolidation 0.6969\n",
            "Pleural_Thickening 0.6062\n",
            "Hernia 0.6644\n",
            "best epoch 36 best auroc 0.7009483950592863 loss 2.969425 auroc at min loss 0.7009\n",
            " epoch [0038 / 0050] eta: 0 Days 0:22:33       [0099/885] lr: \t1.0000E-04 loss: \t3.21007\n",
            " epoch [0038 / 0050] eta: 0 Days 0:18:51       [0199/885] lr: \t1.0000E-04 loss: \t3.15335\n",
            " epoch [0038 / 0050] eta: 0 Days 0:18:21       [0299/885] lr: \t1.0000E-04 loss: \t3.16856\n",
            " epoch [0038 / 0050] eta: 0 Days 0:18:18       [0399/885] lr: \t1.0000E-04 loss: \t3.12638\n",
            " epoch [0038 / 0050] eta: 0 Days 0:17:46       [0499/885] lr: \t1.0000E-04 loss: \t3.12154\n",
            " epoch [0038 / 0050] eta: 0 Days 0:17:49       [0599/885] lr: \t1.0000E-04 loss: \t3.10785\n",
            " epoch [0038 / 0050] eta: 0 Days 0:17:40       [0699/885] lr: \t1.0000E-04 loss: \t3.10445\n",
            " epoch [0038 / 0050] eta: 0 Days 0:17:43       [0799/885] lr: \t1.0000E-04 loss: \t3.09586\n"
          ]
        },
        {
          "output_type": "stream",
          "name": "stderr",
          "text": [
            "100%|██████████| 13/13 [00:22<00:00,  1.72s/it]\n"
          ]
        },
        {
          "output_type": "stream",
          "name": "stdout",
          "text": [
            "saving last_epoch checkpoint\n",
            "saving best_auroc checkpoint\n",
            "saving min_loss checkpoint\n",
            "val AUROC mean 0.7047\n",
            "Atelectasis 0.7459\n",
            "Cardiomegaly 0.8472\n",
            "Effusion 0.7395\n",
            "Infiltration 0.6300\n",
            "Mass 0.6221\n",
            "Nodule 0.6506\n",
            "Pneumothorax 0.7075\n",
            "Consolidation 0.7064\n",
            "Pleural_Thickening 0.6224\n",
            "Hernia 0.7758\n"
          ]
        },
        {
          "output_type": "stream",
          "name": "stderr",
          "text": [
            "100%|██████████| 99/99 [00:30<00:00,  3.29it/s]\n"
          ]
        },
        {
          "output_type": "stream",
          "name": "stdout",
          "text": [
            "\n",
            "test_seen AUROC mean 0.6717\n",
            "Atelectasis 0.6984\n",
            "Effusion 0.7291\n",
            "Infiltration 0.5992\n",
            "Mass 0.5733\n",
            "Nodule 0.6731\n",
            "Pneumothorax 0.6629\n",
            "Consolidation 0.6543\n",
            "Cardiomegaly 0.8435\n",
            "Pleural_Thickening 0.6071\n",
            "Hernia 0.6758\n",
            "\n",
            "test_unseen AUROC mean 0.5078\n",
            "Edema 0.4635\n",
            "Pneumonia 0.4754\n",
            "Emphysema 0.5321\n",
            "Fibrosis 0.5601\n",
            "best epoch 38 best auroc 0.7047359805682019 loss 2.868446 auroc at min loss 0.7047\n",
            " epoch [0039 / 0050] eta: 0 Days 0:17:26       [0099/885] lr: \t1.0000E-04 loss: \t3.13912\n",
            " epoch [0039 / 0050] eta: 0 Days 0:17:6        [0199/885] lr: \t1.0000E-04 loss: \t3.16950\n",
            " epoch [0039 / 0050] eta: 0 Days 0:16:39       [0299/885] lr: \t1.0000E-04 loss: \t3.12525\n",
            " epoch [0039 / 0050] eta: 0 Days 0:17:18       [0399/885] lr: \t1.0000E-04 loss: \t3.10815\n",
            " epoch [0039 / 0050] eta: 0 Days 0:16:16       [0499/885] lr: \t1.0000E-04 loss: \t3.08235\n",
            " epoch [0039 / 0050] eta: 0 Days 0:16:6        [0599/885] lr: \t1.0000E-04 loss: \t3.08413\n",
            " epoch [0039 / 0050] eta: 0 Days 0:16:5        [0699/885] lr: \t1.0000E-04 loss: \t3.09556\n",
            " epoch [0039 / 0050] eta: 0 Days 0:19:22       [0799/885] lr: \t1.0000E-04 loss: \t3.08219\n"
          ]
        },
        {
          "output_type": "stream",
          "name": "stderr",
          "text": [
            "100%|██████████| 13/13 [00:22<00:00,  1.73s/it]\n"
          ]
        },
        {
          "output_type": "stream",
          "name": "stdout",
          "text": [
            "saving last_epoch checkpoint\n",
            "saving best_auroc checkpoint\n",
            "saving min_loss checkpoint\n",
            "val AUROC mean 0.7100\n",
            "Atelectasis 0.7302\n",
            "Cardiomegaly 0.9011\n",
            "Effusion 0.7566\n",
            "Infiltration 0.6397\n",
            "Mass 0.6247\n",
            "Nodule 0.6601\n",
            "Pneumothorax 0.7372\n",
            "Consolidation 0.6898\n",
            "Pleural_Thickening 0.6365\n",
            "Hernia 0.7238\n"
          ]
        },
        {
          "output_type": "stream",
          "name": "stderr",
          "text": [
            "100%|██████████| 99/99 [00:30<00:00,  3.26it/s]\n"
          ]
        },
        {
          "output_type": "stream",
          "name": "stdout",
          "text": [
            "\n",
            "test_seen AUROC mean 0.6658\n",
            "Atelectasis 0.6972\n",
            "Effusion 0.7568\n",
            "Infiltration 0.6108\n",
            "Mass 0.5905\n",
            "Nodule 0.6822\n",
            "Pneumothorax 0.6584\n",
            "Consolidation 0.6531\n",
            "Cardiomegaly 0.8516\n",
            "Pleural_Thickening 0.6013\n",
            "Hernia 0.5566\n",
            "\n",
            "test_unseen AUROC mean 0.5255\n",
            "Edema 0.6054\n",
            "Pneumonia 0.4668\n",
            "Emphysema 0.5422\n",
            "Fibrosis 0.4875\n",
            "best epoch 39 best auroc 0.709959945279574 loss 2.848779 auroc at min loss 0.7100\n",
            " epoch [0040 / 0050] eta: 0 Days 0:15:40       [0099/885] lr: \t1.0000E-04 loss: \t3.17502\n",
            " epoch [0040 / 0050] eta: 0 Days 0:15:49       [0199/885] lr: \t1.0000E-04 loss: \t3.10445\n",
            " epoch [0040 / 0050] eta: 0 Days 0:15:14       [0299/885] lr: \t1.0000E-04 loss: \t3.08515\n",
            " epoch [0040 / 0050] eta: 0 Days 0:15:9        [0399/885] lr: \t1.0000E-04 loss: \t3.10348\n",
            " epoch [0040 / 0050] eta: 0 Days 0:15:25       [0499/885] lr: \t1.0000E-04 loss: \t3.09246\n",
            " epoch [0040 / 0050] eta: 0 Days 0:14:27       [0599/885] lr: \t1.0000E-04 loss: \t3.08679\n",
            " epoch [0040 / 0050] eta: 0 Days 0:14:34       [0699/885] lr: \t1.0000E-04 loss: \t3.07230\n",
            " epoch [0040 / 0050] eta: 0 Days 0:16:20       [0799/885] lr: \t1.0000E-04 loss: \t3.07910\n"
          ]
        },
        {
          "output_type": "stream",
          "name": "stderr",
          "text": [
            "100%|██████████| 13/13 [00:22<00:00,  1.70s/it]\n"
          ]
        },
        {
          "output_type": "stream",
          "name": "stdout",
          "text": [
            "saving last_epoch checkpoint\n",
            "val AUROC mean 0.7027\n",
            "Atelectasis 0.7401\n",
            "Cardiomegaly 0.8767\n",
            "Effusion 0.7621\n",
            "Infiltration 0.6032\n",
            "Mass 0.6141\n",
            "Nodule 0.6541\n",
            "Pneumothorax 0.7130\n",
            "Consolidation 0.6963\n",
            "Pleural_Thickening 0.6251\n",
            "Hernia 0.7424\n",
            "best epoch 39 best auroc 0.709959945279574 loss 2.897078 auroc at min loss 0.7100\n",
            " epoch [0041 / 0050] eta: 0 Days 0:14:10       [0099/885] lr: \t1.0000E-04 loss: \t3.11569\n",
            " epoch [0041 / 0050] eta: 0 Days 0:14:11       [0199/885] lr: \t1.0000E-04 loss: \t3.12680\n",
            " epoch [0041 / 0050] eta: 0 Days 0:13:55       [0299/885] lr: \t1.0000E-04 loss: \t3.08837\n",
            " epoch [0041 / 0050] eta: 0 Days 0:13:23       [0399/885] lr: \t1.0000E-04 loss: \t3.06203\n",
            " epoch [0041 / 0050] eta: 0 Days 0:13:27       [0499/885] lr: \t1.0000E-04 loss: \t3.06316\n",
            " epoch [0041 / 0050] eta: 0 Days 0:13:12       [0599/885] lr: \t1.0000E-04 loss: \t3.06122\n",
            " epoch [0041 / 0050] eta: 0 Days 0:13:7        [0699/885] lr: \t1.0000E-04 loss: \t3.06157\n",
            " epoch [0041 / 0050] eta: 0 Days 0:13:2        [0799/885] lr: \t1.0000E-04 loss: \t3.05919\n"
          ]
        },
        {
          "output_type": "stream",
          "name": "stderr",
          "text": [
            "100%|██████████| 13/13 [00:21<00:00,  1.67s/it]\n"
          ]
        },
        {
          "output_type": "stream",
          "name": "stdout",
          "text": [
            "saving last_epoch checkpoint\n",
            "val AUROC mean 0.7048\n",
            "Atelectasis 0.7261\n",
            "Cardiomegaly 0.9034\n",
            "Effusion 0.7484\n",
            "Infiltration 0.6314\n",
            "Mass 0.6352\n",
            "Nodule 0.6539\n",
            "Pneumothorax 0.7156\n",
            "Consolidation 0.6935\n",
            "Pleural_Thickening 0.6102\n",
            "Hernia 0.7306\n",
            "best epoch 39 best auroc 0.709959945279574 loss 2.872402 auroc at min loss 0.7100\n",
            " epoch [0042 / 0050] eta: 0 Days 0:12:50       [0099/885] lr: \t1.0000E-04 loss: \t3.13883\n",
            " epoch [0042 / 0050] eta: 0 Days 0:12:38       [0199/885] lr: \t1.0000E-04 loss: \t3.07707\n",
            " epoch [0042 / 0050] eta: 0 Days 0:12:10       [0299/885] lr: \t1.0000E-04 loss: \t3.08988\n",
            " epoch [0042 / 0050] eta: 0 Days 0:12:4        [0399/885] lr: \t1.0000E-04 loss: \t3.07680\n",
            " epoch [0042 / 0050] eta: 0 Days 0:13:51       [0499/885] lr: \t1.0000E-04 loss: \t3.07980\n",
            " epoch [0042 / 0050] eta: 0 Days 0:11:44       [0599/885] lr: \t1.0000E-04 loss: \t3.08313\n",
            " epoch [0042 / 0050] eta: 0 Days 0:11:58       [0699/885] lr: \t1.0000E-04 loss: \t3.07684\n",
            " epoch [0042 / 0050] eta: 0 Days 0:11:36       [0799/885] lr: \t1.0000E-04 loss: \t3.06466\n"
          ]
        },
        {
          "output_type": "stream",
          "name": "stderr",
          "text": [
            "100%|██████████| 13/13 [00:22<00:00,  1.70s/it]\n"
          ]
        },
        {
          "output_type": "stream",
          "name": "stdout",
          "text": [
            "saving last_epoch checkpoint\n",
            "val AUROC mean 0.6927\n",
            "Atelectasis 0.7462\n",
            "Cardiomegaly 0.9025\n",
            "Effusion 0.7404\n",
            "Infiltration 0.6100\n",
            "Mass 0.6115\n",
            "Nodule 0.6553\n",
            "Pneumothorax 0.7069\n",
            "Consolidation 0.6918\n",
            "Pleural_Thickening 0.6271\n",
            "Hernia 0.6355\n",
            "best epoch 39 best auroc 0.709959945279574 loss 2.875591 auroc at min loss 0.7100\n",
            " epoch [0043 / 0050] eta: 0 Days 0:11:17       [0099/885] lr: \t1.0000E-04 loss: \t2.94375\n",
            " epoch [0043 / 0050] eta: 0 Days 0:11:3        [0199/885] lr: \t1.0000E-04 loss: \t2.96396\n",
            " epoch [0043 / 0050] eta: 0 Days 0:11:12       [0299/885] lr: \t1.0000E-04 loss: \t3.01890\n",
            " epoch [0043 / 0050] eta: 0 Days 0:10:44       [0399/885] lr: \t1.0000E-04 loss: \t3.03884\n",
            " epoch [0043 / 0050] eta: 0 Days 0:13:54       [0499/885] lr: \t1.0000E-04 loss: \t3.05076\n",
            " epoch [0043 / 0050] eta: 0 Days 0:10:34       [0599/885] lr: \t1.0000E-04 loss: \t3.04958\n",
            " epoch [0043 / 0050] eta: 0 Days 0:10:23       [0699/885] lr: \t1.0000E-04 loss: \t3.04989\n",
            " epoch [0043 / 0050] eta: 0 Days 0:11:29       [0799/885] lr: \t1.0000E-04 loss: \t3.05368\n"
          ]
        },
        {
          "output_type": "stream",
          "name": "stderr",
          "text": [
            "100%|██████████| 13/13 [00:21<00:00,  1.68s/it]\n"
          ]
        },
        {
          "output_type": "stream",
          "name": "stdout",
          "text": [
            "saving last_epoch checkpoint\n",
            "saving min_loss checkpoint\n",
            "val AUROC mean 0.7083\n",
            "Atelectasis 0.7404\n",
            "Cardiomegaly 0.9124\n",
            "Effusion 0.7468\n",
            "Infiltration 0.6301\n",
            "Mass 0.6135\n",
            "Nodule 0.6618\n",
            "Pneumothorax 0.7209\n",
            "Consolidation 0.6884\n",
            "Pleural_Thickening 0.6137\n",
            "Hernia 0.7553\n"
          ]
        },
        {
          "output_type": "stream",
          "name": "stderr",
          "text": [
            "100%|██████████| 99/99 [00:30<00:00,  3.21it/s]\n"
          ]
        },
        {
          "output_type": "stream",
          "name": "stdout",
          "text": [
            "\n",
            "test_seen AUROC mean 0.6814\n",
            "Atelectasis 0.6875\n",
            "Effusion 0.7306\n",
            "Infiltration 0.6049\n",
            "Mass 0.6000\n",
            "Nodule 0.6690\n",
            "Pneumothorax 0.6661\n",
            "Consolidation 0.6645\n",
            "Cardiomegaly 0.8726\n",
            "Pleural_Thickening 0.6041\n",
            "Hernia 0.7142\n",
            "\n",
            "test_unseen AUROC mean 0.5247\n",
            "Edema 0.3681\n",
            "Pneumonia 0.5472\n",
            "Emphysema 0.5698\n",
            "Fibrosis 0.6138\n",
            "best epoch 39 best auroc 0.709959945279574 loss 2.840211 auroc at min loss 0.7083\n",
            " epoch [0044 / 0050] eta: 0 Days 0:12:14       [0099/885] lr: \t1.0000E-04 loss: \t3.05166\n",
            " epoch [0044 / 0050] eta: 0 Days 0:9:52        [0199/885] lr: \t1.0000E-04 loss: \t3.08306\n",
            " epoch [0044 / 0050] eta: 0 Days 0:9:33        [0299/885] lr: \t1.0000E-04 loss: \t3.02712\n",
            " epoch [0044 / 0050] eta: 0 Days 0:9:50        [0399/885] lr: \t1.0000E-04 loss: \t3.04968\n",
            " epoch [0044 / 0050] eta: 0 Days 0:10:12       [0499/885] lr: \t1.0000E-04 loss: \t3.06105\n",
            " epoch [0044 / 0050] eta: 0 Days 0:9:0         [0599/885] lr: \t1.0000E-04 loss: \t3.03306\n",
            " epoch [0044 / 0050] eta: 0 Days 0:9:11        [0699/885] lr: \t1.0000E-04 loss: \t3.02039\n",
            " epoch [0044 / 0050] eta: 0 Days 0:8:49        [0799/885] lr: \t1.0000E-04 loss: \t3.04059\n"
          ]
        },
        {
          "output_type": "stream",
          "name": "stderr",
          "text": [
            "100%|██████████| 13/13 [00:21<00:00,  1.69s/it]\n"
          ]
        },
        {
          "output_type": "stream",
          "name": "stdout",
          "text": [
            "saving last_epoch checkpoint\n",
            "val AUROC mean 0.7021\n",
            "Atelectasis 0.7370\n",
            "Cardiomegaly 0.8808\n",
            "Effusion 0.7136\n",
            "Infiltration 0.6414\n",
            "Mass 0.6438\n",
            "Nodule 0.6438\n",
            "Pneumothorax 0.7262\n",
            "Consolidation 0.6712\n",
            "Pleural_Thickening 0.6159\n",
            "Hernia 0.7477\n",
            "best epoch 39 best auroc 0.709959945279574 loss 2.898176 auroc at min loss 0.7083\n",
            " epoch [0045 / 0050] eta: 0 Days 0:8:25        [0099/885] lr: \t1.0000E-04 loss: \t3.03975\n",
            " epoch [0045 / 0050] eta: 0 Days 0:9:35        [0199/885] lr: \t1.0000E-04 loss: \t3.06729\n",
            " epoch [0045 / 0050] eta: 0 Days 0:8:4         [0299/885] lr: \t1.0000E-04 loss: \t3.03347\n",
            " epoch [0045 / 0050] eta: 0 Days 0:8:7         [0399/885] lr: \t1.0000E-04 loss: \t3.04973\n",
            " epoch [0045 / 0050] eta: 0 Days 0:7:56        [0499/885] lr: \t1.0000E-04 loss: \t3.03115\n",
            " epoch [0045 / 0050] eta: 0 Days 0:7:34        [0599/885] lr: \t1.0000E-04 loss: \t3.01889\n",
            " epoch [0045 / 0050] eta: 0 Days 0:7:32        [0699/885] lr: \t1.0000E-04 loss: \t3.02455\n",
            " epoch [0045 / 0050] eta: 0 Days 0:7:13        [0799/885] lr: \t1.0000E-04 loss: \t3.03845\n"
          ]
        },
        {
          "output_type": "stream",
          "name": "stderr",
          "text": [
            "100%|██████████| 13/13 [00:22<00:00,  1.75s/it]\n"
          ]
        },
        {
          "output_type": "stream",
          "name": "stdout",
          "text": [
            "saving last_epoch checkpoint\n",
            "saving min_loss checkpoint\n",
            "val AUROC mean 0.7006\n",
            "Atelectasis 0.7349\n",
            "Cardiomegaly 0.9137\n",
            "Effusion 0.7747\n",
            "Infiltration 0.6192\n",
            "Mass 0.6771\n",
            "Nodule 0.6558\n",
            "Pneumothorax 0.6984\n",
            "Consolidation 0.6797\n",
            "Pleural_Thickening 0.6133\n",
            "Hernia 0.6394\n"
          ]
        },
        {
          "output_type": "stream",
          "name": "stderr",
          "text": [
            "100%|██████████| 99/99 [00:29<00:00,  3.33it/s]\n"
          ]
        },
        {
          "output_type": "stream",
          "name": "stdout",
          "text": [
            "\n",
            "test_seen AUROC mean 0.6725\n",
            "Atelectasis 0.6958\n",
            "Effusion 0.7634\n",
            "Infiltration 0.5981\n",
            "Mass 0.6058\n",
            "Nodule 0.6953\n",
            "Pneumothorax 0.6788\n",
            "Consolidation 0.6396\n",
            "Cardiomegaly 0.8575\n",
            "Pleural_Thickening 0.6213\n",
            "Hernia 0.5691\n",
            "\n",
            "test_unseen AUROC mean 0.5131\n",
            "Edema 0.3926\n",
            "Pneumonia 0.5009\n",
            "Emphysema 0.5830\n",
            "Fibrosis 0.5760\n",
            "best epoch 39 best auroc 0.709959945279574 loss 2.830238 auroc at min loss 0.7006\n",
            " epoch [0046 / 0050] eta: 0 Days 0:7:12        [0099/885] lr: \t1.0000E-04 loss: \t3.10743\n",
            " epoch [0046 / 0050] eta: 0 Days 0:7:9         [0199/885] lr: \t1.0000E-04 loss: \t3.07613\n",
            " epoch [0046 / 0050] eta: 0 Days 0:6:47        [0299/885] lr: \t1.0000E-04 loss: \t3.02877\n",
            " epoch [0046 / 0050] eta: 0 Days 0:6:51        [0399/885] lr: \t1.0000E-04 loss: \t3.03342\n",
            " epoch [0046 / 0050] eta: 0 Days 0:6:25        [0499/885] lr: \t1.0000E-04 loss: \t3.01110\n",
            " epoch [0046 / 0050] eta: 0 Days 0:6:26        [0599/885] lr: \t1.0000E-04 loss: \t2.98885\n",
            " epoch [0046 / 0050] eta: 0 Days 0:6:47        [0699/885] lr: \t1.0000E-04 loss: \t2.99839\n",
            " epoch [0046 / 0050] eta: 0 Days 0:5:55        [0799/885] lr: \t1.0000E-04 loss: \t2.98817\n"
          ]
        },
        {
          "output_type": "stream",
          "name": "stderr",
          "text": [
            "100%|██████████| 13/13 [00:22<00:00,  1.74s/it]\n"
          ]
        },
        {
          "output_type": "stream",
          "name": "stdout",
          "text": [
            "saving last_epoch checkpoint\n",
            "val AUROC mean 0.6929\n",
            "Atelectasis 0.7255\n",
            "Cardiomegaly 0.9058\n",
            "Effusion 0.7412\n",
            "Infiltration 0.6276\n",
            "Mass 0.6294\n",
            "Nodule 0.6587\n",
            "Pneumothorax 0.7078\n",
            "Consolidation 0.6798\n",
            "Pleural_Thickening 0.6185\n",
            "Hernia 0.6348\n",
            "best epoch 39 best auroc 0.709959945279574 loss 2.857833 auroc at min loss 0.7006\n",
            " epoch [0047 / 0050] eta: 0 Days 0:5:29        [0099/885] lr: \t1.0000E-04 loss: \t3.02540\n",
            " epoch [0047 / 0050] eta: 0 Days 0:5:28        [0199/885] lr: \t1.0000E-04 loss: \t3.07518\n",
            " epoch [0047 / 0050] eta: 0 Days 0:5:52        [0299/885] lr: \t1.0000E-04 loss: \t3.05355\n",
            " epoch [0047 / 0050] eta: 0 Days 0:5:11        [0399/885] lr: \t1.0000E-04 loss: \t3.02168\n",
            " epoch [0047 / 0050] eta: 0 Days 0:5:3         [0499/885] lr: \t1.0000E-04 loss: \t2.98755\n",
            " epoch [0047 / 0050] eta: 0 Days 0:4:53        [0599/885] lr: \t1.0000E-04 loss: \t2.98256\n",
            " epoch [0047 / 0050] eta: 0 Days 0:4:36        [0699/885] lr: \t1.0000E-04 loss: \t2.99335\n",
            " epoch [0047 / 0050] eta: 0 Days 0:4:51        [0799/885] lr: \t1.0000E-04 loss: \t2.98059\n"
          ]
        },
        {
          "output_type": "stream",
          "name": "stderr",
          "text": [
            "100%|██████████| 13/13 [00:22<00:00,  1.74s/it]\n"
          ]
        },
        {
          "output_type": "stream",
          "name": "stdout",
          "text": [
            "saving last_epoch checkpoint\n",
            "val AUROC mean 0.6986\n",
            "Atelectasis 0.7414\n",
            "Cardiomegaly 0.9060\n",
            "Effusion 0.7433\n",
            "Infiltration 0.6146\n",
            "Mass 0.6626\n",
            "Nodule 0.6542\n",
            "Pneumothorax 0.6978\n",
            "Consolidation 0.6964\n",
            "Pleural_Thickening 0.6179\n",
            "Hernia 0.6520\n",
            "best epoch 39 best auroc 0.709959945279574 loss 2.880580 auroc at min loss 0.7006\n",
            " epoch [0048 / 0050] eta: 0 Days 0:4:14        [0099/885] lr: \t1.0000E-04 loss: \t2.97682\n",
            " epoch [0048 / 0050] eta: 0 Days 0:4:2         [0199/885] lr: \t1.0000E-04 loss: \t2.96328\n",
            " epoch [0048 / 0050] eta: 0 Days 0:3:56        [0299/885] lr: \t1.0000E-04 loss: \t2.97701\n",
            " epoch [0048 / 0050] eta: 0 Days 0:3:40        [0399/885] lr: \t1.0000E-04 loss: \t2.96273\n",
            " epoch [0048 / 0050] eta: 0 Days 0:3:41        [0499/885] lr: \t1.0000E-04 loss: \t2.95564\n",
            " epoch [0048 / 0050] eta: 0 Days 0:3:17        [0599/885] lr: \t1.0000E-04 loss: \t2.96746\n",
            " epoch [0048 / 0050] eta: 0 Days 0:3:13        [0699/885] lr: \t1.0000E-04 loss: \t2.96566\n",
            " epoch [0048 / 0050] eta: 0 Days 0:2:56        [0799/885] lr: \t1.0000E-04 loss: \t2.96291\n"
          ]
        },
        {
          "output_type": "stream",
          "name": "stderr",
          "text": [
            "100%|██████████| 13/13 [00:22<00:00,  1.72s/it]\n"
          ]
        },
        {
          "output_type": "stream",
          "name": "stdout",
          "text": [
            "saving last_epoch checkpoint\n",
            "saving best_auroc checkpoint\n",
            "val AUROC mean 0.7227\n",
            "Atelectasis 0.7461\n",
            "Cardiomegaly 0.8848\n",
            "Effusion 0.7518\n",
            "Infiltration 0.6552\n",
            "Mass 0.6730\n",
            "Nodule 0.6527\n",
            "Pneumothorax 0.7442\n",
            "Consolidation 0.6773\n",
            "Pleural_Thickening 0.6399\n",
            "Hernia 0.8022\n"
          ]
        },
        {
          "output_type": "stream",
          "name": "stderr",
          "text": [
            "100%|██████████| 99/99 [00:30<00:00,  3.29it/s]\n"
          ]
        },
        {
          "output_type": "stream",
          "name": "stdout",
          "text": [
            "\n",
            "test_seen AUROC mean 0.6803\n",
            "Atelectasis 0.7040\n",
            "Effusion 0.7480\n",
            "Infiltration 0.6232\n",
            "Mass 0.6074\n",
            "Nodule 0.6817\n",
            "Pneumothorax 0.6843\n",
            "Consolidation 0.6537\n",
            "Cardiomegaly 0.8426\n",
            "Pleural_Thickening 0.6115\n",
            "Hernia 0.6465\n",
            "\n",
            "test_unseen AUROC mean 0.5086\n",
            "Edema 0.4549\n",
            "Pneumonia 0.4835\n",
            "Emphysema 0.5520\n",
            "Fibrosis 0.5440\n",
            "best epoch 48 best auroc 0.7227156611792489 loss 2.870482 auroc at min loss 0.7006\n",
            " epoch [0049 / 0050] eta: 0 Days 0:3:9         [0099/885] lr: \t1.0000E-04 loss: \t3.02653\n",
            " epoch [0049 / 0050] eta: 0 Days 0:3:14        [0199/885] lr: \t1.0000E-04 loss: \t2.97393\n",
            " epoch [0049 / 0050] eta: 0 Days 0:2:20        [0299/885] lr: \t1.0000E-04 loss: \t2.96084\n",
            " epoch [0049 / 0050] eta: 0 Days 0:2:11        [0399/885] lr: \t1.0000E-04 loss: \t2.96806\n",
            " epoch [0049 / 0050] eta: 0 Days 0:2:2         [0499/885] lr: \t1.0000E-04 loss: \t2.98057\n",
            " epoch [0049 / 0050] eta: 0 Days 0:2:8         [0599/885] lr: \t1.0000E-04 loss: \t2.98186\n",
            " epoch [0049 / 0050] eta: 0 Days 0:2:5         [0699/885] lr: \t1.0000E-04 loss: \t2.96866\n",
            " epoch [0049 / 0050] eta: 0 Days 0:1:34        [0799/885] lr: \t1.0000E-04 loss: \t2.95356\n"
          ]
        },
        {
          "output_type": "stream",
          "name": "stderr",
          "text": [
            "100%|██████████| 13/13 [00:22<00:00,  1.69s/it]\n"
          ]
        },
        {
          "output_type": "stream",
          "name": "stdout",
          "text": [
            "saving last_epoch checkpoint\n",
            "val AUROC mean 0.7052\n",
            "Atelectasis 0.7429\n",
            "Cardiomegaly 0.8981\n",
            "Effusion 0.7755\n",
            "Infiltration 0.6279\n",
            "Mass 0.6775\n",
            "Nodule 0.6633\n",
            "Pneumothorax 0.6942\n",
            "Consolidation 0.6947\n",
            "Pleural_Thickening 0.6099\n",
            "Hernia 0.6683\n",
            "best epoch 48 best auroc 0.7227156611792489 loss 2.859882 auroc at min loss 0.7006\n",
            " epoch [0050 / 0050] eta: 0 Days 0:1:25        [0099/885] lr: \t1.0000E-04 loss: \t3.00177\n",
            " epoch [0050 / 0050] eta: 0 Days 0:1:22        [0199/885] lr: \t1.0000E-04 loss: \t2.96067\n",
            " epoch [0050 / 0050] eta: 0 Days 0:0:55        [0299/885] lr: \t1.0000E-04 loss: \t2.96884\n",
            " epoch [0050 / 0050] eta: 0 Days 0:0:46        [0399/885] lr: \t1.0000E-04 loss: \t2.96620\n",
            " epoch [0050 / 0050] eta: 0 Days 0:0:36        [0499/885] lr: \t1.0000E-04 loss: \t2.95305\n",
            " epoch [0050 / 0050] eta: 0 Days 0:0:30        [0599/885] lr: \t1.0000E-04 loss: \t2.94942\n",
            " epoch [0050 / 0050] eta: 0 Days 0:0:17        [0699/885] lr: \t1.0000E-04 loss: \t2.94655\n",
            " epoch [0050 / 0050] eta: 0 Days 0:0:8         [0799/885] lr: \t1.0000E-04 loss: \t2.95848\n"
          ]
        },
        {
          "output_type": "stream",
          "name": "stderr",
          "text": [
            "100%|██████████| 13/13 [00:22<00:00,  1.72s/it]\n"
          ]
        },
        {
          "output_type": "stream",
          "name": "stdout",
          "text": [
            "saving last_epoch checkpoint\n",
            "saving best_auroc checkpoint\n",
            "saving min_loss checkpoint\n",
            "val AUROC mean 0.7234\n",
            "Atelectasis 0.7458\n",
            "Cardiomegaly 0.9021\n",
            "Effusion 0.7669\n",
            "Infiltration 0.6443\n",
            "Mass 0.6989\n",
            "Nodule 0.6655\n",
            "Pneumothorax 0.7194\n",
            "Consolidation 0.6815\n",
            "Pleural_Thickening 0.6445\n",
            "Hernia 0.7648\n"
          ]
        },
        {
          "output_type": "stream",
          "name": "stderr",
          "text": [
            "100%|██████████| 99/99 [00:30<00:00,  3.23it/s]\n"
          ]
        },
        {
          "output_type": "stream",
          "name": "stdout",
          "text": [
            "\n",
            "test_seen AUROC mean 0.6864\n",
            "Atelectasis 0.7108\n",
            "Effusion 0.7464\n",
            "Infiltration 0.6243\n",
            "Mass 0.6423\n",
            "Nodule 0.6909\n",
            "Pneumothorax 0.6794\n",
            "Consolidation 0.6573\n",
            "Cardiomegaly 0.8701\n",
            "Pleural_Thickening 0.6252\n",
            "Hernia 0.6171\n",
            "\n",
            "test_unseen AUROC mean 0.5400\n",
            "Edema 0.4650\n",
            "Pneumonia 0.4888\n",
            "Emphysema 0.5919\n",
            "Fibrosis 0.6142\n",
            "best epoch 50 best auroc 0.7233692576445753 loss 2.762132 auroc at min loss 0.7234\n"
          ]
        },
        {
          "output_type": "stream",
          "name": "stderr",
          "text": [
            "100%|██████████| 99/99 [00:30<00:00,  3.27it/s]\n"
          ]
        }
      ]
    },
    {
      "cell_type": "markdown",
      "source": [
        "### EfficientNet-B0"
      ],
      "metadata": {
        "id": "VG_lk31Epi76"
      }
    },
    {
      "cell_type": "code",
      "source": [
        "arg_list = ['--epochs', '50',\n",
        "            '--neg-penalty', '0.5',\n",
        "            '--save-dir', DRIVE_PATH,\n",
        "            '--vision-backbone', 'efficientnet_b0']\n",
        "\n",
        "args = argParser.parse_args(arg_list)\n",
        "\n",
        "trainer = ChexnetTrainer(args)\n",
        "\n",
        "start = time.time()\n",
        "trainer()\n",
        "end = time.time()\n",
        "\n",
        "checkpoint = torch.load(f'{DRIVE_PATH}/best_auroc_checkpoint.pth.tar', weights_only=False)\n",
        "trainer.model.load_state_dict(checkpoint['state_dict'])\n",
        "test_ind_auroc = trainer.test()\n",
        "test_ind_auroc = np.array(test_ind_auroc)\n",
        "\n",
        "results[\"EfficientNet-B0\"] = {\n",
        "        \"Seen Mean (AUROC)\":          test_ind_auroc[trainer.test_dl.dataset.seen_class_ids].mean(),\n",
        "        \"Unseen Mean (AUROC)\":        test_ind_auroc[trainer.test_dl.dataset.unseen_class_ids].mean(),\n",
        "        \"Harmonic Mean (AUROC)\":      harmonic_mean(test_ind_auroc[trainer.test_dl.dataset.seen_class_ids].mean(), test_ind_auroc[trainer.test_dl.dataset.unseen_class_ids].mean()),\n",
        "        \"Training Time (hours)\":      (end - start) / (60 * 60)\n",
        "}\n",
        "\n",
        "os.rename(f'{DRIVE_PATH}/best_auroc_checkpoint.pth.tar', f'{DRIVE_PATH}/best_auroc_checkpoint_efficientnet_b0.pth.tar')"
      ],
      "metadata": {
        "colab": {
          "base_uri": "https://localhost:8080/"
        },
        "id": "kqeSJxBHpjBj",
        "outputId": "3cc79b8d-86db-4005-ef14-c48b72e5dc93"
      },
      "execution_count": 15,
      "outputs": [
        {
          "output_type": "stream",
          "name": "stderr",
          "text": [
            "/usr/local/lib/python3.11/dist-packages/torchvision/models/_utils.py:208: UserWarning: The parameter 'pretrained' is deprecated since 0.13 and may be removed in the future, please use 'weights' instead.\n",
            "  warnings.warn(\n",
            "/usr/local/lib/python3.11/dist-packages/torchvision/models/_utils.py:223: UserWarning: Arguments other than a weight enum or `None` for 'weights' are deprecated since 0.13 and may be removed in the future. The current behavior is equivalent to passing `weights=None`.\n",
            "  warnings.warn(msg)\n",
            "/usr/local/lib/python3.11/dist-packages/torch/nn/_reduction.py:51: UserWarning: size_average and reduce args will be deprecated, please use reduction='mean' instead.\n",
            "  warnings.warn(warning.format(ret))\n"
          ]
        },
        {
          "output_type": "stream",
          "name": "stdout",
          "text": [
            "data partition path: train.txt\n",
            "Number of images: 14160\n",
            "Number of max labels per image: 6\n",
            "Number of classes: 10\n",
            "data partition path: val.txt\n",
            "Number of images: 1979\n",
            "Number of max labels per image: 6\n",
            "Number of classes: 10\n",
            "data partition path: test.txt\n",
            "Number of images: 4737\n",
            "Number of max labels per image: 7\n",
            "Number of classes: 14\n",
            "['Atelectasis', 'Cardiomegaly', 'Effusion', 'Infiltration', 'Mass', 'Nodule', 'Pneumonia', 'Pneumothorax', 'Consolidation', 'Edema', 'Emphysema', 'Fibrosis', 'Pleural_Thickening', 'Hernia']\n",
            " epoch [0001 / 0050] eta: 0 Days 0:47:12       [0099/885] lr: \t1.0000E-04 loss: \t3.74198\n",
            " epoch [0001 / 0050] eta: 0 Days 0:45:54       [0199/885] lr: \t1.0000E-04 loss: \t3.67114\n",
            " epoch [0001 / 0050] eta: 0 Days 0:53:58       [0299/885] lr: \t1.0000E-04 loss: \t3.67684\n",
            " epoch [0001 / 0050] eta: 0 Days 0:44:35       [0399/885] lr: \t1.0000E-04 loss: \t3.65382\n",
            " epoch [0001 / 0050] eta: 0 Days 0:46:7        [0499/885] lr: \t1.0000E-04 loss: \t3.64261\n",
            " epoch [0001 / 0050] eta: 0 Days 0:45:39       [0599/885] lr: \t1.0000E-04 loss: \t3.66048\n",
            " epoch [0001 / 0050] eta: 0 Days 0:45:28       [0699/885] lr: \t1.0000E-04 loss: \t3.66230\n",
            " epoch [0001 / 0050] eta: 0 Days 0:47:41       [0799/885] lr: \t1.0000E-04 loss: \t3.64640\n"
          ]
        },
        {
          "output_type": "stream",
          "name": "stderr",
          "text": [
            "100%|██████████| 13/13 [00:21<00:00,  1.66s/it]\n"
          ]
        },
        {
          "output_type": "stream",
          "name": "stdout",
          "text": [
            "saving last_epoch checkpoint\n",
            "saving best_auroc checkpoint\n",
            "saving min_loss checkpoint\n",
            "val AUROC mean 0.5708\n",
            "Atelectasis 0.5242\n",
            "Cardiomegaly 0.4138\n",
            "Effusion 0.4669\n",
            "Infiltration 0.5965\n",
            "Mass 0.6092\n",
            "Nodule 0.6143\n",
            "Pneumothorax 0.5724\n",
            "Consolidation 0.6522\n",
            "Pleural_Thickening 0.5822\n",
            "Hernia 0.6765\n"
          ]
        },
        {
          "output_type": "stream",
          "name": "stderr",
          "text": [
            "100%|██████████| 99/99 [00:29<00:00,  3.34it/s]\n"
          ]
        },
        {
          "output_type": "stream",
          "name": "stdout",
          "text": [
            "\n",
            "test_seen AUROC mean 0.5708\n",
            "Atelectasis 0.5064\n",
            "Effusion 0.4834\n",
            "Infiltration 0.5800\n",
            "Mass 0.5572\n",
            "Nodule 0.6234\n",
            "Pneumothorax 0.5469\n",
            "Consolidation 0.6519\n",
            "Cardiomegaly 0.4608\n",
            "Pleural_Thickening 0.5860\n",
            "Hernia 0.7122\n",
            "\n",
            "test_unseen AUROC mean 0.5518\n",
            "Edema 0.5615\n",
            "Pneumonia 0.4866\n",
            "Emphysema 0.5173\n",
            "Fibrosis 0.6418\n",
            "best epoch 1 best auroc 0.5708319594917637 loss 3.487120 auroc at min loss 0.5708\n",
            " epoch [0002 / 0050] eta: 0 Days 0:45:35       [0099/885] lr: \t1.0000E-04 loss: \t3.64178\n",
            " epoch [0002 / 0050] eta: 0 Days 0:47:1        [0199/885] lr: \t1.0000E-04 loss: \t3.58752\n",
            " epoch [0002 / 0050] eta: 0 Days 0:47:5        [0299/885] lr: \t1.0000E-04 loss: \t3.61407\n",
            " epoch [0002 / 0050] eta: 0 Days 0:46:46       [0399/885] lr: \t1.0000E-04 loss: \t3.56597\n",
            " epoch [0002 / 0050] eta: 0 Days 0:52:39       [0499/885] lr: \t1.0000E-04 loss: \t3.55813\n",
            " epoch [0002 / 0050] eta: 0 Days 0:46:13       [0599/885] lr: \t1.0000E-04 loss: \t3.55632\n",
            " epoch [0002 / 0050] eta: 0 Days 0:52:29       [0699/885] lr: \t1.0000E-04 loss: \t3.56350\n",
            " epoch [0002 / 0050] eta: 0 Days 1:20:25       [0799/885] lr: \t1.0000E-04 loss: \t3.55871\n"
          ]
        },
        {
          "output_type": "stream",
          "name": "stderr",
          "text": [
            "100%|██████████| 13/13 [00:20<00:00,  1.60s/it]\n"
          ]
        },
        {
          "output_type": "stream",
          "name": "stdout",
          "text": [
            "saving last_epoch checkpoint\n",
            "saving best_auroc checkpoint\n",
            "val AUROC mean 0.5808\n",
            "Atelectasis 0.5129\n",
            "Cardiomegaly 0.4753\n",
            "Effusion 0.4795\n",
            "Infiltration 0.5871\n",
            "Mass 0.5896\n",
            "Nodule 0.5977\n",
            "Pneumothorax 0.6238\n",
            "Consolidation 0.6478\n",
            "Pleural_Thickening 0.5891\n",
            "Hernia 0.7053\n"
          ]
        },
        {
          "output_type": "stream",
          "name": "stderr",
          "text": [
            "100%|██████████| 99/99 [00:29<00:00,  3.30it/s]\n"
          ]
        },
        {
          "output_type": "stream",
          "name": "stdout",
          "text": [
            "\n",
            "test_seen AUROC mean 0.5767\n",
            "Atelectasis 0.4972\n",
            "Effusion 0.5098\n",
            "Infiltration 0.5798\n",
            "Mass 0.5601\n",
            "Nodule 0.6326\n",
            "Pneumothorax 0.5451\n",
            "Consolidation 0.6423\n",
            "Cardiomegaly 0.5506\n",
            "Pleural_Thickening 0.5947\n",
            "Hernia 0.6545\n",
            "\n",
            "test_unseen AUROC mean 0.5535\n",
            "Edema 0.6693\n",
            "Pneumonia 0.4880\n",
            "Emphysema 0.5388\n",
            "Fibrosis 0.5177\n",
            "best epoch 2 best auroc 0.5808121222191036 loss 3.497493 auroc at min loss 0.5708\n",
            " epoch [0003 / 0050] eta: 0 Days 0:45:41       [0099/885] lr: \t1.0000E-04 loss: \t3.68430\n",
            " epoch [0003 / 0050] eta: 0 Days 0:47:8        [0199/885] lr: \t1.0000E-04 loss: \t3.57733\n",
            " epoch [0003 / 0050] eta: 0 Days 0:45:21       [0299/885] lr: \t1.0000E-04 loss: \t3.58041\n",
            " epoch [0003 / 0050] eta: 0 Days 0:47:57       [0399/885] lr: \t1.0000E-04 loss: \t3.56210\n",
            " epoch [0003 / 0050] eta: 0 Days 0:52:44       [0499/885] lr: \t1.0000E-04 loss: \t3.53970\n",
            " epoch [0003 / 0050] eta: 0 Days 0:43:24       [0599/885] lr: \t1.0000E-04 loss: \t3.54318\n",
            " epoch [0003 / 0050] eta: 0 Days 0:51:35       [0699/885] lr: \t1.0000E-04 loss: \t3.54994\n",
            " epoch [0003 / 0050] eta: 0 Days 0:43:59       [0799/885] lr: \t1.0000E-04 loss: \t3.54452\n"
          ]
        },
        {
          "output_type": "stream",
          "name": "stderr",
          "text": [
            "100%|██████████| 13/13 [00:21<00:00,  1.65s/it]\n"
          ]
        },
        {
          "output_type": "stream",
          "name": "stdout",
          "text": [
            "saving last_epoch checkpoint\n",
            "saving min_loss checkpoint\n",
            "val AUROC mean 0.5687\n",
            "Atelectasis 0.5732\n",
            "Cardiomegaly 0.4274\n",
            "Effusion 0.5057\n",
            "Infiltration 0.5848\n",
            "Mass 0.6080\n",
            "Nodule 0.6176\n",
            "Pneumothorax 0.5255\n",
            "Consolidation 0.6437\n",
            "Pleural_Thickening 0.6119\n",
            "Hernia 0.5894\n"
          ]
        },
        {
          "output_type": "stream",
          "name": "stderr",
          "text": [
            "100%|██████████| 99/99 [00:30<00:00,  3.23it/s]\n"
          ]
        },
        {
          "output_type": "stream",
          "name": "stdout",
          "text": [
            "\n",
            "test_seen AUROC mean 0.5824\n",
            "Atelectasis 0.5175\n",
            "Effusion 0.5155\n",
            "Infiltration 0.5768\n",
            "Mass 0.5754\n",
            "Nodule 0.6485\n",
            "Pneumothorax 0.5442\n",
            "Consolidation 0.6327\n",
            "Cardiomegaly 0.5342\n",
            "Pleural_Thickening 0.5951\n",
            "Hernia 0.6843\n",
            "\n",
            "test_unseen AUROC mean 0.4577\n",
            "Edema 0.3692\n",
            "Pneumonia 0.4346\n",
            "Emphysema 0.5185\n",
            "Fibrosis 0.5085\n",
            "best epoch 2 best auroc 0.5808121222191036 loss 3.415666 auroc at min loss 0.5687\n",
            " epoch [0004 / 0050] eta: 0 Days 0:53:52       [0099/885] lr: \t1.0000E-04 loss: \t3.54490\n",
            " epoch [0004 / 0050] eta: 0 Days 0:44:18       [0199/885] lr: \t1.0000E-04 loss: \t3.53847\n",
            " epoch [0004 / 0050] eta: 0 Days 0:43:44       [0299/885] lr: \t1.0000E-04 loss: \t3.54220\n",
            " epoch [0004 / 0050] eta: 0 Days 0:45:18       [0399/885] lr: \t1.0000E-04 loss: \t3.48913\n",
            " epoch [0004 / 0050] eta: 0 Days 0:44:37       [0499/885] lr: \t1.0000E-04 loss: \t3.49728\n",
            " epoch [0004 / 0050] eta: 0 Days 1:30:14       [0599/885] lr: \t1.0000E-04 loss: \t3.52551\n",
            " epoch [0004 / 0050] eta: 0 Days 0:43:28       [0699/885] lr: \t1.0000E-04 loss: \t3.52548\n",
            " epoch [0004 / 0050] eta: 0 Days 0:43:23       [0799/885] lr: \t1.0000E-04 loss: \t3.51959\n"
          ]
        },
        {
          "output_type": "stream",
          "name": "stderr",
          "text": [
            "100%|██████████| 13/13 [00:20<00:00,  1.61s/it]\n"
          ]
        },
        {
          "output_type": "stream",
          "name": "stdout",
          "text": [
            "saving last_epoch checkpoint\n",
            "saving best_auroc checkpoint\n",
            "saving min_loss checkpoint\n",
            "val AUROC mean 0.5847\n",
            "Atelectasis 0.5599\n",
            "Cardiomegaly 0.4924\n",
            "Effusion 0.5088\n",
            "Infiltration 0.5660\n",
            "Mass 0.5246\n",
            "Nodule 0.6267\n",
            "Pneumothorax 0.5659\n",
            "Consolidation 0.6711\n",
            "Pleural_Thickening 0.5788\n",
            "Hernia 0.7527\n"
          ]
        },
        {
          "output_type": "stream",
          "name": "stderr",
          "text": [
            "100%|██████████| 99/99 [00:30<00:00,  3.26it/s]\n"
          ]
        },
        {
          "output_type": "stream",
          "name": "stdout",
          "text": [
            "\n",
            "test_seen AUROC mean 0.5913\n",
            "Atelectasis 0.5312\n",
            "Effusion 0.5577\n",
            "Infiltration 0.5572\n",
            "Mass 0.5397\n",
            "Nodule 0.6578\n",
            "Pneumothorax 0.5478\n",
            "Consolidation 0.6167\n",
            "Cardiomegaly 0.5627\n",
            "Pleural_Thickening 0.5843\n",
            "Hernia 0.7581\n",
            "\n",
            "test_unseen AUROC mean 0.4804\n",
            "Edema 0.3028\n",
            "Pneumonia 0.5018\n",
            "Emphysema 0.5111\n",
            "Fibrosis 0.6059\n",
            "best epoch 4 best auroc 0.5846726565122087 loss 3.403853 auroc at min loss 0.5847\n",
            " epoch [0005 / 0050] eta: 0 Days 0:52:16       [0099/885] lr: \t1.0000E-04 loss: \t3.44980\n",
            " epoch [0005 / 0050] eta: 0 Days 0:42:21       [0199/885] lr: \t1.0000E-04 loss: \t3.49536\n",
            " epoch [0005 / 0050] eta: 0 Days 0:48:19       [0299/885] lr: \t1.0000E-04 loss: \t3.50966\n",
            " epoch [0005 / 0050] eta: 0 Days 0:43:43       [0399/885] lr: \t1.0000E-04 loss: \t3.49561\n",
            " epoch [0005 / 0050] eta: 0 Days 0:48:53       [0499/885] lr: \t1.0000E-04 loss: \t3.50498\n",
            " epoch [0005 / 0050] eta: 0 Days 0:50:6        [0599/885] lr: \t1.0000E-04 loss: \t3.51960\n",
            " epoch [0005 / 0050] eta: 0 Days 0:44:28       [0699/885] lr: \t1.0000E-04 loss: \t3.51734\n",
            " epoch [0005 / 0050] eta: 0 Days 0:47:51       [0799/885] lr: \t1.0000E-04 loss: \t3.52269\n"
          ]
        },
        {
          "output_type": "stream",
          "name": "stderr",
          "text": [
            "100%|██████████| 13/13 [00:21<00:00,  1.63s/it]\n"
          ]
        },
        {
          "output_type": "stream",
          "name": "stdout",
          "text": [
            "saving last_epoch checkpoint\n",
            "val AUROC mean 0.5683\n",
            "Atelectasis 0.5339\n",
            "Cardiomegaly 0.4876\n",
            "Effusion 0.4850\n",
            "Infiltration 0.5625\n",
            "Mass 0.5513\n",
            "Nodule 0.6315\n",
            "Pneumothorax 0.5527\n",
            "Consolidation 0.6454\n",
            "Pleural_Thickening 0.5595\n",
            "Hernia 0.6732\n",
            "best epoch 4 best auroc 0.5846726565122087 loss 3.425760 auroc at min loss 0.5847\n",
            " epoch [0006 / 0050] eta: 0 Days 0:44:22       [0099/885] lr: \t1.0000E-04 loss: \t3.46328\n",
            " epoch [0006 / 0050] eta: 0 Days 0:50:52       [0199/885] lr: \t1.0000E-04 loss: \t3.53472\n",
            " epoch [0006 / 0050] eta: 0 Days 0:42:21       [0299/885] lr: \t1.0000E-04 loss: \t3.52831\n",
            " epoch [0006 / 0050] eta: 0 Days 0:43:9        [0399/885] lr: \t1.0000E-04 loss: \t3.55323\n",
            " epoch [0006 / 0050] eta: 0 Days 0:42:16       [0499/885] lr: \t1.0000E-04 loss: \t3.53567\n",
            " epoch [0006 / 0050] eta: 0 Days 1:5:5         [0599/885] lr: \t1.0000E-04 loss: \t3.53605\n",
            " epoch [0006 / 0050] eta: 0 Days 1:15:19       [0699/885] lr: \t1.0000E-04 loss: \t3.50446\n",
            " epoch [0006 / 0050] eta: 0 Days 1:6:23        [0799/885] lr: \t1.0000E-04 loss: \t3.50021\n"
          ]
        },
        {
          "output_type": "stream",
          "name": "stderr",
          "text": [
            "100%|██████████| 13/13 [00:21<00:00,  1.63s/it]\n"
          ]
        },
        {
          "output_type": "stream",
          "name": "stdout",
          "text": [
            "saving last_epoch checkpoint\n",
            "val AUROC mean 0.5748\n",
            "Atelectasis 0.6185\n",
            "Cardiomegaly 0.4827\n",
            "Effusion 0.5794\n",
            "Infiltration 0.5847\n",
            "Mass 0.4838\n",
            "Nodule 0.6320\n",
            "Pneumothorax 0.4435\n",
            "Consolidation 0.6650\n",
            "Pleural_Thickening 0.5400\n",
            "Hernia 0.7179\n",
            "best epoch 4 best auroc 0.5846726565122087 loss 3.432922 auroc at min loss 0.5847\n",
            " epoch [0007 / 0050] eta: 0 Days 0:42:19       [0099/885] lr: \t1.0000E-04 loss: \t3.39031\n",
            " epoch [0007 / 0050] eta: 0 Days 0:40:39       [0199/885] lr: \t1.0000E-04 loss: \t3.48838\n",
            " epoch [0007 / 0050] eta: 0 Days 0:48:6        [0299/885] lr: \t1.0000E-04 loss: \t3.46989\n",
            " epoch [0007 / 0050] eta: 0 Days 0:41:23       [0399/885] lr: \t1.0000E-04 loss: \t3.51151\n",
            " epoch [0007 / 0050] eta: 0 Days 0:42:48       [0499/885] lr: \t1.0000E-04 loss: \t3.49484\n",
            " epoch [0007 / 0050] eta: 0 Days 0:41:8        [0599/885] lr: \t1.0000E-04 loss: \t3.49239\n",
            " epoch [0007 / 0050] eta: 0 Days 0:40:14       [0699/885] lr: \t1.0000E-04 loss: \t3.50659\n",
            " epoch [0007 / 0050] eta: 0 Days 0:40:17       [0799/885] lr: \t1.0000E-04 loss: \t3.50869\n"
          ]
        },
        {
          "output_type": "stream",
          "name": "stderr",
          "text": [
            "100%|██████████| 13/13 [00:21<00:00,  1.62s/it]\n"
          ]
        },
        {
          "output_type": "stream",
          "name": "stdout",
          "text": [
            "saving last_epoch checkpoint\n",
            "saving min_loss checkpoint\n",
            "val AUROC mean 0.5816\n",
            "Atelectasis 0.5790\n",
            "Cardiomegaly 0.6176\n",
            "Effusion 0.5972\n",
            "Infiltration 0.5796\n",
            "Mass 0.4827\n",
            "Nodule 0.6221\n",
            "Pneumothorax 0.4784\n",
            "Consolidation 0.6502\n",
            "Pleural_Thickening 0.5305\n",
            "Hernia 0.6784\n"
          ]
        },
        {
          "output_type": "stream",
          "name": "stderr",
          "text": [
            "100%|██████████| 99/99 [00:29<00:00,  3.31it/s]\n"
          ]
        },
        {
          "output_type": "stream",
          "name": "stdout",
          "text": [
            "\n",
            "test_seen AUROC mean 0.5812\n",
            "Atelectasis 0.5521\n",
            "Effusion 0.5873\n",
            "Infiltration 0.5793\n",
            "Mass 0.5135\n",
            "Nodule 0.6279\n",
            "Pneumothorax 0.5045\n",
            "Consolidation 0.6261\n",
            "Cardiomegaly 0.5865\n",
            "Pleural_Thickening 0.5381\n",
            "Hernia 0.6965\n",
            "\n",
            "test_unseen AUROC mean 0.4273\n",
            "Edema 0.3415\n",
            "Pneumonia 0.4646\n",
            "Emphysema 0.4583\n",
            "Fibrosis 0.4448\n",
            "best epoch 4 best auroc 0.5846726565122087 loss 3.382657 auroc at min loss 0.5816\n",
            " epoch [0008 / 0050] eta: 0 Days 0:40:32       [0099/885] lr: \t1.0000E-04 loss: \t3.49382\n",
            " epoch [0008 / 0050] eta: 0 Days 0:44:43       [0199/885] lr: \t1.0000E-04 loss: \t3.45358\n",
            " epoch [0008 / 0050] eta: 0 Days 0:40:58       [0299/885] lr: \t1.0000E-04 loss: \t3.46937\n",
            " epoch [0008 / 0050] eta: 0 Days 0:40:21       [0399/885] lr: \t1.0000E-04 loss: \t3.47022\n",
            " epoch [0008 / 0050] eta: 0 Days 0:48:11       [0499/885] lr: \t1.0000E-04 loss: \t3.46932\n",
            " epoch [0008 / 0050] eta: 0 Days 0:40:3        [0599/885] lr: \t1.0000E-04 loss: \t3.49113\n",
            " epoch [0008 / 0050] eta: 0 Days 0:39:34       [0699/885] lr: \t1.0000E-04 loss: \t3.47596\n",
            " epoch [0008 / 0050] eta: 0 Days 0:39:23       [0799/885] lr: \t1.0000E-04 loss: \t3.48110\n"
          ]
        },
        {
          "output_type": "stream",
          "name": "stderr",
          "text": [
            "100%|██████████| 13/13 [00:20<00:00,  1.61s/it]\n"
          ]
        },
        {
          "output_type": "stream",
          "name": "stdout",
          "text": [
            "saving last_epoch checkpoint\n",
            "val AUROC mean 0.5667\n",
            "Atelectasis 0.6186\n",
            "Cardiomegaly 0.4373\n",
            "Effusion 0.5516\n",
            "Infiltration 0.5945\n",
            "Mass 0.5407\n",
            "Nodule 0.6207\n",
            "Pneumothorax 0.4739\n",
            "Consolidation 0.6669\n",
            "Pleural_Thickening 0.4813\n",
            "Hernia 0.6820\n",
            "best epoch 4 best auroc 0.5846726565122087 loss 3.420916 auroc at min loss 0.5816\n",
            " epoch [0009 / 0050] eta: 0 Days 1:10:31       [0099/885] lr: \t1.0000E-04 loss: \t3.54573\n",
            " epoch [0009 / 0050] eta: 0 Days 1:13:35       [0199/885] lr: \t1.0000E-04 loss: \t3.53379\n",
            " epoch [0009 / 0050] eta: 0 Days 1:12:38       [0299/885] lr: \t1.0000E-04 loss: \t3.50651\n",
            " epoch [0009 / 0050] eta: 0 Days 0:49:48       [0399/885] lr: \t1.0000E-04 loss: \t3.51012\n",
            " epoch [0009 / 0050] eta: 0 Days 1:3:56        [0499/885] lr: \t1.0000E-04 loss: \t3.52149\n",
            " epoch [0009 / 0050] eta: 0 Days 0:43:16       [0599/885] lr: \t1.0000E-04 loss: \t3.52070\n",
            " epoch [0009 / 0050] eta: 0 Days 0:38:40       [0699/885] lr: \t1.0000E-04 loss: \t3.52553\n",
            " epoch [0009 / 0050] eta: 0 Days 0:38:45       [0799/885] lr: \t1.0000E-04 loss: \t3.50398\n"
          ]
        },
        {
          "output_type": "stream",
          "name": "stderr",
          "text": [
            "100%|██████████| 13/13 [00:21<00:00,  1.63s/it]\n"
          ]
        },
        {
          "output_type": "stream",
          "name": "stdout",
          "text": [
            "saving last_epoch checkpoint\n",
            "saving min_loss checkpoint\n",
            "val AUROC mean 0.5806\n",
            "Atelectasis 0.5889\n",
            "Cardiomegaly 0.5352\n",
            "Effusion 0.5395\n",
            "Infiltration 0.5585\n",
            "Mass 0.5134\n",
            "Nodule 0.6290\n",
            "Pneumothorax 0.5048\n",
            "Consolidation 0.6601\n",
            "Pleural_Thickening 0.5522\n",
            "Hernia 0.7238\n"
          ]
        },
        {
          "output_type": "stream",
          "name": "stderr",
          "text": [
            "100%|██████████| 99/99 [00:29<00:00,  3.40it/s]\n"
          ]
        },
        {
          "output_type": "stream",
          "name": "stdout",
          "text": [
            "\n",
            "test_seen AUROC mean 0.5892\n",
            "Atelectasis 0.5429\n",
            "Effusion 0.5487\n",
            "Infiltration 0.5619\n",
            "Mass 0.5459\n",
            "Nodule 0.6211\n",
            "Pneumothorax 0.5290\n",
            "Consolidation 0.6407\n",
            "Cardiomegaly 0.5657\n",
            "Pleural_Thickening 0.5724\n",
            "Hernia 0.7633\n",
            "\n",
            "test_unseen AUROC mean 0.4757\n",
            "Edema 0.3715\n",
            "Pneumonia 0.4793\n",
            "Emphysema 0.4763\n",
            "Fibrosis 0.5755\n",
            "best epoch 4 best auroc 0.5846726565122087 loss 3.373689 auroc at min loss 0.5806\n",
            " epoch [0010 / 0050] eta: 0 Days 0:40:19       [0099/885] lr: \t1.0000E-04 loss: \t3.58738\n",
            " epoch [0010 / 0050] eta: 0 Days 0:47:52       [0199/885] lr: \t1.0000E-04 loss: \t3.48533\n",
            " epoch [0010 / 0050] eta: 0 Days 0:38:20       [0299/885] lr: \t1.0000E-04 loss: \t3.47697\n",
            " epoch [0010 / 0050] eta: 0 Days 0:44:15       [0399/885] lr: \t1.0000E-04 loss: \t3.48766\n",
            " epoch [0010 / 0050] eta: 0 Days 0:41:49       [0499/885] lr: \t1.0000E-04 loss: \t3.47863\n",
            " epoch [0010 / 0050] eta: 0 Days 0:39:58       [0599/885] lr: \t1.0000E-04 loss: \t3.47962\n",
            " epoch [0010 / 0050] eta: 0 Days 0:37:27       [0699/885] lr: \t1.0000E-04 loss: \t3.49168\n",
            " epoch [0010 / 0050] eta: 0 Days 0:38:43       [0799/885] lr: \t1.0000E-04 loss: \t3.49083\n"
          ]
        },
        {
          "output_type": "stream",
          "name": "stderr",
          "text": [
            "100%|██████████| 13/13 [00:21<00:00,  1.64s/it]\n"
          ]
        },
        {
          "output_type": "stream",
          "name": "stdout",
          "text": [
            "saving last_epoch checkpoint\n",
            "val AUROC mean 0.5647\n",
            "Atelectasis 0.5758\n",
            "Cardiomegaly 0.4708\n",
            "Effusion 0.5273\n",
            "Infiltration 0.6004\n",
            "Mass 0.5454\n",
            "Nodule 0.6127\n",
            "Pneumothorax 0.5206\n",
            "Consolidation 0.6459\n",
            "Pleural_Thickening 0.5123\n",
            "Hernia 0.6355\n",
            "best epoch 4 best auroc 0.5846726565122087 loss 3.394426 auroc at min loss 0.5806\n",
            " epoch [0011 / 0050] eta: 0 Days 0:45:53       [0099/885] lr: \t1.0000E-04 loss: \t3.59120\n",
            " epoch [0011 / 0050] eta: 0 Days 0:38:58       [0199/885] lr: \t1.0000E-04 loss: \t3.57380\n",
            " epoch [0011 / 0050] eta: 0 Days 0:36:24       [0299/885] lr: \t1.0000E-04 loss: \t3.54321\n",
            " epoch [0011 / 0050] eta: 0 Days 0:41:58       [0399/885] lr: \t1.0000E-04 loss: \t3.52602\n",
            " epoch [0011 / 0050] eta: 0 Days 0:38:29       [0499/885] lr: \t1.0000E-04 loss: \t3.53104\n",
            " epoch [0011 / 0050] eta: 0 Days 0:47:57       [0599/885] lr: \t1.0000E-04 loss: \t3.50465\n",
            " epoch [0011 / 0050] eta: 0 Days 0:36:34       [0699/885] lr: \t1.0000E-04 loss: \t3.48412\n",
            " epoch [0011 / 0050] eta: 0 Days 0:35:44       [0799/885] lr: \t1.0000E-04 loss: \t3.47516\n"
          ]
        },
        {
          "output_type": "stream",
          "name": "stderr",
          "text": [
            "100%|██████████| 13/13 [00:21<00:00,  1.63s/it]\n"
          ]
        },
        {
          "output_type": "stream",
          "name": "stdout",
          "text": [
            "saving last_epoch checkpoint\n",
            "val AUROC mean 0.5806\n",
            "Atelectasis 0.5700\n",
            "Cardiomegaly 0.4535\n",
            "Effusion 0.5179\n",
            "Infiltration 0.5991\n",
            "Mass 0.5716\n",
            "Nodule 0.6131\n",
            "Pneumothorax 0.5227\n",
            "Consolidation 0.6603\n",
            "Pleural_Thickening 0.5247\n",
            "Hernia 0.7728\n",
            "best epoch 4 best auroc 0.5846726565122087 loss 3.378798 auroc at min loss 0.5806\n",
            " epoch [0012 / 0050] eta: 0 Days 0:35:44       [0099/885] lr: \t1.0000E-04 loss: \t3.59933\n",
            " epoch [0012 / 0050] eta: 0 Days 0:40:54       [0199/885] lr: \t1.0000E-04 loss: \t3.54998\n",
            " epoch [0012 / 0050] eta: 0 Days 0:36:39       [0299/885] lr: \t1.0000E-04 loss: \t3.51619\n",
            " epoch [0012 / 0050] eta: 0 Days 0:39:25       [0399/885] lr: \t1.0000E-04 loss: \t3.50594\n",
            " epoch [0012 / 0050] eta: 0 Days 0:36:15       [0499/885] lr: \t1.0000E-04 loss: \t3.49813\n",
            " epoch [0012 / 0050] eta: 0 Days 0:35:19       [0599/885] lr: \t1.0000E-04 loss: \t3.49868\n",
            " epoch [0012 / 0050] eta: 0 Days 1:1:41        [0699/885] lr: \t1.0000E-04 loss: \t3.47954\n",
            " epoch [0012 / 0050] eta: 0 Days 0:53:20       [0799/885] lr: \t1.0000E-04 loss: \t3.48463\n"
          ]
        },
        {
          "output_type": "stream",
          "name": "stderr",
          "text": [
            "100%|██████████| 13/13 [00:21<00:00,  1.62s/it]\n"
          ]
        },
        {
          "output_type": "stream",
          "name": "stdout",
          "text": [
            "saving last_epoch checkpoint\n",
            "saving best_auroc checkpoint\n",
            "saving min_loss checkpoint\n",
            "val AUROC mean 0.5956\n",
            "Atelectasis 0.6531\n",
            "Cardiomegaly 0.4687\n",
            "Effusion 0.5799\n",
            "Infiltration 0.5822\n",
            "Mass 0.5589\n",
            "Nodule 0.6275\n",
            "Pneumothorax 0.4775\n",
            "Consolidation 0.6635\n",
            "Pleural_Thickening 0.5289\n",
            "Hernia 0.8159\n"
          ]
        },
        {
          "output_type": "stream",
          "name": "stderr",
          "text": [
            "100%|██████████| 99/99 [00:30<00:00,  3.23it/s]\n"
          ]
        },
        {
          "output_type": "stream",
          "name": "stdout",
          "text": [
            "\n",
            "test_seen AUROC mean 0.5768\n",
            "Atelectasis 0.5809\n",
            "Effusion 0.5494\n",
            "Infiltration 0.5812\n",
            "Mass 0.5753\n",
            "Nodule 0.6271\n",
            "Pneumothorax 0.4923\n",
            "Consolidation 0.6182\n",
            "Cardiomegaly 0.5059\n",
            "Pleural_Thickening 0.5511\n",
            "Hernia 0.6868\n",
            "\n",
            "test_unseen AUROC mean 0.4785\n",
            "Edema 0.5125\n",
            "Pneumonia 0.4408\n",
            "Emphysema 0.4612\n",
            "Fibrosis 0.4994\n",
            "best epoch 12 best auroc 0.5956187928336399 loss 3.338484 auroc at min loss 0.5956\n",
            " epoch [0013 / 0050] eta: 0 Days 0:41:37       [0099/885] lr: \t1.0000E-04 loss: \t3.61882\n",
            " epoch [0013 / 0050] eta: 0 Days 0:35:59       [0199/885] lr: \t1.0000E-04 loss: \t3.47931\n",
            " epoch [0013 / 0050] eta: 0 Days 0:38:12       [0299/885] lr: \t1.0000E-04 loss: \t3.45810\n",
            " epoch [0013 / 0050] eta: 0 Days 0:35:6        [0399/885] lr: \t1.0000E-04 loss: \t3.47086\n",
            " epoch [0013 / 0050] eta: 0 Days 0:35:40       [0499/885] lr: \t1.0000E-04 loss: \t3.44405\n",
            " epoch [0013 / 0050] eta: 0 Days 0:37:28       [0599/885] lr: \t1.0000E-04 loss: \t3.44821\n",
            " epoch [0013 / 0050] eta: 0 Days 0:49:44       [0699/885] lr: \t1.0000E-04 loss: \t3.44125\n",
            " epoch [0013 / 0050] eta: 0 Days 0:35:45       [0799/885] lr: \t1.0000E-04 loss: \t3.46276\n"
          ]
        },
        {
          "output_type": "stream",
          "name": "stderr",
          "text": [
            "100%|██████████| 13/13 [00:21<00:00,  1.64s/it]\n"
          ]
        },
        {
          "output_type": "stream",
          "name": "stdout",
          "text": [
            "saving last_epoch checkpoint\n",
            "saving best_auroc checkpoint\n",
            "saving min_loss checkpoint\n",
            "val AUROC mean 0.5984\n",
            "Atelectasis 0.6640\n",
            "Cardiomegaly 0.5082\n",
            "Effusion 0.6257\n",
            "Infiltration 0.6190\n",
            "Mass 0.5726\n",
            "Nodule 0.6315\n",
            "Pneumothorax 0.4410\n",
            "Consolidation 0.6671\n",
            "Pleural_Thickening 0.5120\n",
            "Hernia 0.7429\n"
          ]
        },
        {
          "output_type": "stream",
          "name": "stderr",
          "text": [
            "100%|██████████| 99/99 [00:29<00:00,  3.32it/s]\n"
          ]
        },
        {
          "output_type": "stream",
          "name": "stdout",
          "text": [
            "\n",
            "test_seen AUROC mean 0.5912\n",
            "Atelectasis 0.6157\n",
            "Effusion 0.5862\n",
            "Infiltration 0.5936\n",
            "Mass 0.5781\n",
            "Nodule 0.6344\n",
            "Pneumothorax 0.5046\n",
            "Consolidation 0.6444\n",
            "Cardiomegaly 0.5655\n",
            "Pleural_Thickening 0.5227\n",
            "Hernia 0.6671\n",
            "\n",
            "test_unseen AUROC mean 0.4649\n",
            "Edema 0.5022\n",
            "Pneumonia 0.4479\n",
            "Emphysema 0.4318\n",
            "Fibrosis 0.4776\n",
            "best epoch 13 best auroc 0.5983971963081386 loss 3.326874 auroc at min loss 0.5984\n",
            " epoch [0014 / 0050] eta: 0 Days 0:34:23       [0099/885] lr: \t1.0000E-04 loss: \t3.44499\n",
            " epoch [0014 / 0050] eta: 0 Days 0:35:24       [0199/885] lr: \t1.0000E-04 loss: \t3.43384\n",
            " epoch [0014 / 0050] eta: 0 Days 0:34:43       [0299/885] lr: \t1.0000E-04 loss: \t3.44823\n",
            " epoch [0014 / 0050] eta: 0 Days 0:36:0        [0399/885] lr: \t1.0000E-04 loss: \t3.43218\n",
            " epoch [0014 / 0050] eta: 0 Days 0:34:3        [0499/885] lr: \t1.0000E-04 loss: \t3.45451\n",
            " epoch [0014 / 0050] eta: 0 Days 0:43:47       [0599/885] lr: \t1.0000E-04 loss: \t3.45934\n",
            " epoch [0014 / 0050] eta: 0 Days 0:34:41       [0699/885] lr: \t1.0000E-04 loss: \t3.45605\n",
            " epoch [0014 / 0050] eta: 0 Days 1:0:26        [0799/885] lr: \t1.0000E-04 loss: \t3.45332\n"
          ]
        },
        {
          "output_type": "stream",
          "name": "stderr",
          "text": [
            "100%|██████████| 13/13 [00:21<00:00,  1.65s/it]\n"
          ]
        },
        {
          "output_type": "stream",
          "name": "stdout",
          "text": [
            "saving last_epoch checkpoint\n",
            "saving best_auroc checkpoint\n",
            "val AUROC mean 0.6041\n",
            "Atelectasis 0.6184\n",
            "Cardiomegaly 0.5006\n",
            "Effusion 0.5771\n",
            "Infiltration 0.5748\n",
            "Mass 0.6005\n",
            "Nodule 0.6092\n",
            "Pneumothorax 0.5982\n",
            "Consolidation 0.6548\n",
            "Pleural_Thickening 0.5240\n",
            "Hernia 0.7838\n"
          ]
        },
        {
          "output_type": "stream",
          "name": "stderr",
          "text": [
            "100%|██████████| 99/99 [00:30<00:00,  3.28it/s]\n"
          ]
        },
        {
          "output_type": "stream",
          "name": "stdout",
          "text": [
            "\n",
            "test_seen AUROC mean 0.5989\n",
            "Atelectasis 0.5713\n",
            "Effusion 0.5898\n",
            "Infiltration 0.5743\n",
            "Mass 0.5807\n",
            "Nodule 0.6217\n",
            "Pneumothorax 0.5367\n",
            "Consolidation 0.6265\n",
            "Cardiomegaly 0.5774\n",
            "Pleural_Thickening 0.5477\n",
            "Hernia 0.7633\n",
            "\n",
            "test_unseen AUROC mean 0.4946\n",
            "Edema 0.5004\n",
            "Pneumonia 0.4628\n",
            "Emphysema 0.4567\n",
            "Fibrosis 0.5584\n",
            "best epoch 14 best auroc 0.6041427599561312 loss 3.338247 auroc at min loss 0.5984\n",
            " epoch [0015 / 0050] eta: 0 Days 0:33:17       [0099/885] lr: \t1.0000E-04 loss: \t3.45449\n",
            " epoch [0015 / 0050] eta: 0 Days 0:34:25       [0199/885] lr: \t1.0000E-04 loss: \t3.43636\n",
            " epoch [0015 / 0050] eta: 0 Days 0:35:3        [0299/885] lr: \t1.0000E-04 loss: \t3.41798\n",
            " epoch [0015 / 0050] eta: 0 Days 0:33:23       [0399/885] lr: \t1.0000E-04 loss: \t3.42417\n",
            " epoch [0015 / 0050] eta: 0 Days 0:44:49       [0499/885] lr: \t1.0000E-04 loss: \t3.44167\n",
            " epoch [0015 / 0050] eta: 0 Days 1:2:11        [0599/885] lr: \t1.0000E-04 loss: \t3.45088\n",
            " epoch [0015 / 0050] eta: 0 Days 1:4:30        [0699/885] lr: \t1.0000E-04 loss: \t3.44282\n",
            " epoch [0015 / 0050] eta: 0 Days 0:54:20       [0799/885] lr: \t1.0000E-04 loss: \t3.45151\n"
          ]
        },
        {
          "output_type": "stream",
          "name": "stderr",
          "text": [
            "100%|██████████| 13/13 [00:21<00:00,  1.64s/it]\n"
          ]
        },
        {
          "output_type": "stream",
          "name": "stdout",
          "text": [
            "saving last_epoch checkpoint\n",
            "saving best_auroc checkpoint\n",
            "saving min_loss checkpoint\n",
            "val AUROC mean 0.6182\n",
            "Atelectasis 0.6201\n",
            "Cardiomegaly 0.5820\n",
            "Effusion 0.5750\n",
            "Infiltration 0.6285\n",
            "Mass 0.6362\n",
            "Nodule 0.5942\n",
            "Pneumothorax 0.5939\n",
            "Consolidation 0.6058\n",
            "Pleural_Thickening 0.5521\n",
            "Hernia 0.7945\n"
          ]
        },
        {
          "output_type": "stream",
          "name": "stderr",
          "text": [
            "100%|██████████| 99/99 [00:30<00:00,  3.28it/s]\n"
          ]
        },
        {
          "output_type": "stream",
          "name": "stdout",
          "text": [
            "\n",
            "test_seen AUROC mean 0.5718\n",
            "Atelectasis 0.5808\n",
            "Effusion 0.5516\n",
            "Infiltration 0.5907\n",
            "Mass 0.5521\n",
            "Nodule 0.6418\n",
            "Pneumothorax 0.5279\n",
            "Consolidation 0.5894\n",
            "Cardiomegaly 0.5199\n",
            "Pleural_Thickening 0.5193\n",
            "Hernia 0.6446\n",
            "\n",
            "test_unseen AUROC mean 0.4660\n",
            "Edema 0.4220\n",
            "Pneumonia 0.4313\n",
            "Emphysema 0.4601\n",
            "Fibrosis 0.5506\n",
            "best epoch 15 best auroc 0.6182155777779653 loss 3.303943 auroc at min loss 0.6182\n",
            " epoch [0016 / 0050] eta: 0 Days 0:33:16       [0099/885] lr: \t1.0000E-04 loss: \t3.41875\n",
            " epoch [0016 / 0050] eta: 0 Days 0:38:16       [0199/885] lr: \t1.0000E-04 loss: \t3.42166\n",
            " epoch [0016 / 0050] eta: 0 Days 0:32:7        [0299/885] lr: \t1.0000E-04 loss: \t3.42385\n",
            " epoch [0016 / 0050] eta: 0 Days 0:34:47       [0399/885] lr: \t1.0000E-04 loss: \t3.43112\n",
            " epoch [0016 / 0050] eta: 0 Days 0:57:28       [0499/885] lr: \t1.0000E-04 loss: \t3.43113\n",
            " epoch [0016 / 0050] eta: 0 Days 0:33:2        [0599/885] lr: \t1.0000E-04 loss: \t3.42040\n",
            " epoch [0016 / 0050] eta: 0 Days 0:34:52       [0699/885] lr: \t1.0000E-04 loss: \t3.42665\n",
            " epoch [0016 / 0050] eta: 0 Days 1:5:55        [0799/885] lr: \t1.0000E-04 loss: \t3.43331\n"
          ]
        },
        {
          "output_type": "stream",
          "name": "stderr",
          "text": [
            "100%|██████████| 13/13 [00:21<00:00,  1.65s/it]\n"
          ]
        },
        {
          "output_type": "stream",
          "name": "stdout",
          "text": [
            "saving last_epoch checkpoint\n",
            "saving best_auroc checkpoint\n",
            "saving min_loss checkpoint\n",
            "val AUROC mean 0.6215\n",
            "Atelectasis 0.6559\n",
            "Cardiomegaly 0.5776\n",
            "Effusion 0.6107\n",
            "Infiltration 0.6136\n",
            "Mass 0.6059\n",
            "Nodule 0.6242\n",
            "Pneumothorax 0.5461\n",
            "Consolidation 0.6541\n",
            "Pleural_Thickening 0.5302\n",
            "Hernia 0.7965\n"
          ]
        },
        {
          "output_type": "stream",
          "name": "stderr",
          "text": [
            "100%|██████████| 99/99 [00:30<00:00,  3.23it/s]\n"
          ]
        },
        {
          "output_type": "stream",
          "name": "stdout",
          "text": [
            "\n",
            "test_seen AUROC mean 0.5997\n",
            "Atelectasis 0.5955\n",
            "Effusion 0.5947\n",
            "Infiltration 0.5915\n",
            "Mass 0.5659\n",
            "Nodule 0.6465\n",
            "Pneumothorax 0.5426\n",
            "Consolidation 0.6070\n",
            "Cardiomegaly 0.5652\n",
            "Pleural_Thickening 0.5400\n",
            "Hernia 0.7487\n",
            "\n",
            "test_unseen AUROC mean 0.4605\n",
            "Edema 0.3842\n",
            "Pneumonia 0.4787\n",
            "Emphysema 0.4486\n",
            "Fibrosis 0.5303\n",
            "best epoch 16 best auroc 0.6214904423021802 loss 3.289559 auroc at min loss 0.6215\n",
            " epoch [0017 / 0050] eta: 0 Days 0:31:15       [0099/885] lr: \t1.0000E-04 loss: \t3.49439\n",
            " epoch [0017 / 0050] eta: 0 Days 0:37:17       [0199/885] lr: \t1.0000E-04 loss: \t3.42452\n",
            " epoch [0017 / 0050] eta: 0 Days 0:31:48       [0299/885] lr: \t1.0000E-04 loss: \t3.43075\n",
            " epoch [0017 / 0050] eta: 0 Days 0:31:27       [0399/885] lr: \t1.0000E-04 loss: \t3.44023\n",
            " epoch [0017 / 0050] eta: 0 Days 0:31:18       [0499/885] lr: \t1.0000E-04 loss: \t3.42324\n",
            " epoch [0017 / 0050] eta: 0 Days 0:31:1        [0599/885] lr: \t1.0000E-04 loss: \t3.42259\n",
            " epoch [0017 / 0050] eta: 0 Days 0:30:34       [0699/885] lr: \t1.0000E-04 loss: \t3.42427\n",
            " epoch [0017 / 0050] eta: 0 Days 0:30:23       [0799/885] lr: \t1.0000E-04 loss: \t3.41818\n"
          ]
        },
        {
          "output_type": "stream",
          "name": "stderr",
          "text": [
            "100%|██████████| 13/13 [00:21<00:00,  1.64s/it]\n"
          ]
        },
        {
          "output_type": "stream",
          "name": "stdout",
          "text": [
            "saving last_epoch checkpoint\n",
            "val AUROC mean 0.6072\n",
            "Atelectasis 0.5970\n",
            "Cardiomegaly 0.5621\n",
            "Effusion 0.5907\n",
            "Infiltration 0.5887\n",
            "Mass 0.5841\n",
            "Nodule 0.6237\n",
            "Pneumothorax 0.5273\n",
            "Consolidation 0.6561\n",
            "Pleural_Thickening 0.5654\n",
            "Hernia 0.7773\n",
            "best epoch 16 best auroc 0.6214904423021802 loss 3.342731 auroc at min loss 0.6215\n",
            " epoch [0018 / 0050] eta: 0 Days 0:30:58       [0099/885] lr: \t1.0000E-04 loss: \t3.48828\n",
            " epoch [0018 / 0050] eta: 0 Days 0:30:32       [0199/885] lr: \t1.0000E-04 loss: \t3.39795\n",
            " epoch [0018 / 0050] eta: 0 Days 0:34:7        [0299/885] lr: \t1.0000E-04 loss: \t3.41689\n",
            " epoch [0018 / 0050] eta: 0 Days 0:31:41       [0399/885] lr: \t1.0000E-04 loss: \t3.42408\n",
            " epoch [0018 / 0050] eta: 0 Days 0:31:13       [0499/885] lr: \t1.0000E-04 loss: \t3.40476\n",
            " epoch [0018 / 0050] eta: 0 Days 0:31:17       [0599/885] lr: \t1.0000E-04 loss: \t3.41312\n",
            " epoch [0018 / 0050] eta: 0 Days 0:29:58       [0699/885] lr: \t1.0000E-04 loss: \t3.41293\n",
            " epoch [0018 / 0050] eta: 0 Days 0:30:46       [0799/885] lr: \t1.0000E-04 loss: \t3.41421\n"
          ]
        },
        {
          "output_type": "stream",
          "name": "stderr",
          "text": [
            "100%|██████████| 13/13 [00:21<00:00,  1.63s/it]\n"
          ]
        },
        {
          "output_type": "stream",
          "name": "stdout",
          "text": [
            "saving last_epoch checkpoint\n",
            "saving best_auroc checkpoint\n",
            "saving min_loss checkpoint\n",
            "val AUROC mean 0.6223\n",
            "Atelectasis 0.6454\n",
            "Cardiomegaly 0.5325\n",
            "Effusion 0.5783\n",
            "Infiltration 0.6040\n",
            "Mass 0.5861\n",
            "Nodule 0.6364\n",
            "Pneumothorax 0.6077\n",
            "Consolidation 0.6704\n",
            "Pleural_Thickening 0.5597\n",
            "Hernia 0.8023\n"
          ]
        },
        {
          "output_type": "stream",
          "name": "stderr",
          "text": [
            "100%|██████████| 99/99 [00:29<00:00,  3.39it/s]\n"
          ]
        },
        {
          "output_type": "stream",
          "name": "stdout",
          "text": [
            "\n",
            "test_seen AUROC mean 0.6004\n",
            "Atelectasis 0.5902\n",
            "Effusion 0.5685\n",
            "Infiltration 0.5833\n",
            "Mass 0.5712\n",
            "Nodule 0.6540\n",
            "Pneumothorax 0.5544\n",
            "Consolidation 0.6289\n",
            "Cardiomegaly 0.5511\n",
            "Pleural_Thickening 0.5544\n",
            "Hernia 0.7478\n",
            "\n",
            "test_unseen AUROC mean 0.4652\n",
            "Edema 0.4019\n",
            "Pneumonia 0.4513\n",
            "Emphysema 0.4947\n",
            "Fibrosis 0.5129\n",
            "best epoch 18 best auroc 0.6222816058866851 loss 3.227601 auroc at min loss 0.6223\n",
            " epoch [0019 / 0050] eta: 0 Days 0:31:15       [0099/885] lr: \t1.0000E-04 loss: \t3.47936\n",
            " epoch [0019 / 0050] eta: 0 Days 0:31:2        [0199/885] lr: \t1.0000E-04 loss: \t3.45740\n",
            " epoch [0019 / 0050] eta: 0 Days 0:29:4        [0299/885] lr: \t1.0000E-04 loss: \t3.44006\n",
            " epoch [0019 / 0050] eta: 0 Days 0:30:39       [0399/885] lr: \t1.0000E-04 loss: \t3.41964\n",
            " epoch [0019 / 0050] eta: 0 Days 0:35:23       [0499/885] lr: \t1.0000E-04 loss: \t3.43787\n",
            " epoch [0019 / 0050] eta: 0 Days 0:29:0        [0599/885] lr: \t1.0000E-04 loss: \t3.44947\n",
            " epoch [0019 / 0050] eta: 0 Days 0:28:56       [0699/885] lr: \t1.0000E-04 loss: \t3.44137\n",
            " epoch [0019 / 0050] eta: 0 Days 1:10:10       [0799/885] lr: \t1.0000E-04 loss: \t3.42787\n"
          ]
        },
        {
          "output_type": "stream",
          "name": "stderr",
          "text": [
            "100%|██████████| 13/13 [00:20<00:00,  1.60s/it]\n"
          ]
        },
        {
          "output_type": "stream",
          "name": "stdout",
          "text": [
            "saving last_epoch checkpoint\n",
            "val AUROC mean 0.6091\n",
            "Atelectasis 0.6740\n",
            "Cardiomegaly 0.5021\n",
            "Effusion 0.6124\n",
            "Infiltration 0.6126\n",
            "Mass 0.5738\n",
            "Nodule 0.6184\n",
            "Pneumothorax 0.5083\n",
            "Consolidation 0.6631\n",
            "Pleural_Thickening 0.5130\n",
            "Hernia 0.8135\n",
            "best epoch 18 best auroc 0.6222816058866851 loss 3.254283 auroc at min loss 0.6223\n",
            " epoch [0020 / 0050] eta: 0 Days 0:33:11       [0099/885] lr: \t1.0000E-04 loss: \t3.32636\n",
            " epoch [0020 / 0050] eta: 0 Days 0:29:36       [0199/885] lr: \t1.0000E-04 loss: \t3.35212\n",
            " epoch [0020 / 0050] eta: 0 Days 0:28:16       [0299/885] lr: \t1.0000E-04 loss: \t3.38257\n",
            " epoch [0020 / 0050] eta: 0 Days 0:28:50       [0399/885] lr: \t1.0000E-04 loss: \t3.42869\n",
            " epoch [0020 / 0050] eta: 0 Days 0:28:58       [0499/885] lr: \t1.0000E-04 loss: \t3.43476\n",
            " epoch [0020 / 0050] eta: 0 Days 0:27:54       [0599/885] lr: \t1.0000E-04 loss: \t3.41717\n",
            " epoch [0020 / 0050] eta: 0 Days 0:27:44       [0699/885] lr: \t1.0000E-04 loss: \t3.41648\n",
            " epoch [0020 / 0050] eta: 0 Days 0:33:1        [0799/885] lr: \t1.0000E-04 loss: \t3.42887\n"
          ]
        },
        {
          "output_type": "stream",
          "name": "stderr",
          "text": [
            "100%|██████████| 13/13 [00:21<00:00,  1.64s/it]\n"
          ]
        },
        {
          "output_type": "stream",
          "name": "stdout",
          "text": [
            "saving last_epoch checkpoint\n",
            "val AUROC mean 0.6183\n",
            "Atelectasis 0.6274\n",
            "Cardiomegaly 0.5474\n",
            "Effusion 0.5680\n",
            "Infiltration 0.6032\n",
            "Mass 0.5836\n",
            "Nodule 0.6361\n",
            "Pneumothorax 0.5878\n",
            "Consolidation 0.6426\n",
            "Pleural_Thickening 0.5725\n",
            "Hernia 0.8144\n",
            "best epoch 18 best auroc 0.6222816058866851 loss 3.259143 auroc at min loss 0.6223\n",
            " epoch [0021 / 0050] eta: 0 Days 0:31:1        [0099/885] lr: \t1.0000E-04 loss: \t3.46753\n",
            " epoch [0021 / 0050] eta: 0 Days 0:32:33       [0199/885] lr: \t1.0000E-04 loss: \t3.40012\n",
            " epoch [0021 / 0050] eta: 0 Days 0:28:28       [0299/885] lr: \t1.0000E-04 loss: \t3.40130\n",
            " epoch [0021 / 0050] eta: 0 Days 0:27:18       [0399/885] lr: \t1.0000E-04 loss: \t3.39818\n",
            " epoch [0021 / 0050] eta: 0 Days 0:34:2        [0499/885] lr: \t1.0000E-04 loss: \t3.40075\n",
            " epoch [0021 / 0050] eta: 0 Days 0:26:59       [0599/885] lr: \t1.0000E-04 loss: \t3.40084\n",
            " epoch [0021 / 0050] eta: 0 Days 0:28:18       [0699/885] lr: \t1.0000E-04 loss: \t3.40297\n",
            " epoch [0021 / 0050] eta: 0 Days 0:27:53       [0799/885] lr: \t1.0000E-04 loss: \t3.40997\n"
          ]
        },
        {
          "output_type": "stream",
          "name": "stderr",
          "text": [
            "100%|██████████| 13/13 [00:20<00:00,  1.60s/it]\n"
          ]
        },
        {
          "output_type": "stream",
          "name": "stdout",
          "text": [
            "saving last_epoch checkpoint\n",
            "val AUROC mean 0.6095\n",
            "Atelectasis 0.6622\n",
            "Cardiomegaly 0.5101\n",
            "Effusion 0.6156\n",
            "Infiltration 0.6031\n",
            "Mass 0.5661\n",
            "Nodule 0.6159\n",
            "Pneumothorax 0.5083\n",
            "Consolidation 0.6528\n",
            "Pleural_Thickening 0.5450\n",
            "Hernia 0.8157\n",
            "best epoch 18 best auroc 0.6222816058866851 loss 3.293370 auroc at min loss 0.6223\n",
            " epoch [0022 / 0050] eta: 0 Days 0:26:32       [0099/885] lr: \t1.0000E-04 loss: \t3.50122\n",
            " epoch [0022 / 0050] eta: 0 Days 0:27:12       [0199/885] lr: \t1.0000E-04 loss: \t3.43928\n",
            " epoch [0022 / 0050] eta: 0 Days 0:32:22       [0299/885] lr: \t1.0000E-04 loss: \t3.42980\n",
            " epoch [0022 / 0050] eta: 0 Days 0:26:17       [0399/885] lr: \t1.0000E-04 loss: \t3.41311\n",
            " epoch [0022 / 0050] eta: 0 Days 0:50:24       [0499/885] lr: \t1.0000E-04 loss: \t3.41471\n",
            " epoch [0022 / 0050] eta: 0 Days 0:47:0        [0599/885] lr: \t1.0000E-04 loss: \t3.41495\n",
            " epoch [0022 / 0050] eta: 0 Days 0:48:8        [0699/885] lr: \t1.0000E-04 loss: \t3.41907\n",
            " epoch [0022 / 0050] eta: 0 Days 0:31:8        [0799/885] lr: \t1.0000E-04 loss: \t3.42319\n"
          ]
        },
        {
          "output_type": "stream",
          "name": "stderr",
          "text": [
            "100%|██████████| 13/13 [00:20<00:00,  1.59s/it]\n"
          ]
        },
        {
          "output_type": "stream",
          "name": "stdout",
          "text": [
            "saving last_epoch checkpoint\n",
            "val AUROC mean 0.6080\n",
            "Atelectasis 0.6623\n",
            "Cardiomegaly 0.5018\n",
            "Effusion 0.6189\n",
            "Infiltration 0.6095\n",
            "Mass 0.5648\n",
            "Nodule 0.6070\n",
            "Pneumothorax 0.5518\n",
            "Consolidation 0.6617\n",
            "Pleural_Thickening 0.5102\n",
            "Hernia 0.7924\n",
            "best epoch 18 best auroc 0.6222816058866851 loss 3.281072 auroc at min loss 0.6223\n",
            " epoch [0023 / 0050] eta: 0 Days 0:25:35       [0099/885] lr: \t1.0000E-04 loss: \t3.54478\n",
            " epoch [0023 / 0050] eta: 0 Days 0:51:50       [0199/885] lr: \t1.0000E-04 loss: \t3.45571\n",
            " epoch [0023 / 0050] eta: 0 Days 0:25:29       [0299/885] lr: \t1.0000E-04 loss: \t3.45623\n",
            " epoch [0023 / 0050] eta: 0 Days 0:32:1        [0399/885] lr: \t1.0000E-04 loss: \t3.44364\n",
            " epoch [0023 / 0050] eta: 0 Days 0:26:12       [0499/885] lr: \t1.0000E-04 loss: \t3.43551\n",
            " epoch [0023 / 0050] eta: 0 Days 0:40:54       [0599/885] lr: \t1.0000E-04 loss: \t3.40775\n",
            " epoch [0023 / 0050] eta: 0 Days 0:28:21       [0699/885] lr: \t1.0000E-04 loss: \t3.41505\n",
            " epoch [0023 / 0050] eta: 0 Days 0:27:29       [0799/885] lr: \t1.0000E-04 loss: \t3.41450\n"
          ]
        },
        {
          "output_type": "stream",
          "name": "stderr",
          "text": [
            "100%|██████████| 13/13 [00:20<00:00,  1.60s/it]\n"
          ]
        },
        {
          "output_type": "stream",
          "name": "stdout",
          "text": [
            "saving last_epoch checkpoint\n",
            "saving best_auroc checkpoint\n",
            "val AUROC mean 0.6243\n",
            "Atelectasis 0.6711\n",
            "Cardiomegaly 0.5246\n",
            "Effusion 0.6118\n",
            "Infiltration 0.5950\n",
            "Mass 0.5873\n",
            "Nodule 0.6301\n",
            "Pneumothorax 0.6151\n",
            "Consolidation 0.6406\n",
            "Pleural_Thickening 0.5300\n",
            "Hernia 0.8377\n"
          ]
        },
        {
          "output_type": "stream",
          "name": "stderr",
          "text": [
            "100%|██████████| 99/99 [00:28<00:00,  3.47it/s]\n"
          ]
        },
        {
          "output_type": "stream",
          "name": "stdout",
          "text": [
            "\n",
            "test_seen AUROC mean 0.5893\n",
            "Atelectasis 0.5971\n",
            "Effusion 0.5981\n",
            "Infiltration 0.5834\n",
            "Mass 0.5680\n",
            "Nodule 0.6396\n",
            "Pneumothorax 0.5285\n",
            "Consolidation 0.6115\n",
            "Cardiomegaly 0.5051\n",
            "Pleural_Thickening 0.5478\n",
            "Hernia 0.7136\n",
            "\n",
            "test_unseen AUROC mean 0.4783\n",
            "Edema 0.4771\n",
            "Pneumonia 0.4548\n",
            "Emphysema 0.4702\n",
            "Fibrosis 0.5109\n",
            "best epoch 23 best auroc 0.624339419616411 loss 3.244591 auroc at min loss 0.6223\n",
            " epoch [0024 / 0050] eta: 0 Days 0:30:18       [0099/885] lr: \t1.0000E-04 loss: \t3.34699\n",
            " epoch [0024 / 0050] eta: 0 Days 0:24:17       [0199/885] lr: \t1.0000E-04 loss: \t3.42375\n",
            " epoch [0024 / 0050] eta: 0 Days 0:30:41       [0299/885] lr: \t1.0000E-04 loss: \t3.42955\n",
            " epoch [0024 / 0050] eta: 0 Days 0:48:45       [0399/885] lr: \t1.0000E-04 loss: \t3.43408\n",
            " epoch [0024 / 0050] eta: 0 Days 0:24:28       [0499/885] lr: \t1.0000E-04 loss: \t3.43101\n",
            " epoch [0024 / 0050] eta: 0 Days 0:24:27       [0599/885] lr: \t1.0000E-04 loss: \t3.43610\n",
            " epoch [0024 / 0050] eta: 0 Days 0:28:35       [0699/885] lr: \t1.0000E-04 loss: \t3.43904\n",
            " epoch [0024 / 0050] eta: 0 Days 0:24:4        [0799/885] lr: \t1.0000E-04 loss: \t3.43164\n"
          ]
        },
        {
          "output_type": "stream",
          "name": "stderr",
          "text": [
            "100%|██████████| 13/13 [00:20<00:00,  1.60s/it]\n"
          ]
        },
        {
          "output_type": "stream",
          "name": "stdout",
          "text": [
            "saving last_epoch checkpoint\n",
            "saving min_loss checkpoint\n",
            "val AUROC mean 0.6241\n",
            "Atelectasis 0.6745\n",
            "Cardiomegaly 0.5350\n",
            "Effusion 0.6143\n",
            "Infiltration 0.6118\n",
            "Mass 0.6010\n",
            "Nodule 0.6333\n",
            "Pneumothorax 0.6118\n",
            "Consolidation 0.6384\n",
            "Pleural_Thickening 0.5476\n",
            "Hernia 0.7736\n"
          ]
        },
        {
          "output_type": "stream",
          "name": "stderr",
          "text": [
            "100%|██████████| 99/99 [00:29<00:00,  3.35it/s]\n"
          ]
        },
        {
          "output_type": "stream",
          "name": "stdout",
          "text": [
            "\n",
            "test_seen AUROC mean 0.5946\n",
            "Atelectasis 0.6146\n",
            "Effusion 0.5851\n",
            "Infiltration 0.5968\n",
            "Mass 0.5541\n",
            "Nodule 0.6489\n",
            "Pneumothorax 0.5535\n",
            "Consolidation 0.6027\n",
            "Cardiomegaly 0.5258\n",
            "Pleural_Thickening 0.5427\n",
            "Hernia 0.7215\n",
            "\n",
            "test_unseen AUROC mean 0.4728\n",
            "Edema 0.5011\n",
            "Pneumonia 0.4095\n",
            "Emphysema 0.4392\n",
            "Fibrosis 0.5413\n",
            "best epoch 23 best auroc 0.624339419616411 loss 3.215591 auroc at min loss 0.6241\n",
            " epoch [0025 / 0050] eta: 0 Days 0:24:23       [0099/885] lr: \t1.0000E-04 loss: \t3.32851\n",
            " epoch [0025 / 0050] eta: 0 Days 0:28:17       [0199/885] lr: \t1.0000E-04 loss: \t3.36976\n",
            " epoch [0025 / 0050] eta: 0 Days 0:49:26       [0299/885] lr: \t1.0000E-04 loss: \t3.43910\n",
            " epoch [0025 / 0050] eta: 0 Days 0:45:57       [0399/885] lr: \t1.0000E-04 loss: \t3.40307\n",
            " epoch [0025 / 0050] eta: 0 Days 0:50:38       [0499/885] lr: \t1.0000E-04 loss: \t3.41281\n",
            " epoch [0025 / 0050] eta: 0 Days 0:23:11       [0599/885] lr: \t1.0000E-04 loss: \t3.41010\n",
            " epoch [0025 / 0050] eta: 0 Days 0:44:36       [0699/885] lr: \t1.0000E-04 loss: \t3.41335\n",
            " epoch [0025 / 0050] eta: 0 Days 0:39:25       [0799/885] lr: \t1.0000E-04 loss: \t3.40470\n"
          ]
        },
        {
          "output_type": "stream",
          "name": "stderr",
          "text": [
            "100%|██████████| 13/13 [00:20<00:00,  1.58s/it]\n"
          ]
        },
        {
          "output_type": "stream",
          "name": "stdout",
          "text": [
            "saving last_epoch checkpoint\n",
            "val AUROC mean 0.6203\n",
            "Atelectasis 0.6751\n",
            "Cardiomegaly 0.5016\n",
            "Effusion 0.6347\n",
            "Infiltration 0.6209\n",
            "Mass 0.6173\n",
            "Nodule 0.6290\n",
            "Pneumothorax 0.5627\n",
            "Consolidation 0.6660\n",
            "Pleural_Thickening 0.5081\n",
            "Hernia 0.7879\n",
            "best epoch 23 best auroc 0.624339419616411 loss 3.224783 auroc at min loss 0.6241\n",
            " epoch [0026 / 0050] eta: 0 Days 0:22:21       [0099/885] lr: \t1.0000E-04 loss: \t3.33414\n",
            " epoch [0026 / 0050] eta: 0 Days 0:24:18       [0199/885] lr: \t1.0000E-04 loss: \t3.34583\n",
            " epoch [0026 / 0050] eta: 0 Days 0:28:36       [0299/885] lr: \t1.0000E-04 loss: \t3.36954\n",
            " epoch [0026 / 0050] eta: 0 Days 0:22:44       [0399/885] lr: \t1.0000E-04 loss: \t3.40569\n",
            " epoch [0026 / 0050] eta: 0 Days 0:22:19       [0499/885] lr: \t1.0000E-04 loss: \t3.40309\n",
            " epoch [0026 / 0050] eta: 0 Days 0:30:16       [0599/885] lr: \t1.0000E-04 loss: \t3.38534\n",
            " epoch [0026 / 0050] eta: 0 Days 0:24:53       [0699/885] lr: \t1.0000E-04 loss: \t3.38660\n",
            " epoch [0026 / 0050] eta: 0 Days 0:26:9        [0799/885] lr: \t1.0000E-04 loss: \t3.38299\n"
          ]
        },
        {
          "output_type": "stream",
          "name": "stderr",
          "text": [
            "100%|██████████| 13/13 [00:20<00:00,  1.60s/it]\n"
          ]
        },
        {
          "output_type": "stream",
          "name": "stdout",
          "text": [
            "saving last_epoch checkpoint\n",
            "saving best_auroc checkpoint\n",
            "val AUROC mean 0.6259\n",
            "Atelectasis 0.6678\n",
            "Cardiomegaly 0.5490\n",
            "Effusion 0.5902\n",
            "Infiltration 0.6111\n",
            "Mass 0.6032\n",
            "Nodule 0.6301\n",
            "Pneumothorax 0.6049\n",
            "Consolidation 0.6454\n",
            "Pleural_Thickening 0.5696\n",
            "Hernia 0.7873\n"
          ]
        },
        {
          "output_type": "stream",
          "name": "stderr",
          "text": [
            "100%|██████████| 99/99 [00:28<00:00,  3.45it/s]\n"
          ]
        },
        {
          "output_type": "stream",
          "name": "stdout",
          "text": [
            "\n",
            "test_seen AUROC mean 0.6122\n",
            "Atelectasis 0.6189\n",
            "Effusion 0.5741\n",
            "Infiltration 0.5950\n",
            "Mass 0.5830\n",
            "Nodule 0.6488\n",
            "Pneumothorax 0.5653\n",
            "Consolidation 0.6143\n",
            "Cardiomegaly 0.5786\n",
            "Pleural_Thickening 0.5620\n",
            "Hernia 0.7819\n",
            "\n",
            "test_unseen AUROC mean 0.4780\n",
            "Edema 0.4170\n",
            "Pneumonia 0.4551\n",
            "Emphysema 0.4776\n",
            "Fibrosis 0.5624\n",
            "best epoch 26 best auroc 0.6258651631721346 loss 3.252576 auroc at min loss 0.6241\n",
            " epoch [0027 / 0050] eta: 0 Days 0:21:54       [0099/885] lr: \t1.0000E-04 loss: \t3.48465\n",
            " epoch [0027 / 0050] eta: 0 Days 0:51:17       [0199/885] lr: \t1.0000E-04 loss: \t3.45416\n",
            " epoch [0027 / 0050] eta: 0 Days 0:25:52       [0299/885] lr: \t1.0000E-04 loss: \t3.46215\n",
            " epoch [0027 / 0050] eta: 0 Days 0:22:12       [0399/885] lr: \t1.0000E-04 loss: \t3.45147\n",
            " epoch [0027 / 0050] eta: 0 Days 0:21:39       [0499/885] lr: \t1.0000E-04 loss: \t3.42059\n",
            " epoch [0027 / 0050] eta: 0 Days 0:21:30       [0599/885] lr: \t1.0000E-04 loss: \t3.39657\n",
            " epoch [0027 / 0050] eta: 0 Days 0:25:6        [0699/885] lr: \t1.0000E-04 loss: \t3.39595\n",
            " epoch [0027 / 0050] eta: 0 Days 0:47:48       [0799/885] lr: \t1.0000E-04 loss: \t3.39384\n"
          ]
        },
        {
          "output_type": "stream",
          "name": "stderr",
          "text": [
            "100%|██████████| 13/13 [00:20<00:00,  1.60s/it]\n"
          ]
        },
        {
          "output_type": "stream",
          "name": "stdout",
          "text": [
            "saving last_epoch checkpoint\n",
            "val AUROC mean 0.6193\n",
            "Atelectasis 0.6576\n",
            "Cardiomegaly 0.5130\n",
            "Effusion 0.5808\n",
            "Infiltration 0.6167\n",
            "Mass 0.6055\n",
            "Nodule 0.6343\n",
            "Pneumothorax 0.5598\n",
            "Consolidation 0.6723\n",
            "Pleural_Thickening 0.5336\n",
            "Hernia 0.8197\n",
            "best epoch 26 best auroc 0.6258651631721346 loss 3.250056 auroc at min loss 0.6241\n",
            " epoch [0028 / 0050] eta: 0 Days 0:20:45       [0099/885] lr: \t1.0000E-04 loss: \t3.39917\n",
            " epoch [0028 / 0050] eta: 0 Days 0:24:35       [0199/885] lr: \t1.0000E-04 loss: \t3.44187\n",
            " epoch [0028 / 0050] eta: 0 Days 0:24:59       [0299/885] lr: \t1.0000E-04 loss: \t3.40035\n",
            " epoch [0028 / 0050] eta: 0 Days 0:20:50       [0399/885] lr: \t1.0000E-04 loss: \t3.38983\n",
            " epoch [0028 / 0050] eta: 0 Days 0:25:5        [0499/885] lr: \t1.0000E-04 loss: \t3.37458\n",
            " epoch [0028 / 0050] eta: 0 Days 0:20:58       [0599/885] lr: \t1.0000E-04 loss: \t3.37555\n",
            " epoch [0028 / 0050] eta: 0 Days 0:20:16       [0699/885] lr: \t1.0000E-04 loss: \t3.38949\n",
            " epoch [0028 / 0050] eta: 0 Days 0:20:38       [0799/885] lr: \t1.0000E-04 loss: \t3.39376\n"
          ]
        },
        {
          "output_type": "stream",
          "name": "stderr",
          "text": [
            "100%|██████████| 13/13 [00:20<00:00,  1.60s/it]\n"
          ]
        },
        {
          "output_type": "stream",
          "name": "stdout",
          "text": [
            "saving last_epoch checkpoint\n",
            "saving best_auroc checkpoint\n",
            "val AUROC mean 0.6262\n",
            "Atelectasis 0.6513\n",
            "Cardiomegaly 0.5090\n",
            "Effusion 0.6309\n",
            "Infiltration 0.6070\n",
            "Mass 0.5715\n",
            "Nodule 0.6425\n",
            "Pneumothorax 0.5806\n",
            "Consolidation 0.6653\n",
            "Pleural_Thickening 0.5648\n",
            "Hernia 0.8388\n"
          ]
        },
        {
          "output_type": "stream",
          "name": "stderr",
          "text": [
            "100%|██████████| 99/99 [00:28<00:00,  3.43it/s]\n"
          ]
        },
        {
          "output_type": "stream",
          "name": "stdout",
          "text": [
            "\n",
            "test_seen AUROC mean 0.5969\n",
            "Atelectasis 0.6184\n",
            "Effusion 0.6216\n",
            "Infiltration 0.5949\n",
            "Mass 0.5580\n",
            "Nodule 0.6564\n",
            "Pneumothorax 0.5387\n",
            "Consolidation 0.6327\n",
            "Cardiomegaly 0.5356\n",
            "Pleural_Thickening 0.5563\n",
            "Hernia 0.6568\n",
            "\n",
            "test_unseen AUROC mean 0.4784\n",
            "Edema 0.4878\n",
            "Pneumonia 0.4319\n",
            "Emphysema 0.4812\n",
            "Fibrosis 0.5127\n",
            "best epoch 28 best auroc 0.6261606386065315 loss 3.237631 auroc at min loss 0.6241\n",
            " epoch [0029 / 0050] eta: 0 Days 0:24:13       [0099/885] lr: \t1.0000E-04 loss: \t3.33392\n",
            " epoch [0029 / 0050] eta: 0 Days 0:27:21       [0199/885] lr: \t1.0000E-04 loss: \t3.32510\n",
            " epoch [0029 / 0050] eta: 0 Days 0:20:17       [0299/885] lr: \t1.0000E-04 loss: \t3.32844\n",
            " epoch [0029 / 0050] eta: 0 Days 0:20:41       [0399/885] lr: \t1.0000E-04 loss: \t3.38255\n",
            " epoch [0029 / 0050] eta: 0 Days 0:19:41       [0499/885] lr: \t1.0000E-04 loss: \t3.37801\n",
            " epoch [0029 / 0050] eta: 0 Days 0:20:7        [0599/885] lr: \t1.0000E-04 loss: \t3.37397\n",
            " epoch [0029 / 0050] eta: 0 Days 0:24:1        [0699/885] lr: \t1.0000E-04 loss: \t3.38596\n",
            " epoch [0029 / 0050] eta: 0 Days 0:19:45       [0799/885] lr: \t1.0000E-04 loss: \t3.38029\n"
          ]
        },
        {
          "output_type": "stream",
          "name": "stderr",
          "text": [
            "100%|██████████| 13/13 [00:20<00:00,  1.60s/it]\n"
          ]
        },
        {
          "output_type": "stream",
          "name": "stdout",
          "text": [
            "saving last_epoch checkpoint\n",
            "val AUROC mean 0.6083\n",
            "Atelectasis 0.6572\n",
            "Cardiomegaly 0.4978\n",
            "Effusion 0.6187\n",
            "Infiltration 0.6249\n",
            "Mass 0.5785\n",
            "Nodule 0.6371\n",
            "Pneumothorax 0.5066\n",
            "Consolidation 0.6525\n",
            "Pleural_Thickening 0.5284\n",
            "Hernia 0.7816\n",
            "best epoch 28 best auroc 0.6261606386065315 loss 3.251334 auroc at min loss 0.6241\n",
            " epoch [0030 / 0050] eta: 0 Days 0:23:26       [0099/885] lr: \t1.0000E-04 loss: \t3.37900\n",
            " epoch [0030 / 0050] eta: 0 Days 0:21:0        [0199/885] lr: \t1.0000E-04 loss: \t3.42423\n",
            " epoch [0030 / 0050] eta: 0 Days 0:24:19       [0299/885] lr: \t1.0000E-04 loss: \t3.36254\n",
            " epoch [0030 / 0050] eta: 0 Days 0:30:42       [0399/885] lr: \t1.0000E-04 loss: \t3.37839\n",
            " epoch [0030 / 0050] eta: 0 Days 0:20:3        [0499/885] lr: \t1.0000E-04 loss: \t3.38469\n",
            " epoch [0030 / 0050] eta: 0 Days 0:24:9        [0599/885] lr: \t1.0000E-04 loss: \t3.39255\n",
            " epoch [0030 / 0050] eta: 0 Days 0:18:57       [0699/885] lr: \t1.0000E-04 loss: \t3.39333\n",
            " epoch [0030 / 0050] eta: 0 Days 0:18:39       [0799/885] lr: \t1.0000E-04 loss: \t3.38124\n"
          ]
        },
        {
          "output_type": "stream",
          "name": "stderr",
          "text": [
            "100%|██████████| 13/13 [00:20<00:00,  1.59s/it]\n"
          ]
        },
        {
          "output_type": "stream",
          "name": "stdout",
          "text": [
            "saving last_epoch checkpoint\n",
            "saving min_loss checkpoint\n",
            "val AUROC mean 0.6237\n",
            "Atelectasis 0.6814\n",
            "Cardiomegaly 0.5223\n",
            "Effusion 0.6090\n",
            "Infiltration 0.6026\n",
            "Mass 0.5856\n",
            "Nodule 0.6589\n",
            "Pneumothorax 0.5711\n",
            "Consolidation 0.6614\n",
            "Pleural_Thickening 0.5459\n",
            "Hernia 0.7989\n"
          ]
        },
        {
          "output_type": "stream",
          "name": "stderr",
          "text": [
            "100%|██████████| 99/99 [00:28<00:00,  3.43it/s]\n"
          ]
        },
        {
          "output_type": "stream",
          "name": "stdout",
          "text": [
            "\n",
            "test_seen AUROC mean 0.6055\n",
            "Atelectasis 0.6286\n",
            "Effusion 0.6081\n",
            "Infiltration 0.5903\n",
            "Mass 0.5841\n",
            "Nodule 0.6618\n",
            "Pneumothorax 0.5474\n",
            "Consolidation 0.6327\n",
            "Cardiomegaly 0.5427\n",
            "Pleural_Thickening 0.5577\n",
            "Hernia 0.7019\n",
            "\n",
            "test_unseen AUROC mean 0.4953\n",
            "Edema 0.5318\n",
            "Pneumonia 0.4540\n",
            "Emphysema 0.4926\n",
            "Fibrosis 0.5029\n",
            "best epoch 28 best auroc 0.6261606386065315 loss 3.205737 auroc at min loss 0.6237\n",
            " epoch [0031 / 0050] eta: 0 Days 0:39:9        [0099/885] lr: \t1.0000E-04 loss: \t3.49293\n",
            " epoch [0031 / 0050] eta: 0 Days 0:37:39       [0199/885] lr: \t1.0000E-04 loss: \t3.42419\n",
            " epoch [0031 / 0050] eta: 0 Days 0:28:57       [0299/885] lr: \t1.0000E-04 loss: \t3.40407\n",
            " epoch [0031 / 0050] eta: 0 Days 0:17:47       [0399/885] lr: \t1.0000E-04 loss: \t3.36592\n",
            " epoch [0031 / 0050] eta: 0 Days 0:18:7        [0499/885] lr: \t1.0000E-04 loss: \t3.36261\n",
            " epoch [0031 / 0050] eta: 0 Days 0:24:17       [0599/885] lr: \t1.0000E-04 loss: \t3.36609\n",
            " epoch [0031 / 0050] eta: 0 Days 0:17:53       [0699/885] lr: \t1.0000E-04 loss: \t3.36749\n",
            " epoch [0031 / 0050] eta: 0 Days 0:34:37       [0799/885] lr: \t1.0000E-04 loss: \t3.37943\n"
          ]
        },
        {
          "output_type": "stream",
          "name": "stderr",
          "text": [
            "100%|██████████| 13/13 [00:20<00:00,  1.61s/it]\n"
          ]
        },
        {
          "output_type": "stream",
          "name": "stdout",
          "text": [
            "saving last_epoch checkpoint\n",
            "saving min_loss checkpoint\n",
            "val AUROC mean 0.6231\n",
            "Atelectasis 0.6740\n",
            "Cardiomegaly 0.5320\n",
            "Effusion 0.6205\n",
            "Infiltration 0.6116\n",
            "Mass 0.5680\n",
            "Nodule 0.6460\n",
            "Pneumothorax 0.5607\n",
            "Consolidation 0.6602\n",
            "Pleural_Thickening 0.5360\n",
            "Hernia 0.8217\n"
          ]
        },
        {
          "output_type": "stream",
          "name": "stderr",
          "text": [
            "100%|██████████| 99/99 [00:29<00:00,  3.39it/s]\n"
          ]
        },
        {
          "output_type": "stream",
          "name": "stdout",
          "text": [
            "\n",
            "test_seen AUROC mean 0.5879\n",
            "Atelectasis 0.6268\n",
            "Effusion 0.6117\n",
            "Infiltration 0.5918\n",
            "Mass 0.5592\n",
            "Nodule 0.6487\n",
            "Pneumothorax 0.5062\n",
            "Consolidation 0.6257\n",
            "Cardiomegaly 0.5139\n",
            "Pleural_Thickening 0.5451\n",
            "Hernia 0.6497\n",
            "\n",
            "test_unseen AUROC mean 0.4817\n",
            "Edema 0.6218\n",
            "Pneumonia 0.4147\n",
            "Emphysema 0.4493\n",
            "Fibrosis 0.4410\n",
            "best epoch 28 best auroc 0.6261606386065315 loss 3.193908 auroc at min loss 0.6231\n",
            " epoch [0032 / 0050] eta: 0 Days 0:22:54       [0099/885] lr: \t1.0000E-04 loss: \t3.31298\n",
            " epoch [0032 / 0050] eta: 0 Days 0:22:2        [0199/885] lr: \t1.0000E-04 loss: \t3.32781\n",
            " epoch [0032 / 0050] eta: 0 Days 0:20:30       [0299/885] lr: \t1.0000E-04 loss: \t3.30069\n",
            " epoch [0032 / 0050] eta: 0 Days 0:16:48       [0399/885] lr: \t1.0000E-04 loss: \t3.32415\n",
            " epoch [0032 / 0050] eta: 0 Days 0:16:53       [0499/885] lr: \t1.0000E-04 loss: \t3.34397\n",
            " epoch [0032 / 0050] eta: 0 Days 0:16:49       [0599/885] lr: \t1.0000E-04 loss: \t3.34000\n",
            " epoch [0032 / 0050] eta: 0 Days 0:16:44       [0699/885] lr: \t1.0000E-04 loss: \t3.36031\n",
            " epoch [0032 / 0050] eta: 0 Days 0:21:11       [0799/885] lr: \t1.0000E-04 loss: \t3.35729\n"
          ]
        },
        {
          "output_type": "stream",
          "name": "stderr",
          "text": [
            "100%|██████████| 13/13 [00:20<00:00,  1.58s/it]\n"
          ]
        },
        {
          "output_type": "stream",
          "name": "stdout",
          "text": [
            "saving last_epoch checkpoint\n",
            "val AUROC mean 0.6186\n",
            "Atelectasis 0.6691\n",
            "Cardiomegaly 0.4980\n",
            "Effusion 0.6211\n",
            "Infiltration 0.6113\n",
            "Mass 0.5171\n",
            "Nodule 0.6416\n",
            "Pneumothorax 0.5596\n",
            "Consolidation 0.6764\n",
            "Pleural_Thickening 0.5485\n",
            "Hernia 0.8427\n",
            "best epoch 28 best auroc 0.6261606386065315 loss 3.236148 auroc at min loss 0.6231\n",
            " epoch [0033 / 0050] eta: 0 Days 0:17:0        [0099/885] lr: \t1.0000E-04 loss: \t3.35578\n",
            " epoch [0033 / 0050] eta: 0 Days 0:18:34       [0199/885] lr: \t1.0000E-04 loss: \t3.36757\n",
            " epoch [0033 / 0050] eta: 0 Days 0:17:19       [0299/885] lr: \t1.0000E-04 loss: \t3.34465\n",
            " epoch [0033 / 0050] eta: 0 Days 0:16:19       [0399/885] lr: \t1.0000E-04 loss: \t3.32219\n",
            " epoch [0033 / 0050] eta: 0 Days 0:16:3        [0499/885] lr: \t1.0000E-04 loss: \t3.33267\n",
            " epoch [0033 / 0050] eta: 0 Days 0:15:54       [0599/885] lr: \t1.0000E-04 loss: \t3.33906\n",
            " epoch [0033 / 0050] eta: 0 Days 0:16:9        [0699/885] lr: \t1.0000E-04 loss: \t3.34124\n",
            " epoch [0033 / 0050] eta: 0 Days 0:31:45       [0799/885] lr: \t1.0000E-04 loss: \t3.35737\n"
          ]
        },
        {
          "output_type": "stream",
          "name": "stderr",
          "text": [
            "100%|██████████| 13/13 [00:20<00:00,  1.60s/it]\n"
          ]
        },
        {
          "output_type": "stream",
          "name": "stdout",
          "text": [
            "saving last_epoch checkpoint\n",
            "val AUROC mean 0.6117\n",
            "Atelectasis 0.6683\n",
            "Cardiomegaly 0.5015\n",
            "Effusion 0.6041\n",
            "Infiltration 0.6067\n",
            "Mass 0.5392\n",
            "Nodule 0.6354\n",
            "Pneumothorax 0.5493\n",
            "Consolidation 0.6730\n",
            "Pleural_Thickening 0.5333\n",
            "Hernia 0.8064\n",
            "best epoch 28 best auroc 0.6261606386065315 loss 3.250477 auroc at min loss 0.6231\n",
            " epoch [0034 / 0050] eta: 0 Days 0:16:0        [0099/885] lr: \t1.0000E-04 loss: \t3.46961\n",
            " epoch [0034 / 0050] eta: 0 Days 0:15:56       [0199/885] lr: \t1.0000E-04 loss: \t3.40330\n",
            " epoch [0034 / 0050] eta: 0 Days 0:18:43       [0299/885] lr: \t1.0000E-04 loss: \t3.36598\n",
            " epoch [0034 / 0050] eta: 0 Days 0:15:4        [0399/885] lr: \t1.0000E-04 loss: \t3.37575\n",
            " epoch [0034 / 0050] eta: 0 Days 0:17:55       [0499/885] lr: \t1.0000E-04 loss: \t3.37578\n",
            " epoch [0034 / 0050] eta: 0 Days 0:15:9        [0599/885] lr: \t1.0000E-04 loss: \t3.36592\n",
            " epoch [0034 / 0050] eta: 0 Days 0:15:28       [0699/885] lr: \t1.0000E-04 loss: \t3.37782\n",
            " epoch [0034 / 0050] eta: 0 Days 0:16:15       [0799/885] lr: \t1.0000E-04 loss: \t3.37236\n"
          ]
        },
        {
          "output_type": "stream",
          "name": "stderr",
          "text": [
            "100%|██████████| 13/13 [00:20<00:00,  1.59s/it]\n"
          ]
        },
        {
          "output_type": "stream",
          "name": "stdout",
          "text": [
            "saving last_epoch checkpoint\n",
            "saving min_loss checkpoint\n",
            "val AUROC mean 0.6233\n",
            "Atelectasis 0.6861\n",
            "Cardiomegaly 0.5403\n",
            "Effusion 0.6446\n",
            "Infiltration 0.6204\n",
            "Mass 0.5369\n",
            "Nodule 0.6363\n",
            "Pneumothorax 0.5778\n",
            "Consolidation 0.6459\n",
            "Pleural_Thickening 0.5343\n",
            "Hernia 0.8101\n"
          ]
        },
        {
          "output_type": "stream",
          "name": "stderr",
          "text": [
            "100%|██████████| 99/99 [00:29<00:00,  3.37it/s]\n"
          ]
        },
        {
          "output_type": "stream",
          "name": "stdout",
          "text": [
            "\n",
            "test_seen AUROC mean 0.6061\n",
            "Atelectasis 0.6405\n",
            "Effusion 0.6175\n",
            "Infiltration 0.5948\n",
            "Mass 0.5444\n",
            "Nodule 0.6558\n",
            "Pneumothorax 0.5338\n",
            "Consolidation 0.6350\n",
            "Cardiomegaly 0.5648\n",
            "Pleural_Thickening 0.5467\n",
            "Hernia 0.7276\n",
            "\n",
            "test_unseen AUROC mean 0.4949\n",
            "Edema 0.5650\n",
            "Pneumonia 0.4377\n",
            "Emphysema 0.4776\n",
            "Fibrosis 0.4995\n",
            "best epoch 28 best auroc 0.6261606386065315 loss 3.182632 auroc at min loss 0.6233\n",
            " epoch [0035 / 0050] eta: 0 Days 0:32:25       [0099/885] lr: \t1.0000E-04 loss: \t3.51829\n",
            " epoch [0035 / 0050] eta: 0 Days 0:27:44       [0199/885] lr: \t1.0000E-04 loss: \t3.40602\n",
            " epoch [0035 / 0050] eta: 0 Days 0:19:24       [0299/885] lr: \t1.0000E-04 loss: \t3.34751\n",
            " epoch [0035 / 0050] eta: 0 Days 0:14:20       [0399/885] lr: \t1.0000E-04 loss: \t3.36202\n",
            " epoch [0035 / 0050] eta: 0 Days 0:14:9        [0499/885] lr: \t1.0000E-04 loss: \t3.36873\n",
            " epoch [0035 / 0050] eta: 0 Days 0:13:52       [0599/885] lr: \t1.0000E-04 loss: \t3.35749\n",
            " epoch [0035 / 0050] eta: 0 Days 0:14:4        [0699/885] lr: \t1.0000E-04 loss: \t3.35885\n",
            " epoch [0035 / 0050] eta: 0 Days 0:13:31       [0799/885] lr: \t1.0000E-04 loss: \t3.36067\n"
          ]
        },
        {
          "output_type": "stream",
          "name": "stderr",
          "text": [
            "100%|██████████| 13/13 [00:20<00:00,  1.58s/it]\n"
          ]
        },
        {
          "output_type": "stream",
          "name": "stdout",
          "text": [
            "saving last_epoch checkpoint\n",
            "saving best_auroc checkpoint\n",
            "val AUROC mean 0.6286\n",
            "Atelectasis 0.6810\n",
            "Cardiomegaly 0.5205\n",
            "Effusion 0.6186\n",
            "Infiltration 0.6195\n",
            "Mass 0.6045\n",
            "Nodule 0.6306\n",
            "Pneumothorax 0.5868\n",
            "Consolidation 0.6564\n",
            "Pleural_Thickening 0.5591\n",
            "Hernia 0.8089\n"
          ]
        },
        {
          "output_type": "stream",
          "name": "stderr",
          "text": [
            "100%|██████████| 99/99 [00:29<00:00,  3.36it/s]\n"
          ]
        },
        {
          "output_type": "stream",
          "name": "stdout",
          "text": [
            "\n",
            "test_seen AUROC mean 0.6060\n",
            "Atelectasis 0.6272\n",
            "Effusion 0.5968\n",
            "Infiltration 0.5984\n",
            "Mass 0.5677\n",
            "Nodule 0.6418\n",
            "Pneumothorax 0.5378\n",
            "Consolidation 0.6348\n",
            "Cardiomegaly 0.5364\n",
            "Pleural_Thickening 0.5646\n",
            "Hernia 0.7548\n",
            "\n",
            "test_unseen AUROC mean 0.4932\n",
            "Edema 0.5641\n",
            "Pneumonia 0.4256\n",
            "Emphysema 0.4693\n",
            "Fibrosis 0.5136\n",
            "best epoch 35 best auroc 0.6285836928158246 loss 3.202297 auroc at min loss 0.6233\n",
            " epoch [0036 / 0050] eta: 0 Days 0:16:8        [0099/885] lr: \t1.0000E-04 loss: \t3.42445\n",
            " epoch [0036 / 0050] eta: 0 Days 0:16:33       [0199/885] lr: \t1.0000E-04 loss: \t3.38783\n",
            " epoch [0036 / 0050] eta: 0 Days 0:13:29       [0299/885] lr: \t1.0000E-04 loss: \t3.35592\n",
            " epoch [0036 / 0050] eta: 0 Days 0:13:3        [0399/885] lr: \t1.0000E-04 loss: \t3.34141\n",
            " epoch [0036 / 0050] eta: 0 Days 0:13:55       [0499/885] lr: \t1.0000E-04 loss: \t3.33719\n",
            " epoch [0036 / 0050] eta: 0 Days 0:13:21       [0599/885] lr: \t1.0000E-04 loss: \t3.35272\n",
            " epoch [0036 / 0050] eta: 0 Days 0:13:16       [0699/885] lr: \t1.0000E-04 loss: \t3.36164\n",
            " epoch [0036 / 0050] eta: 0 Days 0:13:21       [0799/885] lr: \t1.0000E-04 loss: \t3.35311\n"
          ]
        },
        {
          "output_type": "stream",
          "name": "stderr",
          "text": [
            "100%|██████████| 13/13 [00:20<00:00,  1.61s/it]\n"
          ]
        },
        {
          "output_type": "stream",
          "name": "stdout",
          "text": [
            "saving last_epoch checkpoint\n",
            "saving best_auroc checkpoint\n",
            "val AUROC mean 0.6323\n",
            "Atelectasis 0.6788\n",
            "Cardiomegaly 0.5667\n",
            "Effusion 0.6314\n",
            "Infiltration 0.6103\n",
            "Mass 0.5958\n",
            "Nodule 0.6406\n",
            "Pneumothorax 0.5431\n",
            "Consolidation 0.6425\n",
            "Pleural_Thickening 0.5661\n",
            "Hernia 0.8476\n"
          ]
        },
        {
          "output_type": "stream",
          "name": "stderr",
          "text": [
            "100%|██████████| 99/99 [00:28<00:00,  3.43it/s]\n"
          ]
        },
        {
          "output_type": "stream",
          "name": "stdout",
          "text": [
            "\n",
            "test_seen AUROC mean 0.6016\n",
            "Atelectasis 0.6392\n",
            "Effusion 0.6198\n",
            "Infiltration 0.5791\n",
            "Mass 0.5622\n",
            "Nodule 0.6629\n",
            "Pneumothorax 0.5348\n",
            "Consolidation 0.6406\n",
            "Cardiomegaly 0.5539\n",
            "Pleural_Thickening 0.5680\n",
            "Hernia 0.6558\n",
            "\n",
            "test_unseen AUROC mean 0.5044\n",
            "Edema 0.5263\n",
            "Pneumonia 0.4358\n",
            "Emphysema 0.4789\n",
            "Fibrosis 0.5765\n",
            "best epoch 36 best auroc 0.6322822929427083 loss 3.206423 auroc at min loss 0.6233\n",
            " epoch [0037 / 0050] eta: 0 Days 0:13:11       [0099/885] lr: \t1.0000E-04 loss: \t3.48915\n",
            " epoch [0037 / 0050] eta: 0 Days 0:16:19       [0199/885] lr: \t1.0000E-04 loss: \t3.41305\n",
            " epoch [0037 / 0050] eta: 0 Days 0:13:22       [0299/885] lr: \t1.0000E-04 loss: \t3.38371\n",
            " epoch [0037 / 0050] eta: 0 Days 0:12:36       [0399/885] lr: \t1.0000E-04 loss: \t3.38747\n",
            " epoch [0037 / 0050] eta: 0 Days 0:14:51       [0499/885] lr: \t1.0000E-04 loss: \t3.37030\n",
            " epoch [0037 / 0050] eta: 0 Days 0:14:47       [0599/885] lr: \t1.0000E-04 loss: \t3.35317\n",
            " epoch [0037 / 0050] eta: 0 Days 0:12:23       [0699/885] lr: \t1.0000E-04 loss: \t3.34963\n",
            " epoch [0037 / 0050] eta: 0 Days 0:12:11       [0799/885] lr: \t1.0000E-04 loss: \t3.34523\n"
          ]
        },
        {
          "output_type": "stream",
          "name": "stderr",
          "text": [
            "100%|██████████| 13/13 [00:20<00:00,  1.60s/it]\n"
          ]
        },
        {
          "output_type": "stream",
          "name": "stdout",
          "text": [
            "saving last_epoch checkpoint\n",
            "val AUROC mean 0.6229\n",
            "Atelectasis 0.6805\n",
            "Cardiomegaly 0.5191\n",
            "Effusion 0.6080\n",
            "Infiltration 0.6179\n",
            "Mass 0.5831\n",
            "Nodule 0.6393\n",
            "Pneumothorax 0.5652\n",
            "Consolidation 0.6389\n",
            "Pleural_Thickening 0.5554\n",
            "Hernia 0.8210\n",
            "best epoch 36 best auroc 0.6322822929427083 loss 3.212497 auroc at min loss 0.6233\n",
            " epoch [0038 / 0050] eta: 0 Days 0:12:3        [0099/885] lr: \t1.0000E-04 loss: \t3.29631\n",
            " epoch [0038 / 0050] eta: 0 Days 0:12:54       [0199/885] lr: \t1.0000E-04 loss: \t3.26687\n",
            " epoch [0038 / 0050] eta: 0 Days 0:14:43       [0299/885] lr: \t1.0000E-04 loss: \t3.32059\n",
            " epoch [0038 / 0050] eta: 0 Days 0:11:27       [0399/885] lr: \t1.0000E-04 loss: \t3.33410\n",
            " epoch [0038 / 0050] eta: 0 Days 0:11:53       [0499/885] lr: \t1.0000E-04 loss: \t3.33760\n",
            " epoch [0038 / 0050] eta: 0 Days 0:12:12       [0599/885] lr: \t1.0000E-04 loss: \t3.32976\n",
            " epoch [0038 / 0050] eta: 0 Days 0:10:54       [0699/885] lr: \t1.0000E-04 loss: \t3.33319\n",
            " epoch [0038 / 0050] eta: 0 Days 0:11:25       [0799/885] lr: \t1.0000E-04 loss: \t3.35592\n"
          ]
        },
        {
          "output_type": "stream",
          "name": "stderr",
          "text": [
            "100%|██████████| 13/13 [00:20<00:00,  1.59s/it]\n"
          ]
        },
        {
          "output_type": "stream",
          "name": "stdout",
          "text": [
            "saving last_epoch checkpoint\n",
            "val AUROC mean 0.6285\n",
            "Atelectasis 0.6774\n",
            "Cardiomegaly 0.5416\n",
            "Effusion 0.6310\n",
            "Infiltration 0.6141\n",
            "Mass 0.5500\n",
            "Nodule 0.6512\n",
            "Pneumothorax 0.5573\n",
            "Consolidation 0.6484\n",
            "Pleural_Thickening 0.5614\n",
            "Hernia 0.8528\n",
            "best epoch 36 best auroc 0.6322822929427083 loss 3.216633 auroc at min loss 0.6233\n",
            " epoch [0039 / 0050] eta: 0 Days 0:11:27       [0099/885] lr: \t1.0000E-04 loss: \t3.37737\n",
            " epoch [0039 / 0050] eta: 0 Days 0:10:57       [0199/885] lr: \t1.0000E-04 loss: \t3.33147\n",
            " epoch [0039 / 0050] eta: 0 Days 0:11:11       [0299/885] lr: \t1.0000E-04 loss: \t3.29690\n",
            " epoch [0039 / 0050] eta: 0 Days 0:10:59       [0399/885] lr: \t1.0000E-04 loss: \t3.33910\n",
            " epoch [0039 / 0050] eta: 0 Days 0:10:30       [0499/885] lr: \t1.0000E-04 loss: \t3.32779\n",
            " epoch [0039 / 0050] eta: 0 Days 0:13:12       [0599/885] lr: \t1.0000E-04 loss: \t3.33142\n",
            " epoch [0039 / 0050] eta: 0 Days 0:10:52       [0699/885] lr: \t1.0000E-04 loss: \t3.33493\n",
            " epoch [0039 / 0050] eta: 0 Days 0:11:58       [0799/885] lr: \t1.0000E-04 loss: \t3.35206\n"
          ]
        },
        {
          "output_type": "stream",
          "name": "stderr",
          "text": [
            "100%|██████████| 13/13 [00:20<00:00,  1.59s/it]\n"
          ]
        },
        {
          "output_type": "stream",
          "name": "stdout",
          "text": [
            "saving last_epoch checkpoint\n",
            "val AUROC mean 0.6266\n",
            "Atelectasis 0.6806\n",
            "Cardiomegaly 0.4944\n",
            "Effusion 0.6359\n",
            "Infiltration 0.6318\n",
            "Mass 0.5693\n",
            "Nodule 0.6461\n",
            "Pneumothorax 0.5923\n",
            "Consolidation 0.6289\n",
            "Pleural_Thickening 0.5566\n",
            "Hernia 0.8297\n",
            "best epoch 36 best auroc 0.6322822929427083 loss 3.207770 auroc at min loss 0.6233\n",
            " epoch [0040 / 0050] eta: 0 Days 0:10:19       [0099/885] lr: \t1.0000E-04 loss: \t3.42227\n",
            " epoch [0040 / 0050] eta: 0 Days 0:9:55        [0199/885] lr: \t1.0000E-04 loss: \t3.39422\n",
            " epoch [0040 / 0050] eta: 0 Days 0:10:3        [0299/885] lr: \t1.0000E-04 loss: \t3.36393\n",
            " epoch [0040 / 0050] eta: 0 Days 0:9:41        [0399/885] lr: \t1.0000E-04 loss: \t3.38953\n",
            " epoch [0040 / 0050] eta: 0 Days 0:16:18       [0499/885] lr: \t1.0000E-04 loss: \t3.36773\n",
            " epoch [0040 / 0050] eta: 0 Days 0:9:30        [0599/885] lr: \t1.0000E-04 loss: \t3.35553\n",
            " epoch [0040 / 0050] eta: 0 Days 0:9:29        [0699/885] lr: \t1.0000E-04 loss: \t3.35427\n",
            " epoch [0040 / 0050] eta: 0 Days 0:9:42        [0799/885] lr: \t1.0000E-04 loss: \t3.35463\n"
          ]
        },
        {
          "output_type": "stream",
          "name": "stderr",
          "text": [
            "100%|██████████| 13/13 [00:20<00:00,  1.56s/it]\n"
          ]
        },
        {
          "output_type": "stream",
          "name": "stdout",
          "text": [
            "saving last_epoch checkpoint\n",
            "val AUROC mean 0.6125\n",
            "Atelectasis 0.6650\n",
            "Cardiomegaly 0.5088\n",
            "Effusion 0.6023\n",
            "Infiltration 0.6160\n",
            "Mass 0.5159\n",
            "Nodule 0.6345\n",
            "Pneumothorax 0.5506\n",
            "Consolidation 0.6711\n",
            "Pleural_Thickening 0.5238\n",
            "Hernia 0.8371\n",
            "best epoch 36 best auroc 0.6322822929427083 loss 3.230349 auroc at min loss 0.6233\n",
            " epoch [0041 / 0050] eta: 0 Days 0:9:17        [0099/885] lr: \t1.0000E-04 loss: \t3.37999\n",
            " epoch [0041 / 0050] eta: 0 Days 0:9:6         [0199/885] lr: \t1.0000E-04 loss: \t3.36576\n",
            " epoch [0041 / 0050] eta: 0 Days 0:8:49        [0299/885] lr: \t1.0000E-04 loss: \t3.35651\n",
            " epoch [0041 / 0050] eta: 0 Days 0:8:56        [0399/885] lr: \t1.0000E-04 loss: \t3.35816\n",
            " epoch [0041 / 0050] eta: 0 Days 0:16:33       [0499/885] lr: \t1.0000E-04 loss: \t3.34385\n",
            " epoch [0041 / 0050] eta: 0 Days 0:11:39       [0599/885] lr: \t1.0000E-04 loss: \t3.32142\n",
            " epoch [0041 / 0050] eta: 0 Days 0:8:39        [0699/885] lr: \t1.0000E-04 loss: \t3.32356\n",
            " epoch [0041 / 0050] eta: 0 Days 0:15:37       [0799/885] lr: \t1.0000E-04 loss: \t3.33351\n"
          ]
        },
        {
          "output_type": "stream",
          "name": "stderr",
          "text": [
            "100%|██████████| 13/13 [00:20<00:00,  1.59s/it]\n"
          ]
        },
        {
          "output_type": "stream",
          "name": "stdout",
          "text": [
            "saving last_epoch checkpoint\n",
            "val AUROC mean 0.6204\n",
            "Atelectasis 0.6586\n",
            "Cardiomegaly 0.5143\n",
            "Effusion 0.6043\n",
            "Infiltration 0.6302\n",
            "Mass 0.5261\n",
            "Nodule 0.6408\n",
            "Pneumothorax 0.5682\n",
            "Consolidation 0.6656\n",
            "Pleural_Thickening 0.5734\n",
            "Hernia 0.8225\n",
            "best epoch 36 best auroc 0.6322822929427083 loss 3.210762 auroc at min loss 0.6233\n",
            " epoch [0042 / 0050] eta: 0 Days 0:8:4         [0099/885] lr: \t1.0000E-04 loss: \t3.38459\n",
            " epoch [0042 / 0050] eta: 0 Days 0:8:6         [0199/885] lr: \t1.0000E-04 loss: \t3.39481\n",
            " epoch [0042 / 0050] eta: 0 Days 0:7:47        [0299/885] lr: \t1.0000E-04 loss: \t3.33562\n",
            " epoch [0042 / 0050] eta: 0 Days 0:7:49        [0399/885] lr: \t1.0000E-04 loss: \t3.34086\n",
            " epoch [0042 / 0050] eta: 0 Days 0:8:19        [0499/885] lr: \t1.0000E-04 loss: \t3.36056\n",
            " epoch [0042 / 0050] eta: 0 Days 0:7:43        [0599/885] lr: \t1.0000E-04 loss: \t3.38050\n",
            " epoch [0042 / 0050] eta: 0 Days 0:7:30        [0699/885] lr: \t1.0000E-04 loss: \t3.34995\n",
            " epoch [0042 / 0050] eta: 0 Days 0:8:7         [0799/885] lr: \t1.0000E-04 loss: \t3.35148\n"
          ]
        },
        {
          "output_type": "stream",
          "name": "stderr",
          "text": [
            "100%|██████████| 13/13 [00:20<00:00,  1.59s/it]\n"
          ]
        },
        {
          "output_type": "stream",
          "name": "stdout",
          "text": [
            "saving last_epoch checkpoint\n",
            "val AUROC mean 0.6202\n",
            "Atelectasis 0.6674\n",
            "Cardiomegaly 0.5561\n",
            "Effusion 0.6170\n",
            "Infiltration 0.6316\n",
            "Mass 0.5504\n",
            "Nodule 0.6292\n",
            "Pneumothorax 0.5655\n",
            "Consolidation 0.6435\n",
            "Pleural_Thickening 0.5239\n",
            "Hernia 0.8172\n",
            "best epoch 36 best auroc 0.6322822929427083 loss 3.219962 auroc at min loss 0.6233\n",
            " epoch [0043 / 0050] eta: 0 Days 0:7:23        [0099/885] lr: \t1.0000E-04 loss: \t3.37236\n",
            " epoch [0043 / 0050] eta: 0 Days 0:7:22        [0199/885] lr: \t1.0000E-04 loss: \t3.36559\n",
            " epoch [0043 / 0050] eta: 0 Days 0:7:7         [0299/885] lr: \t1.0000E-04 loss: \t3.37103\n",
            " epoch [0043 / 0050] eta: 0 Days 0:8:13        [0399/885] lr: \t1.0000E-04 loss: \t3.34515\n",
            " epoch [0043 / 0050] eta: 0 Days 0:7:54        [0499/885] lr: \t1.0000E-04 loss: \t3.33149\n",
            " epoch [0043 / 0050] eta: 0 Days 0:6:50        [0599/885] lr: \t1.0000E-04 loss: \t3.33256\n",
            " epoch [0043 / 0050] eta: 0 Days 0:6:41        [0699/885] lr: \t1.0000E-04 loss: \t3.33422\n",
            " epoch [0043 / 0050] eta: 0 Days 0:8:1         [0799/885] lr: \t1.0000E-04 loss: \t3.32533\n"
          ]
        },
        {
          "output_type": "stream",
          "name": "stderr",
          "text": [
            "100%|██████████| 13/13 [00:20<00:00,  1.59s/it]\n"
          ]
        },
        {
          "output_type": "stream",
          "name": "stdout",
          "text": [
            "saving last_epoch checkpoint\n",
            "val AUROC mean 0.6263\n",
            "Atelectasis 0.6822\n",
            "Cardiomegaly 0.5393\n",
            "Effusion 0.6398\n",
            "Infiltration 0.6193\n",
            "Mass 0.5301\n",
            "Nodule 0.6456\n",
            "Pneumothorax 0.5574\n",
            "Consolidation 0.6662\n",
            "Pleural_Thickening 0.5243\n",
            "Hernia 0.8584\n",
            "best epoch 36 best auroc 0.6322822929427083 loss 3.201656 auroc at min loss 0.6233\n",
            " epoch [0044 / 0050] eta: 0 Days 0:6:11        [0099/885] lr: \t1.0000E-04 loss: \t3.46529\n",
            " epoch [0044 / 0050] eta: 0 Days 0:6:9         [0199/885] lr: \t1.0000E-04 loss: \t3.42816\n",
            " epoch [0044 / 0050] eta: 0 Days 0:7:2         [0299/885] lr: \t1.0000E-04 loss: \t3.38796\n",
            " epoch [0044 / 0050] eta: 0 Days 0:11:30       [0399/885] lr: \t1.0000E-04 loss: \t3.42714\n",
            " epoch [0044 / 0050] eta: 0 Days 0:6:1         [0499/885] lr: \t1.0000E-04 loss: \t3.40613\n",
            " epoch [0044 / 0050] eta: 0 Days 0:5:42        [0599/885] lr: \t1.0000E-04 loss: \t3.37269\n",
            " epoch [0044 / 0050] eta: 0 Days 0:5:43        [0699/885] lr: \t1.0000E-04 loss: \t3.36796\n",
            " epoch [0044 / 0050] eta: 0 Days 0:5:45        [0799/885] lr: \t1.0000E-04 loss: \t3.35040\n"
          ]
        },
        {
          "output_type": "stream",
          "name": "stderr",
          "text": [
            "100%|██████████| 13/13 [00:20<00:00,  1.56s/it]\n"
          ]
        },
        {
          "output_type": "stream",
          "name": "stdout",
          "text": [
            "saving last_epoch checkpoint\n",
            "val AUROC mean 0.6186\n",
            "Atelectasis 0.6845\n",
            "Cardiomegaly 0.5265\n",
            "Effusion 0.6125\n",
            "Infiltration 0.6203\n",
            "Mass 0.5006\n",
            "Nodule 0.6330\n",
            "Pneumothorax 0.5559\n",
            "Consolidation 0.6754\n",
            "Pleural_Thickening 0.5522\n",
            "Hernia 0.8246\n",
            "best epoch 36 best auroc 0.6322822929427083 loss 3.210690 auroc at min loss 0.6233\n",
            " epoch [0045 / 0050] eta: 0 Days 0:5:37        [0099/885] lr: \t1.0000E-04 loss: \t3.38245\n",
            " epoch [0045 / 0050] eta: 0 Days 0:5:21        [0199/885] lr: \t1.0000E-04 loss: \t3.34693\n",
            " epoch [0045 / 0050] eta: 0 Days 0:5:26        [0299/885] lr: \t1.0000E-04 loss: \t3.32045\n",
            " epoch [0045 / 0050] eta: 0 Days 0:5:24        [0399/885] lr: \t1.0000E-04 loss: \t3.29552\n",
            " epoch [0045 / 0050] eta: 0 Days 0:5:7         [0499/885] lr: \t1.0000E-04 loss: \t3.29705\n",
            " epoch [0045 / 0050] eta: 0 Days 0:4:50        [0599/885] lr: \t1.0000E-04 loss: \t3.31080\n",
            " epoch [0045 / 0050] eta: 0 Days 0:4:51        [0699/885] lr: \t1.0000E-04 loss: \t3.31662\n",
            " epoch [0045 / 0050] eta: 0 Days 0:4:48        [0799/885] lr: \t1.0000E-04 loss: \t3.32069\n"
          ]
        },
        {
          "output_type": "stream",
          "name": "stderr",
          "text": [
            "100%|██████████| 13/13 [00:20<00:00,  1.56s/it]\n"
          ]
        },
        {
          "output_type": "stream",
          "name": "stdout",
          "text": [
            "saving last_epoch checkpoint\n",
            "val AUROC mean 0.6279\n",
            "Atelectasis 0.6887\n",
            "Cardiomegaly 0.5373\n",
            "Effusion 0.6289\n",
            "Infiltration 0.6227\n",
            "Mass 0.5114\n",
            "Nodule 0.6447\n",
            "Pneumothorax 0.5866\n",
            "Consolidation 0.6736\n",
            "Pleural_Thickening 0.5472\n",
            "Hernia 0.8376\n",
            "best epoch 36 best auroc 0.6322822929427083 loss 3.184464 auroc at min loss 0.6233\n",
            " epoch [0046 / 0050] eta: 0 Days 0:5:16        [0099/885] lr: \t1.0000E-06 loss: \t3.37949\n",
            " epoch [0046 / 0050] eta: 0 Days 0:4:17        [0199/885] lr: \t1.0000E-06 loss: \t3.36348\n",
            " epoch [0046 / 0050] eta: 0 Days 0:4:19        [0299/885] lr: \t1.0000E-06 loss: \t3.32998\n",
            " epoch [0046 / 0050] eta: 0 Days 0:4:23        [0399/885] lr: \t1.0000E-06 loss: \t3.30269\n",
            " epoch [0046 / 0050] eta: 0 Days 0:4:2         [0499/885] lr: \t1.0000E-06 loss: \t3.31294\n",
            " epoch [0046 / 0050] eta: 0 Days 0:7:7         [0599/885] lr: \t1.0000E-06 loss: \t3.32515\n",
            " epoch [0046 / 0050] eta: 0 Days 0:5:23        [0699/885] lr: \t1.0000E-06 loss: \t3.31784\n",
            " epoch [0046 / 0050] eta: 0 Days 0:5:0         [0799/885] lr: \t1.0000E-06 loss: \t3.32014\n"
          ]
        },
        {
          "output_type": "stream",
          "name": "stderr",
          "text": [
            "100%|██████████| 13/13 [00:20<00:00,  1.60s/it]\n"
          ]
        },
        {
          "output_type": "stream",
          "name": "stdout",
          "text": [
            "saving last_epoch checkpoint\n",
            "saving min_loss checkpoint\n",
            "val AUROC mean 0.6281\n",
            "Atelectasis 0.6927\n",
            "Cardiomegaly 0.5353\n",
            "Effusion 0.6190\n",
            "Infiltration 0.6167\n",
            "Mass 0.5189\n",
            "Nodule 0.6545\n",
            "Pneumothorax 0.5798\n",
            "Consolidation 0.6799\n",
            "Pleural_Thickening 0.5576\n",
            "Hernia 0.8267\n"
          ]
        },
        {
          "output_type": "stream",
          "name": "stderr",
          "text": [
            "100%|██████████| 99/99 [00:29<00:00,  3.37it/s]\n"
          ]
        },
        {
          "output_type": "stream",
          "name": "stdout",
          "text": [
            "\n",
            "test_seen AUROC mean 0.6131\n",
            "Atelectasis 0.6396\n",
            "Effusion 0.6188\n",
            "Infiltration 0.5975\n",
            "Mass 0.5559\n",
            "Nodule 0.6592\n",
            "Pneumothorax 0.5275\n",
            "Consolidation 0.6388\n",
            "Cardiomegaly 0.5837\n",
            "Pleural_Thickening 0.5682\n",
            "Hernia 0.7416\n",
            "\n",
            "test_unseen AUROC mean 0.4738\n",
            "Edema 0.4532\n",
            "Pneumonia 0.4331\n",
            "Emphysema 0.4479\n",
            "Fibrosis 0.5609\n",
            "best epoch 36 best auroc 0.6322822929427083 loss 3.177710 auroc at min loss 0.6281\n",
            " epoch [0047 / 0050] eta: 0 Days 0:3:35        [0099/885] lr: \t1.0000E-06 loss: \t3.27418\n",
            " epoch [0047 / 0050] eta: 0 Days 0:3:33        [0199/885] lr: \t1.0000E-06 loss: \t3.29045\n",
            " epoch [0047 / 0050] eta: 0 Days 0:3:22        [0299/885] lr: \t1.0000E-06 loss: \t3.29814\n",
            " epoch [0047 / 0050] eta: 0 Days 0:3:54        [0399/885] lr: \t1.0000E-06 loss: \t3.27968\n",
            " epoch [0047 / 0050] eta: 0 Days 0:3:6         [0499/885] lr: \t1.0000E-06 loss: \t3.29040\n",
            " epoch [0047 / 0050] eta: 0 Days 0:3:13        [0599/885] lr: \t1.0000E-06 loss: \t3.30102\n",
            " epoch [0047 / 0050] eta: 0 Days 0:2:54        [0699/885] lr: \t1.0000E-06 loss: \t3.30614\n",
            " epoch [0047 / 0050] eta: 0 Days 0:2:47        [0799/885] lr: \t1.0000E-06 loss: \t3.29976\n"
          ]
        },
        {
          "output_type": "stream",
          "name": "stderr",
          "text": [
            "100%|██████████| 13/13 [00:20<00:00,  1.56s/it]\n"
          ]
        },
        {
          "output_type": "stream",
          "name": "stdout",
          "text": [
            "saving last_epoch checkpoint\n",
            "saving min_loss checkpoint\n",
            "val AUROC mean 0.6274\n",
            "Atelectasis 0.6906\n",
            "Cardiomegaly 0.5373\n",
            "Effusion 0.6269\n",
            "Infiltration 0.6162\n",
            "Mass 0.5143\n",
            "Nodule 0.6496\n",
            "Pneumothorax 0.5821\n",
            "Consolidation 0.6796\n",
            "Pleural_Thickening 0.5429\n",
            "Hernia 0.8350\n"
          ]
        },
        {
          "output_type": "stream",
          "name": "stderr",
          "text": [
            "100%|██████████| 99/99 [00:28<00:00,  3.49it/s]\n"
          ]
        },
        {
          "output_type": "stream",
          "name": "stdout",
          "text": [
            "\n",
            "test_seen AUROC mean 0.6111\n",
            "Atelectasis 0.6430\n",
            "Effusion 0.6246\n",
            "Infiltration 0.5953\n",
            "Mass 0.5522\n",
            "Nodule 0.6561\n",
            "Pneumothorax 0.5319\n",
            "Consolidation 0.6375\n",
            "Cardiomegaly 0.5810\n",
            "Pleural_Thickening 0.5617\n",
            "Hernia 0.7277\n",
            "\n",
            "test_unseen AUROC mean 0.4769\n",
            "Edema 0.4717\n",
            "Pneumonia 0.4369\n",
            "Emphysema 0.4461\n",
            "Fibrosis 0.5528\n",
            "best epoch 36 best auroc 0.6322822929427083 loss 3.175627 auroc at min loss 0.6274\n",
            " epoch [0048 / 0050] eta: 0 Days 0:2:38        [0099/885] lr: \t1.0000E-06 loss: \t3.30451\n",
            " epoch [0048 / 0050] eta: 0 Days 0:3:4         [0199/885] lr: \t1.0000E-06 loss: \t3.29541\n",
            " epoch [0048 / 0050] eta: 0 Days 0:2:51        [0299/885] lr: \t1.0000E-06 loss: \t3.31802\n",
            " epoch [0048 / 0050] eta: 0 Days 0:2:21        [0399/885] lr: \t1.0000E-06 loss: \t3.30630\n",
            " epoch [0048 / 0050] eta: 0 Days 0:2:24        [0499/885] lr: \t1.0000E-06 loss: \t3.30466\n",
            " epoch [0048 / 0050] eta: 0 Days 0:2:6         [0599/885] lr: \t1.0000E-06 loss: \t3.30302\n",
            " epoch [0048 / 0050] eta: 0 Days 0:2:1         [0699/885] lr: \t1.0000E-06 loss: \t3.30840\n",
            " epoch [0048 / 0050] eta: 0 Days 0:1:55        [0799/885] lr: \t1.0000E-06 loss: \t3.31955\n"
          ]
        },
        {
          "output_type": "stream",
          "name": "stderr",
          "text": [
            "100%|██████████| 13/13 [00:20<00:00,  1.56s/it]\n"
          ]
        },
        {
          "output_type": "stream",
          "name": "stdout",
          "text": [
            "saving last_epoch checkpoint\n",
            "val AUROC mean 0.6279\n",
            "Atelectasis 0.6899\n",
            "Cardiomegaly 0.5354\n",
            "Effusion 0.6279\n",
            "Infiltration 0.6201\n",
            "Mass 0.5118\n",
            "Nodule 0.6490\n",
            "Pneumothorax 0.5807\n",
            "Consolidation 0.6775\n",
            "Pleural_Thickening 0.5522\n",
            "Hernia 0.8344\n",
            "best epoch 36 best auroc 0.6322822929427083 loss 3.176630 auroc at min loss 0.6274\n",
            " epoch [0049 / 0050] eta: 0 Days 0:1:56        [0099/885] lr: \t1.0000E-06 loss: \t3.42736\n",
            " epoch [0049 / 0050] eta: 0 Days 0:1:41        [0199/885] lr: \t1.0000E-06 loss: \t3.36432\n",
            " epoch [0049 / 0050] eta: 0 Days 0:1:33        [0299/885] lr: \t1.0000E-06 loss: \t3.34033\n",
            " epoch [0049 / 0050] eta: 0 Days 0:1:52        [0399/885] lr: \t1.0000E-06 loss: \t3.31839\n",
            " epoch [0049 / 0050] eta: 0 Days 0:1:31        [0499/885] lr: \t1.0000E-06 loss: \t3.31536\n",
            " epoch [0049 / 0050] eta: 0 Days 0:1:11        [0599/885] lr: \t1.0000E-06 loss: \t3.30144\n",
            " epoch [0049 / 0050] eta: 0 Days 0:1:8         [0699/885] lr: \t1.0000E-06 loss: \t3.32413\n",
            " epoch [0049 / 0050] eta: 0 Days 0:1:0         [0799/885] lr: \t1.0000E-06 loss: \t3.32398\n"
          ]
        },
        {
          "output_type": "stream",
          "name": "stderr",
          "text": [
            "100%|██████████| 13/13 [00:20<00:00,  1.59s/it]\n"
          ]
        },
        {
          "output_type": "stream",
          "name": "stdout",
          "text": [
            "saving last_epoch checkpoint\n",
            "saving min_loss checkpoint\n",
            "val AUROC mean 0.6288\n",
            "Atelectasis 0.6932\n",
            "Cardiomegaly 0.5409\n",
            "Effusion 0.6249\n",
            "Infiltration 0.6154\n",
            "Mass 0.5139\n",
            "Nodule 0.6514\n",
            "Pneumothorax 0.5813\n",
            "Consolidation 0.6777\n",
            "Pleural_Thickening 0.5552\n",
            "Hernia 0.8343\n"
          ]
        },
        {
          "output_type": "stream",
          "name": "stderr",
          "text": [
            "100%|██████████| 99/99 [00:29<00:00,  3.41it/s]\n"
          ]
        },
        {
          "output_type": "stream",
          "name": "stdout",
          "text": [
            "\n",
            "test_seen AUROC mean 0.6118\n",
            "Atelectasis 0.6444\n",
            "Effusion 0.6225\n",
            "Infiltration 0.5970\n",
            "Mass 0.5536\n",
            "Nodule 0.6588\n",
            "Pneumothorax 0.5261\n",
            "Consolidation 0.6380\n",
            "Cardiomegaly 0.5841\n",
            "Pleural_Thickening 0.5658\n",
            "Hernia 0.7280\n",
            "\n",
            "test_unseen AUROC mean 0.4763\n",
            "Edema 0.4649\n",
            "Pneumonia 0.4350\n",
            "Emphysema 0.4448\n",
            "Fibrosis 0.5603\n",
            "best epoch 36 best auroc 0.6322822929427083 loss 3.173509 auroc at min loss 0.6288\n",
            " epoch [0050 / 0050] eta: 0 Days 0:0:50        [0099/885] lr: \t1.0000E-06 loss: \t3.36265\n",
            " epoch [0050 / 0050] eta: 0 Days 0:0:50        [0199/885] lr: \t1.0000E-06 loss: \t3.30847\n",
            " epoch [0050 / 0050] eta: 0 Days 0:0:36        [0299/885] lr: \t1.0000E-06 loss: \t3.34449\n",
            " epoch [0050 / 0050] eta: 0 Days 0:0:30        [0399/885] lr: \t1.0000E-06 loss: \t3.32890\n",
            " epoch [0050 / 0050] eta: 0 Days 0:0:28        [0499/885] lr: \t1.0000E-06 loss: \t3.32202\n",
            " epoch [0050 / 0050] eta: 0 Days 0:0:17        [0599/885] lr: \t1.0000E-06 loss: \t3.31660\n",
            " epoch [0050 / 0050] eta: 0 Days 0:0:12        [0699/885] lr: \t1.0000E-06 loss: \t3.31261\n",
            " epoch [0050 / 0050] eta: 0 Days 0:0:6         [0799/885] lr: \t1.0000E-06 loss: \t3.31536\n"
          ]
        },
        {
          "output_type": "stream",
          "name": "stderr",
          "text": [
            "100%|██████████| 13/13 [00:19<00:00,  1.54s/it]\n"
          ]
        },
        {
          "output_type": "stream",
          "name": "stdout",
          "text": [
            "saving last_epoch checkpoint\n",
            "val AUROC mean 0.6306\n",
            "Atelectasis 0.6923\n",
            "Cardiomegaly 0.5394\n",
            "Effusion 0.6258\n",
            "Infiltration 0.6096\n",
            "Mass 0.5234\n",
            "Nodule 0.6584\n",
            "Pneumothorax 0.5864\n",
            "Consolidation 0.6816\n",
            "Pleural_Thickening 0.5457\n",
            "Hernia 0.8430\n",
            "best epoch 36 best auroc 0.6322822929427083 loss 3.177320 auroc at min loss 0.6288\n"
          ]
        },
        {
          "output_type": "stream",
          "name": "stderr",
          "text": [
            "100%|██████████| 99/99 [00:29<00:00,  3.36it/s]\n"
          ]
        }
      ]
    },
    {
      "cell_type": "markdown",
      "source": [
        "## Results"
      ],
      "metadata": {
        "id": "wGla3zrJp2C-"
      }
    },
    {
      "cell_type": "code",
      "source": [
        "df = pd.DataFrame(results).T.round(2)\n",
        "\n",
        "fig, ax = plt.subplots()\n",
        "ax.axis('off')\n",
        "\n",
        "tbl = table(ax, df, loc='center', colWidths=[ 0.02 * (len(col)+2) for col in df.columns.tolist() ])\n",
        "tbl.auto_set_font_size(False)\n",
        "tbl.set_fontsize(12)\n",
        "tbl.scale(1.2, 2)\n",
        "\n",
        "plt.savefig(\"extension.png\", dpi=300, bbox_inches='tight')\n",
        "plt.show()\n",
        "\n",
        "os.replace(\"extension.png\", f\"{DRIVE_PATH}/extension.png\")"
      ],
      "metadata": {
        "colab": {
          "base_uri": "https://localhost:8080/",
          "height": 406
        },
        "id": "t8QN8AH8p3gC",
        "outputId": "bfed8a0f-b242-4310-cb73-b2087f1b994e"
      },
      "execution_count": 16,
      "outputs": [
        {
          "output_type": "display_data",
          "data": {
            "text/plain": [
              "<Figure size 640x480 with 1 Axes>"
            ],
            "image/png": "[encoded data removed]"
          },
          "metadata": {}
        }
      ]
    }
  ]
}